{
 "cells": [
  {
   "cell_type": "markdown",
   "metadata": {
    "toc": true
   },
   "source": [
    "<h1>Содержание<span class=\"tocSkip\"></span></h1>\n",
    "<div class=\"toc\"><ul class=\"toc-item\"><li><span><a href=\"#Открытие-данных-с-файлами-и-изучение-общей-информации\" data-toc-modified-id=\"Открытие-данных-с-файлами-и-изучение-общей-информации-1\"><span class=\"toc-item-num\">1&nbsp;&nbsp;</span>Открытие данных с файлами и изучение общей информации</a></span><ul class=\"toc-item\"><li><span><a href=\"#Открытие-файлов-с-данными\" data-toc-modified-id=\"Открытие-файлов-с-данными-1.1\"><span class=\"toc-item-num\">1.1&nbsp;&nbsp;</span>Открытие файлов с данными</a></span></li></ul></li><li><span><a href=\"#Подготовка-данных\" data-toc-modified-id=\"Подготовка-данных-2\"><span class=\"toc-item-num\">2&nbsp;&nbsp;</span>Подготовка данных</a></span><ul class=\"toc-item\"><li><span><a href=\"#Подготовка-данных-таблицы-users\" data-toc-modified-id=\"Подготовка-данных-таблицы-users-2.1\"><span class=\"toc-item-num\">2.1&nbsp;&nbsp;</span>Подготовка данных таблицы <em>users</em></a></span></li><li><span><a href=\"#Подготовка-данных-таблицы-calls\" data-toc-modified-id=\"Подготовка-данных-таблицы-calls-2.2\"><span class=\"toc-item-num\">2.2&nbsp;&nbsp;</span>Подготовка данных таблицы <em>calls</em></a></span></li><li><span><a href=\"#Подготовка-данных-таблицы-messages\" data-toc-modified-id=\"Подготовка-данных-таблицы-messages-2.3\"><span class=\"toc-item-num\">2.3&nbsp;&nbsp;</span>Подготовка данных таблицы <em>messages</em></a></span></li><li><span><a href=\"#Подготовка-данных-таблицы-internet\" data-toc-modified-id=\"Подготовка-данных-таблицы-internet-2.4\"><span class=\"toc-item-num\">2.4&nbsp;&nbsp;</span>Подготовка данных таблицы <em>internet</em></a></span></li><li><span><a href=\"#Подготовка-данных-таблицы-tariffs\" data-toc-modified-id=\"Подготовка-данных-таблицы-tariffs-2.5\"><span class=\"toc-item-num\">2.5&nbsp;&nbsp;</span>Подготовка данных таблицы <em>tariffs</em></a></span></li><li><span><a href=\"#Объединение-сгруппированных-таблиц-в-одну\" data-toc-modified-id=\"Объединение-сгруппированных-таблиц-в-одну-2.6\"><span class=\"toc-item-num\">2.6&nbsp;&nbsp;</span>Объединение сгруппированных таблиц в одну</a></span></li><li><span><a href=\"#Расчет-помесячной-выручки-с-каждого-пользователя\" data-toc-modified-id=\"Расчет-помесячной-выручки-с-каждого-пользователя-2.7\"><span class=\"toc-item-num\">2.7&nbsp;&nbsp;</span>Расчет помесячной выручки с каждого пользователя</a></span></li><li><span><a href=\"#Вывод-по-подготовке-данных\" data-toc-modified-id=\"Вывод-по-подготовке-данных-2.8\"><span class=\"toc-item-num\">2.8&nbsp;&nbsp;</span>Вывод по подготовке данных</a></span></li></ul></li><li><span><a href=\"#Анализ-данных\" data-toc-modified-id=\"Анализ-данных-3\"><span class=\"toc-item-num\">3&nbsp;&nbsp;</span>Анализ данных</a></span><ul class=\"toc-item\"><li><span><a href=\"#Анализ-количества-минут-разговора-для-тарифов-smart-и-ultra\" data-toc-modified-id=\"Анализ-количества-минут-разговора-для-тарифов-smart-и-ultra-3.1\"><span class=\"toc-item-num\">3.1&nbsp;&nbsp;</span>Анализ количества минут разговора для тарифов <em>smart</em> и <em>ultra</em></a></span></li><li><span><a href=\"#Анализ-количества-сообщений-для-тарифов-smart-и-ultra\" data-toc-modified-id=\"Анализ-количества-сообщений-для-тарифов-smart-и-ultra-3.2\"><span class=\"toc-item-num\">3.2&nbsp;&nbsp;</span>Анализ количества сообщений для тарифов <em>smart</em> и <em>ultra</em></a></span></li><li><span><a href=\"#Анализ-объема-веб-трафика-для-тарифов-smart-и-ultra\" data-toc-modified-id=\"Анализ-объема-веб-трафика-для-тарифов-smart-и-ultra-3.3\"><span class=\"toc-item-num\">3.3&nbsp;&nbsp;</span>Анализ объема веб-трафика для тарифов <em>smart</em> и <em>ultra</em></a></span></li><li><span><a href=\"#Анализ-помесячной-выручки-для-тарифов-smart-и-ultra\" data-toc-modified-id=\"Анализ-помесячной-выручки-для-тарифов-smart-и-ultra-3.4\"><span class=\"toc-item-num\">3.4&nbsp;&nbsp;</span>Анализ помесячной выручки для тарифов <em>smart</em> и <em>ultra</em></a></span></li><li><span><a href=\"#Вывод-по-анализу-данных\" data-toc-modified-id=\"Вывод-по-анализу-данных-3.5\"><span class=\"toc-item-num\">3.5&nbsp;&nbsp;</span>Вывод по анализу данных</a></span></li></ul></li><li><span><a href=\"#Формулировка-и-проверка-гипотез\" data-toc-modified-id=\"Формулировка-и-проверка-гипотез-4\"><span class=\"toc-item-num\">4&nbsp;&nbsp;</span>Формулировка и проверка гипотез</a></span><ul class=\"toc-item\"><li><span><a href=\"#Проверка-гипотезы-о-том,-что-средняя-выручка-пользователей-тарифов-«Ultra»-и-«Smart»-различаются\" data-toc-modified-id=\"Проверка-гипотезы-о-том,-что-средняя-выручка-пользователей-тарифов-«Ultra»-и-«Smart»-различаются-4.1\"><span class=\"toc-item-num\">4.1&nbsp;&nbsp;</span>Проверка гипотезы о том, что средняя выручка пользователей тарифов «Ultra» и «Smart» различаются</a></span></li><li><span><a href=\"#Проверка-гипотезы-о-том,-что-средняя-выручка-пользователей-из-Москвы-отличается-от-выручки-пользователей-из-других-регионов\" data-toc-modified-id=\"Проверка-гипотезы-о-том,-что-средняя-выручка-пользователей-из-Москвы-отличается-от-выручки-пользователей-из-других-регионов-4.2\"><span class=\"toc-item-num\">4.2&nbsp;&nbsp;</span>Проверка гипотезы о том, что средняя выручка пользователей из Москвы отличается от выручки пользователей из других регионов</a></span></li></ul></li><li><span><a href=\"#Общий-вывод\" data-toc-modified-id=\"Общий-вывод-5\"><span class=\"toc-item-num\">5&nbsp;&nbsp;</span>Общий вывод</a></span></li></ul></div>"
   ]
  },
  {
   "cell_type": "markdown",
   "metadata": {},
   "source": [
    "# Определение перспективного тарифа для телеком-компании\n",
    "Компания «Мегалайн» — федеральный оператор сотовой связи. Клиентам компании предлагают два тарифных плана: «Смарт» и «Ультра». Чтобы скорректировать рекламный бюджет, коммерческий департамент хочет понять, какой тариф приносит больше денег.\n",
    "\n",
    "В данном проекте нам предстоит сделать предварительный анализ тарифов на небольшой выборке клиентов. В нашем распоряжении данные 500 пользователей «Мегалайна»: кто они, откуда, каким тарифом пользуются, сколько звонков и сообщений каждый отправил за 2018 год. \n",
    "\n",
    "**Цель исследования**: проанализировать поведение клиентов и сделать вывод — какой тариф лучше.\n",
    "\n",
    "**Описание тарифов**\n",
    "\n",
    "**Тариф «Смарт»**\n",
    "1. Ежемесячная плата: 550 рублей\n",
    "2. Включено 500 минут разговора, 50 сообщений и 15 Гб интернет-трафика\n",
    "3. Стоимость услуг сверх тарифного пакета:\n",
    "- минута разговора: 3 рубля\n",
    "- сообщение: 3 рубля\n",
    "- 1 Гб интернет-трафика: 200 рублей\n",
    "\n",
    "**Тариф «Ультра»**\n",
    "1. Ежемесячная плата: 1950 рублей\n",
    "2. Включено 3000 минут разговора, 1000 сообщений и 30 Гб интернет-трафика\n",
    "3. Стоимость услуг сверх тарифного пакета:\n",
    "- минута разговора: 1 рубль\n",
    "- сообщение: 1 рубль\n",
    "- 1 Гб интернет-трафика: 150 рублей\n",
    "\n",
    "**Описание данных**\n",
    "\n",
    "Таблица **users** (информация о пользователях), расположенная по адресу `/datasets/users.csv`:\n",
    "- user_id — уникальный идентификатор пользователя\n",
    "- first_name — имя пользователя\n",
    "- last_name — фамилия пользователя\n",
    "- age — возраст пользователя (годы)\n",
    "- reg_date — дата подключения тарифа (день, месяц, год)\n",
    "- churn_date — дата прекращения пользования тарифом (если значение пропущено, то тариф ещё действовал на момент выгрузки данных)\n",
    "- city — город проживания пользователя\n",
    "- tarif — название тарифного плана\n",
    "\n",
    "Таблица **calls** (информация о звонках), расположенная по адресу `/datasets/calls.csv`:\n",
    "- id — уникальный номер звонка\n",
    "- call_date — дата звонка\n",
    "- duration — длительность звонка в минутах\n",
    "- user_id — идентификатор пользователя, сделавшего звонок\n",
    "\n",
    "Таблица **messages** (информация о сообщениях), расположенная по адресу `/datasets/messages.csv`:\n",
    "- id — уникальный номер сообщения\n",
    "- message_date — дата сообщения\n",
    "- user_id — идентификатор пользователя, отправившего сообщение\n",
    "\n",
    "Таблица **internet** (информация об интернет-сессиях), расположенная по адресу `/datasets/internet.csv`:\n",
    "- id — уникальный номер сессии\n",
    "- mb_used — объём потраченного за сессию интернет-трафика (в мегабайтах)\n",
    "- session_date — дата интернет-сессии\n",
    "- user_id — идентификатор пользователя\n",
    "\n",
    "Таблица **tariffs** (информация о тарифах), расположенная по адресу `/datasets/tariffs.csv`:\n",
    "- tariff_name — название тарифа\n",
    "- rub_monthly_fee — ежемесячная абонентская плата в рублях\n",
    "- minutes_included — количество минут разговора в месяц, включённых в абонентскую плату\n",
    "- messages_included — количество сообщений в месяц, включённых в абонентскую плату\n",
    "- mb_per_month_included — объём интернет-трафика, включённого в абонентскую плату (в мегабайтах)\n",
    "- rub_per_minute — стоимость минуты разговора сверх тарифного пакета (например, если в тарифе 100 минут разговора в месяц, то со 101 минуты будет взиматься плата)\n",
    "- rub_per_message — стоимость отправки сообщения сверх тарифного пакета\n",
    "- rub_per_gb — стоимость дополнительного гигабайта интернет-трафика сверх тарифного пакета (1 гигабайт = 1024 мегабайта)"
   ]
  },
  {
   "cell_type": "markdown",
   "metadata": {},
   "source": [
    "## Открытие данных с файлами и изучение общей информации"
   ]
  },
  {
   "cell_type": "markdown",
   "metadata": {},
   "source": [
    "Перед началом работы с данными импортируем все необходимые библиотеки:"
   ]
  },
  {
   "cell_type": "code",
   "execution_count": 1,
   "metadata": {},
   "outputs": [],
   "source": [
    "import pandas as pd\n",
    "pd.set_option('display.float_format', '{:,.2f}'.format)\n",
    "import matplotlib.pyplot as plt\n",
    "import seaborn as sns\n",
    "import numpy as np\n",
    "from scipy import stats as st"
   ]
  },
  {
   "cell_type": "markdown",
   "metadata": {},
   "source": [
    "### Открытие файлов с данными\n",
    "С помощью библиотеки Pandas откроем файлы и ознакомимся с данными:"
   ]
  },
  {
   "cell_type": "code",
   "execution_count": 2,
   "metadata": {},
   "outputs": [
    {
     "data": {
      "text/html": [
       "<div>\n",
       "<style scoped>\n",
       "    .dataframe tbody tr th:only-of-type {\n",
       "        vertical-align: middle;\n",
       "    }\n",
       "\n",
       "    .dataframe tbody tr th {\n",
       "        vertical-align: top;\n",
       "    }\n",
       "\n",
       "    .dataframe thead th {\n",
       "        text-align: right;\n",
       "    }\n",
       "</style>\n",
       "<table border=\"1\" class=\"dataframe\">\n",
       "  <thead>\n",
       "    <tr style=\"text-align: right;\">\n",
       "      <th></th>\n",
       "      <th>user_id</th>\n",
       "      <th>age</th>\n",
       "      <th>churn_date</th>\n",
       "      <th>city</th>\n",
       "      <th>first_name</th>\n",
       "      <th>last_name</th>\n",
       "      <th>reg_date</th>\n",
       "      <th>tariff</th>\n",
       "    </tr>\n",
       "  </thead>\n",
       "  <tbody>\n",
       "    <tr>\n",
       "      <td>0</td>\n",
       "      <td>1000</td>\n",
       "      <td>52</td>\n",
       "      <td>NaN</td>\n",
       "      <td>Краснодар</td>\n",
       "      <td>Рафаил</td>\n",
       "      <td>Верещагин</td>\n",
       "      <td>2018-05-25</td>\n",
       "      <td>ultra</td>\n",
       "    </tr>\n",
       "    <tr>\n",
       "      <td>1</td>\n",
       "      <td>1001</td>\n",
       "      <td>41</td>\n",
       "      <td>NaN</td>\n",
       "      <td>Москва</td>\n",
       "      <td>Иван</td>\n",
       "      <td>Ежов</td>\n",
       "      <td>2018-11-01</td>\n",
       "      <td>smart</td>\n",
       "    </tr>\n",
       "    <tr>\n",
       "      <td>2</td>\n",
       "      <td>1002</td>\n",
       "      <td>59</td>\n",
       "      <td>NaN</td>\n",
       "      <td>Стерлитамак</td>\n",
       "      <td>Евгений</td>\n",
       "      <td>Абрамович</td>\n",
       "      <td>2018-06-17</td>\n",
       "      <td>smart</td>\n",
       "    </tr>\n",
       "    <tr>\n",
       "      <td>3</td>\n",
       "      <td>1003</td>\n",
       "      <td>23</td>\n",
       "      <td>NaN</td>\n",
       "      <td>Москва</td>\n",
       "      <td>Белла</td>\n",
       "      <td>Белякова</td>\n",
       "      <td>2018-08-17</td>\n",
       "      <td>ultra</td>\n",
       "    </tr>\n",
       "    <tr>\n",
       "      <td>4</td>\n",
       "      <td>1004</td>\n",
       "      <td>68</td>\n",
       "      <td>NaN</td>\n",
       "      <td>Новокузнецк</td>\n",
       "      <td>Татьяна</td>\n",
       "      <td>Авдеенко</td>\n",
       "      <td>2018-05-14</td>\n",
       "      <td>ultra</td>\n",
       "    </tr>\n",
       "    <tr>\n",
       "      <td>5</td>\n",
       "      <td>1005</td>\n",
       "      <td>67</td>\n",
       "      <td>NaN</td>\n",
       "      <td>Набережные Челны</td>\n",
       "      <td>Афанасий</td>\n",
       "      <td>Горлов</td>\n",
       "      <td>2018-01-25</td>\n",
       "      <td>smart</td>\n",
       "    </tr>\n",
       "    <tr>\n",
       "      <td>6</td>\n",
       "      <td>1006</td>\n",
       "      <td>21</td>\n",
       "      <td>NaN</td>\n",
       "      <td>Ульяновск</td>\n",
       "      <td>Леонид</td>\n",
       "      <td>Ермолаев</td>\n",
       "      <td>2018-02-26</td>\n",
       "      <td>smart</td>\n",
       "    </tr>\n",
       "    <tr>\n",
       "      <td>7</td>\n",
       "      <td>1007</td>\n",
       "      <td>65</td>\n",
       "      <td>NaN</td>\n",
       "      <td>Москва</td>\n",
       "      <td>Юна</td>\n",
       "      <td>Березина</td>\n",
       "      <td>2018-04-19</td>\n",
       "      <td>smart</td>\n",
       "    </tr>\n",
       "    <tr>\n",
       "      <td>8</td>\n",
       "      <td>1008</td>\n",
       "      <td>63</td>\n",
       "      <td>NaN</td>\n",
       "      <td>Челябинск</td>\n",
       "      <td>Рустэм</td>\n",
       "      <td>Пономарёв</td>\n",
       "      <td>2018-12-19</td>\n",
       "      <td>smart</td>\n",
       "    </tr>\n",
       "    <tr>\n",
       "      <td>9</td>\n",
       "      <td>1009</td>\n",
       "      <td>24</td>\n",
       "      <td>NaN</td>\n",
       "      <td>Пермь</td>\n",
       "      <td>Василиса</td>\n",
       "      <td>Блинова</td>\n",
       "      <td>2018-03-22</td>\n",
       "      <td>smart</td>\n",
       "    </tr>\n",
       "  </tbody>\n",
       "</table>\n",
       "</div>"
      ],
      "text/plain": [
       "   user_id  age churn_date              city first_name  last_name  \\\n",
       "0     1000   52        NaN         Краснодар     Рафаил  Верещагин   \n",
       "1     1001   41        NaN            Москва       Иван       Ежов   \n",
       "2     1002   59        NaN       Стерлитамак    Евгений  Абрамович   \n",
       "3     1003   23        NaN            Москва      Белла   Белякова   \n",
       "4     1004   68        NaN       Новокузнецк    Татьяна   Авдеенко   \n",
       "5     1005   67        NaN  Набережные Челны   Афанасий     Горлов   \n",
       "6     1006   21        NaN         Ульяновск     Леонид   Ермолаев   \n",
       "7     1007   65        NaN            Москва        Юна   Березина   \n",
       "8     1008   63        NaN         Челябинск     Рустэм  Пономарёв   \n",
       "9     1009   24        NaN             Пермь   Василиса    Блинова   \n",
       "\n",
       "     reg_date tariff  \n",
       "0  2018-05-25  ultra  \n",
       "1  2018-11-01  smart  \n",
       "2  2018-06-17  smart  \n",
       "3  2018-08-17  ultra  \n",
       "4  2018-05-14  ultra  \n",
       "5  2018-01-25  smart  \n",
       "6  2018-02-26  smart  \n",
       "7  2018-04-19  smart  \n",
       "8  2018-12-19  smart  \n",
       "9  2018-03-22  smart  "
      ]
     },
     "execution_count": 2,
     "metadata": {},
     "output_type": "execute_result"
    }
   ],
   "source": [
    "users = pd.read_csv('/datasets/users.csv')\n",
    "users.head(10)"
   ]
  },
  {
   "cell_type": "code",
   "execution_count": 3,
   "metadata": {},
   "outputs": [
    {
     "data": {
      "text/html": [
       "<div>\n",
       "<style scoped>\n",
       "    .dataframe tbody tr th:only-of-type {\n",
       "        vertical-align: middle;\n",
       "    }\n",
       "\n",
       "    .dataframe tbody tr th {\n",
       "        vertical-align: top;\n",
       "    }\n",
       "\n",
       "    .dataframe thead th {\n",
       "        text-align: right;\n",
       "    }\n",
       "</style>\n",
       "<table border=\"1\" class=\"dataframe\">\n",
       "  <thead>\n",
       "    <tr style=\"text-align: right;\">\n",
       "      <th></th>\n",
       "      <th>id</th>\n",
       "      <th>call_date</th>\n",
       "      <th>duration</th>\n",
       "      <th>user_id</th>\n",
       "    </tr>\n",
       "  </thead>\n",
       "  <tbody>\n",
       "    <tr>\n",
       "      <td>0</td>\n",
       "      <td>1000_0</td>\n",
       "      <td>2018-07-25</td>\n",
       "      <td>0.00</td>\n",
       "      <td>1000</td>\n",
       "    </tr>\n",
       "    <tr>\n",
       "      <td>1</td>\n",
       "      <td>1000_1</td>\n",
       "      <td>2018-08-17</td>\n",
       "      <td>0.00</td>\n",
       "      <td>1000</td>\n",
       "    </tr>\n",
       "    <tr>\n",
       "      <td>2</td>\n",
       "      <td>1000_2</td>\n",
       "      <td>2018-06-11</td>\n",
       "      <td>2.85</td>\n",
       "      <td>1000</td>\n",
       "    </tr>\n",
       "    <tr>\n",
       "      <td>3</td>\n",
       "      <td>1000_3</td>\n",
       "      <td>2018-09-21</td>\n",
       "      <td>13.80</td>\n",
       "      <td>1000</td>\n",
       "    </tr>\n",
       "    <tr>\n",
       "      <td>4</td>\n",
       "      <td>1000_4</td>\n",
       "      <td>2018-12-15</td>\n",
       "      <td>5.18</td>\n",
       "      <td>1000</td>\n",
       "    </tr>\n",
       "    <tr>\n",
       "      <td>5</td>\n",
       "      <td>1000_5</td>\n",
       "      <td>2018-11-02</td>\n",
       "      <td>0.00</td>\n",
       "      <td>1000</td>\n",
       "    </tr>\n",
       "    <tr>\n",
       "      <td>6</td>\n",
       "      <td>1000_6</td>\n",
       "      <td>2018-10-18</td>\n",
       "      <td>0.00</td>\n",
       "      <td>1000</td>\n",
       "    </tr>\n",
       "    <tr>\n",
       "      <td>7</td>\n",
       "      <td>1000_7</td>\n",
       "      <td>2018-08-22</td>\n",
       "      <td>18.31</td>\n",
       "      <td>1000</td>\n",
       "    </tr>\n",
       "    <tr>\n",
       "      <td>8</td>\n",
       "      <td>1000_8</td>\n",
       "      <td>2018-09-15</td>\n",
       "      <td>18.44</td>\n",
       "      <td>1000</td>\n",
       "    </tr>\n",
       "    <tr>\n",
       "      <td>9</td>\n",
       "      <td>1000_9</td>\n",
       "      <td>2018-08-15</td>\n",
       "      <td>0.00</td>\n",
       "      <td>1000</td>\n",
       "    </tr>\n",
       "  </tbody>\n",
       "</table>\n",
       "</div>"
      ],
      "text/plain": [
       "       id   call_date  duration  user_id\n",
       "0  1000_0  2018-07-25      0.00     1000\n",
       "1  1000_1  2018-08-17      0.00     1000\n",
       "2  1000_2  2018-06-11      2.85     1000\n",
       "3  1000_3  2018-09-21     13.80     1000\n",
       "4  1000_4  2018-12-15      5.18     1000\n",
       "5  1000_5  2018-11-02      0.00     1000\n",
       "6  1000_6  2018-10-18      0.00     1000\n",
       "7  1000_7  2018-08-22     18.31     1000\n",
       "8  1000_8  2018-09-15     18.44     1000\n",
       "9  1000_9  2018-08-15      0.00     1000"
      ]
     },
     "execution_count": 3,
     "metadata": {},
     "output_type": "execute_result"
    }
   ],
   "source": [
    "calls = pd.read_csv('/datasets/calls.csv')\n",
    "calls.head(10)"
   ]
  },
  {
   "cell_type": "code",
   "execution_count": 4,
   "metadata": {},
   "outputs": [
    {
     "data": {
      "text/html": [
       "<div>\n",
       "<style scoped>\n",
       "    .dataframe tbody tr th:only-of-type {\n",
       "        vertical-align: middle;\n",
       "    }\n",
       "\n",
       "    .dataframe tbody tr th {\n",
       "        vertical-align: top;\n",
       "    }\n",
       "\n",
       "    .dataframe thead th {\n",
       "        text-align: right;\n",
       "    }\n",
       "</style>\n",
       "<table border=\"1\" class=\"dataframe\">\n",
       "  <thead>\n",
       "    <tr style=\"text-align: right;\">\n",
       "      <th></th>\n",
       "      <th>id</th>\n",
       "      <th>message_date</th>\n",
       "      <th>user_id</th>\n",
       "    </tr>\n",
       "  </thead>\n",
       "  <tbody>\n",
       "    <tr>\n",
       "      <td>0</td>\n",
       "      <td>1000_0</td>\n",
       "      <td>2018-06-27</td>\n",
       "      <td>1000</td>\n",
       "    </tr>\n",
       "    <tr>\n",
       "      <td>1</td>\n",
       "      <td>1000_1</td>\n",
       "      <td>2018-10-08</td>\n",
       "      <td>1000</td>\n",
       "    </tr>\n",
       "    <tr>\n",
       "      <td>2</td>\n",
       "      <td>1000_2</td>\n",
       "      <td>2018-08-04</td>\n",
       "      <td>1000</td>\n",
       "    </tr>\n",
       "    <tr>\n",
       "      <td>3</td>\n",
       "      <td>1000_3</td>\n",
       "      <td>2018-06-16</td>\n",
       "      <td>1000</td>\n",
       "    </tr>\n",
       "    <tr>\n",
       "      <td>4</td>\n",
       "      <td>1000_4</td>\n",
       "      <td>2018-12-05</td>\n",
       "      <td>1000</td>\n",
       "    </tr>\n",
       "    <tr>\n",
       "      <td>5</td>\n",
       "      <td>1000_5</td>\n",
       "      <td>2018-06-20</td>\n",
       "      <td>1000</td>\n",
       "    </tr>\n",
       "    <tr>\n",
       "      <td>6</td>\n",
       "      <td>1000_6</td>\n",
       "      <td>2018-11-19</td>\n",
       "      <td>1000</td>\n",
       "    </tr>\n",
       "    <tr>\n",
       "      <td>7</td>\n",
       "      <td>1000_7</td>\n",
       "      <td>2018-10-29</td>\n",
       "      <td>1000</td>\n",
       "    </tr>\n",
       "    <tr>\n",
       "      <td>8</td>\n",
       "      <td>1000_8</td>\n",
       "      <td>2018-06-25</td>\n",
       "      <td>1000</td>\n",
       "    </tr>\n",
       "    <tr>\n",
       "      <td>9</td>\n",
       "      <td>1000_9</td>\n",
       "      <td>2018-12-18</td>\n",
       "      <td>1000</td>\n",
       "    </tr>\n",
       "  </tbody>\n",
       "</table>\n",
       "</div>"
      ],
      "text/plain": [
       "       id message_date  user_id\n",
       "0  1000_0   2018-06-27     1000\n",
       "1  1000_1   2018-10-08     1000\n",
       "2  1000_2   2018-08-04     1000\n",
       "3  1000_3   2018-06-16     1000\n",
       "4  1000_4   2018-12-05     1000\n",
       "5  1000_5   2018-06-20     1000\n",
       "6  1000_6   2018-11-19     1000\n",
       "7  1000_7   2018-10-29     1000\n",
       "8  1000_8   2018-06-25     1000\n",
       "9  1000_9   2018-12-18     1000"
      ]
     },
     "execution_count": 4,
     "metadata": {},
     "output_type": "execute_result"
    }
   ],
   "source": [
    "messages = pd.read_csv('/datasets/messages.csv')\n",
    "messages.head(10)"
   ]
  },
  {
   "cell_type": "code",
   "execution_count": 5,
   "metadata": {},
   "outputs": [
    {
     "data": {
      "text/html": [
       "<div>\n",
       "<style scoped>\n",
       "    .dataframe tbody tr th:only-of-type {\n",
       "        vertical-align: middle;\n",
       "    }\n",
       "\n",
       "    .dataframe tbody tr th {\n",
       "        vertical-align: top;\n",
       "    }\n",
       "\n",
       "    .dataframe thead th {\n",
       "        text-align: right;\n",
       "    }\n",
       "</style>\n",
       "<table border=\"1\" class=\"dataframe\">\n",
       "  <thead>\n",
       "    <tr style=\"text-align: right;\">\n",
       "      <th></th>\n",
       "      <th>Unnamed: 0</th>\n",
       "      <th>id</th>\n",
       "      <th>mb_used</th>\n",
       "      <th>session_date</th>\n",
       "      <th>user_id</th>\n",
       "    </tr>\n",
       "  </thead>\n",
       "  <tbody>\n",
       "    <tr>\n",
       "      <td>0</td>\n",
       "      <td>0</td>\n",
       "      <td>1000_0</td>\n",
       "      <td>112.95</td>\n",
       "      <td>2018-11-25</td>\n",
       "      <td>1000</td>\n",
       "    </tr>\n",
       "    <tr>\n",
       "      <td>1</td>\n",
       "      <td>1</td>\n",
       "      <td>1000_1</td>\n",
       "      <td>1,052.81</td>\n",
       "      <td>2018-09-07</td>\n",
       "      <td>1000</td>\n",
       "    </tr>\n",
       "    <tr>\n",
       "      <td>2</td>\n",
       "      <td>2</td>\n",
       "      <td>1000_2</td>\n",
       "      <td>1,197.26</td>\n",
       "      <td>2018-06-25</td>\n",
       "      <td>1000</td>\n",
       "    </tr>\n",
       "    <tr>\n",
       "      <td>3</td>\n",
       "      <td>3</td>\n",
       "      <td>1000_3</td>\n",
       "      <td>550.27</td>\n",
       "      <td>2018-08-22</td>\n",
       "      <td>1000</td>\n",
       "    </tr>\n",
       "    <tr>\n",
       "      <td>4</td>\n",
       "      <td>4</td>\n",
       "      <td>1000_4</td>\n",
       "      <td>302.56</td>\n",
       "      <td>2018-09-24</td>\n",
       "      <td>1000</td>\n",
       "    </tr>\n",
       "    <tr>\n",
       "      <td>5</td>\n",
       "      <td>5</td>\n",
       "      <td>1000_5</td>\n",
       "      <td>399.97</td>\n",
       "      <td>2018-10-02</td>\n",
       "      <td>1000</td>\n",
       "    </tr>\n",
       "    <tr>\n",
       "      <td>6</td>\n",
       "      <td>6</td>\n",
       "      <td>1000_6</td>\n",
       "      <td>540.08</td>\n",
       "      <td>2018-09-07</td>\n",
       "      <td>1000</td>\n",
       "    </tr>\n",
       "    <tr>\n",
       "      <td>7</td>\n",
       "      <td>7</td>\n",
       "      <td>1000_7</td>\n",
       "      <td>415.70</td>\n",
       "      <td>2018-07-11</td>\n",
       "      <td>1000</td>\n",
       "    </tr>\n",
       "    <tr>\n",
       "      <td>8</td>\n",
       "      <td>8</td>\n",
       "      <td>1000_8</td>\n",
       "      <td>505.40</td>\n",
       "      <td>2018-10-08</td>\n",
       "      <td>1000</td>\n",
       "    </tr>\n",
       "    <tr>\n",
       "      <td>9</td>\n",
       "      <td>9</td>\n",
       "      <td>1000_9</td>\n",
       "      <td>345.54</td>\n",
       "      <td>2018-09-03</td>\n",
       "      <td>1000</td>\n",
       "    </tr>\n",
       "  </tbody>\n",
       "</table>\n",
       "</div>"
      ],
      "text/plain": [
       "   Unnamed: 0      id  mb_used session_date  user_id\n",
       "0           0  1000_0   112.95   2018-11-25     1000\n",
       "1           1  1000_1 1,052.81   2018-09-07     1000\n",
       "2           2  1000_2 1,197.26   2018-06-25     1000\n",
       "3           3  1000_3   550.27   2018-08-22     1000\n",
       "4           4  1000_4   302.56   2018-09-24     1000\n",
       "5           5  1000_5   399.97   2018-10-02     1000\n",
       "6           6  1000_6   540.08   2018-09-07     1000\n",
       "7           7  1000_7   415.70   2018-07-11     1000\n",
       "8           8  1000_8   505.40   2018-10-08     1000\n",
       "9           9  1000_9   345.54   2018-09-03     1000"
      ]
     },
     "execution_count": 5,
     "metadata": {},
     "output_type": "execute_result"
    }
   ],
   "source": [
    "internet = pd.read_csv('/datasets/internet.csv')\n",
    "internet.head(10)"
   ]
  },
  {
   "cell_type": "code",
   "execution_count": 6,
   "metadata": {},
   "outputs": [
    {
     "data": {
      "text/html": [
       "<div>\n",
       "<style scoped>\n",
       "    .dataframe tbody tr th:only-of-type {\n",
       "        vertical-align: middle;\n",
       "    }\n",
       "\n",
       "    .dataframe tbody tr th {\n",
       "        vertical-align: top;\n",
       "    }\n",
       "\n",
       "    .dataframe thead th {\n",
       "        text-align: right;\n",
       "    }\n",
       "</style>\n",
       "<table border=\"1\" class=\"dataframe\">\n",
       "  <thead>\n",
       "    <tr style=\"text-align: right;\">\n",
       "      <th></th>\n",
       "      <th>messages_included</th>\n",
       "      <th>mb_per_month_included</th>\n",
       "      <th>minutes_included</th>\n",
       "      <th>rub_monthly_fee</th>\n",
       "      <th>rub_per_gb</th>\n",
       "      <th>rub_per_message</th>\n",
       "      <th>rub_per_minute</th>\n",
       "      <th>tariff_name</th>\n",
       "    </tr>\n",
       "  </thead>\n",
       "  <tbody>\n",
       "    <tr>\n",
       "      <td>0</td>\n",
       "      <td>50</td>\n",
       "      <td>15360</td>\n",
       "      <td>500</td>\n",
       "      <td>550</td>\n",
       "      <td>200</td>\n",
       "      <td>3</td>\n",
       "      <td>3</td>\n",
       "      <td>smart</td>\n",
       "    </tr>\n",
       "    <tr>\n",
       "      <td>1</td>\n",
       "      <td>1000</td>\n",
       "      <td>30720</td>\n",
       "      <td>3000</td>\n",
       "      <td>1950</td>\n",
       "      <td>150</td>\n",
       "      <td>1</td>\n",
       "      <td>1</td>\n",
       "      <td>ultra</td>\n",
       "    </tr>\n",
       "  </tbody>\n",
       "</table>\n",
       "</div>"
      ],
      "text/plain": [
       "   messages_included  mb_per_month_included  minutes_included  \\\n",
       "0                 50                  15360               500   \n",
       "1               1000                  30720              3000   \n",
       "\n",
       "   rub_monthly_fee  rub_per_gb  rub_per_message  rub_per_minute tariff_name  \n",
       "0              550         200                3               3       smart  \n",
       "1             1950         150                1               1       ultra  "
      ]
     },
     "execution_count": 6,
     "metadata": {},
     "output_type": "execute_result"
    }
   ],
   "source": [
    "tariffs = pd.read_csv('/datasets/tariffs.csv')\n",
    "tariffs.head(10)"
   ]
  },
  {
   "cell_type": "markdown",
   "metadata": {},
   "source": [
    "## Подготовка данных\n",
    "Для удобства дальнейшей работы необходимо объединить все таблицы с данными в одну общую, предварительно подготовив их к объединению.\n",
    "\n",
    "На данном этапе необходимо:\n",
    "- обработать пропуски в таблицах\n",
    "- проверить данные на наличие дубликатов\n",
    "- привести данные к нужным типам\n",
    "- найти и исправить ошибки в данных\n",
    "- произвести расчеты для пользователей по каждому месяцу\n",
    "- объединить данные в общую таблицу"
   ]
  },
  {
   "cell_type": "markdown",
   "metadata": {},
   "source": [
    "### Подготовка данных таблицы _users_"
   ]
  },
  {
   "cell_type": "markdown",
   "metadata": {},
   "source": [
    "Ознакомимся с общей информацией о таблице _users_:"
   ]
  },
  {
   "cell_type": "code",
   "execution_count": 7,
   "metadata": {},
   "outputs": [
    {
     "name": "stdout",
     "output_type": "stream",
     "text": [
      "<class 'pandas.core.frame.DataFrame'>\n",
      "RangeIndex: 500 entries, 0 to 499\n",
      "Data columns (total 8 columns):\n",
      "user_id       500 non-null int64\n",
      "age           500 non-null int64\n",
      "churn_date    38 non-null object\n",
      "city          500 non-null object\n",
      "first_name    500 non-null object\n",
      "last_name     500 non-null object\n",
      "reg_date      500 non-null object\n",
      "tariff        500 non-null object\n",
      "dtypes: int64(2), object(6)\n",
      "memory usage: 31.4+ KB\n"
     ]
    }
   ],
   "source": [
    "users.info()"
   ]
  },
  {
   "cell_type": "markdown",
   "metadata": {},
   "source": [
    "Видно, что в столбце с данными о прекращении пользования тарифом 92% пропущенных значений. Однако, данные пропуски означают, что на момент выгрузки данных пользователь продолжал пользоваться указанным тарифом. Следовательно, указанные пропуски целесообразно оставить без изменений.\n",
    "\n",
    "Проверим таблицу на наличие явных дубликатов:"
   ]
  },
  {
   "cell_type": "code",
   "execution_count": 8,
   "metadata": {},
   "outputs": [
    {
     "data": {
      "text/plain": [
       "0"
      ]
     },
     "execution_count": 8,
     "metadata": {},
     "output_type": "execute_result"
    }
   ],
   "source": [
    "users.duplicated().sum()"
   ]
  },
  {
   "cell_type": "markdown",
   "metadata": {},
   "source": [
    "Явные дубликаты отсутствуют.\n",
    "\n",
    "Данные столбцов о возрасте пользователя, дате подключения и прекращения им пользования тарифом, а также его имя и фамилия никак не влияют на результаты проведения дальнейшего анализа, поэтому для удобства избавимся от данных столбцов:"
   ]
  },
  {
   "cell_type": "code",
   "execution_count": 9,
   "metadata": {},
   "outputs": [],
   "source": [
    "users_total = users.drop(['age', 'churn_date', 'first_name', 'last_name', 'reg_date'], axis=1)"
   ]
  },
  {
   "cell_type": "markdown",
   "metadata": {},
   "source": [
    "Таблица без ненужных столбцов была сохранена в новую для того, чтобы в дальнейшем в идентификационному номеру пользователя мы смогли найти его данные.\n",
    "\n",
    "Также, для дальнейшей работы переименуем столбец _tariff_ в _tariff_name_:"
   ]
  },
  {
   "cell_type": "code",
   "execution_count": 10,
   "metadata": {},
   "outputs": [
    {
     "data": {
      "text/html": [
       "<div>\n",
       "<style scoped>\n",
       "    .dataframe tbody tr th:only-of-type {\n",
       "        vertical-align: middle;\n",
       "    }\n",
       "\n",
       "    .dataframe tbody tr th {\n",
       "        vertical-align: top;\n",
       "    }\n",
       "\n",
       "    .dataframe thead th {\n",
       "        text-align: right;\n",
       "    }\n",
       "</style>\n",
       "<table border=\"1\" class=\"dataframe\">\n",
       "  <thead>\n",
       "    <tr style=\"text-align: right;\">\n",
       "      <th></th>\n",
       "      <th>user_id</th>\n",
       "      <th>city</th>\n",
       "      <th>tariff_name</th>\n",
       "    </tr>\n",
       "  </thead>\n",
       "  <tbody>\n",
       "    <tr>\n",
       "      <td>0</td>\n",
       "      <td>1000</td>\n",
       "      <td>Краснодар</td>\n",
       "      <td>ultra</td>\n",
       "    </tr>\n",
       "    <tr>\n",
       "      <td>1</td>\n",
       "      <td>1001</td>\n",
       "      <td>Москва</td>\n",
       "      <td>smart</td>\n",
       "    </tr>\n",
       "    <tr>\n",
       "      <td>2</td>\n",
       "      <td>1002</td>\n",
       "      <td>Стерлитамак</td>\n",
       "      <td>smart</td>\n",
       "    </tr>\n",
       "    <tr>\n",
       "      <td>3</td>\n",
       "      <td>1003</td>\n",
       "      <td>Москва</td>\n",
       "      <td>ultra</td>\n",
       "    </tr>\n",
       "    <tr>\n",
       "      <td>4</td>\n",
       "      <td>1004</td>\n",
       "      <td>Новокузнецк</td>\n",
       "      <td>ultra</td>\n",
       "    </tr>\n",
       "    <tr>\n",
       "      <td>...</td>\n",
       "      <td>...</td>\n",
       "      <td>...</td>\n",
       "      <td>...</td>\n",
       "    </tr>\n",
       "    <tr>\n",
       "      <td>495</td>\n",
       "      <td>1495</td>\n",
       "      <td>Иркутск</td>\n",
       "      <td>ultra</td>\n",
       "    </tr>\n",
       "    <tr>\n",
       "      <td>496</td>\n",
       "      <td>1496</td>\n",
       "      <td>Вологда</td>\n",
       "      <td>smart</td>\n",
       "    </tr>\n",
       "    <tr>\n",
       "      <td>497</td>\n",
       "      <td>1497</td>\n",
       "      <td>Челябинск</td>\n",
       "      <td>smart</td>\n",
       "    </tr>\n",
       "    <tr>\n",
       "      <td>498</td>\n",
       "      <td>1498</td>\n",
       "      <td>Владикавказ</td>\n",
       "      <td>smart</td>\n",
       "    </tr>\n",
       "    <tr>\n",
       "      <td>499</td>\n",
       "      <td>1499</td>\n",
       "      <td>Пермь</td>\n",
       "      <td>smart</td>\n",
       "    </tr>\n",
       "  </tbody>\n",
       "</table>\n",
       "<p>500 rows × 3 columns</p>\n",
       "</div>"
      ],
      "text/plain": [
       "     user_id         city tariff_name\n",
       "0       1000    Краснодар       ultra\n",
       "1       1001       Москва       smart\n",
       "2       1002  Стерлитамак       smart\n",
       "3       1003       Москва       ultra\n",
       "4       1004  Новокузнецк       ultra\n",
       "..       ...          ...         ...\n",
       "495     1495      Иркутск       ultra\n",
       "496     1496      Вологда       smart\n",
       "497     1497    Челябинск       smart\n",
       "498     1498  Владикавказ       smart\n",
       "499     1499        Пермь       smart\n",
       "\n",
       "[500 rows x 3 columns]"
      ]
     },
     "execution_count": 10,
     "metadata": {},
     "output_type": "execute_result"
    }
   ],
   "source": [
    "users_total = users_total.rename(columns={'tariff':'tariff_name'})\n",
    "users_total"
   ]
  },
  {
   "cell_type": "markdown",
   "metadata": {},
   "source": [
    "Таблица _users_total_ готова к дальнейшей работе."
   ]
  },
  {
   "cell_type": "markdown",
   "metadata": {},
   "source": [
    "### Подготовка данных таблицы _calls_"
   ]
  },
  {
   "cell_type": "markdown",
   "metadata": {},
   "source": [
    "Ознакомимся с общей информацией о таблице _calls_:"
   ]
  },
  {
   "cell_type": "code",
   "execution_count": 11,
   "metadata": {},
   "outputs": [
    {
     "name": "stdout",
     "output_type": "stream",
     "text": [
      "<class 'pandas.core.frame.DataFrame'>\n",
      "RangeIndex: 202607 entries, 0 to 202606\n",
      "Data columns (total 4 columns):\n",
      "id           202607 non-null object\n",
      "call_date    202607 non-null object\n",
      "duration     202607 non-null float64\n",
      "user_id      202607 non-null int64\n",
      "dtypes: float64(1), int64(1), object(2)\n",
      "memory usage: 6.2+ MB\n"
     ]
    }
   ],
   "source": [
    "calls.info()"
   ]
  },
  {
   "cell_type": "markdown",
   "metadata": {},
   "source": [
    "Пропуски в данной таблице отсустствуют.\n",
    "\n",
    "Проверим таблицу на наличие явных дубликатов:"
   ]
  },
  {
   "cell_type": "code",
   "execution_count": 12,
   "metadata": {},
   "outputs": [
    {
     "data": {
      "text/plain": [
       "0"
      ]
     },
     "execution_count": 12,
     "metadata": {},
     "output_type": "execute_result"
    }
   ],
   "source": [
    "calls.duplicated().sum()"
   ]
  },
  {
   "cell_type": "markdown",
   "metadata": {},
   "source": [
    "Дубликаты отсустсвуют.\n",
    "\n",
    "Выведем уникальные значений столбца _duration_:"
   ]
  },
  {
   "cell_type": "code",
   "execution_count": 13,
   "metadata": {},
   "outputs": [
    {
     "data": {
      "text/plain": [
       "array([0.000e+00, 1.000e-02, 2.000e-02, ..., 3.647e+01, 3.735e+01,\n",
       "       3.800e+01])"
      ]
     },
     "execution_count": 13,
     "metadata": {},
     "output_type": "execute_result"
    }
   ],
   "source": [
    "calls['duration'].sort_values().unique()"
   ]
  },
  {
   "cell_type": "markdown",
   "metadata": {},
   "source": [
    "В столбце с данными о продолжительности разговора присутствуют нулевые значения. Данные значения означают пропущенные звонки, поэтому ошибкой это не является, столбец можно оставить без изменения.\n",
    "\n",
    "Перед объединением создадим в таблице _calls_ новый столбец с указанием номера месяца, в который пользователь совершал звонки, предварительно изменив тип данных в столбце _call_date_ на _datetime64_:"
   ]
  },
  {
   "cell_type": "code",
   "execution_count": 14,
   "metadata": {},
   "outputs": [],
   "source": [
    "calls['call_date'] = pd.to_datetime(calls['call_date'], format='%Y-%m-%d')\n",
    "calls['month'] = calls['call_date'].dt.month"
   ]
  },
  {
   "cell_type": "markdown",
   "metadata": {},
   "source": [
    "Округлим данные столбца _duration_ в большую сторону:"
   ]
  },
  {
   "cell_type": "code",
   "execution_count": 15,
   "metadata": {},
   "outputs": [],
   "source": [
    "calls['duration'] = np.ceil(calls['duration'])"
   ]
  },
  {
   "cell_type": "markdown",
   "metadata": {},
   "source": [
    "Сгруппируем данные таблицы _calls_ по _user_id_ и _month_, рассчитав таким образом количество сделанных звонков и израсходованных минут разговора каждым пользователем по месяцам:"
   ]
  },
  {
   "cell_type": "code",
   "execution_count": 16,
   "metadata": {
    "scrolled": true
   },
   "outputs": [
    {
     "data": {
      "text/html": [
       "<div>\n",
       "<style scoped>\n",
       "    .dataframe tbody tr th:only-of-type {\n",
       "        vertical-align: middle;\n",
       "    }\n",
       "\n",
       "    .dataframe tbody tr th {\n",
       "        vertical-align: top;\n",
       "    }\n",
       "\n",
       "    .dataframe thead th {\n",
       "        text-align: right;\n",
       "    }\n",
       "</style>\n",
       "<table border=\"1\" class=\"dataframe\">\n",
       "  <thead>\n",
       "    <tr style=\"text-align: right;\">\n",
       "      <th></th>\n",
       "      <th>user_id</th>\n",
       "      <th>month</th>\n",
       "      <th>calls_number</th>\n",
       "      <th>duration_sum</th>\n",
       "    </tr>\n",
       "  </thead>\n",
       "  <tbody>\n",
       "    <tr>\n",
       "      <td>0</td>\n",
       "      <td>1000</td>\n",
       "      <td>5</td>\n",
       "      <td>22</td>\n",
       "      <td>159</td>\n",
       "    </tr>\n",
       "    <tr>\n",
       "      <td>1</td>\n",
       "      <td>1000</td>\n",
       "      <td>6</td>\n",
       "      <td>43</td>\n",
       "      <td>172</td>\n",
       "    </tr>\n",
       "    <tr>\n",
       "      <td>2</td>\n",
       "      <td>1000</td>\n",
       "      <td>7</td>\n",
       "      <td>47</td>\n",
       "      <td>340</td>\n",
       "    </tr>\n",
       "    <tr>\n",
       "      <td>3</td>\n",
       "      <td>1000</td>\n",
       "      <td>8</td>\n",
       "      <td>52</td>\n",
       "      <td>408</td>\n",
       "    </tr>\n",
       "    <tr>\n",
       "      <td>4</td>\n",
       "      <td>1000</td>\n",
       "      <td>9</td>\n",
       "      <td>58</td>\n",
       "      <td>466</td>\n",
       "    </tr>\n",
       "    <tr>\n",
       "      <td>...</td>\n",
       "      <td>...</td>\n",
       "      <td>...</td>\n",
       "      <td>...</td>\n",
       "      <td>...</td>\n",
       "    </tr>\n",
       "    <tr>\n",
       "      <td>3169</td>\n",
       "      <td>1498</td>\n",
       "      <td>10</td>\n",
       "      <td>41</td>\n",
       "      <td>247</td>\n",
       "    </tr>\n",
       "    <tr>\n",
       "      <td>3170</td>\n",
       "      <td>1499</td>\n",
       "      <td>9</td>\n",
       "      <td>9</td>\n",
       "      <td>70</td>\n",
       "    </tr>\n",
       "    <tr>\n",
       "      <td>3171</td>\n",
       "      <td>1499</td>\n",
       "      <td>10</td>\n",
       "      <td>68</td>\n",
       "      <td>449</td>\n",
       "    </tr>\n",
       "    <tr>\n",
       "      <td>3172</td>\n",
       "      <td>1499</td>\n",
       "      <td>11</td>\n",
       "      <td>74</td>\n",
       "      <td>612</td>\n",
       "    </tr>\n",
       "    <tr>\n",
       "      <td>3173</td>\n",
       "      <td>1499</td>\n",
       "      <td>12</td>\n",
       "      <td>69</td>\n",
       "      <td>492</td>\n",
       "    </tr>\n",
       "  </tbody>\n",
       "</table>\n",
       "<p>3174 rows × 4 columns</p>\n",
       "</div>"
      ],
      "text/plain": [
       "      user_id  month  calls_number  duration_sum\n",
       "0        1000      5            22           159\n",
       "1        1000      6            43           172\n",
       "2        1000      7            47           340\n",
       "3        1000      8            52           408\n",
       "4        1000      9            58           466\n",
       "...       ...    ...           ...           ...\n",
       "3169     1498     10            41           247\n",
       "3170     1499      9             9            70\n",
       "3171     1499     10            68           449\n",
       "3172     1499     11            74           612\n",
       "3173     1499     12            69           492\n",
       "\n",
       "[3174 rows x 4 columns]"
      ]
     },
     "execution_count": 16,
     "metadata": {},
     "output_type": "execute_result"
    }
   ],
   "source": [
    "calls_total = (\n",
    "    calls.groupby(['user_id', 'month'])\n",
    "    .agg({'id':'count', 'duration':'sum'})\n",
    "    .reset_index()\n",
    "    .rename(columns={'id':'calls_number', 'duration':'duration_sum'})\n",
    ")\n",
    "calls_total['duration_sum'] = calls_total['duration_sum'].astype('Int16')\n",
    "calls_total"
   ]
  },
  {
   "cell_type": "markdown",
   "metadata": {},
   "source": [
    "Таблица _calls_total_ готова к дальнейшей работе."
   ]
  },
  {
   "cell_type": "markdown",
   "metadata": {},
   "source": [
    "### Подготовка данных таблицы _messages_"
   ]
  },
  {
   "cell_type": "markdown",
   "metadata": {},
   "source": [
    "Ознакомимся с общей информацией о таблице _messages_:"
   ]
  },
  {
   "cell_type": "code",
   "execution_count": 17,
   "metadata": {},
   "outputs": [
    {
     "name": "stdout",
     "output_type": "stream",
     "text": [
      "<class 'pandas.core.frame.DataFrame'>\n",
      "RangeIndex: 123036 entries, 0 to 123035\n",
      "Data columns (total 3 columns):\n",
      "id              123036 non-null object\n",
      "message_date    123036 non-null object\n",
      "user_id         123036 non-null int64\n",
      "dtypes: int64(1), object(2)\n",
      "memory usage: 2.8+ MB\n"
     ]
    }
   ],
   "source": [
    "messages.info()"
   ]
  },
  {
   "cell_type": "markdown",
   "metadata": {},
   "source": [
    "Пропуски в данной таблице отсустствуют.\n",
    "\n",
    "Проверим таблицу на наличие явных дубликатов:"
   ]
  },
  {
   "cell_type": "code",
   "execution_count": 18,
   "metadata": {},
   "outputs": [
    {
     "data": {
      "text/plain": [
       "0"
      ]
     },
     "execution_count": 18,
     "metadata": {},
     "output_type": "execute_result"
    }
   ],
   "source": [
    "messages.duplicated().sum()"
   ]
  },
  {
   "cell_type": "markdown",
   "metadata": {},
   "source": [
    "Дубликаты отсустсвуют.\n",
    "\n",
    "Перед объединением создадим в таблице _messages_ новый столбец с указанием номера месяца, в который пользователь осуществлял отправку сообщений, предварительно изменив тип данных в столбце _message_date_ на _datetime64_:"
   ]
  },
  {
   "cell_type": "code",
   "execution_count": 19,
   "metadata": {},
   "outputs": [],
   "source": [
    "messages['message_date'] = pd.to_datetime(messages['message_date'], format='%Y-%m-%d')\n",
    "messages['month'] = messages['message_date'].dt.month"
   ]
  },
  {
   "cell_type": "markdown",
   "metadata": {},
   "source": [
    "Сгруппируем данные таблицы _messages_ по _user_id_ и _month_, рассчитав таким образом количество отправленных сообщений каждым пользователем по месяцам:"
   ]
  },
  {
   "cell_type": "code",
   "execution_count": 20,
   "metadata": {},
   "outputs": [
    {
     "data": {
      "text/html": [
       "<div>\n",
       "<style scoped>\n",
       "    .dataframe tbody tr th:only-of-type {\n",
       "        vertical-align: middle;\n",
       "    }\n",
       "\n",
       "    .dataframe tbody tr th {\n",
       "        vertical-align: top;\n",
       "    }\n",
       "\n",
       "    .dataframe thead th {\n",
       "        text-align: right;\n",
       "    }\n",
       "</style>\n",
       "<table border=\"1\" class=\"dataframe\">\n",
       "  <thead>\n",
       "    <tr style=\"text-align: right;\">\n",
       "      <th></th>\n",
       "      <th>user_id</th>\n",
       "      <th>month</th>\n",
       "      <th>messages_number</th>\n",
       "    </tr>\n",
       "  </thead>\n",
       "  <tbody>\n",
       "    <tr>\n",
       "      <td>0</td>\n",
       "      <td>1000</td>\n",
       "      <td>5</td>\n",
       "      <td>22</td>\n",
       "    </tr>\n",
       "    <tr>\n",
       "      <td>1</td>\n",
       "      <td>1000</td>\n",
       "      <td>6</td>\n",
       "      <td>60</td>\n",
       "    </tr>\n",
       "    <tr>\n",
       "      <td>2</td>\n",
       "      <td>1000</td>\n",
       "      <td>7</td>\n",
       "      <td>75</td>\n",
       "    </tr>\n",
       "    <tr>\n",
       "      <td>3</td>\n",
       "      <td>1000</td>\n",
       "      <td>8</td>\n",
       "      <td>81</td>\n",
       "    </tr>\n",
       "    <tr>\n",
       "      <td>4</td>\n",
       "      <td>1000</td>\n",
       "      <td>9</td>\n",
       "      <td>57</td>\n",
       "    </tr>\n",
       "    <tr>\n",
       "      <td>5</td>\n",
       "      <td>1000</td>\n",
       "      <td>10</td>\n",
       "      <td>73</td>\n",
       "    </tr>\n",
       "    <tr>\n",
       "      <td>6</td>\n",
       "      <td>1000</td>\n",
       "      <td>11</td>\n",
       "      <td>58</td>\n",
       "    </tr>\n",
       "    <tr>\n",
       "      <td>7</td>\n",
       "      <td>1000</td>\n",
       "      <td>12</td>\n",
       "      <td>70</td>\n",
       "    </tr>\n",
       "    <tr>\n",
       "      <td>8</td>\n",
       "      <td>1002</td>\n",
       "      <td>6</td>\n",
       "      <td>4</td>\n",
       "    </tr>\n",
       "    <tr>\n",
       "      <td>9</td>\n",
       "      <td>1002</td>\n",
       "      <td>7</td>\n",
       "      <td>11</td>\n",
       "    </tr>\n",
       "    <tr>\n",
       "      <td>10</td>\n",
       "      <td>1002</td>\n",
       "      <td>8</td>\n",
       "      <td>13</td>\n",
       "    </tr>\n",
       "    <tr>\n",
       "      <td>11</td>\n",
       "      <td>1002</td>\n",
       "      <td>9</td>\n",
       "      <td>4</td>\n",
       "    </tr>\n",
       "    <tr>\n",
       "      <td>12</td>\n",
       "      <td>1002</td>\n",
       "      <td>10</td>\n",
       "      <td>10</td>\n",
       "    </tr>\n",
       "    <tr>\n",
       "      <td>13</td>\n",
       "      <td>1002</td>\n",
       "      <td>11</td>\n",
       "      <td>16</td>\n",
       "    </tr>\n",
       "    <tr>\n",
       "      <td>14</td>\n",
       "      <td>1002</td>\n",
       "      <td>12</td>\n",
       "      <td>12</td>\n",
       "    </tr>\n",
       "  </tbody>\n",
       "</table>\n",
       "</div>"
      ],
      "text/plain": [
       "    user_id  month  messages_number\n",
       "0      1000      5               22\n",
       "1      1000      6               60\n",
       "2      1000      7               75\n",
       "3      1000      8               81\n",
       "4      1000      9               57\n",
       "5      1000     10               73\n",
       "6      1000     11               58\n",
       "7      1000     12               70\n",
       "8      1002      6                4\n",
       "9      1002      7               11\n",
       "10     1002      8               13\n",
       "11     1002      9                4\n",
       "12     1002     10               10\n",
       "13     1002     11               16\n",
       "14     1002     12               12"
      ]
     },
     "execution_count": 20,
     "metadata": {},
     "output_type": "execute_result"
    }
   ],
   "source": [
    "messages_total = (\n",
    "    messages.groupby(['user_id', 'month'])\n",
    "    .agg({'id':'count'})\n",
    "    .rename(columns={'id':'messages_number'})\n",
    "    .reset_index()\n",
    ")\n",
    "messages_total.head(15)"
   ]
  },
  {
   "cell_type": "markdown",
   "metadata": {},
   "source": [
    "Таблица _messages_total_ готова к дальнейшей работе."
   ]
  },
  {
   "cell_type": "markdown",
   "metadata": {},
   "source": [
    "### Подготовка данных таблицы _internet_"
   ]
  },
  {
   "cell_type": "markdown",
   "metadata": {},
   "source": [
    "Ознакомимся с общей информацией о таблице _internet_:"
   ]
  },
  {
   "cell_type": "code",
   "execution_count": 21,
   "metadata": {},
   "outputs": [
    {
     "name": "stdout",
     "output_type": "stream",
     "text": [
      "<class 'pandas.core.frame.DataFrame'>\n",
      "RangeIndex: 149396 entries, 0 to 149395\n",
      "Data columns (total 5 columns):\n",
      "Unnamed: 0      149396 non-null int64\n",
      "id              149396 non-null object\n",
      "mb_used         149396 non-null float64\n",
      "session_date    149396 non-null object\n",
      "user_id         149396 non-null int64\n",
      "dtypes: float64(1), int64(2), object(2)\n",
      "memory usage: 5.7+ MB\n"
     ]
    }
   ],
   "source": [
    "internet.info()"
   ]
  },
  {
   "cell_type": "markdown",
   "metadata": {},
   "source": [
    "Пропуски в данной таблице отсустствуют.\n",
    "\n",
    "Проверим таблицу на наличие явных дубликатов:"
   ]
  },
  {
   "cell_type": "code",
   "execution_count": 22,
   "metadata": {},
   "outputs": [
    {
     "data": {
      "text/plain": [
       "0"
      ]
     },
     "execution_count": 22,
     "metadata": {},
     "output_type": "execute_result"
    }
   ],
   "source": [
    "internet.duplicated().sum()"
   ]
  },
  {
   "cell_type": "markdown",
   "metadata": {},
   "source": [
    "Дубликаты отсустсвуют.\n",
    "\n",
    "Выведем уникальные значений столбца _mb_used_:"
   ]
  },
  {
   "cell_type": "code",
   "execution_count": 23,
   "metadata": {},
   "outputs": [
    {
     "data": {
      "text/plain": [
       "array([0.00000e+00, 3.00000e-02, 4.00000e-02, ..., 1.65155e+03,\n",
       "       1.70275e+03, 1.72483e+03])"
      ]
     },
     "execution_count": 23,
     "metadata": {},
     "output_type": "execute_result"
    }
   ],
   "source": [
    "internet['mb_used'].sort_values().unique()"
   ]
  },
  {
   "cell_type": "markdown",
   "metadata": {},
   "source": [
    "В столбце с данными об интернет-трафике присутствуют нулевые значения. Данные значения означают неудачные попытки войти в сеть, поэтому ошибкой это не является, столбец можно оставить без изменений.\n",
    "\n",
    "Перед объединением создадим в таблице _internet_ новый столбец с указанием номера месяца, в который пользователь совершал звонки, предварительно изменив тип данных в столбце _session_date_ на _datetime64_:"
   ]
  },
  {
   "cell_type": "code",
   "execution_count": 24,
   "metadata": {},
   "outputs": [],
   "source": [
    "internet['session_date'] = pd.to_datetime(internet['session_date'], format='%Y-%m-%d')\n",
    "internet['month'] = internet['session_date'].dt.month"
   ]
  },
  {
   "cell_type": "markdown",
   "metadata": {},
   "source": [
    "Сгруппируем данные таблицы _internet_ по _user_id_ и _month_, рассчитав таким образом объем израсходованного интернет-трафика каждым пользователем по месяцам:"
   ]
  },
  {
   "cell_type": "code",
   "execution_count": 25,
   "metadata": {},
   "outputs": [
    {
     "data": {
      "text/html": [
       "<div>\n",
       "<style scoped>\n",
       "    .dataframe tbody tr th:only-of-type {\n",
       "        vertical-align: middle;\n",
       "    }\n",
       "\n",
       "    .dataframe tbody tr th {\n",
       "        vertical-align: top;\n",
       "    }\n",
       "\n",
       "    .dataframe thead th {\n",
       "        text-align: right;\n",
       "    }\n",
       "</style>\n",
       "<table border=\"1\" class=\"dataframe\">\n",
       "  <thead>\n",
       "    <tr style=\"text-align: right;\">\n",
       "      <th></th>\n",
       "      <th>user_id</th>\n",
       "      <th>month</th>\n",
       "      <th>mb_used_sum</th>\n",
       "    </tr>\n",
       "  </thead>\n",
       "  <tbody>\n",
       "    <tr>\n",
       "      <td>0</td>\n",
       "      <td>1000</td>\n",
       "      <td>5</td>\n",
       "      <td>2,253.49</td>\n",
       "    </tr>\n",
       "    <tr>\n",
       "      <td>1</td>\n",
       "      <td>1000</td>\n",
       "      <td>6</td>\n",
       "      <td>23,233.77</td>\n",
       "    </tr>\n",
       "    <tr>\n",
       "      <td>2</td>\n",
       "      <td>1000</td>\n",
       "      <td>7</td>\n",
       "      <td>14,003.64</td>\n",
       "    </tr>\n",
       "    <tr>\n",
       "      <td>3</td>\n",
       "      <td>1000</td>\n",
       "      <td>8</td>\n",
       "      <td>14,055.93</td>\n",
       "    </tr>\n",
       "    <tr>\n",
       "      <td>4</td>\n",
       "      <td>1000</td>\n",
       "      <td>9</td>\n",
       "      <td>14,568.91</td>\n",
       "    </tr>\n",
       "    <tr>\n",
       "      <td>5</td>\n",
       "      <td>1000</td>\n",
       "      <td>10</td>\n",
       "      <td>14,702.49</td>\n",
       "    </tr>\n",
       "    <tr>\n",
       "      <td>6</td>\n",
       "      <td>1000</td>\n",
       "      <td>11</td>\n",
       "      <td>14,756.47</td>\n",
       "    </tr>\n",
       "    <tr>\n",
       "      <td>7</td>\n",
       "      <td>1000</td>\n",
       "      <td>12</td>\n",
       "      <td>9,817.61</td>\n",
       "    </tr>\n",
       "    <tr>\n",
       "      <td>8</td>\n",
       "      <td>1001</td>\n",
       "      <td>11</td>\n",
       "      <td>18,429.34</td>\n",
       "    </tr>\n",
       "    <tr>\n",
       "      <td>9</td>\n",
       "      <td>1001</td>\n",
       "      <td>12</td>\n",
       "      <td>14,036.66</td>\n",
       "    </tr>\n",
       "    <tr>\n",
       "      <td>10</td>\n",
       "      <td>1002</td>\n",
       "      <td>6</td>\n",
       "      <td>10,856.82</td>\n",
       "    </tr>\n",
       "    <tr>\n",
       "      <td>11</td>\n",
       "      <td>1002</td>\n",
       "      <td>7</td>\n",
       "      <td>17,580.10</td>\n",
       "    </tr>\n",
       "    <tr>\n",
       "      <td>12</td>\n",
       "      <td>1002</td>\n",
       "      <td>8</td>\n",
       "      <td>20,319.26</td>\n",
       "    </tr>\n",
       "    <tr>\n",
       "      <td>13</td>\n",
       "      <td>1002</td>\n",
       "      <td>9</td>\n",
       "      <td>16,691.08</td>\n",
       "    </tr>\n",
       "    <tr>\n",
       "      <td>14</td>\n",
       "      <td>1002</td>\n",
       "      <td>10</td>\n",
       "      <td>13,888.25</td>\n",
       "    </tr>\n",
       "  </tbody>\n",
       "</table>\n",
       "</div>"
      ],
      "text/plain": [
       "    user_id  month  mb_used_sum\n",
       "0      1000      5     2,253.49\n",
       "1      1000      6    23,233.77\n",
       "2      1000      7    14,003.64\n",
       "3      1000      8    14,055.93\n",
       "4      1000      9    14,568.91\n",
       "5      1000     10    14,702.49\n",
       "6      1000     11    14,756.47\n",
       "7      1000     12     9,817.61\n",
       "8      1001     11    18,429.34\n",
       "9      1001     12    14,036.66\n",
       "10     1002      6    10,856.82\n",
       "11     1002      7    17,580.10\n",
       "12     1002      8    20,319.26\n",
       "13     1002      9    16,691.08\n",
       "14     1002     10    13,888.25"
      ]
     },
     "execution_count": 25,
     "metadata": {},
     "output_type": "execute_result"
    }
   ],
   "source": [
    "internet_total = (\n",
    "    internet.groupby(['user_id', 'month'])\n",
    "    .agg({'mb_used':'sum'})\n",
    "    .rename(columns={'mb_used':'mb_used_sum'})\n",
    "    .reset_index()\n",
    ")\n",
    "internet_total.head(15)"
   ]
  },
  {
   "cell_type": "markdown",
   "metadata": {},
   "source": [
    "Плата за веб-трафик взымается за гигабайты, потраченные за месяц и округленные в большую сторону. Переведем данные из столбца _mb_used_sum_ в гигабайты и округлим их в большую сторону, сохранив результаты в новый столбец:"
   ]
  },
  {
   "cell_type": "code",
   "execution_count": 26,
   "metadata": {},
   "outputs": [
    {
     "data": {
      "text/html": [
       "<div>\n",
       "<style scoped>\n",
       "    .dataframe tbody tr th:only-of-type {\n",
       "        vertical-align: middle;\n",
       "    }\n",
       "\n",
       "    .dataframe tbody tr th {\n",
       "        vertical-align: top;\n",
       "    }\n",
       "\n",
       "    .dataframe thead th {\n",
       "        text-align: right;\n",
       "    }\n",
       "</style>\n",
       "<table border=\"1\" class=\"dataframe\">\n",
       "  <thead>\n",
       "    <tr style=\"text-align: right;\">\n",
       "      <th></th>\n",
       "      <th>user_id</th>\n",
       "      <th>month</th>\n",
       "      <th>gb_used_sum</th>\n",
       "    </tr>\n",
       "  </thead>\n",
       "  <tbody>\n",
       "    <tr>\n",
       "      <td>0</td>\n",
       "      <td>1000</td>\n",
       "      <td>5</td>\n",
       "      <td>3</td>\n",
       "    </tr>\n",
       "    <tr>\n",
       "      <td>1</td>\n",
       "      <td>1000</td>\n",
       "      <td>6</td>\n",
       "      <td>23</td>\n",
       "    </tr>\n",
       "    <tr>\n",
       "      <td>2</td>\n",
       "      <td>1000</td>\n",
       "      <td>7</td>\n",
       "      <td>14</td>\n",
       "    </tr>\n",
       "    <tr>\n",
       "      <td>3</td>\n",
       "      <td>1000</td>\n",
       "      <td>8</td>\n",
       "      <td>14</td>\n",
       "    </tr>\n",
       "    <tr>\n",
       "      <td>4</td>\n",
       "      <td>1000</td>\n",
       "      <td>9</td>\n",
       "      <td>15</td>\n",
       "    </tr>\n",
       "    <tr>\n",
       "      <td>...</td>\n",
       "      <td>...</td>\n",
       "      <td>...</td>\n",
       "      <td>...</td>\n",
       "    </tr>\n",
       "    <tr>\n",
       "      <td>3198</td>\n",
       "      <td>1498</td>\n",
       "      <td>10</td>\n",
       "      <td>21</td>\n",
       "    </tr>\n",
       "    <tr>\n",
       "      <td>3199</td>\n",
       "      <td>1499</td>\n",
       "      <td>9</td>\n",
       "      <td>2</td>\n",
       "    </tr>\n",
       "    <tr>\n",
       "      <td>3200</td>\n",
       "      <td>1499</td>\n",
       "      <td>10</td>\n",
       "      <td>18</td>\n",
       "    </tr>\n",
       "    <tr>\n",
       "      <td>3201</td>\n",
       "      <td>1499</td>\n",
       "      <td>11</td>\n",
       "      <td>18</td>\n",
       "    </tr>\n",
       "    <tr>\n",
       "      <td>3202</td>\n",
       "      <td>1499</td>\n",
       "      <td>12</td>\n",
       "      <td>13</td>\n",
       "    </tr>\n",
       "  </tbody>\n",
       "</table>\n",
       "<p>3203 rows × 3 columns</p>\n",
       "</div>"
      ],
      "text/plain": [
       "      user_id  month  gb_used_sum\n",
       "0        1000      5            3\n",
       "1        1000      6           23\n",
       "2        1000      7           14\n",
       "3        1000      8           14\n",
       "4        1000      9           15\n",
       "...       ...    ...          ...\n",
       "3198     1498     10           21\n",
       "3199     1499      9            2\n",
       "3200     1499     10           18\n",
       "3201     1499     11           18\n",
       "3202     1499     12           13\n",
       "\n",
       "[3203 rows x 3 columns]"
      ]
     },
     "execution_count": 26,
     "metadata": {},
     "output_type": "execute_result"
    }
   ],
   "source": [
    "internet_total['gb_used_sum'] = np.ceil(internet_total['mb_used_sum']/1024).astype('Int8')\n",
    "internet_total = internet_total.drop('mb_used_sum', axis=1)\n",
    "internet_total"
   ]
  },
  {
   "cell_type": "markdown",
   "metadata": {},
   "source": [
    "Таблица _internet_total_ готова к дальнейшей работе."
   ]
  },
  {
   "cell_type": "markdown",
   "metadata": {},
   "source": [
    "### Подготовка данных таблицы _tariffs_"
   ]
  },
  {
   "cell_type": "markdown",
   "metadata": {},
   "source": [
    "Ознакомимся с общей информацией о таблице _tariffs_:"
   ]
  },
  {
   "cell_type": "code",
   "execution_count": 27,
   "metadata": {},
   "outputs": [
    {
     "name": "stdout",
     "output_type": "stream",
     "text": [
      "<class 'pandas.core.frame.DataFrame'>\n",
      "RangeIndex: 2 entries, 0 to 1\n",
      "Data columns (total 8 columns):\n",
      "messages_included        2 non-null int64\n",
      "mb_per_month_included    2 non-null int64\n",
      "minutes_included         2 non-null int64\n",
      "rub_monthly_fee          2 non-null int64\n",
      "rub_per_gb               2 non-null int64\n",
      "rub_per_message          2 non-null int64\n",
      "rub_per_minute           2 non-null int64\n",
      "tariff_name              2 non-null object\n",
      "dtypes: int64(7), object(1)\n",
      "memory usage: 256.0+ bytes\n"
     ]
    }
   ],
   "source": [
    "tariffs.info()"
   ]
  },
  {
   "cell_type": "markdown",
   "metadata": {},
   "source": [
    "Пропуски в таблице отсутствуют, дубликатов также нет.\n",
    "\n",
    "Для дальнейшей работы с данными нам необходимо знать, какой объем интернет-трафика в гигабайтах включен в абонентскую плату. Создадим новый столбец с указанными данными, а столбец с мегабайтами исключим за ненадобностью:"
   ]
  },
  {
   "cell_type": "code",
   "execution_count": 28,
   "metadata": {},
   "outputs": [
    {
     "data": {
      "text/html": [
       "<div>\n",
       "<style scoped>\n",
       "    .dataframe tbody tr th:only-of-type {\n",
       "        vertical-align: middle;\n",
       "    }\n",
       "\n",
       "    .dataframe tbody tr th {\n",
       "        vertical-align: top;\n",
       "    }\n",
       "\n",
       "    .dataframe thead th {\n",
       "        text-align: right;\n",
       "    }\n",
       "</style>\n",
       "<table border=\"1\" class=\"dataframe\">\n",
       "  <thead>\n",
       "    <tr style=\"text-align: right;\">\n",
       "      <th></th>\n",
       "      <th>messages_included</th>\n",
       "      <th>minutes_included</th>\n",
       "      <th>rub_monthly_fee</th>\n",
       "      <th>rub_per_gb</th>\n",
       "      <th>rub_per_message</th>\n",
       "      <th>rub_per_minute</th>\n",
       "      <th>tariff_name</th>\n",
       "      <th>gb_per_month_included</th>\n",
       "    </tr>\n",
       "  </thead>\n",
       "  <tbody>\n",
       "    <tr>\n",
       "      <td>0</td>\n",
       "      <td>50</td>\n",
       "      <td>500</td>\n",
       "      <td>550</td>\n",
       "      <td>200</td>\n",
       "      <td>3</td>\n",
       "      <td>3</td>\n",
       "      <td>smart</td>\n",
       "      <td>15</td>\n",
       "    </tr>\n",
       "    <tr>\n",
       "      <td>1</td>\n",
       "      <td>1000</td>\n",
       "      <td>3000</td>\n",
       "      <td>1950</td>\n",
       "      <td>150</td>\n",
       "      <td>1</td>\n",
       "      <td>1</td>\n",
       "      <td>ultra</td>\n",
       "      <td>30</td>\n",
       "    </tr>\n",
       "  </tbody>\n",
       "</table>\n",
       "</div>"
      ],
      "text/plain": [
       "   messages_included  minutes_included  rub_monthly_fee  rub_per_gb  \\\n",
       "0                 50               500              550         200   \n",
       "1               1000              3000             1950         150   \n",
       "\n",
       "   rub_per_message  rub_per_minute tariff_name  gb_per_month_included  \n",
       "0                3               3       smart                     15  \n",
       "1                1               1       ultra                     30  "
      ]
     },
     "execution_count": 28,
     "metadata": {},
     "output_type": "execute_result"
    }
   ],
   "source": [
    "tariffs['gb_per_month_included'] = np.ceil(tariffs['mb_per_month_included']/1024).astype('Int8')\n",
    "tariffs = tariffs.drop('mb_per_month_included', axis=1)\n",
    "tariffs.head()"
   ]
  },
  {
   "cell_type": "markdown",
   "metadata": {},
   "source": [
    "Таблица _tariffs_ готова к дальнейшей работе."
   ]
  },
  {
   "cell_type": "markdown",
   "metadata": {},
   "source": [
    "### Объединение сгруппированных таблиц в одну"
   ]
  },
  {
   "cell_type": "markdown",
   "metadata": {},
   "source": [
    "Объединим таблицы _calls_total_ и _messages_total_:"
   ]
  },
  {
   "cell_type": "code",
   "execution_count": 29,
   "metadata": {},
   "outputs": [
    {
     "data": {
      "text/html": [
       "<div>\n",
       "<style scoped>\n",
       "    .dataframe tbody tr th:only-of-type {\n",
       "        vertical-align: middle;\n",
       "    }\n",
       "\n",
       "    .dataframe tbody tr th {\n",
       "        vertical-align: top;\n",
       "    }\n",
       "\n",
       "    .dataframe thead th {\n",
       "        text-align: right;\n",
       "    }\n",
       "</style>\n",
       "<table border=\"1\" class=\"dataframe\">\n",
       "  <thead>\n",
       "    <tr style=\"text-align: right;\">\n",
       "      <th></th>\n",
       "      <th>user_id</th>\n",
       "      <th>month</th>\n",
       "      <th>calls_number</th>\n",
       "      <th>duration_sum</th>\n",
       "      <th>messages_number</th>\n",
       "    </tr>\n",
       "  </thead>\n",
       "  <tbody>\n",
       "    <tr>\n",
       "      <td>0</td>\n",
       "      <td>1000</td>\n",
       "      <td>5</td>\n",
       "      <td>22.00</td>\n",
       "      <td>159</td>\n",
       "      <td>22.00</td>\n",
       "    </tr>\n",
       "    <tr>\n",
       "      <td>1</td>\n",
       "      <td>1000</td>\n",
       "      <td>6</td>\n",
       "      <td>43.00</td>\n",
       "      <td>172</td>\n",
       "      <td>60.00</td>\n",
       "    </tr>\n",
       "    <tr>\n",
       "      <td>2</td>\n",
       "      <td>1000</td>\n",
       "      <td>7</td>\n",
       "      <td>47.00</td>\n",
       "      <td>340</td>\n",
       "      <td>75.00</td>\n",
       "    </tr>\n",
       "    <tr>\n",
       "      <td>3</td>\n",
       "      <td>1000</td>\n",
       "      <td>8</td>\n",
       "      <td>52.00</td>\n",
       "      <td>408</td>\n",
       "      <td>81.00</td>\n",
       "    </tr>\n",
       "    <tr>\n",
       "      <td>4</td>\n",
       "      <td>1000</td>\n",
       "      <td>9</td>\n",
       "      <td>58.00</td>\n",
       "      <td>466</td>\n",
       "      <td>57.00</td>\n",
       "    </tr>\n",
       "    <tr>\n",
       "      <td>...</td>\n",
       "      <td>...</td>\n",
       "      <td>...</td>\n",
       "      <td>...</td>\n",
       "      <td>...</td>\n",
       "      <td>...</td>\n",
       "    </tr>\n",
       "    <tr>\n",
       "      <td>3208</td>\n",
       "      <td>1489</td>\n",
       "      <td>8</td>\n",
       "      <td>nan</td>\n",
       "      <td>NaN</td>\n",
       "      <td>17.00</td>\n",
       "    </tr>\n",
       "    <tr>\n",
       "      <td>3209</td>\n",
       "      <td>1489</td>\n",
       "      <td>9</td>\n",
       "      <td>nan</td>\n",
       "      <td>NaN</td>\n",
       "      <td>32.00</td>\n",
       "    </tr>\n",
       "    <tr>\n",
       "      <td>3210</td>\n",
       "      <td>1489</td>\n",
       "      <td>10</td>\n",
       "      <td>nan</td>\n",
       "      <td>NaN</td>\n",
       "      <td>21.00</td>\n",
       "    </tr>\n",
       "    <tr>\n",
       "      <td>3211</td>\n",
       "      <td>1489</td>\n",
       "      <td>11</td>\n",
       "      <td>nan</td>\n",
       "      <td>NaN</td>\n",
       "      <td>20.00</td>\n",
       "    </tr>\n",
       "    <tr>\n",
       "      <td>3212</td>\n",
       "      <td>1489</td>\n",
       "      <td>12</td>\n",
       "      <td>nan</td>\n",
       "      <td>NaN</td>\n",
       "      <td>35.00</td>\n",
       "    </tr>\n",
       "  </tbody>\n",
       "</table>\n",
       "<p>3213 rows × 5 columns</p>\n",
       "</div>"
      ],
      "text/plain": [
       "      user_id  month  calls_number  duration_sum  messages_number\n",
       "0        1000      5         22.00           159            22.00\n",
       "1        1000      6         43.00           172            60.00\n",
       "2        1000      7         47.00           340            75.00\n",
       "3        1000      8         52.00           408            81.00\n",
       "4        1000      9         58.00           466            57.00\n",
       "...       ...    ...           ...           ...              ...\n",
       "3208     1489      8           nan           NaN            17.00\n",
       "3209     1489      9           nan           NaN            32.00\n",
       "3210     1489     10           nan           NaN            21.00\n",
       "3211     1489     11           nan           NaN            20.00\n",
       "3212     1489     12           nan           NaN            35.00\n",
       "\n",
       "[3213 rows x 5 columns]"
      ]
     },
     "execution_count": 29,
     "metadata": {},
     "output_type": "execute_result"
    }
   ],
   "source": [
    "df = calls_total.merge(messages_total, on=['user_id', 'month'], how='outer')\n",
    "df"
   ]
  },
  {
   "cell_type": "markdown",
   "metadata": {},
   "source": [
    "Добавим в таблицу _df_ данные из таблицы _internet_total_:"
   ]
  },
  {
   "cell_type": "code",
   "execution_count": 30,
   "metadata": {},
   "outputs": [
    {
     "data": {
      "text/html": [
       "<div>\n",
       "<style scoped>\n",
       "    .dataframe tbody tr th:only-of-type {\n",
       "        vertical-align: middle;\n",
       "    }\n",
       "\n",
       "    .dataframe tbody tr th {\n",
       "        vertical-align: top;\n",
       "    }\n",
       "\n",
       "    .dataframe thead th {\n",
       "        text-align: right;\n",
       "    }\n",
       "</style>\n",
       "<table border=\"1\" class=\"dataframe\">\n",
       "  <thead>\n",
       "    <tr style=\"text-align: right;\">\n",
       "      <th></th>\n",
       "      <th>user_id</th>\n",
       "      <th>month</th>\n",
       "      <th>calls_number</th>\n",
       "      <th>duration_sum</th>\n",
       "      <th>messages_number</th>\n",
       "      <th>gb_used_sum</th>\n",
       "    </tr>\n",
       "  </thead>\n",
       "  <tbody>\n",
       "    <tr>\n",
       "      <td>0</td>\n",
       "      <td>1000</td>\n",
       "      <td>5</td>\n",
       "      <td>22.00</td>\n",
       "      <td>159</td>\n",
       "      <td>22.00</td>\n",
       "      <td>3</td>\n",
       "    </tr>\n",
       "    <tr>\n",
       "      <td>1</td>\n",
       "      <td>1000</td>\n",
       "      <td>6</td>\n",
       "      <td>43.00</td>\n",
       "      <td>172</td>\n",
       "      <td>60.00</td>\n",
       "      <td>23</td>\n",
       "    </tr>\n",
       "    <tr>\n",
       "      <td>2</td>\n",
       "      <td>1000</td>\n",
       "      <td>7</td>\n",
       "      <td>47.00</td>\n",
       "      <td>340</td>\n",
       "      <td>75.00</td>\n",
       "      <td>14</td>\n",
       "    </tr>\n",
       "    <tr>\n",
       "      <td>3</td>\n",
       "      <td>1000</td>\n",
       "      <td>8</td>\n",
       "      <td>52.00</td>\n",
       "      <td>408</td>\n",
       "      <td>81.00</td>\n",
       "      <td>14</td>\n",
       "    </tr>\n",
       "    <tr>\n",
       "      <td>4</td>\n",
       "      <td>1000</td>\n",
       "      <td>9</td>\n",
       "      <td>58.00</td>\n",
       "      <td>466</td>\n",
       "      <td>57.00</td>\n",
       "      <td>15</td>\n",
       "    </tr>\n",
       "    <tr>\n",
       "      <td>...</td>\n",
       "      <td>...</td>\n",
       "      <td>...</td>\n",
       "      <td>...</td>\n",
       "      <td>...</td>\n",
       "      <td>...</td>\n",
       "      <td>...</td>\n",
       "    </tr>\n",
       "    <tr>\n",
       "      <td>3209</td>\n",
       "      <td>1489</td>\n",
       "      <td>9</td>\n",
       "      <td>nan</td>\n",
       "      <td>NaN</td>\n",
       "      <td>32.00</td>\n",
       "      <td>17</td>\n",
       "    </tr>\n",
       "    <tr>\n",
       "      <td>3210</td>\n",
       "      <td>1489</td>\n",
       "      <td>10</td>\n",
       "      <td>nan</td>\n",
       "      <td>NaN</td>\n",
       "      <td>21.00</td>\n",
       "      <td>20</td>\n",
       "    </tr>\n",
       "    <tr>\n",
       "      <td>3211</td>\n",
       "      <td>1489</td>\n",
       "      <td>11</td>\n",
       "      <td>nan</td>\n",
       "      <td>NaN</td>\n",
       "      <td>20.00</td>\n",
       "      <td>18</td>\n",
       "    </tr>\n",
       "    <tr>\n",
       "      <td>3212</td>\n",
       "      <td>1489</td>\n",
       "      <td>12</td>\n",
       "      <td>nan</td>\n",
       "      <td>NaN</td>\n",
       "      <td>35.00</td>\n",
       "      <td>17</td>\n",
       "    </tr>\n",
       "    <tr>\n",
       "      <td>3213</td>\n",
       "      <td>1476</td>\n",
       "      <td>4</td>\n",
       "      <td>nan</td>\n",
       "      <td>NaN</td>\n",
       "      <td>nan</td>\n",
       "      <td>1</td>\n",
       "    </tr>\n",
       "  </tbody>\n",
       "</table>\n",
       "<p>3214 rows × 6 columns</p>\n",
       "</div>"
      ],
      "text/plain": [
       "      user_id  month  calls_number  duration_sum  messages_number  gb_used_sum\n",
       "0        1000      5         22.00           159            22.00            3\n",
       "1        1000      6         43.00           172            60.00           23\n",
       "2        1000      7         47.00           340            75.00           14\n",
       "3        1000      8         52.00           408            81.00           14\n",
       "4        1000      9         58.00           466            57.00           15\n",
       "...       ...    ...           ...           ...              ...          ...\n",
       "3209     1489      9           nan           NaN            32.00           17\n",
       "3210     1489     10           nan           NaN            21.00           20\n",
       "3211     1489     11           nan           NaN            20.00           18\n",
       "3212     1489     12           nan           NaN            35.00           17\n",
       "3213     1476      4           nan           NaN              nan            1\n",
       "\n",
       "[3214 rows x 6 columns]"
      ]
     },
     "execution_count": 30,
     "metadata": {},
     "output_type": "execute_result"
    }
   ],
   "source": [
    "df = df.merge(internet_total, on=['user_id', 'month'], how='outer')\n",
    "df"
   ]
  },
  {
   "cell_type": "markdown",
   "metadata": {},
   "source": [
    "Добавим в таблицу _df_ данные из таблицы _usres_total_:"
   ]
  },
  {
   "cell_type": "code",
   "execution_count": 31,
   "metadata": {
    "scrolled": true
   },
   "outputs": [
    {
     "data": {
      "text/html": [
       "<div>\n",
       "<style scoped>\n",
       "    .dataframe tbody tr th:only-of-type {\n",
       "        vertical-align: middle;\n",
       "    }\n",
       "\n",
       "    .dataframe tbody tr th {\n",
       "        vertical-align: top;\n",
       "    }\n",
       "\n",
       "    .dataframe thead th {\n",
       "        text-align: right;\n",
       "    }\n",
       "</style>\n",
       "<table border=\"1\" class=\"dataframe\">\n",
       "  <thead>\n",
       "    <tr style=\"text-align: right;\">\n",
       "      <th></th>\n",
       "      <th>user_id</th>\n",
       "      <th>month</th>\n",
       "      <th>calls_number</th>\n",
       "      <th>duration_sum</th>\n",
       "      <th>messages_number</th>\n",
       "      <th>gb_used_sum</th>\n",
       "      <th>city</th>\n",
       "      <th>tariff_name</th>\n",
       "    </tr>\n",
       "  </thead>\n",
       "  <tbody>\n",
       "    <tr>\n",
       "      <td>0</td>\n",
       "      <td>1000</td>\n",
       "      <td>5.00</td>\n",
       "      <td>22.00</td>\n",
       "      <td>159</td>\n",
       "      <td>22.00</td>\n",
       "      <td>3</td>\n",
       "      <td>Краснодар</td>\n",
       "      <td>ultra</td>\n",
       "    </tr>\n",
       "    <tr>\n",
       "      <td>1</td>\n",
       "      <td>1000</td>\n",
       "      <td>6.00</td>\n",
       "      <td>43.00</td>\n",
       "      <td>172</td>\n",
       "      <td>60.00</td>\n",
       "      <td>23</td>\n",
       "      <td>Краснодар</td>\n",
       "      <td>ultra</td>\n",
       "    </tr>\n",
       "    <tr>\n",
       "      <td>2</td>\n",
       "      <td>1000</td>\n",
       "      <td>7.00</td>\n",
       "      <td>47.00</td>\n",
       "      <td>340</td>\n",
       "      <td>75.00</td>\n",
       "      <td>14</td>\n",
       "      <td>Краснодар</td>\n",
       "      <td>ultra</td>\n",
       "    </tr>\n",
       "    <tr>\n",
       "      <td>3</td>\n",
       "      <td>1000</td>\n",
       "      <td>8.00</td>\n",
       "      <td>52.00</td>\n",
       "      <td>408</td>\n",
       "      <td>81.00</td>\n",
       "      <td>14</td>\n",
       "      <td>Краснодар</td>\n",
       "      <td>ultra</td>\n",
       "    </tr>\n",
       "    <tr>\n",
       "      <td>4</td>\n",
       "      <td>1000</td>\n",
       "      <td>9.00</td>\n",
       "      <td>58.00</td>\n",
       "      <td>466</td>\n",
       "      <td>57.00</td>\n",
       "      <td>15</td>\n",
       "      <td>Краснодар</td>\n",
       "      <td>ultra</td>\n",
       "    </tr>\n",
       "    <tr>\n",
       "      <td>...</td>\n",
       "      <td>...</td>\n",
       "      <td>...</td>\n",
       "      <td>...</td>\n",
       "      <td>...</td>\n",
       "      <td>...</td>\n",
       "      <td>...</td>\n",
       "      <td>...</td>\n",
       "      <td>...</td>\n",
       "    </tr>\n",
       "    <tr>\n",
       "      <td>3211</td>\n",
       "      <td>1489</td>\n",
       "      <td>10.00</td>\n",
       "      <td>nan</td>\n",
       "      <td>NaN</td>\n",
       "      <td>21.00</td>\n",
       "      <td>20</td>\n",
       "      <td>Санкт-Петербург</td>\n",
       "      <td>smart</td>\n",
       "    </tr>\n",
       "    <tr>\n",
       "      <td>3212</td>\n",
       "      <td>1489</td>\n",
       "      <td>11.00</td>\n",
       "      <td>nan</td>\n",
       "      <td>NaN</td>\n",
       "      <td>20.00</td>\n",
       "      <td>18</td>\n",
       "      <td>Санкт-Петербург</td>\n",
       "      <td>smart</td>\n",
       "    </tr>\n",
       "    <tr>\n",
       "      <td>3213</td>\n",
       "      <td>1489</td>\n",
       "      <td>12.00</td>\n",
       "      <td>nan</td>\n",
       "      <td>NaN</td>\n",
       "      <td>35.00</td>\n",
       "      <td>17</td>\n",
       "      <td>Санкт-Петербург</td>\n",
       "      <td>smart</td>\n",
       "    </tr>\n",
       "    <tr>\n",
       "      <td>3214</td>\n",
       "      <td>1128</td>\n",
       "      <td>nan</td>\n",
       "      <td>nan</td>\n",
       "      <td>NaN</td>\n",
       "      <td>nan</td>\n",
       "      <td>NaN</td>\n",
       "      <td>Волжский</td>\n",
       "      <td>ultra</td>\n",
       "    </tr>\n",
       "    <tr>\n",
       "      <td>3215</td>\n",
       "      <td>1371</td>\n",
       "      <td>nan</td>\n",
       "      <td>nan</td>\n",
       "      <td>NaN</td>\n",
       "      <td>nan</td>\n",
       "      <td>NaN</td>\n",
       "      <td>Омск</td>\n",
       "      <td>smart</td>\n",
       "    </tr>\n",
       "  </tbody>\n",
       "</table>\n",
       "<p>3216 rows × 8 columns</p>\n",
       "</div>"
      ],
      "text/plain": [
       "      user_id  month  calls_number  duration_sum  messages_number  \\\n",
       "0        1000   5.00         22.00           159            22.00   \n",
       "1        1000   6.00         43.00           172            60.00   \n",
       "2        1000   7.00         47.00           340            75.00   \n",
       "3        1000   8.00         52.00           408            81.00   \n",
       "4        1000   9.00         58.00           466            57.00   \n",
       "...       ...    ...           ...           ...              ...   \n",
       "3211     1489  10.00           nan           NaN            21.00   \n",
       "3212     1489  11.00           nan           NaN            20.00   \n",
       "3213     1489  12.00           nan           NaN            35.00   \n",
       "3214     1128    nan           nan           NaN              nan   \n",
       "3215     1371    nan           nan           NaN              nan   \n",
       "\n",
       "      gb_used_sum             city tariff_name  \n",
       "0               3        Краснодар       ultra  \n",
       "1              23        Краснодар       ultra  \n",
       "2              14        Краснодар       ultra  \n",
       "3              14        Краснодар       ultra  \n",
       "4              15        Краснодар       ultra  \n",
       "...           ...              ...         ...  \n",
       "3211           20  Санкт-Петербург       smart  \n",
       "3212           18  Санкт-Петербург       smart  \n",
       "3213           17  Санкт-Петербург       smart  \n",
       "3214          NaN         Волжский       ultra  \n",
       "3215          NaN             Омск       smart  \n",
       "\n",
       "[3216 rows x 8 columns]"
      ]
     },
     "execution_count": 31,
     "metadata": {},
     "output_type": "execute_result"
    }
   ],
   "source": [
    "df = df.merge(users_total, on='user_id', how='outer')\n",
    "df"
   ]
  },
  {
   "cell_type": "markdown",
   "metadata": {},
   "source": [
    "Добавим в таблицу _df_ данные из таблицы _tariffs_:"
   ]
  },
  {
   "cell_type": "code",
   "execution_count": 32,
   "metadata": {
    "scrolled": true
   },
   "outputs": [
    {
     "data": {
      "text/html": [
       "<div>\n",
       "<style scoped>\n",
       "    .dataframe tbody tr th:only-of-type {\n",
       "        vertical-align: middle;\n",
       "    }\n",
       "\n",
       "    .dataframe tbody tr th {\n",
       "        vertical-align: top;\n",
       "    }\n",
       "\n",
       "    .dataframe thead th {\n",
       "        text-align: right;\n",
       "    }\n",
       "</style>\n",
       "<table border=\"1\" class=\"dataframe\">\n",
       "  <thead>\n",
       "    <tr style=\"text-align: right;\">\n",
       "      <th></th>\n",
       "      <th>user_id</th>\n",
       "      <th>month</th>\n",
       "      <th>calls_number</th>\n",
       "      <th>duration_sum</th>\n",
       "      <th>messages_number</th>\n",
       "      <th>gb_used_sum</th>\n",
       "      <th>city</th>\n",
       "      <th>tariff_name</th>\n",
       "      <th>messages_included</th>\n",
       "      <th>minutes_included</th>\n",
       "      <th>rub_monthly_fee</th>\n",
       "      <th>rub_per_gb</th>\n",
       "      <th>rub_per_message</th>\n",
       "      <th>rub_per_minute</th>\n",
       "      <th>gb_per_month_included</th>\n",
       "    </tr>\n",
       "  </thead>\n",
       "  <tbody>\n",
       "    <tr>\n",
       "      <td>0</td>\n",
       "      <td>1000</td>\n",
       "      <td>5.00</td>\n",
       "      <td>22.00</td>\n",
       "      <td>159</td>\n",
       "      <td>22.00</td>\n",
       "      <td>3</td>\n",
       "      <td>Краснодар</td>\n",
       "      <td>ultra</td>\n",
       "      <td>1000</td>\n",
       "      <td>3000</td>\n",
       "      <td>1950</td>\n",
       "      <td>150</td>\n",
       "      <td>1</td>\n",
       "      <td>1</td>\n",
       "      <td>30</td>\n",
       "    </tr>\n",
       "    <tr>\n",
       "      <td>1</td>\n",
       "      <td>1000</td>\n",
       "      <td>6.00</td>\n",
       "      <td>43.00</td>\n",
       "      <td>172</td>\n",
       "      <td>60.00</td>\n",
       "      <td>23</td>\n",
       "      <td>Краснодар</td>\n",
       "      <td>ultra</td>\n",
       "      <td>1000</td>\n",
       "      <td>3000</td>\n",
       "      <td>1950</td>\n",
       "      <td>150</td>\n",
       "      <td>1</td>\n",
       "      <td>1</td>\n",
       "      <td>30</td>\n",
       "    </tr>\n",
       "    <tr>\n",
       "      <td>2</td>\n",
       "      <td>1000</td>\n",
       "      <td>7.00</td>\n",
       "      <td>47.00</td>\n",
       "      <td>340</td>\n",
       "      <td>75.00</td>\n",
       "      <td>14</td>\n",
       "      <td>Краснодар</td>\n",
       "      <td>ultra</td>\n",
       "      <td>1000</td>\n",
       "      <td>3000</td>\n",
       "      <td>1950</td>\n",
       "      <td>150</td>\n",
       "      <td>1</td>\n",
       "      <td>1</td>\n",
       "      <td>30</td>\n",
       "    </tr>\n",
       "    <tr>\n",
       "      <td>3</td>\n",
       "      <td>1000</td>\n",
       "      <td>8.00</td>\n",
       "      <td>52.00</td>\n",
       "      <td>408</td>\n",
       "      <td>81.00</td>\n",
       "      <td>14</td>\n",
       "      <td>Краснодар</td>\n",
       "      <td>ultra</td>\n",
       "      <td>1000</td>\n",
       "      <td>3000</td>\n",
       "      <td>1950</td>\n",
       "      <td>150</td>\n",
       "      <td>1</td>\n",
       "      <td>1</td>\n",
       "      <td>30</td>\n",
       "    </tr>\n",
       "    <tr>\n",
       "      <td>4</td>\n",
       "      <td>1000</td>\n",
       "      <td>9.00</td>\n",
       "      <td>58.00</td>\n",
       "      <td>466</td>\n",
       "      <td>57.00</td>\n",
       "      <td>15</td>\n",
       "      <td>Краснодар</td>\n",
       "      <td>ultra</td>\n",
       "      <td>1000</td>\n",
       "      <td>3000</td>\n",
       "      <td>1950</td>\n",
       "      <td>150</td>\n",
       "      <td>1</td>\n",
       "      <td>1</td>\n",
       "      <td>30</td>\n",
       "    </tr>\n",
       "    <tr>\n",
       "      <td>...</td>\n",
       "      <td>...</td>\n",
       "      <td>...</td>\n",
       "      <td>...</td>\n",
       "      <td>...</td>\n",
       "      <td>...</td>\n",
       "      <td>...</td>\n",
       "      <td>...</td>\n",
       "      <td>...</td>\n",
       "      <td>...</td>\n",
       "      <td>...</td>\n",
       "      <td>...</td>\n",
       "      <td>...</td>\n",
       "      <td>...</td>\n",
       "      <td>...</td>\n",
       "      <td>...</td>\n",
       "    </tr>\n",
       "    <tr>\n",
       "      <td>3211</td>\n",
       "      <td>1489</td>\n",
       "      <td>9.00</td>\n",
       "      <td>nan</td>\n",
       "      <td>NaN</td>\n",
       "      <td>32.00</td>\n",
       "      <td>17</td>\n",
       "      <td>Санкт-Петербург</td>\n",
       "      <td>smart</td>\n",
       "      <td>50</td>\n",
       "      <td>500</td>\n",
       "      <td>550</td>\n",
       "      <td>200</td>\n",
       "      <td>3</td>\n",
       "      <td>3</td>\n",
       "      <td>15</td>\n",
       "    </tr>\n",
       "    <tr>\n",
       "      <td>3212</td>\n",
       "      <td>1489</td>\n",
       "      <td>10.00</td>\n",
       "      <td>nan</td>\n",
       "      <td>NaN</td>\n",
       "      <td>21.00</td>\n",
       "      <td>20</td>\n",
       "      <td>Санкт-Петербург</td>\n",
       "      <td>smart</td>\n",
       "      <td>50</td>\n",
       "      <td>500</td>\n",
       "      <td>550</td>\n",
       "      <td>200</td>\n",
       "      <td>3</td>\n",
       "      <td>3</td>\n",
       "      <td>15</td>\n",
       "    </tr>\n",
       "    <tr>\n",
       "      <td>3213</td>\n",
       "      <td>1489</td>\n",
       "      <td>11.00</td>\n",
       "      <td>nan</td>\n",
       "      <td>NaN</td>\n",
       "      <td>20.00</td>\n",
       "      <td>18</td>\n",
       "      <td>Санкт-Петербург</td>\n",
       "      <td>smart</td>\n",
       "      <td>50</td>\n",
       "      <td>500</td>\n",
       "      <td>550</td>\n",
       "      <td>200</td>\n",
       "      <td>3</td>\n",
       "      <td>3</td>\n",
       "      <td>15</td>\n",
       "    </tr>\n",
       "    <tr>\n",
       "      <td>3214</td>\n",
       "      <td>1489</td>\n",
       "      <td>12.00</td>\n",
       "      <td>nan</td>\n",
       "      <td>NaN</td>\n",
       "      <td>35.00</td>\n",
       "      <td>17</td>\n",
       "      <td>Санкт-Петербург</td>\n",
       "      <td>smart</td>\n",
       "      <td>50</td>\n",
       "      <td>500</td>\n",
       "      <td>550</td>\n",
       "      <td>200</td>\n",
       "      <td>3</td>\n",
       "      <td>3</td>\n",
       "      <td>15</td>\n",
       "    </tr>\n",
       "    <tr>\n",
       "      <td>3215</td>\n",
       "      <td>1371</td>\n",
       "      <td>nan</td>\n",
       "      <td>nan</td>\n",
       "      <td>NaN</td>\n",
       "      <td>nan</td>\n",
       "      <td>NaN</td>\n",
       "      <td>Омск</td>\n",
       "      <td>smart</td>\n",
       "      <td>50</td>\n",
       "      <td>500</td>\n",
       "      <td>550</td>\n",
       "      <td>200</td>\n",
       "      <td>3</td>\n",
       "      <td>3</td>\n",
       "      <td>15</td>\n",
       "    </tr>\n",
       "  </tbody>\n",
       "</table>\n",
       "<p>3216 rows × 15 columns</p>\n",
       "</div>"
      ],
      "text/plain": [
       "      user_id  month  calls_number  duration_sum  messages_number  \\\n",
       "0        1000   5.00         22.00           159            22.00   \n",
       "1        1000   6.00         43.00           172            60.00   \n",
       "2        1000   7.00         47.00           340            75.00   \n",
       "3        1000   8.00         52.00           408            81.00   \n",
       "4        1000   9.00         58.00           466            57.00   \n",
       "...       ...    ...           ...           ...              ...   \n",
       "3211     1489   9.00           nan           NaN            32.00   \n",
       "3212     1489  10.00           nan           NaN            21.00   \n",
       "3213     1489  11.00           nan           NaN            20.00   \n",
       "3214     1489  12.00           nan           NaN            35.00   \n",
       "3215     1371    nan           nan           NaN              nan   \n",
       "\n",
       "      gb_used_sum             city tariff_name  messages_included  \\\n",
       "0               3        Краснодар       ultra               1000   \n",
       "1              23        Краснодар       ultra               1000   \n",
       "2              14        Краснодар       ultra               1000   \n",
       "3              14        Краснодар       ultra               1000   \n",
       "4              15        Краснодар       ultra               1000   \n",
       "...           ...              ...         ...                ...   \n",
       "3211           17  Санкт-Петербург       smart                 50   \n",
       "3212           20  Санкт-Петербург       smart                 50   \n",
       "3213           18  Санкт-Петербург       smart                 50   \n",
       "3214           17  Санкт-Петербург       smart                 50   \n",
       "3215          NaN             Омск       smart                 50   \n",
       "\n",
       "      minutes_included  rub_monthly_fee  rub_per_gb  rub_per_message  \\\n",
       "0                 3000             1950         150                1   \n",
       "1                 3000             1950         150                1   \n",
       "2                 3000             1950         150                1   \n",
       "3                 3000             1950         150                1   \n",
       "4                 3000             1950         150                1   \n",
       "...                ...              ...         ...              ...   \n",
       "3211               500              550         200                3   \n",
       "3212               500              550         200                3   \n",
       "3213               500              550         200                3   \n",
       "3214               500              550         200                3   \n",
       "3215               500              550         200                3   \n",
       "\n",
       "      rub_per_minute  gb_per_month_included  \n",
       "0                  1                     30  \n",
       "1                  1                     30  \n",
       "2                  1                     30  \n",
       "3                  1                     30  \n",
       "4                  1                     30  \n",
       "...              ...                    ...  \n",
       "3211               3                     15  \n",
       "3212               3                     15  \n",
       "3213               3                     15  \n",
       "3214               3                     15  \n",
       "3215               3                     15  \n",
       "\n",
       "[3216 rows x 15 columns]"
      ]
     },
     "execution_count": 32,
     "metadata": {},
     "output_type": "execute_result"
    }
   ],
   "source": [
    "df = df.merge(tariffs, on='tariff_name', how='outer')\n",
    "df"
   ]
  },
  {
   "cell_type": "markdown",
   "metadata": {},
   "source": [
    "Изучим общую информацию о финальном датасете:"
   ]
  },
  {
   "cell_type": "code",
   "execution_count": 33,
   "metadata": {},
   "outputs": [
    {
     "name": "stdout",
     "output_type": "stream",
     "text": [
      "<class 'pandas.core.frame.DataFrame'>\n",
      "Int64Index: 3216 entries, 0 to 3215\n",
      "Data columns (total 15 columns):\n",
      "user_id                  3216 non-null int64\n",
      "month                    3214 non-null float64\n",
      "calls_number             3174 non-null float64\n",
      "duration_sum             3174 non-null Int16\n",
      "messages_number          2717 non-null float64\n",
      "gb_used_sum              3203 non-null Int8\n",
      "city                     3216 non-null object\n",
      "tariff_name              3216 non-null object\n",
      "messages_included        3216 non-null int64\n",
      "minutes_included         3216 non-null int64\n",
      "rub_monthly_fee          3216 non-null int64\n",
      "rub_per_gb               3216 non-null int64\n",
      "rub_per_message          3216 non-null int64\n",
      "rub_per_minute           3216 non-null int64\n",
      "gb_per_month_included    3216 non-null Int8\n",
      "dtypes: Int16(1), Int8(2), float64(3), int64(7), object(2)\n",
      "memory usage: 348.6+ KB\n"
     ]
    }
   ],
   "source": [
    "df.info()"
   ]
  },
  {
   "cell_type": "code",
   "execution_count": 34,
   "metadata": {},
   "outputs": [
    {
     "data": {
      "text/plain": [
       "(500,)"
      ]
     },
     "execution_count": 34,
     "metadata": {},
     "output_type": "execute_result"
    }
   ],
   "source": [
    "# Комментарий ревьюера\n",
    "df.user_id.unique().shape "
   ]
  },
  {
   "cell_type": "code",
   "execution_count": 35,
   "metadata": {},
   "outputs": [
    {
     "data": {
      "text/html": [
       "<div>\n",
       "<style scoped>\n",
       "    .dataframe tbody tr th:only-of-type {\n",
       "        vertical-align: middle;\n",
       "    }\n",
       "\n",
       "    .dataframe tbody tr th {\n",
       "        vertical-align: top;\n",
       "    }\n",
       "\n",
       "    .dataframe thead th {\n",
       "        text-align: right;\n",
       "    }\n",
       "</style>\n",
       "<table border=\"1\" class=\"dataframe\">\n",
       "  <thead>\n",
       "    <tr style=\"text-align: right;\">\n",
       "      <th></th>\n",
       "      <th>count</th>\n",
       "      <th>mean</th>\n",
       "      <th>std</th>\n",
       "      <th>min</th>\n",
       "      <th>25%</th>\n",
       "      <th>50%</th>\n",
       "      <th>75%</th>\n",
       "      <th>max</th>\n",
       "    </tr>\n",
       "  </thead>\n",
       "  <tbody>\n",
       "    <tr>\n",
       "      <td>user_id</td>\n",
       "      <td>3,216.00</td>\n",
       "      <td>1,251.59</td>\n",
       "      <td>144.65</td>\n",
       "      <td>1,000.00</td>\n",
       "      <td>1,125.00</td>\n",
       "      <td>1,253.00</td>\n",
       "      <td>1,378.25</td>\n",
       "      <td>1,499.00</td>\n",
       "    </tr>\n",
       "    <tr>\n",
       "      <td>month</td>\n",
       "      <td>3,214.00</td>\n",
       "      <td>8.32</td>\n",
       "      <td>2.91</td>\n",
       "      <td>1.00</td>\n",
       "      <td>6.00</td>\n",
       "      <td>9.00</td>\n",
       "      <td>11.00</td>\n",
       "      <td>12.00</td>\n",
       "    </tr>\n",
       "    <tr>\n",
       "      <td>calls_number</td>\n",
       "      <td>3,174.00</td>\n",
       "      <td>63.83</td>\n",
       "      <td>32.68</td>\n",
       "      <td>1.00</td>\n",
       "      <td>41.00</td>\n",
       "      <td>63.00</td>\n",
       "      <td>83.00</td>\n",
       "      <td>244.00</td>\n",
       "    </tr>\n",
       "    <tr>\n",
       "      <td>duration_sum</td>\n",
       "      <td>3,174.00</td>\n",
       "      <td>456.93</td>\n",
       "      <td>238.03</td>\n",
       "      <td>0.00</td>\n",
       "      <td>290.00</td>\n",
       "      <td>447.00</td>\n",
       "      <td>592.00</td>\n",
       "      <td>1,673.00</td>\n",
       "    </tr>\n",
       "    <tr>\n",
       "      <td>messages_number</td>\n",
       "      <td>2,717.00</td>\n",
       "      <td>45.28</td>\n",
       "      <td>35.05</td>\n",
       "      <td>1.00</td>\n",
       "      <td>19.00</td>\n",
       "      <td>38.00</td>\n",
       "      <td>63.00</td>\n",
       "      <td>224.00</td>\n",
       "    </tr>\n",
       "    <tr>\n",
       "      <td>gb_used_sum</td>\n",
       "      <td>3,203.00</td>\n",
       "      <td>17.36</td>\n",
       "      <td>7.34</td>\n",
       "      <td>0.00</td>\n",
       "      <td>13.00</td>\n",
       "      <td>17.00</td>\n",
       "      <td>21.00</td>\n",
       "      <td>49.00</td>\n",
       "    </tr>\n",
       "    <tr>\n",
       "      <td>messages_included</td>\n",
       "      <td>3,216.00</td>\n",
       "      <td>341.26</td>\n",
       "      <td>438.09</td>\n",
       "      <td>50.00</td>\n",
       "      <td>50.00</td>\n",
       "      <td>50.00</td>\n",
       "      <td>1,000.00</td>\n",
       "      <td>1,000.00</td>\n",
       "    </tr>\n",
       "    <tr>\n",
       "      <td>minutes_included</td>\n",
       "      <td>3,216.00</td>\n",
       "      <td>1,266.48</td>\n",
       "      <td>1,152.88</td>\n",
       "      <td>500.00</td>\n",
       "      <td>500.00</td>\n",
       "      <td>500.00</td>\n",
       "      <td>3,000.00</td>\n",
       "      <td>3,000.00</td>\n",
       "    </tr>\n",
       "    <tr>\n",
       "      <td>rub_monthly_fee</td>\n",
       "      <td>3,216.00</td>\n",
       "      <td>979.23</td>\n",
       "      <td>645.61</td>\n",
       "      <td>550.00</td>\n",
       "      <td>550.00</td>\n",
       "      <td>550.00</td>\n",
       "      <td>1,950.00</td>\n",
       "      <td>1,950.00</td>\n",
       "    </tr>\n",
       "    <tr>\n",
       "      <td>rub_per_gb</td>\n",
       "      <td>3,216.00</td>\n",
       "      <td>184.67</td>\n",
       "      <td>23.06</td>\n",
       "      <td>150.00</td>\n",
       "      <td>150.00</td>\n",
       "      <td>200.00</td>\n",
       "      <td>200.00</td>\n",
       "      <td>200.00</td>\n",
       "    </tr>\n",
       "    <tr>\n",
       "      <td>rub_per_message</td>\n",
       "      <td>3,216.00</td>\n",
       "      <td>2.39</td>\n",
       "      <td>0.92</td>\n",
       "      <td>1.00</td>\n",
       "      <td>1.00</td>\n",
       "      <td>3.00</td>\n",
       "      <td>3.00</td>\n",
       "      <td>3.00</td>\n",
       "    </tr>\n",
       "    <tr>\n",
       "      <td>rub_per_minute</td>\n",
       "      <td>3,216.00</td>\n",
       "      <td>2.39</td>\n",
       "      <td>0.92</td>\n",
       "      <td>1.00</td>\n",
       "      <td>1.00</td>\n",
       "      <td>3.00</td>\n",
       "      <td>3.00</td>\n",
       "      <td>3.00</td>\n",
       "    </tr>\n",
       "    <tr>\n",
       "      <td>gb_per_month_included</td>\n",
       "      <td>3,216.00</td>\n",
       "      <td>19.60</td>\n",
       "      <td>6.92</td>\n",
       "      <td>15.00</td>\n",
       "      <td>15.00</td>\n",
       "      <td>15.00</td>\n",
       "      <td>30.00</td>\n",
       "      <td>30.00</td>\n",
       "    </tr>\n",
       "  </tbody>\n",
       "</table>\n",
       "</div>"
      ],
      "text/plain": [
       "                         count     mean      std      min      25%      50%  \\\n",
       "user_id               3,216.00 1,251.59   144.65 1,000.00 1,125.00 1,253.00   \n",
       "month                 3,214.00     8.32     2.91     1.00     6.00     9.00   \n",
       "calls_number          3,174.00    63.83    32.68     1.00    41.00    63.00   \n",
       "duration_sum          3,174.00   456.93   238.03     0.00   290.00   447.00   \n",
       "messages_number       2,717.00    45.28    35.05     1.00    19.00    38.00   \n",
       "gb_used_sum           3,203.00    17.36     7.34     0.00    13.00    17.00   \n",
       "messages_included     3,216.00   341.26   438.09    50.00    50.00    50.00   \n",
       "minutes_included      3,216.00 1,266.48 1,152.88   500.00   500.00   500.00   \n",
       "rub_monthly_fee       3,216.00   979.23   645.61   550.00   550.00   550.00   \n",
       "rub_per_gb            3,216.00   184.67    23.06   150.00   150.00   200.00   \n",
       "rub_per_message       3,216.00     2.39     0.92     1.00     1.00     3.00   \n",
       "rub_per_minute        3,216.00     2.39     0.92     1.00     1.00     3.00   \n",
       "gb_per_month_included 3,216.00    19.60     6.92    15.00    15.00    15.00   \n",
       "\n",
       "                           75%      max  \n",
       "user_id               1,378.25 1,499.00  \n",
       "month                    11.00    12.00  \n",
       "calls_number             83.00   244.00  \n",
       "duration_sum            592.00 1,673.00  \n",
       "messages_number          63.00   224.00  \n",
       "gb_used_sum              21.00    49.00  \n",
       "messages_included     1,000.00 1,000.00  \n",
       "minutes_included      3,000.00 3,000.00  \n",
       "rub_monthly_fee       1,950.00 1,950.00  \n",
       "rub_per_gb              200.00   200.00  \n",
       "rub_per_message           3.00     3.00  \n",
       "rub_per_minute            3.00     3.00  \n",
       "gb_per_month_included    30.00    30.00  "
      ]
     },
     "execution_count": 35,
     "metadata": {},
     "output_type": "execute_result"
    }
   ],
   "source": [
    "df.describe().T"
   ]
  },
  {
   "cell_type": "markdown",
   "metadata": {},
   "source": [
    "В столбце, указывающим на месяц использования определенной услуги имеется 2 пропуска. Данные пропуски образовались в результате того, что 2 пользователя были подключены к тарифу, но абсолютно никакимим услугами не пользовались. Так как это слишком малая доля всех данных, от указанных строк можно избавиться:"
   ]
  },
  {
   "cell_type": "code",
   "execution_count": 36,
   "metadata": {
    "scrolled": true
   },
   "outputs": [
    {
     "name": "stdout",
     "output_type": "stream",
     "text": [
      "<class 'pandas.core.frame.DataFrame'>\n",
      "Int64Index: 3214 entries, 0 to 3214\n",
      "Data columns (total 15 columns):\n",
      "user_id                  3214 non-null int64\n",
      "month                    3214 non-null float64\n",
      "calls_number             3174 non-null float64\n",
      "duration_sum             3174 non-null Int16\n",
      "messages_number          2717 non-null float64\n",
      "gb_used_sum              3203 non-null Int8\n",
      "city                     3214 non-null object\n",
      "tariff_name              3214 non-null object\n",
      "messages_included        3214 non-null int64\n",
      "minutes_included         3214 non-null int64\n",
      "rub_monthly_fee          3214 non-null int64\n",
      "rub_per_gb               3214 non-null int64\n",
      "rub_per_message          3214 non-null int64\n",
      "rub_per_minute           3214 non-null int64\n",
      "gb_per_month_included    3214 non-null Int8\n",
      "dtypes: Int16(1), Int8(2), float64(3), int64(7), object(2)\n",
      "memory usage: 348.4+ KB\n"
     ]
    }
   ],
   "source": [
    "df = df.dropna(subset=['month'])\n",
    "df.info()"
   ]
  },
  {
   "cell_type": "markdown",
   "metadata": {},
   "source": [
    "Проверим количество оставшихся пользователей:"
   ]
  },
  {
   "cell_type": "code",
   "execution_count": 37,
   "metadata": {},
   "outputs": [
    {
     "data": {
      "text/plain": [
       "(498,)"
      ]
     },
     "execution_count": 37,
     "metadata": {},
     "output_type": "execute_result"
    }
   ],
   "source": [
    "df.user_id.unique().shape "
   ]
  },
  {
   "cell_type": "markdown",
   "metadata": {},
   "source": [
    "Количество пользователей в данных уменьшилось на 2 человека, были удалены пользователи user_id 1128 и 1371, которые не пользовались услугами тарифа."
   ]
  },
  {
   "cell_type": "markdown",
   "metadata": {},
   "source": [
    "Пропуски в столбцах, содержащих информацию о количестве и длительности звонков, количестве отправленных сообщений, а также израходованном веб-трафике можно заполнить нулевыми значениями, так как данные пропуски означают, что человек не использовал данную услугу:"
   ]
  },
  {
   "cell_type": "code",
   "execution_count": 38,
   "metadata": {},
   "outputs": [],
   "source": [
    "df = df.fillna(0)"
   ]
  },
  {
   "cell_type": "markdown",
   "metadata": {},
   "source": [
    "С учетом того, что пропуски остались только в вышеперечисленных столбцах, мы заменили их нулевыми значенями методом _fillna_ для всего датасета.\n",
    "\n",
    "Приведем данные к нужным типам:"
   ]
  },
  {
   "cell_type": "code",
   "execution_count": 39,
   "metadata": {},
   "outputs": [],
   "source": [
    "df['user_id'] = df['user_id'].astype('Int16')\n",
    "df['month'] = df['month'].astype('Int8')\n",
    "df['calls_number'] = df['calls_number'].astype('Int16')\n",
    "df['messages_number'] = df['messages_number'].astype('Int16')"
   ]
  },
  {
   "cell_type": "markdown",
   "metadata": {},
   "source": [
    "Получим окончательную информацию о датасете после произведенных преобразований:"
   ]
  },
  {
   "cell_type": "code",
   "execution_count": 40,
   "metadata": {},
   "outputs": [
    {
     "name": "stdout",
     "output_type": "stream",
     "text": [
      "<class 'pandas.core.frame.DataFrame'>\n",
      "Int64Index: 3214 entries, 0 to 3214\n",
      "Data columns (total 15 columns):\n",
      "user_id                  3214 non-null Int16\n",
      "month                    3214 non-null Int8\n",
      "calls_number             3214 non-null Int16\n",
      "duration_sum             3214 non-null Int16\n",
      "messages_number          3214 non-null Int16\n",
      "gb_used_sum              3214 non-null Int8\n",
      "city                     3214 non-null object\n",
      "tariff_name              3214 non-null object\n",
      "messages_included        3214 non-null int64\n",
      "minutes_included         3214 non-null int64\n",
      "rub_monthly_fee          3214 non-null int64\n",
      "rub_per_gb               3214 non-null int64\n",
      "rub_per_message          3214 non-null int64\n",
      "rub_per_minute           3214 non-null int64\n",
      "gb_per_month_included    3214 non-null Int8\n",
      "dtypes: Int16(4), Int8(3), int64(6), object(2)\n",
      "memory usage: 282.5+ KB\n"
     ]
    }
   ],
   "source": [
    "df.info()"
   ]
  },
  {
   "cell_type": "markdown",
   "metadata": {},
   "source": [
    "Пропуски в таблице отсутствуют, типы данных приведены к необходимым."
   ]
  },
  {
   "cell_type": "markdown",
   "metadata": {},
   "source": [
    "### Расчет помесячной выручки с каждого пользователя"
   ]
  },
  {
   "cell_type": "markdown",
   "metadata": {},
   "source": [
    "Рассчитаем и добавим в таблицу новый столбец с указанием помесячной выручки, полученной от каждого пользователя:"
   ]
  },
  {
   "cell_type": "code",
   "execution_count": 41,
   "metadata": {
    "scrolled": true
   },
   "outputs": [
    {
     "data": {
      "text/html": [
       "<div>\n",
       "<style scoped>\n",
       "    .dataframe tbody tr th:only-of-type {\n",
       "        vertical-align: middle;\n",
       "    }\n",
       "\n",
       "    .dataframe tbody tr th {\n",
       "        vertical-align: top;\n",
       "    }\n",
       "\n",
       "    .dataframe thead th {\n",
       "        text-align: right;\n",
       "    }\n",
       "</style>\n",
       "<table border=\"1\" class=\"dataframe\">\n",
       "  <thead>\n",
       "    <tr style=\"text-align: right;\">\n",
       "      <th></th>\n",
       "      <th>user_id</th>\n",
       "      <th>month</th>\n",
       "      <th>calls_number</th>\n",
       "      <th>duration_sum</th>\n",
       "      <th>messages_number</th>\n",
       "      <th>gb_used_sum</th>\n",
       "      <th>city</th>\n",
       "      <th>tariff_name</th>\n",
       "      <th>messages_included</th>\n",
       "      <th>minutes_included</th>\n",
       "      <th>rub_monthly_fee</th>\n",
       "      <th>rub_per_gb</th>\n",
       "      <th>rub_per_message</th>\n",
       "      <th>rub_per_minute</th>\n",
       "      <th>gb_per_month_included</th>\n",
       "      <th>revenue</th>\n",
       "    </tr>\n",
       "  </thead>\n",
       "  <tbody>\n",
       "    <tr>\n",
       "      <td>0</td>\n",
       "      <td>1000</td>\n",
       "      <td>5</td>\n",
       "      <td>22</td>\n",
       "      <td>159</td>\n",
       "      <td>22</td>\n",
       "      <td>3</td>\n",
       "      <td>Краснодар</td>\n",
       "      <td>ultra</td>\n",
       "      <td>1000</td>\n",
       "      <td>3000</td>\n",
       "      <td>1950</td>\n",
       "      <td>150</td>\n",
       "      <td>1</td>\n",
       "      <td>1</td>\n",
       "      <td>30</td>\n",
       "      <td>1950</td>\n",
       "    </tr>\n",
       "    <tr>\n",
       "      <td>1</td>\n",
       "      <td>1000</td>\n",
       "      <td>6</td>\n",
       "      <td>43</td>\n",
       "      <td>172</td>\n",
       "      <td>60</td>\n",
       "      <td>23</td>\n",
       "      <td>Краснодар</td>\n",
       "      <td>ultra</td>\n",
       "      <td>1000</td>\n",
       "      <td>3000</td>\n",
       "      <td>1950</td>\n",
       "      <td>150</td>\n",
       "      <td>1</td>\n",
       "      <td>1</td>\n",
       "      <td>30</td>\n",
       "      <td>1950</td>\n",
       "    </tr>\n",
       "    <tr>\n",
       "      <td>2</td>\n",
       "      <td>1000</td>\n",
       "      <td>7</td>\n",
       "      <td>47</td>\n",
       "      <td>340</td>\n",
       "      <td>75</td>\n",
       "      <td>14</td>\n",
       "      <td>Краснодар</td>\n",
       "      <td>ultra</td>\n",
       "      <td>1000</td>\n",
       "      <td>3000</td>\n",
       "      <td>1950</td>\n",
       "      <td>150</td>\n",
       "      <td>1</td>\n",
       "      <td>1</td>\n",
       "      <td>30</td>\n",
       "      <td>1950</td>\n",
       "    </tr>\n",
       "    <tr>\n",
       "      <td>3</td>\n",
       "      <td>1000</td>\n",
       "      <td>8</td>\n",
       "      <td>52</td>\n",
       "      <td>408</td>\n",
       "      <td>81</td>\n",
       "      <td>14</td>\n",
       "      <td>Краснодар</td>\n",
       "      <td>ultra</td>\n",
       "      <td>1000</td>\n",
       "      <td>3000</td>\n",
       "      <td>1950</td>\n",
       "      <td>150</td>\n",
       "      <td>1</td>\n",
       "      <td>1</td>\n",
       "      <td>30</td>\n",
       "      <td>1950</td>\n",
       "    </tr>\n",
       "    <tr>\n",
       "      <td>4</td>\n",
       "      <td>1000</td>\n",
       "      <td>9</td>\n",
       "      <td>58</td>\n",
       "      <td>466</td>\n",
       "      <td>57</td>\n",
       "      <td>15</td>\n",
       "      <td>Краснодар</td>\n",
       "      <td>ultra</td>\n",
       "      <td>1000</td>\n",
       "      <td>3000</td>\n",
       "      <td>1950</td>\n",
       "      <td>150</td>\n",
       "      <td>1</td>\n",
       "      <td>1</td>\n",
       "      <td>30</td>\n",
       "      <td>1950</td>\n",
       "    </tr>\n",
       "    <tr>\n",
       "      <td>...</td>\n",
       "      <td>...</td>\n",
       "      <td>...</td>\n",
       "      <td>...</td>\n",
       "      <td>...</td>\n",
       "      <td>...</td>\n",
       "      <td>...</td>\n",
       "      <td>...</td>\n",
       "      <td>...</td>\n",
       "      <td>...</td>\n",
       "      <td>...</td>\n",
       "      <td>...</td>\n",
       "      <td>...</td>\n",
       "      <td>...</td>\n",
       "      <td>...</td>\n",
       "      <td>...</td>\n",
       "      <td>...</td>\n",
       "    </tr>\n",
       "    <tr>\n",
       "      <td>3210</td>\n",
       "      <td>1489</td>\n",
       "      <td>8</td>\n",
       "      <td>0</td>\n",
       "      <td>0</td>\n",
       "      <td>17</td>\n",
       "      <td>11</td>\n",
       "      <td>Санкт-Петербург</td>\n",
       "      <td>smart</td>\n",
       "      <td>50</td>\n",
       "      <td>500</td>\n",
       "      <td>550</td>\n",
       "      <td>200</td>\n",
       "      <td>3</td>\n",
       "      <td>3</td>\n",
       "      <td>15</td>\n",
       "      <td>550</td>\n",
       "    </tr>\n",
       "    <tr>\n",
       "      <td>3211</td>\n",
       "      <td>1489</td>\n",
       "      <td>9</td>\n",
       "      <td>0</td>\n",
       "      <td>0</td>\n",
       "      <td>32</td>\n",
       "      <td>17</td>\n",
       "      <td>Санкт-Петербург</td>\n",
       "      <td>smart</td>\n",
       "      <td>50</td>\n",
       "      <td>500</td>\n",
       "      <td>550</td>\n",
       "      <td>200</td>\n",
       "      <td>3</td>\n",
       "      <td>3</td>\n",
       "      <td>15</td>\n",
       "      <td>950</td>\n",
       "    </tr>\n",
       "    <tr>\n",
       "      <td>3212</td>\n",
       "      <td>1489</td>\n",
       "      <td>10</td>\n",
       "      <td>0</td>\n",
       "      <td>0</td>\n",
       "      <td>21</td>\n",
       "      <td>20</td>\n",
       "      <td>Санкт-Петербург</td>\n",
       "      <td>smart</td>\n",
       "      <td>50</td>\n",
       "      <td>500</td>\n",
       "      <td>550</td>\n",
       "      <td>200</td>\n",
       "      <td>3</td>\n",
       "      <td>3</td>\n",
       "      <td>15</td>\n",
       "      <td>1550</td>\n",
       "    </tr>\n",
       "    <tr>\n",
       "      <td>3213</td>\n",
       "      <td>1489</td>\n",
       "      <td>11</td>\n",
       "      <td>0</td>\n",
       "      <td>0</td>\n",
       "      <td>20</td>\n",
       "      <td>18</td>\n",
       "      <td>Санкт-Петербург</td>\n",
       "      <td>smart</td>\n",
       "      <td>50</td>\n",
       "      <td>500</td>\n",
       "      <td>550</td>\n",
       "      <td>200</td>\n",
       "      <td>3</td>\n",
       "      <td>3</td>\n",
       "      <td>15</td>\n",
       "      <td>1150</td>\n",
       "    </tr>\n",
       "    <tr>\n",
       "      <td>3214</td>\n",
       "      <td>1489</td>\n",
       "      <td>12</td>\n",
       "      <td>0</td>\n",
       "      <td>0</td>\n",
       "      <td>35</td>\n",
       "      <td>17</td>\n",
       "      <td>Санкт-Петербург</td>\n",
       "      <td>smart</td>\n",
       "      <td>50</td>\n",
       "      <td>500</td>\n",
       "      <td>550</td>\n",
       "      <td>200</td>\n",
       "      <td>3</td>\n",
       "      <td>3</td>\n",
       "      <td>15</td>\n",
       "      <td>950</td>\n",
       "    </tr>\n",
       "  </tbody>\n",
       "</table>\n",
       "<p>3214 rows × 16 columns</p>\n",
       "</div>"
      ],
      "text/plain": [
       "      user_id  month  calls_number  duration_sum  messages_number  \\\n",
       "0        1000      5            22           159               22   \n",
       "1        1000      6            43           172               60   \n",
       "2        1000      7            47           340               75   \n",
       "3        1000      8            52           408               81   \n",
       "4        1000      9            58           466               57   \n",
       "...       ...    ...           ...           ...              ...   \n",
       "3210     1489      8             0             0               17   \n",
       "3211     1489      9             0             0               32   \n",
       "3212     1489     10             0             0               21   \n",
       "3213     1489     11             0             0               20   \n",
       "3214     1489     12             0             0               35   \n",
       "\n",
       "      gb_used_sum             city tariff_name  messages_included  \\\n",
       "0               3        Краснодар       ultra               1000   \n",
       "1              23        Краснодар       ultra               1000   \n",
       "2              14        Краснодар       ultra               1000   \n",
       "3              14        Краснодар       ultra               1000   \n",
       "4              15        Краснодар       ultra               1000   \n",
       "...           ...              ...         ...                ...   \n",
       "3210           11  Санкт-Петербург       smart                 50   \n",
       "3211           17  Санкт-Петербург       smart                 50   \n",
       "3212           20  Санкт-Петербург       smart                 50   \n",
       "3213           18  Санкт-Петербург       smart                 50   \n",
       "3214           17  Санкт-Петербург       smart                 50   \n",
       "\n",
       "      minutes_included  rub_monthly_fee  rub_per_gb  rub_per_message  \\\n",
       "0                 3000             1950         150                1   \n",
       "1                 3000             1950         150                1   \n",
       "2                 3000             1950         150                1   \n",
       "3                 3000             1950         150                1   \n",
       "4                 3000             1950         150                1   \n",
       "...                ...              ...         ...              ...   \n",
       "3210               500              550         200                3   \n",
       "3211               500              550         200                3   \n",
       "3212               500              550         200                3   \n",
       "3213               500              550         200                3   \n",
       "3214               500              550         200                3   \n",
       "\n",
       "      rub_per_minute  gb_per_month_included  revenue  \n",
       "0                  1                     30     1950  \n",
       "1                  1                     30     1950  \n",
       "2                  1                     30     1950  \n",
       "3                  1                     30     1950  \n",
       "4                  1                     30     1950  \n",
       "...              ...                    ...      ...  \n",
       "3210               3                     15      550  \n",
       "3211               3                     15      950  \n",
       "3212               3                     15     1550  \n",
       "3213               3                     15     1150  \n",
       "3214               3                     15      950  \n",
       "\n",
       "[3214 rows x 16 columns]"
      ]
     },
     "execution_count": 41,
     "metadata": {},
     "output_type": "execute_result"
    }
   ],
   "source": [
    "# Напишем функцию для расчета помесячной выручки с каждого пользователя\n",
    "def revenue(row):\n",
    "    revenue_sum = row['rub_monthly_fee']\n",
    "    if row['duration_sum'] > row['minutes_included']:\n",
    "        revenue_sum += ((row['duration_sum'] - row['minutes_included']) * row['rub_per_minute'])\n",
    "    if row['messages_number'] > row['messages_included']:\n",
    "        revenue_sum += ((row['messages_number'] - row['messages_included']) * row['rub_per_message'])\n",
    "    if row['gb_used_sum'] > row['gb_per_month_included']:\n",
    "        revenue_sum += ((row['gb_used_sum'] - row['gb_per_month_included'])*row['rub_per_gb'])\n",
    "    return revenue_sum\n",
    "\n",
    "df['revenue'] = df.apply(revenue, axis=1)\n",
    "df"
   ]
  },
  {
   "cell_type": "markdown",
   "metadata": {},
   "source": [
    "### Вывод по подготовке данных\n",
    "В ходе подготовки данных была проделана следующая работа:\n",
    "- исходные таблицы сгруппированы и объединены в одну\n",
    "- произведена обработка пропусков\n",
    "- произведено изменение типов данных\n",
    "- значения израсходованного веб-трафика переведены в гигабайты и округлены в большую сторону\n",
    "- значения потраченных минут на разговоры округлены в большую сторону\n",
    "- произведен расчет помесячной выручки с каждого пользователя, после чего данные показатели добавлены в таблицу"
   ]
  },
  {
   "cell_type": "markdown",
   "metadata": {},
   "source": [
    "## Анализ данных"
   ]
  },
  {
   "cell_type": "markdown",
   "metadata": {},
   "source": [
    "Для дальнейшего анализа выделим срезы данных по обоим тарифам:"
   ]
  },
  {
   "cell_type": "code",
   "execution_count": 42,
   "metadata": {},
   "outputs": [],
   "source": [
    "df_smart = df.query('tariff_name == \"smart\"')\n",
    "df_ultra = df.query('tariff_name == \"ultra\"')"
   ]
  },
  {
   "cell_type": "markdown",
   "metadata": {},
   "source": [
    "Изучим статистическую информацию для каждого среза:"
   ]
  },
  {
   "cell_type": "code",
   "execution_count": 43,
   "metadata": {
    "scrolled": true
   },
   "outputs": [
    {
     "data": {
      "text/html": [
       "<div>\n",
       "<style scoped>\n",
       "    .dataframe tbody tr th:only-of-type {\n",
       "        vertical-align: middle;\n",
       "    }\n",
       "\n",
       "    .dataframe tbody tr th {\n",
       "        vertical-align: top;\n",
       "    }\n",
       "\n",
       "    .dataframe thead th {\n",
       "        text-align: right;\n",
       "    }\n",
       "</style>\n",
       "<table border=\"1\" class=\"dataframe\">\n",
       "  <thead>\n",
       "    <tr style=\"text-align: right;\">\n",
       "      <th></th>\n",
       "      <th>count</th>\n",
       "      <th>mean</th>\n",
       "      <th>std</th>\n",
       "      <th>min</th>\n",
       "      <th>25%</th>\n",
       "      <th>50%</th>\n",
       "      <th>75%</th>\n",
       "      <th>max</th>\n",
       "    </tr>\n",
       "  </thead>\n",
       "  <tbody>\n",
       "    <tr>\n",
       "      <td>user_id</td>\n",
       "      <td>2,229.00</td>\n",
       "      <td>1,246.51</td>\n",
       "      <td>146.12</td>\n",
       "      <td>1,001.00</td>\n",
       "      <td>1,121.00</td>\n",
       "      <td>1,239.00</td>\n",
       "      <td>1,376.00</td>\n",
       "      <td>1,499.00</td>\n",
       "    </tr>\n",
       "    <tr>\n",
       "      <td>month</td>\n",
       "      <td>2,229.00</td>\n",
       "      <td>8.35</td>\n",
       "      <td>2.92</td>\n",
       "      <td>1.00</td>\n",
       "      <td>6.00</td>\n",
       "      <td>9.00</td>\n",
       "      <td>11.00</td>\n",
       "      <td>12.00</td>\n",
       "    </tr>\n",
       "    <tr>\n",
       "      <td>calls_number</td>\n",
       "      <td>2,229.00</td>\n",
       "      <td>58.46</td>\n",
       "      <td>25.94</td>\n",
       "      <td>0.00</td>\n",
       "      <td>40.00</td>\n",
       "      <td>60.00</td>\n",
       "      <td>76.00</td>\n",
       "      <td>198.00</td>\n",
       "    </tr>\n",
       "    <tr>\n",
       "      <td>duration_sum</td>\n",
       "      <td>2,229.00</td>\n",
       "      <td>417.93</td>\n",
       "      <td>190.31</td>\n",
       "      <td>0.00</td>\n",
       "      <td>282.00</td>\n",
       "      <td>422.00</td>\n",
       "      <td>545.00</td>\n",
       "      <td>1,435.00</td>\n",
       "    </tr>\n",
       "    <tr>\n",
       "      <td>messages_number</td>\n",
       "      <td>2,229.00</td>\n",
       "      <td>33.38</td>\n",
       "      <td>28.23</td>\n",
       "      <td>0.00</td>\n",
       "      <td>10.00</td>\n",
       "      <td>28.00</td>\n",
       "      <td>51.00</td>\n",
       "      <td>143.00</td>\n",
       "    </tr>\n",
       "    <tr>\n",
       "      <td>gb_used_sum</td>\n",
       "      <td>2,229.00</td>\n",
       "      <td>16.33</td>\n",
       "      <td>5.75</td>\n",
       "      <td>0.00</td>\n",
       "      <td>13.00</td>\n",
       "      <td>17.00</td>\n",
       "      <td>20.00</td>\n",
       "      <td>38.00</td>\n",
       "    </tr>\n",
       "    <tr>\n",
       "      <td>messages_included</td>\n",
       "      <td>2,229.00</td>\n",
       "      <td>50.00</td>\n",
       "      <td>0.00</td>\n",
       "      <td>50.00</td>\n",
       "      <td>50.00</td>\n",
       "      <td>50.00</td>\n",
       "      <td>50.00</td>\n",
       "      <td>50.00</td>\n",
       "    </tr>\n",
       "    <tr>\n",
       "      <td>minutes_included</td>\n",
       "      <td>2,229.00</td>\n",
       "      <td>500.00</td>\n",
       "      <td>0.00</td>\n",
       "      <td>500.00</td>\n",
       "      <td>500.00</td>\n",
       "      <td>500.00</td>\n",
       "      <td>500.00</td>\n",
       "      <td>500.00</td>\n",
       "    </tr>\n",
       "    <tr>\n",
       "      <td>rub_monthly_fee</td>\n",
       "      <td>2,229.00</td>\n",
       "      <td>550.00</td>\n",
       "      <td>0.00</td>\n",
       "      <td>550.00</td>\n",
       "      <td>550.00</td>\n",
       "      <td>550.00</td>\n",
       "      <td>550.00</td>\n",
       "      <td>550.00</td>\n",
       "    </tr>\n",
       "    <tr>\n",
       "      <td>rub_per_gb</td>\n",
       "      <td>2,229.00</td>\n",
       "      <td>200.00</td>\n",
       "      <td>0.00</td>\n",
       "      <td>200.00</td>\n",
       "      <td>200.00</td>\n",
       "      <td>200.00</td>\n",
       "      <td>200.00</td>\n",
       "      <td>200.00</td>\n",
       "    </tr>\n",
       "    <tr>\n",
       "      <td>rub_per_message</td>\n",
       "      <td>2,229.00</td>\n",
       "      <td>3.00</td>\n",
       "      <td>0.00</td>\n",
       "      <td>3.00</td>\n",
       "      <td>3.00</td>\n",
       "      <td>3.00</td>\n",
       "      <td>3.00</td>\n",
       "      <td>3.00</td>\n",
       "    </tr>\n",
       "    <tr>\n",
       "      <td>rub_per_minute</td>\n",
       "      <td>2,229.00</td>\n",
       "      <td>3.00</td>\n",
       "      <td>0.00</td>\n",
       "      <td>3.00</td>\n",
       "      <td>3.00</td>\n",
       "      <td>3.00</td>\n",
       "      <td>3.00</td>\n",
       "      <td>3.00</td>\n",
       "    </tr>\n",
       "    <tr>\n",
       "      <td>gb_per_month_included</td>\n",
       "      <td>2,229.00</td>\n",
       "      <td>15.00</td>\n",
       "      <td>0.00</td>\n",
       "      <td>15.00</td>\n",
       "      <td>15.00</td>\n",
       "      <td>15.00</td>\n",
       "      <td>15.00</td>\n",
       "      <td>15.00</td>\n",
       "    </tr>\n",
       "    <tr>\n",
       "      <td>revenue</td>\n",
       "      <td>2,229.00</td>\n",
       "      <td>1,289.97</td>\n",
       "      <td>818.40</td>\n",
       "      <td>550.00</td>\n",
       "      <td>550.00</td>\n",
       "      <td>1,023.00</td>\n",
       "      <td>1,750.00</td>\n",
       "      <td>6,770.00</td>\n",
       "    </tr>\n",
       "  </tbody>\n",
       "</table>\n",
       "</div>"
      ],
      "text/plain": [
       "                         count     mean    std      min      25%      50%  \\\n",
       "user_id               2,229.00 1,246.51 146.12 1,001.00 1,121.00 1,239.00   \n",
       "month                 2,229.00     8.35   2.92     1.00     6.00     9.00   \n",
       "calls_number          2,229.00    58.46  25.94     0.00    40.00    60.00   \n",
       "duration_sum          2,229.00   417.93 190.31     0.00   282.00   422.00   \n",
       "messages_number       2,229.00    33.38  28.23     0.00    10.00    28.00   \n",
       "gb_used_sum           2,229.00    16.33   5.75     0.00    13.00    17.00   \n",
       "messages_included     2,229.00    50.00   0.00    50.00    50.00    50.00   \n",
       "minutes_included      2,229.00   500.00   0.00   500.00   500.00   500.00   \n",
       "rub_monthly_fee       2,229.00   550.00   0.00   550.00   550.00   550.00   \n",
       "rub_per_gb            2,229.00   200.00   0.00   200.00   200.00   200.00   \n",
       "rub_per_message       2,229.00     3.00   0.00     3.00     3.00     3.00   \n",
       "rub_per_minute        2,229.00     3.00   0.00     3.00     3.00     3.00   \n",
       "gb_per_month_included 2,229.00    15.00   0.00    15.00    15.00    15.00   \n",
       "revenue               2,229.00 1,289.97 818.40   550.00   550.00 1,023.00   \n",
       "\n",
       "                           75%      max  \n",
       "user_id               1,376.00 1,499.00  \n",
       "month                    11.00    12.00  \n",
       "calls_number             76.00   198.00  \n",
       "duration_sum            545.00 1,435.00  \n",
       "messages_number          51.00   143.00  \n",
       "gb_used_sum              20.00    38.00  \n",
       "messages_included        50.00    50.00  \n",
       "minutes_included        500.00   500.00  \n",
       "rub_monthly_fee         550.00   550.00  \n",
       "rub_per_gb              200.00   200.00  \n",
       "rub_per_message           3.00     3.00  \n",
       "rub_per_minute            3.00     3.00  \n",
       "gb_per_month_included    15.00    15.00  \n",
       "revenue               1,750.00 6,770.00  "
      ]
     },
     "execution_count": 43,
     "metadata": {},
     "output_type": "execute_result"
    }
   ],
   "source": [
    "df_smart.describe().T"
   ]
  },
  {
   "cell_type": "code",
   "execution_count": 44,
   "metadata": {
    "scrolled": true
   },
   "outputs": [
    {
     "data": {
      "text/html": [
       "<div>\n",
       "<style scoped>\n",
       "    .dataframe tbody tr th:only-of-type {\n",
       "        vertical-align: middle;\n",
       "    }\n",
       "\n",
       "    .dataframe tbody tr th {\n",
       "        vertical-align: top;\n",
       "    }\n",
       "\n",
       "    .dataframe thead th {\n",
       "        text-align: right;\n",
       "    }\n",
       "</style>\n",
       "<table border=\"1\" class=\"dataframe\">\n",
       "  <thead>\n",
       "    <tr style=\"text-align: right;\">\n",
       "      <th></th>\n",
       "      <th>count</th>\n",
       "      <th>mean</th>\n",
       "      <th>std</th>\n",
       "      <th>min</th>\n",
       "      <th>25%</th>\n",
       "      <th>50%</th>\n",
       "      <th>75%</th>\n",
       "      <th>max</th>\n",
       "    </tr>\n",
       "  </thead>\n",
       "  <tbody>\n",
       "    <tr>\n",
       "      <td>user_id</td>\n",
       "      <td>985.00</td>\n",
       "      <td>1,263.09</td>\n",
       "      <td>140.69</td>\n",
       "      <td>1,000.00</td>\n",
       "      <td>1,143.00</td>\n",
       "      <td>1,277.00</td>\n",
       "      <td>1,381.00</td>\n",
       "      <td>1,495.00</td>\n",
       "    </tr>\n",
       "    <tr>\n",
       "      <td>month</td>\n",
       "      <td>985.00</td>\n",
       "      <td>8.25</td>\n",
       "      <td>2.87</td>\n",
       "      <td>1.00</td>\n",
       "      <td>6.00</td>\n",
       "      <td>9.00</td>\n",
       "      <td>11.00</td>\n",
       "      <td>12.00</td>\n",
       "    </tr>\n",
       "    <tr>\n",
       "      <td>calls_number</td>\n",
       "      <td>985.00</td>\n",
       "      <td>73.39</td>\n",
       "      <td>43.92</td>\n",
       "      <td>0.00</td>\n",
       "      <td>41.00</td>\n",
       "      <td>74.00</td>\n",
       "      <td>104.00</td>\n",
       "      <td>244.00</td>\n",
       "    </tr>\n",
       "    <tr>\n",
       "      <td>duration_sum</td>\n",
       "      <td>985.00</td>\n",
       "      <td>526.62</td>\n",
       "      <td>317.61</td>\n",
       "      <td>0.00</td>\n",
       "      <td>284.00</td>\n",
       "      <td>518.00</td>\n",
       "      <td>752.00</td>\n",
       "      <td>1,673.00</td>\n",
       "    </tr>\n",
       "    <tr>\n",
       "      <td>messages_number</td>\n",
       "      <td>985.00</td>\n",
       "      <td>49.36</td>\n",
       "      <td>47.80</td>\n",
       "      <td>0.00</td>\n",
       "      <td>6.00</td>\n",
       "      <td>38.00</td>\n",
       "      <td>79.00</td>\n",
       "      <td>224.00</td>\n",
       "    </tr>\n",
       "    <tr>\n",
       "      <td>gb_used_sum</td>\n",
       "      <td>985.00</td>\n",
       "      <td>19.49</td>\n",
       "      <td>9.85</td>\n",
       "      <td>0.00</td>\n",
       "      <td>12.00</td>\n",
       "      <td>19.00</td>\n",
       "      <td>27.00</td>\n",
       "      <td>49.00</td>\n",
       "    </tr>\n",
       "    <tr>\n",
       "      <td>messages_included</td>\n",
       "      <td>985.00</td>\n",
       "      <td>1,000.00</td>\n",
       "      <td>0.00</td>\n",
       "      <td>1,000.00</td>\n",
       "      <td>1,000.00</td>\n",
       "      <td>1,000.00</td>\n",
       "      <td>1,000.00</td>\n",
       "      <td>1,000.00</td>\n",
       "    </tr>\n",
       "    <tr>\n",
       "      <td>minutes_included</td>\n",
       "      <td>985.00</td>\n",
       "      <td>3,000.00</td>\n",
       "      <td>0.00</td>\n",
       "      <td>3,000.00</td>\n",
       "      <td>3,000.00</td>\n",
       "      <td>3,000.00</td>\n",
       "      <td>3,000.00</td>\n",
       "      <td>3,000.00</td>\n",
       "    </tr>\n",
       "    <tr>\n",
       "      <td>rub_monthly_fee</td>\n",
       "      <td>985.00</td>\n",
       "      <td>1,950.00</td>\n",
       "      <td>0.00</td>\n",
       "      <td>1,950.00</td>\n",
       "      <td>1,950.00</td>\n",
       "      <td>1,950.00</td>\n",
       "      <td>1,950.00</td>\n",
       "      <td>1,950.00</td>\n",
       "    </tr>\n",
       "    <tr>\n",
       "      <td>rub_per_gb</td>\n",
       "      <td>985.00</td>\n",
       "      <td>150.00</td>\n",
       "      <td>0.00</td>\n",
       "      <td>150.00</td>\n",
       "      <td>150.00</td>\n",
       "      <td>150.00</td>\n",
       "      <td>150.00</td>\n",
       "      <td>150.00</td>\n",
       "    </tr>\n",
       "    <tr>\n",
       "      <td>rub_per_message</td>\n",
       "      <td>985.00</td>\n",
       "      <td>1.00</td>\n",
       "      <td>0.00</td>\n",
       "      <td>1.00</td>\n",
       "      <td>1.00</td>\n",
       "      <td>1.00</td>\n",
       "      <td>1.00</td>\n",
       "      <td>1.00</td>\n",
       "    </tr>\n",
       "    <tr>\n",
       "      <td>rub_per_minute</td>\n",
       "      <td>985.00</td>\n",
       "      <td>1.00</td>\n",
       "      <td>0.00</td>\n",
       "      <td>1.00</td>\n",
       "      <td>1.00</td>\n",
       "      <td>1.00</td>\n",
       "      <td>1.00</td>\n",
       "      <td>1.00</td>\n",
       "    </tr>\n",
       "    <tr>\n",
       "      <td>gb_per_month_included</td>\n",
       "      <td>985.00</td>\n",
       "      <td>30.00</td>\n",
       "      <td>0.00</td>\n",
       "      <td>30.00</td>\n",
       "      <td>30.00</td>\n",
       "      <td>30.00</td>\n",
       "      <td>30.00</td>\n",
       "      <td>30.00</td>\n",
       "    </tr>\n",
       "    <tr>\n",
       "      <td>revenue</td>\n",
       "      <td>985.00</td>\n",
       "      <td>2,070.15</td>\n",
       "      <td>376.19</td>\n",
       "      <td>1,950.00</td>\n",
       "      <td>1,950.00</td>\n",
       "      <td>1,950.00</td>\n",
       "      <td>1,950.00</td>\n",
       "      <td>4,800.00</td>\n",
       "    </tr>\n",
       "  </tbody>\n",
       "</table>\n",
       "</div>"
      ],
      "text/plain": [
       "                       count     mean    std      min      25%      50%  \\\n",
       "user_id               985.00 1,263.09 140.69 1,000.00 1,143.00 1,277.00   \n",
       "month                 985.00     8.25   2.87     1.00     6.00     9.00   \n",
       "calls_number          985.00    73.39  43.92     0.00    41.00    74.00   \n",
       "duration_sum          985.00   526.62 317.61     0.00   284.00   518.00   \n",
       "messages_number       985.00    49.36  47.80     0.00     6.00    38.00   \n",
       "gb_used_sum           985.00    19.49   9.85     0.00    12.00    19.00   \n",
       "messages_included     985.00 1,000.00   0.00 1,000.00 1,000.00 1,000.00   \n",
       "minutes_included      985.00 3,000.00   0.00 3,000.00 3,000.00 3,000.00   \n",
       "rub_monthly_fee       985.00 1,950.00   0.00 1,950.00 1,950.00 1,950.00   \n",
       "rub_per_gb            985.00   150.00   0.00   150.00   150.00   150.00   \n",
       "rub_per_message       985.00     1.00   0.00     1.00     1.00     1.00   \n",
       "rub_per_minute        985.00     1.00   0.00     1.00     1.00     1.00   \n",
       "gb_per_month_included 985.00    30.00   0.00    30.00    30.00    30.00   \n",
       "revenue               985.00 2,070.15 376.19 1,950.00 1,950.00 1,950.00   \n",
       "\n",
       "                           75%      max  \n",
       "user_id               1,381.00 1,495.00  \n",
       "month                    11.00    12.00  \n",
       "calls_number            104.00   244.00  \n",
       "duration_sum            752.00 1,673.00  \n",
       "messages_number          79.00   224.00  \n",
       "gb_used_sum              27.00    49.00  \n",
       "messages_included     1,000.00 1,000.00  \n",
       "minutes_included      3,000.00 3,000.00  \n",
       "rub_monthly_fee       1,950.00 1,950.00  \n",
       "rub_per_gb              150.00   150.00  \n",
       "rub_per_message           1.00     1.00  \n",
       "rub_per_minute            1.00     1.00  \n",
       "gb_per_month_included    30.00    30.00  \n",
       "revenue               1,950.00 4,800.00  "
      ]
     },
     "execution_count": 44,
     "metadata": {},
     "output_type": "execute_result"
    }
   ],
   "source": [
    "df_ultra.describe().T"
   ]
  },
  {
   "cell_type": "markdown",
   "metadata": {},
   "source": [
    "### Анализ количества минут разговора для тарифов _smart_ и _ultra_"
   ]
  },
  {
   "cell_type": "markdown",
   "metadata": {},
   "source": [
    "Определим среднее количество, дисперсию и стандартное отклонение для тарифа _smart_:"
   ]
  },
  {
   "cell_type": "code",
   "execution_count": 45,
   "metadata": {},
   "outputs": [
    {
     "name": "stdout",
     "output_type": "stream",
     "text": [
      "Среднее количество минут для тарифа Smart: 417.9349484073576\n",
      "Дисперсия минут для тарифа Smart: 36219.31578434428\n",
      "Стандартное отклонение минут для тарифа Smart: 190.31372988921288\n"
     ]
    }
   ],
   "source": [
    "print('Среднее количество минут для тарифа Smart:', df_smart['duration_sum'].mean())\n",
    "print('Дисперсия минут для тарифа Smart:', np.var(df_smart['duration_sum'], ddof=1))\n",
    "print('Стандартное отклонение минут для тарифа Smart:', np.std(df_smart['duration_sum'], ddof=1))"
   ]
  },
  {
   "cell_type": "markdown",
   "metadata": {},
   "source": [
    "Определим среднее количество, дисперсию и стандартное отклонение для тарифа _ultra_:"
   ]
  },
  {
   "cell_type": "code",
   "execution_count": 46,
   "metadata": {
    "scrolled": true
   },
   "outputs": [
    {
     "name": "stdout",
     "output_type": "stream",
     "text": [
      "Среднее количество минут для тарифа Ultra: 526.6233502538071\n",
      "Дисперсия минут для тарифа Ultra: 100873.63339730098\n",
      "Стандартное отклонение минут для тарифа Ultra: 317.6060978591264\n"
     ]
    }
   ],
   "source": [
    "print('Среднее количество минут для тарифа Ultra:', df_ultra['duration_sum'].mean())\n",
    "print('Дисперсия минут для тарифа Ultra:', np.var(df_ultra['duration_sum'], ddof=1))\n",
    "print('Стандартное отклонение минут для тарифа Ultra:', np.std(df_ultra['duration_sum'], ddof=1))"
   ]
  },
  {
   "cell_type": "markdown",
   "metadata": {},
   "source": [
    "Построим гистограммы для обоих тарифов:"
   ]
  },
  {
   "cell_type": "code",
   "execution_count": 47,
   "metadata": {},
   "outputs": [
    {
     "data": {
      "image/png": "[encoded data removed]",
      "text/plain": [
       "<Figure size 1080x360 with 1 Axes>"
      ]
     },
     "metadata": {
      "needs_background": "light"
     },
     "output_type": "display_data"
    }
   ],
   "source": [
    "df_smart['duration_sum'].plot(\n",
    "    kind='hist', \n",
    "    title='Гистрограмма расхода минут для тарифов Smart и Ultra',\n",
    "    figsize=(15,5),\n",
    "    histtype='step',\n",
    "    label='smart',\n",
    "    linewidth=5,\n",
    "    alpha=0.7,\n",
    "    bins=100, \n",
    "    grid=True,\n",
    "    legend=True\n",
    ")\n",
    "df_ultra['duration_sum'].plot(\n",
    "    kind='hist', \n",
    "    title='Гистрограмма расхода минут для тарифов Smart и Ultra',\n",
    "    figsize=(15,5),\n",
    "    histtype='step',\n",
    "    label='ultra',\n",
    "    linewidth=5,\n",
    "    alpha=0.7,\n",
    "    bins=100, \n",
    "    grid=True,\n",
    "    legend=True\n",
    ")\n",
    "plt.xlabel('Количество израсходованных минут, мин')\n",
    "plt.ylabel('Частота')\n",
    "plt.show()"
   ]
  },
  {
   "cell_type": "markdown",
   "metadata": {},
   "source": [
    "Обе гистограммы отображают распределение Пуассона, с учетом того, что гистограмма тарифа Smart стремится к нормальному распределению.\n",
    "\n",
    "Однако, гистограмма для тарифа Smart немного скошена влево, что говорит нам о том, что в этих данных среднее значение меньше медианного. Также, гистограмма является достаточно выпуклой, что говорит нам о малом значении стандартного отклонения.\n",
    "\n",
    "В свою очередь, гистограмма для тарифа Ultra скошена вправо, а значит среднее значение тут больше медианного. Ширина гистограммы указывает на высокое значение стандартного отклонения, что дает большую неопределенность в том, какое значение может принять случайная величина.\n",
    "\n",
    "Также, по гистограммам можно заметить, что пользователи тарифа Smart часто выходят за рамки, предоставленные тарифом, в то время, как пользователи тарифа Ultra не достигают лимита минут."
   ]
  },
  {
   "cell_type": "markdown",
   "metadata": {},
   "source": [
    "### Анализ количества сообщений для тарифов _smart_ и _ultra_"
   ]
  },
  {
   "cell_type": "markdown",
   "metadata": {},
   "source": [
    "Определим среднее количество, дисперсию и стандартное отклонение для тарифа _smart_:"
   ]
  },
  {
   "cell_type": "code",
   "execution_count": 48,
   "metadata": {},
   "outputs": [
    {
     "name": "stdout",
     "output_type": "stream",
     "text": [
      "Среднее количество сообщений для тарифа Smart: 33.384028712427096\n",
      "Дисперсия сообщений для тарифа Smart: 796.8129584480083\n",
      "Стандартное отклонение сообщений для тарифа Smart: 28.22787555676141\n"
     ]
    }
   ],
   "source": [
    "print('Среднее количество сообщений для тарифа Smart:', df_smart['messages_number'].mean())\n",
    "print('Дисперсия сообщений для тарифа Smart:', np.var(df_smart['messages_number'], ddof=1))\n",
    "print('Стандартное отклонение сообщений для тарифа Smart:', np.std(df_smart['messages_number'], ddof=1))"
   ]
  },
  {
   "cell_type": "markdown",
   "metadata": {},
   "source": [
    "Определим среднее количество, дисперсию и стандартное отклонение для тарифа _ultra_:"
   ]
  },
  {
   "cell_type": "code",
   "execution_count": 49,
   "metadata": {},
   "outputs": [
    {
     "name": "stdout",
     "output_type": "stream",
     "text": [
      "Среднее количество сообщений для тарифа Ultra: 49.36345177664975\n",
      "Дисперсия сообщений для тарифа Ultra: 2285.2661425446736\n",
      "Стандартное отклонение сообщений для тарифа Ultra: 47.804457350174715\n"
     ]
    }
   ],
   "source": [
    "print('Среднее количество сообщений для тарифа Ultra:', df_ultra['messages_number'].mean())\n",
    "print('Дисперсия сообщений для тарифа Ultra:', np.var(df_ultra['messages_number'], ddof=1))\n",
    "print('Стандартное отклонение сообщений для тарифа Ultra:', np.std(df_ultra['messages_number'], ddof=1))"
   ]
  },
  {
   "cell_type": "markdown",
   "metadata": {},
   "source": [
    "Построим гистограммы для обоих тарифов:"
   ]
  },
  {
   "cell_type": "code",
   "execution_count": 50,
   "metadata": {
    "scrolled": true
   },
   "outputs": [
    {
     "data": {
      "image/png": "[encoded data removed]",
      "text/plain": [
       "<Figure size 1080x360 with 1 Axes>"
      ]
     },
     "metadata": {
      "needs_background": "light"
     },
     "output_type": "display_data"
    }
   ],
   "source": [
    "df_smart['messages_number'].plot(\n",
    "    kind='hist', \n",
    "    title='Гистрограмма расхода сообщений для тарифов Smart и Ultra',\n",
    "    figsize=(15,5),\n",
    "    histtype='step',\n",
    "    label='smart',\n",
    "    linewidth=3,\n",
    "    alpha=0.7,\n",
    "    bins=100, \n",
    "    grid=True,\n",
    "    legend=True\n",
    ")\n",
    "df_ultra['messages_number'].plot(\n",
    "    kind='hist', \n",
    "    title='Гистрограмма расхода сообщений для тарифов Smart и Ultra',\n",
    "    figsize=(15,5),\n",
    "    histtype='step',\n",
    "    label='ultra',\n",
    "    linewidth=3,\n",
    "    alpha=0.7,\n",
    "    bins=100, \n",
    "    grid=True,\n",
    "    legend=True\n",
    ")\n",
    "plt.xlabel('Количество израсходованных сообщений, шт')\n",
    "plt.ylabel('Частота')\n",
    "plt.show()"
   ]
  },
  {
   "cell_type": "markdown",
   "metadata": {},
   "source": [
    "Обе гистограммы отображают распределение Пуассона и скошены вправо, что говорит о высоком значении стандартного отклонения.\n",
    "\n",
    "Также, по гистограммам можно заметить, что пользователи тарифа Smart часто выходят за рамки, предоставленные тарифом, в то время, как пользователи тарифа Ultra не достигают лимита минут.\n",
    "\n",
    "Примечательно, что многие пользователи обоих тарифов вообще не используют СМС-сообщения для связи, что не удивительно, ведь в настоящее время гораздо практичнее использовать сетевые мессенджеры."
   ]
  },
  {
   "cell_type": "markdown",
   "metadata": {},
   "source": [
    "### Анализ объема веб-трафика для тарифов _smart_ и _ultra_"
   ]
  },
  {
   "cell_type": "markdown",
   "metadata": {},
   "source": [
    "Определим среднее количество, дисперсию и стандартное отклонение для тарифа _smart_:"
   ]
  },
  {
   "cell_type": "code",
   "execution_count": 51,
   "metadata": {},
   "outputs": [
    {
     "name": "stdout",
     "output_type": "stream",
     "text": [
      "Средний объем веб-трафика для тарифа Smart: 16.328847016599372\n",
      "Дисперсия веб-трафика для тарифа Smart: 33.02870517811161\n",
      "Стандартное отклонение объема веб-трафика для тарифа Smart: 5.7470605685090534\n"
     ]
    }
   ],
   "source": [
    "print('Средний объем веб-трафика для тарифа Smart:', df_smart['gb_used_sum'].mean())\n",
    "print('Дисперсия веб-трафика для тарифа Smart:', np.var(df_smart['gb_used_sum'], ddof=1))\n",
    "print('Стандартное отклонение объема веб-трафика для тарифа Smart:', np.std(df_smart['gb_used_sum'], ddof=1))"
   ]
  },
  {
   "cell_type": "markdown",
   "metadata": {},
   "source": [
    "Определим среднее количество, дисперсию и стандартное отклонение для тарифа _ultra_:"
   ]
  },
  {
   "cell_type": "code",
   "execution_count": 52,
   "metadata": {},
   "outputs": [
    {
     "name": "stdout",
     "output_type": "stream",
     "text": [
      "Средний объем веб-трафика для тарифа Ultra: 19.494416243654822\n",
      "Дисперсия веб-трафика для тарифа Ultra: 97.09168626965459\n",
      "Стандартное отклонение объема веб-трафика для тарифа Ultra: 9.853511367510293\n"
     ]
    }
   ],
   "source": [
    "print('Средний объем веб-трафика для тарифа Ultra:', df_ultra['gb_used_sum'].mean())\n",
    "print('Дисперсия веб-трафика для тарифа Ultra:', np.var(df_ultra['gb_used_sum'], ddof=1))\n",
    "print('Стандартное отклонение объема веб-трафика для тарифа Ultra:', np.std(df_ultra['gb_used_sum'], ddof=1))"
   ]
  },
  {
   "cell_type": "markdown",
   "metadata": {},
   "source": [
    "Построим гистограммы для обоих тарифов:"
   ]
  },
  {
   "cell_type": "code",
   "execution_count": 53,
   "metadata": {
    "scrolled": true
   },
   "outputs": [
    {
     "data": {
      "image/png": "[encoded data removed]",
      "text/plain": [
       "<Figure size 1080x360 with 1 Axes>"
      ]
     },
     "metadata": {
      "needs_background": "light"
     },
     "output_type": "display_data"
    }
   ],
   "source": [
    "df_smart['gb_used_sum'].plot(\n",
    "    kind='hist', \n",
    "    title='Гистрограмма расхода объема веб-трафика для тарифов Smart и Ultra',\n",
    "    figsize=(15,5),\n",
    "    histtype='step',\n",
    "    label='smart',\n",
    "    linewidth=3,\n",
    "    alpha=0.7,\n",
    "    bins=100, \n",
    "    grid=True,\n",
    "    legend=True\n",
    ")\n",
    "df_ultra['gb_used_sum'].plot(\n",
    "    kind='hist', \n",
    "    title='Гистрограмма расхода объема веб-трафика для тарифов Smart и Ultra',\n",
    "    figsize=(15,5),\n",
    "    histtype='step',\n",
    "    label='ultra',\n",
    "    linewidth=3,\n",
    "    alpha=0.7,\n",
    "    bins=100, \n",
    "    grid=True,\n",
    "    legend=True\n",
    ")\n",
    "plt.xlabel('Объем израсходованного веб-трафика, ГБ')\n",
    "plt.ylabel('Частота')\n",
    "plt.show()"
   ]
  },
  {
   "cell_type": "markdown",
   "metadata": {},
   "source": [
    "Обе гистограммы отображают нормальное распределение.\n",
    "\n",
    "Также, по гистограммам можно заметить, что пользователи обоих тарифов часто расходуют больший объем веб-трафика, чем предоставляет компания с абонентской платой.\n",
    "\n",
    "В отличии от СМС-сообщений, число пользователей, не использующих веб-трафик, стремится к нулевому значению, что вполне ожидаемо, ведь без интернета сейчас не может прожить почти не один человек, так как с его помощью решается множество повседневных задач."
   ]
  },
  {
   "cell_type": "markdown",
   "metadata": {},
   "source": [
    "### Анализ помесячной выручки для тарифов _smart_ и _ultra_"
   ]
  },
  {
   "cell_type": "markdown",
   "metadata": {},
   "source": [
    "Построим диаграммы средней выручки по месяцам в разрезе тарифов \"Smart\" и \"Ultra\":"
   ]
  },
  {
   "cell_type": "code",
   "execution_count": 54,
   "metadata": {},
   "outputs": [
    {
     "data": {
      "image/png": "[encoded data removed]",
      "text/plain": [
       "<Figure size 432x288 with 1 Axes>"
      ]
     },
     "metadata": {
      "needs_background": "light"
     },
     "output_type": "display_data"
    }
   ],
   "source": [
    "(df_smart\n",
    " .groupby('month')['revenue'].mean()\n",
    " .plot(x='month', y='revenue', kind='bar', title='Помесячная выручка тарифа Smart')\n",
    ")\n",
    "plt.xlabel('Месяц')\n",
    "plt.ylabel('Средняя выручка, руб')\n",
    "plt.show()"
   ]
  },
  {
   "cell_type": "code",
   "execution_count": 55,
   "metadata": {
    "scrolled": false
   },
   "outputs": [
    {
     "data": {
      "image/png": "[encoded data removed]",
      "text/plain": [
       "<Figure size 432x288 with 1 Axes>"
      ]
     },
     "metadata": {
      "needs_background": "light"
     },
     "output_type": "display_data"
    }
   ],
   "source": [
    "(df_ultra\n",
    " .groupby('month')['revenue'].mean()\n",
    " .plot(x='month', y='revenue', kind='bar', title='Помесячная выручка тарифа Ultra')\n",
    ")\n",
    "plt.xlabel('Месяц')\n",
    "plt.ylabel('Средняя выручка, руб')\n",
    "plt.show()"
   ]
  },
  {
   "cell_type": "markdown",
   "metadata": {},
   "source": [
    "Из полученных диаграмм можно сделать вывод о том, что выручка от пользователей тарифа **\"Smart\"** имеет тенденцию к **росту**, а вот выручка от тарифа **\"Ultra\"** пребывает в **\"застое\"**. Компании явно стоит обратить на это **внимание**."
   ]
  },
  {
   "cell_type": "markdown",
   "metadata": {},
   "source": [
    "### Вывод по анализу данных\n",
    "В ходе анализа данных были построены гистограммы распределений для таких параметров тарифов, как израсходованные минуты, количество израсходованных сообщений и объем израсходованного веб-трафика.\n",
    "\n",
    "Главной особенностью можно отметить то, что основным предметом пользования является именно **веб-трафик**. Также примечательно, что пользователям тарифа **Smart** часто не хватает предоставленного им лимита способов связи, соответственно основная выручка для данного тарифа вытекает имеено из **допольнительной платы**, в то время как выручка от тарифа **Ultra** больше вытекает из **абонентской платы**."
   ]
  },
  {
   "cell_type": "markdown",
   "metadata": {},
   "source": [
    "## Формулировка и проверка гипотез"
   ]
  },
  {
   "cell_type": "markdown",
   "metadata": {},
   "source": [
    "Перед проверкой гипотез расспотрим ключевые статистические данные выручки для обоих тарифов, а также построим гистограммы.\n",
    "\n",
    "Определим среднее количество, дисперсию и стандартное отклонение выручки для тарифа _smart_:"
   ]
  },
  {
   "cell_type": "code",
   "execution_count": 56,
   "metadata": {},
   "outputs": [
    {
     "name": "stdout",
     "output_type": "stream",
     "text": [
      "Средняя выручка для тарифа Smart: 1289.9735307312696\n",
      "Дисперсия выручки для тарифа Smart: 669785.7080064242\n",
      "Стандартное отклонение выручки для тарифа Smart: 818.4043670499469\n"
     ]
    }
   ],
   "source": [
    "print('Средняя выручка для тарифа Smart:', df_smart['revenue'].mean())\n",
    "print('Дисперсия выручки для тарифа Smart:', np.var(df_smart['revenue'], ddof=1))\n",
    "print('Стандартное отклонение выручки для тарифа Smart:', np.std(df_smart['revenue'], ddof=1))"
   ]
  },
  {
   "cell_type": "markdown",
   "metadata": {},
   "source": [
    "Определим среднее количество, дисперсию и стандартное отклонение выручки для тарифа _ultra_:"
   ]
  },
  {
   "cell_type": "code",
   "execution_count": 57,
   "metadata": {
    "scrolled": true
   },
   "outputs": [
    {
     "name": "stdout",
     "output_type": "stream",
     "text": [
      "Средняя выручка для тарифа Ultra: 2070.1522842639592\n",
      "Дисперсия выручки для тарифа Ultra: 141516.7450786183\n",
      "Стандартное отклонение выручки для тарифа Ultra: 376.1871144505328\n"
     ]
    }
   ],
   "source": [
    "print('Средняя выручка для тарифа Ultra:', df_ultra['revenue'].mean())\n",
    "print('Дисперсия выручки для тарифа Ultra:', np.var(df_ultra['revenue'], ddof=1))\n",
    "print('Стандартное отклонение выручки для тарифа Ultra:', np.std(df_ultra['revenue'], ddof=1))"
   ]
  },
  {
   "cell_type": "markdown",
   "metadata": {},
   "source": [
    "Построим гистограммы для обоих тарифов:"
   ]
  },
  {
   "cell_type": "code",
   "execution_count": 58,
   "metadata": {
    "scrolled": true
   },
   "outputs": [
    {
     "data": {
      "image/png": "[encoded data removed]",
      "text/plain": [
       "<Figure size 1080x360 with 1 Axes>"
      ]
     },
     "metadata": {
      "needs_background": "light"
     },
     "output_type": "display_data"
    }
   ],
   "source": [
    "df_smart['revenue'].plot(\n",
    "    kind='hist', \n",
    "    title='Гистрограмма выручки для тарифов Smart и Ultra',\n",
    "    figsize=(15,5),\n",
    "    histtype='step',\n",
    "    label='smart',\n",
    "    linewidth=2,\n",
    "    alpha=0.7,\n",
    "    bins=100, \n",
    "    grid=True,\n",
    "    legend=True\n",
    ")\n",
    "df_ultra['revenue'].plot(\n",
    "    kind='hist', \n",
    "    title='Гистрограмма выручки для тарифов Smart и Ultra',\n",
    "    figsize=(15,5),\n",
    "    histtype='step',\n",
    "    label='ultra',\n",
    "    linewidth=2,\n",
    "    alpha=0.7,\n",
    "    bins=100, \n",
    "    grid=True,\n",
    "    legend=True\n",
    ")\n",
    "plt.xlabel('Объем выручки, руб')\n",
    "plt.ylabel('Частота')\n",
    "plt.show()"
   ]
  },
  {
   "cell_type": "markdown",
   "metadata": {},
   "source": [
    "### Проверка гипотезы о том, что средняя выручка пользователей тарифов «Ultra» и «Smart» различаются"
   ]
  },
  {
   "cell_type": "markdown",
   "metadata": {},
   "source": [
    "Сформулируем **нулевую** гипотезу:\n",
    "- средняя выручка пользователей тарифа «Ultra» равна средней выручке пользователей тарифа «Smart»\n",
    "\n",
    "Соответственно, **альтернативная** гипотеза будет звучать следующим образом:\n",
    "- средняя выручка пользователей тарифа «Ultra» отличается средней выручки от пользователей тарифа «Smart»\n",
    "\n",
    "Для проверки двусторонней гипотезы проведем **t-тест**. Учитывая, что в тесте принимают участие две независимые друг от друга генеральные совокупности, равность которых нужно проверить, для проверки гипотезы необходимо использовать метод _scipy.stats.ttest_ind_:"
   ]
  },
  {
   "cell_type": "code",
   "execution_count": 59,
   "metadata": {},
   "outputs": [
    {
     "name": "stdout",
     "output_type": "stream",
     "text": [
      "p-значение:  4.2606313931076085e-250\n",
      "Отвергаем нулевую гипотезу\n"
     ]
    }
   ],
   "source": [
    "sample_1 = df_smart['revenue']\n",
    "sample_2 = df_ultra['revenue']\n",
    "\n",
    "# принимаем критический уровень статистической значимости\n",
    "# если p-value окажется меньше данного значения - отвергаем нулевую гипотезу\n",
    "alpha = .05\n",
    "\n",
    "# зададим параметр equal_var = False, так как дисперсии выборок не равны между собой\n",
    "results = st.stats.ttest_ind(sample_1, sample_2, equal_var = False)\n",
    "\n",
    "print('p-значение: ', results.pvalue)\n",
    "\n",
    "if results.pvalue < alpha:\n",
    "    print(\"Отвергаем нулевую гипотезу\")\n",
    "else:\n",
    "    print(\"Не получилось отвергнуть нулевую гипотезу\")"
   ]
  },
  {
   "cell_type": "markdown",
   "metadata": {},
   "source": [
    "В ходе t-теста нулевая гипотеза о равенстве средней выручки двух тарифов была отвергнута.\n",
    "\n",
    "Также, исходя из полученных средних значений двух выборок, можно сделать вывод о том, что средняя выручка от пользователей тарифа «Ultra» больше средней выручки от пользователей тарифа «Smart»."
   ]
  },
  {
   "cell_type": "markdown",
   "metadata": {},
   "source": [
    "### Проверка гипотезы о том, что средняя выручка пользователей из Москвы отличается от выручки пользователей из других регионов"
   ]
  },
  {
   "cell_type": "markdown",
   "metadata": {},
   "source": [
    "Перед проверкой гипотез расспотрим ключевые статистические данные выручки для пользователей Москвы и других регионов, а также построим гистограммы.\n",
    "\n",
    "Определим среднее количество, дисперсию и стандартное отклонение выручки для пользователей из Москвы:"
   ]
  },
  {
   "cell_type": "code",
   "execution_count": 60,
   "metadata": {
    "scrolled": true
   },
   "outputs": [
    {
     "name": "stdout",
     "output_type": "stream",
     "text": [
      "Средняя выручка для пользователей Москвы: 1546.7135842880523\n",
      "Дисперсия выручки для пользователей Москвы: 565636.467011886\n",
      "Стандартное отклонение выручки для пользователей Москвы: 752.0880713133841\n"
     ]
    }
   ],
   "source": [
    "print('Средняя выручка для пользователей Москвы:', df.query('city == \"Москва\"')['revenue'].mean())\n",
    "print('Дисперсия выручки для пользователей Москвы:', np.var(df.query('city == \"Москва\"')['revenue'], ddof=1))\n",
    "print('Стандартное отклонение выручки для пользователей Москвы:', np.std(df.query('city == \"Москва\"')['revenue'], ddof=1))"
   ]
  },
  {
   "cell_type": "markdown",
   "metadata": {},
   "source": [
    "Определим среднее количество, дисперсию и стандартное отклонение выручки для пользователей из других регионов:"
   ]
  },
  {
   "cell_type": "code",
   "execution_count": 61,
   "metadata": {},
   "outputs": [
    {
     "name": "stdout",
     "output_type": "stream",
     "text": [
      "Средняя выручка для пользователей из других регионов: 1524.9362274298885\n",
      "Дисперсия выручки для пользователей из других регионов: 654137.6285218114\n",
      "Стандартное отклонение выручки для пользователей из других регионов: 808.7877524553716\n"
     ]
    }
   ],
   "source": [
    "print('Средняя выручка для пользователей из других регионов:', df.query('city != \"Москва\"')['revenue'].mean())\n",
    "print('Дисперсия выручки для пользователей из других регионов:', np.var(df.query('city != \"Москва\"')['revenue'], ddof=1))\n",
    "print('Стандартное отклонение выручки для пользователей из других регионов:', np.std(df.query('city != \"Москва\"')['revenue'], ddof=1))"
   ]
  },
  {
   "cell_type": "markdown",
   "metadata": {},
   "source": [
    "Построим гистограммы выручки для Москвы и других регионов:"
   ]
  },
  {
   "cell_type": "code",
   "execution_count": 62,
   "metadata": {
    "scrolled": true
   },
   "outputs": [
    {
     "data": {
      "image/png": "[encoded data removed]",
      "text/plain": [
       "<Figure size 1080x360 with 1 Axes>"
      ]
     },
     "metadata": {
      "needs_background": "light"
     },
     "output_type": "display_data"
    }
   ],
   "source": [
    "df.query('city == \"Москва\"')['revenue'].plot(\n",
    "    kind='hist', \n",
    "    title='Гистрограмма выручки для Москвы и других регионов',\n",
    "    figsize=(15,5),\n",
    "    histtype='step',\n",
    "    label='Москва',\n",
    "    linewidth=2,\n",
    "    alpha=0.7,\n",
    "    bins=100, \n",
    "    grid=True,\n",
    "    legend=True\n",
    ")\n",
    "df.query('city != \"Москва\"')['revenue'].plot(\n",
    "    kind='hist', \n",
    "    title='Гистрограмма выручки для Москвы и других регионов',\n",
    "    figsize=(15,5),\n",
    "    histtype='step',\n",
    "    label='Другие регионы',\n",
    "    linewidth=2,\n",
    "    alpha=0.7,\n",
    "    bins=100, \n",
    "    grid=True,\n",
    "    legend=True\n",
    ")\n",
    "plt.xlabel('Объем выручки, руб')\n",
    "plt.ylabel('Частота')\n",
    "plt.show()"
   ]
  },
  {
   "cell_type": "markdown",
   "metadata": {},
   "source": [
    "Примечательно, что гистограммы имеют практически идентичную форму."
   ]
  },
  {
   "cell_type": "markdown",
   "metadata": {},
   "source": [
    "Сформулируем **нулевую** гипотезу:\n",
    "- средняя выручка пользователей из Москвы равна средней выручке пользователей из других регионов\n",
    "\n",
    "Соответственно, **альтернативная** гипотеза будет звучать следующим образом:\n",
    "- средняя выручка пользователей из Москвы отличается от средней выручки пользователей из других регионов\n",
    "\n",
    "Для проверки двусторонней гипотезы проведем **t-тест**. Учитывая, что в тесте принимают участие две независимые друг от друга генеральные совокупности, равность которых нужно проверить, для проверки гипотезы необходимо использовать метод _scipy.stats.ttest_ind_:"
   ]
  },
  {
   "cell_type": "code",
   "execution_count": 63,
   "metadata": {},
   "outputs": [
    {
     "name": "stdout",
     "output_type": "stream",
     "text": [
      "p-значение:  0.5257376663729298\n",
      "Не получилось отвергнуть нулевую гипотезу\n"
     ]
    }
   ],
   "source": [
    "sample_1 = df.query('city == \"Москва\"')['revenue']\n",
    "sample_2 = df.query('city != \"Москва\"')['revenue']\n",
    "\n",
    "# принимаем критический уровень статистической значимости\n",
    "# если p-value окажется меньше данного значения - отвергаем нулевую гипотезу\n",
    "alpha = .05\n",
    "\n",
    "# зададим параметр equal_var = False, так как дисперсии выборок не равны между собой\n",
    "results = st.stats.ttest_ind(sample_1, sample_2, equal_var = False)\n",
    "\n",
    "print('p-значение: ', results.pvalue)\n",
    "\n",
    "if results.pvalue < alpha:\n",
    "    print(\"Отвергаем нулевую гипотезу\")\n",
    "else:\n",
    "    print(\"Не получилось отвергнуть нулевую гипотезу\")"
   ]
  },
  {
   "cell_type": "markdown",
   "metadata": {},
   "source": [
    "В ходе t-теста нулевая гипотеза о равенстве средней выручки пользователей Москвы и пользователей других регионов не была отвергнута.\n",
    "\n",
    "Полученный результат подтверждают фактические значения средней выручки (1547 рублей для пользователей Москвы и 1525 рублей для пользователей других регионов). Средняя выручка действительно **не зависит** от географического положения пользователей."
   ]
  },
  {
   "cell_type": "markdown",
   "metadata": {},
   "source": [
    "## Общий вывод"
   ]
  },
  {
   "cell_type": "markdown",
   "metadata": {},
   "source": [
    "В ходе предварительного анализа поведения клиентов двух тарфиных планов \"Smart\" и \"Ultra\" компании \"Мегалайн\" были проведены:\n",
    "\n",
    "**1. Подготовка данных к анализу, в ходе которой:**\n",
    "- заполнены пропуски в необходимых для анализа столбцах\n",
    "- у части столбцов был изменен тип данных для дальнейшей работы\n",
    "- была произведена проверка на наличие дубликатов\n",
    "- посчитаны помесячно для каждого пользователя суммарная длительность звонков, количество отправленных СМС-сообщений и объем веб-трафика\n",
    "- суммарная длительность звонков и объем веб-трафика округлены в большую сторону\n",
    "- для дальнейшего удобства таблицы были очищены от столбцов, не участвующих в дальнейшем анализе\n",
    "- все таблицы были объединены в одну\n",
    "- произведен расчет и добавление в таблицу помесячной выручки от каждого пользователя\n",
    "\n",
    "**2. Произведен анализ предоставленных данных:**\n",
    "- анализ количества израсходованных минут для тарифов «Ultra» и «Smart»\n",
    "- анализ количества отправленных сообщений для тарифов «Ultra» и «Smart»\n",
    "- анализ количества израсходованного веб-трафика для тарифов «Ultra» и «Smart»\n",
    "- по каждому параметру построены гистограммы\n",
    "\n",
    "В ходе изучения результатов проведенного анализа главной особенностью было отмечено то, что основным предметом пользования является именно **веб-трафик**, ведь именно эту услугу применяют пользователи чаще всего (многие пользователи совсем не используют звонки и СМС-сообщения). \n",
    "\n",
    "Также по результатам исследования видно, что пользователям обоих тарифов не хвататет предоставляемого им месячного веб-трафика.\n",
    "\n",
    "Примечательно, что пользователям тарифа **Smart** часто не хватает предоставленного им лимита способов связи, соответственно основная выручка для данного тарифа вытекает имеено из **допольнительной платы**, в то время как выручка от тарифа **Ultra** больше вытекает из **абонентской платы**. \n",
    "\n",
    "**3. Проверены следующие гипотезы**:\n",
    "- о том, что средняя выручка пользователей тарифов «Ultra» и «Smart» различаются\n",
    "- о том, что средняя выручка пользователей из Москвы отличается от выручки пользователей из других регионов\n",
    "\n",
    "Гипотеза о различии средней выручки пользователей тарифов «Ultra» и «Smart» нашла свое подтверждение, нулевая гипотеза о равенстве этих параметров была отвергнута. Средняя выручка пользователей тарифа «Ultra» (2070 рублей) явно выше средней выручки пользователей тарифа «Smart» (1290 рублей), разница около 60%.\n",
    "\n",
    "Гипотеза о различии средней выручки пользователей из Москвы от выручки пользователей из других регионов в итоге не была отвергнута. Следовательно, компании \"Мегалайн\" не стоит делать упор распространения на столицу, а развивать свою деятельность на территории всей страны.\n",
    "\n",
    "Что касается главного вопроса, поставленного в целях анализа, можно сделать однозначный вывод о том, что тариф «Ultra» приносит большую прибыль компании \"Мегалайн\". Однако, заметно и то, что данным тарифом пользуются реже, чем его \"конкурентом\". Возможно, компании стоит нацелиться на увеличение популярности своего самого прибыльного тарифа путем проведения рекламных акций, либо пересмотром абонентской платы.\n",
    "\n",
    "Используя результаты данного исследования, коммерческий департамент компании \"Мегалайн\" сможет скорректировать рекламный бюджет в сторону более прибыльного тарифа **«Ultra»**."
   ]
  }
 ],
 "metadata": {
  "ExecuteTimeLog": [
   {
    "duration": 1169,
    "start_time": "2022-02-10T05:58:34.920Z"
   },
   {
    "duration": 30,
    "start_time": "2022-02-10T06:00:28.631Z"
   },
   {
    "duration": 1483,
    "start_time": "2022-02-10T06:03:32.145Z"
   },
   {
    "duration": 1184,
    "start_time": "2022-02-10T06:04:10.595Z"
   },
   {
    "duration": 1539,
    "start_time": "2022-02-10T06:04:11.782Z"
   },
   {
    "duration": 3,
    "start_time": "2022-02-10T06:06:25.416Z"
   },
   {
    "duration": 1410,
    "start_time": "2022-02-10T06:06:27.235Z"
   },
   {
    "duration": 503,
    "start_time": "2022-02-10T06:06:47.170Z"
   },
   {
    "duration": 399,
    "start_time": "2022-02-10T06:06:54.749Z"
   },
   {
    "duration": 376,
    "start_time": "2022-02-10T06:07:01.385Z"
   },
   {
    "duration": 1105,
    "start_time": "2022-02-10T06:07:06.775Z"
   },
   {
    "duration": 385,
    "start_time": "2022-02-10T06:07:07.882Z"
   },
   {
    "duration": 385,
    "start_time": "2022-02-10T06:08:08.251Z"
   },
   {
    "duration": 153,
    "start_time": "2022-02-10T06:08:08.638Z"
   },
   {
    "duration": 84,
    "start_time": "2022-02-10T06:08:08.793Z"
   },
   {
    "duration": 122,
    "start_time": "2022-02-10T06:08:08.883Z"
   },
   {
    "duration": 12,
    "start_time": "2022-02-10T06:08:09.235Z"
   },
   {
    "duration": 25,
    "start_time": "2022-02-10T06:08:43.330Z"
   },
   {
    "duration": 21,
    "start_time": "2022-02-10T06:25:21.492Z"
   },
   {
    "duration": 172,
    "start_time": "2022-02-10T06:25:58.506Z"
   },
   {
    "duration": 168,
    "start_time": "2022-02-10T06:28:14.242Z"
   },
   {
    "duration": 152,
    "start_time": "2022-02-10T06:28:19.674Z"
   },
   {
    "duration": 27,
    "start_time": "2022-02-10T06:28:25.083Z"
   },
   {
    "duration": 404,
    "start_time": "2022-02-10T06:43:58.878Z"
   },
   {
    "duration": 269,
    "start_time": "2022-02-10T06:46:05.266Z"
   },
   {
    "duration": 47,
    "start_time": "2022-02-10T06:46:13.161Z"
   },
   {
    "duration": 34,
    "start_time": "2022-02-10T06:46:22.854Z"
   },
   {
    "duration": 27,
    "start_time": "2022-02-10T06:46:41.324Z"
   },
   {
    "duration": 285,
    "start_time": "2022-02-10T06:50:57.779Z"
   },
   {
    "duration": 285,
    "start_time": "2022-02-10T06:53:42.130Z"
   },
   {
    "duration": 4,
    "start_time": "2022-02-10T06:55:39.663Z"
   },
   {
    "duration": 264,
    "start_time": "2022-02-10T06:55:41.096Z"
   },
   {
    "duration": 11,
    "start_time": "2022-02-10T07:02:07.005Z"
   },
   {
    "duration": 5,
    "start_time": "2022-02-10T07:02:18.405Z"
   },
   {
    "duration": 273,
    "start_time": "2022-02-10T07:02:51.908Z"
   },
   {
    "duration": 20,
    "start_time": "2022-02-10T07:08:47.008Z"
   },
   {
    "duration": 26,
    "start_time": "2022-02-10T07:10:54.913Z"
   },
   {
    "duration": 28,
    "start_time": "2022-02-10T07:11:06.167Z"
   },
   {
    "duration": 30,
    "start_time": "2022-02-10T07:15:04.833Z"
   },
   {
    "duration": 15,
    "start_time": "2022-02-10T07:15:58.273Z"
   },
   {
    "duration": 1074,
    "start_time": "2022-02-10T07:18:05.193Z"
   },
   {
    "duration": 1180,
    "start_time": "2022-02-10T07:18:18.413Z"
   },
   {
    "duration": 29,
    "start_time": "2022-02-10T07:18:19.595Z"
   },
   {
    "duration": 160,
    "start_time": "2022-02-10T07:18:19.630Z"
   },
   {
    "duration": 88,
    "start_time": "2022-02-10T07:18:19.792Z"
   },
   {
    "duration": 138,
    "start_time": "2022-02-10T07:18:19.882Z"
   },
   {
    "duration": 16,
    "start_time": "2022-02-10T07:18:20.022Z"
   },
   {
    "duration": 33,
    "start_time": "2022-02-10T07:18:20.039Z"
   },
   {
    "duration": 61,
    "start_time": "2022-02-10T07:18:20.075Z"
   },
   {
    "duration": 6,
    "start_time": "2022-02-10T07:18:20.138Z"
   },
   {
    "duration": 1140,
    "start_time": "2022-02-10T07:18:20.145Z"
   },
   {
    "duration": 33,
    "start_time": "2022-02-10T07:22:53.516Z"
   },
   {
    "duration": 41,
    "start_time": "2022-02-10T07:25:24.656Z"
   },
   {
    "duration": 88,
    "start_time": "2022-02-10T07:26:14.498Z"
   },
   {
    "duration": 94,
    "start_time": "2022-02-10T07:26:36.327Z"
   },
   {
    "duration": 90,
    "start_time": "2022-02-10T07:27:04.202Z"
   },
   {
    "duration": 82,
    "start_time": "2022-02-10T07:27:17.507Z"
   },
   {
    "duration": 83,
    "start_time": "2022-02-10T07:27:25.427Z"
   },
   {
    "duration": 37,
    "start_time": "2022-02-10T07:28:32.998Z"
   },
   {
    "duration": 37,
    "start_time": "2022-02-10T07:29:01.736Z"
   },
   {
    "duration": 103,
    "start_time": "2022-02-10T07:32:32.719Z"
   },
   {
    "duration": 33,
    "start_time": "2022-02-10T07:33:24.562Z"
   },
   {
    "duration": 324,
    "start_time": "2022-02-10T07:35:50.815Z"
   },
   {
    "duration": 287,
    "start_time": "2022-02-10T07:35:55.271Z"
   },
   {
    "duration": 270,
    "start_time": "2022-02-10T07:36:19.468Z"
   },
   {
    "duration": 293,
    "start_time": "2022-02-10T07:36:57.807Z"
   },
   {
    "duration": 1373,
    "start_time": "2022-02-10T07:37:15.045Z"
   },
   {
    "duration": 26,
    "start_time": "2022-02-10T07:37:19.760Z"
   },
   {
    "duration": 15,
    "start_time": "2022-02-10T07:41:28.742Z"
   },
   {
    "duration": 50,
    "start_time": "2022-02-10T07:42:09.009Z"
   },
   {
    "duration": 24,
    "start_time": "2022-02-10T07:42:49.994Z"
   },
   {
    "duration": 33,
    "start_time": "2022-02-10T07:45:28.631Z"
   },
   {
    "duration": 27,
    "start_time": "2022-02-10T07:47:00.118Z"
   },
   {
    "duration": 15,
    "start_time": "2022-02-10T07:51:41.952Z"
   },
   {
    "duration": 18,
    "start_time": "2022-02-10T07:51:58.744Z"
   },
   {
    "duration": 98,
    "start_time": "2022-02-10T07:54:02.565Z"
   },
   {
    "duration": 59,
    "start_time": "2022-02-10T07:54:16.552Z"
   },
   {
    "duration": 32,
    "start_time": "2022-02-10T07:55:07.001Z"
   },
   {
    "duration": 38,
    "start_time": "2022-02-10T07:58:15.387Z"
   },
   {
    "duration": 44,
    "start_time": "2022-02-10T08:00:33.723Z"
   },
   {
    "duration": 34,
    "start_time": "2022-02-10T08:01:06.788Z"
   },
   {
    "duration": 22,
    "start_time": "2022-02-10T08:01:51.998Z"
   },
   {
    "duration": 19,
    "start_time": "2022-02-10T08:02:34.188Z"
   },
   {
    "duration": 9,
    "start_time": "2022-02-10T08:05:35.042Z"
   },
   {
    "duration": 13,
    "start_time": "2022-02-10T08:06:18.251Z"
   },
   {
    "duration": 4,
    "start_time": "2022-02-10T08:06:22.007Z"
   },
   {
    "duration": 9,
    "start_time": "2022-02-10T08:06:24.732Z"
   },
   {
    "duration": 20,
    "start_time": "2022-02-10T08:06:39.764Z"
   },
   {
    "duration": 12,
    "start_time": "2022-02-10T08:07:09.098Z"
   },
   {
    "duration": 6,
    "start_time": "2022-02-10T08:08:48.276Z"
   },
   {
    "duration": 12,
    "start_time": "2022-02-10T08:09:13.171Z"
   },
   {
    "duration": 7,
    "start_time": "2022-02-10T08:09:17.282Z"
   },
   {
    "duration": 7,
    "start_time": "2022-02-10T08:10:21.004Z"
   },
   {
    "duration": 7,
    "start_time": "2022-02-10T08:10:59.222Z"
   },
   {
    "duration": 39,
    "start_time": "2022-02-10T08:11:28.832Z"
   },
   {
    "duration": 6,
    "start_time": "2022-02-10T08:11:38.874Z"
   },
   {
    "duration": 36,
    "start_time": "2022-02-10T08:12:00.878Z"
   },
   {
    "duration": 8,
    "start_time": "2022-02-10T08:12:03.548Z"
   },
   {
    "duration": 36,
    "start_time": "2022-02-10T08:12:40.652Z"
   },
   {
    "duration": 7,
    "start_time": "2022-02-10T08:12:43.319Z"
   },
   {
    "duration": 271,
    "start_time": "2022-02-10T08:13:28.695Z"
   },
   {
    "duration": 349,
    "start_time": "2022-02-10T08:14:15.057Z"
   },
   {
    "duration": 10,
    "start_time": "2022-02-10T08:14:34.624Z"
   },
   {
    "duration": 7,
    "start_time": "2022-02-10T08:17:18.115Z"
   },
   {
    "duration": 6576,
    "start_time": "2022-02-10T08:21:30.693Z"
   },
   {
    "duration": 1187,
    "start_time": "2022-02-10T08:21:46.495Z"
   },
   {
    "duration": 29,
    "start_time": "2022-02-10T08:21:47.684Z"
   },
   {
    "duration": 150,
    "start_time": "2022-02-10T08:21:47.715Z"
   },
   {
    "duration": 84,
    "start_time": "2022-02-10T08:21:47.867Z"
   },
   {
    "duration": 139,
    "start_time": "2022-02-10T08:21:47.953Z"
   },
   {
    "duration": 16,
    "start_time": "2022-02-10T08:21:48.094Z"
   },
   {
    "duration": 28,
    "start_time": "2022-02-10T08:21:48.111Z"
   },
   {
    "duration": 107,
    "start_time": "2022-02-10T08:21:48.141Z"
   },
   {
    "duration": 29,
    "start_time": "2022-02-10T08:21:48.250Z"
   },
   {
    "duration": 63,
    "start_time": "2022-02-10T08:21:48.281Z"
   },
   {
    "duration": 4,
    "start_time": "2022-02-10T08:21:48.346Z"
   },
   {
    "duration": 42,
    "start_time": "2022-02-10T08:21:48.351Z"
   },
   {
    "duration": 5,
    "start_time": "2022-02-10T08:21:48.395Z"
   },
   {
    "duration": 29,
    "start_time": "2022-02-10T08:21:48.402Z"
   },
   {
    "duration": 44,
    "start_time": "2022-02-10T08:21:48.433Z"
   },
   {
    "duration": 47,
    "start_time": "2022-02-10T08:21:48.479Z"
   },
   {
    "duration": 23,
    "start_time": "2022-02-10T08:21:48.528Z"
   },
   {
    "duration": 18,
    "start_time": "2022-02-10T08:21:48.553Z"
   },
   {
    "duration": 83,
    "start_time": "2022-02-10T08:21:48.573Z"
   },
   {
    "duration": 28,
    "start_time": "2022-02-10T08:21:48.658Z"
   },
   {
    "duration": 52,
    "start_time": "2022-02-10T08:21:48.688Z"
   },
   {
    "duration": 24,
    "start_time": "2022-02-10T08:21:48.741Z"
   },
   {
    "duration": 15,
    "start_time": "2022-02-10T08:21:48.767Z"
   },
   {
    "duration": 5,
    "start_time": "2022-02-10T08:21:48.783Z"
   },
   {
    "duration": 387,
    "start_time": "2022-02-10T08:22:44.562Z"
   },
   {
    "duration": 1182,
    "start_time": "2022-02-10T08:23:05.406Z"
   },
   {
    "duration": 29,
    "start_time": "2022-02-10T08:23:06.590Z"
   },
   {
    "duration": 153,
    "start_time": "2022-02-10T08:23:06.621Z"
   },
   {
    "duration": 94,
    "start_time": "2022-02-10T08:23:06.776Z"
   },
   {
    "duration": 140,
    "start_time": "2022-02-10T08:23:06.872Z"
   },
   {
    "duration": 17,
    "start_time": "2022-02-10T08:23:07.019Z"
   },
   {
    "duration": 26,
    "start_time": "2022-02-10T08:23:07.038Z"
   },
   {
    "duration": 112,
    "start_time": "2022-02-10T08:23:07.065Z"
   },
   {
    "duration": 38,
    "start_time": "2022-02-10T08:23:07.181Z"
   },
   {
    "duration": 47,
    "start_time": "2022-02-10T08:23:07.222Z"
   },
   {
    "duration": 5,
    "start_time": "2022-02-10T08:23:07.271Z"
   },
   {
    "duration": 59,
    "start_time": "2022-02-10T08:23:07.278Z"
   },
   {
    "duration": 6,
    "start_time": "2022-02-10T08:23:07.339Z"
   },
   {
    "duration": 17,
    "start_time": "2022-02-10T08:23:07.347Z"
   },
   {
    "duration": 65,
    "start_time": "2022-02-10T08:23:07.366Z"
   },
   {
    "duration": 35,
    "start_time": "2022-02-10T08:23:07.433Z"
   },
   {
    "duration": 25,
    "start_time": "2022-02-10T08:23:07.469Z"
   },
   {
    "duration": 37,
    "start_time": "2022-02-10T08:23:07.496Z"
   },
   {
    "duration": 59,
    "start_time": "2022-02-10T08:23:07.535Z"
   },
   {
    "duration": 46,
    "start_time": "2022-02-10T08:23:07.596Z"
   },
   {
    "duration": 38,
    "start_time": "2022-02-10T08:23:07.644Z"
   },
   {
    "duration": 43,
    "start_time": "2022-02-10T08:23:07.683Z"
   },
   {
    "duration": 17,
    "start_time": "2022-02-10T08:23:07.727Z"
   },
   {
    "duration": 6,
    "start_time": "2022-02-10T08:23:07.745Z"
   },
   {
    "duration": 359,
    "start_time": "2022-02-10T08:23:07.753Z"
   },
   {
    "duration": 282,
    "start_time": "2022-02-10T08:23:20.107Z"
   },
   {
    "duration": 13,
    "start_time": "2022-02-10T08:23:37.145Z"
   },
   {
    "duration": -1669,
    "start_time": "2022-02-10T08:24:08.828Z"
   },
   {
    "duration": 1197,
    "start_time": "2022-02-10T08:24:10.491Z"
   },
   {
    "duration": 27,
    "start_time": "2022-02-10T08:24:11.691Z"
   },
   {
    "duration": 150,
    "start_time": "2022-02-10T08:24:11.720Z"
   },
   {
    "duration": 94,
    "start_time": "2022-02-10T08:24:11.872Z"
   },
   {
    "duration": 139,
    "start_time": "2022-02-10T08:24:11.968Z"
   },
   {
    "duration": 17,
    "start_time": "2022-02-10T08:24:12.109Z"
   },
   {
    "duration": 23,
    "start_time": "2022-02-10T08:24:12.128Z"
   },
   {
    "duration": 125,
    "start_time": "2022-02-10T08:24:12.153Z"
   },
   {
    "duration": 40,
    "start_time": "2022-02-10T08:24:12.281Z"
   },
   {
    "duration": 47,
    "start_time": "2022-02-10T08:24:12.323Z"
   },
   {
    "duration": 4,
    "start_time": "2022-02-10T08:24:12.372Z"
   },
   {
    "duration": 54,
    "start_time": "2022-02-10T08:24:12.377Z"
   },
   {
    "duration": 6,
    "start_time": "2022-02-10T08:24:12.433Z"
   },
   {
    "duration": 21,
    "start_time": "2022-02-10T08:24:12.441Z"
   },
   {
    "duration": 59,
    "start_time": "2022-02-10T08:24:12.464Z"
   },
   {
    "duration": 31,
    "start_time": "2022-02-10T08:24:12.525Z"
   },
   {
    "duration": 22,
    "start_time": "2022-02-10T08:24:12.557Z"
   },
   {
    "duration": 37,
    "start_time": "2022-02-10T08:24:12.581Z"
   },
   {
    "duration": 57,
    "start_time": "2022-02-10T08:24:12.620Z"
   },
   {
    "duration": 45,
    "start_time": "2022-02-10T08:24:12.678Z"
   },
   {
    "duration": 39,
    "start_time": "2022-02-10T08:24:12.725Z"
   },
   {
    "duration": 26,
    "start_time": "2022-02-10T08:24:12.766Z"
   },
   {
    "duration": 31,
    "start_time": "2022-02-10T08:24:12.794Z"
   },
   {
    "duration": 7,
    "start_time": "2022-02-10T08:24:12.827Z"
   },
   {
    "duration": 13,
    "start_time": "2022-02-10T08:24:12.836Z"
   },
   {
    "duration": 7,
    "start_time": "2022-02-10T08:27:13.978Z"
   },
   {
    "duration": 7,
    "start_time": "2022-02-10T08:32:48.166Z"
   },
   {
    "duration": 4,
    "start_time": "2022-02-10T08:40:20.862Z"
   },
   {
    "duration": 10,
    "start_time": "2022-02-10T08:40:30.347Z"
   },
   {
    "duration": 4,
    "start_time": "2022-02-10T08:41:14.904Z"
   },
   {
    "duration": 9,
    "start_time": "2022-02-10T08:43:57.967Z"
   },
   {
    "duration": 9,
    "start_time": "2022-02-10T08:44:49.443Z"
   },
   {
    "duration": 1213,
    "start_time": "2022-02-10T08:46:32.504Z"
   },
   {
    "duration": 29,
    "start_time": "2022-02-10T08:46:33.719Z"
   },
   {
    "duration": 156,
    "start_time": "2022-02-10T08:46:33.750Z"
   },
   {
    "duration": 106,
    "start_time": "2022-02-10T08:46:33.908Z"
   },
   {
    "duration": 141,
    "start_time": "2022-02-10T08:46:34.015Z"
   },
   {
    "duration": 17,
    "start_time": "2022-02-10T08:46:34.158Z"
   },
   {
    "duration": 10,
    "start_time": "2022-02-10T08:46:34.177Z"
   },
   {
    "duration": 12,
    "start_time": "2022-02-10T08:46:34.188Z"
   },
   {
    "duration": 17,
    "start_time": "2022-02-10T08:46:34.203Z"
   },
   {
    "duration": 11,
    "start_time": "2022-02-10T08:46:34.223Z"
   },
   {
    "duration": 27,
    "start_time": "2022-02-10T08:46:34.236Z"
   },
   {
    "duration": 119,
    "start_time": "2022-02-10T08:46:34.264Z"
   },
   {
    "duration": 42,
    "start_time": "2022-02-10T08:46:34.385Z"
   },
   {
    "duration": 71,
    "start_time": "2022-02-10T08:46:34.429Z"
   },
   {
    "duration": 4,
    "start_time": "2022-02-10T08:46:34.502Z"
   },
   {
    "duration": 47,
    "start_time": "2022-02-10T08:46:34.508Z"
   },
   {
    "duration": 16,
    "start_time": "2022-02-10T08:46:34.558Z"
   },
   {
    "duration": 75,
    "start_time": "2022-02-10T08:46:34.576Z"
   },
   {
    "duration": 33,
    "start_time": "2022-02-10T08:46:34.653Z"
   },
   {
    "duration": 41,
    "start_time": "2022-02-10T08:46:34.688Z"
   },
   {
    "duration": 19,
    "start_time": "2022-02-10T08:46:34.731Z"
   },
   {
    "duration": 80,
    "start_time": "2022-02-10T08:46:34.752Z"
   },
   {
    "duration": 31,
    "start_time": "2022-02-10T08:46:34.835Z"
   },
   {
    "duration": 61,
    "start_time": "2022-02-10T08:46:34.868Z"
   },
   {
    "duration": 26,
    "start_time": "2022-02-10T08:46:34.931Z"
   },
   {
    "duration": 16,
    "start_time": "2022-02-10T08:46:34.960Z"
   },
   {
    "duration": 7,
    "start_time": "2022-02-10T08:46:34.980Z"
   },
   {
    "duration": 39,
    "start_time": "2022-02-10T08:46:34.990Z"
   },
   {
    "duration": 1138,
    "start_time": "2022-02-10T09:02:11.459Z"
   },
   {
    "duration": 29,
    "start_time": "2022-02-10T09:02:12.599Z"
   },
   {
    "duration": 168,
    "start_time": "2022-02-10T09:02:12.631Z"
   },
   {
    "duration": 98,
    "start_time": "2022-02-10T09:02:12.801Z"
   },
   {
    "duration": 161,
    "start_time": "2022-02-10T09:02:12.900Z"
   },
   {
    "duration": 16,
    "start_time": "2022-02-10T09:02:13.063Z"
   },
   {
    "duration": 17,
    "start_time": "2022-02-10T09:02:13.081Z"
   },
   {
    "duration": 19,
    "start_time": "2022-02-10T09:02:13.100Z"
   },
   {
    "duration": 5,
    "start_time": "2022-02-10T09:02:13.123Z"
   },
   {
    "duration": 16,
    "start_time": "2022-02-10T09:02:13.130Z"
   },
   {
    "duration": 26,
    "start_time": "2022-02-10T09:02:13.148Z"
   },
   {
    "duration": 124,
    "start_time": "2022-02-10T09:02:13.177Z"
   },
   {
    "duration": 41,
    "start_time": "2022-02-10T09:02:13.304Z"
   },
   {
    "duration": 81,
    "start_time": "2022-02-10T09:02:13.347Z"
   },
   {
    "duration": 6,
    "start_time": "2022-02-10T09:02:13.430Z"
   },
   {
    "duration": 50,
    "start_time": "2022-02-10T09:02:13.438Z"
   },
   {
    "duration": 14,
    "start_time": "2022-02-10T09:02:13.490Z"
   },
   {
    "duration": 54,
    "start_time": "2022-02-10T09:02:13.506Z"
   },
   {
    "duration": 30,
    "start_time": "2022-02-10T09:02:13.562Z"
   },
   {
    "duration": 36,
    "start_time": "2022-02-10T09:02:13.594Z"
   },
   {
    "duration": 17,
    "start_time": "2022-02-10T09:02:13.632Z"
   },
   {
    "duration": 85,
    "start_time": "2022-02-10T09:02:13.651Z"
   },
   {
    "duration": 30,
    "start_time": "2022-02-10T09:02:13.737Z"
   },
   {
    "duration": 53,
    "start_time": "2022-02-10T09:02:13.769Z"
   },
   {
    "duration": 26,
    "start_time": "2022-02-10T09:02:13.824Z"
   },
   {
    "duration": 23,
    "start_time": "2022-02-10T09:02:13.852Z"
   },
   {
    "duration": 6,
    "start_time": "2022-02-10T09:02:13.878Z"
   },
   {
    "duration": 14,
    "start_time": "2022-02-10T09:02:13.886Z"
   },
   {
    "duration": 56,
    "start_time": "2022-02-10T09:07:41.861Z"
   },
   {
    "duration": 66,
    "start_time": "2022-02-10T09:07:46.235Z"
   },
   {
    "duration": 24,
    "start_time": "2022-02-10T09:08:20.453Z"
   },
   {
    "duration": 13,
    "start_time": "2022-02-10T09:09:08.124Z"
   },
   {
    "duration": 7,
    "start_time": "2022-02-10T09:09:36.420Z"
   },
   {
    "duration": 6,
    "start_time": "2022-02-10T09:09:48.176Z"
   },
   {
    "duration": 14,
    "start_time": "2022-02-10T09:10:09.875Z"
   },
   {
    "duration": 17,
    "start_time": "2022-02-10T09:11:14.899Z"
   },
   {
    "duration": 30,
    "start_time": "2022-02-10T09:12:53.498Z"
   },
   {
    "duration": 22,
    "start_time": "2022-02-10T09:13:03.217Z"
   },
   {
    "duration": 24,
    "start_time": "2022-02-10T09:14:14.749Z"
   },
   {
    "duration": 97,
    "start_time": "2022-02-10T09:15:33.122Z"
   },
   {
    "duration": 26,
    "start_time": "2022-02-10T09:16:07.876Z"
   },
   {
    "duration": 1268,
    "start_time": "2022-02-10T09:17:19.116Z"
   },
   {
    "duration": 28,
    "start_time": "2022-02-10T09:17:20.387Z"
   },
   {
    "duration": 172,
    "start_time": "2022-02-10T09:17:20.417Z"
   },
   {
    "duration": 93,
    "start_time": "2022-02-10T09:17:20.591Z"
   },
   {
    "duration": 155,
    "start_time": "2022-02-10T09:17:20.686Z"
   },
   {
    "duration": 16,
    "start_time": "2022-02-10T09:17:20.843Z"
   },
   {
    "duration": 22,
    "start_time": "2022-02-10T09:17:20.861Z"
   },
   {
    "duration": 29,
    "start_time": "2022-02-10T09:17:20.886Z"
   },
   {
    "duration": 25,
    "start_time": "2022-02-10T09:17:20.917Z"
   },
   {
    "duration": 36,
    "start_time": "2022-02-10T09:17:20.944Z"
   },
   {
    "duration": 53,
    "start_time": "2022-02-10T09:17:20.982Z"
   },
   {
    "duration": 121,
    "start_time": "2022-02-10T09:17:21.037Z"
   },
   {
    "duration": 30,
    "start_time": "2022-02-10T09:17:21.159Z"
   },
   {
    "duration": 64,
    "start_time": "2022-02-10T09:17:21.191Z"
   },
   {
    "duration": 4,
    "start_time": "2022-02-10T09:17:21.257Z"
   },
   {
    "duration": 59,
    "start_time": "2022-02-10T09:17:21.263Z"
   },
   {
    "duration": 24,
    "start_time": "2022-02-10T09:17:21.324Z"
   },
   {
    "duration": 63,
    "start_time": "2022-02-10T09:17:21.349Z"
   },
   {
    "duration": 34,
    "start_time": "2022-02-10T09:17:21.414Z"
   },
   {
    "duration": 25,
    "start_time": "2022-02-10T09:17:21.450Z"
   },
   {
    "duration": 27,
    "start_time": "2022-02-10T09:17:21.477Z"
   },
   {
    "duration": 77,
    "start_time": "2022-02-10T09:17:21.505Z"
   },
   {
    "duration": 37,
    "start_time": "2022-02-10T09:17:21.586Z"
   },
   {
    "duration": 35,
    "start_time": "2022-02-10T09:17:21.625Z"
   },
   {
    "duration": 29,
    "start_time": "2022-02-10T09:17:21.662Z"
   },
   {
    "duration": 34,
    "start_time": "2022-02-10T09:17:21.692Z"
   },
   {
    "duration": 25,
    "start_time": "2022-02-10T09:17:21.727Z"
   },
   {
    "duration": 30,
    "start_time": "2022-02-10T09:17:21.754Z"
   },
   {
    "duration": 41,
    "start_time": "2022-02-10T09:17:21.786Z"
   },
   {
    "duration": 32,
    "start_time": "2022-02-10T09:17:21.829Z"
   },
   {
    "duration": 22,
    "start_time": "2022-02-10T09:17:21.863Z"
   },
   {
    "duration": 45,
    "start_time": "2022-02-10T09:17:21.887Z"
   },
   {
    "duration": 23,
    "start_time": "2022-02-10T09:19:20.443Z"
   },
   {
    "duration": 1453,
    "start_time": "2022-02-10T09:19:26.565Z"
   },
   {
    "duration": 35,
    "start_time": "2022-02-10T09:19:28.021Z"
   },
   {
    "duration": 230,
    "start_time": "2022-02-10T09:19:28.058Z"
   },
   {
    "duration": 136,
    "start_time": "2022-02-10T09:19:28.291Z"
   },
   {
    "duration": 217,
    "start_time": "2022-02-10T09:19:28.429Z"
   },
   {
    "duration": 20,
    "start_time": "2022-02-10T09:19:28.649Z"
   },
   {
    "duration": 46,
    "start_time": "2022-02-10T09:19:28.671Z"
   },
   {
    "duration": 10,
    "start_time": "2022-02-10T09:19:28.721Z"
   },
   {
    "duration": 8,
    "start_time": "2022-02-10T09:19:28.733Z"
   },
   {
    "duration": 17,
    "start_time": "2022-02-10T09:19:28.742Z"
   },
   {
    "duration": 55,
    "start_time": "2022-02-10T09:19:28.761Z"
   },
   {
    "duration": 116,
    "start_time": "2022-02-10T09:19:28.817Z"
   },
   {
    "duration": 31,
    "start_time": "2022-02-10T09:19:28.935Z"
   },
   {
    "duration": 67,
    "start_time": "2022-02-10T09:19:28.967Z"
   },
   {
    "duration": 4,
    "start_time": "2022-02-10T09:19:29.036Z"
   },
   {
    "duration": 49,
    "start_time": "2022-02-10T09:19:29.043Z"
   },
   {
    "duration": 24,
    "start_time": "2022-02-10T09:19:29.094Z"
   },
   {
    "duration": 42,
    "start_time": "2022-02-10T09:19:29.120Z"
   },
   {
    "duration": 31,
    "start_time": "2022-02-10T09:19:29.163Z"
   },
   {
    "duration": 41,
    "start_time": "2022-02-10T09:19:29.195Z"
   },
   {
    "duration": 18,
    "start_time": "2022-02-10T09:19:29.237Z"
   },
   {
    "duration": 78,
    "start_time": "2022-02-10T09:19:29.257Z"
   },
   {
    "duration": 30,
    "start_time": "2022-02-10T09:19:29.338Z"
   },
   {
    "duration": 53,
    "start_time": "2022-02-10T09:19:29.369Z"
   },
   {
    "duration": 27,
    "start_time": "2022-02-10T09:19:29.424Z"
   },
   {
    "duration": 16,
    "start_time": "2022-02-10T09:19:29.453Z"
   },
   {
    "duration": 6,
    "start_time": "2022-02-10T09:19:29.471Z"
   },
   {
    "duration": 18,
    "start_time": "2022-02-10T09:19:29.479Z"
   },
   {
    "duration": 21,
    "start_time": "2022-02-10T09:19:29.520Z"
   },
   {
    "duration": 21,
    "start_time": "2022-02-10T09:19:29.543Z"
   },
   {
    "duration": 24,
    "start_time": "2022-02-10T09:19:29.566Z"
   },
   {
    "duration": 52,
    "start_time": "2022-02-10T09:19:29.592Z"
   },
   {
    "duration": 19,
    "start_time": "2022-02-10T09:21:03.786Z"
   },
   {
    "duration": 14,
    "start_time": "2022-02-10T09:21:12.293Z"
   },
   {
    "duration": 1226,
    "start_time": "2022-02-10T09:21:40.682Z"
   },
   {
    "duration": 73,
    "start_time": "2022-02-10T09:21:41.911Z"
   },
   {
    "duration": 436,
    "start_time": "2022-02-10T09:21:41.987Z"
   },
   {
    "duration": 166,
    "start_time": "2022-02-10T09:21:42.426Z"
   },
   {
    "duration": 153,
    "start_time": "2022-02-10T09:21:42.594Z"
   },
   {
    "duration": 18,
    "start_time": "2022-02-10T09:21:42.750Z"
   },
   {
    "duration": 7,
    "start_time": "2022-02-10T09:21:42.769Z"
   },
   {
    "duration": 8,
    "start_time": "2022-02-10T09:21:42.779Z"
   },
   {
    "duration": 5,
    "start_time": "2022-02-10T09:21:42.790Z"
   },
   {
    "duration": 9,
    "start_time": "2022-02-10T09:21:42.817Z"
   },
   {
    "duration": 27,
    "start_time": "2022-02-10T09:21:42.828Z"
   },
   {
    "duration": 145,
    "start_time": "2022-02-10T09:21:42.857Z"
   },
   {
    "duration": 35,
    "start_time": "2022-02-10T09:21:43.004Z"
   },
   {
    "duration": 51,
    "start_time": "2022-02-10T09:21:43.041Z"
   },
   {
    "duration": 4,
    "start_time": "2022-02-10T09:21:43.095Z"
   },
   {
    "duration": 56,
    "start_time": "2022-02-10T09:21:43.101Z"
   },
   {
    "duration": 15,
    "start_time": "2022-02-10T09:21:43.159Z"
   },
   {
    "duration": 64,
    "start_time": "2022-02-10T09:21:43.176Z"
   },
   {
    "duration": 31,
    "start_time": "2022-02-10T09:21:43.242Z"
   },
   {
    "duration": 23,
    "start_time": "2022-02-10T09:21:43.275Z"
   },
   {
    "duration": 34,
    "start_time": "2022-02-10T09:21:43.300Z"
   },
   {
    "duration": 61,
    "start_time": "2022-02-10T09:21:43.336Z"
   },
   {
    "duration": 48,
    "start_time": "2022-02-10T09:21:43.400Z"
   },
   {
    "duration": 38,
    "start_time": "2022-02-10T09:21:43.450Z"
   },
   {
    "duration": 50,
    "start_time": "2022-02-10T09:21:43.489Z"
   },
   {
    "duration": 15,
    "start_time": "2022-02-10T09:21:43.541Z"
   },
   {
    "duration": 5,
    "start_time": "2022-02-10T09:21:43.558Z"
   },
   {
    "duration": 14,
    "start_time": "2022-02-10T09:21:43.565Z"
   },
   {
    "duration": 17,
    "start_time": "2022-02-10T09:21:43.580Z"
   },
   {
    "duration": 39,
    "start_time": "2022-02-10T09:21:43.599Z"
   },
   {
    "duration": 22,
    "start_time": "2022-02-10T09:21:43.640Z"
   },
   {
    "duration": 27,
    "start_time": "2022-02-10T09:21:43.664Z"
   },
   {
    "duration": 18,
    "start_time": "2022-02-10T09:23:18.139Z"
   },
   {
    "duration": 21,
    "start_time": "2022-02-10T09:23:24.264Z"
   },
   {
    "duration": 17,
    "start_time": "2022-02-10T09:23:32.637Z"
   },
   {
    "duration": 18,
    "start_time": "2022-02-10T09:23:36.798Z"
   },
   {
    "duration": 17,
    "start_time": "2022-02-10T09:23:40.856Z"
   },
   {
    "duration": 18,
    "start_time": "2022-02-10T09:23:44.589Z"
   },
   {
    "duration": 18,
    "start_time": "2022-02-10T09:24:08.601Z"
   },
   {
    "duration": 23,
    "start_time": "2022-02-10T09:26:48.449Z"
   },
   {
    "duration": 40,
    "start_time": "2022-02-10T09:27:21.655Z"
   },
   {
    "duration": 62,
    "start_time": "2022-02-10T09:27:41.532Z"
   },
   {
    "duration": 45,
    "start_time": "2022-02-10T09:28:17.246Z"
   },
   {
    "duration": 374,
    "start_time": "2022-02-10T09:33:13.918Z"
   },
   {
    "duration": 24,
    "start_time": "2022-02-10T09:33:23.686Z"
   },
   {
    "duration": 12,
    "start_time": "2022-02-10T09:33:43.978Z"
   },
   {
    "duration": 18,
    "start_time": "2022-02-10T09:34:46.527Z"
   },
   {
    "duration": 24,
    "start_time": "2022-02-10T09:37:05.117Z"
   },
   {
    "duration": 25,
    "start_time": "2022-02-10T09:37:39.852Z"
   },
   {
    "duration": 1196,
    "start_time": "2022-02-10T09:38:00.728Z"
   },
   {
    "duration": 29,
    "start_time": "2022-02-10T09:38:01.926Z"
   },
   {
    "duration": 170,
    "start_time": "2022-02-10T09:38:01.960Z"
   },
   {
    "duration": 99,
    "start_time": "2022-02-10T09:38:02.132Z"
   },
   {
    "duration": 154,
    "start_time": "2022-02-10T09:38:02.232Z"
   },
   {
    "duration": 16,
    "start_time": "2022-02-10T09:38:02.388Z"
   },
   {
    "duration": 14,
    "start_time": "2022-02-10T09:38:02.405Z"
   },
   {
    "duration": 14,
    "start_time": "2022-02-10T09:38:02.422Z"
   },
   {
    "duration": 12,
    "start_time": "2022-02-10T09:38:02.438Z"
   },
   {
    "duration": 32,
    "start_time": "2022-02-10T09:38:02.452Z"
   },
   {
    "duration": 32,
    "start_time": "2022-02-10T09:38:02.486Z"
   },
   {
    "duration": 115,
    "start_time": "2022-02-10T09:38:02.521Z"
   },
   {
    "duration": 31,
    "start_time": "2022-02-10T09:38:02.638Z"
   },
   {
    "duration": 72,
    "start_time": "2022-02-10T09:38:02.671Z"
   },
   {
    "duration": 4,
    "start_time": "2022-02-10T09:38:02.745Z"
   },
   {
    "duration": 47,
    "start_time": "2022-02-10T09:38:02.751Z"
   },
   {
    "duration": 33,
    "start_time": "2022-02-10T09:38:02.800Z"
   },
   {
    "duration": 74,
    "start_time": "2022-02-10T09:38:02.835Z"
   },
   {
    "duration": 31,
    "start_time": "2022-02-10T09:38:02.910Z"
   },
   {
    "duration": 24,
    "start_time": "2022-02-10T09:38:02.943Z"
   },
   {
    "duration": 17,
    "start_time": "2022-02-10T09:38:02.969Z"
   },
   {
    "duration": 87,
    "start_time": "2022-02-10T09:38:02.988Z"
   },
   {
    "duration": 30,
    "start_time": "2022-02-10T09:38:03.076Z"
   },
   {
    "duration": 37,
    "start_time": "2022-02-10T09:38:03.118Z"
   },
   {
    "duration": 27,
    "start_time": "2022-02-10T09:38:03.156Z"
   },
   {
    "duration": 33,
    "start_time": "2022-02-10T09:38:03.186Z"
   },
   {
    "duration": 7,
    "start_time": "2022-02-10T09:38:03.221Z"
   },
   {
    "duration": 28,
    "start_time": "2022-02-10T09:38:03.230Z"
   },
   {
    "duration": 29,
    "start_time": "2022-02-10T09:38:03.260Z"
   },
   {
    "duration": 27,
    "start_time": "2022-02-10T09:38:03.291Z"
   },
   {
    "duration": 30,
    "start_time": "2022-02-10T09:38:03.320Z"
   },
   {
    "duration": 30,
    "start_time": "2022-02-10T09:38:03.352Z"
   },
   {
    "duration": 10,
    "start_time": "2022-02-10T09:38:03.384Z"
   },
   {
    "duration": 26,
    "start_time": "2022-02-10T09:39:25.202Z"
   },
   {
    "duration": 19,
    "start_time": "2022-02-10T09:39:28.598Z"
   },
   {
    "duration": 21,
    "start_time": "2022-02-10T09:39:39.534Z"
   },
   {
    "duration": 18,
    "start_time": "2022-02-10T09:39:42.268Z"
   },
   {
    "duration": 16,
    "start_time": "2022-02-10T09:39:47.316Z"
   },
   {
    "duration": 17,
    "start_time": "2022-02-10T09:39:50.204Z"
   },
   {
    "duration": 24,
    "start_time": "2022-02-10T09:40:30.660Z"
   },
   {
    "duration": 20,
    "start_time": "2022-02-10T09:41:00.244Z"
   },
   {
    "duration": 12,
    "start_time": "2022-02-10T09:41:09.228Z"
   },
   {
    "duration": 90,
    "start_time": "2022-02-10T09:42:08.336Z"
   },
   {
    "duration": 39,
    "start_time": "2022-02-10T09:42:10.056Z"
   },
   {
    "duration": 13,
    "start_time": "2022-02-10T09:42:21.248Z"
   },
   {
    "duration": 17,
    "start_time": "2022-02-10T09:46:52.124Z"
   },
   {
    "duration": 11,
    "start_time": "2022-02-10T09:47:08.536Z"
   },
   {
    "duration": 11,
    "start_time": "2022-02-10T09:47:11.340Z"
   },
   {
    "duration": 23,
    "start_time": "2022-02-10T09:47:49.065Z"
   },
   {
    "duration": 11,
    "start_time": "2022-02-10T09:48:02.302Z"
   },
   {
    "duration": 21,
    "start_time": "2022-02-10T09:48:03.623Z"
   },
   {
    "duration": 22,
    "start_time": "2022-02-10T09:48:07.050Z"
   },
   {
    "duration": 378,
    "start_time": "2022-02-10T09:48:24.247Z"
   },
   {
    "duration": 24,
    "start_time": "2022-02-10T09:48:28.484Z"
   },
   {
    "duration": 1283,
    "start_time": "2022-02-10T09:48:35.490Z"
   },
   {
    "duration": 28,
    "start_time": "2022-02-10T09:48:36.776Z"
   },
   {
    "duration": 167,
    "start_time": "2022-02-10T09:48:36.806Z"
   },
   {
    "duration": 101,
    "start_time": "2022-02-10T09:48:36.975Z"
   },
   {
    "duration": 147,
    "start_time": "2022-02-10T09:48:37.078Z"
   },
   {
    "duration": 16,
    "start_time": "2022-02-10T09:48:37.227Z"
   },
   {
    "duration": 15,
    "start_time": "2022-02-10T09:48:37.245Z"
   },
   {
    "duration": 21,
    "start_time": "2022-02-10T09:48:37.262Z"
   },
   {
    "duration": 7,
    "start_time": "2022-02-10T09:48:37.287Z"
   },
   {
    "duration": 21,
    "start_time": "2022-02-10T09:48:37.296Z"
   },
   {
    "duration": 34,
    "start_time": "2022-02-10T09:48:37.320Z"
   },
   {
    "duration": 123,
    "start_time": "2022-02-10T09:48:37.356Z"
   },
   {
    "duration": 43,
    "start_time": "2022-02-10T09:48:37.481Z"
   },
   {
    "duration": 51,
    "start_time": "2022-02-10T09:48:37.526Z"
   },
   {
    "duration": 5,
    "start_time": "2022-02-10T09:48:37.580Z"
   },
   {
    "duration": 77,
    "start_time": "2022-02-10T09:48:37.587Z"
   },
   {
    "duration": 25,
    "start_time": "2022-02-10T09:48:37.666Z"
   },
   {
    "duration": 63,
    "start_time": "2022-02-10T09:48:37.693Z"
   },
   {
    "duration": 30,
    "start_time": "2022-02-10T09:48:37.758Z"
   },
   {
    "duration": 35,
    "start_time": "2022-02-10T09:48:37.790Z"
   },
   {
    "duration": 17,
    "start_time": "2022-02-10T09:48:37.827Z"
   },
   {
    "duration": 79,
    "start_time": "2022-02-10T09:48:37.846Z"
   },
   {
    "duration": 30,
    "start_time": "2022-02-10T09:48:37.927Z"
   },
   {
    "duration": 37,
    "start_time": "2022-02-10T09:48:37.959Z"
   },
   {
    "duration": 42,
    "start_time": "2022-02-10T09:48:37.998Z"
   },
   {
    "duration": 17,
    "start_time": "2022-02-10T09:48:38.041Z"
   },
   {
    "duration": 6,
    "start_time": "2022-02-10T09:48:38.061Z"
   },
   {
    "duration": 38,
    "start_time": "2022-02-10T09:48:38.069Z"
   },
   {
    "duration": 15,
    "start_time": "2022-02-10T09:48:38.108Z"
   },
   {
    "duration": 20,
    "start_time": "2022-02-10T09:48:38.125Z"
   },
   {
    "duration": 21,
    "start_time": "2022-02-10T09:48:38.147Z"
   },
   {
    "duration": 50,
    "start_time": "2022-02-10T09:48:38.170Z"
   },
   {
    "duration": 11,
    "start_time": "2022-02-10T09:48:38.222Z"
   },
   {
    "duration": 445,
    "start_time": "2022-02-10T09:49:14.824Z"
   },
   {
    "duration": 1194,
    "start_time": "2022-02-10T09:49:30.576Z"
   },
   {
    "duration": 26,
    "start_time": "2022-02-10T09:49:31.775Z"
   },
   {
    "duration": 170,
    "start_time": "2022-02-10T09:49:31.803Z"
   },
   {
    "duration": 133,
    "start_time": "2022-02-10T09:49:31.975Z"
   },
   {
    "duration": 161,
    "start_time": "2022-02-10T09:49:32.111Z"
   },
   {
    "duration": 16,
    "start_time": "2022-02-10T09:49:32.274Z"
   },
   {
    "duration": 10,
    "start_time": "2022-02-10T09:49:32.292Z"
   },
   {
    "duration": 15,
    "start_time": "2022-02-10T09:49:32.304Z"
   },
   {
    "duration": 9,
    "start_time": "2022-02-10T09:49:32.320Z"
   },
   {
    "duration": 19,
    "start_time": "2022-02-10T09:49:32.331Z"
   },
   {
    "duration": 27,
    "start_time": "2022-02-10T09:49:32.351Z"
   },
   {
    "duration": 118,
    "start_time": "2022-02-10T09:49:32.380Z"
   },
   {
    "duration": 40,
    "start_time": "2022-02-10T09:49:32.500Z"
   },
   {
    "duration": 47,
    "start_time": "2022-02-10T09:49:32.541Z"
   },
   {
    "duration": 4,
    "start_time": "2022-02-10T09:49:32.590Z"
   },
   {
    "duration": 56,
    "start_time": "2022-02-10T09:49:32.595Z"
   },
   {
    "duration": 14,
    "start_time": "2022-02-10T09:49:32.652Z"
   },
   {
    "duration": 54,
    "start_time": "2022-02-10T09:49:32.668Z"
   },
   {
    "duration": 33,
    "start_time": "2022-02-10T09:49:32.723Z"
   },
   {
    "duration": 23,
    "start_time": "2022-02-10T09:49:32.758Z"
   },
   {
    "duration": 49,
    "start_time": "2022-02-10T09:49:32.783Z"
   },
   {
    "duration": 62,
    "start_time": "2022-02-10T09:49:32.835Z"
   },
   {
    "duration": 41,
    "start_time": "2022-02-10T09:49:32.899Z"
   },
   {
    "duration": 38,
    "start_time": "2022-02-10T09:49:32.942Z"
   },
   {
    "duration": 42,
    "start_time": "2022-02-10T09:49:32.982Z"
   },
   {
    "duration": 16,
    "start_time": "2022-02-10T09:49:33.025Z"
   },
   {
    "duration": 13,
    "start_time": "2022-02-10T09:49:33.042Z"
   },
   {
    "duration": 29,
    "start_time": "2022-02-10T09:49:33.057Z"
   },
   {
    "duration": 12,
    "start_time": "2022-02-10T09:49:33.088Z"
   },
   {
    "duration": 31,
    "start_time": "2022-02-10T09:49:33.102Z"
   },
   {
    "duration": 23,
    "start_time": "2022-02-10T09:49:33.135Z"
   },
   {
    "duration": 59,
    "start_time": "2022-02-10T09:49:33.160Z"
   },
   {
    "duration": 11,
    "start_time": "2022-02-10T09:49:33.221Z"
   },
   {
    "duration": 18,
    "start_time": "2022-02-10T09:53:14.485Z"
   },
   {
    "duration": 19,
    "start_time": "2022-02-10T10:00:30.974Z"
   },
   {
    "duration": 21,
    "start_time": "2022-02-10T10:01:55.293Z"
   },
   {
    "duration": 21,
    "start_time": "2022-02-10T10:02:39.000Z"
   },
   {
    "duration": 1364,
    "start_time": "2022-02-10T10:06:03.365Z"
   },
   {
    "duration": 36,
    "start_time": "2022-02-10T10:06:04.731Z"
   },
   {
    "duration": 238,
    "start_time": "2022-02-10T10:06:04.770Z"
   },
   {
    "duration": 141,
    "start_time": "2022-02-10T10:06:05.010Z"
   },
   {
    "duration": 212,
    "start_time": "2022-02-10T10:06:05.153Z"
   },
   {
    "duration": 21,
    "start_time": "2022-02-10T10:06:05.367Z"
   },
   {
    "duration": 15,
    "start_time": "2022-02-10T10:06:05.390Z"
   },
   {
    "duration": 19,
    "start_time": "2022-02-10T10:06:05.408Z"
   },
   {
    "duration": 4,
    "start_time": "2022-02-10T10:06:05.431Z"
   },
   {
    "duration": 22,
    "start_time": "2022-02-10T10:06:05.438Z"
   },
   {
    "duration": 34,
    "start_time": "2022-02-10T10:06:05.462Z"
   },
   {
    "duration": 122,
    "start_time": "2022-02-10T10:06:05.498Z"
   },
   {
    "duration": 28,
    "start_time": "2022-02-10T10:06:05.622Z"
   },
   {
    "duration": 66,
    "start_time": "2022-02-10T10:06:05.652Z"
   },
   {
    "duration": 4,
    "start_time": "2022-02-10T10:06:05.721Z"
   },
   {
    "duration": 45,
    "start_time": "2022-02-10T10:06:05.726Z"
   },
   {
    "duration": 14,
    "start_time": "2022-02-10T10:06:05.773Z"
   },
   {
    "duration": 63,
    "start_time": "2022-02-10T10:06:05.788Z"
   },
   {
    "duration": 29,
    "start_time": "2022-02-10T10:06:05.853Z"
   },
   {
    "duration": 35,
    "start_time": "2022-02-10T10:06:05.884Z"
   },
   {
    "duration": 18,
    "start_time": "2022-02-10T10:06:05.921Z"
   },
   {
    "duration": 77,
    "start_time": "2022-02-10T10:06:05.941Z"
   },
   {
    "duration": 31,
    "start_time": "2022-02-10T10:06:06.020Z"
   },
   {
    "duration": 38,
    "start_time": "2022-02-10T10:06:06.053Z"
   },
   {
    "duration": 49,
    "start_time": "2022-02-10T10:06:06.093Z"
   },
   {
    "duration": 17,
    "start_time": "2022-02-10T10:06:06.144Z"
   },
   {
    "duration": 7,
    "start_time": "2022-02-10T10:06:06.165Z"
   },
   {
    "duration": 14,
    "start_time": "2022-02-10T10:06:06.174Z"
   },
   {
    "duration": 44,
    "start_time": "2022-02-10T10:06:06.190Z"
   },
   {
    "duration": 24,
    "start_time": "2022-02-10T10:06:06.236Z"
   },
   {
    "duration": 32,
    "start_time": "2022-02-10T10:06:06.262Z"
   },
   {
    "duration": 28,
    "start_time": "2022-02-10T10:06:06.318Z"
   },
   {
    "duration": 8,
    "start_time": "2022-02-10T10:06:06.348Z"
   },
   {
    "duration": 49,
    "start_time": "2022-02-10T10:10:57.960Z"
   },
   {
    "duration": 4,
    "start_time": "2022-02-10T10:16:34.918Z"
   },
   {
    "duration": 3434,
    "start_time": "2022-02-10T10:16:40.907Z"
   },
   {
    "duration": 278,
    "start_time": "2022-02-10T10:17:33.718Z"
   },
   {
    "duration": 279,
    "start_time": "2022-02-10T10:18:00.785Z"
   },
   {
    "duration": 1157,
    "start_time": "2022-02-10T10:19:12.936Z"
   },
   {
    "duration": 28,
    "start_time": "2022-02-10T10:19:14.094Z"
   },
   {
    "duration": 160,
    "start_time": "2022-02-10T10:19:14.124Z"
   },
   {
    "duration": 91,
    "start_time": "2022-02-10T10:19:14.286Z"
   },
   {
    "duration": 147,
    "start_time": "2022-02-10T10:19:14.379Z"
   },
   {
    "duration": 16,
    "start_time": "2022-02-10T10:19:14.528Z"
   },
   {
    "duration": 8,
    "start_time": "2022-02-10T10:19:14.546Z"
   },
   {
    "duration": 10,
    "start_time": "2022-02-10T10:19:14.555Z"
   },
   {
    "duration": 4,
    "start_time": "2022-02-10T10:19:14.567Z"
   },
   {
    "duration": 11,
    "start_time": "2022-02-10T10:19:14.573Z"
   },
   {
    "duration": 47,
    "start_time": "2022-02-10T10:19:14.586Z"
   },
   {
    "duration": 119,
    "start_time": "2022-02-10T10:19:14.635Z"
   },
   {
    "duration": 30,
    "start_time": "2022-02-10T10:19:14.755Z"
   },
   {
    "duration": 63,
    "start_time": "2022-02-10T10:19:14.786Z"
   },
   {
    "duration": 4,
    "start_time": "2022-02-10T10:19:14.850Z"
   },
   {
    "duration": 65,
    "start_time": "2022-02-10T10:19:14.856Z"
   },
   {
    "duration": 15,
    "start_time": "2022-02-10T10:19:14.923Z"
   },
   {
    "duration": 57,
    "start_time": "2022-02-10T10:19:14.940Z"
   },
   {
    "duration": 40,
    "start_time": "2022-02-10T10:19:14.999Z"
   },
   {
    "duration": 31,
    "start_time": "2022-02-10T10:19:15.041Z"
   },
   {
    "duration": 46,
    "start_time": "2022-02-10T10:19:15.075Z"
   },
   {
    "duration": 95,
    "start_time": "2022-02-10T10:19:15.123Z"
   },
   {
    "duration": 37,
    "start_time": "2022-02-10T10:19:15.220Z"
   },
   {
    "duration": 62,
    "start_time": "2022-02-10T10:19:15.259Z"
   },
   {
    "duration": 33,
    "start_time": "2022-02-10T10:19:15.324Z"
   },
   {
    "duration": 21,
    "start_time": "2022-02-10T10:19:15.359Z"
   },
   {
    "duration": 8,
    "start_time": "2022-02-10T10:19:15.384Z"
   },
   {
    "duration": 37,
    "start_time": "2022-02-10T10:19:15.394Z"
   },
   {
    "duration": 30,
    "start_time": "2022-02-10T10:19:15.433Z"
   },
   {
    "duration": 27,
    "start_time": "2022-02-10T10:19:15.465Z"
   },
   {
    "duration": 22,
    "start_time": "2022-02-10T10:19:15.519Z"
   },
   {
    "duration": 26,
    "start_time": "2022-02-10T10:19:15.543Z"
   },
   {
    "duration": 8,
    "start_time": "2022-02-10T10:19:15.571Z"
   },
   {
    "duration": 71,
    "start_time": "2022-02-10T10:19:15.581Z"
   },
   {
    "duration": 12,
    "start_time": "2022-02-10T10:19:15.654Z"
   },
   {
    "duration": 7,
    "start_time": "2022-02-10T10:19:47.283Z"
   },
   {
    "duration": 8,
    "start_time": "2022-02-10T10:20:02.643Z"
   },
   {
    "duration": 6835,
    "start_time": "2022-02-10T10:23:12.304Z"
   },
   {
    "duration": -1758,
    "start_time": "2022-02-10T10:23:20.899Z"
   },
   {
    "duration": 1141,
    "start_time": "2022-02-10T10:23:23.459Z"
   },
   {
    "duration": 29,
    "start_time": "2022-02-10T10:23:24.602Z"
   },
   {
    "duration": 168,
    "start_time": "2022-02-10T10:23:24.634Z"
   },
   {
    "duration": 98,
    "start_time": "2022-02-10T10:23:24.804Z"
   },
   {
    "duration": 147,
    "start_time": "2022-02-10T10:23:24.903Z"
   },
   {
    "duration": 18,
    "start_time": "2022-02-10T10:23:25.052Z"
   },
   {
    "duration": 13,
    "start_time": "2022-02-10T10:23:25.072Z"
   },
   {
    "duration": 9,
    "start_time": "2022-02-10T10:23:25.087Z"
   },
   {
    "duration": 19,
    "start_time": "2022-02-10T10:23:25.100Z"
   },
   {
    "duration": 13,
    "start_time": "2022-02-10T10:23:25.123Z"
   },
   {
    "duration": 28,
    "start_time": "2022-02-10T10:23:25.138Z"
   },
   {
    "duration": 128,
    "start_time": "2022-02-10T10:23:25.168Z"
   },
   {
    "duration": 42,
    "start_time": "2022-02-10T10:23:25.297Z"
   },
   {
    "duration": 49,
    "start_time": "2022-02-10T10:23:25.340Z"
   },
   {
    "duration": 4,
    "start_time": "2022-02-10T10:23:25.391Z"
   },
   {
    "duration": 55,
    "start_time": "2022-02-10T10:23:25.397Z"
   },
   {
    "duration": 15,
    "start_time": "2022-02-10T10:23:25.454Z"
   },
   {
    "duration": 67,
    "start_time": "2022-02-10T10:23:25.471Z"
   },
   {
    "duration": 31,
    "start_time": "2022-02-10T10:23:25.540Z"
   },
   {
    "duration": 23,
    "start_time": "2022-02-10T10:23:25.573Z"
   },
   {
    "duration": 35,
    "start_time": "2022-02-10T10:23:25.598Z"
   },
   {
    "duration": 59,
    "start_time": "2022-02-10T10:23:25.634Z"
   },
   {
    "duration": 48,
    "start_time": "2022-02-10T10:23:25.694Z"
   },
   {
    "duration": 34,
    "start_time": "2022-02-10T10:23:25.744Z"
   },
   {
    "duration": 24,
    "start_time": "2022-02-10T10:23:25.780Z"
   },
   {
    "duration": 17,
    "start_time": "2022-02-10T10:23:25.819Z"
   },
   {
    "duration": 6,
    "start_time": "2022-02-10T10:23:25.839Z"
   },
   {
    "duration": 23,
    "start_time": "2022-02-10T10:23:25.847Z"
   },
   {
    "duration": 33,
    "start_time": "2022-02-10T10:23:25.872Z"
   },
   {
    "duration": 22,
    "start_time": "2022-02-10T10:23:25.907Z"
   },
   {
    "duration": 30,
    "start_time": "2022-02-10T10:23:25.931Z"
   },
   {
    "duration": 25,
    "start_time": "2022-02-10T10:23:25.962Z"
   },
   {
    "duration": 7,
    "start_time": "2022-02-10T10:23:25.988Z"
   },
   {
    "duration": 60,
    "start_time": "2022-02-10T10:23:25.997Z"
   },
   {
    "duration": 6,
    "start_time": "2022-02-10T10:23:26.058Z"
   },
   {
    "duration": 7466,
    "start_time": "2022-02-10T10:23:26.066Z"
   },
   {
    "duration": -1770,
    "start_time": "2022-02-10T10:23:35.305Z"
   },
   {
    "duration": 5,
    "start_time": "2022-02-10T10:23:45.512Z"
   },
   {
    "duration": 8,
    "start_time": "2022-02-10T10:23:46.964Z"
   },
   {
    "duration": 12,
    "start_time": "2022-02-10T10:24:04.182Z"
   },
   {
    "duration": 1296,
    "start_time": "2022-02-10T10:24:10.089Z"
   },
   {
    "duration": 27,
    "start_time": "2022-02-10T10:24:11.388Z"
   },
   {
    "duration": 170,
    "start_time": "2022-02-10T10:24:11.418Z"
   },
   {
    "duration": 93,
    "start_time": "2022-02-10T10:24:11.590Z"
   },
   {
    "duration": 146,
    "start_time": "2022-02-10T10:24:11.685Z"
   },
   {
    "duration": 17,
    "start_time": "2022-02-10T10:24:11.834Z"
   },
   {
    "duration": 14,
    "start_time": "2022-02-10T10:24:11.853Z"
   },
   {
    "duration": 10,
    "start_time": "2022-02-10T10:24:11.870Z"
   },
   {
    "duration": 10,
    "start_time": "2022-02-10T10:24:11.882Z"
   },
   {
    "duration": 34,
    "start_time": "2022-02-10T10:24:11.894Z"
   },
   {
    "duration": 23,
    "start_time": "2022-02-10T10:24:11.930Z"
   },
   {
    "duration": 122,
    "start_time": "2022-02-10T10:24:11.955Z"
   },
   {
    "duration": 40,
    "start_time": "2022-02-10T10:24:12.079Z"
   },
   {
    "duration": 48,
    "start_time": "2022-02-10T10:24:12.121Z"
   },
   {
    "duration": 4,
    "start_time": "2022-02-10T10:24:12.170Z"
   },
   {
    "duration": 52,
    "start_time": "2022-02-10T10:24:12.176Z"
   },
   {
    "duration": 13,
    "start_time": "2022-02-10T10:24:12.230Z"
   },
   {
    "duration": 46,
    "start_time": "2022-02-10T10:24:12.245Z"
   },
   {
    "duration": 46,
    "start_time": "2022-02-10T10:24:12.293Z"
   },
   {
    "duration": 23,
    "start_time": "2022-02-10T10:24:12.341Z"
   },
   {
    "duration": 16,
    "start_time": "2022-02-10T10:24:12.366Z"
   },
   {
    "duration": 83,
    "start_time": "2022-02-10T10:24:12.384Z"
   },
   {
    "duration": 30,
    "start_time": "2022-02-10T10:24:12.470Z"
   },
   {
    "duration": 51,
    "start_time": "2022-02-10T10:24:12.502Z"
   },
   {
    "duration": 26,
    "start_time": "2022-02-10T10:24:12.554Z"
   },
   {
    "duration": 37,
    "start_time": "2022-02-10T10:24:12.582Z"
   },
   {
    "duration": 7,
    "start_time": "2022-02-10T10:24:12.621Z"
   },
   {
    "duration": 22,
    "start_time": "2022-02-10T10:24:12.630Z"
   },
   {
    "duration": 23,
    "start_time": "2022-02-10T10:24:12.654Z"
   },
   {
    "duration": 39,
    "start_time": "2022-02-10T10:24:12.679Z"
   },
   {
    "duration": 22,
    "start_time": "2022-02-10T10:24:12.721Z"
   },
   {
    "duration": 25,
    "start_time": "2022-02-10T10:24:12.745Z"
   },
   {
    "duration": 8,
    "start_time": "2022-02-10T10:24:12.772Z"
   },
   {
    "duration": 75,
    "start_time": "2022-02-10T10:24:12.782Z"
   },
   {
    "duration": 11,
    "start_time": "2022-02-10T10:24:12.858Z"
   },
   {
    "duration": 4,
    "start_time": "2022-02-10T10:24:12.871Z"
   },
   {
    "duration": 45,
    "start_time": "2022-02-10T10:24:12.877Z"
   },
   {
    "duration": 5,
    "start_time": "2022-02-10T10:27:20.327Z"
   },
   {
    "duration": 7,
    "start_time": "2022-02-10T10:29:47.282Z"
   },
   {
    "duration": 10,
    "start_time": "2022-02-10T10:30:25.062Z"
   },
   {
    "duration": 1143,
    "start_time": "2022-02-10T10:30:29.952Z"
   },
   {
    "duration": 28,
    "start_time": "2022-02-10T10:30:31.097Z"
   },
   {
    "duration": 162,
    "start_time": "2022-02-10T10:30:31.128Z"
   },
   {
    "duration": 94,
    "start_time": "2022-02-10T10:30:31.293Z"
   },
   {
    "duration": 162,
    "start_time": "2022-02-10T10:30:31.389Z"
   },
   {
    "duration": 17,
    "start_time": "2022-02-10T10:30:31.554Z"
   },
   {
    "duration": 46,
    "start_time": "2022-02-10T10:30:31.573Z"
   },
   {
    "duration": 13,
    "start_time": "2022-02-10T10:30:31.623Z"
   },
   {
    "duration": 14,
    "start_time": "2022-02-10T10:30:31.639Z"
   },
   {
    "duration": 17,
    "start_time": "2022-02-10T10:30:31.655Z"
   },
   {
    "duration": 35,
    "start_time": "2022-02-10T10:30:31.674Z"
   },
   {
    "duration": 117,
    "start_time": "2022-02-10T10:30:31.711Z"
   },
   {
    "duration": 29,
    "start_time": "2022-02-10T10:30:31.830Z"
   },
   {
    "duration": 64,
    "start_time": "2022-02-10T10:30:31.861Z"
   },
   {
    "duration": 3,
    "start_time": "2022-02-10T10:30:31.927Z"
   },
   {
    "duration": 47,
    "start_time": "2022-02-10T10:30:31.932Z"
   },
   {
    "duration": 14,
    "start_time": "2022-02-10T10:30:31.981Z"
   },
   {
    "duration": 57,
    "start_time": "2022-02-10T10:30:31.997Z"
   },
   {
    "duration": 32,
    "start_time": "2022-02-10T10:30:32.055Z"
   },
   {
    "duration": 35,
    "start_time": "2022-02-10T10:30:32.089Z"
   },
   {
    "duration": 17,
    "start_time": "2022-02-10T10:30:32.125Z"
   },
   {
    "duration": 75,
    "start_time": "2022-02-10T10:30:32.144Z"
   },
   {
    "duration": 29,
    "start_time": "2022-02-10T10:30:32.222Z"
   },
   {
    "duration": 35,
    "start_time": "2022-02-10T10:30:32.253Z"
   },
   {
    "duration": 46,
    "start_time": "2022-02-10T10:30:32.290Z"
   },
   {
    "duration": 17,
    "start_time": "2022-02-10T10:30:32.338Z"
   },
   {
    "duration": 5,
    "start_time": "2022-02-10T10:30:32.357Z"
   },
   {
    "duration": 26,
    "start_time": "2022-02-10T10:30:32.364Z"
   },
   {
    "duration": 30,
    "start_time": "2022-02-10T10:30:32.392Z"
   },
   {
    "duration": 21,
    "start_time": "2022-02-10T10:30:32.424Z"
   },
   {
    "duration": 20,
    "start_time": "2022-02-10T10:30:32.446Z"
   },
   {
    "duration": 50,
    "start_time": "2022-02-10T10:30:32.468Z"
   },
   {
    "duration": 9,
    "start_time": "2022-02-10T10:30:32.520Z"
   },
   {
    "duration": 50,
    "start_time": "2022-02-10T10:30:32.531Z"
   },
   {
    "duration": 10,
    "start_time": "2022-02-10T10:30:32.583Z"
   },
   {
    "duration": 26,
    "start_time": "2022-02-10T10:30:32.595Z"
   },
   {
    "duration": 7,
    "start_time": "2022-02-10T10:30:32.623Z"
   },
   {
    "duration": 12,
    "start_time": "2022-02-10T10:30:32.632Z"
   },
   {
    "duration": 7,
    "start_time": "2022-02-10T10:40:09.999Z"
   },
   {
    "duration": 29,
    "start_time": "2022-02-10T10:44:28.300Z"
   },
   {
    "duration": 579,
    "start_time": "2022-02-10T10:50:29.932Z"
   },
   {
    "duration": 1159,
    "start_time": "2022-02-10T10:50:46.134Z"
   },
   {
    "duration": 27,
    "start_time": "2022-02-10T10:50:47.294Z"
   },
   {
    "duration": 154,
    "start_time": "2022-02-10T10:50:47.323Z"
   },
   {
    "duration": 95,
    "start_time": "2022-02-10T10:50:47.479Z"
   },
   {
    "duration": 145,
    "start_time": "2022-02-10T10:50:47.576Z"
   },
   {
    "duration": 17,
    "start_time": "2022-02-10T10:50:47.722Z"
   },
   {
    "duration": 8,
    "start_time": "2022-02-10T10:50:47.741Z"
   },
   {
    "duration": 14,
    "start_time": "2022-02-10T10:50:47.751Z"
   },
   {
    "duration": 13,
    "start_time": "2022-02-10T10:50:47.768Z"
   },
   {
    "duration": 13,
    "start_time": "2022-02-10T10:50:47.783Z"
   },
   {
    "duration": 31,
    "start_time": "2022-02-10T10:50:47.797Z"
   },
   {
    "duration": 113,
    "start_time": "2022-02-10T10:50:47.830Z"
   },
   {
    "duration": 29,
    "start_time": "2022-02-10T10:50:47.944Z"
   },
   {
    "duration": 65,
    "start_time": "2022-02-10T10:50:47.975Z"
   },
   {
    "duration": 4,
    "start_time": "2022-02-10T10:50:48.042Z"
   },
   {
    "duration": 61,
    "start_time": "2022-02-10T10:50:48.048Z"
   },
   {
    "duration": 14,
    "start_time": "2022-02-10T10:50:48.111Z"
   },
   {
    "duration": 53,
    "start_time": "2022-02-10T10:50:48.127Z"
   },
   {
    "duration": 31,
    "start_time": "2022-02-10T10:50:48.181Z"
   },
   {
    "duration": 35,
    "start_time": "2022-02-10T10:50:48.214Z"
   },
   {
    "duration": 17,
    "start_time": "2022-02-10T10:50:48.251Z"
   },
   {
    "duration": 78,
    "start_time": "2022-02-10T10:50:48.270Z"
   },
   {
    "duration": 30,
    "start_time": "2022-02-10T10:50:48.350Z"
   },
   {
    "duration": 49,
    "start_time": "2022-02-10T10:50:48.382Z"
   },
   {
    "duration": 26,
    "start_time": "2022-02-10T10:50:48.433Z"
   },
   {
    "duration": 17,
    "start_time": "2022-02-10T10:50:48.460Z"
   },
   {
    "duration": 6,
    "start_time": "2022-02-10T10:50:48.481Z"
   },
   {
    "duration": 37,
    "start_time": "2022-02-10T10:50:48.489Z"
   },
   {
    "duration": 20,
    "start_time": "2022-02-10T10:50:48.528Z"
   },
   {
    "duration": 24,
    "start_time": "2022-02-10T10:50:48.549Z"
   },
   {
    "duration": 25,
    "start_time": "2022-02-10T10:50:48.575Z"
   },
   {
    "duration": 40,
    "start_time": "2022-02-10T10:50:48.602Z"
   },
   {
    "duration": 8,
    "start_time": "2022-02-10T10:50:48.644Z"
   },
   {
    "duration": 68,
    "start_time": "2022-02-10T10:50:48.654Z"
   },
   {
    "duration": 11,
    "start_time": "2022-02-10T10:50:48.724Z"
   },
   {
    "duration": 11,
    "start_time": "2022-02-10T10:50:48.737Z"
   },
   {
    "duration": 12,
    "start_time": "2022-02-10T10:50:48.749Z"
   },
   {
    "duration": 21,
    "start_time": "2022-02-10T10:50:48.763Z"
   },
   {
    "duration": 548,
    "start_time": "2022-02-10T10:50:48.785Z"
   },
   {
    "duration": 6657,
    "start_time": "2022-02-10T10:50:55.927Z"
   },
   {
    "duration": 447,
    "start_time": "2022-02-10T10:51:43.171Z"
   },
   {
    "duration": 461,
    "start_time": "2022-02-10T10:52:25.783Z"
   },
   {
    "duration": 563,
    "start_time": "2022-02-10T10:58:15.792Z"
   },
   {
    "duration": 471,
    "start_time": "2022-02-10T10:58:49.474Z"
   },
   {
    "duration": 1375,
    "start_time": "2022-02-10T10:58:55.065Z"
   },
   {
    "duration": 28,
    "start_time": "2022-02-10T10:58:56.443Z"
   },
   {
    "duration": 201,
    "start_time": "2022-02-10T10:58:56.473Z"
   },
   {
    "duration": 103,
    "start_time": "2022-02-10T10:58:56.677Z"
   },
   {
    "duration": 153,
    "start_time": "2022-02-10T10:58:56.782Z"
   },
   {
    "duration": 16,
    "start_time": "2022-02-10T10:58:56.936Z"
   },
   {
    "duration": 8,
    "start_time": "2022-02-10T10:58:56.954Z"
   },
   {
    "duration": 11,
    "start_time": "2022-02-10T10:58:56.964Z"
   },
   {
    "duration": 4,
    "start_time": "2022-02-10T10:58:56.978Z"
   },
   {
    "duration": 36,
    "start_time": "2022-02-10T10:58:56.984Z"
   },
   {
    "duration": 25,
    "start_time": "2022-02-10T10:58:57.022Z"
   },
   {
    "duration": 136,
    "start_time": "2022-02-10T10:58:57.050Z"
   },
   {
    "duration": 39,
    "start_time": "2022-02-10T10:58:57.188Z"
   },
   {
    "duration": 52,
    "start_time": "2022-02-10T10:58:57.230Z"
   },
   {
    "duration": 5,
    "start_time": "2022-02-10T10:58:57.283Z"
   },
   {
    "duration": 62,
    "start_time": "2022-02-10T10:58:57.290Z"
   },
   {
    "duration": 17,
    "start_time": "2022-02-10T10:58:57.354Z"
   },
   {
    "duration": 68,
    "start_time": "2022-02-10T10:58:57.373Z"
   },
   {
    "duration": 33,
    "start_time": "2022-02-10T10:58:57.443Z"
   },
   {
    "duration": 41,
    "start_time": "2022-02-10T10:58:57.478Z"
   },
   {
    "duration": 19,
    "start_time": "2022-02-10T10:58:57.521Z"
   },
   {
    "duration": 85,
    "start_time": "2022-02-10T10:58:57.542Z"
   },
   {
    "duration": 31,
    "start_time": "2022-02-10T10:58:57.629Z"
   },
   {
    "duration": 56,
    "start_time": "2022-02-10T10:58:57.662Z"
   },
   {
    "duration": 30,
    "start_time": "2022-02-10T10:58:57.720Z"
   },
   {
    "duration": 19,
    "start_time": "2022-02-10T10:58:57.752Z"
   },
   {
    "duration": 7,
    "start_time": "2022-02-10T10:58:57.776Z"
   },
   {
    "duration": 40,
    "start_time": "2022-02-10T10:58:57.786Z"
   },
   {
    "duration": 20,
    "start_time": "2022-02-10T10:58:57.828Z"
   },
   {
    "duration": 22,
    "start_time": "2022-02-10T10:58:57.851Z"
   },
   {
    "duration": 55,
    "start_time": "2022-02-10T10:58:57.875Z"
   },
   {
    "duration": 27,
    "start_time": "2022-02-10T10:58:57.933Z"
   },
   {
    "duration": 9,
    "start_time": "2022-02-10T10:58:57.962Z"
   },
   {
    "duration": 78,
    "start_time": "2022-02-10T10:58:57.973Z"
   },
   {
    "duration": 12,
    "start_time": "2022-02-10T10:58:58.053Z"
   },
   {
    "duration": 8,
    "start_time": "2022-02-10T10:58:58.066Z"
   },
   {
    "duration": 14,
    "start_time": "2022-02-10T10:58:58.075Z"
   },
   {
    "duration": 16,
    "start_time": "2022-02-10T10:58:58.091Z"
   },
   {
    "duration": 559,
    "start_time": "2022-02-10T10:58:58.108Z"
   },
   {
    "duration": 500,
    "start_time": "2022-02-10T11:00:19.949Z"
   },
   {
    "duration": 1245,
    "start_time": "2022-02-10T11:00:25.503Z"
   },
   {
    "duration": 34,
    "start_time": "2022-02-10T11:00:26.751Z"
   },
   {
    "duration": 171,
    "start_time": "2022-02-10T11:00:26.787Z"
   },
   {
    "duration": 98,
    "start_time": "2022-02-10T11:00:26.960Z"
   },
   {
    "duration": 164,
    "start_time": "2022-02-10T11:00:27.061Z"
   },
   {
    "duration": 15,
    "start_time": "2022-02-10T11:00:27.227Z"
   },
   {
    "duration": 38,
    "start_time": "2022-02-10T11:00:27.244Z"
   },
   {
    "duration": 33,
    "start_time": "2022-02-10T11:00:27.285Z"
   },
   {
    "duration": 23,
    "start_time": "2022-02-10T11:00:27.320Z"
   },
   {
    "duration": 26,
    "start_time": "2022-02-10T11:00:27.346Z"
   },
   {
    "duration": 61,
    "start_time": "2022-02-10T11:00:27.374Z"
   },
   {
    "duration": 125,
    "start_time": "2022-02-10T11:00:27.437Z"
   },
   {
    "duration": 31,
    "start_time": "2022-02-10T11:00:27.564Z"
   },
   {
    "duration": 105,
    "start_time": "2022-02-10T11:00:27.597Z"
   },
   {
    "duration": 6,
    "start_time": "2022-02-10T11:00:27.704Z"
   },
   {
    "duration": 56,
    "start_time": "2022-02-10T11:00:27.712Z"
   },
   {
    "duration": 16,
    "start_time": "2022-02-10T11:00:27.771Z"
   },
   {
    "duration": 61,
    "start_time": "2022-02-10T11:00:27.789Z"
   },
   {
    "duration": 33,
    "start_time": "2022-02-10T11:00:27.852Z"
   },
   {
    "duration": 36,
    "start_time": "2022-02-10T11:00:27.887Z"
   },
   {
    "duration": 17,
    "start_time": "2022-02-10T11:00:27.925Z"
   },
   {
    "duration": 109,
    "start_time": "2022-02-10T11:00:27.944Z"
   },
   {
    "duration": 30,
    "start_time": "2022-02-10T11:00:28.057Z"
   },
   {
    "duration": 53,
    "start_time": "2022-02-10T11:00:28.089Z"
   },
   {
    "duration": 25,
    "start_time": "2022-02-10T11:00:28.144Z"
   },
   {
    "duration": 17,
    "start_time": "2022-02-10T11:00:28.171Z"
   },
   {
    "duration": 19,
    "start_time": "2022-02-10T11:00:28.190Z"
   },
   {
    "duration": 12,
    "start_time": "2022-02-10T11:00:28.218Z"
   },
   {
    "duration": 30,
    "start_time": "2022-02-10T11:00:28.232Z"
   },
   {
    "duration": 29,
    "start_time": "2022-02-10T11:00:28.264Z"
   },
   {
    "duration": 49,
    "start_time": "2022-02-10T11:00:28.296Z"
   },
   {
    "duration": 26,
    "start_time": "2022-02-10T11:00:28.347Z"
   },
   {
    "duration": 8,
    "start_time": "2022-02-10T11:00:28.375Z"
   },
   {
    "duration": 85,
    "start_time": "2022-02-10T11:00:28.384Z"
   },
   {
    "duration": 11,
    "start_time": "2022-02-10T11:00:28.471Z"
   },
   {
    "duration": 8,
    "start_time": "2022-02-10T11:00:28.484Z"
   },
   {
    "duration": 24,
    "start_time": "2022-02-10T11:00:28.494Z"
   },
   {
    "duration": 11,
    "start_time": "2022-02-10T11:00:28.521Z"
   },
   {
    "duration": 728,
    "start_time": "2022-02-10T11:00:28.534Z"
   },
   {
    "duration": 453,
    "start_time": "2022-02-10T11:01:29.280Z"
   },
   {
    "duration": 543,
    "start_time": "2022-02-10T11:01:31.218Z"
   },
   {
    "duration": 1183,
    "start_time": "2022-02-10T11:01:36.520Z"
   },
   {
    "duration": 29,
    "start_time": "2022-02-10T11:01:37.705Z"
   },
   {
    "duration": 161,
    "start_time": "2022-02-10T11:01:37.736Z"
   },
   {
    "duration": 100,
    "start_time": "2022-02-10T11:01:37.899Z"
   },
   {
    "duration": 148,
    "start_time": "2022-02-10T11:01:38.001Z"
   },
   {
    "duration": 16,
    "start_time": "2022-02-10T11:01:38.150Z"
   },
   {
    "duration": 16,
    "start_time": "2022-02-10T11:01:38.168Z"
   },
   {
    "duration": 14,
    "start_time": "2022-02-10T11:01:38.187Z"
   },
   {
    "duration": 14,
    "start_time": "2022-02-10T11:01:38.203Z"
   },
   {
    "duration": 28,
    "start_time": "2022-02-10T11:01:38.219Z"
   },
   {
    "duration": 26,
    "start_time": "2022-02-10T11:01:38.249Z"
   },
   {
    "duration": 109,
    "start_time": "2022-02-10T11:01:38.276Z"
   },
   {
    "duration": 38,
    "start_time": "2022-02-10T11:01:38.387Z"
   },
   {
    "duration": 49,
    "start_time": "2022-02-10T11:01:38.427Z"
   },
   {
    "duration": 4,
    "start_time": "2022-02-10T11:01:38.478Z"
   },
   {
    "duration": 61,
    "start_time": "2022-02-10T11:01:38.484Z"
   },
   {
    "duration": 15,
    "start_time": "2022-02-10T11:01:38.547Z"
   },
   {
    "duration": 64,
    "start_time": "2022-02-10T11:01:38.563Z"
   },
   {
    "duration": 31,
    "start_time": "2022-02-10T11:01:38.629Z"
   },
   {
    "duration": 24,
    "start_time": "2022-02-10T11:01:38.661Z"
   },
   {
    "duration": 33,
    "start_time": "2022-02-10T11:01:38.687Z"
   },
   {
    "duration": 63,
    "start_time": "2022-02-10T11:01:38.722Z"
   },
   {
    "duration": 47,
    "start_time": "2022-02-10T11:01:38.788Z"
   },
   {
    "duration": 37,
    "start_time": "2022-02-10T11:01:38.837Z"
   },
   {
    "duration": 24,
    "start_time": "2022-02-10T11:01:38.876Z"
   },
   {
    "duration": 16,
    "start_time": "2022-02-10T11:01:38.918Z"
   },
   {
    "duration": 5,
    "start_time": "2022-02-10T11:01:38.936Z"
   },
   {
    "duration": 14,
    "start_time": "2022-02-10T11:01:38.943Z"
   },
   {
    "duration": 25,
    "start_time": "2022-02-10T11:01:38.958Z"
   },
   {
    "duration": 42,
    "start_time": "2022-02-10T11:01:38.985Z"
   },
   {
    "duration": 23,
    "start_time": "2022-02-10T11:01:39.029Z"
   },
   {
    "duration": 27,
    "start_time": "2022-02-10T11:01:39.055Z"
   },
   {
    "duration": 37,
    "start_time": "2022-02-10T11:01:39.084Z"
   },
   {
    "duration": 44,
    "start_time": "2022-02-10T11:01:39.123Z"
   },
   {
    "duration": 10,
    "start_time": "2022-02-10T11:01:39.169Z"
   },
   {
    "duration": 8,
    "start_time": "2022-02-10T11:01:39.181Z"
   },
   {
    "duration": 30,
    "start_time": "2022-02-10T11:01:39.191Z"
   },
   {
    "duration": 7,
    "start_time": "2022-02-10T11:01:39.223Z"
   },
   {
    "duration": 585,
    "start_time": "2022-02-10T11:01:39.231Z"
   },
   {
    "duration": 460,
    "start_time": "2022-02-10T11:03:07.370Z"
   },
   {
    "duration": 903,
    "start_time": "2022-02-10T11:03:53.411Z"
   },
   {
    "duration": 212,
    "start_time": "2022-02-10T11:04:43.832Z"
   },
   {
    "duration": 245,
    "start_time": "2022-02-10T11:05:02.789Z"
   },
   {
    "duration": 211,
    "start_time": "2022-02-10T11:05:19.041Z"
   },
   {
    "duration": 1199,
    "start_time": "2022-02-10T11:05:26.595Z"
   },
   {
    "duration": 26,
    "start_time": "2022-02-10T11:05:27.796Z"
   },
   {
    "duration": 154,
    "start_time": "2022-02-10T11:05:27.824Z"
   },
   {
    "duration": 94,
    "start_time": "2022-02-10T11:05:27.980Z"
   },
   {
    "duration": 136,
    "start_time": "2022-02-10T11:05:28.075Z"
   },
   {
    "duration": 20,
    "start_time": "2022-02-10T11:05:28.212Z"
   },
   {
    "duration": 9,
    "start_time": "2022-02-10T11:05:28.234Z"
   },
   {
    "duration": 19,
    "start_time": "2022-02-10T11:05:28.246Z"
   },
   {
    "duration": 6,
    "start_time": "2022-02-10T11:05:28.268Z"
   },
   {
    "duration": 13,
    "start_time": "2022-02-10T11:05:28.275Z"
   },
   {
    "duration": 33,
    "start_time": "2022-02-10T11:05:28.290Z"
   },
   {
    "duration": 107,
    "start_time": "2022-02-10T11:05:28.325Z"
   },
   {
    "duration": 30,
    "start_time": "2022-02-10T11:05:28.433Z"
   },
   {
    "duration": 66,
    "start_time": "2022-02-10T11:05:28.465Z"
   },
   {
    "duration": 4,
    "start_time": "2022-02-10T11:05:28.533Z"
   },
   {
    "duration": 41,
    "start_time": "2022-02-10T11:05:28.539Z"
   },
   {
    "duration": 16,
    "start_time": "2022-02-10T11:05:28.581Z"
   },
   {
    "duration": 48,
    "start_time": "2022-02-10T11:05:28.619Z"
   },
   {
    "duration": 31,
    "start_time": "2022-02-10T11:05:28.668Z"
   },
   {
    "duration": 36,
    "start_time": "2022-02-10T11:05:28.702Z"
   },
   {
    "duration": 18,
    "start_time": "2022-02-10T11:05:28.740Z"
   },
   {
    "duration": 79,
    "start_time": "2022-02-10T11:05:28.760Z"
   },
   {
    "duration": 28,
    "start_time": "2022-02-10T11:05:28.842Z"
   },
   {
    "duration": 48,
    "start_time": "2022-02-10T11:05:28.872Z"
   },
   {
    "duration": 25,
    "start_time": "2022-02-10T11:05:28.922Z"
   },
   {
    "duration": 18,
    "start_time": "2022-02-10T11:05:28.949Z"
   },
   {
    "duration": 6,
    "start_time": "2022-02-10T11:05:28.968Z"
   },
   {
    "duration": 14,
    "start_time": "2022-02-10T11:05:28.976Z"
   },
   {
    "duration": 42,
    "start_time": "2022-02-10T11:05:28.991Z"
   },
   {
    "duration": 20,
    "start_time": "2022-02-10T11:05:29.035Z"
   },
   {
    "duration": 21,
    "start_time": "2022-02-10T11:05:29.057Z"
   },
   {
    "duration": 52,
    "start_time": "2022-02-10T11:05:29.080Z"
   },
   {
    "duration": 8,
    "start_time": "2022-02-10T11:05:29.134Z"
   },
   {
    "duration": 44,
    "start_time": "2022-02-10T11:05:29.144Z"
   },
   {
    "duration": 33,
    "start_time": "2022-02-10T11:05:29.190Z"
   },
   {
    "duration": 5,
    "start_time": "2022-02-10T11:05:29.225Z"
   },
   {
    "duration": 12,
    "start_time": "2022-02-10T11:05:29.232Z"
   },
   {
    "duration": 10,
    "start_time": "2022-02-10T11:05:29.246Z"
   },
   {
    "duration": 224,
    "start_time": "2022-02-10T11:05:29.258Z"
   },
   {
    "duration": 215,
    "start_time": "2022-02-10T11:06:12.328Z"
   },
   {
    "duration": 1152,
    "start_time": "2022-02-10T11:07:45.947Z"
   },
   {
    "duration": 26,
    "start_time": "2022-02-10T11:07:47.101Z"
   },
   {
    "duration": 158,
    "start_time": "2022-02-10T11:07:47.130Z"
   },
   {
    "duration": 97,
    "start_time": "2022-02-10T11:07:47.291Z"
   },
   {
    "duration": 150,
    "start_time": "2022-02-10T11:07:47.390Z"
   },
   {
    "duration": 18,
    "start_time": "2022-02-10T11:07:47.542Z"
   },
   {
    "duration": 19,
    "start_time": "2022-02-10T11:07:47.562Z"
   },
   {
    "duration": 17,
    "start_time": "2022-02-10T11:07:47.584Z"
   },
   {
    "duration": 32,
    "start_time": "2022-02-10T11:07:47.604Z"
   },
   {
    "duration": 25,
    "start_time": "2022-02-10T11:07:47.638Z"
   },
   {
    "duration": 38,
    "start_time": "2022-02-10T11:07:47.665Z"
   },
   {
    "duration": 106,
    "start_time": "2022-02-10T11:07:47.704Z"
   },
   {
    "duration": 31,
    "start_time": "2022-02-10T11:07:47.812Z"
   },
   {
    "duration": 49,
    "start_time": "2022-02-10T11:07:47.845Z"
   },
   {
    "duration": 4,
    "start_time": "2022-02-10T11:07:47.895Z"
   },
   {
    "duration": 55,
    "start_time": "2022-02-10T11:07:47.901Z"
   },
   {
    "duration": 15,
    "start_time": "2022-02-10T11:07:47.957Z"
   },
   {
    "duration": 65,
    "start_time": "2022-02-10T11:07:47.974Z"
   },
   {
    "duration": 32,
    "start_time": "2022-02-10T11:07:48.040Z"
   },
   {
    "duration": 22,
    "start_time": "2022-02-10T11:07:48.074Z"
   },
   {
    "duration": 36,
    "start_time": "2022-02-10T11:07:48.098Z"
   },
   {
    "duration": 61,
    "start_time": "2022-02-10T11:07:48.136Z"
   },
   {
    "duration": 40,
    "start_time": "2022-02-10T11:07:48.200Z"
   },
   {
    "duration": 36,
    "start_time": "2022-02-10T11:07:48.241Z"
   },
   {
    "duration": 43,
    "start_time": "2022-02-10T11:07:48.279Z"
   },
   {
    "duration": 16,
    "start_time": "2022-02-10T11:07:48.323Z"
   },
   {
    "duration": 20,
    "start_time": "2022-02-10T11:07:48.341Z"
   },
   {
    "duration": 18,
    "start_time": "2022-02-10T11:07:48.363Z"
   },
   {
    "duration": 33,
    "start_time": "2022-02-10T11:07:48.383Z"
   },
   {
    "duration": 20,
    "start_time": "2022-02-10T11:07:48.418Z"
   },
   {
    "duration": 21,
    "start_time": "2022-02-10T11:07:48.440Z"
   },
   {
    "duration": 25,
    "start_time": "2022-02-10T11:07:48.463Z"
   },
   {
    "duration": 33,
    "start_time": "2022-02-10T11:07:48.489Z"
   },
   {
    "duration": 46,
    "start_time": "2022-02-10T11:07:48.524Z"
   },
   {
    "duration": 11,
    "start_time": "2022-02-10T11:07:48.572Z"
   },
   {
    "duration": 10,
    "start_time": "2022-02-10T11:07:48.585Z"
   },
   {
    "duration": 26,
    "start_time": "2022-02-10T11:07:48.597Z"
   },
   {
    "duration": 19,
    "start_time": "2022-02-10T11:07:48.625Z"
   },
   {
    "duration": 226,
    "start_time": "2022-02-10T11:07:48.647Z"
   },
   {
    "duration": 1222,
    "start_time": "2022-02-10T11:14:19.257Z"
   },
   {
    "duration": 29,
    "start_time": "2022-02-10T11:14:20.482Z"
   },
   {
    "duration": 163,
    "start_time": "2022-02-10T11:14:20.513Z"
   },
   {
    "duration": 192,
    "start_time": "2022-02-10T11:14:20.678Z"
   },
   {
    "duration": 146,
    "start_time": "2022-02-10T11:14:20.871Z"
   },
   {
    "duration": 17,
    "start_time": "2022-02-10T11:14:21.019Z"
   },
   {
    "duration": 8,
    "start_time": "2022-02-10T11:14:21.038Z"
   },
   {
    "duration": 11,
    "start_time": "2022-02-10T11:14:21.048Z"
   },
   {
    "duration": 5,
    "start_time": "2022-02-10T11:14:21.063Z"
   },
   {
    "duration": 14,
    "start_time": "2022-02-10T11:14:21.071Z"
   },
   {
    "duration": 47,
    "start_time": "2022-02-10T11:14:21.087Z"
   },
   {
    "duration": 109,
    "start_time": "2022-02-10T11:14:21.135Z"
   },
   {
    "duration": 29,
    "start_time": "2022-02-10T11:14:21.245Z"
   },
   {
    "duration": 61,
    "start_time": "2022-02-10T11:14:21.276Z"
   },
   {
    "duration": 4,
    "start_time": "2022-02-10T11:14:21.338Z"
   },
   {
    "duration": 42,
    "start_time": "2022-02-10T11:14:21.344Z"
   },
   {
    "duration": 30,
    "start_time": "2022-02-10T11:14:21.388Z"
   },
   {
    "duration": 46,
    "start_time": "2022-02-10T11:14:21.420Z"
   },
   {
    "duration": 54,
    "start_time": "2022-02-10T11:14:21.468Z"
   },
   {
    "duration": 24,
    "start_time": "2022-02-10T11:14:21.524Z"
   },
   {
    "duration": 27,
    "start_time": "2022-02-10T11:14:21.551Z"
   },
   {
    "duration": 83,
    "start_time": "2022-02-10T11:14:21.579Z"
   },
   {
    "duration": 30,
    "start_time": "2022-02-10T11:14:21.664Z"
   },
   {
    "duration": 54,
    "start_time": "2022-02-10T11:14:21.696Z"
   },
   {
    "duration": 26,
    "start_time": "2022-02-10T11:14:21.752Z"
   },
   {
    "duration": 16,
    "start_time": "2022-02-10T11:14:21.779Z"
   },
   {
    "duration": 23,
    "start_time": "2022-02-10T11:14:21.798Z"
   },
   {
    "duration": 15,
    "start_time": "2022-02-10T11:14:21.824Z"
   },
   {
    "duration": 20,
    "start_time": "2022-02-10T11:14:21.841Z"
   },
   {
    "duration": 21,
    "start_time": "2022-02-10T11:14:21.863Z"
   },
   {
    "duration": 55,
    "start_time": "2022-02-10T11:14:21.886Z"
   },
   {
    "duration": 27,
    "start_time": "2022-02-10T11:14:21.943Z"
   },
   {
    "duration": 8,
    "start_time": "2022-02-10T11:14:21.972Z"
   },
   {
    "duration": 76,
    "start_time": "2022-02-10T11:14:21.982Z"
   },
   {
    "duration": 12,
    "start_time": "2022-02-10T11:14:22.060Z"
   },
   {
    "duration": 9,
    "start_time": "2022-02-10T11:14:22.074Z"
   },
   {
    "duration": 13,
    "start_time": "2022-02-10T11:14:22.085Z"
   },
   {
    "duration": 24,
    "start_time": "2022-02-10T11:14:22.100Z"
   },
   {
    "duration": 226,
    "start_time": "2022-02-10T11:14:22.126Z"
   },
   {
    "duration": 8,
    "start_time": "2022-02-10T13:05:31.144Z"
   },
   {
    "duration": 28,
    "start_time": "2022-02-10T13:05:56.009Z"
   },
   {
    "duration": 27,
    "start_time": "2022-02-10T13:06:15.205Z"
   },
   {
    "duration": 11,
    "start_time": "2022-02-10T13:06:20.621Z"
   },
   {
    "duration": 5,
    "start_time": "2022-02-10T13:08:31.466Z"
   },
   {
    "duration": 5,
    "start_time": "2022-02-10T13:08:41.776Z"
   },
   {
    "duration": 4,
    "start_time": "2022-02-10T13:08:54.712Z"
   },
   {
    "duration": 78,
    "start_time": "2022-02-10T13:12:42.060Z"
   },
   {
    "duration": 54,
    "start_time": "2022-02-10T13:13:01.961Z"
   },
   {
    "duration": 1226,
    "start_time": "2022-02-10T13:13:26.815Z"
   },
   {
    "duration": 29,
    "start_time": "2022-02-10T13:13:28.043Z"
   },
   {
    "duration": 172,
    "start_time": "2022-02-10T13:13:28.075Z"
   },
   {
    "duration": 106,
    "start_time": "2022-02-10T13:13:28.249Z"
   },
   {
    "duration": 220,
    "start_time": "2022-02-10T13:13:28.357Z"
   },
   {
    "duration": 21,
    "start_time": "2022-02-10T13:13:28.580Z"
   },
   {
    "duration": 25,
    "start_time": "2022-02-10T13:13:28.603Z"
   },
   {
    "duration": 15,
    "start_time": "2022-02-10T13:13:28.630Z"
   },
   {
    "duration": 4,
    "start_time": "2022-02-10T13:13:28.649Z"
   },
   {
    "duration": 16,
    "start_time": "2022-02-10T13:13:28.655Z"
   },
   {
    "duration": 38,
    "start_time": "2022-02-10T13:13:28.673Z"
   },
   {
    "duration": 118,
    "start_time": "2022-02-10T13:13:28.713Z"
   },
   {
    "duration": 32,
    "start_time": "2022-02-10T13:13:28.833Z"
   },
   {
    "duration": 71,
    "start_time": "2022-02-10T13:13:28.866Z"
   },
   {
    "duration": 4,
    "start_time": "2022-02-10T13:13:28.939Z"
   },
   {
    "duration": 46,
    "start_time": "2022-02-10T13:13:28.945Z"
   },
   {
    "duration": 28,
    "start_time": "2022-02-10T13:13:28.993Z"
   },
   {
    "duration": 51,
    "start_time": "2022-02-10T13:13:29.022Z"
   },
   {
    "duration": 49,
    "start_time": "2022-02-10T13:13:29.075Z"
   },
   {
    "duration": 25,
    "start_time": "2022-02-10T13:13:29.126Z"
   },
   {
    "duration": 20,
    "start_time": "2022-02-10T13:13:29.153Z"
   },
   {
    "duration": 89,
    "start_time": "2022-02-10T13:13:29.175Z"
   },
   {
    "duration": 31,
    "start_time": "2022-02-10T13:13:29.266Z"
   },
   {
    "duration": 49,
    "start_time": "2022-02-10T13:13:29.299Z"
   },
   {
    "duration": 26,
    "start_time": "2022-02-10T13:13:29.350Z"
   },
   {
    "duration": 18,
    "start_time": "2022-02-10T13:13:29.378Z"
   },
   {
    "duration": 7,
    "start_time": "2022-02-10T13:13:29.419Z"
   },
   {
    "duration": 15,
    "start_time": "2022-02-10T13:13:29.429Z"
   },
   {
    "duration": 20,
    "start_time": "2022-02-10T13:13:29.446Z"
   },
   {
    "duration": 21,
    "start_time": "2022-02-10T13:13:29.468Z"
   },
   {
    "duration": 52,
    "start_time": "2022-02-10T13:13:29.491Z"
   },
   {
    "duration": 30,
    "start_time": "2022-02-10T13:13:29.545Z"
   },
   {
    "duration": 10,
    "start_time": "2022-02-10T13:13:29.577Z"
   },
   {
    "duration": 72,
    "start_time": "2022-02-10T13:13:29.618Z"
   },
   {
    "duration": 29,
    "start_time": "2022-02-10T13:13:29.692Z"
   },
   {
    "duration": 7,
    "start_time": "2022-02-10T13:13:29.723Z"
   },
   {
    "duration": 9,
    "start_time": "2022-02-10T13:13:29.733Z"
   },
   {
    "duration": 11,
    "start_time": "2022-02-10T13:13:29.744Z"
   },
   {
    "duration": 261,
    "start_time": "2022-02-10T13:13:29.757Z"
   },
   {
    "duration": 13,
    "start_time": "2022-02-10T13:13:30.020Z"
   },
   {
    "duration": 56,
    "start_time": "2022-02-10T13:13:30.035Z"
   },
   {
    "duration": 60,
    "start_time": "2022-02-10T13:13:30.093Z"
   },
   {
    "duration": 4,
    "start_time": "2022-02-10T13:13:30.155Z"
   },
   {
    "duration": 5,
    "start_time": "2022-02-10T13:15:06.674Z"
   },
   {
    "duration": 7,
    "start_time": "2022-02-10T13:16:42.961Z"
   },
   {
    "duration": 7,
    "start_time": "2022-02-10T13:19:23.508Z"
   },
   {
    "duration": 6,
    "start_time": "2022-02-10T13:20:09.300Z"
   },
   {
    "duration": 6,
    "start_time": "2022-02-10T13:20:10.508Z"
   },
   {
    "duration": 358,
    "start_time": "2022-02-10T13:28:18.534Z"
   },
   {
    "duration": 193,
    "start_time": "2022-02-10T13:28:44.254Z"
   },
   {
    "duration": 229,
    "start_time": "2022-02-10T13:29:02.252Z"
   },
   {
    "duration": 239,
    "start_time": "2022-02-10T13:29:09.760Z"
   },
   {
    "duration": 238,
    "start_time": "2022-02-10T13:30:08.862Z"
   },
   {
    "duration": 278,
    "start_time": "2022-02-10T13:30:43.414Z"
   },
   {
    "duration": 323,
    "start_time": "2022-02-10T13:31:11.673Z"
   },
   {
    "duration": 251,
    "start_time": "2022-02-10T13:31:43.135Z"
   },
   {
    "duration": 241,
    "start_time": "2022-02-10T13:32:07.551Z"
   },
   {
    "duration": 274,
    "start_time": "2022-02-10T13:32:40.249Z"
   },
   {
    "duration": 251,
    "start_time": "2022-02-10T13:33:01.276Z"
   },
   {
    "duration": 391,
    "start_time": "2022-02-10T13:33:05.580Z"
   },
   {
    "duration": 246,
    "start_time": "2022-02-10T13:33:16.109Z"
   },
   {
    "duration": 236,
    "start_time": "2022-02-10T13:33:21.277Z"
   },
   {
    "duration": 244,
    "start_time": "2022-02-10T13:33:26.301Z"
   },
   {
    "duration": 247,
    "start_time": "2022-02-10T13:33:37.230Z"
   },
   {
    "duration": 503,
    "start_time": "2022-02-10T13:33:47.678Z"
   },
   {
    "duration": 245,
    "start_time": "2022-02-10T13:33:55.772Z"
   },
   {
    "duration": 252,
    "start_time": "2022-02-10T13:34:42.281Z"
   },
   {
    "duration": 269,
    "start_time": "2022-02-10T13:35:21.793Z"
   },
   {
    "duration": 283,
    "start_time": "2022-02-10T13:35:29.927Z"
   },
   {
    "duration": 275,
    "start_time": "2022-02-10T13:35:41.179Z"
   },
   {
    "duration": 7,
    "start_time": "2022-02-10T13:46:13.844Z"
   },
   {
    "duration": 7,
    "start_time": "2022-02-10T13:46:48.637Z"
   },
   {
    "duration": 8,
    "start_time": "2022-02-10T13:47:20.434Z"
   },
   {
    "duration": 6,
    "start_time": "2022-02-10T13:47:21.016Z"
   },
   {
    "duration": 280,
    "start_time": "2022-02-10T13:47:22.206Z"
   },
   {
    "duration": 1291,
    "start_time": "2022-02-10T13:51:32.818Z"
   },
   {
    "duration": 27,
    "start_time": "2022-02-10T13:51:34.111Z"
   },
   {
    "duration": 168,
    "start_time": "2022-02-10T13:51:34.140Z"
   },
   {
    "duration": 117,
    "start_time": "2022-02-10T13:51:34.310Z"
   },
   {
    "duration": 207,
    "start_time": "2022-02-10T13:51:34.429Z"
   },
   {
    "duration": 18,
    "start_time": "2022-02-10T13:51:34.638Z"
   },
   {
    "duration": 11,
    "start_time": "2022-02-10T13:51:34.657Z"
   },
   {
    "duration": 10,
    "start_time": "2022-02-10T13:51:34.671Z"
   },
   {
    "duration": 5,
    "start_time": "2022-02-10T13:51:34.683Z"
   },
   {
    "duration": 17,
    "start_time": "2022-02-10T13:51:34.691Z"
   },
   {
    "duration": 41,
    "start_time": "2022-02-10T13:51:34.711Z"
   },
   {
    "duration": 221,
    "start_time": "2022-02-10T13:51:34.754Z"
   },
   {
    "duration": 46,
    "start_time": "2022-02-10T13:51:34.977Z"
   },
   {
    "duration": 75,
    "start_time": "2022-02-10T13:51:35.026Z"
   },
   {
    "duration": 5,
    "start_time": "2022-02-10T13:51:35.103Z"
   },
   {
    "duration": 48,
    "start_time": "2022-02-10T13:51:35.110Z"
   },
   {
    "duration": 16,
    "start_time": "2022-02-10T13:51:35.163Z"
   },
   {
    "duration": 46,
    "start_time": "2022-02-10T13:51:35.180Z"
   },
   {
    "duration": 31,
    "start_time": "2022-02-10T13:51:35.228Z"
   },
   {
    "duration": 24,
    "start_time": "2022-02-10T13:51:35.260Z"
   },
   {
    "duration": 18,
    "start_time": "2022-02-10T13:51:35.286Z"
   },
   {
    "duration": 122,
    "start_time": "2022-02-10T13:51:35.305Z"
   },
   {
    "duration": 31,
    "start_time": "2022-02-10T13:51:35.430Z"
   },
   {
    "duration": 62,
    "start_time": "2022-02-10T13:51:35.463Z"
   },
   {
    "duration": 27,
    "start_time": "2022-02-10T13:51:35.527Z"
   },
   {
    "duration": 13,
    "start_time": "2022-02-10T13:51:35.556Z"
   },
   {
    "duration": 47,
    "start_time": "2022-02-10T13:51:35.571Z"
   },
   {
    "duration": 25,
    "start_time": "2022-02-10T13:51:35.620Z"
   },
   {
    "duration": 27,
    "start_time": "2022-02-10T13:51:35.647Z"
   },
   {
    "duration": 23,
    "start_time": "2022-02-10T13:51:35.675Z"
   },
   {
    "duration": 34,
    "start_time": "2022-02-10T13:51:35.700Z"
   },
   {
    "duration": 27,
    "start_time": "2022-02-10T13:51:35.736Z"
   },
   {
    "duration": 7,
    "start_time": "2022-02-10T13:51:35.765Z"
   },
   {
    "duration": 69,
    "start_time": "2022-02-10T13:51:35.774Z"
   },
   {
    "duration": 11,
    "start_time": "2022-02-10T13:51:35.845Z"
   },
   {
    "duration": 22,
    "start_time": "2022-02-10T13:51:35.858Z"
   },
   {
    "duration": 19,
    "start_time": "2022-02-10T13:51:35.882Z"
   },
   {
    "duration": 26,
    "start_time": "2022-02-10T13:51:35.903Z"
   },
   {
    "duration": 242,
    "start_time": "2022-02-10T13:51:35.930Z"
   },
   {
    "duration": 11,
    "start_time": "2022-02-10T13:51:36.175Z"
   },
   {
    "duration": 62,
    "start_time": "2022-02-10T13:51:36.188Z"
   },
   {
    "duration": 49,
    "start_time": "2022-02-10T13:51:36.252Z"
   },
   {
    "duration": 18,
    "start_time": "2022-02-10T13:51:36.303Z"
   },
   {
    "duration": 16,
    "start_time": "2022-02-10T13:51:36.323Z"
   },
   {
    "duration": 307,
    "start_time": "2022-02-10T13:51:36.341Z"
   },
   {
    "duration": 268,
    "start_time": "2022-02-10T15:00:18.204Z"
   },
   {
    "duration": 1944,
    "start_time": "2022-02-12T06:35:21.659Z"
   },
   {
    "duration": 45,
    "start_time": "2022-02-12T06:35:23.604Z"
   },
   {
    "duration": 135,
    "start_time": "2022-02-12T06:35:23.651Z"
   },
   {
    "duration": 79,
    "start_time": "2022-02-12T06:35:23.788Z"
   },
   {
    "duration": 125,
    "start_time": "2022-02-12T06:35:23.869Z"
   },
   {
    "duration": 19,
    "start_time": "2022-02-12T06:35:23.995Z"
   },
   {
    "duration": 16,
    "start_time": "2022-02-12T06:35:24.016Z"
   },
   {
    "duration": 17,
    "start_time": "2022-02-12T06:35:24.034Z"
   },
   {
    "duration": 22,
    "start_time": "2022-02-12T06:35:24.053Z"
   },
   {
    "duration": 30,
    "start_time": "2022-02-12T06:35:24.077Z"
   },
   {
    "duration": 32,
    "start_time": "2022-02-12T06:35:24.108Z"
   },
   {
    "duration": 82,
    "start_time": "2022-02-12T06:35:24.142Z"
   },
   {
    "duration": 24,
    "start_time": "2022-02-12T06:35:24.226Z"
   },
   {
    "duration": 53,
    "start_time": "2022-02-12T06:35:24.252Z"
   },
   {
    "duration": 4,
    "start_time": "2022-02-12T06:35:24.307Z"
   },
   {
    "duration": 49,
    "start_time": "2022-02-12T06:35:24.312Z"
   },
   {
    "duration": 13,
    "start_time": "2022-02-12T06:35:24.363Z"
   },
   {
    "duration": 45,
    "start_time": "2022-02-12T06:35:24.377Z"
   },
   {
    "duration": 25,
    "start_time": "2022-02-12T06:35:24.424Z"
   },
   {
    "duration": 28,
    "start_time": "2022-02-12T06:35:24.451Z"
   },
   {
    "duration": 15,
    "start_time": "2022-02-12T06:35:24.481Z"
   },
   {
    "duration": 55,
    "start_time": "2022-02-12T06:35:24.497Z"
   },
   {
    "duration": 40,
    "start_time": "2022-02-12T06:35:24.555Z"
   },
   {
    "duration": 37,
    "start_time": "2022-02-12T06:35:24.597Z"
   },
   {
    "duration": 37,
    "start_time": "2022-02-12T06:35:24.635Z"
   },
   {
    "duration": 15,
    "start_time": "2022-02-12T06:35:24.674Z"
   },
   {
    "duration": 16,
    "start_time": "2022-02-12T06:35:24.691Z"
   },
   {
    "duration": 28,
    "start_time": "2022-02-12T06:35:24.709Z"
   },
   {
    "duration": 32,
    "start_time": "2022-02-12T06:35:24.738Z"
   },
   {
    "duration": 19,
    "start_time": "2022-02-12T06:35:24.772Z"
   },
   {
    "duration": 27,
    "start_time": "2022-02-12T06:35:24.793Z"
   },
   {
    "duration": 24,
    "start_time": "2022-02-12T06:35:24.822Z"
   },
   {
    "duration": 24,
    "start_time": "2022-02-12T06:35:24.848Z"
   },
   {
    "duration": 43,
    "start_time": "2022-02-12T06:35:24.873Z"
   },
   {
    "duration": 9,
    "start_time": "2022-02-12T06:35:24.918Z"
   },
   {
    "duration": 18,
    "start_time": "2022-02-12T06:35:24.928Z"
   },
   {
    "duration": 23,
    "start_time": "2022-02-12T06:35:24.947Z"
   },
   {
    "duration": 6,
    "start_time": "2022-02-12T06:35:24.972Z"
   },
   {
    "duration": 216,
    "start_time": "2022-02-12T06:35:24.980Z"
   },
   {
    "duration": 11,
    "start_time": "2022-02-12T06:35:25.198Z"
   },
   {
    "duration": 45,
    "start_time": "2022-02-12T06:35:25.210Z"
   },
   {
    "duration": 50,
    "start_time": "2022-02-12T06:35:25.256Z"
   },
   {
    "duration": 4,
    "start_time": "2022-02-12T06:35:25.308Z"
   },
   {
    "duration": 23,
    "start_time": "2022-02-12T06:35:25.313Z"
   },
   {
    "duration": 252,
    "start_time": "2022-02-12T06:35:25.337Z"
   },
   {
    "duration": 5,
    "start_time": "2022-02-12T06:35:25.590Z"
   },
   {
    "duration": 18,
    "start_time": "2022-02-12T06:35:25.596Z"
   },
   {
    "duration": 241,
    "start_time": "2022-02-12T06:35:25.616Z"
   },
   {
    "duration": 229,
    "start_time": "2022-02-12T06:39:28.768Z"
   },
   {
    "duration": 244,
    "start_time": "2022-02-12T06:51:18.622Z"
   },
   {
    "duration": 1120,
    "start_time": "2022-02-12T06:51:53.648Z"
   },
   {
    "duration": 62,
    "start_time": "2022-02-12T06:51:54.770Z"
   },
   {
    "duration": 139,
    "start_time": "2022-02-12T06:51:54.836Z"
   },
   {
    "duration": 80,
    "start_time": "2022-02-12T06:51:54.976Z"
   },
   {
    "duration": 121,
    "start_time": "2022-02-12T06:51:55.057Z"
   },
   {
    "duration": 19,
    "start_time": "2022-02-12T06:51:55.179Z"
   },
   {
    "duration": 23,
    "start_time": "2022-02-12T06:51:55.200Z"
   },
   {
    "duration": 12,
    "start_time": "2022-02-12T06:51:55.225Z"
   },
   {
    "duration": 30,
    "start_time": "2022-02-12T06:51:55.238Z"
   },
   {
    "duration": 26,
    "start_time": "2022-02-12T06:51:55.270Z"
   },
   {
    "duration": 35,
    "start_time": "2022-02-12T06:51:55.297Z"
   },
   {
    "duration": 84,
    "start_time": "2022-02-12T06:51:55.333Z"
   },
   {
    "duration": 25,
    "start_time": "2022-02-12T06:51:55.419Z"
   },
   {
    "duration": 45,
    "start_time": "2022-02-12T06:51:55.446Z"
   },
   {
    "duration": 4,
    "start_time": "2022-02-12T06:51:55.492Z"
   },
   {
    "duration": 46,
    "start_time": "2022-02-12T06:51:55.497Z"
   },
   {
    "duration": 13,
    "start_time": "2022-02-12T06:51:55.544Z"
   },
   {
    "duration": 56,
    "start_time": "2022-02-12T06:51:55.558Z"
   },
   {
    "duration": 26,
    "start_time": "2022-02-12T06:51:55.616Z"
   },
   {
    "duration": 24,
    "start_time": "2022-02-12T06:51:55.643Z"
   },
   {
    "duration": 14,
    "start_time": "2022-02-12T06:51:55.669Z"
   },
   {
    "duration": 46,
    "start_time": "2022-02-12T06:51:55.687Z"
   },
   {
    "duration": 37,
    "start_time": "2022-02-12T06:51:55.735Z"
   },
   {
    "duration": 34,
    "start_time": "2022-02-12T06:51:55.774Z"
   },
   {
    "duration": 21,
    "start_time": "2022-02-12T06:51:55.810Z"
   },
   {
    "duration": 14,
    "start_time": "2022-02-12T06:51:55.833Z"
   },
   {
    "duration": 26,
    "start_time": "2022-02-12T06:51:55.848Z"
   },
   {
    "duration": 9,
    "start_time": "2022-02-12T06:51:55.876Z"
   },
   {
    "duration": 17,
    "start_time": "2022-02-12T06:51:55.886Z"
   },
   {
    "duration": 16,
    "start_time": "2022-02-12T06:51:55.905Z"
   },
   {
    "duration": 17,
    "start_time": "2022-02-12T06:51:55.923Z"
   },
   {
    "duration": 49,
    "start_time": "2022-02-12T06:51:55.942Z"
   },
   {
    "duration": 7,
    "start_time": "2022-02-12T06:51:55.992Z"
   },
   {
    "duration": 38,
    "start_time": "2022-02-12T06:51:56.000Z"
   },
   {
    "duration": 33,
    "start_time": "2022-02-12T06:51:56.040Z"
   },
   {
    "duration": 5,
    "start_time": "2022-02-12T06:51:56.074Z"
   },
   {
    "duration": 6,
    "start_time": "2022-02-12T06:51:56.081Z"
   },
   {
    "duration": 6,
    "start_time": "2022-02-12T06:51:56.089Z"
   },
   {
    "duration": 217,
    "start_time": "2022-02-12T06:51:56.097Z"
   },
   {
    "duration": 9,
    "start_time": "2022-02-12T06:51:56.316Z"
   },
   {
    "duration": 52,
    "start_time": "2022-02-12T06:51:56.326Z"
   },
   {
    "duration": 37,
    "start_time": "2022-02-12T06:51:56.380Z"
   },
   {
    "duration": 4,
    "start_time": "2022-02-12T06:51:56.418Z"
   },
   {
    "duration": 8,
    "start_time": "2022-02-12T06:51:56.424Z"
   },
   {
    "duration": 258,
    "start_time": "2022-02-12T06:51:56.433Z"
   },
   {
    "duration": 5,
    "start_time": "2022-02-12T06:51:56.692Z"
   },
   {
    "duration": 6,
    "start_time": "2022-02-12T06:51:56.699Z"
   },
   {
    "duration": 250,
    "start_time": "2022-02-12T06:51:56.707Z"
   },
   {
    "duration": 5,
    "start_time": "2022-02-12T06:51:56.959Z"
   },
   {
    "duration": 5,
    "start_time": "2022-02-12T06:51:56.972Z"
   },
   {
    "duration": 248,
    "start_time": "2022-02-12T06:51:56.978Z"
   },
   {
    "duration": 1149,
    "start_time": "2022-02-12T07:01:34.257Z"
   },
   {
    "duration": 47,
    "start_time": "2022-02-12T07:01:35.407Z"
   },
   {
    "duration": 135,
    "start_time": "2022-02-12T07:01:35.457Z"
   },
   {
    "duration": 83,
    "start_time": "2022-02-12T07:01:35.593Z"
   },
   {
    "duration": 132,
    "start_time": "2022-02-12T07:01:35.677Z"
   },
   {
    "duration": 19,
    "start_time": "2022-02-12T07:01:35.811Z"
   },
   {
    "duration": 6,
    "start_time": "2022-02-12T07:01:35.831Z"
   },
   {
    "duration": 6,
    "start_time": "2022-02-12T07:01:35.839Z"
   },
   {
    "duration": 3,
    "start_time": "2022-02-12T07:01:35.847Z"
   },
   {
    "duration": 19,
    "start_time": "2022-02-12T07:01:35.852Z"
   },
   {
    "duration": 16,
    "start_time": "2022-02-12T07:01:35.873Z"
   },
   {
    "duration": 92,
    "start_time": "2022-02-12T07:01:35.891Z"
   },
   {
    "duration": 25,
    "start_time": "2022-02-12T07:01:35.985Z"
   },
   {
    "duration": 42,
    "start_time": "2022-02-12T07:01:36.011Z"
   },
   {
    "duration": 16,
    "start_time": "2022-02-12T07:01:36.055Z"
   },
   {
    "duration": 33,
    "start_time": "2022-02-12T07:01:36.073Z"
   },
   {
    "duration": 12,
    "start_time": "2022-02-12T07:01:36.108Z"
   },
   {
    "duration": 53,
    "start_time": "2022-02-12T07:01:36.121Z"
   },
   {
    "duration": 26,
    "start_time": "2022-02-12T07:01:36.176Z"
   },
   {
    "duration": 19,
    "start_time": "2022-02-12T07:01:36.204Z"
   },
   {
    "duration": 15,
    "start_time": "2022-02-12T07:01:36.225Z"
   },
   {
    "duration": 75,
    "start_time": "2022-02-12T07:01:36.241Z"
   },
   {
    "duration": 25,
    "start_time": "2022-02-12T07:01:36.319Z"
   },
   {
    "duration": 44,
    "start_time": "2022-02-12T07:01:36.346Z"
   },
   {
    "duration": 21,
    "start_time": "2022-02-12T07:01:36.392Z"
   },
   {
    "duration": 13,
    "start_time": "2022-02-12T07:01:36.415Z"
   },
   {
    "duration": 5,
    "start_time": "2022-02-12T07:01:36.429Z"
   },
   {
    "duration": 11,
    "start_time": "2022-02-12T07:01:36.436Z"
   },
   {
    "duration": 37,
    "start_time": "2022-02-12T07:01:36.448Z"
   },
   {
    "duration": 16,
    "start_time": "2022-02-12T07:01:36.486Z"
   },
   {
    "duration": 17,
    "start_time": "2022-02-12T07:01:36.503Z"
   },
   {
    "duration": 21,
    "start_time": "2022-02-12T07:01:36.521Z"
   },
   {
    "duration": 31,
    "start_time": "2022-02-12T07:01:36.543Z"
   },
   {
    "duration": 36,
    "start_time": "2022-02-12T07:01:36.575Z"
   },
   {
    "duration": 8,
    "start_time": "2022-02-12T07:01:36.613Z"
   },
   {
    "duration": 4,
    "start_time": "2022-02-12T07:01:36.623Z"
   },
   {
    "duration": 6,
    "start_time": "2022-02-12T07:01:36.628Z"
   },
   {
    "duration": 39,
    "start_time": "2022-02-12T07:01:36.635Z"
   },
   {
    "duration": 200,
    "start_time": "2022-02-12T07:01:36.675Z"
   },
   {
    "duration": 10,
    "start_time": "2022-02-12T07:01:36.876Z"
   },
   {
    "duration": 41,
    "start_time": "2022-02-12T07:01:36.887Z"
   },
   {
    "duration": 59,
    "start_time": "2022-02-12T07:01:36.930Z"
   },
   {
    "duration": 5,
    "start_time": "2022-02-12T07:01:36.990Z"
   },
   {
    "duration": 5,
    "start_time": "2022-02-12T07:01:36.996Z"
   },
   {
    "duration": 262,
    "start_time": "2022-02-12T07:01:37.003Z"
   },
   {
    "duration": 5,
    "start_time": "2022-02-12T07:01:37.271Z"
   },
   {
    "duration": 7,
    "start_time": "2022-02-12T07:01:37.277Z"
   },
   {
    "duration": 246,
    "start_time": "2022-02-12T07:01:37.286Z"
   },
   {
    "duration": 5,
    "start_time": "2022-02-12T07:01:37.534Z"
   },
   {
    "duration": 6,
    "start_time": "2022-02-12T07:01:37.541Z"
   },
   {
    "duration": 273,
    "start_time": "2022-02-12T07:01:37.548Z"
   },
   {
    "duration": 241,
    "start_time": "2022-02-12T07:11:22.438Z"
   },
   {
    "duration": 227,
    "start_time": "2022-02-12T07:12:02.384Z"
   },
   {
    "duration": 1075,
    "start_time": "2022-02-12T07:12:17.730Z"
   },
   {
    "duration": 48,
    "start_time": "2022-02-12T07:12:18.807Z"
   },
   {
    "duration": 150,
    "start_time": "2022-02-12T07:12:18.857Z"
   },
   {
    "duration": 85,
    "start_time": "2022-02-12T07:12:19.010Z"
   },
   {
    "duration": 127,
    "start_time": "2022-02-12T07:12:19.097Z"
   },
   {
    "duration": 20,
    "start_time": "2022-02-12T07:12:19.226Z"
   },
   {
    "duration": 8,
    "start_time": "2022-02-12T07:12:19.248Z"
   },
   {
    "duration": 6,
    "start_time": "2022-02-12T07:12:19.271Z"
   },
   {
    "duration": 4,
    "start_time": "2022-02-12T07:12:19.279Z"
   },
   {
    "duration": 10,
    "start_time": "2022-02-12T07:12:19.285Z"
   },
   {
    "duration": 19,
    "start_time": "2022-02-12T07:12:19.297Z"
   },
   {
    "duration": 118,
    "start_time": "2022-02-12T07:12:19.318Z"
   },
   {
    "duration": 34,
    "start_time": "2022-02-12T07:12:19.438Z"
   },
   {
    "duration": 45,
    "start_time": "2022-02-12T07:12:19.474Z"
   },
   {
    "duration": 5,
    "start_time": "2022-02-12T07:12:19.520Z"
   },
   {
    "duration": 56,
    "start_time": "2022-02-12T07:12:19.526Z"
   },
   {
    "duration": 13,
    "start_time": "2022-02-12T07:12:19.584Z"
   },
   {
    "duration": 35,
    "start_time": "2022-02-12T07:12:19.599Z"
   },
   {
    "duration": 52,
    "start_time": "2022-02-12T07:12:19.636Z"
   },
   {
    "duration": 21,
    "start_time": "2022-02-12T07:12:19.690Z"
   },
   {
    "duration": 16,
    "start_time": "2022-02-12T07:12:19.713Z"
   },
   {
    "duration": 75,
    "start_time": "2022-02-12T07:12:19.731Z"
   },
   {
    "duration": 26,
    "start_time": "2022-02-12T07:12:19.810Z"
   },
   {
    "duration": 50,
    "start_time": "2022-02-12T07:12:19.839Z"
   },
   {
    "duration": 24,
    "start_time": "2022-02-12T07:12:19.891Z"
   },
   {
    "duration": 16,
    "start_time": "2022-02-12T07:12:19.917Z"
   },
   {
    "duration": 6,
    "start_time": "2022-02-12T07:12:19.934Z"
   },
   {
    "duration": 35,
    "start_time": "2022-02-12T07:12:19.942Z"
   },
   {
    "duration": 17,
    "start_time": "2022-02-12T07:12:19.979Z"
   },
   {
    "duration": 18,
    "start_time": "2022-02-12T07:12:19.997Z"
   },
   {
    "duration": 19,
    "start_time": "2022-02-12T07:12:20.016Z"
   },
   {
    "duration": 47,
    "start_time": "2022-02-12T07:12:20.036Z"
   },
   {
    "duration": 6,
    "start_time": "2022-02-12T07:12:20.084Z"
   },
   {
    "duration": 38,
    "start_time": "2022-02-12T07:12:20.092Z"
   },
   {
    "duration": 9,
    "start_time": "2022-02-12T07:12:20.131Z"
   },
   {
    "duration": 3,
    "start_time": "2022-02-12T07:12:20.142Z"
   },
   {
    "duration": 28,
    "start_time": "2022-02-12T07:12:20.147Z"
   },
   {
    "duration": 7,
    "start_time": "2022-02-12T07:12:20.177Z"
   },
   {
    "duration": 213,
    "start_time": "2022-02-12T07:12:20.186Z"
   },
   {
    "duration": 9,
    "start_time": "2022-02-12T07:12:20.400Z"
   },
   {
    "duration": 42,
    "start_time": "2022-02-12T07:12:20.410Z"
   },
   {
    "duration": 52,
    "start_time": "2022-02-12T07:12:20.454Z"
   },
   {
    "duration": 5,
    "start_time": "2022-02-12T07:12:20.508Z"
   },
   {
    "duration": 6,
    "start_time": "2022-02-12T07:12:20.514Z"
   },
   {
    "duration": 267,
    "start_time": "2022-02-12T07:12:20.521Z"
   },
   {
    "duration": 6,
    "start_time": "2022-02-12T07:12:20.790Z"
   },
   {
    "duration": 7,
    "start_time": "2022-02-12T07:12:20.798Z"
   },
   {
    "duration": 284,
    "start_time": "2022-02-12T07:12:20.807Z"
   },
   {
    "duration": 6,
    "start_time": "2022-02-12T07:12:21.093Z"
   },
   {
    "duration": 9,
    "start_time": "2022-02-12T07:12:21.100Z"
   },
   {
    "duration": 265,
    "start_time": "2022-02-12T07:12:21.110Z"
   },
   {
    "duration": 8103,
    "start_time": "2022-02-12T07:12:21.377Z"
   },
   {
    "duration": -584,
    "start_time": "2022-02-12T07:12:30.066Z"
   },
   {
    "duration": -586,
    "start_time": "2022-02-12T07:12:30.069Z"
   },
   {
    "duration": 235,
    "start_time": "2022-02-12T07:12:39.136Z"
   },
   {
    "duration": 1083,
    "start_time": "2022-02-12T07:13:00.226Z"
   },
   {
    "duration": 39,
    "start_time": "2022-02-12T07:13:01.311Z"
   },
   {
    "duration": 146,
    "start_time": "2022-02-12T07:13:01.352Z"
   },
   {
    "duration": 86,
    "start_time": "2022-02-12T07:13:01.499Z"
   },
   {
    "duration": 126,
    "start_time": "2022-02-12T07:13:01.586Z"
   },
   {
    "duration": 19,
    "start_time": "2022-02-12T07:13:01.713Z"
   },
   {
    "duration": 6,
    "start_time": "2022-02-12T07:13:01.733Z"
   },
   {
    "duration": 6,
    "start_time": "2022-02-12T07:13:01.741Z"
   },
   {
    "duration": 3,
    "start_time": "2022-02-12T07:13:01.749Z"
   },
   {
    "duration": 19,
    "start_time": "2022-02-12T07:13:01.753Z"
   },
   {
    "duration": 19,
    "start_time": "2022-02-12T07:13:01.774Z"
   },
   {
    "duration": 97,
    "start_time": "2022-02-12T07:13:01.794Z"
   },
   {
    "duration": 25,
    "start_time": "2022-02-12T07:13:01.892Z"
   },
   {
    "duration": 55,
    "start_time": "2022-02-12T07:13:01.918Z"
   },
   {
    "duration": 3,
    "start_time": "2022-02-12T07:13:01.975Z"
   },
   {
    "duration": 47,
    "start_time": "2022-02-12T07:13:01.980Z"
   },
   {
    "duration": 13,
    "start_time": "2022-02-12T07:13:02.028Z"
   },
   {
    "duration": 45,
    "start_time": "2022-02-12T07:13:02.042Z"
   },
   {
    "duration": 26,
    "start_time": "2022-02-12T07:13:02.089Z"
   },
   {
    "duration": 19,
    "start_time": "2022-02-12T07:13:02.116Z"
   },
   {
    "duration": 14,
    "start_time": "2022-02-12T07:13:02.136Z"
   },
   {
    "duration": 69,
    "start_time": "2022-02-12T07:13:02.152Z"
   },
   {
    "duration": 24,
    "start_time": "2022-02-12T07:13:02.225Z"
   },
   {
    "duration": 43,
    "start_time": "2022-02-12T07:13:02.251Z"
   },
   {
    "duration": 22,
    "start_time": "2022-02-12T07:13:02.296Z"
   },
   {
    "duration": 14,
    "start_time": "2022-02-12T07:13:02.319Z"
   },
   {
    "duration": 5,
    "start_time": "2022-02-12T07:13:02.334Z"
   },
   {
    "duration": 32,
    "start_time": "2022-02-12T07:13:02.340Z"
   },
   {
    "duration": 17,
    "start_time": "2022-02-12T07:13:02.374Z"
   },
   {
    "duration": 17,
    "start_time": "2022-02-12T07:13:02.393Z"
   },
   {
    "duration": 18,
    "start_time": "2022-02-12T07:13:02.412Z"
   },
   {
    "duration": 51,
    "start_time": "2022-02-12T07:13:02.432Z"
   },
   {
    "duration": 8,
    "start_time": "2022-02-12T07:13:02.485Z"
   },
   {
    "duration": 38,
    "start_time": "2022-02-12T07:13:02.495Z"
   },
   {
    "duration": 10,
    "start_time": "2022-02-12T07:13:02.535Z"
   },
   {
    "duration": 5,
    "start_time": "2022-02-12T07:13:02.572Z"
   },
   {
    "duration": 5,
    "start_time": "2022-02-12T07:13:02.579Z"
   },
   {
    "duration": 7,
    "start_time": "2022-02-12T07:13:02.585Z"
   },
   {
    "duration": 217,
    "start_time": "2022-02-12T07:13:02.593Z"
   },
   {
    "duration": 8,
    "start_time": "2022-02-12T07:13:02.811Z"
   },
   {
    "duration": 51,
    "start_time": "2022-02-12T07:13:02.821Z"
   },
   {
    "duration": 38,
    "start_time": "2022-02-12T07:13:02.874Z"
   },
   {
    "duration": 4,
    "start_time": "2022-02-12T07:13:02.913Z"
   },
   {
    "duration": 25,
    "start_time": "2022-02-12T07:13:02.919Z"
   },
   {
    "duration": 250,
    "start_time": "2022-02-12T07:13:02.946Z"
   },
   {
    "duration": 5,
    "start_time": "2022-02-12T07:13:03.198Z"
   },
   {
    "duration": 5,
    "start_time": "2022-02-12T07:13:03.204Z"
   },
   {
    "duration": 244,
    "start_time": "2022-02-12T07:13:03.211Z"
   },
   {
    "duration": 5,
    "start_time": "2022-02-12T07:13:03.456Z"
   },
   {
    "duration": 4,
    "start_time": "2022-02-12T07:13:03.471Z"
   },
   {
    "duration": 242,
    "start_time": "2022-02-12T07:13:03.477Z"
   },
   {
    "duration": 4,
    "start_time": "2022-02-12T07:13:03.721Z"
   },
   {
    "duration": 6,
    "start_time": "2022-02-12T07:13:03.726Z"
   },
   {
    "duration": 253,
    "start_time": "2022-02-12T07:13:03.733Z"
   },
   {
    "duration": 3,
    "start_time": "2022-02-12T07:30:44.316Z"
   },
   {
    "duration": 1113,
    "start_time": "2022-02-12T07:30:50.680Z"
   },
   {
    "duration": 39,
    "start_time": "2022-02-12T07:30:51.795Z"
   },
   {
    "duration": 139,
    "start_time": "2022-02-12T07:30:51.838Z"
   },
   {
    "duration": 84,
    "start_time": "2022-02-12T07:30:51.978Z"
   },
   {
    "duration": 124,
    "start_time": "2022-02-12T07:30:52.063Z"
   },
   {
    "duration": 19,
    "start_time": "2022-02-12T07:30:52.188Z"
   },
   {
    "duration": 15,
    "start_time": "2022-02-12T07:30:52.209Z"
   },
   {
    "duration": 14,
    "start_time": "2022-02-12T07:30:52.225Z"
   },
   {
    "duration": 17,
    "start_time": "2022-02-12T07:30:52.240Z"
   },
   {
    "duration": 25,
    "start_time": "2022-02-12T07:30:52.258Z"
   },
   {
    "duration": 28,
    "start_time": "2022-02-12T07:30:52.285Z"
   },
   {
    "duration": 81,
    "start_time": "2022-02-12T07:30:52.314Z"
   },
   {
    "duration": 24,
    "start_time": "2022-02-12T07:30:52.397Z"
   },
   {
    "duration": 41,
    "start_time": "2022-02-12T07:30:52.423Z"
   },
   {
    "duration": 3,
    "start_time": "2022-02-12T07:30:52.472Z"
   },
   {
    "duration": 38,
    "start_time": "2022-02-12T07:30:52.477Z"
   },
   {
    "duration": 12,
    "start_time": "2022-02-12T07:30:52.517Z"
   },
   {
    "duration": 59,
    "start_time": "2022-02-12T07:30:52.530Z"
   },
   {
    "duration": 25,
    "start_time": "2022-02-12T07:30:52.590Z"
   },
   {
    "duration": 19,
    "start_time": "2022-02-12T07:30:52.617Z"
   },
   {
    "duration": 14,
    "start_time": "2022-02-12T07:30:52.637Z"
   },
   {
    "duration": 65,
    "start_time": "2022-02-12T07:30:52.654Z"
   },
   {
    "duration": 28,
    "start_time": "2022-02-12T07:30:52.722Z"
   },
   {
    "duration": 45,
    "start_time": "2022-02-12T07:30:52.752Z"
   },
   {
    "duration": 21,
    "start_time": "2022-02-12T07:30:52.799Z"
   },
   {
    "duration": 14,
    "start_time": "2022-02-12T07:30:52.822Z"
   },
   {
    "duration": 13,
    "start_time": "2022-02-12T07:30:52.837Z"
   },
   {
    "duration": 28,
    "start_time": "2022-02-12T07:30:52.851Z"
   },
   {
    "duration": 31,
    "start_time": "2022-02-12T07:30:52.881Z"
   },
   {
    "duration": 19,
    "start_time": "2022-02-12T07:30:52.913Z"
   },
   {
    "duration": 18,
    "start_time": "2022-02-12T07:30:52.933Z"
   },
   {
    "duration": 28,
    "start_time": "2022-02-12T07:30:52.952Z"
   },
   {
    "duration": 13,
    "start_time": "2022-02-12T07:30:52.981Z"
   },
   {
    "duration": 45,
    "start_time": "2022-02-12T07:30:52.995Z"
   },
   {
    "duration": 8,
    "start_time": "2022-02-12T07:30:53.042Z"
   },
   {
    "duration": 18,
    "start_time": "2022-02-12T07:30:53.051Z"
   },
   {
    "duration": 19,
    "start_time": "2022-02-12T07:30:53.070Z"
   },
   {
    "duration": 30,
    "start_time": "2022-02-12T07:30:53.091Z"
   },
   {
    "duration": 220,
    "start_time": "2022-02-12T07:30:53.123Z"
   },
   {
    "duration": 9,
    "start_time": "2022-02-12T07:30:53.345Z"
   },
   {
    "duration": 55,
    "start_time": "2022-02-12T07:30:53.355Z"
   },
   {
    "duration": 37,
    "start_time": "2022-02-12T07:30:53.411Z"
   },
   {
    "duration": 4,
    "start_time": "2022-02-12T07:30:53.450Z"
   },
   {
    "duration": 23,
    "start_time": "2022-02-12T07:30:53.455Z"
   },
   {
    "duration": 248,
    "start_time": "2022-02-12T07:30:53.480Z"
   },
   {
    "duration": 5,
    "start_time": "2022-02-12T07:30:53.730Z"
   },
   {
    "duration": 11,
    "start_time": "2022-02-12T07:30:53.736Z"
   },
   {
    "duration": 253,
    "start_time": "2022-02-12T07:30:53.748Z"
   },
   {
    "duration": 6,
    "start_time": "2022-02-12T07:30:54.003Z"
   },
   {
    "duration": 19,
    "start_time": "2022-02-12T07:30:54.010Z"
   },
   {
    "duration": 245,
    "start_time": "2022-02-12T07:30:54.031Z"
   },
   {
    "duration": 5,
    "start_time": "2022-02-12T07:30:54.278Z"
   },
   {
    "duration": 14,
    "start_time": "2022-02-12T07:30:54.284Z"
   },
   {
    "duration": 240,
    "start_time": "2022-02-12T07:30:54.300Z"
   },
   {
    "duration": 534,
    "start_time": "2022-02-12T07:36:35.230Z"
   },
   {
    "duration": 5,
    "start_time": "2022-02-12T07:36:52.040Z"
   },
   {
    "duration": 362,
    "start_time": "2022-02-12T07:47:45.986Z"
   },
   {
    "duration": 14,
    "start_time": "2022-02-12T07:47:55.089Z"
   },
   {
    "duration": 15,
    "start_time": "2022-02-12T07:50:55.795Z"
   },
   {
    "duration": 242,
    "start_time": "2022-02-12T07:53:54.281Z"
   },
   {
    "duration": 11,
    "start_time": "2022-02-12T07:58:11.545Z"
   },
   {
    "duration": 1085,
    "start_time": "2022-02-12T08:43:56.438Z"
   },
   {
    "duration": 35,
    "start_time": "2022-02-12T08:43:57.525Z"
   },
   {
    "duration": 143,
    "start_time": "2022-02-12T08:43:57.562Z"
   },
   {
    "duration": 85,
    "start_time": "2022-02-12T08:43:57.707Z"
   },
   {
    "duration": 128,
    "start_time": "2022-02-12T08:43:57.794Z"
   },
   {
    "duration": 19,
    "start_time": "2022-02-12T08:43:57.924Z"
   },
   {
    "duration": 10,
    "start_time": "2022-02-12T08:43:57.944Z"
   },
   {
    "duration": 6,
    "start_time": "2022-02-12T08:43:57.956Z"
   },
   {
    "duration": 3,
    "start_time": "2022-02-12T08:43:57.963Z"
   },
   {
    "duration": 11,
    "start_time": "2022-02-12T08:43:57.968Z"
   },
   {
    "duration": 19,
    "start_time": "2022-02-12T08:43:57.981Z"
   },
   {
    "duration": 83,
    "start_time": "2022-02-12T08:43:58.001Z"
   },
   {
    "duration": 25,
    "start_time": "2022-02-12T08:43:58.086Z"
   },
   {
    "duration": 43,
    "start_time": "2022-02-12T08:43:58.112Z"
   },
   {
    "duration": 3,
    "start_time": "2022-02-12T08:43:58.157Z"
   },
   {
    "duration": 39,
    "start_time": "2022-02-12T08:43:58.162Z"
   },
   {
    "duration": 13,
    "start_time": "2022-02-12T08:43:58.202Z"
   },
   {
    "duration": 37,
    "start_time": "2022-02-12T08:43:58.217Z"
   },
   {
    "duration": 31,
    "start_time": "2022-02-12T08:43:58.255Z"
   },
   {
    "duration": 20,
    "start_time": "2022-02-12T08:43:58.288Z"
   },
   {
    "duration": 16,
    "start_time": "2022-02-12T08:43:58.309Z"
   },
   {
    "duration": 57,
    "start_time": "2022-02-12T08:43:58.326Z"
   },
   {
    "duration": 26,
    "start_time": "2022-02-12T08:43:58.386Z"
   },
   {
    "duration": 31,
    "start_time": "2022-02-12T08:43:58.414Z"
   },
   {
    "duration": 26,
    "start_time": "2022-02-12T08:43:58.446Z"
   },
   {
    "duration": 13,
    "start_time": "2022-02-12T08:43:58.474Z"
   },
   {
    "duration": 5,
    "start_time": "2022-02-12T08:43:58.488Z"
   },
   {
    "duration": 10,
    "start_time": "2022-02-12T08:43:58.494Z"
   },
   {
    "duration": 17,
    "start_time": "2022-02-12T08:43:58.506Z"
   },
   {
    "duration": 17,
    "start_time": "2022-02-12T08:43:58.524Z"
   },
   {
    "duration": 18,
    "start_time": "2022-02-12T08:43:58.542Z"
   },
   {
    "duration": 28,
    "start_time": "2022-02-12T08:43:58.561Z"
   },
   {
    "duration": 6,
    "start_time": "2022-02-12T08:43:58.591Z"
   },
   {
    "duration": 39,
    "start_time": "2022-02-12T08:43:58.598Z"
   },
   {
    "duration": 9,
    "start_time": "2022-02-12T08:43:58.638Z"
   },
   {
    "duration": 23,
    "start_time": "2022-02-12T08:43:58.648Z"
   },
   {
    "duration": 6,
    "start_time": "2022-02-12T08:43:58.673Z"
   },
   {
    "duration": 8,
    "start_time": "2022-02-12T08:43:58.680Z"
   },
   {
    "duration": 293,
    "start_time": "2022-02-12T08:43:58.690Z"
   },
   {
    "duration": 9,
    "start_time": "2022-02-12T08:43:58.984Z"
   },
   {
    "duration": 95,
    "start_time": "2022-02-12T08:43:58.995Z"
   },
   {
    "duration": 94,
    "start_time": "2022-02-12T08:43:59.091Z"
   },
   {
    "duration": 5,
    "start_time": "2022-02-12T08:43:59.186Z"
   },
   {
    "duration": 7,
    "start_time": "2022-02-12T08:43:59.192Z"
   },
   {
    "duration": 301,
    "start_time": "2022-02-12T08:43:59.200Z"
   },
   {
    "duration": 6,
    "start_time": "2022-02-12T08:43:59.503Z"
   },
   {
    "duration": 6,
    "start_time": "2022-02-12T08:43:59.510Z"
   },
   {
    "duration": 268,
    "start_time": "2022-02-12T08:43:59.518Z"
   },
   {
    "duration": 6,
    "start_time": "2022-02-12T08:43:59.787Z"
   },
   {
    "duration": 6,
    "start_time": "2022-02-12T08:43:59.795Z"
   },
   {
    "duration": 258,
    "start_time": "2022-02-12T08:43:59.802Z"
   },
   {
    "duration": 9,
    "start_time": "2022-02-12T08:44:00.062Z"
   },
   {
    "duration": 16,
    "start_time": "2022-02-12T08:44:00.073Z"
   },
   {
    "duration": 254,
    "start_time": "2022-02-12T08:44:00.090Z"
   },
   {
    "duration": 5,
    "start_time": "2022-02-12T08:44:00.346Z"
   },
   {
    "duration": 22,
    "start_time": "2022-02-12T08:44:00.352Z"
   },
   {
    "duration": 12,
    "start_time": "2022-02-12T08:44:00.375Z"
   },
   {
    "duration": 260,
    "start_time": "2022-02-12T08:44:00.388Z"
   },
   {
    "duration": 22,
    "start_time": "2022-02-12T08:44:00.650Z"
   },
   {
    "duration": 1197,
    "start_time": "2022-02-18T09:32:35.796Z"
   },
   {
    "duration": 33,
    "start_time": "2022-02-18T09:32:36.995Z"
   },
   {
    "duration": 149,
    "start_time": "2022-02-18T09:32:37.030Z"
   },
   {
    "duration": 90,
    "start_time": "2022-02-18T09:32:37.181Z"
   },
   {
    "duration": 138,
    "start_time": "2022-02-18T09:32:37.272Z"
   },
   {
    "duration": 16,
    "start_time": "2022-02-18T09:32:37.419Z"
   },
   {
    "duration": 7,
    "start_time": "2022-02-18T09:32:37.437Z"
   },
   {
    "duration": 7,
    "start_time": "2022-02-18T09:32:37.446Z"
   },
   {
    "duration": 4,
    "start_time": "2022-02-18T09:32:37.455Z"
   },
   {
    "duration": 13,
    "start_time": "2022-02-18T09:32:37.461Z"
   },
   {
    "duration": 50,
    "start_time": "2022-02-18T09:32:37.476Z"
   },
   {
    "duration": 109,
    "start_time": "2022-02-18T09:32:37.529Z"
   },
   {
    "duration": 27,
    "start_time": "2022-02-18T09:32:37.640Z"
   },
   {
    "duration": 59,
    "start_time": "2022-02-18T09:32:37.669Z"
   },
   {
    "duration": 4,
    "start_time": "2022-02-18T09:32:37.730Z"
   },
   {
    "duration": 37,
    "start_time": "2022-02-18T09:32:37.736Z"
   },
   {
    "duration": 14,
    "start_time": "2022-02-18T09:32:37.775Z"
   },
   {
    "duration": 61,
    "start_time": "2022-02-18T09:32:37.791Z"
   },
   {
    "duration": 30,
    "start_time": "2022-02-18T09:32:37.854Z"
   },
   {
    "duration": 43,
    "start_time": "2022-02-18T09:32:37.885Z"
   },
   {
    "duration": 16,
    "start_time": "2022-02-18T09:32:37.931Z"
   },
   {
    "duration": 71,
    "start_time": "2022-02-18T09:32:37.949Z"
   },
   {
    "duration": 27,
    "start_time": "2022-02-18T09:32:38.024Z"
   },
   {
    "duration": 36,
    "start_time": "2022-02-18T09:32:38.054Z"
   },
   {
    "duration": 45,
    "start_time": "2022-02-18T09:32:38.092Z"
   },
   {
    "duration": 14,
    "start_time": "2022-02-18T09:32:38.139Z"
   },
   {
    "duration": 6,
    "start_time": "2022-02-18T09:32:38.155Z"
   },
   {
    "duration": 12,
    "start_time": "2022-02-18T09:32:38.163Z"
   },
   {
    "duration": 56,
    "start_time": "2022-02-18T09:32:38.177Z"
   },
   {
    "duration": 27,
    "start_time": "2022-02-18T09:32:38.236Z"
   },
   {
    "duration": 20,
    "start_time": "2022-02-18T09:32:38.265Z"
   },
   {
    "duration": 46,
    "start_time": "2022-02-18T09:32:38.287Z"
   },
   {
    "duration": 8,
    "start_time": "2022-02-18T09:32:38.334Z"
   },
   {
    "duration": 48,
    "start_time": "2022-02-18T09:32:38.344Z"
   },
   {
    "duration": 33,
    "start_time": "2022-02-18T09:32:38.394Z"
   },
   {
    "duration": 6,
    "start_time": "2022-02-18T09:32:38.429Z"
   },
   {
    "duration": 7,
    "start_time": "2022-02-18T09:32:38.436Z"
   },
   {
    "duration": 9,
    "start_time": "2022-02-18T09:32:38.445Z"
   },
   {
    "duration": 256,
    "start_time": "2022-02-18T09:32:38.457Z"
   },
   {
    "duration": 18,
    "start_time": "2022-02-18T09:32:38.715Z"
   },
   {
    "duration": 50,
    "start_time": "2022-02-18T09:32:38.735Z"
   },
   {
    "duration": 67,
    "start_time": "2022-02-18T09:32:38.786Z"
   },
   {
    "duration": 6,
    "start_time": "2022-02-18T09:32:38.855Z"
   },
   {
    "duration": 7,
    "start_time": "2022-02-18T09:32:38.863Z"
   },
   {
    "duration": 310,
    "start_time": "2022-02-18T09:32:38.872Z"
   },
   {
    "duration": 5,
    "start_time": "2022-02-18T09:32:39.184Z"
   },
   {
    "duration": 7,
    "start_time": "2022-02-18T09:32:39.191Z"
   },
   {
    "duration": 304,
    "start_time": "2022-02-18T09:32:39.200Z"
   },
   {
    "duration": 13,
    "start_time": "2022-02-18T09:32:39.507Z"
   },
   {
    "duration": 7,
    "start_time": "2022-02-18T09:32:39.522Z"
   },
   {
    "duration": 297,
    "start_time": "2022-02-18T09:32:39.530Z"
   },
   {
    "duration": 6,
    "start_time": "2022-02-18T09:32:39.828Z"
   },
   {
    "duration": 6,
    "start_time": "2022-02-18T09:32:39.836Z"
   },
   {
    "duration": 341,
    "start_time": "2022-02-18T09:32:39.844Z"
   },
   {
    "duration": 6,
    "start_time": "2022-02-18T09:32:40.187Z"
   },
   {
    "duration": 33,
    "start_time": "2022-02-18T09:32:40.195Z"
   },
   {
    "duration": 15,
    "start_time": "2022-02-18T09:32:40.229Z"
   },
   {
    "duration": 312,
    "start_time": "2022-02-18T09:32:40.246Z"
   },
   {
    "duration": 12,
    "start_time": "2022-02-18T09:32:40.560Z"
   },
   {
    "duration": 5,
    "start_time": "2022-02-18T09:49:30.956Z"
   },
   {
    "duration": 279,
    "start_time": "2022-02-18T13:29:39.608Z"
   },
   {
    "duration": 1273,
    "start_time": "2022-02-18T13:29:46.987Z"
   },
   {
    "duration": 26,
    "start_time": "2022-02-18T13:29:48.262Z"
   },
   {
    "duration": 169,
    "start_time": "2022-02-18T13:29:48.291Z"
   },
   {
    "duration": 106,
    "start_time": "2022-02-18T13:29:48.462Z"
   },
   {
    "duration": 149,
    "start_time": "2022-02-18T13:29:48.570Z"
   },
   {
    "duration": 17,
    "start_time": "2022-02-18T13:29:48.721Z"
   },
   {
    "duration": 13,
    "start_time": "2022-02-18T13:29:48.740Z"
   },
   {
    "duration": 8,
    "start_time": "2022-02-18T13:29:48.756Z"
   },
   {
    "duration": 4,
    "start_time": "2022-02-18T13:29:48.766Z"
   },
   {
    "duration": 21,
    "start_time": "2022-02-18T13:29:48.772Z"
   },
   {
    "duration": 24,
    "start_time": "2022-02-18T13:29:48.819Z"
   },
   {
    "duration": 117,
    "start_time": "2022-02-18T13:29:48.845Z"
   },
   {
    "duration": 38,
    "start_time": "2022-02-18T13:29:48.964Z"
   },
   {
    "duration": 77,
    "start_time": "2022-02-18T13:29:49.004Z"
   },
   {
    "duration": 4,
    "start_time": "2022-02-18T13:29:49.083Z"
   },
   {
    "duration": 73,
    "start_time": "2022-02-18T13:29:49.089Z"
   },
   {
    "duration": 23,
    "start_time": "2022-02-18T13:29:49.165Z"
   },
   {
    "duration": 58,
    "start_time": "2022-02-18T13:29:49.190Z"
   },
   {
    "duration": 33,
    "start_time": "2022-02-18T13:29:49.250Z"
   },
   {
    "duration": 44,
    "start_time": "2022-02-18T13:29:49.284Z"
   },
   {
    "duration": 18,
    "start_time": "2022-02-18T13:29:49.330Z"
   },
   {
    "duration": 76,
    "start_time": "2022-02-18T13:29:49.350Z"
   },
   {
    "duration": 30,
    "start_time": "2022-02-18T13:29:49.430Z"
   },
   {
    "duration": 37,
    "start_time": "2022-02-18T13:29:49.462Z"
   },
   {
    "duration": 39,
    "start_time": "2022-02-18T13:29:49.501Z"
   },
   {
    "duration": 17,
    "start_time": "2022-02-18T13:29:49.542Z"
   },
   {
    "duration": 6,
    "start_time": "2022-02-18T13:29:49.560Z"
   },
   {
    "duration": 13,
    "start_time": "2022-02-18T13:29:49.567Z"
   },
   {
    "duration": 46,
    "start_time": "2022-02-18T13:29:49.582Z"
   },
   {
    "duration": 19,
    "start_time": "2022-02-18T13:29:49.630Z"
   },
   {
    "duration": 23,
    "start_time": "2022-02-18T13:29:49.651Z"
   },
   {
    "duration": 51,
    "start_time": "2022-02-18T13:29:49.675Z"
   },
   {
    "duration": 4,
    "start_time": "2022-02-18T13:29:49.728Z"
   },
   {
    "duration": 29,
    "start_time": "2022-02-18T13:29:49.734Z"
   },
   {
    "duration": 4,
    "start_time": "2022-02-18T13:29:49.765Z"
   },
   {
    "duration": 54,
    "start_time": "2022-02-18T13:29:49.771Z"
   },
   {
    "duration": 10,
    "start_time": "2022-02-18T13:29:49.827Z"
   },
   {
    "duration": 11,
    "start_time": "2022-02-18T13:29:49.839Z"
   },
   {
    "duration": 8,
    "start_time": "2022-02-18T13:29:49.852Z"
   },
   {
    "duration": 17,
    "start_time": "2022-02-18T13:29:49.862Z"
   },
   {
    "duration": 371,
    "start_time": "2022-02-18T13:29:49.882Z"
   },
   {
    "duration": 13,
    "start_time": "2022-02-18T13:29:50.256Z"
   },
   {
    "duration": 84,
    "start_time": "2022-02-18T13:29:50.271Z"
   },
   {
    "duration": 43,
    "start_time": "2022-02-18T13:29:50.357Z"
   },
   {
    "duration": 19,
    "start_time": "2022-02-18T13:29:50.402Z"
   },
   {
    "duration": 12,
    "start_time": "2022-02-18T13:29:50.424Z"
   },
   {
    "duration": 307,
    "start_time": "2022-02-18T13:29:50.439Z"
   },
   {
    "duration": 5,
    "start_time": "2022-02-18T13:29:50.748Z"
   },
   {
    "duration": 9,
    "start_time": "2022-02-18T13:29:50.755Z"
   },
   {
    "duration": 292,
    "start_time": "2022-02-18T13:29:50.766Z"
   },
   {
    "duration": 5,
    "start_time": "2022-02-18T13:29:51.060Z"
   },
   {
    "duration": 10,
    "start_time": "2022-02-18T13:29:51.068Z"
   },
   {
    "duration": 296,
    "start_time": "2022-02-18T13:29:51.079Z"
   },
   {
    "duration": 7,
    "start_time": "2022-02-18T13:29:51.378Z"
   },
   {
    "duration": 8,
    "start_time": "2022-02-18T13:29:51.387Z"
   },
   {
    "duration": 315,
    "start_time": "2022-02-18T13:29:51.396Z"
   },
   {
    "duration": 8,
    "start_time": "2022-02-18T13:29:51.713Z"
   },
   {
    "duration": 18,
    "start_time": "2022-02-18T13:29:51.722Z"
   },
   {
    "duration": 15,
    "start_time": "2022-02-18T13:29:51.742Z"
   },
   {
    "duration": 321,
    "start_time": "2022-02-18T13:29:51.759Z"
   },
   {
    "duration": 13,
    "start_time": "2022-02-18T13:29:52.081Z"
   },
   {
    "duration": 6,
    "start_time": "2022-02-18T13:31:12.381Z"
   },
   {
    "duration": 10,
    "start_time": "2022-02-18T13:31:41.688Z"
   },
   {
    "duration": 6,
    "start_time": "2022-02-18T13:31:49.251Z"
   },
   {
    "duration": 5,
    "start_time": "2022-02-18T13:32:55.187Z"
   },
   {
    "duration": 1163,
    "start_time": "2022-02-18T13:34:26.624Z"
   },
   {
    "duration": 26,
    "start_time": "2022-02-18T13:34:27.789Z"
   },
   {
    "duration": 156,
    "start_time": "2022-02-18T13:34:27.817Z"
   },
   {
    "duration": 93,
    "start_time": "2022-02-18T13:34:27.975Z"
   },
   {
    "duration": 137,
    "start_time": "2022-02-18T13:34:28.070Z"
   },
   {
    "duration": 16,
    "start_time": "2022-02-18T13:34:28.209Z"
   },
   {
    "duration": 10,
    "start_time": "2022-02-18T13:34:28.227Z"
   },
   {
    "duration": 8,
    "start_time": "2022-02-18T13:34:28.240Z"
   },
   {
    "duration": 6,
    "start_time": "2022-02-18T13:34:28.250Z"
   },
   {
    "duration": 17,
    "start_time": "2022-02-18T13:34:28.258Z"
   },
   {
    "duration": 42,
    "start_time": "2022-02-18T13:34:28.277Z"
   },
   {
    "duration": 110,
    "start_time": "2022-02-18T13:34:28.321Z"
   },
   {
    "duration": 30,
    "start_time": "2022-02-18T13:34:28.432Z"
   },
   {
    "duration": 67,
    "start_time": "2022-02-18T13:34:28.464Z"
   },
   {
    "duration": 4,
    "start_time": "2022-02-18T13:34:28.533Z"
   },
   {
    "duration": 41,
    "start_time": "2022-02-18T13:34:28.538Z"
   },
   {
    "duration": 15,
    "start_time": "2022-02-18T13:34:28.580Z"
   },
   {
    "duration": 78,
    "start_time": "2022-02-18T13:34:28.597Z"
   },
   {
    "duration": 56,
    "start_time": "2022-02-18T13:34:28.678Z"
   },
   {
    "duration": 23,
    "start_time": "2022-02-18T13:34:28.736Z"
   },
   {
    "duration": 18,
    "start_time": "2022-02-18T13:34:28.761Z"
   },
   {
    "duration": 79,
    "start_time": "2022-02-18T13:34:28.782Z"
   },
   {
    "duration": 29,
    "start_time": "2022-02-18T13:34:28.864Z"
   },
   {
    "duration": 50,
    "start_time": "2022-02-18T13:34:28.895Z"
   },
   {
    "duration": 24,
    "start_time": "2022-02-18T13:34:28.947Z"
   },
   {
    "duration": 17,
    "start_time": "2022-02-18T13:34:28.973Z"
   },
   {
    "duration": 26,
    "start_time": "2022-02-18T13:34:28.992Z"
   },
   {
    "duration": 13,
    "start_time": "2022-02-18T13:34:29.020Z"
   },
   {
    "duration": 22,
    "start_time": "2022-02-18T13:34:29.035Z"
   },
   {
    "duration": 20,
    "start_time": "2022-02-18T13:34:29.059Z"
   },
   {
    "duration": 51,
    "start_time": "2022-02-18T13:34:29.081Z"
   },
   {
    "duration": 25,
    "start_time": "2022-02-18T13:34:29.133Z"
   },
   {
    "duration": 8,
    "start_time": "2022-02-18T13:34:29.160Z"
   },
   {
    "duration": 4,
    "start_time": "2022-02-18T13:34:29.170Z"
   },
   {
    "duration": 73,
    "start_time": "2022-02-18T13:34:29.175Z"
   },
   {
    "duration": 11,
    "start_time": "2022-02-18T13:34:29.250Z"
   },
   {
    "duration": 5,
    "start_time": "2022-02-18T13:34:29.263Z"
   },
   {
    "duration": 9,
    "start_time": "2022-02-18T13:34:29.270Z"
   },
   {
    "duration": 10,
    "start_time": "2022-02-18T13:34:29.280Z"
   },
   {
    "duration": 252,
    "start_time": "2022-02-18T13:34:29.292Z"
   },
   {
    "duration": 10,
    "start_time": "2022-02-18T13:34:29.546Z"
   },
   {
    "duration": 61,
    "start_time": "2022-02-18T13:34:29.558Z"
   },
   {
    "duration": 41,
    "start_time": "2022-02-18T13:34:29.621Z"
   },
   {
    "duration": 6,
    "start_time": "2022-02-18T13:34:29.664Z"
   },
   {
    "duration": 9,
    "start_time": "2022-02-18T13:34:29.671Z"
   },
   {
    "duration": 442,
    "start_time": "2022-02-18T13:34:29.682Z"
   },
   {
    "duration": 7,
    "start_time": "2022-02-18T13:34:30.126Z"
   },
   {
    "duration": 23,
    "start_time": "2022-02-18T13:34:30.134Z"
   },
   {
    "duration": 417,
    "start_time": "2022-02-18T13:34:30.160Z"
   },
   {
    "duration": 7,
    "start_time": "2022-02-18T13:34:30.579Z"
   },
   {
    "duration": 14,
    "start_time": "2022-02-18T13:34:30.588Z"
   },
   {
    "duration": 423,
    "start_time": "2022-02-18T13:34:30.605Z"
   },
   {
    "duration": 6,
    "start_time": "2022-02-18T13:34:31.030Z"
   },
   {
    "duration": 25,
    "start_time": "2022-02-18T13:34:31.037Z"
   },
   {
    "duration": 311,
    "start_time": "2022-02-18T13:34:31.064Z"
   },
   {
    "duration": 5,
    "start_time": "2022-02-18T13:34:31.377Z"
   },
   {
    "duration": 34,
    "start_time": "2022-02-18T13:34:31.384Z"
   },
   {
    "duration": 19,
    "start_time": "2022-02-18T13:34:31.420Z"
   },
   {
    "duration": 297,
    "start_time": "2022-02-18T13:34:31.441Z"
   },
   {
    "duration": 17,
    "start_time": "2022-02-18T13:34:31.740Z"
   },
   {
    "duration": 7,
    "start_time": "2022-02-18T13:41:15.263Z"
   },
   {
    "duration": 4,
    "start_time": "2022-02-18T13:42:55.186Z"
   },
   {
    "duration": 1167,
    "start_time": "2022-02-18T13:42:59.722Z"
   },
   {
    "duration": 26,
    "start_time": "2022-02-18T13:43:00.891Z"
   },
   {
    "duration": 166,
    "start_time": "2022-02-18T13:43:00.919Z"
   },
   {
    "duration": 91,
    "start_time": "2022-02-18T13:43:01.087Z"
   },
   {
    "duration": 140,
    "start_time": "2022-02-18T13:43:01.179Z"
   },
   {
    "duration": 16,
    "start_time": "2022-02-18T13:43:01.321Z"
   },
   {
    "duration": 36,
    "start_time": "2022-02-18T13:43:01.339Z"
   },
   {
    "duration": 33,
    "start_time": "2022-02-18T13:43:01.379Z"
   },
   {
    "duration": 18,
    "start_time": "2022-02-18T13:43:01.415Z"
   },
   {
    "duration": 36,
    "start_time": "2022-02-18T13:43:01.435Z"
   },
   {
    "duration": 31,
    "start_time": "2022-02-18T13:43:01.473Z"
   },
   {
    "duration": 113,
    "start_time": "2022-02-18T13:43:01.506Z"
   },
   {
    "duration": 31,
    "start_time": "2022-02-18T13:43:01.621Z"
   },
   {
    "duration": 67,
    "start_time": "2022-02-18T13:43:01.654Z"
   },
   {
    "duration": 4,
    "start_time": "2022-02-18T13:43:01.723Z"
   },
   {
    "duration": 96,
    "start_time": "2022-02-18T13:43:01.728Z"
   },
   {
    "duration": 16,
    "start_time": "2022-02-18T13:43:01.826Z"
   },
   {
    "duration": 64,
    "start_time": "2022-02-18T13:43:01.844Z"
   },
   {
    "duration": 33,
    "start_time": "2022-02-18T13:43:01.910Z"
   },
   {
    "duration": 34,
    "start_time": "2022-02-18T13:43:01.946Z"
   },
   {
    "duration": 20,
    "start_time": "2022-02-18T13:43:01.982Z"
   },
   {
    "duration": 103,
    "start_time": "2022-02-18T13:43:02.004Z"
   },
   {
    "duration": 30,
    "start_time": "2022-02-18T13:43:02.111Z"
   },
   {
    "duration": 39,
    "start_time": "2022-02-18T13:43:02.143Z"
   },
   {
    "duration": 42,
    "start_time": "2022-02-18T13:43:02.185Z"
   },
   {
    "duration": 27,
    "start_time": "2022-02-18T13:43:02.229Z"
   },
   {
    "duration": 17,
    "start_time": "2022-02-18T13:43:02.258Z"
   },
   {
    "duration": 40,
    "start_time": "2022-02-18T13:43:02.277Z"
   },
   {
    "duration": 41,
    "start_time": "2022-02-18T13:43:02.318Z"
   },
   {
    "duration": 42,
    "start_time": "2022-02-18T13:43:02.361Z"
   },
   {
    "duration": 94,
    "start_time": "2022-02-18T13:43:02.404Z"
   },
   {
    "duration": 73,
    "start_time": "2022-02-18T13:43:02.500Z"
   },
   {
    "duration": 10,
    "start_time": "2022-02-18T13:43:02.575Z"
   },
   {
    "duration": 42,
    "start_time": "2022-02-18T13:43:02.587Z"
   },
   {
    "duration": 56,
    "start_time": "2022-02-18T13:43:02.631Z"
   },
   {
    "duration": 11,
    "start_time": "2022-02-18T13:43:02.690Z"
   },
   {
    "duration": 28,
    "start_time": "2022-02-18T13:43:02.703Z"
   },
   {
    "duration": 38,
    "start_time": "2022-02-18T13:43:02.733Z"
   },
   {
    "duration": 36,
    "start_time": "2022-02-18T13:43:02.773Z"
   },
   {
    "duration": 33,
    "start_time": "2022-02-18T13:43:02.811Z"
   },
   {
    "duration": 234,
    "start_time": "2022-02-18T13:43:02.846Z"
   },
   {
    "duration": 11,
    "start_time": "2022-02-18T13:43:03.083Z"
   },
   {
    "duration": 55,
    "start_time": "2022-02-18T13:43:03.096Z"
   },
   {
    "duration": 40,
    "start_time": "2022-02-18T13:43:03.153Z"
   },
   {
    "duration": 24,
    "start_time": "2022-02-18T13:43:03.195Z"
   },
   {
    "duration": 20,
    "start_time": "2022-02-18T13:43:03.221Z"
   },
   {
    "duration": 312,
    "start_time": "2022-02-18T13:43:03.242Z"
   },
   {
    "duration": 6,
    "start_time": "2022-02-18T13:43:03.555Z"
   },
   {
    "duration": 40,
    "start_time": "2022-02-18T13:43:03.563Z"
   },
   {
    "duration": 297,
    "start_time": "2022-02-18T13:43:03.605Z"
   },
   {
    "duration": 17,
    "start_time": "2022-02-18T13:43:03.904Z"
   },
   {
    "duration": 36,
    "start_time": "2022-02-18T13:43:03.923Z"
   },
   {
    "duration": 283,
    "start_time": "2022-02-18T13:43:03.962Z"
   },
   {
    "duration": 6,
    "start_time": "2022-02-18T13:43:04.247Z"
   },
   {
    "duration": 19,
    "start_time": "2022-02-18T13:43:04.255Z"
   },
   {
    "duration": 305,
    "start_time": "2022-02-18T13:43:04.276Z"
   },
   {
    "duration": 6,
    "start_time": "2022-02-18T13:43:04.582Z"
   },
   {
    "duration": 37,
    "start_time": "2022-02-18T13:43:04.589Z"
   },
   {
    "duration": 13,
    "start_time": "2022-02-18T13:43:04.628Z"
   },
   {
    "duration": 290,
    "start_time": "2022-02-18T13:43:04.643Z"
   },
   {
    "duration": 13,
    "start_time": "2022-02-18T13:43:04.935Z"
   },
   {
    "duration": 7,
    "start_time": "2022-02-18T13:45:39.910Z"
   },
   {
    "duration": 6,
    "start_time": "2022-02-18T13:46:08.906Z"
   },
   {
    "duration": 6,
    "start_time": "2022-02-18T13:46:20.089Z"
   },
   {
    "duration": 6,
    "start_time": "2022-02-18T13:46:23.565Z"
   },
   {
    "duration": 6,
    "start_time": "2022-02-18T13:46:35.010Z"
   },
   {
    "duration": 7,
    "start_time": "2022-02-18T13:46:35.605Z"
   },
   {
    "duration": 6,
    "start_time": "2022-02-18T13:48:19.582Z"
   },
   {
    "duration": 7,
    "start_time": "2022-02-18T13:48:31.756Z"
   },
   {
    "duration": 16,
    "start_time": "2022-02-18T13:48:54.255Z"
   },
   {
    "duration": 23,
    "start_time": "2022-02-18T13:49:02.559Z"
   },
   {
    "duration": 1604,
    "start_time": "2022-02-18T13:49:44.829Z"
   },
   {
    "duration": 29,
    "start_time": "2022-02-18T13:49:46.436Z"
   },
   {
    "duration": 194,
    "start_time": "2022-02-18T13:49:46.467Z"
   },
   {
    "duration": 102,
    "start_time": "2022-02-18T13:49:46.664Z"
   },
   {
    "duration": 167,
    "start_time": "2022-02-18T13:49:46.767Z"
   },
   {
    "duration": 17,
    "start_time": "2022-02-18T13:49:46.937Z"
   },
   {
    "duration": 32,
    "start_time": "2022-02-18T13:49:46.956Z"
   },
   {
    "duration": 9,
    "start_time": "2022-02-18T13:49:46.990Z"
   },
   {
    "duration": 4,
    "start_time": "2022-02-18T13:49:47.002Z"
   },
   {
    "duration": 25,
    "start_time": "2022-02-18T13:49:47.008Z"
   },
   {
    "duration": 27,
    "start_time": "2022-02-18T13:49:47.035Z"
   },
   {
    "duration": 119,
    "start_time": "2022-02-18T13:49:47.064Z"
   },
   {
    "duration": 38,
    "start_time": "2022-02-18T13:49:47.185Z"
   },
   {
    "duration": 83,
    "start_time": "2022-02-18T13:49:47.225Z"
   },
   {
    "duration": 6,
    "start_time": "2022-02-18T13:49:47.315Z"
   },
   {
    "duration": 212,
    "start_time": "2022-02-18T13:49:47.323Z"
   },
   {
    "duration": 87,
    "start_time": "2022-02-18T13:49:47.538Z"
   },
   {
    "duration": 249,
    "start_time": "2022-02-18T13:49:47.632Z"
   },
   {
    "duration": 134,
    "start_time": "2022-02-18T13:49:47.888Z"
   },
   {
    "duration": 30,
    "start_time": "2022-02-18T13:49:48.027Z"
   },
   {
    "duration": 20,
    "start_time": "2022-02-18T13:49:48.060Z"
   },
   {
    "duration": 86,
    "start_time": "2022-02-18T13:49:48.082Z"
   },
   {
    "duration": 30,
    "start_time": "2022-02-18T13:49:48.170Z"
   },
   {
    "duration": 50,
    "start_time": "2022-02-18T13:49:48.203Z"
   },
   {
    "duration": 27,
    "start_time": "2022-02-18T13:49:48.255Z"
   },
   {
    "duration": 36,
    "start_time": "2022-02-18T13:49:48.284Z"
   },
   {
    "duration": 9,
    "start_time": "2022-02-18T13:49:48.326Z"
   },
   {
    "duration": 21,
    "start_time": "2022-02-18T13:49:48.338Z"
   },
   {
    "duration": 41,
    "start_time": "2022-02-18T13:49:48.361Z"
   },
   {
    "duration": 36,
    "start_time": "2022-02-18T13:49:48.404Z"
   },
   {
    "duration": 21,
    "start_time": "2022-02-18T13:49:48.443Z"
   },
   {
    "duration": 54,
    "start_time": "2022-02-18T13:49:48.466Z"
   },
   {
    "duration": 9,
    "start_time": "2022-02-18T13:49:48.521Z"
   },
   {
    "duration": 10,
    "start_time": "2022-02-18T13:49:48.533Z"
   },
   {
    "duration": 47,
    "start_time": "2022-02-18T13:49:48.545Z"
   },
   {
    "duration": 34,
    "start_time": "2022-02-18T13:49:48.594Z"
   },
   {
    "duration": 5,
    "start_time": "2022-02-18T13:49:48.629Z"
   },
   {
    "duration": 7,
    "start_time": "2022-02-18T13:49:48.635Z"
   },
   {
    "duration": 6,
    "start_time": "2022-02-18T13:49:48.644Z"
   },
   {
    "duration": 11,
    "start_time": "2022-02-18T13:49:48.652Z"
   },
   {
    "duration": 281,
    "start_time": "2022-02-18T13:49:48.665Z"
   },
   {
    "duration": 11,
    "start_time": "2022-02-18T13:49:48.948Z"
   },
   {
    "duration": 65,
    "start_time": "2022-02-18T13:49:48.961Z"
   },
   {
    "duration": 43,
    "start_time": "2022-02-18T13:49:49.028Z"
   },
   {
    "duration": 6,
    "start_time": "2022-02-18T13:49:49.073Z"
   },
   {
    "duration": 25,
    "start_time": "2022-02-18T13:49:49.081Z"
   },
   {
    "duration": 452,
    "start_time": "2022-02-18T13:49:49.108Z"
   },
   {
    "duration": 8,
    "start_time": "2022-02-18T13:49:49.562Z"
   },
   {
    "duration": 28,
    "start_time": "2022-02-18T13:49:49.572Z"
   },
   {
    "duration": 410,
    "start_time": "2022-02-18T13:49:49.602Z"
   },
   {
    "duration": 6,
    "start_time": "2022-02-18T13:49:50.014Z"
   },
   {
    "duration": 43,
    "start_time": "2022-02-18T13:49:50.023Z"
   },
   {
    "duration": 279,
    "start_time": "2022-02-18T13:49:50.068Z"
   },
   {
    "duration": 6,
    "start_time": "2022-02-18T13:49:50.349Z"
   },
   {
    "duration": 34,
    "start_time": "2022-02-18T13:49:50.357Z"
   },
   {
    "duration": 294,
    "start_time": "2022-02-18T13:49:50.393Z"
   },
   {
    "duration": 6,
    "start_time": "2022-02-18T13:49:50.689Z"
   },
   {
    "duration": 47,
    "start_time": "2022-02-18T13:49:50.697Z"
   },
   {
    "duration": 22,
    "start_time": "2022-02-18T13:49:50.746Z"
   },
   {
    "duration": 286,
    "start_time": "2022-02-18T13:49:50.770Z"
   },
   {
    "duration": 15,
    "start_time": "2022-02-18T13:49:51.058Z"
   },
   {
    "duration": 198,
    "start_time": "2022-02-18T13:57:03.072Z"
   },
   {
    "duration": 287,
    "start_time": "2022-02-18T13:57:35.900Z"
   },
   {
    "duration": 201,
    "start_time": "2022-02-18T13:57:43.237Z"
   },
   {
    "duration": 211,
    "start_time": "2022-02-18T13:57:53.709Z"
   },
   {
    "duration": 212,
    "start_time": "2022-02-18T14:00:21.252Z"
   },
   {
    "duration": 197,
    "start_time": "2022-02-18T14:00:41.803Z"
   },
   {
    "duration": 7411,
    "start_time": "2022-02-18T14:00:55.828Z"
   },
   {
    "duration": 204,
    "start_time": "2022-02-18T14:01:06.136Z"
   },
   {
    "duration": 201,
    "start_time": "2022-02-18T14:01:26.289Z"
   },
   {
    "duration": 307,
    "start_time": "2022-02-18T14:01:46.762Z"
   },
   {
    "duration": 1347,
    "start_time": "2022-02-18T14:07:27.334Z"
   },
   {
    "duration": 27,
    "start_time": "2022-02-18T14:07:28.684Z"
   },
   {
    "duration": 228,
    "start_time": "2022-02-18T14:07:28.713Z"
   },
   {
    "duration": 109,
    "start_time": "2022-02-18T14:07:28.944Z"
   },
   {
    "duration": 163,
    "start_time": "2022-02-18T14:07:29.055Z"
   },
   {
    "duration": 27,
    "start_time": "2022-02-18T14:07:29.221Z"
   },
   {
    "duration": 11,
    "start_time": "2022-02-18T14:07:29.251Z"
   },
   {
    "duration": 11,
    "start_time": "2022-02-18T14:07:29.264Z"
   },
   {
    "duration": 9,
    "start_time": "2022-02-18T14:07:29.279Z"
   },
   {
    "duration": 26,
    "start_time": "2022-02-18T14:07:29.291Z"
   },
   {
    "duration": 29,
    "start_time": "2022-02-18T14:07:29.320Z"
   },
   {
    "duration": 141,
    "start_time": "2022-02-18T14:07:29.351Z"
   },
   {
    "duration": 41,
    "start_time": "2022-02-18T14:07:29.494Z"
   },
   {
    "duration": 51,
    "start_time": "2022-02-18T14:07:29.537Z"
   },
   {
    "duration": 4,
    "start_time": "2022-02-18T14:07:29.590Z"
   },
   {
    "duration": 62,
    "start_time": "2022-02-18T14:07:29.596Z"
   },
   {
    "duration": 16,
    "start_time": "2022-02-18T14:07:29.660Z"
   },
   {
    "duration": 66,
    "start_time": "2022-02-18T14:07:29.678Z"
   },
   {
    "duration": 33,
    "start_time": "2022-02-18T14:07:29.746Z"
   },
   {
    "duration": 44,
    "start_time": "2022-02-18T14:07:29.781Z"
   },
   {
    "duration": 26,
    "start_time": "2022-02-18T14:07:29.828Z"
   },
   {
    "duration": 75,
    "start_time": "2022-02-18T14:07:29.856Z"
   },
   {
    "duration": 31,
    "start_time": "2022-02-18T14:07:29.933Z"
   },
   {
    "duration": 57,
    "start_time": "2022-02-18T14:07:29.966Z"
   },
   {
    "duration": 33,
    "start_time": "2022-02-18T14:07:30.025Z"
   },
   {
    "duration": 21,
    "start_time": "2022-02-18T14:07:30.061Z"
   },
   {
    "duration": 34,
    "start_time": "2022-02-18T14:07:30.087Z"
   },
   {
    "duration": 38,
    "start_time": "2022-02-18T14:07:30.124Z"
   },
   {
    "duration": 42,
    "start_time": "2022-02-18T14:07:30.164Z"
   },
   {
    "duration": 30,
    "start_time": "2022-02-18T14:07:30.208Z"
   },
   {
    "duration": 47,
    "start_time": "2022-02-18T14:07:30.240Z"
   },
   {
    "duration": 42,
    "start_time": "2022-02-18T14:07:30.290Z"
   },
   {
    "duration": 25,
    "start_time": "2022-02-18T14:07:30.334Z"
   },
   {
    "duration": 11,
    "start_time": "2022-02-18T14:07:30.361Z"
   },
   {
    "duration": 99,
    "start_time": "2022-02-18T14:07:30.374Z"
   },
   {
    "duration": 10,
    "start_time": "2022-02-18T14:07:30.475Z"
   },
   {
    "duration": 34,
    "start_time": "2022-02-18T14:07:30.487Z"
   },
   {
    "duration": 41,
    "start_time": "2022-02-18T14:07:30.524Z"
   },
   {
    "duration": 47,
    "start_time": "2022-02-18T14:07:30.567Z"
   },
   {
    "duration": 74,
    "start_time": "2022-02-18T14:07:30.616Z"
   },
   {
    "duration": 310,
    "start_time": "2022-02-18T14:07:30.693Z"
   },
   {
    "duration": 22,
    "start_time": "2022-02-18T14:07:31.005Z"
   },
   {
    "duration": 74,
    "start_time": "2022-02-18T14:07:31.029Z"
   },
   {
    "duration": 52,
    "start_time": "2022-02-18T14:07:31.105Z"
   },
   {
    "duration": 6,
    "start_time": "2022-02-18T14:07:31.160Z"
   },
   {
    "duration": 26,
    "start_time": "2022-02-18T14:07:31.168Z"
   },
   {
    "duration": 345,
    "start_time": "2022-02-18T14:07:31.196Z"
   },
   {
    "duration": 7,
    "start_time": "2022-02-18T14:07:31.543Z"
   },
   {
    "duration": 16,
    "start_time": "2022-02-18T14:07:31.551Z"
   },
   {
    "duration": 322,
    "start_time": "2022-02-18T14:07:31.569Z"
   },
   {
    "duration": 6,
    "start_time": "2022-02-18T14:07:31.893Z"
   },
   {
    "duration": 21,
    "start_time": "2022-02-18T14:07:31.901Z"
   },
   {
    "duration": 339,
    "start_time": "2022-02-18T14:07:31.925Z"
   },
   {
    "duration": 310,
    "start_time": "2022-02-18T14:07:32.266Z"
   },
   {
    "duration": 218,
    "start_time": "2022-02-18T14:07:32.578Z"
   },
   {
    "duration": 6,
    "start_time": "2022-02-18T14:07:32.798Z"
   },
   {
    "duration": 33,
    "start_time": "2022-02-18T14:07:32.805Z"
   },
   {
    "duration": 308,
    "start_time": "2022-02-18T14:07:32.840Z"
   },
   {
    "duration": 5,
    "start_time": "2022-02-18T14:07:33.150Z"
   },
   {
    "duration": 26,
    "start_time": "2022-02-18T14:07:33.157Z"
   },
   {
    "duration": 21,
    "start_time": "2022-02-18T14:07:33.186Z"
   },
   {
    "duration": 425,
    "start_time": "2022-02-18T14:07:33.220Z"
   },
   {
    "duration": 13,
    "start_time": "2022-02-18T14:07:33.647Z"
   },
   {
    "duration": 217,
    "start_time": "2022-02-18T14:07:33.662Z"
   },
   {
    "duration": 221,
    "start_time": "2022-02-18T14:07:33.881Z"
   },
   {
    "duration": 1286,
    "start_time": "2022-02-18T14:08:21.544Z"
   },
   {
    "duration": 29,
    "start_time": "2022-02-18T14:08:22.832Z"
   },
   {
    "duration": 177,
    "start_time": "2022-02-18T14:08:22.863Z"
   },
   {
    "duration": 108,
    "start_time": "2022-02-18T14:08:23.042Z"
   },
   {
    "duration": 152,
    "start_time": "2022-02-18T14:08:23.152Z"
   },
   {
    "duration": 16,
    "start_time": "2022-02-18T14:08:23.306Z"
   },
   {
    "duration": 13,
    "start_time": "2022-02-18T14:08:23.324Z"
   },
   {
    "duration": 8,
    "start_time": "2022-02-18T14:08:23.340Z"
   },
   {
    "duration": 4,
    "start_time": "2022-02-18T14:08:23.351Z"
   },
   {
    "duration": 12,
    "start_time": "2022-02-18T14:08:23.356Z"
   },
   {
    "duration": 51,
    "start_time": "2022-02-18T14:08:23.370Z"
   },
   {
    "duration": 123,
    "start_time": "2022-02-18T14:08:23.423Z"
   },
   {
    "duration": 41,
    "start_time": "2022-02-18T14:08:23.548Z"
   },
   {
    "duration": 85,
    "start_time": "2022-02-18T14:08:23.591Z"
   },
   {
    "duration": 5,
    "start_time": "2022-02-18T14:08:23.678Z"
   },
   {
    "duration": 56,
    "start_time": "2022-02-18T14:08:23.685Z"
   },
   {
    "duration": 16,
    "start_time": "2022-02-18T14:08:23.743Z"
   },
   {
    "duration": 76,
    "start_time": "2022-02-18T14:08:23.760Z"
   },
   {
    "duration": 45,
    "start_time": "2022-02-18T14:08:23.838Z"
   },
   {
    "duration": 48,
    "start_time": "2022-02-18T14:08:23.885Z"
   },
   {
    "duration": 30,
    "start_time": "2022-02-18T14:08:23.935Z"
   },
   {
    "duration": 110,
    "start_time": "2022-02-18T14:08:23.967Z"
   },
   {
    "duration": 44,
    "start_time": "2022-02-18T14:08:24.081Z"
   },
   {
    "duration": 39,
    "start_time": "2022-02-18T14:08:24.128Z"
   },
   {
    "duration": 28,
    "start_time": "2022-02-18T14:08:24.169Z"
   },
   {
    "duration": 18,
    "start_time": "2022-02-18T14:08:24.218Z"
   },
   {
    "duration": 7,
    "start_time": "2022-02-18T14:08:24.238Z"
   },
   {
    "duration": 17,
    "start_time": "2022-02-18T14:08:24.246Z"
   },
   {
    "duration": 22,
    "start_time": "2022-02-18T14:08:24.264Z"
   },
   {
    "duration": 48,
    "start_time": "2022-02-18T14:08:24.288Z"
   },
   {
    "duration": 24,
    "start_time": "2022-02-18T14:08:24.337Z"
   },
   {
    "duration": 26,
    "start_time": "2022-02-18T14:08:24.363Z"
   },
   {
    "duration": 32,
    "start_time": "2022-02-18T14:08:24.392Z"
   },
   {
    "duration": 5,
    "start_time": "2022-02-18T14:08:24.426Z"
   },
   {
    "duration": 50,
    "start_time": "2022-02-18T14:08:24.433Z"
   },
   {
    "duration": 36,
    "start_time": "2022-02-18T14:08:24.485Z"
   },
   {
    "duration": 6,
    "start_time": "2022-02-18T14:08:24.523Z"
   },
   {
    "duration": 7,
    "start_time": "2022-02-18T14:08:24.531Z"
   },
   {
    "duration": 8,
    "start_time": "2022-02-18T14:08:24.540Z"
   },
   {
    "duration": 10,
    "start_time": "2022-02-18T14:08:24.550Z"
   },
   {
    "duration": 268,
    "start_time": "2022-02-18T14:08:24.562Z"
   },
   {
    "duration": 11,
    "start_time": "2022-02-18T14:08:24.831Z"
   },
   {
    "duration": 53,
    "start_time": "2022-02-18T14:08:24.844Z"
   },
   {
    "duration": 60,
    "start_time": "2022-02-18T14:08:24.899Z"
   },
   {
    "duration": 6,
    "start_time": "2022-02-18T14:08:24.961Z"
   },
   {
    "duration": 12,
    "start_time": "2022-02-18T14:08:24.969Z"
   },
   {
    "duration": 341,
    "start_time": "2022-02-18T14:08:24.983Z"
   },
   {
    "duration": 7,
    "start_time": "2022-02-18T14:08:25.325Z"
   },
   {
    "duration": 20,
    "start_time": "2022-02-18T14:08:25.333Z"
   },
   {
    "duration": 324,
    "start_time": "2022-02-18T14:08:25.355Z"
   },
   {
    "duration": 6,
    "start_time": "2022-02-18T14:08:25.681Z"
   },
   {
    "duration": 14,
    "start_time": "2022-02-18T14:08:25.689Z"
   },
   {
    "duration": 342,
    "start_time": "2022-02-18T14:08:25.704Z"
   },
   {
    "duration": 310,
    "start_time": "2022-02-18T14:08:26.048Z"
   },
   {
    "duration": 272,
    "start_time": "2022-02-18T14:08:26.360Z"
   },
   {
    "duration": 6,
    "start_time": "2022-02-18T14:08:26.633Z"
   },
   {
    "duration": 8,
    "start_time": "2022-02-18T14:08:26.641Z"
   },
   {
    "duration": 328,
    "start_time": "2022-02-18T14:08:26.651Z"
   },
   {
    "duration": 6,
    "start_time": "2022-02-18T14:08:26.981Z"
   },
   {
    "duration": 32,
    "start_time": "2022-02-18T14:08:26.989Z"
   },
   {
    "duration": 16,
    "start_time": "2022-02-18T14:08:27.023Z"
   },
   {
    "duration": 538,
    "start_time": "2022-02-18T14:08:27.041Z"
   },
   {
    "duration": 18,
    "start_time": "2022-02-18T14:08:27.582Z"
   },
   {
    "duration": 1488,
    "start_time": "2022-02-18T23:30:12.053Z"
   },
   {
    "duration": 48,
    "start_time": "2022-02-18T23:30:13.543Z"
   },
   {
    "duration": 202,
    "start_time": "2022-02-18T23:30:13.593Z"
   },
   {
    "duration": 113,
    "start_time": "2022-02-18T23:30:13.798Z"
   },
   {
    "duration": 170,
    "start_time": "2022-02-18T23:30:13.914Z"
   },
   {
    "duration": 21,
    "start_time": "2022-02-18T23:30:14.086Z"
   },
   {
    "duration": 9,
    "start_time": "2022-02-18T23:30:14.110Z"
   },
   {
    "duration": 37,
    "start_time": "2022-02-18T23:30:14.123Z"
   },
   {
    "duration": 5,
    "start_time": "2022-02-18T23:30:14.163Z"
   },
   {
    "duration": 20,
    "start_time": "2022-02-18T23:30:14.171Z"
   },
   {
    "duration": 27,
    "start_time": "2022-02-18T23:30:14.194Z"
   },
   {
    "duration": 167,
    "start_time": "2022-02-18T23:30:14.223Z"
   },
   {
    "duration": 36,
    "start_time": "2022-02-18T23:30:14.393Z"
   },
   {
    "duration": 80,
    "start_time": "2022-02-18T23:30:14.431Z"
   },
   {
    "duration": 5,
    "start_time": "2022-02-18T23:30:14.514Z"
   },
   {
    "duration": 74,
    "start_time": "2022-02-18T23:30:14.521Z"
   },
   {
    "duration": 17,
    "start_time": "2022-02-18T23:30:14.598Z"
   },
   {
    "duration": 71,
    "start_time": "2022-02-18T23:30:14.618Z"
   },
   {
    "duration": 40,
    "start_time": "2022-02-18T23:30:14.691Z"
   },
   {
    "duration": 50,
    "start_time": "2022-02-18T23:30:14.734Z"
   },
   {
    "duration": 22,
    "start_time": "2022-02-18T23:30:14.786Z"
   },
   {
    "duration": 116,
    "start_time": "2022-02-18T23:30:14.811Z"
   },
   {
    "duration": 48,
    "start_time": "2022-02-18T23:30:14.932Z"
   },
   {
    "duration": 50,
    "start_time": "2022-02-18T23:30:14.983Z"
   },
   {
    "duration": 50,
    "start_time": "2022-02-18T23:30:15.035Z"
   },
   {
    "duration": 21,
    "start_time": "2022-02-18T23:30:15.088Z"
   },
   {
    "duration": 8,
    "start_time": "2022-02-18T23:30:15.112Z"
   },
   {
    "duration": 42,
    "start_time": "2022-02-18T23:30:15.122Z"
   },
   {
    "duration": 27,
    "start_time": "2022-02-18T23:30:15.167Z"
   },
   {
    "duration": 29,
    "start_time": "2022-02-18T23:30:15.196Z"
   },
   {
    "duration": 60,
    "start_time": "2022-02-18T23:30:15.228Z"
   },
   {
    "duration": 40,
    "start_time": "2022-02-18T23:30:15.290Z"
   },
   {
    "duration": 37,
    "start_time": "2022-02-18T23:30:15.332Z"
   },
   {
    "duration": 6,
    "start_time": "2022-02-18T23:30:15.371Z"
   },
   {
    "duration": 84,
    "start_time": "2022-02-18T23:30:15.379Z"
   },
   {
    "duration": 15,
    "start_time": "2022-02-18T23:30:15.465Z"
   },
   {
    "duration": 5,
    "start_time": "2022-02-18T23:30:15.482Z"
   },
   {
    "duration": 7,
    "start_time": "2022-02-18T23:30:15.490Z"
   },
   {
    "duration": 8,
    "start_time": "2022-02-18T23:30:15.499Z"
   },
   {
    "duration": 62,
    "start_time": "2022-02-18T23:30:15.509Z"
   },
   {
    "duration": 476,
    "start_time": "2022-02-18T23:30:15.574Z"
   },
   {
    "duration": 19,
    "start_time": "2022-02-18T23:30:16.052Z"
   },
   {
    "duration": 64,
    "start_time": "2022-02-18T23:30:16.074Z"
   },
   {
    "duration": 60,
    "start_time": "2022-02-18T23:30:16.162Z"
   },
   {
    "duration": 7,
    "start_time": "2022-02-18T23:30:16.225Z"
   },
   {
    "duration": 32,
    "start_time": "2022-02-18T23:30:16.234Z"
   },
   {
    "duration": 456,
    "start_time": "2022-02-18T23:30:16.268Z"
   },
   {
    "duration": 8,
    "start_time": "2022-02-18T23:30:16.727Z"
   },
   {
    "duration": 27,
    "start_time": "2022-02-18T23:30:16.737Z"
   },
   {
    "duration": 428,
    "start_time": "2022-02-18T23:30:16.766Z"
   },
   {
    "duration": 9,
    "start_time": "2022-02-18T23:30:17.196Z"
   },
   {
    "duration": 13,
    "start_time": "2022-02-18T23:30:17.207Z"
   },
   {
    "duration": 440,
    "start_time": "2022-02-18T23:30:17.222Z"
   },
   {
    "duration": 308,
    "start_time": "2022-02-18T23:30:17.664Z"
   },
   {
    "duration": 306,
    "start_time": "2022-02-18T23:30:17.976Z"
   },
   {
    "duration": 8,
    "start_time": "2022-02-18T23:30:18.286Z"
   },
   {
    "duration": 9,
    "start_time": "2022-02-18T23:30:18.297Z"
   },
   {
    "duration": 444,
    "start_time": "2022-02-18T23:30:18.309Z"
   },
   {
    "duration": 14,
    "start_time": "2022-02-18T23:30:18.755Z"
   },
   {
    "duration": 23,
    "start_time": "2022-02-18T23:30:18.772Z"
   },
   {
    "duration": 64,
    "start_time": "2022-02-18T23:30:18.798Z"
   },
   {
    "duration": 513,
    "start_time": "2022-02-18T23:30:18.865Z"
   },
   {
    "duration": 18,
    "start_time": "2022-02-18T23:30:19.381Z"
   }
  ],
  "kernelspec": {
   "display_name": "Python 3 (ipykernel)",
   "language": "python",
   "name": "python3"
  },
  "language_info": {
   "codemirror_mode": {
    "name": "ipython",
    "version": 3
   },
   "file_extension": ".py",
   "mimetype": "text/x-python",
   "name": "python",
   "nbconvert_exporter": "python",
   "pygments_lexer": "ipython3",
   "version": "3.9.5"
  },
  "toc": {
   "base_numbering": 1,
   "nav_menu": {},
   "number_sections": true,
   "sideBar": true,
   "skip_h1_title": true,
   "title_cell": "Содержание",
   "title_sidebar": "Contents",
   "toc_cell": true,
   "toc_position": {
    "height": "calc(100% - 180px)",
    "left": "10px",
    "top": "150px",
    "width": "323.388px"
   },
   "toc_section_display": true,
   "toc_window_display": true
  }
 },
 "nbformat": 4,
 "nbformat_minor": 2
}

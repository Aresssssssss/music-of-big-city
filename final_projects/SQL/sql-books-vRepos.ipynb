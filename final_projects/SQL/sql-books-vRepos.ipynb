{
 "cells": [
  {
   "cell_type": "markdown",
   "metadata": {
    "toc": true
   },
   "source": [
    "<h1>Содержание<span class=\"tocSkip\"></span></h1>\n",
    "<div class=\"toc\"><ul class=\"toc-item\"><li><ul class=\"toc-item\"><li><span><a href=\"#Комментарий-ревьюера.\" data-toc-modified-id=\"Комментарий-ревьюера.-0.1\"><span class=\"toc-item-num\">0.1&nbsp;&nbsp;</span>Комментарий ревьюера.</a></span></li></ul></li><li><span><a href=\"#Знакомство-с-данными\" data-toc-modified-id=\"Знакомство-с-данными-1\"><span class=\"toc-item-num\">1&nbsp;&nbsp;</span>Знакомство с данными</a></span><ul class=\"toc-item\"><li><span><a href=\"#Исследование-таблицы-books\" data-toc-modified-id=\"Исследование-таблицы-books-1.1\"><span class=\"toc-item-num\">1.1&nbsp;&nbsp;</span>Исследование таблицы <code>books</code></a></span></li><li><span><a href=\"#Исследование-таблицы-authors\" data-toc-modified-id=\"Исследование-таблицы-authors-1.2\"><span class=\"toc-item-num\">1.2&nbsp;&nbsp;</span>Исследование таблицы <code>authors</code></a></span></li><li><span><a href=\"#Исследование-таблицы-publishers\" data-toc-modified-id=\"Исследование-таблицы-publishers-1.3\"><span class=\"toc-item-num\">1.3&nbsp;&nbsp;</span>Исследование таблицы <code>publishers</code></a></span></li><li><span><a href=\"#Исследование-таблицы-ratings\" data-toc-modified-id=\"Исследование-таблицы-ratings-1.4\"><span class=\"toc-item-num\">1.4&nbsp;&nbsp;</span>Исследование таблицы <code>ratings</code></a></span></li><li><span><a href=\"#Исследование-таблицы-reviews\" data-toc-modified-id=\"Исследование-таблицы-reviews-1.5\"><span class=\"toc-item-num\">1.5&nbsp;&nbsp;</span>Исследование таблицы <code>reviews</code></a></span></li><li><span><a href=\"#Вывод-по-исследованию-данных\" data-toc-modified-id=\"Вывод-по-исследованию-данных-1.6\"><span class=\"toc-item-num\">1.6&nbsp;&nbsp;</span>Вывод по исследованию данных</a></span></li></ul></li><li><span><a href=\"#Анализ-данных\" data-toc-modified-id=\"Анализ-данных-2\"><span class=\"toc-item-num\">2&nbsp;&nbsp;</span>Анализ данных</a></span><ul class=\"toc-item\"><li><span><a href=\"#Количество-книг,-которые-вышли-после-1-января-2000-года\" data-toc-modified-id=\"Количество-книг,-которые-вышли-после-1-января-2000-года-2.1\"><span class=\"toc-item-num\">2.1&nbsp;&nbsp;</span>Количество книг, которые вышли после 1 января 2000 года</a></span></li><li><span><a href=\"#Количество-обзоров-и-средняя-оценка-для-каждой-книги\" data-toc-modified-id=\"Количество-обзоров-и-средняя-оценка-для-каждой-книги-2.2\"><span class=\"toc-item-num\">2.2&nbsp;&nbsp;</span>Количество обзоров и средняя оценка для каждой книги</a></span></li><li><span><a href=\"#Издательство,-которое-выпустило-наибольшее-число-книг-толще-50-страниц\" data-toc-modified-id=\"Издательство,-которое-выпустило-наибольшее-число-книг-толще-50-страниц-2.3\"><span class=\"toc-item-num\">2.3&nbsp;&nbsp;</span>Издательство, которое выпустило наибольшее число книг толще 50 страниц</a></span></li><li><span><a href=\"#Автор-с-самой-высокой-средней-оценкой-книг\" data-toc-modified-id=\"Автор-с-самой-высокой-средней-оценкой-книг-2.4\"><span class=\"toc-item-num\">2.4&nbsp;&nbsp;</span>Автор с самой высокой средней оценкой книг</a></span></li><li><span><a href=\"#Среднее-количество-обзоров-от-пользователей,-которые-поставили-больше-50-оценок\" data-toc-modified-id=\"Среднее-количество-обзоров-от-пользователей,-которые-поставили-больше-50-оценок-2.5\"><span class=\"toc-item-num\">2.5&nbsp;&nbsp;</span>Среднее количество обзоров от пользователей, которые поставили больше 50 оценок</a></span></li><li><span><a href=\"#Вывод-по-анализу-данных\" data-toc-modified-id=\"Вывод-по-анализу-данных-2.6\"><span class=\"toc-item-num\">2.6&nbsp;&nbsp;</span>Вывод по анализу данных</a></span></li></ul></li><li><span><a href=\"#Общий-вывод\" data-toc-modified-id=\"Общий-вывод-3\"><span class=\"toc-item-num\">3&nbsp;&nbsp;</span>Общий вывод</a></span><ul class=\"toc-item\"><li><span><a href=\"#Проделанная-работа\" data-toc-modified-id=\"Проделанная-работа-3.1\"><span class=\"toc-item-num\">3.1&nbsp;&nbsp;</span>Проделанная работа</a></span></li><li><span><a href=\"#Общие-выводы\" data-toc-modified-id=\"Общие-выводы-3.2\"><span class=\"toc-item-num\">3.2&nbsp;&nbsp;</span>Общие выводы</a></span></li><li><span><a href=\"#Рекомендации\" data-toc-modified-id=\"Рекомендации-3.3\"><span class=\"toc-item-num\">3.3&nbsp;&nbsp;</span>Рекомендации</a></span></li></ul></li></ul></div>"
   ]
  },
  {
   "cell_type": "markdown",
   "metadata": {},
   "source": [
    "# Анализ базы данных с помощью SQL-запросов"
   ]
  },
  {
   "cell_type": "markdown",
   "metadata": {},
   "source": [
    "Коронавирус застал мир врасплох, изменив привычный порядок вещей. В свободное время жители городов больше не выходят на улицу, не посещают кафе и торговые центры. Зато стало больше времени для книг. Это заметили стартаперы — и бросились создавать приложения для тех, кто любит читать.\n",
    "\n",
    "Наша компания решила быть на волне и купила крупный сервис для чтения книг по подписке.В базе данных содержится информация о книгах, издательствах, авторах, а также пользовательские обзоры книг. Эти данные помогут сформулировать ценностное предложение для нового продукта.\n",
    "\n",
    "**Цель исследования**: провести анализ базы данных, используюя язык запросов SQL.\n",
    "\n",
    "**Описание данных**\n",
    "\n",
    "1. Таблица `books` содержит данные о книгах:\n",
    "- _book_id_ — идентификатор книги;\n",
    "- _author_id_ — идентификатор автора;\n",
    "- _title_ — название книги;\n",
    "- _num_pages_ — количество страниц;\n",
    "- _publication_date_ — дата публикации книги;\n",
    "- _publisher_id_ — идентификатор издателя.\n",
    "2. Таблица `authors` содержит данные об авторах:\n",
    "- _author_id_ — идентификатор автора;\n",
    "- _author_ — имя автора.\n",
    "3. Таблица `publishers` содержит данные об издательствах:\n",
    "- _publisher_id_ — идентификатор издательства;\n",
    "- _publisher_ — название издательства;\n",
    "4. Таблица `ratings` содержит данные о пользовательских оценках книг:\n",
    "- _rating_id_ — идентификатор оценки;\n",
    "- _book_id_ — идентификатор книги;\n",
    "- _username_ — имя пользователя, оставившего оценку;\n",
    "- _rating_ — оценка книги.\n",
    "5. Таблица `reviews` содержит данные о пользовательских обзорах:\n",
    "- _review_id_ — идентификатор обзора;\n",
    "- _book_id_ — идентификатор книги;\n",
    "- _username_ — имя автора обзора;\n",
    "- _text_ — текст обзора."
   ]
  },
  {
   "cell_type": "markdown",
   "metadata": {},
   "source": [
    "## Знакомство с данными"
   ]
  },
  {
   "cell_type": "markdown",
   "metadata": {},
   "source": [
    "Перед началом работы с данными импортируем все необходимые библиотеки:"
   ]
  },
  {
   "cell_type": "code",
   "execution_count": 1,
   "metadata": {},
   "outputs": [],
   "source": [
    "import pandas as pd\n",
    "from sqlalchemy import create_engine"
   ]
  },
  {
   "cell_type": "markdown",
   "metadata": {},
   "source": [
    "Зададим настройки отображения:"
   ]
  },
  {
   "cell_type": "code",
   "execution_count": 2,
   "metadata": {},
   "outputs": [],
   "source": [
    "pd.set_option('display.max_columns', None)\n",
    "pd.set_option('display.float_format', '{:.2f}'.format)\n",
    "pd.set_option(\"max_colwidth\", 500)"
   ]
  },
  {
   "cell_type": "markdown",
   "metadata": {},
   "source": [
    "Установим параметры подключения к базе данных:"
   ]
  },
  {
   "cell_type": "code",
   "execution_count": 3,
   "metadata": {},
   "outputs": [],
   "source": [
    "db_config = {'user': 'praktikum_student', # имя пользователя\n",
    "             'pwd': 'Sdf4$2;d-d30pp', # пароль\n",
    "             'host': 'rc1b-wcoijxj3yxfsf3fs.mdb.yandexcloud.net',\n",
    "             'port': 6432, # порт подключения\n",
    "             'db': 'data-analyst-final-project-db'} # название базы данных\n",
    "connection_string = 'postgresql://{}:{}@{}:{}/{}'.format(db_config['user'],\n",
    "                                                         db_config['pwd'],\n",
    "                                                         db_config['host'],\n",
    "                                                         db_config['port'],\n",
    "                                                         db_config['db'])"
   ]
  },
  {
   "cell_type": "markdown",
   "metadata": {},
   "source": [
    "Сохраним коннектор в переменной _engine_:"
   ]
  },
  {
   "cell_type": "code",
   "execution_count": 4,
   "metadata": {},
   "outputs": [],
   "source": [
    "engine = create_engine(connection_string, connect_args={'sslmode':'require'})"
   ]
  },
  {
   "cell_type": "markdown",
   "metadata": {},
   "source": [
    "Напишем функцию для вывода на экран первых 10 строк таблицы:"
   ]
  },
  {
   "cell_type": "code",
   "execution_count": 5,
   "metadata": {},
   "outputs": [],
   "source": [
    "def table_info(table):\n",
    "    \"\"\"Display information about the table\"\"\"\n",
    "    \n",
    "    print('Первые 10 строк таблицы:')\n",
    "    display(pd.io.sql.read_sql('''SELECT *\n",
    "                                  FROM {} \n",
    "                                  LIMIT 10'''.format(table), con = engine))"
   ]
  },
  {
   "cell_type": "markdown",
   "metadata": {},
   "source": [
    "### Исследование таблицы `books`"
   ]
  },
  {
   "cell_type": "markdown",
   "metadata": {},
   "source": [
    "С помощью функции _table_info_ выведем на экран первые 10 строк таблицы `books`:"
   ]
  },
  {
   "cell_type": "code",
   "execution_count": 6,
   "metadata": {},
   "outputs": [
    {
     "name": "stdout",
     "output_type": "stream",
     "text": [
      "Первые 10 строк таблицы:\n"
     ]
    },
    {
     "data": {
      "text/html": [
       "<div>\n",
       "<style scoped>\n",
       "    .dataframe tbody tr th:only-of-type {\n",
       "        vertical-align: middle;\n",
       "    }\n",
       "\n",
       "    .dataframe tbody tr th {\n",
       "        vertical-align: top;\n",
       "    }\n",
       "\n",
       "    .dataframe thead th {\n",
       "        text-align: right;\n",
       "    }\n",
       "</style>\n",
       "<table border=\"1\" class=\"dataframe\">\n",
       "  <thead>\n",
       "    <tr style=\"text-align: right;\">\n",
       "      <th></th>\n",
       "      <th>book_id</th>\n",
       "      <th>author_id</th>\n",
       "      <th>title</th>\n",
       "      <th>num_pages</th>\n",
       "      <th>publication_date</th>\n",
       "      <th>publisher_id</th>\n",
       "    </tr>\n",
       "  </thead>\n",
       "  <tbody>\n",
       "    <tr>\n",
       "      <th>0</th>\n",
       "      <td>1</td>\n",
       "      <td>546</td>\n",
       "      <td>'Salem's Lot</td>\n",
       "      <td>594</td>\n",
       "      <td>2005-11-01</td>\n",
       "      <td>93</td>\n",
       "    </tr>\n",
       "    <tr>\n",
       "      <th>1</th>\n",
       "      <td>2</td>\n",
       "      <td>465</td>\n",
       "      <td>1 000 Places to See Before You Die</td>\n",
       "      <td>992</td>\n",
       "      <td>2003-05-22</td>\n",
       "      <td>336</td>\n",
       "    </tr>\n",
       "    <tr>\n",
       "      <th>2</th>\n",
       "      <td>3</td>\n",
       "      <td>407</td>\n",
       "      <td>13 Little Blue Envelopes (Little Blue Envelope  #1)</td>\n",
       "      <td>322</td>\n",
       "      <td>2010-12-21</td>\n",
       "      <td>135</td>\n",
       "    </tr>\n",
       "    <tr>\n",
       "      <th>3</th>\n",
       "      <td>4</td>\n",
       "      <td>82</td>\n",
       "      <td>1491: New Revelations of the Americas Before Columbus</td>\n",
       "      <td>541</td>\n",
       "      <td>2006-10-10</td>\n",
       "      <td>309</td>\n",
       "    </tr>\n",
       "    <tr>\n",
       "      <th>4</th>\n",
       "      <td>5</td>\n",
       "      <td>125</td>\n",
       "      <td>1776</td>\n",
       "      <td>386</td>\n",
       "      <td>2006-07-04</td>\n",
       "      <td>268</td>\n",
       "    </tr>\n",
       "    <tr>\n",
       "      <th>5</th>\n",
       "      <td>6</td>\n",
       "      <td>257</td>\n",
       "      <td>1st to Die (Women's Murder Club  #1)</td>\n",
       "      <td>424</td>\n",
       "      <td>2005-05-20</td>\n",
       "      <td>116</td>\n",
       "    </tr>\n",
       "    <tr>\n",
       "      <th>6</th>\n",
       "      <td>7</td>\n",
       "      <td>258</td>\n",
       "      <td>2nd Chance (Women's Murder Club  #2)</td>\n",
       "      <td>400</td>\n",
       "      <td>2005-05-20</td>\n",
       "      <td>116</td>\n",
       "    </tr>\n",
       "    <tr>\n",
       "      <th>7</th>\n",
       "      <td>8</td>\n",
       "      <td>260</td>\n",
       "      <td>4th of July (Women's Murder Club  #4)</td>\n",
       "      <td>448</td>\n",
       "      <td>2006-06-01</td>\n",
       "      <td>318</td>\n",
       "    </tr>\n",
       "    <tr>\n",
       "      <th>8</th>\n",
       "      <td>9</td>\n",
       "      <td>563</td>\n",
       "      <td>A Beautiful Mind</td>\n",
       "      <td>461</td>\n",
       "      <td>2002-02-04</td>\n",
       "      <td>104</td>\n",
       "    </tr>\n",
       "    <tr>\n",
       "      <th>9</th>\n",
       "      <td>10</td>\n",
       "      <td>445</td>\n",
       "      <td>A Bend in the Road</td>\n",
       "      <td>341</td>\n",
       "      <td>2005-04-01</td>\n",
       "      <td>116</td>\n",
       "    </tr>\n",
       "  </tbody>\n",
       "</table>\n",
       "</div>"
      ],
      "text/plain": [
       "   book_id  author_id                                                  title  \\\n",
       "0        1        546                                           'Salem's Lot   \n",
       "1        2        465                     1 000 Places to See Before You Die   \n",
       "2        3        407    13 Little Blue Envelopes (Little Blue Envelope  #1)   \n",
       "3        4         82  1491: New Revelations of the Americas Before Columbus   \n",
       "4        5        125                                                   1776   \n",
       "5        6        257                   1st to Die (Women's Murder Club  #1)   \n",
       "6        7        258                   2nd Chance (Women's Murder Club  #2)   \n",
       "7        8        260                  4th of July (Women's Murder Club  #4)   \n",
       "8        9        563                                       A Beautiful Mind   \n",
       "9       10        445                                     A Bend in the Road   \n",
       "\n",
       "   num_pages publication_date  publisher_id  \n",
       "0        594       2005-11-01            93  \n",
       "1        992       2003-05-22           336  \n",
       "2        322       2010-12-21           135  \n",
       "3        541       2006-10-10           309  \n",
       "4        386       2006-07-04           268  \n",
       "5        424       2005-05-20           116  \n",
       "6        400       2005-05-20           116  \n",
       "7        448       2006-06-01           318  \n",
       "8        461       2002-02-04           104  \n",
       "9        341       2005-04-01           116  "
      ]
     },
     "metadata": {},
     "output_type": "display_data"
    }
   ],
   "source": [
    "table_info('books')"
   ]
  },
  {
   "cell_type": "markdown",
   "metadata": {},
   "source": [
    "### Исследование таблицы `authors`"
   ]
  },
  {
   "cell_type": "markdown",
   "metadata": {},
   "source": [
    "С помощью функции _table_info_ выведем на экран первые 10 строк таблицы `authors`:"
   ]
  },
  {
   "cell_type": "code",
   "execution_count": 7,
   "metadata": {},
   "outputs": [
    {
     "name": "stdout",
     "output_type": "stream",
     "text": [
      "Первые 10 строк таблицы:\n"
     ]
    },
    {
     "data": {
      "text/html": [
       "<div>\n",
       "<style scoped>\n",
       "    .dataframe tbody tr th:only-of-type {\n",
       "        vertical-align: middle;\n",
       "    }\n",
       "\n",
       "    .dataframe tbody tr th {\n",
       "        vertical-align: top;\n",
       "    }\n",
       "\n",
       "    .dataframe thead th {\n",
       "        text-align: right;\n",
       "    }\n",
       "</style>\n",
       "<table border=\"1\" class=\"dataframe\">\n",
       "  <thead>\n",
       "    <tr style=\"text-align: right;\">\n",
       "      <th></th>\n",
       "      <th>author_id</th>\n",
       "      <th>author</th>\n",
       "    </tr>\n",
       "  </thead>\n",
       "  <tbody>\n",
       "    <tr>\n",
       "      <th>0</th>\n",
       "      <td>1</td>\n",
       "      <td>A.S. Byatt</td>\n",
       "    </tr>\n",
       "    <tr>\n",
       "      <th>1</th>\n",
       "      <td>2</td>\n",
       "      <td>Aesop/Laura Harris/Laura Gibbs</td>\n",
       "    </tr>\n",
       "    <tr>\n",
       "      <th>2</th>\n",
       "      <td>3</td>\n",
       "      <td>Agatha Christie</td>\n",
       "    </tr>\n",
       "    <tr>\n",
       "      <th>3</th>\n",
       "      <td>4</td>\n",
       "      <td>Alan Brennert</td>\n",
       "    </tr>\n",
       "    <tr>\n",
       "      <th>4</th>\n",
       "      <td>5</td>\n",
       "      <td>Alan Moore/David   Lloyd</td>\n",
       "    </tr>\n",
       "    <tr>\n",
       "      <th>5</th>\n",
       "      <td>6</td>\n",
       "      <td>Alan Paton</td>\n",
       "    </tr>\n",
       "    <tr>\n",
       "      <th>6</th>\n",
       "      <td>7</td>\n",
       "      <td>Albert Camus/Justin O'Brien</td>\n",
       "    </tr>\n",
       "    <tr>\n",
       "      <th>7</th>\n",
       "      <td>8</td>\n",
       "      <td>Aldous Huxley</td>\n",
       "    </tr>\n",
       "    <tr>\n",
       "      <th>8</th>\n",
       "      <td>9</td>\n",
       "      <td>Aldous Huxley/Christopher Hitchens</td>\n",
       "    </tr>\n",
       "    <tr>\n",
       "      <th>9</th>\n",
       "      <td>10</td>\n",
       "      <td>Aleksandr Solzhenitsyn/H.T. Willetts</td>\n",
       "    </tr>\n",
       "  </tbody>\n",
       "</table>\n",
       "</div>"
      ],
      "text/plain": [
       "   author_id                                author\n",
       "0          1                            A.S. Byatt\n",
       "1          2        Aesop/Laura Harris/Laura Gibbs\n",
       "2          3                       Agatha Christie\n",
       "3          4                         Alan Brennert\n",
       "4          5              Alan Moore/David   Lloyd\n",
       "5          6                            Alan Paton\n",
       "6          7           Albert Camus/Justin O'Brien\n",
       "7          8                         Aldous Huxley\n",
       "8          9    Aldous Huxley/Christopher Hitchens\n",
       "9         10  Aleksandr Solzhenitsyn/H.T. Willetts"
      ]
     },
     "metadata": {},
     "output_type": "display_data"
    }
   ],
   "source": [
    "table_info('authors')"
   ]
  },
  {
   "cell_type": "markdown",
   "metadata": {},
   "source": [
    "### Исследование таблицы `publishers`"
   ]
  },
  {
   "cell_type": "markdown",
   "metadata": {},
   "source": [
    "С помощью функции _table_info_ выведем на экран первые 10 строк таблицы `publishers`:"
   ]
  },
  {
   "cell_type": "code",
   "execution_count": 8,
   "metadata": {},
   "outputs": [
    {
     "name": "stdout",
     "output_type": "stream",
     "text": [
      "Первые 10 строк таблицы:\n"
     ]
    },
    {
     "data": {
      "text/html": [
       "<div>\n",
       "<style scoped>\n",
       "    .dataframe tbody tr th:only-of-type {\n",
       "        vertical-align: middle;\n",
       "    }\n",
       "\n",
       "    .dataframe tbody tr th {\n",
       "        vertical-align: top;\n",
       "    }\n",
       "\n",
       "    .dataframe thead th {\n",
       "        text-align: right;\n",
       "    }\n",
       "</style>\n",
       "<table border=\"1\" class=\"dataframe\">\n",
       "  <thead>\n",
       "    <tr style=\"text-align: right;\">\n",
       "      <th></th>\n",
       "      <th>publisher_id</th>\n",
       "      <th>publisher</th>\n",
       "    </tr>\n",
       "  </thead>\n",
       "  <tbody>\n",
       "    <tr>\n",
       "      <th>0</th>\n",
       "      <td>1</td>\n",
       "      <td>Ace</td>\n",
       "    </tr>\n",
       "    <tr>\n",
       "      <th>1</th>\n",
       "      <td>2</td>\n",
       "      <td>Ace Book</td>\n",
       "    </tr>\n",
       "    <tr>\n",
       "      <th>2</th>\n",
       "      <td>3</td>\n",
       "      <td>Ace Books</td>\n",
       "    </tr>\n",
       "    <tr>\n",
       "      <th>3</th>\n",
       "      <td>4</td>\n",
       "      <td>Ace Hardcover</td>\n",
       "    </tr>\n",
       "    <tr>\n",
       "      <th>4</th>\n",
       "      <td>5</td>\n",
       "      <td>Addison Wesley Publishing Company</td>\n",
       "    </tr>\n",
       "    <tr>\n",
       "      <th>5</th>\n",
       "      <td>6</td>\n",
       "      <td>Aladdin</td>\n",
       "    </tr>\n",
       "    <tr>\n",
       "      <th>6</th>\n",
       "      <td>7</td>\n",
       "      <td>Aladdin Paperbacks</td>\n",
       "    </tr>\n",
       "    <tr>\n",
       "      <th>7</th>\n",
       "      <td>8</td>\n",
       "      <td>Albin Michel</td>\n",
       "    </tr>\n",
       "    <tr>\n",
       "      <th>8</th>\n",
       "      <td>9</td>\n",
       "      <td>Alfred A. Knopf</td>\n",
       "    </tr>\n",
       "    <tr>\n",
       "      <th>9</th>\n",
       "      <td>10</td>\n",
       "      <td>Alfred A. Knopf Books for Young Readers</td>\n",
       "    </tr>\n",
       "  </tbody>\n",
       "</table>\n",
       "</div>"
      ],
      "text/plain": [
       "   publisher_id                                publisher\n",
       "0             1                                      Ace\n",
       "1             2                                 Ace Book\n",
       "2             3                                Ace Books\n",
       "3             4                            Ace Hardcover\n",
       "4             5        Addison Wesley Publishing Company\n",
       "5             6                                  Aladdin\n",
       "6             7                       Aladdin Paperbacks\n",
       "7             8                             Albin Michel\n",
       "8             9                          Alfred A. Knopf\n",
       "9            10  Alfred A. Knopf Books for Young Readers"
      ]
     },
     "metadata": {},
     "output_type": "display_data"
    }
   ],
   "source": [
    "table_info('publishers')"
   ]
  },
  {
   "cell_type": "markdown",
   "metadata": {},
   "source": [
    "### Исследование таблицы `ratings`"
   ]
  },
  {
   "cell_type": "markdown",
   "metadata": {},
   "source": [
    "С помощью функции _table_info_ выведем на экран первые 10 строк таблицы `ratings`:"
   ]
  },
  {
   "cell_type": "code",
   "execution_count": 9,
   "metadata": {},
   "outputs": [
    {
     "name": "stdout",
     "output_type": "stream",
     "text": [
      "Первые 10 строк таблицы:\n"
     ]
    },
    {
     "data": {
      "text/html": [
       "<div>\n",
       "<style scoped>\n",
       "    .dataframe tbody tr th:only-of-type {\n",
       "        vertical-align: middle;\n",
       "    }\n",
       "\n",
       "    .dataframe tbody tr th {\n",
       "        vertical-align: top;\n",
       "    }\n",
       "\n",
       "    .dataframe thead th {\n",
       "        text-align: right;\n",
       "    }\n",
       "</style>\n",
       "<table border=\"1\" class=\"dataframe\">\n",
       "  <thead>\n",
       "    <tr style=\"text-align: right;\">\n",
       "      <th></th>\n",
       "      <th>rating_id</th>\n",
       "      <th>book_id</th>\n",
       "      <th>username</th>\n",
       "      <th>rating</th>\n",
       "    </tr>\n",
       "  </thead>\n",
       "  <tbody>\n",
       "    <tr>\n",
       "      <th>0</th>\n",
       "      <td>1</td>\n",
       "      <td>1</td>\n",
       "      <td>ryanfranco</td>\n",
       "      <td>4</td>\n",
       "    </tr>\n",
       "    <tr>\n",
       "      <th>1</th>\n",
       "      <td>2</td>\n",
       "      <td>1</td>\n",
       "      <td>grantpatricia</td>\n",
       "      <td>2</td>\n",
       "    </tr>\n",
       "    <tr>\n",
       "      <th>2</th>\n",
       "      <td>3</td>\n",
       "      <td>1</td>\n",
       "      <td>brandtandrea</td>\n",
       "      <td>5</td>\n",
       "    </tr>\n",
       "    <tr>\n",
       "      <th>3</th>\n",
       "      <td>4</td>\n",
       "      <td>2</td>\n",
       "      <td>lorichen</td>\n",
       "      <td>3</td>\n",
       "    </tr>\n",
       "    <tr>\n",
       "      <th>4</th>\n",
       "      <td>5</td>\n",
       "      <td>2</td>\n",
       "      <td>mariokeller</td>\n",
       "      <td>2</td>\n",
       "    </tr>\n",
       "    <tr>\n",
       "      <th>5</th>\n",
       "      <td>6</td>\n",
       "      <td>3</td>\n",
       "      <td>johnsonamanda</td>\n",
       "      <td>4</td>\n",
       "    </tr>\n",
       "    <tr>\n",
       "      <th>6</th>\n",
       "      <td>7</td>\n",
       "      <td>3</td>\n",
       "      <td>scotttamara</td>\n",
       "      <td>5</td>\n",
       "    </tr>\n",
       "    <tr>\n",
       "      <th>7</th>\n",
       "      <td>8</td>\n",
       "      <td>3</td>\n",
       "      <td>lesliegibbs</td>\n",
       "      <td>5</td>\n",
       "    </tr>\n",
       "    <tr>\n",
       "      <th>8</th>\n",
       "      <td>9</td>\n",
       "      <td>4</td>\n",
       "      <td>abbottjames</td>\n",
       "      <td>5</td>\n",
       "    </tr>\n",
       "    <tr>\n",
       "      <th>9</th>\n",
       "      <td>10</td>\n",
       "      <td>4</td>\n",
       "      <td>valenciaanne</td>\n",
       "      <td>4</td>\n",
       "    </tr>\n",
       "  </tbody>\n",
       "</table>\n",
       "</div>"
      ],
      "text/plain": [
       "   rating_id  book_id       username  rating\n",
       "0          1        1     ryanfranco       4\n",
       "1          2        1  grantpatricia       2\n",
       "2          3        1   brandtandrea       5\n",
       "3          4        2       lorichen       3\n",
       "4          5        2    mariokeller       2\n",
       "5          6        3  johnsonamanda       4\n",
       "6          7        3    scotttamara       5\n",
       "7          8        3    lesliegibbs       5\n",
       "8          9        4    abbottjames       5\n",
       "9         10        4   valenciaanne       4"
      ]
     },
     "metadata": {},
     "output_type": "display_data"
    }
   ],
   "source": [
    "table_info('ratings')"
   ]
  },
  {
   "cell_type": "markdown",
   "metadata": {},
   "source": [
    "### Исследование таблицы `reviews`"
   ]
  },
  {
   "cell_type": "markdown",
   "metadata": {},
   "source": [
    "С помощью функции _table_info_ выведем на экран первые 10 строк таблицы `reviews`:"
   ]
  },
  {
   "cell_type": "code",
   "execution_count": 10,
   "metadata": {},
   "outputs": [
    {
     "name": "stdout",
     "output_type": "stream",
     "text": [
      "Первые 10 строк таблицы:\n"
     ]
    },
    {
     "data": {
      "text/html": [
       "<div>\n",
       "<style scoped>\n",
       "    .dataframe tbody tr th:only-of-type {\n",
       "        vertical-align: middle;\n",
       "    }\n",
       "\n",
       "    .dataframe tbody tr th {\n",
       "        vertical-align: top;\n",
       "    }\n",
       "\n",
       "    .dataframe thead th {\n",
       "        text-align: right;\n",
       "    }\n",
       "</style>\n",
       "<table border=\"1\" class=\"dataframe\">\n",
       "  <thead>\n",
       "    <tr style=\"text-align: right;\">\n",
       "      <th></th>\n",
       "      <th>review_id</th>\n",
       "      <th>book_id</th>\n",
       "      <th>username</th>\n",
       "      <th>text</th>\n",
       "    </tr>\n",
       "  </thead>\n",
       "  <tbody>\n",
       "    <tr>\n",
       "      <th>0</th>\n",
       "      <td>1</td>\n",
       "      <td>1</td>\n",
       "      <td>brandtandrea</td>\n",
       "      <td>Mention society tell send professor analysis. Over provide race technology continue these.</td>\n",
       "    </tr>\n",
       "    <tr>\n",
       "      <th>1</th>\n",
       "      <td>2</td>\n",
       "      <td>1</td>\n",
       "      <td>ryanfranco</td>\n",
       "      <td>Foot glass pretty audience hit themselves. Among admit investment argue security.</td>\n",
       "    </tr>\n",
       "    <tr>\n",
       "      <th>2</th>\n",
       "      <td>3</td>\n",
       "      <td>2</td>\n",
       "      <td>lorichen</td>\n",
       "      <td>Listen treat keep worry. Miss husband tax but person sport treatment industry. Kitchen decision deep the. Social party body the.</td>\n",
       "    </tr>\n",
       "    <tr>\n",
       "      <th>3</th>\n",
       "      <td>4</td>\n",
       "      <td>3</td>\n",
       "      <td>johnsonamanda</td>\n",
       "      <td>Finally month interesting blue could nature cultural bit. Prepare beat finish grow that smile teach. Dream me play near.</td>\n",
       "    </tr>\n",
       "    <tr>\n",
       "      <th>4</th>\n",
       "      <td>5</td>\n",
       "      <td>3</td>\n",
       "      <td>scotttamara</td>\n",
       "      <td>Nation purpose heavy give wait song will. List dinner another whole positive radio fast. Music staff many green.</td>\n",
       "    </tr>\n",
       "    <tr>\n",
       "      <th>5</th>\n",
       "      <td>6</td>\n",
       "      <td>3</td>\n",
       "      <td>lesliegibbs</td>\n",
       "      <td>Analysis no several cause international.</td>\n",
       "    </tr>\n",
       "    <tr>\n",
       "      <th>6</th>\n",
       "      <td>7</td>\n",
       "      <td>4</td>\n",
       "      <td>valenciaanne</td>\n",
       "      <td>One there cost another. Say type save. With personal where occur direction foot. Half sit role want.</td>\n",
       "    </tr>\n",
       "    <tr>\n",
       "      <th>7</th>\n",
       "      <td>8</td>\n",
       "      <td>4</td>\n",
       "      <td>abbottjames</td>\n",
       "      <td>Within enough mother. There at system full recent play recognize.</td>\n",
       "    </tr>\n",
       "    <tr>\n",
       "      <th>8</th>\n",
       "      <td>9</td>\n",
       "      <td>5</td>\n",
       "      <td>npowers</td>\n",
       "      <td>Thank now focus realize economy focus fly. Item step fine war. Western service history anything.</td>\n",
       "    </tr>\n",
       "    <tr>\n",
       "      <th>9</th>\n",
       "      <td>10</td>\n",
       "      <td>5</td>\n",
       "      <td>staylor</td>\n",
       "      <td>Game push lot reduce where remember. Including song travel hair foot. Director always myself past story chance reason.</td>\n",
       "    </tr>\n",
       "  </tbody>\n",
       "</table>\n",
       "</div>"
      ],
      "text/plain": [
       "   review_id  book_id       username  \\\n",
       "0          1        1   brandtandrea   \n",
       "1          2        1     ryanfranco   \n",
       "2          3        2       lorichen   \n",
       "3          4        3  johnsonamanda   \n",
       "4          5        3    scotttamara   \n",
       "5          6        3    lesliegibbs   \n",
       "6          7        4   valenciaanne   \n",
       "7          8        4    abbottjames   \n",
       "8          9        5        npowers   \n",
       "9         10        5        staylor   \n",
       "\n",
       "                                                                                                                               text  \n",
       "0                                        Mention society tell send professor analysis. Over provide race technology continue these.  \n",
       "1                                                 Foot glass pretty audience hit themselves. Among admit investment argue security.  \n",
       "2  Listen treat keep worry. Miss husband tax but person sport treatment industry. Kitchen decision deep the. Social party body the.  \n",
       "3          Finally month interesting blue could nature cultural bit. Prepare beat finish grow that smile teach. Dream me play near.  \n",
       "4                  Nation purpose heavy give wait song will. List dinner another whole positive radio fast. Music staff many green.  \n",
       "5                                                                                          Analysis no several cause international.  \n",
       "6                              One there cost another. Say type save. With personal where occur direction foot. Half sit role want.  \n",
       "7                                                                 Within enough mother. There at system full recent play recognize.  \n",
       "8                                  Thank now focus realize economy focus fly. Item step fine war. Western service history anything.  \n",
       "9            Game push lot reduce where remember. Including song travel hair foot. Director always myself past story chance reason.  "
      ]
     },
     "metadata": {},
     "output_type": "display_data"
    }
   ],
   "source": [
    "table_info('reviews')"
   ]
  },
  {
   "cell_type": "markdown",
   "metadata": {},
   "source": [
    "### Вывод по исследованию данных"
   ]
  },
  {
   "cell_type": "markdown",
   "metadata": {},
   "source": [
    "В ходе исследования предоставленных данных, была проделана следующая работа:\n",
    "- Было установлено подключение к СУБД PostgreSQL;\n",
    "- Проведено знакомство с данными, содержащимися в таблицах: `books`, `authors`, `publishers`, `ratings` и `reviews`."
   ]
  },
  {
   "cell_type": "markdown",
   "metadata": {},
   "source": [
    "## Анализ данных"
   ]
  },
  {
   "cell_type": "markdown",
   "metadata": {},
   "source": [
    "### Количество книг, которые вышли после 1 января 2000 года"
   ]
  },
  {
   "cell_type": "markdown",
   "metadata": {},
   "source": [
    "С помощью языка запросов SQL определим количество книг, которые вышли после 1 января 2000 года:"
   ]
  },
  {
   "cell_type": "code",
   "execution_count": 11,
   "metadata": {},
   "outputs": [
    {
     "data": {
      "text/html": [
       "<div>\n",
       "<style scoped>\n",
       "    .dataframe tbody tr th:only-of-type {\n",
       "        vertical-align: middle;\n",
       "    }\n",
       "\n",
       "    .dataframe tbody tr th {\n",
       "        vertical-align: top;\n",
       "    }\n",
       "\n",
       "    .dataframe thead th {\n",
       "        text-align: right;\n",
       "    }\n",
       "</style>\n",
       "<table border=\"1\" class=\"dataframe\">\n",
       "  <thead>\n",
       "    <tr style=\"text-align: right;\">\n",
       "      <th></th>\n",
       "      <th>count_books</th>\n",
       "    </tr>\n",
       "  </thead>\n",
       "  <tbody>\n",
       "    <tr>\n",
       "      <th>0</th>\n",
       "      <td>821</td>\n",
       "    </tr>\n",
       "  </tbody>\n",
       "</table>\n",
       "</div>"
      ],
      "text/plain": [
       "   count_books\n",
       "0          821"
      ]
     },
     "execution_count": 11,
     "metadata": {},
     "output_type": "execute_result"
    }
   ],
   "source": [
    "query = '''SELECT COUNT(book_id) as count_books\n",
    "           FROM books\n",
    "           WHERE publication_date >= '2000-01-01';\n",
    "        '''\n",
    "pd.io.sql.read_sql(query, con = engine)"
   ]
  },
  {
   "cell_type": "markdown",
   "metadata": {},
   "source": [
    "Вывод:\n",
    "- Количество книг, которые вышли после 1 января 2000 года - **821** штука."
   ]
  },
  {
   "cell_type": "markdown",
   "metadata": {},
   "source": [
    "### Количество обзоров и средняя оценка для каждой книги"
   ]
  },
  {
   "cell_type": "markdown",
   "metadata": {},
   "source": [
    "С помощью языка запросов SQL определим количество обзоров и среднюю оценку для каждой книги:"
   ]
  },
  {
   "cell_type": "code",
   "execution_count": 12,
   "metadata": {},
   "outputs": [
    {
     "data": {
      "text/html": [
       "<div>\n",
       "<style scoped>\n",
       "    .dataframe tbody tr th:only-of-type {\n",
       "        vertical-align: middle;\n",
       "    }\n",
       "\n",
       "    .dataframe tbody tr th {\n",
       "        vertical-align: top;\n",
       "    }\n",
       "\n",
       "    .dataframe thead th {\n",
       "        text-align: right;\n",
       "    }\n",
       "</style>\n",
       "<table border=\"1\" class=\"dataframe\">\n",
       "  <thead>\n",
       "    <tr style=\"text-align: right;\">\n",
       "      <th></th>\n",
       "      <th>title</th>\n",
       "      <th>count_reviews</th>\n",
       "      <th>avg_rating</th>\n",
       "    </tr>\n",
       "  </thead>\n",
       "  <tbody>\n",
       "    <tr>\n",
       "      <th>0</th>\n",
       "      <td>Memoirs of a Geisha</td>\n",
       "      <td>8</td>\n",
       "      <td>4.14</td>\n",
       "    </tr>\n",
       "    <tr>\n",
       "      <th>1</th>\n",
       "      <td>Twilight (Twilight  #1)</td>\n",
       "      <td>7</td>\n",
       "      <td>3.66</td>\n",
       "    </tr>\n",
       "    <tr>\n",
       "      <th>2</th>\n",
       "      <td>Harry Potter and the Chamber of Secrets (Harry Potter  #2)</td>\n",
       "      <td>6</td>\n",
       "      <td>4.29</td>\n",
       "    </tr>\n",
       "    <tr>\n",
       "      <th>3</th>\n",
       "      <td>The Glass Castle</td>\n",
       "      <td>6</td>\n",
       "      <td>4.21</td>\n",
       "    </tr>\n",
       "    <tr>\n",
       "      <th>4</th>\n",
       "      <td>Eat  Pray  Love</td>\n",
       "      <td>6</td>\n",
       "      <td>3.40</td>\n",
       "    </tr>\n",
       "    <tr>\n",
       "      <th>...</th>\n",
       "      <td>...</td>\n",
       "      <td>...</td>\n",
       "      <td>...</td>\n",
       "    </tr>\n",
       "    <tr>\n",
       "      <th>994</th>\n",
       "      <td>Anne Rice's The Vampire Lestat: A Graphic Novel</td>\n",
       "      <td>0</td>\n",
       "      <td>3.67</td>\n",
       "    </tr>\n",
       "    <tr>\n",
       "      <th>995</th>\n",
       "      <td>The Natural Way to Draw</td>\n",
       "      <td>0</td>\n",
       "      <td>3.00</td>\n",
       "    </tr>\n",
       "    <tr>\n",
       "      <th>996</th>\n",
       "      <td>The Cat in the Hat and Other Dr. Seuss Favorites</td>\n",
       "      <td>0</td>\n",
       "      <td>5.00</td>\n",
       "    </tr>\n",
       "    <tr>\n",
       "      <th>997</th>\n",
       "      <td>Essential Tales and Poems</td>\n",
       "      <td>0</td>\n",
       "      <td>4.00</td>\n",
       "    </tr>\n",
       "    <tr>\n",
       "      <th>998</th>\n",
       "      <td>Disney's Beauty and the Beast (A Little Golden Book)</td>\n",
       "      <td>0</td>\n",
       "      <td>4.00</td>\n",
       "    </tr>\n",
       "  </tbody>\n",
       "</table>\n",
       "<p>999 rows × 3 columns</p>\n",
       "</div>"
      ],
      "text/plain": [
       "                                                          title  \\\n",
       "0                                           Memoirs of a Geisha   \n",
       "1                                       Twilight (Twilight  #1)   \n",
       "2    Harry Potter and the Chamber of Secrets (Harry Potter  #2)   \n",
       "3                                              The Glass Castle   \n",
       "4                                               Eat  Pray  Love   \n",
       "..                                                          ...   \n",
       "994             Anne Rice's The Vampire Lestat: A Graphic Novel   \n",
       "995                                     The Natural Way to Draw   \n",
       "996            The Cat in the Hat and Other Dr. Seuss Favorites   \n",
       "997                                   Essential Tales and Poems   \n",
       "998        Disney's Beauty and the Beast (A Little Golden Book)   \n",
       "\n",
       "     count_reviews  avg_rating  \n",
       "0                8        4.14  \n",
       "1                7        3.66  \n",
       "2                6        4.29  \n",
       "3                6        4.21  \n",
       "4                6        3.40  \n",
       "..             ...         ...  \n",
       "994              0        3.67  \n",
       "995              0        3.00  \n",
       "996              0        5.00  \n",
       "997              0        4.00  \n",
       "998              0        4.00  \n",
       "\n",
       "[999 rows x 3 columns]"
      ]
     },
     "execution_count": 12,
     "metadata": {},
     "output_type": "execute_result"
    }
   ],
   "source": [
    "query = '''SELECT b.title AS title,\n",
    "                  COUNT(DISTINCT rev.review_id) as count_reviews,\n",
    "                  AVG(rat.rating) as avg_rating\n",
    "           FROM books AS b\n",
    "           LEFT JOIN reviews AS rev ON b.book_id = rev.book_id\n",
    "           LEFT JOIN ratings AS rat ON b.book_id = rat.book_id\n",
    "           GROUP BY title\n",
    "           ORDER BY count_reviews DESC;\n",
    "        '''\n",
    "pd.io.sql.read_sql(query, con = engine)"
   ]
  },
  {
   "cell_type": "markdown",
   "metadata": {},
   "source": [
    "Выводы:\n",
    "- Несколько книг имеют максимальную среднюю оценку **5 баллов**;\n",
    "- Средняя оценка не зависит от количества обзоров."
   ]
  },
  {
   "cell_type": "markdown",
   "metadata": {},
   "source": [
    "### Издательство, которое выпустило наибольшее число книг толще 50 страниц"
   ]
  },
  {
   "cell_type": "markdown",
   "metadata": {},
   "source": [
    "С помощью языка запросов SQL определим издательство, которое выпустило наибольшее число книг толще 50 страниц, таким образом исключив из анализа брошюры:"
   ]
  },
  {
   "cell_type": "code",
   "execution_count": 13,
   "metadata": {},
   "outputs": [
    {
     "data": {
      "text/html": [
       "<div>\n",
       "<style scoped>\n",
       "    .dataframe tbody tr th:only-of-type {\n",
       "        vertical-align: middle;\n",
       "    }\n",
       "\n",
       "    .dataframe tbody tr th {\n",
       "        vertical-align: top;\n",
       "    }\n",
       "\n",
       "    .dataframe thead th {\n",
       "        text-align: right;\n",
       "    }\n",
       "</style>\n",
       "<table border=\"1\" class=\"dataframe\">\n",
       "  <thead>\n",
       "    <tr style=\"text-align: right;\">\n",
       "      <th></th>\n",
       "      <th>publisher</th>\n",
       "      <th>count_books</th>\n",
       "    </tr>\n",
       "  </thead>\n",
       "  <tbody>\n",
       "    <tr>\n",
       "      <th>0</th>\n",
       "      <td>Penguin Books</td>\n",
       "      <td>42</td>\n",
       "    </tr>\n",
       "  </tbody>\n",
       "</table>\n",
       "</div>"
      ],
      "text/plain": [
       "       publisher  count_books\n",
       "0  Penguin Books           42"
      ]
     },
     "execution_count": 13,
     "metadata": {},
     "output_type": "execute_result"
    }
   ],
   "source": [
    "query = '''SELECT p.publisher AS publisher,\n",
    "                  COUNT(b.book_id) as count_books\n",
    "           FROM publishers AS p\n",
    "           LEFT JOIN books AS b ON p.publisher_id = b.publisher_id\n",
    "           WHERE num_pages > 50\n",
    "           GROUP BY publisher\n",
    "           ORDER BY count_books DESC\n",
    "           LIMIT 1;\n",
    "        '''\n",
    "pd.io.sql.read_sql(query, con = engine)"
   ]
  },
  {
   "cell_type": "markdown",
   "metadata": {},
   "source": [
    "Вывод:\n",
    "- Издательство **Penguin Books** выпустило наибольшее число книг толще 50 страниц - **42 книги**, не включая брошюры."
   ]
  },
  {
   "cell_type": "markdown",
   "metadata": {},
   "source": [
    "### Автор с самой высокой средней оценкой книг"
   ]
  },
  {
   "cell_type": "markdown",
   "metadata": {},
   "source": [
    "С помощью языка запросов SQL определим автора с самой высокой средней оценкой книг, при этом, учитывая только книги с 50 и более оценками:"
   ]
  },
  {
   "cell_type": "code",
   "execution_count": 14,
   "metadata": {},
   "outputs": [
    {
     "data": {
      "text/html": [
       "<div>\n",
       "<style scoped>\n",
       "    .dataframe tbody tr th:only-of-type {\n",
       "        vertical-align: middle;\n",
       "    }\n",
       "\n",
       "    .dataframe tbody tr th {\n",
       "        vertical-align: top;\n",
       "    }\n",
       "\n",
       "    .dataframe thead th {\n",
       "        text-align: right;\n",
       "    }\n",
       "</style>\n",
       "<table border=\"1\" class=\"dataframe\">\n",
       "  <thead>\n",
       "    <tr style=\"text-align: right;\">\n",
       "      <th></th>\n",
       "      <th>author</th>\n",
       "      <th>avg_rating_author</th>\n",
       "    </tr>\n",
       "  </thead>\n",
       "  <tbody>\n",
       "    <tr>\n",
       "      <th>0</th>\n",
       "      <td>J.K. Rowling/Mary GrandPré</td>\n",
       "      <td>4.28</td>\n",
       "    </tr>\n",
       "  </tbody>\n",
       "</table>\n",
       "</div>"
      ],
      "text/plain": [
       "                       author  avg_rating_author\n",
       "0  J.K. Rowling/Mary GrandPré               4.28"
      ]
     },
     "execution_count": 14,
     "metadata": {},
     "output_type": "execute_result"
    }
   ],
   "source": [
    "query = '''SELECT author, \n",
    "                  AVG(avg_rating) AS avg_rating_author\n",
    "           FROM (SELECT author_id, \n",
    "                        title, \n",
    "                        AVG(rating) AS avg_rating\n",
    "                 FROM books AS b\n",
    "                 LEFT JOIN ratings AS rat ON b.book_id = rat.book_id \n",
    "                 GROUP BY title, author_id\n",
    "                 HAVING COUNT(rating_id) >= 50) AS avg\n",
    "           LEFT JOIN authors AS a ON avg.author_id = a.author_id\n",
    "           GROUP BY author\n",
    "           ORDER BY avg_rating_author DESC\n",
    "           LIMIT 1;\n",
    "        '''\n",
    "pd.io.sql.read_sql(query, con = engine)"
   ]
  },
  {
   "cell_type": "markdown",
   "metadata": {},
   "source": [
    "Вывод:\n",
    "- Автор с самой высокой средней оценкой книг - **J.K. Rowling/Mary GrandPré** со средней оценкой **4.28**."
   ]
  },
  {
   "cell_type": "markdown",
   "metadata": {},
   "source": [
    "### Среднее количество обзоров от пользователей, которые поставили больше 50 оценок"
   ]
  },
  {
   "cell_type": "markdown",
   "metadata": {},
   "source": [
    "С помощью языка запросов SQL определим среднее количество обзоров от пользователей, которые поставили больше 50 оценок:"
   ]
  },
  {
   "cell_type": "code",
   "execution_count": 15,
   "metadata": {},
   "outputs": [
    {
     "data": {
      "text/html": [
       "<div>\n",
       "<style scoped>\n",
       "    .dataframe tbody tr th:only-of-type {\n",
       "        vertical-align: middle;\n",
       "    }\n",
       "\n",
       "    .dataframe tbody tr th {\n",
       "        vertical-align: top;\n",
       "    }\n",
       "\n",
       "    .dataframe thead th {\n",
       "        text-align: right;\n",
       "    }\n",
       "</style>\n",
       "<table border=\"1\" class=\"dataframe\">\n",
       "  <thead>\n",
       "    <tr style=\"text-align: right;\">\n",
       "      <th></th>\n",
       "      <th>avg_reviews</th>\n",
       "    </tr>\n",
       "  </thead>\n",
       "  <tbody>\n",
       "    <tr>\n",
       "      <th>0</th>\n",
       "      <td>24.00</td>\n",
       "    </tr>\n",
       "  </tbody>\n",
       "</table>\n",
       "</div>"
      ],
      "text/plain": [
       "   avg_reviews\n",
       "0        24.00"
      ]
     },
     "execution_count": 15,
     "metadata": {},
     "output_type": "execute_result"
    }
   ],
   "source": [
    "query = '''SELECT ROUND(AVG(count_reviews)) AS avg_reviews\n",
    "           FROM (SELECT COUNT(review_id) AS count_reviews\n",
    "                 FROM (SELECT username\n",
    "                       FROM ratings AS rat\n",
    "                       GROUP BY username\n",
    "                       HAVING COUNT(rating) > 50) AS rat\n",
    "                 LEFT JOIN reviews AS rev ON rat.username = rev.username\n",
    "                 GROUP BY rat.username) AS rev;\n",
    "        '''\n",
    "pd.io.sql.read_sql(query, con = engine)"
   ]
  },
  {
   "cell_type": "markdown",
   "metadata": {},
   "source": [
    "Вывод:\n",
    "- Среднее количество обзоров от пользователей, которые поставили больше 50 оценок - **24 штуки**."
   ]
  },
  {
   "cell_type": "markdown",
   "metadata": {},
   "source": [
    "### Вывод по анализу данных"
   ]
  },
  {
   "cell_type": "markdown",
   "metadata": {},
   "source": [
    "По проведенному анализу можно сделать следующие выводы:\n",
    "- Количество книг, которые вышли после 1 января 2000 года - **821 штука**;\n",
    "- Несколько книг имеют максимальную среднюю оценку **5 баллов**;\n",
    "- Средняя оценка **не зависит** от количества обзоров;\n",
    "- Издательство **Penguin Books** выпустило наибольшее число книг толще 50 страниц - **42 книги**, не включая брошюры;\n",
    "- Автор с самой высокой средней оценкой книг - **J.K. Rowling/Mary GrandPré** со средней оценкой **4.28**;\n",
    "- Среднее количество обзоров от пользователей, которые поставили больше 50 оценок - **24 штуки**."
   ]
  },
  {
   "cell_type": "markdown",
   "metadata": {},
   "source": [
    "## Общий вывод"
   ]
  },
  {
   "cell_type": "markdown",
   "metadata": {},
   "source": [
    "### Проделанная работа"
   ]
  },
  {
   "cell_type": "markdown",
   "metadata": {},
   "source": [
    "В ходе проведения анализа была проделана следующая работа:\n",
    "\n",
    "**1. Знакомство с данными, в ходе которого:**\n",
    "- Было установлено подключение к СУБД PostgreSQL;\n",
    "- Исследованы данные, содержащиеся в таблицах: `books`, `authors`, `publishers`, `ratings` и `reviews`.\n",
    "\n",
    "**2. Анализ данных с помощью языка запросов SQL, в ходе которого:**\n",
    "- Определено количество книг, которые вышли после 1 января 2000 года;\n",
    "- Определены количество обзоров и средняя оценка для каждой книги;\n",
    "- Определено издательство, которое выпустило наибольшее число книг толще 50 страниц;\n",
    "- Определен автор с самой высокой средней оценкой книг;\n",
    "- Определено среднее количество обзоров от пользователей, которые поставили больше 50 оценок."
   ]
  },
  {
   "cell_type": "markdown",
   "metadata": {},
   "source": [
    "### Общие выводы"
   ]
  },
  {
   "cell_type": "markdown",
   "metadata": {},
   "source": [
    "В ходе проведения анализа были получены следующие выводы:\n",
    "- Количество книг, которые вышли после 1 января 2000 года - **821 штука**;\n",
    "- Несколько книг имеют максимальную среднюю оценку **5 баллов**;\n",
    "- Средняя оценка **не зависит** от количества обзоров;\n",
    "- Издательство **Penguin Books** выпустило наибольшее число книг толще 50 страниц - **42 книги**, не включая брошюры;\n",
    "- Автор с самой высокой средней оценкой книг - **J.K. Rowling/Mary GrandPré** со средней оценкой **4.28**;\n",
    "- Среднее количество обзоров от пользователей, которые поставили больше 50 оценок - **24 штуки**."
   ]
  },
  {
   "cell_type": "markdown",
   "metadata": {},
   "source": [
    "### Рекомендации"
   ]
  },
  {
   "cell_type": "markdown",
   "metadata": {},
   "source": [
    "По результатам проведенного анализа можно дать следующие рекоммендации:\n",
    "- Продолжать тесное сотрудничество с издательством **Penguin Books**;\n",
    "- Обратить особое внимание на книги **J.K. Rowling/Mary GrandPré**, которые интересны читателям."
   ]
  }
 ],
 "metadata": {
  "ExecuteTimeLog": [
   {
    "duration": 564,
    "start_time": "2022-06-23T05:13:27.501Z"
   },
   {
    "duration": 72,
    "start_time": "2022-06-23T05:17:07.684Z"
   },
   {
    "duration": 557,
    "start_time": "2022-06-23T05:18:09.850Z"
   },
   {
    "duration": 3,
    "start_time": "2022-06-23T05:18:10.410Z"
   },
   {
    "duration": 6807,
    "start_time": "2022-06-23T05:18:10.414Z"
   },
   {
    "duration": 6,
    "start_time": "2022-06-23T05:22:38.339Z"
   },
   {
    "duration": 86,
    "start_time": "2022-06-23T05:24:53.154Z"
   },
   {
    "duration": 7,
    "start_time": "2022-06-23T05:24:59.375Z"
   },
   {
    "duration": 11,
    "start_time": "2022-06-23T05:25:18.476Z"
   },
   {
    "duration": 4,
    "start_time": "2022-06-23T05:25:43.542Z"
   },
   {
    "duration": 268,
    "start_time": "2022-06-23T05:25:45.172Z"
   },
   {
    "duration": 74,
    "start_time": "2022-06-23T05:27:20.064Z"
   },
   {
    "duration": 74,
    "start_time": "2022-06-23T05:28:21.085Z"
   },
   {
    "duration": 76,
    "start_time": "2022-06-23T05:29:07.843Z"
   },
   {
    "duration": 76,
    "start_time": "2022-06-23T05:30:00.524Z"
   },
   {
    "duration": 4,
    "start_time": "2022-06-23T05:30:35.744Z"
   },
   {
    "duration": 522,
    "start_time": "2022-06-23T05:30:39.444Z"
   },
   {
    "duration": 3,
    "start_time": "2022-06-23T05:30:39.968Z"
   },
   {
    "duration": 39,
    "start_time": "2022-06-23T05:30:39.973Z"
   },
   {
    "duration": 5745,
    "start_time": "2022-06-23T05:30:40.014Z"
   },
   {
    "duration": 4,
    "start_time": "2022-06-23T05:30:45.761Z"
   },
   {
    "duration": 232,
    "start_time": "2022-06-23T05:30:45.767Z"
   },
   {
    "duration": 74,
    "start_time": "2022-06-23T05:30:46.001Z"
   },
   {
    "duration": 71,
    "start_time": "2022-06-23T05:30:46.077Z"
   },
   {
    "duration": 69,
    "start_time": "2022-06-23T05:30:46.150Z"
   },
   {
    "duration": 77,
    "start_time": "2022-06-23T05:30:46.221Z"
   },
   {
    "duration": 106,
    "start_time": "2022-06-23T05:40:32.408Z"
   },
   {
    "duration": 76,
    "start_time": "2022-06-23T05:40:42.118Z"
   },
   {
    "duration": 137,
    "start_time": "2022-06-23T05:49:29.005Z"
   },
   {
    "duration": 167,
    "start_time": "2022-06-23T05:49:52.490Z"
   },
   {
    "duration": 136,
    "start_time": "2022-06-23T05:49:58.509Z"
   },
   {
    "duration": 147,
    "start_time": "2022-06-23T05:50:06.922Z"
   },
   {
    "duration": 110,
    "start_time": "2022-06-23T05:52:03.044Z"
   },
   {
    "duration": 121,
    "start_time": "2022-06-23T05:52:54.866Z"
   },
   {
    "duration": 121,
    "start_time": "2022-06-23T05:53:26.464Z"
   },
   {
    "duration": 107,
    "start_time": "2022-06-23T05:54:05.094Z"
   },
   {
    "duration": 535,
    "start_time": "2022-06-23T05:54:10.556Z"
   },
   {
    "duration": 3,
    "start_time": "2022-06-23T05:54:11.093Z"
   },
   {
    "duration": 17,
    "start_time": "2022-06-23T05:54:11.097Z"
   },
   {
    "duration": 7549,
    "start_time": "2022-06-23T05:54:11.115Z"
   },
   {
    "duration": 4,
    "start_time": "2022-06-23T05:54:18.666Z"
   },
   {
    "duration": 260,
    "start_time": "2022-06-23T05:54:18.671Z"
   },
   {
    "duration": 67,
    "start_time": "2022-06-23T05:54:18.940Z"
   },
   {
    "duration": 85,
    "start_time": "2022-06-23T05:54:19.009Z"
   },
   {
    "duration": 83,
    "start_time": "2022-06-23T05:54:19.095Z"
   },
   {
    "duration": 89,
    "start_time": "2022-06-23T05:54:19.179Z"
   },
   {
    "duration": 85,
    "start_time": "2022-06-23T05:54:19.269Z"
   },
   {
    "duration": 117,
    "start_time": "2022-06-23T05:54:19.356Z"
   },
   {
    "duration": 88,
    "start_time": "2022-06-23T05:55:04.099Z"
   },
   {
    "duration": 106,
    "start_time": "2022-06-23T05:55:18.258Z"
   },
   {
    "duration": 127,
    "start_time": "2022-06-23T05:55:34.846Z"
   },
   {
    "duration": 82,
    "start_time": "2022-06-23T05:57:17.619Z"
   },
   {
    "duration": 122,
    "start_time": "2022-06-23T05:58:03.218Z"
   },
   {
    "duration": 236,
    "start_time": "2022-06-23T06:04:09.047Z"
   },
   {
    "duration": 136,
    "start_time": "2022-06-23T06:04:30.394Z"
   },
   {
    "duration": 122,
    "start_time": "2022-06-23T06:05:43.446Z"
   },
   {
    "duration": 126,
    "start_time": "2022-06-23T06:05:48.765Z"
   },
   {
    "duration": 131,
    "start_time": "2022-06-23T06:06:07.505Z"
   },
   {
    "duration": 65,
    "start_time": "2022-06-23T06:06:27.743Z"
   },
   {
    "duration": 107,
    "start_time": "2022-06-23T06:18:54.901Z"
   },
   {
    "duration": 166,
    "start_time": "2022-06-23T06:21:24.519Z"
   },
   {
    "duration": 72,
    "start_time": "2022-06-23T06:22:18.375Z"
   },
   {
    "duration": 132,
    "start_time": "2022-06-23T06:22:42.092Z"
   },
   {
    "duration": 143,
    "start_time": "2022-06-23T06:23:02.849Z"
   },
   {
    "duration": 166,
    "start_time": "2022-06-23T06:24:21.811Z"
   },
   {
    "duration": 200,
    "start_time": "2022-06-23T06:25:06.810Z"
   },
   {
    "duration": 153,
    "start_time": "2022-06-23T06:26:46.200Z"
   },
   {
    "duration": 136,
    "start_time": "2022-06-23T06:26:51.450Z"
   },
   {
    "duration": 194,
    "start_time": "2022-06-23T06:27:09.526Z"
   },
   {
    "duration": 163,
    "start_time": "2022-06-23T06:27:21.728Z"
   },
   {
    "duration": 167,
    "start_time": "2022-06-23T06:27:58.596Z"
   },
   {
    "duration": 163,
    "start_time": "2022-06-23T06:28:04.411Z"
   },
   {
    "duration": 165,
    "start_time": "2022-06-23T06:28:16.426Z"
   },
   {
    "duration": 157,
    "start_time": "2022-06-23T06:28:36.019Z"
   },
   {
    "duration": 219,
    "start_time": "2022-06-23T06:31:26.693Z"
   },
   {
    "duration": 570,
    "start_time": "2022-06-23T06:32:10.399Z"
   },
   {
    "duration": 3,
    "start_time": "2022-06-23T06:32:10.971Z"
   },
   {
    "duration": 6,
    "start_time": "2022-06-23T06:32:10.976Z"
   },
   {
    "duration": 7032,
    "start_time": "2022-06-23T06:32:10.983Z"
   },
   {
    "duration": 5,
    "start_time": "2022-06-23T06:32:18.018Z"
   },
   {
    "duration": 292,
    "start_time": "2022-06-23T06:32:18.025Z"
   },
   {
    "duration": 74,
    "start_time": "2022-06-23T06:32:18.319Z"
   },
   {
    "duration": 84,
    "start_time": "2022-06-23T06:32:18.395Z"
   },
   {
    "duration": 93,
    "start_time": "2022-06-23T06:32:18.481Z"
   },
   {
    "duration": 92,
    "start_time": "2022-06-23T06:32:18.576Z"
   },
   {
    "duration": 83,
    "start_time": "2022-06-23T06:32:18.670Z"
   },
   {
    "duration": 114,
    "start_time": "2022-06-23T06:32:18.754Z"
   },
   {
    "duration": 88,
    "start_time": "2022-06-23T06:32:18.870Z"
   },
   {
    "duration": 214,
    "start_time": "2022-06-23T06:32:18.961Z"
   },
   {
    "duration": 171,
    "start_time": "2022-06-23T06:36:51.052Z"
   },
   {
    "duration": 159,
    "start_time": "2022-06-23T06:37:56.261Z"
   },
   {
    "duration": 148,
    "start_time": "2022-06-23T06:38:12.154Z"
   },
   {
    "duration": 154,
    "start_time": "2022-06-23T06:38:31.885Z"
   },
   {
    "duration": 177,
    "start_time": "2022-06-23T06:38:53.545Z"
   },
   {
    "duration": 140,
    "start_time": "2022-06-23T06:38:55.585Z"
   },
   {
    "duration": 163,
    "start_time": "2022-06-23T06:39:23.362Z"
   },
   {
    "duration": 213,
    "start_time": "2022-06-23T06:39:39.574Z"
   },
   {
    "duration": 142,
    "start_time": "2022-06-23T06:39:54.255Z"
   },
   {
    "duration": 2,
    "start_time": "2022-06-23T06:40:17.072Z"
   },
   {
    "duration": 94,
    "start_time": "2022-06-23T06:40:17.298Z"
   },
   {
    "duration": 169,
    "start_time": "2022-06-23T06:41:36.162Z"
   },
   {
    "duration": 171,
    "start_time": "2022-06-23T06:41:46.476Z"
   },
   {
    "duration": 158,
    "start_time": "2022-06-23T06:42:04.936Z"
   },
   {
    "duration": 4,
    "start_time": "2022-06-23T06:45:58.042Z"
   },
   {
    "duration": 3,
    "start_time": "2022-06-23T06:46:28.615Z"
   },
   {
    "duration": 172,
    "start_time": "2022-06-23T06:46:42.085Z"
   },
   {
    "duration": 3,
    "start_time": "2022-06-23T06:46:43.576Z"
   },
   {
    "duration": 8,
    "start_time": "2022-06-23T06:47:11.854Z"
   },
   {
    "duration": 3,
    "start_time": "2022-06-23T06:47:13.463Z"
   },
   {
    "duration": 3,
    "start_time": "2022-06-23T06:47:39.891Z"
   },
   {
    "duration": 177,
    "start_time": "2022-06-23T06:47:41.712Z"
   },
   {
    "duration": 3,
    "start_time": "2022-06-23T06:47:59.273Z"
   },
   {
    "duration": 158,
    "start_time": "2022-06-23T06:48:00.258Z"
   },
   {
    "duration": 3,
    "start_time": "2022-06-23T06:48:30.395Z"
   },
   {
    "duration": 210,
    "start_time": "2022-06-23T06:48:30.802Z"
   },
   {
    "duration": 3,
    "start_time": "2022-06-23T06:48:43.415Z"
   },
   {
    "duration": 155,
    "start_time": "2022-06-23T06:48:44.742Z"
   },
   {
    "duration": 2,
    "start_time": "2022-06-23T06:48:50.058Z"
   },
   {
    "duration": 150,
    "start_time": "2022-06-23T06:48:50.446Z"
   },
   {
    "duration": 9,
    "start_time": "2022-06-23T06:49:01.938Z"
   },
   {
    "duration": 161,
    "start_time": "2022-06-23T06:49:02.284Z"
   },
   {
    "duration": 3,
    "start_time": "2022-06-23T06:49:15.194Z"
   },
   {
    "duration": 89,
    "start_time": "2022-06-23T06:49:15.505Z"
   },
   {
    "duration": 2,
    "start_time": "2022-06-23T06:49:54.606Z"
   },
   {
    "duration": 82,
    "start_time": "2022-06-23T06:49:55.184Z"
   },
   {
    "duration": 89,
    "start_time": "2022-06-23T06:50:38.308Z"
   },
   {
    "duration": 130,
    "start_time": "2022-06-23T07:08:00.497Z"
   },
   {
    "duration": 166,
    "start_time": "2022-06-23T07:09:27.019Z"
   },
   {
    "duration": 163,
    "start_time": "2022-06-23T07:10:05.882Z"
   },
   {
    "duration": 201,
    "start_time": "2022-06-23T07:10:20.902Z"
   },
   {
    "duration": 161,
    "start_time": "2022-06-23T07:10:46.611Z"
   },
   {
    "duration": 144,
    "start_time": "2022-06-23T07:10:55.291Z"
   },
   {
    "duration": 153,
    "start_time": "2022-06-23T07:10:56.951Z"
   },
   {
    "duration": 77,
    "start_time": "2022-06-23T07:11:11.622Z"
   },
   {
    "duration": 185,
    "start_time": "2022-06-23T07:11:26.327Z"
   },
   {
    "duration": 66,
    "start_time": "2022-06-23T07:11:34.057Z"
   },
   {
    "duration": 67,
    "start_time": "2022-06-23T07:11:59.756Z"
   },
   {
    "duration": 176,
    "start_time": "2022-06-23T07:14:39.990Z"
   },
   {
    "duration": 224,
    "start_time": "2022-06-23T07:14:55.702Z"
   },
   {
    "duration": 93,
    "start_time": "2022-06-23T07:16:48.600Z"
   },
   {
    "duration": 69,
    "start_time": "2022-06-23T07:16:52.356Z"
   },
   {
    "duration": 82,
    "start_time": "2022-06-23T07:16:59.511Z"
   },
   {
    "duration": 525,
    "start_time": "2022-06-23T07:31:17.544Z"
   },
   {
    "duration": 2,
    "start_time": "2022-06-23T07:31:18.071Z"
   },
   {
    "duration": 10,
    "start_time": "2022-06-23T07:31:18.075Z"
   },
   {
    "duration": 6202,
    "start_time": "2022-06-23T07:31:18.087Z"
   },
   {
    "duration": 3,
    "start_time": "2022-06-23T07:31:24.291Z"
   },
   {
    "duration": 244,
    "start_time": "2022-06-23T07:31:24.296Z"
   },
   {
    "duration": 65,
    "start_time": "2022-06-23T07:31:24.542Z"
   },
   {
    "duration": 82,
    "start_time": "2022-06-23T07:31:24.609Z"
   },
   {
    "duration": 71,
    "start_time": "2022-06-23T07:31:24.692Z"
   },
   {
    "duration": 93,
    "start_time": "2022-06-23T07:31:24.765Z"
   },
   {
    "duration": 65,
    "start_time": "2022-06-23T07:31:24.860Z"
   },
   {
    "duration": 114,
    "start_time": "2022-06-23T07:31:24.927Z"
   },
   {
    "duration": 68,
    "start_time": "2022-06-23T07:31:25.043Z"
   },
   {
    "duration": 76,
    "start_time": "2022-06-23T07:31:25.113Z"
   },
   {
    "duration": 74,
    "start_time": "2022-06-23T07:31:25.191Z"
   },
   {
    "duration": 49,
    "start_time": "2022-06-24T07:43:39.238Z"
   },
   {
    "duration": 526,
    "start_time": "2022-06-24T07:43:44.737Z"
   },
   {
    "duration": 3,
    "start_time": "2022-06-24T07:43:45.265Z"
   },
   {
    "duration": 6,
    "start_time": "2022-06-24T07:43:45.269Z"
   },
   {
    "duration": 10308,
    "start_time": "2022-06-24T07:43:45.277Z"
   },
   {
    "duration": 3,
    "start_time": "2022-06-24T07:43:55.586Z"
   },
   {
    "duration": 89,
    "start_time": "2022-06-24T07:43:55.591Z"
   },
   {
    "duration": 14,
    "start_time": "2022-06-24T07:43:55.682Z"
   },
   {
    "duration": 13,
    "start_time": "2022-06-24T07:43:55.698Z"
   },
   {
    "duration": 20,
    "start_time": "2022-06-24T07:43:55.713Z"
   },
   {
    "duration": 16,
    "start_time": "2022-06-24T07:43:55.735Z"
   },
   {
    "duration": 10,
    "start_time": "2022-06-24T07:43:55.753Z"
   },
   {
    "duration": 35,
    "start_time": "2022-06-24T07:43:55.764Z"
   },
   {
    "duration": 12,
    "start_time": "2022-06-24T07:43:55.801Z"
   },
   {
    "duration": 17,
    "start_time": "2022-06-24T07:43:55.814Z"
   },
   {
    "duration": 19,
    "start_time": "2022-06-24T07:43:55.832Z"
   },
   {
    "duration": 34,
    "start_time": "2022-06-24T07:44:13.839Z"
   },
   {
    "duration": 497,
    "start_time": "2022-06-24T07:51:28.815Z"
   },
   {
    "duration": 3,
    "start_time": "2022-06-24T07:51:29.314Z"
   },
   {
    "duration": 3,
    "start_time": "2022-06-24T07:51:29.325Z"
   },
   {
    "duration": 9527,
    "start_time": "2022-06-24T07:51:29.330Z"
   },
   {
    "duration": 3,
    "start_time": "2022-06-24T07:51:38.858Z"
   },
   {
    "duration": 68,
    "start_time": "2022-06-24T07:51:38.862Z"
   },
   {
    "duration": 9,
    "start_time": "2022-06-24T07:51:38.932Z"
   },
   {
    "duration": 10,
    "start_time": "2022-06-24T07:51:38.943Z"
   },
   {
    "duration": 10,
    "start_time": "2022-06-24T07:51:38.954Z"
   },
   {
    "duration": 10,
    "start_time": "2022-06-24T07:51:38.966Z"
   },
   {
    "duration": 8,
    "start_time": "2022-06-24T07:51:38.978Z"
   },
   {
    "duration": 49,
    "start_time": "2022-06-24T07:51:38.987Z"
   },
   {
    "duration": 10,
    "start_time": "2022-06-24T07:51:39.038Z"
   },
   {
    "duration": 13,
    "start_time": "2022-06-24T07:51:39.049Z"
   },
   {
    "duration": 11,
    "start_time": "2022-06-24T07:51:39.063Z"
   },
   {
    "duration": 499,
    "start_time": "2022-06-24T08:23:49.444Z"
   },
   {
    "duration": 4,
    "start_time": "2022-06-24T08:23:49.945Z"
   },
   {
    "duration": 5,
    "start_time": "2022-06-24T08:23:49.951Z"
   },
   {
    "duration": 9975,
    "start_time": "2022-06-24T08:23:49.957Z"
   },
   {
    "duration": 7,
    "start_time": "2022-06-24T08:23:59.939Z"
   },
   {
    "duration": 70,
    "start_time": "2022-06-24T08:23:59.949Z"
   },
   {
    "duration": 32,
    "start_time": "2022-06-24T08:24:00.022Z"
   },
   {
    "duration": 13,
    "start_time": "2022-06-24T08:24:00.056Z"
   },
   {
    "duration": 13,
    "start_time": "2022-06-24T08:24:00.070Z"
   },
   {
    "duration": 13,
    "start_time": "2022-06-24T08:24:00.085Z"
   },
   {
    "duration": 10,
    "start_time": "2022-06-24T08:24:00.099Z"
   },
   {
    "duration": 63,
    "start_time": "2022-06-24T08:24:00.110Z"
   },
   {
    "duration": 12,
    "start_time": "2022-06-24T08:24:00.175Z"
   },
   {
    "duration": 15,
    "start_time": "2022-06-24T08:24:00.189Z"
   },
   {
    "duration": 12,
    "start_time": "2022-06-24T08:24:00.206Z"
   }
  ],
  "kernelspec": {
   "display_name": "Python 3 (ipykernel)",
   "language": "python",
   "name": "python3"
  },
  "language_info": {
   "codemirror_mode": {
    "name": "ipython",
    "version": 3
   },
   "file_extension": ".py",
   "mimetype": "text/x-python",
   "name": "python",
   "nbconvert_exporter": "python",
   "pygments_lexer": "ipython3",
   "version": "3.9.7"
  },
  "toc": {
   "base_numbering": 1,
   "nav_menu": {},
   "number_sections": true,
   "sideBar": true,
   "skip_h1_title": true,
   "title_cell": "Содержание",
   "title_sidebar": "Contents",
   "toc_cell": true,
   "toc_position": {
    "height": "calc(100% - 180px)",
    "left": "10px",
    "top": "150px",
    "width": "366.391px"
   },
   "toc_section_display": true,
   "toc_window_display": true
  }
 },
 "nbformat": 4,
 "nbformat_minor": 2
}

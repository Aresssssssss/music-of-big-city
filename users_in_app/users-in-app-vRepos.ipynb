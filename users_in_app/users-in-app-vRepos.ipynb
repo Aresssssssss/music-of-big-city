{
 "cells": [
  {
   "cell_type": "markdown",
   "metadata": {
    "toc": true
   },
   "source": [
    "<h1>Содержание<span class=\"tocSkip\"></span></h1>\n",
    "<div class=\"toc\"><ul class=\"toc-item\"><li><span><a href=\"#Знакомство-с-данными-и-подготовка-к-анализу\" data-toc-modified-id=\"Знакомство-с-данными-и-подготовка-к-анализу-1\"><span class=\"toc-item-num\">1&nbsp;&nbsp;</span>Знакомство с данными и подготовка к анализу</a></span><ul class=\"toc-item\"><li><span><a href=\"#Открытие-файла-с-данными-и-изучение-общей-информации\" data-toc-modified-id=\"Открытие-файла-с-данными-и-изучение-общей-информации-1.1\"><span class=\"toc-item-num\">1.1&nbsp;&nbsp;</span>Открытие файла с данными и изучение общей информации</a></span></li></ul></li><li><span><a href=\"#Подготовка-данных-к-анализу\" data-toc-modified-id=\"Подготовка-данных-к-анализу-2\"><span class=\"toc-item-num\">2&nbsp;&nbsp;</span>Подготовка данных к анализу</a></span><ul class=\"toc-item\"><li><span><a href=\"#Вывод-по-подготовке-данных\" data-toc-modified-id=\"Вывод-по-подготовке-данных-2.1\"><span class=\"toc-item-num\">2.1&nbsp;&nbsp;</span>Вывод по подготовке данных</a></span></li></ul></li><li><span><a href=\"#Изучение-и-проверка-данных\" data-toc-modified-id=\"Изучение-и-проверка-данных-3\"><span class=\"toc-item-num\">3&nbsp;&nbsp;</span>Изучение и проверка данных</a></span><ul class=\"toc-item\"><li><span><a href=\"#Количество-событий-в-логе\" data-toc-modified-id=\"Количество-событий-в-логе-3.1\"><span class=\"toc-item-num\">3.1&nbsp;&nbsp;</span>Количество событий в логе</a></span></li><li><span><a href=\"#Количество-пользователей-в-логе\" data-toc-modified-id=\"Количество-пользователей-в-логе-3.2\"><span class=\"toc-item-num\">3.2&nbsp;&nbsp;</span>Количество пользователей в логе</a></span></li><li><span><a href=\"#Среднее-количество-событий-на-одного-пользователя\" data-toc-modified-id=\"Среднее-количество-событий-на-одного-пользователя-3.3\"><span class=\"toc-item-num\">3.3&nbsp;&nbsp;</span>Среднее количество событий на одного пользователя</a></span></li><li><span><a href=\"#Определение-периода-времени,-за-который-имеются-данные\" data-toc-modified-id=\"Определение-периода-времени,-за-который-имеются-данные-3.4\"><span class=\"toc-item-num\">3.4&nbsp;&nbsp;</span>Определение периода времени, за который имеются данные</a></span></li><li><span><a href=\"#Количество-событий-и-пользователей,-потерянных-при-удалении-старых-данных\" data-toc-modified-id=\"Количество-событий-и-пользователей,-потерянных-при-удалении-старых-данных-3.5\"><span class=\"toc-item-num\">3.5&nbsp;&nbsp;</span>Количество событий и пользователей, потерянных при удалении старых данных</a></span></li><li><span><a href=\"#Проверка-наличия-пользователей-в-3-экспериментальных-группах\" data-toc-modified-id=\"Проверка-наличия-пользователей-в-3-экспериментальных-группах-3.6\"><span class=\"toc-item-num\">3.6&nbsp;&nbsp;</span>Проверка наличия пользователей в 3 экспериментальных группах</a></span></li><li><span><a href=\"#Вывод-по-изучению-и-проверке-данных\" data-toc-modified-id=\"Вывод-по-изучению-и-проверке-данных-3.7\"><span class=\"toc-item-num\">3.7&nbsp;&nbsp;</span>Вывод по изучению и проверке данных</a></span></li></ul></li><li><span><a href=\"#Изучение-воронки-событий\" data-toc-modified-id=\"Изучение-воронки-событий-4\"><span class=\"toc-item-num\">4&nbsp;&nbsp;</span>Изучение воронки событий</a></span><ul class=\"toc-item\"><li><span><a href=\"#Изучение-уникальных-событий-в-логах\" data-toc-modified-id=\"Изучение-уникальных-событий-в-логах-4.1\"><span class=\"toc-item-num\">4.1&nbsp;&nbsp;</span>Изучение уникальных событий в логах</a></span></li><li><span><a href=\"#Количество-пользователей,-совершающих-каждое-событие\" data-toc-modified-id=\"Количество-пользователей,-совершающих-каждое-событие-4.2\"><span class=\"toc-item-num\">4.2&nbsp;&nbsp;</span>Количество пользователей, совершающих каждое событие</a></span></li><li><span><a href=\"#Определение-лишнего-события\" data-toc-modified-id=\"Определение-лишнего-события-4.3\"><span class=\"toc-item-num\">4.3&nbsp;&nbsp;</span>Определение лишнего события</a></span></li><li><span><a href=\"#Определение-доли-пользователей-на-каждом-шаге-воронки\" data-toc-modified-id=\"Определение-доли-пользователей-на-каждом-шаге-воронки-4.4\"><span class=\"toc-item-num\">4.4&nbsp;&nbsp;</span>Определение доли пользователей на каждом шаге воронки</a></span></li><li><span><a href=\"#Определение-шага-с-наибольшей-потерей-пользователей\" data-toc-modified-id=\"Определение-шага-с-наибольшей-потерей-пользователей-4.5\"><span class=\"toc-item-num\">4.5&nbsp;&nbsp;</span>Определение шага с наибольшей потерей пользователей</a></span></li><li><span><a href=\"#Определение-доли-пользователей,-которые-дошли-от-первого-события-до-оплаты\" data-toc-modified-id=\"Определение-доли-пользователей,-которые-дошли-от-первого-события-до-оплаты-4.6\"><span class=\"toc-item-num\">4.6&nbsp;&nbsp;</span>Определение доли пользователей, которые дошли от первого события до оплаты</a></span></li><li><span><a href=\"#Вывод-по-изучению-воронки-событий\" data-toc-modified-id=\"Вывод-по-изучению-воронки-событий-4.7\"><span class=\"toc-item-num\">4.7&nbsp;&nbsp;</span>Вывод по изучению воронки событий</a></span></li></ul></li><li><span><a href=\"#Изучение-результатов-эксперимента\" data-toc-modified-id=\"Изучение-результатов-эксперимента-5\"><span class=\"toc-item-num\">5&nbsp;&nbsp;</span>Изучение результатов эксперимента</a></span><ul class=\"toc-item\"><li><span><a href=\"#Количество-пользователей-в-каждой-экспериментальной-группе\" data-toc-modified-id=\"Количество-пользователей-в-каждой-экспериментальной-группе-5.1\"><span class=\"toc-item-num\">5.1&nbsp;&nbsp;</span>Количество пользователей в каждой экспериментальной группе</a></span></li><li><span><a href=\"#Проверка,-находят-ли-статистические-критерии-разницу-между-выборками-246-и-247\" data-toc-modified-id=\"Проверка,-находят-ли-статистические-критерии-разницу-между-выборками-246-и-247-5.2\"><span class=\"toc-item-num\">5.2&nbsp;&nbsp;</span>Проверка, находят ли статистические критерии разницу между выборками 246 и 247</a></span></li><li><span><a href=\"#Проведение-A/A-теста\" data-toc-modified-id=\"Проведение-A/A-теста-5.3\"><span class=\"toc-item-num\">5.3&nbsp;&nbsp;</span>Проведение A/A-теста</a></span></li><li><span><a href=\"#Проведение-A/B-теста\" data-toc-modified-id=\"Проведение-A/B-теста-5.4\"><span class=\"toc-item-num\">5.4&nbsp;&nbsp;</span>Проведение A/B-теста</a></span></li><li><span><a href=\"#Подсчет-количества-проверок-статистических-гипотез-и-выбор-уровня-значимости\" data-toc-modified-id=\"Подсчет-количества-проверок-статистических-гипотез-и-выбор-уровня-значимости-5.5\"><span class=\"toc-item-num\">5.5&nbsp;&nbsp;</span>Подсчет количества проверок статистических гипотез и выбор уровня значимости</a></span></li><li><span><a href=\"#Вывод-по-результатам-эксперимента\" data-toc-modified-id=\"Вывод-по-результатам-эксперимента-5.6\"><span class=\"toc-item-num\">5.6&nbsp;&nbsp;</span>Вывод по результатам эксперимента</a></span></li></ul></li><li><span><a href=\"#Общий-вывод\" data-toc-modified-id=\"Общий-вывод-6\"><span class=\"toc-item-num\">6&nbsp;&nbsp;</span>Общий вывод</a></span></li></ul></div>"
   ]
  },
  {
   "cell_type": "markdown",
   "metadata": {},
   "source": [
    "# Изучение поведения пользователей мобильного приложения"
   ]
  },
  {
   "cell_type": "markdown",
   "metadata": {},
   "source": [
    "Мы работаеем в стартапе, который продаёт продукты питания. Нужно разобраться, как ведут себя пользователи нашего мобильного приложения.\n",
    "\n",
    "Необходимо изучить воронку продаж. Узнать, как пользователи доходят до покупки. Сколько пользователей доходит до покупки, а сколько — «застревает» на предыдущих шагах? На каких именно?\n",
    "После этого необходимо исследовать результаты A/A/B-эксперимента. Дизайнеры захотели поменять шрифты во всём приложении, а менеджеры испугались, что пользователям будет непривычно. Договорились принять решение по результатам A/A/B-теста. \n",
    "\n",
    "Пользователей разбили на 3 группы: 2 контрольные со старыми шрифтами и одну экспериментальную — с новыми. Нужно выяснить, какой шрифт лучше.\n",
    "\n",
    "Создание двух групп A вместо одной имеет определённые преимущества. Если две контрольные группы окажутся равны, мы можем быть уверены в точности проведенного тестирования. Если же между значениями A и A будут существенные различия, это поможет обнаружить факторы, которые привели к искажению результатов. Сравнение контрольных групп также помогает понять, сколько времени и данных потребуется для дальнейших тестов.\n",
    "\n",
    "В случае общей аналитики и A/A/B-эксперимента необходимо работать с одними и теми же данными. В реальных проектах всегда идут эксперименты. Аналитики исследуют качество работы приложения по общим данным, не учитывая принадлежность пользователей к экспериментам.\n",
    "\n",
    "**Цель исследования**: изучить воронку продаж, определить, как пользователи доходят до покупки, сколько пользователей доходит до покупки, сколько пользователей застревает» на предыдущих шагах и на каких именно, исследовать результаты A/A/B-эксперимента.\n",
    "\n",
    "**Описание данных**\n",
    "\n",
    "Данные с описанием действий пользователя или событий, которые хранятся в таблице по адресу `/datasets/logs_exp.csv`:\n",
    "- `EventName` — название события;\n",
    "- `DeviceIDHash` — уникальный идентификатор пользователя;\n",
    "- `EventTimestamp` — время события;\n",
    "- `ExpId` — номер эксперимента: 246 и 247 — контрольные группы, а 248 — экспериментальная.."
   ]
  },
  {
   "cell_type": "markdown",
   "metadata": {},
   "source": [
    "## Знакомство с данными и подготовка к анализу"
   ]
  },
  {
   "cell_type": "markdown",
   "metadata": {},
   "source": [
    "Перед началом работы с данными импортируем все необходимые библиотеки, а также обновим имеющиеся:"
   ]
  },
  {
   "cell_type": "code",
   "execution_count": 64,
   "metadata": {},
   "outputs": [],
   "source": [
    "import pandas as pd\n",
    "#!pip install plotly --user --upgrade\n",
    "#!pip install matplotlib --user --upgrade\n",
    "import numpy as np\n",
    "from scipy import stats as st\n",
    "import math as mth\n",
    "import seaborn as sns\n",
    "import matplotlib.pyplot as plt\n",
    "import plotly.express as px\n",
    "from plotly import graph_objects as go\n",
    "from pandas.plotting import register_matplotlib_converters\n",
    "register_matplotlib_converters()\n",
    "sns.set(rc={'figure.figsize':(16, 9)})"
   ]
  },
  {
   "cell_type": "markdown",
   "metadata": {},
   "source": [
    "### Открытие файла с данными и изучение общей информации"
   ]
  },
  {
   "cell_type": "markdown",
   "metadata": {},
   "source": [
    "С помощью библиотеки Pandas откроем файл и ознакомимся с данными:"
   ]
  },
  {
   "cell_type": "code",
   "execution_count": 65,
   "metadata": {},
   "outputs": [
    {
     "data": {
      "text/html": [
       "<div>\n",
       "<style scoped>\n",
       "    .dataframe tbody tr th:only-of-type {\n",
       "        vertical-align: middle;\n",
       "    }\n",
       "\n",
       "    .dataframe tbody tr th {\n",
       "        vertical-align: top;\n",
       "    }\n",
       "\n",
       "    .dataframe thead th {\n",
       "        text-align: right;\n",
       "    }\n",
       "</style>\n",
       "<table border=\"1\" class=\"dataframe\">\n",
       "  <thead>\n",
       "    <tr style=\"text-align: right;\">\n",
       "      <th></th>\n",
       "      <th>EventName</th>\n",
       "      <th>DeviceIDHash</th>\n",
       "      <th>EventTimestamp</th>\n",
       "      <th>ExpId</th>\n",
       "    </tr>\n",
       "  </thead>\n",
       "  <tbody>\n",
       "    <tr>\n",
       "      <th>199788</th>\n",
       "      <td>MainScreenAppear</td>\n",
       "      <td>6766077601151272954</td>\n",
       "      <td>1565103913</td>\n",
       "      <td>246</td>\n",
       "    </tr>\n",
       "    <tr>\n",
       "      <th>15735</th>\n",
       "      <td>CartScreenAppear</td>\n",
       "      <td>7738058666231999878</td>\n",
       "      <td>1564657985</td>\n",
       "      <td>246</td>\n",
       "    </tr>\n",
       "    <tr>\n",
       "      <th>41177</th>\n",
       "      <td>PaymentScreenSuccessful</td>\n",
       "      <td>6304868067479728361</td>\n",
       "      <td>1564714689</td>\n",
       "      <td>248</td>\n",
       "    </tr>\n",
       "    <tr>\n",
       "      <th>156590</th>\n",
       "      <td>MainScreenAppear</td>\n",
       "      <td>4365774420643598752</td>\n",
       "      <td>1565007547</td>\n",
       "      <td>247</td>\n",
       "    </tr>\n",
       "    <tr>\n",
       "      <th>94985</th>\n",
       "      <td>MainScreenAppear</td>\n",
       "      <td>7753279087309182208</td>\n",
       "      <td>1564841965</td>\n",
       "      <td>246</td>\n",
       "    </tr>\n",
       "    <tr>\n",
       "      <th>13453</th>\n",
       "      <td>OffersScreenAppear</td>\n",
       "      <td>4973453905655166925</td>\n",
       "      <td>1564653855</td>\n",
       "      <td>248</td>\n",
       "    </tr>\n",
       "    <tr>\n",
       "      <th>144939</th>\n",
       "      <td>OffersScreenAppear</td>\n",
       "      <td>493356215672971026</td>\n",
       "      <td>1564986043</td>\n",
       "      <td>246</td>\n",
       "    </tr>\n",
       "    <tr>\n",
       "      <th>227522</th>\n",
       "      <td>CartScreenAppear</td>\n",
       "      <td>2474336316440936297</td>\n",
       "      <td>1565181187</td>\n",
       "      <td>246</td>\n",
       "    </tr>\n",
       "    <tr>\n",
       "      <th>22715</th>\n",
       "      <td>PaymentScreenSuccessful</td>\n",
       "      <td>197027893265565660</td>\n",
       "      <td>1564668101</td>\n",
       "      <td>246</td>\n",
       "    </tr>\n",
       "    <tr>\n",
       "      <th>143303</th>\n",
       "      <td>OffersScreenAppear</td>\n",
       "      <td>7139541019841169923</td>\n",
       "      <td>1564981792</td>\n",
       "      <td>247</td>\n",
       "    </tr>\n",
       "  </tbody>\n",
       "</table>\n",
       "</div>"
      ],
      "text/plain": [
       "                      EventName         DeviceIDHash  EventTimestamp  ExpId\n",
       "199788         MainScreenAppear  6766077601151272954      1565103913    246\n",
       "15735          CartScreenAppear  7738058666231999878      1564657985    246\n",
       "41177   PaymentScreenSuccessful  6304868067479728361      1564714689    248\n",
       "156590         MainScreenAppear  4365774420643598752      1565007547    247\n",
       "94985          MainScreenAppear  7753279087309182208      1564841965    246\n",
       "13453        OffersScreenAppear  4973453905655166925      1564653855    248\n",
       "144939       OffersScreenAppear   493356215672971026      1564986043    246\n",
       "227522         CartScreenAppear  2474336316440936297      1565181187    246\n",
       "22715   PaymentScreenSuccessful   197027893265565660      1564668101    246\n",
       "143303       OffersScreenAppear  7139541019841169923      1564981792    247"
      ]
     },
     "execution_count": 65,
     "metadata": {},
     "output_type": "execute_result"
    }
   ],
   "source": [
    "data = pd.read_csv('/datasets/logs_exp.csv', sep = '\\t')\n",
    "data.sample(10)"
   ]
  },
  {
   "cell_type": "markdown",
   "metadata": {},
   "source": [
    "Изучим **общую** информацию о данных:"
   ]
  },
  {
   "cell_type": "code",
   "execution_count": 66,
   "metadata": {},
   "outputs": [
    {
     "name": "stdout",
     "output_type": "stream",
     "text": [
      "<class 'pandas.core.frame.DataFrame'>\n",
      "RangeIndex: 244126 entries, 0 to 244125\n",
      "Data columns (total 4 columns):\n",
      " #   Column          Non-Null Count   Dtype \n",
      "---  ------          --------------   ----- \n",
      " 0   EventName       244126 non-null  object\n",
      " 1   DeviceIDHash    244126 non-null  int64 \n",
      " 2   EventTimestamp  244126 non-null  int64 \n",
      " 3   ExpId           244126 non-null  int64 \n",
      "dtypes: int64(3), object(1)\n",
      "memory usage: 7.5+ MB\n"
     ]
    }
   ],
   "source": [
    "data.info()"
   ]
  },
  {
   "cell_type": "markdown",
   "metadata": {},
   "source": [
    "Изучив общую информацию о данных можно сделать вывод о том, что для дальнейшей работы с данными необходимо:\n",
    "- изменить названия столбцов на более удобные;\n",
    "- откорректировать столбец, указывающий информацию о времени события (добавить столбец с датой и временем, а также столбец даты)"
   ]
  },
  {
   "cell_type": "markdown",
   "metadata": {},
   "source": [
    "## Подготовка данных к анализу"
   ]
  },
  {
   "cell_type": "markdown",
   "metadata": {},
   "source": [
    "Выведем на экран названия стобцов таблицы:"
   ]
  },
  {
   "cell_type": "code",
   "execution_count": 67,
   "metadata": {},
   "outputs": [
    {
     "data": {
      "text/plain": [
       "['EventName', 'DeviceIDHash', 'EventTimestamp', 'ExpId']"
      ]
     },
     "execution_count": 67,
     "metadata": {},
     "output_type": "execute_result"
    }
   ],
   "source": [
    "data.columns.tolist()"
   ]
  },
  {
   "cell_type": "markdown",
   "metadata": {},
   "source": [
    "Заменим **названия** некоторых столбцов на более удобные, а также приведем названия к \"хорошему\" тону:"
   ]
  },
  {
   "cell_type": "code",
   "execution_count": 68,
   "metadata": {},
   "outputs": [],
   "source": [
    "data = data.rename(\n",
    "    columns = {'EventName':'event_name', 'DeviceIDHash':'user_id', 'EventTimestamp':'event_timestamp', 'ExpId':'group'}\n",
    ")"
   ]
  },
  {
   "cell_type": "markdown",
   "metadata": {},
   "source": [
    "Еще раз выведем на экран названия столбцов таблицы и убедимся, что изменения внесены верно:"
   ]
  },
  {
   "cell_type": "code",
   "execution_count": 69,
   "metadata": {},
   "outputs": [
    {
     "data": {
      "text/plain": [
       "['event_name', 'user_id', 'event_timestamp', 'group']"
      ]
     },
     "execution_count": 69,
     "metadata": {},
     "output_type": "execute_result"
    }
   ],
   "source": [
    "data.columns.tolist()"
   ]
  },
  {
   "cell_type": "markdown",
   "metadata": {},
   "source": [
    "Проверим таблицу на наличие **пропусков** и выведем их количество:"
   ]
  },
  {
   "cell_type": "code",
   "execution_count": 70,
   "metadata": {},
   "outputs": [
    {
     "data": {
      "text/plain": [
       "event_name         0\n",
       "user_id            0\n",
       "event_timestamp    0\n",
       "group              0\n",
       "dtype: int64"
      ]
     },
     "execution_count": 70,
     "metadata": {},
     "output_type": "execute_result"
    }
   ],
   "source": [
    "data.isna().sum()"
   ]
  },
  {
   "cell_type": "markdown",
   "metadata": {},
   "source": [
    "**Пропуски** в таблице **отсутствуют**."
   ]
  },
  {
   "cell_type": "markdown",
   "metadata": {},
   "source": [
    "Произведем поиск **явных дубликатов** таблицы и выведем их количество:"
   ]
  },
  {
   "cell_type": "code",
   "execution_count": 71,
   "metadata": {},
   "outputs": [
    {
     "data": {
      "text/plain": [
       "413"
      ]
     },
     "execution_count": 71,
     "metadata": {},
     "output_type": "execute_result"
    }
   ],
   "source": [
    "data.duplicated().sum()"
   ]
  },
  {
   "cell_type": "markdown",
   "metadata": {},
   "source": [
    "В таблице найдено **413 явных дубликатов**, что составляет **0.2%** от общего количества строк. Один и тот же пользователь никак не мог совершить одно и то же действие несколько раз в одно время, поэтому данные дубликаты, вероятнее всего, возникли в результате технической ошибки при выгрузке данных. Так как количество дубликатов составляет **0.2%**, что является незначительным числом, данные строки можно **удалить** из таблицы:"
   ]
  },
  {
   "cell_type": "code",
   "execution_count": 72,
   "metadata": {},
   "outputs": [],
   "source": [
    "data = data.drop_duplicates().reset_index(drop=True)"
   ]
  },
  {
   "cell_type": "markdown",
   "metadata": {},
   "source": [
    "Повторно выведем на экран количество явных дубликатов и убедимся, что изменения внесены верно:"
   ]
  },
  {
   "cell_type": "code",
   "execution_count": 73,
   "metadata": {},
   "outputs": [
    {
     "data": {
      "text/plain": [
       "0"
      ]
     },
     "execution_count": 73,
     "metadata": {},
     "output_type": "execute_result"
    }
   ],
   "source": [
    "data.duplicated().sum()"
   ]
  },
  {
   "cell_type": "markdown",
   "metadata": {},
   "source": [
    "**Явные дубликаты** в таблице **отсутствуют**."
   ]
  },
  {
   "cell_type": "markdown",
   "metadata": {},
   "source": [
    "Добавим в таблицу 2 столбца:\n",
    "- `event_dt` - столбец с указание даты и времени события;\n",
    "- `event_date` - столбец с указание даты события"
   ]
  },
  {
   "cell_type": "code",
   "execution_count": 74,
   "metadata": {},
   "outputs": [],
   "source": [
    "data['event_dt'] = pd.to_datetime(data['event_timestamp'], unit='s')\n",
    "data['event_date'] = data['event_dt'].astype('datetime64[D]')"
   ]
  },
  {
   "cell_type": "markdown",
   "metadata": {},
   "source": [
    "Выведем на экран **финальный** вариант таблицы, подготовленный к дальнейшему анализу:"
   ]
  },
  {
   "cell_type": "code",
   "execution_count": 75,
   "metadata": {},
   "outputs": [
    {
     "data": {
      "text/html": [
       "<div>\n",
       "<style scoped>\n",
       "    .dataframe tbody tr th:only-of-type {\n",
       "        vertical-align: middle;\n",
       "    }\n",
       "\n",
       "    .dataframe tbody tr th {\n",
       "        vertical-align: top;\n",
       "    }\n",
       "\n",
       "    .dataframe thead th {\n",
       "        text-align: right;\n",
       "    }\n",
       "</style>\n",
       "<table border=\"1\" class=\"dataframe\">\n",
       "  <thead>\n",
       "    <tr style=\"text-align: right;\">\n",
       "      <th></th>\n",
       "      <th>event_name</th>\n",
       "      <th>user_id</th>\n",
       "      <th>event_timestamp</th>\n",
       "      <th>group</th>\n",
       "      <th>event_dt</th>\n",
       "      <th>event_date</th>\n",
       "    </tr>\n",
       "  </thead>\n",
       "  <tbody>\n",
       "    <tr>\n",
       "      <th>134889</th>\n",
       "      <td>MainScreenAppear</td>\n",
       "      <td>5746969938801999050</td>\n",
       "      <td>1564940518</td>\n",
       "      <td>246</td>\n",
       "      <td>2019-08-04 17:41:58</td>\n",
       "      <td>2019-08-04</td>\n",
       "    </tr>\n",
       "    <tr>\n",
       "      <th>80045</th>\n",
       "      <td>CartScreenAppear</td>\n",
       "      <td>8945952918647295565</td>\n",
       "      <td>1564818868</td>\n",
       "      <td>247</td>\n",
       "      <td>2019-08-03 07:54:28</td>\n",
       "      <td>2019-08-03</td>\n",
       "    </tr>\n",
       "    <tr>\n",
       "      <th>104867</th>\n",
       "      <td>MainScreenAppear</td>\n",
       "      <td>7535195399144709604</td>\n",
       "      <td>1564859074</td>\n",
       "      <td>248</td>\n",
       "      <td>2019-08-03 19:04:34</td>\n",
       "      <td>2019-08-03</td>\n",
       "    </tr>\n",
       "    <tr>\n",
       "      <th>136595</th>\n",
       "      <td>PaymentScreenSuccessful</td>\n",
       "      <td>6613527411922640441</td>\n",
       "      <td>1564943571</td>\n",
       "      <td>246</td>\n",
       "      <td>2019-08-04 18:32:51</td>\n",
       "      <td>2019-08-04</td>\n",
       "    </tr>\n",
       "    <tr>\n",
       "      <th>218955</th>\n",
       "      <td>PaymentScreenSuccessful</td>\n",
       "      <td>1706269721136453681</td>\n",
       "      <td>1565164573</td>\n",
       "      <td>247</td>\n",
       "      <td>2019-08-07 07:56:13</td>\n",
       "      <td>2019-08-07</td>\n",
       "    </tr>\n",
       "    <tr>\n",
       "      <th>93348</th>\n",
       "      <td>MainScreenAppear</td>\n",
       "      <td>5939941365554340088</td>\n",
       "      <td>1564839799</td>\n",
       "      <td>246</td>\n",
       "      <td>2019-08-03 13:43:19</td>\n",
       "      <td>2019-08-03</td>\n",
       "    </tr>\n",
       "    <tr>\n",
       "      <th>141025</th>\n",
       "      <td>MainScreenAppear</td>\n",
       "      <td>5930914223175890912</td>\n",
       "      <td>1564968816</td>\n",
       "      <td>247</td>\n",
       "      <td>2019-08-05 01:33:36</td>\n",
       "      <td>2019-08-05</td>\n",
       "    </tr>\n",
       "    <tr>\n",
       "      <th>35038</th>\n",
       "      <td>OffersScreenAppear</td>\n",
       "      <td>6932517045703054087</td>\n",
       "      <td>1564686195</td>\n",
       "      <td>248</td>\n",
       "      <td>2019-08-01 19:03:15</td>\n",
       "      <td>2019-08-01</td>\n",
       "    </tr>\n",
       "    <tr>\n",
       "      <th>130571</th>\n",
       "      <td>CartScreenAppear</td>\n",
       "      <td>1563373457684592643</td>\n",
       "      <td>1564933505</td>\n",
       "      <td>248</td>\n",
       "      <td>2019-08-04 15:45:05</td>\n",
       "      <td>2019-08-04</td>\n",
       "    </tr>\n",
       "    <tr>\n",
       "      <th>153978</th>\n",
       "      <td>CartScreenAppear</td>\n",
       "      <td>6842939155688060868</td>\n",
       "      <td>1565003684</td>\n",
       "      <td>248</td>\n",
       "      <td>2019-08-05 11:14:44</td>\n",
       "      <td>2019-08-05</td>\n",
       "    </tr>\n",
       "  </tbody>\n",
       "</table>\n",
       "</div>"
      ],
      "text/plain": [
       "                     event_name              user_id  event_timestamp  group  \\\n",
       "134889         MainScreenAppear  5746969938801999050       1564940518    246   \n",
       "80045          CartScreenAppear  8945952918647295565       1564818868    247   \n",
       "104867         MainScreenAppear  7535195399144709604       1564859074    248   \n",
       "136595  PaymentScreenSuccessful  6613527411922640441       1564943571    246   \n",
       "218955  PaymentScreenSuccessful  1706269721136453681       1565164573    247   \n",
       "93348          MainScreenAppear  5939941365554340088       1564839799    246   \n",
       "141025         MainScreenAppear  5930914223175890912       1564968816    247   \n",
       "35038        OffersScreenAppear  6932517045703054087       1564686195    248   \n",
       "130571         CartScreenAppear  1563373457684592643       1564933505    248   \n",
       "153978         CartScreenAppear  6842939155688060868       1565003684    248   \n",
       "\n",
       "                  event_dt event_date  \n",
       "134889 2019-08-04 17:41:58 2019-08-04  \n",
       "80045  2019-08-03 07:54:28 2019-08-03  \n",
       "104867 2019-08-03 19:04:34 2019-08-03  \n",
       "136595 2019-08-04 18:32:51 2019-08-04  \n",
       "218955 2019-08-07 07:56:13 2019-08-07  \n",
       "93348  2019-08-03 13:43:19 2019-08-03  \n",
       "141025 2019-08-05 01:33:36 2019-08-05  \n",
       "35038  2019-08-01 19:03:15 2019-08-01  \n",
       "130571 2019-08-04 15:45:05 2019-08-04  \n",
       "153978 2019-08-05 11:14:44 2019-08-05  "
      ]
     },
     "execution_count": 75,
     "metadata": {},
     "output_type": "execute_result"
    }
   ],
   "source": [
    "data.sample(10)"
   ]
  },
  {
   "cell_type": "markdown",
   "metadata": {},
   "source": [
    "Выведем на экран **общую** информацию о таблице:"
   ]
  },
  {
   "cell_type": "code",
   "execution_count": 76,
   "metadata": {},
   "outputs": [
    {
     "name": "stdout",
     "output_type": "stream",
     "text": [
      "<class 'pandas.core.frame.DataFrame'>\n",
      "RangeIndex: 243713 entries, 0 to 243712\n",
      "Data columns (total 6 columns):\n",
      " #   Column           Non-Null Count   Dtype         \n",
      "---  ------           --------------   -----         \n",
      " 0   event_name       243713 non-null  object        \n",
      " 1   user_id          243713 non-null  int64         \n",
      " 2   event_timestamp  243713 non-null  int64         \n",
      " 3   group            243713 non-null  int64         \n",
      " 4   event_dt         243713 non-null  datetime64[ns]\n",
      " 5   event_date       243713 non-null  datetime64[ns]\n",
      "dtypes: datetime64[ns](2), int64(3), object(1)\n",
      "memory usage: 11.2+ MB\n"
     ]
    }
   ],
   "source": [
    "data.info()"
   ]
  },
  {
   "cell_type": "markdown",
   "metadata": {},
   "source": [
    "### Вывод по подготовке данных"
   ]
  },
  {
   "cell_type": "markdown",
   "metadata": {},
   "source": [
    "В ходе предварительной подготовки данных были произведены следующие действия:\n",
    "- загружены данные и изучена общая информация по ним;\n",
    "- изменены названия столбцов;\n",
    "- проведена проверка на наличие дубликатов и пропусков, в результате которой были удалены явные дубликаты;\n",
    "- для проведения дальнейшего анализа добавлено 2 столбца (`event_dt` - столбец с указание даты и времени события, `event_date` - столбец с указание даты события)"
   ]
  },
  {
   "cell_type": "markdown",
   "metadata": {},
   "source": [
    "## Изучение и проверка данных"
   ]
  },
  {
   "cell_type": "markdown",
   "metadata": {},
   "source": [
    "### Количество событий в логе"
   ]
  },
  {
   "cell_type": "markdown",
   "metadata": {},
   "source": [
    "Выведем на экран **общее количество** событий, **количество уникальных** событий и **список уникальных** событий:"
   ]
  },
  {
   "cell_type": "code",
   "execution_count": 77,
   "metadata": {},
   "outputs": [
    {
     "name": "stdout",
     "output_type": "stream",
     "text": [
      "Всего событий в логе: 243713\n",
      "Количество уникальных событий в логе: 5\n",
      "Список уникальных событий: ['MainScreenAppear', 'PaymentScreenSuccessful', 'CartScreenAppear', 'OffersScreenAppear', 'Tutorial']\n"
     ]
    }
   ],
   "source": [
    "print('Всего событий в логе:', data.shape[0])\n",
    "print('Количество уникальных событий в логе:', data['event_name'].nunique())\n",
    "print('Список уникальных событий:', data['event_name'].unique().tolist())"
   ]
  },
  {
   "cell_type": "markdown",
   "metadata": {},
   "source": [
    "### Количество пользователей в логе"
   ]
  },
  {
   "cell_type": "markdown",
   "metadata": {},
   "source": [
    "Выведем на экран **количество уникальных** пользователей:"
   ]
  },
  {
   "cell_type": "code",
   "execution_count": 78,
   "metadata": {},
   "outputs": [
    {
     "name": "stdout",
     "output_type": "stream",
     "text": [
      "Количество пользователей в логе: 7551\n"
     ]
    }
   ],
   "source": [
    "print('Количество пользователей в логе:', data['user_id'].nunique())"
   ]
  },
  {
   "cell_type": "markdown",
   "metadata": {},
   "source": [
    "### Среднее количество событий на одного пользователя"
   ]
  },
  {
   "cell_type": "markdown",
   "metadata": {},
   "source": [
    "Выведем на экран **среднее количество** событий на одного пользователя:"
   ]
  },
  {
   "cell_type": "code",
   "execution_count": 79,
   "metadata": {},
   "outputs": [
    {
     "name": "stdout",
     "output_type": "stream",
     "text": [
      "Среднее количество событий на одного пользователя: 32\n"
     ]
    }
   ],
   "source": [
    "print('Среднее количество событий на одного пользователя:', round(data.shape[0]/data['user_id'].nunique()))"
   ]
  },
  {
   "cell_type": "markdown",
   "metadata": {},
   "source": [
    "### Определение периода времени, за который имеются данные"
   ]
  },
  {
   "cell_type": "markdown",
   "metadata": {},
   "source": [
    "Выведем на экран **минимальную** и **максимальную** дату, а также **исследуемый период**:"
   ]
  },
  {
   "cell_type": "code",
   "execution_count": 80,
   "metadata": {},
   "outputs": [
    {
     "name": "stdout",
     "output_type": "stream",
     "text": [
      "Минимальная дата события: 2019-07-25 04:43:36\n",
      "Максимальная дата события: 2019-08-07 21:15:17\n",
      "Период времени, за который имеются данные: 13 days 16:31:41\n"
     ]
    }
   ],
   "source": [
    "print('Минимальная дата события:', data['event_dt'].min())\n",
    "print('Максимальная дата события:', data['event_dt'].max())\n",
    "print('Период времени, за который имеются данные:', data['event_dt'].max()-data['event_dt'].min())"
   ]
  },
  {
   "cell_type": "markdown",
   "metadata": {},
   "source": [
    "Построим **гистограмму** по дате и времени:"
   ]
  },
  {
   "cell_type": "code",
   "execution_count": 81,
   "metadata": {
    "scrolled": false
   },
   "outputs": [
    {
     "data": {
      "image/png": "[encoded data removed]",
      "text/plain": [
       "<Figure size 1152x648 with 1 Axes>"
      ]
     },
     "metadata": {},
     "output_type": "display_data"
    }
   ],
   "source": [
    "ax = data['event_dt'].hist(bins=150)\n",
    "plt.title('Гистограмма по дате и времени')\n",
    "plt.xlabel(\"Дата\")\n",
    "plt.ylabel(\"Частота событий\")\n",
    "plt.xticks(rotation=45)\n",
    "plt.show()"
   ]
  },
  {
   "cell_type": "markdown",
   "metadata": {},
   "source": [
    "По гистрограмме видно, что в период времени с 25 июля 2019 года по 31 июля 2019 года данные **неполные**, следовательно следует **исключить** из дальнейшего анализа данные за указанный период:"
   ]
  },
  {
   "cell_type": "code",
   "execution_count": 82,
   "metadata": {},
   "outputs": [],
   "source": [
    "data_full = data.query('event_date > \"2019-07-31\"')"
   ]
  },
  {
   "cell_type": "markdown",
   "metadata": {},
   "source": [
    "Построим гистрограмму по **полным** данным:"
   ]
  },
  {
   "cell_type": "code",
   "execution_count": 83,
   "metadata": {
    "scrolled": false
   },
   "outputs": [
    {
     "data": {
      "image/png": "[encoded data removed]",
      "text/plain": [
       "<Figure size 1152x648 with 1 Axes>"
      ]
     },
     "metadata": {},
     "output_type": "display_data"
    }
   ],
   "source": [
    "ax = data_full['event_dt'].hist(bins=150)\n",
    "plt.title('Гистограмма по дате и времени')\n",
    "plt.xlabel(\"Дата\")\n",
    "plt.ylabel(\"Частота событий\")\n",
    "plt.xticks(rotation=45)\n",
    "plt.show()"
   ]
  },
  {
   "cell_type": "markdown",
   "metadata": {},
   "source": [
    "Выведем на экран **минимальную** и **максимальную** дату периода с полными данными, а также **исследуемый период**:"
   ]
  },
  {
   "cell_type": "code",
   "execution_count": 84,
   "metadata": {},
   "outputs": [
    {
     "name": "stdout",
     "output_type": "stream",
     "text": [
      "Минимальная дата события: 2019-08-01 00:07:28\n",
      "Максимальная дата события: 2019-08-07 21:15:17\n",
      "Период времени, за который имеются данные: 6 days 21:07:49\n"
     ]
    }
   ],
   "source": [
    "print('Минимальная дата события:', data_full['event_dt'].min())\n",
    "print('Максимальная дата события:', data_full['event_dt'].max())\n",
    "print('Период времени, за который имеются данные:', data_full['event_dt'].max()-data_full['event_dt'].min())"
   ]
  },
  {
   "cell_type": "markdown",
   "metadata": {},
   "source": [
    "Таким образом, можно сделать вывод о том, что на самом деле мы располагаем данными **за 7 дней** (период с 1 августа 2019 года по 7 августа 2019 года)."
   ]
  },
  {
   "cell_type": "markdown",
   "metadata": {},
   "source": [
    "### Количество событий и пользователей, потерянных при удалении старых данных"
   ]
  },
  {
   "cell_type": "markdown",
   "metadata": {},
   "source": [
    "Проверим, сколько событий мы потеряли при удалении периода времени с неполными данными:"
   ]
  },
  {
   "cell_type": "code",
   "execution_count": 85,
   "metadata": {},
   "outputs": [
    {
     "name": "stdout",
     "output_type": "stream",
     "text": [
      "Событий перед удалением неполных данных: 243713\n",
      "Событий после удаления неполных данных: 240887\n",
      "Количество потерянных событий: 2826\n"
     ]
    }
   ],
   "source": [
    "print('Событий перед удалением неполных данных:', data.shape[0])\n",
    "print('Событий после удаления неполных данных:', data_full.shape[0])\n",
    "print('Количество потерянных событий:', data.shape[0]-data_full.shape[0])"
   ]
  },
  {
   "cell_type": "markdown",
   "metadata": {},
   "source": [
    "После удаления старых данных мы потеряли **2826 событий** (**1.2%** от общего количества событий). Данное количество является **незначительным**."
   ]
  },
  {
   "cell_type": "markdown",
   "metadata": {},
   "source": [
    "Проверим, сколько пользователей мы потеряли при удалении периода времени с неполными данными:"
   ]
  },
  {
   "cell_type": "code",
   "execution_count": 86,
   "metadata": {},
   "outputs": [
    {
     "name": "stdout",
     "output_type": "stream",
     "text": [
      "Пользователей перед удалением неполных данных: 7551\n",
      "Пользователей после удаления неполных данных: 7534\n",
      "Количество потерянных пользователей: 17\n"
     ]
    }
   ],
   "source": [
    "print('Пользователей перед удалением неполных данных:', data['user_id'].nunique())\n",
    "print('Пользователей после удаления неполных данных:', data_full['user_id'].nunique())\n",
    "print('Количество потерянных пользователей:', data['user_id'].nunique()-data_full['user_id'].nunique())"
   ]
  },
  {
   "cell_type": "markdown",
   "metadata": {},
   "source": [
    "После удаления старых данных мы потеряли **17 пользователей** (**0.2%** от общего количества пользователей). Данное количество является **незначительным**."
   ]
  },
  {
   "cell_type": "markdown",
   "metadata": {},
   "source": [
    "### Проверка наличия пользователей в 3 экспериментальных группах"
   ]
  },
  {
   "cell_type": "markdown",
   "metadata": {},
   "source": [
    "Создадим срезы данных по разным контрольным группам:"
   ]
  },
  {
   "cell_type": "code",
   "execution_count": 87,
   "metadata": {},
   "outputs": [],
   "source": [
    "a = data_full.query('group == 246')\n",
    "b = data_full.query('group == 247')\n",
    "c = data_full.query('group == 248')"
   ]
  },
  {
   "cell_type": "markdown",
   "metadata": {},
   "source": [
    "Выведем на экран **количество пользователей** в **каждой** контрольной группе:"
   ]
  },
  {
   "cell_type": "code",
   "execution_count": 88,
   "metadata": {},
   "outputs": [
    {
     "name": "stdout",
     "output_type": "stream",
     "text": [
      "Количество пользователей в группе 246: 2484\n",
      "Количество пользователей в группе 247: 2513\n",
      "Количество пользователей в группе 248: 2537\n"
     ]
    }
   ],
   "source": [
    "print('Количество пользователей в группе 246:', a['user_id'].nunique())\n",
    "print('Количество пользователей в группе 247:', b['user_id'].nunique())\n",
    "print('Количество пользователей в группе 248:', c['user_id'].nunique())"
   ]
  },
  {
   "cell_type": "markdown",
   "metadata": {},
   "source": [
    "Проверим, не попали ли **одни и те же пользователи** одновременно во все 3 экспериментальные группы:"
   ]
  },
  {
   "cell_type": "code",
   "execution_count": 89,
   "metadata": {},
   "outputs": [
    {
     "data": {
      "text/plain": [
       "0"
      ]
     },
     "execution_count": 89,
     "metadata": {},
     "output_type": "execute_result"
    }
   ],
   "source": [
    "len(list(set(a['user_id']) & set(b['user_id']) & set(c['user_id'])))"
   ]
  },
  {
   "cell_type": "markdown",
   "metadata": {},
   "source": [
    "Данные располагают практически **одинаковым количеством пользователей** во всех 3 экспериментальных группах. Во всех 3 группах **пользователи уникальны**, то есть никто из пользователей одной группы не находится одновременно в другой группе."
   ]
  },
  {
   "cell_type": "markdown",
   "metadata": {},
   "source": [
    "### Вывод по изучению и проверке данных"
   ]
  },
  {
   "cell_type": "markdown",
   "metadata": {},
   "source": [
    "По полученным результатам можно сделать следующие **выводы**:\n",
    "- мы располагаем полными данными только за период 7 дней (с 1 августа 2019 года по 8 августа 2019 года);\n",
    "- всего в логе 243713 событий (240887 после удаления неполных данных);\n",
    "- всего в логе 7551 пользователь (7534 после удаления неполных данных);\n",
    "- количество пользователей каждой экспериментальной группы примерно равно;\n",
    "- пользователи каждой экспериментальной группы уникальны."
   ]
  },
  {
   "cell_type": "markdown",
   "metadata": {},
   "source": [
    "## Изучение воронки событий"
   ]
  },
  {
   "cell_type": "markdown",
   "metadata": {},
   "source": [
    "### Изучение уникальных событий в логах"
   ]
  },
  {
   "cell_type": "markdown",
   "metadata": {},
   "source": [
    "Выведем на экран **количество уникальных** событий и **список уникальных** событий:"
   ]
  },
  {
   "cell_type": "code",
   "execution_count": 90,
   "metadata": {},
   "outputs": [
    {
     "name": "stdout",
     "output_type": "stream",
     "text": [
      "Количество уникальных событий в логе: 5\n",
      "Список уникальных событий: ['Tutorial', 'MainScreenAppear', 'OffersScreenAppear', 'CartScreenAppear', 'PaymentScreenSuccessful']\n"
     ]
    }
   ],
   "source": [
    "print('Количество уникальных событий в логе:', data_full['event_name'].nunique())\n",
    "print('Список уникальных событий:', data_full['event_name'].unique().tolist())"
   ]
  },
  {
   "cell_type": "markdown",
   "metadata": {},
   "source": [
    "Определим **частоту** событий в логах:"
   ]
  },
  {
   "cell_type": "code",
   "execution_count": 91,
   "metadata": {},
   "outputs": [
    {
     "data": {
      "text/html": [
       "<div>\n",
       "<style scoped>\n",
       "    .dataframe tbody tr th:only-of-type {\n",
       "        vertical-align: middle;\n",
       "    }\n",
       "\n",
       "    .dataframe tbody tr th {\n",
       "        vertical-align: top;\n",
       "    }\n",
       "\n",
       "    .dataframe thead th {\n",
       "        text-align: right;\n",
       "    }\n",
       "</style>\n",
       "<table border=\"1\" class=\"dataframe\">\n",
       "  <thead>\n",
       "    <tr style=\"text-align: right;\">\n",
       "      <th></th>\n",
       "      <th>event_name</th>\n",
       "      <th>total</th>\n",
       "    </tr>\n",
       "  </thead>\n",
       "  <tbody>\n",
       "    <tr>\n",
       "      <th>0</th>\n",
       "      <td>MainScreenAppear</td>\n",
       "      <td>117328</td>\n",
       "    </tr>\n",
       "    <tr>\n",
       "      <th>1</th>\n",
       "      <td>OffersScreenAppear</td>\n",
       "      <td>46333</td>\n",
       "    </tr>\n",
       "    <tr>\n",
       "      <th>2</th>\n",
       "      <td>CartScreenAppear</td>\n",
       "      <td>42303</td>\n",
       "    </tr>\n",
       "    <tr>\n",
       "      <th>3</th>\n",
       "      <td>PaymentScreenSuccessful</td>\n",
       "      <td>33918</td>\n",
       "    </tr>\n",
       "    <tr>\n",
       "      <th>4</th>\n",
       "      <td>Tutorial</td>\n",
       "      <td>1005</td>\n",
       "    </tr>\n",
       "  </tbody>\n",
       "</table>\n",
       "</div>"
      ],
      "text/plain": [
       "                event_name   total\n",
       "0         MainScreenAppear  117328\n",
       "1       OffersScreenAppear   46333\n",
       "2         CartScreenAppear   42303\n",
       "3  PaymentScreenSuccessful   33918\n",
       "4                 Tutorial    1005"
      ]
     },
     "execution_count": 91,
     "metadata": {},
     "output_type": "execute_result"
    }
   ],
   "source": [
    "data_en_count = (data_full\n",
    "                 .groupby('event_name')\n",
    "                 .agg({'user_id':'count'})\n",
    "                 .sort_values(by='user_id', ascending=False)\n",
    "                 .reset_index()\n",
    ")\n",
    "data_en_count.columns = ['event_name', 'total']\n",
    "data_en_count"
   ]
  },
  {
   "cell_type": "markdown",
   "metadata": {},
   "source": [
    "Визуализируем полученные данные:"
   ]
  },
  {
   "cell_type": "code",
   "execution_count": 92,
   "metadata": {
    "scrolled": false
   },
   "outputs": [
    {
     "data": {
      "application/vnd.plotly.v1+json": {
       "config": {
        "plotlyServerURL": "https://plot.ly"
       },
       "data": [
        {
         "type": "funnel",
         "x": [
          117328,
          46333,
          42303,
          33918,
          1005
         ],
         "y": [
          "MainScreenAppear",
          "OffersScreenAppear",
          "CartScreenAppear",
          "PaymentScreenSuccessful",
          "Tutorial"
         ]
        }
       ],
       "layout": {
        "template": {
         "data": {
          "bar": [
           {
            "error_x": {
             "color": "#2a3f5f"
            },
            "error_y": {
             "color": "#2a3f5f"
            },
            "marker": {
             "line": {
              "color": "#E5ECF6",
              "width": 0.5
             },
             "pattern": {
              "fillmode": "overlay",
              "size": 10,
              "solidity": 0.2
             }
            },
            "type": "bar"
           }
          ],
          "barpolar": [
           {
            "marker": {
             "line": {
              "color": "#E5ECF6",
              "width": 0.5
             },
             "pattern": {
              "fillmode": "overlay",
              "size": 10,
              "solidity": 0.2
             }
            },
            "type": "barpolar"
           }
          ],
          "carpet": [
           {
            "aaxis": {
             "endlinecolor": "#2a3f5f",
             "gridcolor": "white",
             "linecolor": "white",
             "minorgridcolor": "white",
             "startlinecolor": "#2a3f5f"
            },
            "baxis": {
             "endlinecolor": "#2a3f5f",
             "gridcolor": "white",
             "linecolor": "white",
             "minorgridcolor": "white",
             "startlinecolor": "#2a3f5f"
            },
            "type": "carpet"
           }
          ],
          "choropleth": [
           {
            "colorbar": {
             "outlinewidth": 0,
             "ticks": ""
            },
            "type": "choropleth"
           }
          ],
          "contour": [
           {
            "colorbar": {
             "outlinewidth": 0,
             "ticks": ""
            },
            "colorscale": [
             [
              0,
              "#0d0887"
             ],
             [
              0.1111111111111111,
              "#46039f"
             ],
             [
              0.2222222222222222,
              "#7201a8"
             ],
             [
              0.3333333333333333,
              "#9c179e"
             ],
             [
              0.4444444444444444,
              "#bd3786"
             ],
             [
              0.5555555555555556,
              "#d8576b"
             ],
             [
              0.6666666666666666,
              "#ed7953"
             ],
             [
              0.7777777777777778,
              "#fb9f3a"
             ],
             [
              0.8888888888888888,
              "#fdca26"
             ],
             [
              1,
              "#f0f921"
             ]
            ],
            "type": "contour"
           }
          ],
          "contourcarpet": [
           {
            "colorbar": {
             "outlinewidth": 0,
             "ticks": ""
            },
            "type": "contourcarpet"
           }
          ],
          "heatmap": [
           {
            "colorbar": {
             "outlinewidth": 0,
             "ticks": ""
            },
            "colorscale": [
             [
              0,
              "#0d0887"
             ],
             [
              0.1111111111111111,
              "#46039f"
             ],
             [
              0.2222222222222222,
              "#7201a8"
             ],
             [
              0.3333333333333333,
              "#9c179e"
             ],
             [
              0.4444444444444444,
              "#bd3786"
             ],
             [
              0.5555555555555556,
              "#d8576b"
             ],
             [
              0.6666666666666666,
              "#ed7953"
             ],
             [
              0.7777777777777778,
              "#fb9f3a"
             ],
             [
              0.8888888888888888,
              "#fdca26"
             ],
             [
              1,
              "#f0f921"
             ]
            ],
            "type": "heatmap"
           }
          ],
          "heatmapgl": [
           {
            "colorbar": {
             "outlinewidth": 0,
             "ticks": ""
            },
            "colorscale": [
             [
              0,
              "#0d0887"
             ],
             [
              0.1111111111111111,
              "#46039f"
             ],
             [
              0.2222222222222222,
              "#7201a8"
             ],
             [
              0.3333333333333333,
              "#9c179e"
             ],
             [
              0.4444444444444444,
              "#bd3786"
             ],
             [
              0.5555555555555556,
              "#d8576b"
             ],
             [
              0.6666666666666666,
              "#ed7953"
             ],
             [
              0.7777777777777778,
              "#fb9f3a"
             ],
             [
              0.8888888888888888,
              "#fdca26"
             ],
             [
              1,
              "#f0f921"
             ]
            ],
            "type": "heatmapgl"
           }
          ],
          "histogram": [
           {
            "marker": {
             "pattern": {
              "fillmode": "overlay",
              "size": 10,
              "solidity": 0.2
             }
            },
            "type": "histogram"
           }
          ],
          "histogram2d": [
           {
            "colorbar": {
             "outlinewidth": 0,
             "ticks": ""
            },
            "colorscale": [
             [
              0,
              "#0d0887"
             ],
             [
              0.1111111111111111,
              "#46039f"
             ],
             [
              0.2222222222222222,
              "#7201a8"
             ],
             [
              0.3333333333333333,
              "#9c179e"
             ],
             [
              0.4444444444444444,
              "#bd3786"
             ],
             [
              0.5555555555555556,
              "#d8576b"
             ],
             [
              0.6666666666666666,
              "#ed7953"
             ],
             [
              0.7777777777777778,
              "#fb9f3a"
             ],
             [
              0.8888888888888888,
              "#fdca26"
             ],
             [
              1,
              "#f0f921"
             ]
            ],
            "type": "histogram2d"
           }
          ],
          "histogram2dcontour": [
           {
            "colorbar": {
             "outlinewidth": 0,
             "ticks": ""
            },
            "colorscale": [
             [
              0,
              "#0d0887"
             ],
             [
              0.1111111111111111,
              "#46039f"
             ],
             [
              0.2222222222222222,
              "#7201a8"
             ],
             [
              0.3333333333333333,
              "#9c179e"
             ],
             [
              0.4444444444444444,
              "#bd3786"
             ],
             [
              0.5555555555555556,
              "#d8576b"
             ],
             [
              0.6666666666666666,
              "#ed7953"
             ],
             [
              0.7777777777777778,
              "#fb9f3a"
             ],
             [
              0.8888888888888888,
              "#fdca26"
             ],
             [
              1,
              "#f0f921"
             ]
            ],
            "type": "histogram2dcontour"
           }
          ],
          "mesh3d": [
           {
            "colorbar": {
             "outlinewidth": 0,
             "ticks": ""
            },
            "type": "mesh3d"
           }
          ],
          "parcoords": [
           {
            "line": {
             "colorbar": {
              "outlinewidth": 0,
              "ticks": ""
             }
            },
            "type": "parcoords"
           }
          ],
          "pie": [
           {
            "automargin": true,
            "type": "pie"
           }
          ],
          "scatter": [
           {
            "marker": {
             "colorbar": {
              "outlinewidth": 0,
              "ticks": ""
             }
            },
            "type": "scatter"
           }
          ],
          "scatter3d": [
           {
            "line": {
             "colorbar": {
              "outlinewidth": 0,
              "ticks": ""
             }
            },
            "marker": {
             "colorbar": {
              "outlinewidth": 0,
              "ticks": ""
             }
            },
            "type": "scatter3d"
           }
          ],
          "scattercarpet": [
           {
            "marker": {
             "colorbar": {
              "outlinewidth": 0,
              "ticks": ""
             }
            },
            "type": "scattercarpet"
           }
          ],
          "scattergeo": [
           {
            "marker": {
             "colorbar": {
              "outlinewidth": 0,
              "ticks": ""
             }
            },
            "type": "scattergeo"
           }
          ],
          "scattergl": [
           {
            "marker": {
             "colorbar": {
              "outlinewidth": 0,
              "ticks": ""
             }
            },
            "type": "scattergl"
           }
          ],
          "scattermapbox": [
           {
            "marker": {
             "colorbar": {
              "outlinewidth": 0,
              "ticks": ""
             }
            },
            "type": "scattermapbox"
           }
          ],
          "scatterpolar": [
           {
            "marker": {
             "colorbar": {
              "outlinewidth": 0,
              "ticks": ""
             }
            },
            "type": "scatterpolar"
           }
          ],
          "scatterpolargl": [
           {
            "marker": {
             "colorbar": {
              "outlinewidth": 0,
              "ticks": ""
             }
            },
            "type": "scatterpolargl"
           }
          ],
          "scatterternary": [
           {
            "marker": {
             "colorbar": {
              "outlinewidth": 0,
              "ticks": ""
             }
            },
            "type": "scatterternary"
           }
          ],
          "surface": [
           {
            "colorbar": {
             "outlinewidth": 0,
             "ticks": ""
            },
            "colorscale": [
             [
              0,
              "#0d0887"
             ],
             [
              0.1111111111111111,
              "#46039f"
             ],
             [
              0.2222222222222222,
              "#7201a8"
             ],
             [
              0.3333333333333333,
              "#9c179e"
             ],
             [
              0.4444444444444444,
              "#bd3786"
             ],
             [
              0.5555555555555556,
              "#d8576b"
             ],
             [
              0.6666666666666666,
              "#ed7953"
             ],
             [
              0.7777777777777778,
              "#fb9f3a"
             ],
             [
              0.8888888888888888,
              "#fdca26"
             ],
             [
              1,
              "#f0f921"
             ]
            ],
            "type": "surface"
           }
          ],
          "table": [
           {
            "cells": {
             "fill": {
              "color": "#EBF0F8"
             },
             "line": {
              "color": "white"
             }
            },
            "header": {
             "fill": {
              "color": "#C8D4E3"
             },
             "line": {
              "color": "white"
             }
            },
            "type": "table"
           }
          ]
         },
         "layout": {
          "annotationdefaults": {
           "arrowcolor": "#2a3f5f",
           "arrowhead": 0,
           "arrowwidth": 1
          },
          "autotypenumbers": "strict",
          "coloraxis": {
           "colorbar": {
            "outlinewidth": 0,
            "ticks": ""
           }
          },
          "colorscale": {
           "diverging": [
            [
             0,
             "#8e0152"
            ],
            [
             0.1,
             "#c51b7d"
            ],
            [
             0.2,
             "#de77ae"
            ],
            [
             0.3,
             "#f1b6da"
            ],
            [
             0.4,
             "#fde0ef"
            ],
            [
             0.5,
             "#f7f7f7"
            ],
            [
             0.6,
             "#e6f5d0"
            ],
            [
             0.7,
             "#b8e186"
            ],
            [
             0.8,
             "#7fbc41"
            ],
            [
             0.9,
             "#4d9221"
            ],
            [
             1,
             "#276419"
            ]
           ],
           "sequential": [
            [
             0,
             "#0d0887"
            ],
            [
             0.1111111111111111,
             "#46039f"
            ],
            [
             0.2222222222222222,
             "#7201a8"
            ],
            [
             0.3333333333333333,
             "#9c179e"
            ],
            [
             0.4444444444444444,
             "#bd3786"
            ],
            [
             0.5555555555555556,
             "#d8576b"
            ],
            [
             0.6666666666666666,
             "#ed7953"
            ],
            [
             0.7777777777777778,
             "#fb9f3a"
            ],
            [
             0.8888888888888888,
             "#fdca26"
            ],
            [
             1,
             "#f0f921"
            ]
           ],
           "sequentialminus": [
            [
             0,
             "#0d0887"
            ],
            [
             0.1111111111111111,
             "#46039f"
            ],
            [
             0.2222222222222222,
             "#7201a8"
            ],
            [
             0.3333333333333333,
             "#9c179e"
            ],
            [
             0.4444444444444444,
             "#bd3786"
            ],
            [
             0.5555555555555556,
             "#d8576b"
            ],
            [
             0.6666666666666666,
             "#ed7953"
            ],
            [
             0.7777777777777778,
             "#fb9f3a"
            ],
            [
             0.8888888888888888,
             "#fdca26"
            ],
            [
             1,
             "#f0f921"
            ]
           ]
          },
          "colorway": [
           "#636efa",
           "#EF553B",
           "#00cc96",
           "#ab63fa",
           "#FFA15A",
           "#19d3f3",
           "#FF6692",
           "#B6E880",
           "#FF97FF",
           "#FECB52"
          ],
          "font": {
           "color": "#2a3f5f"
          },
          "geo": {
           "bgcolor": "white",
           "lakecolor": "white",
           "landcolor": "#E5ECF6",
           "showlakes": true,
           "showland": true,
           "subunitcolor": "white"
          },
          "hoverlabel": {
           "align": "left"
          },
          "hovermode": "closest",
          "mapbox": {
           "style": "light"
          },
          "paper_bgcolor": "white",
          "plot_bgcolor": "#E5ECF6",
          "polar": {
           "angularaxis": {
            "gridcolor": "white",
            "linecolor": "white",
            "ticks": ""
           },
           "bgcolor": "#E5ECF6",
           "radialaxis": {
            "gridcolor": "white",
            "linecolor": "white",
            "ticks": ""
           }
          },
          "scene": {
           "xaxis": {
            "backgroundcolor": "#E5ECF6",
            "gridcolor": "white",
            "gridwidth": 2,
            "linecolor": "white",
            "showbackground": true,
            "ticks": "",
            "zerolinecolor": "white"
           },
           "yaxis": {
            "backgroundcolor": "#E5ECF6",
            "gridcolor": "white",
            "gridwidth": 2,
            "linecolor": "white",
            "showbackground": true,
            "ticks": "",
            "zerolinecolor": "white"
           },
           "zaxis": {
            "backgroundcolor": "#E5ECF6",
            "gridcolor": "white",
            "gridwidth": 2,
            "linecolor": "white",
            "showbackground": true,
            "ticks": "",
            "zerolinecolor": "white"
           }
          },
          "shapedefaults": {
           "line": {
            "color": "#2a3f5f"
           }
          },
          "ternary": {
           "aaxis": {
            "gridcolor": "white",
            "linecolor": "white",
            "ticks": ""
           },
           "baxis": {
            "gridcolor": "white",
            "linecolor": "white",
            "ticks": ""
           },
           "bgcolor": "#E5ECF6",
           "caxis": {
            "gridcolor": "white",
            "linecolor": "white",
            "ticks": ""
           }
          },
          "title": {
           "x": 0.05
          },
          "xaxis": {
           "automargin": true,
           "gridcolor": "white",
           "linecolor": "white",
           "ticks": "",
           "title": {
            "standoff": 15
           },
           "zerolinecolor": "white",
           "zerolinewidth": 2
          },
          "yaxis": {
           "automargin": true,
           "gridcolor": "white",
           "linecolor": "white",
           "ticks": "",
           "title": {
            "standoff": 15
           },
           "zerolinecolor": "white",
           "zerolinewidth": 2
          }
         }
        }
       }
      },
      "text/html": [
       "<div>                            <div id=\"12e17de7-2f97-46af-bd93-dc896d1de713\" class=\"plotly-graph-div\" style=\"height:525px; width:100%;\"></div>            <script type=\"text/javascript\">                require([\"plotly\"], function(Plotly) {                    window.PLOTLYENV=window.PLOTLYENV || {};                                    if (document.getElementById(\"12e17de7-2f97-46af-bd93-dc896d1de713\")) {                    Plotly.newPlot(                        \"12e17de7-2f97-46af-bd93-dc896d1de713\",                        [{\"x\":[117328,46333,42303,33918,1005],\"y\":[\"MainScreenAppear\",\"OffersScreenAppear\",\"CartScreenAppear\",\"PaymentScreenSuccessful\",\"Tutorial\"],\"type\":\"funnel\"}],                        {\"template\":{\"data\":{\"bar\":[{\"error_x\":{\"color\":\"#2a3f5f\"},\"error_y\":{\"color\":\"#2a3f5f\"},\"marker\":{\"line\":{\"color\":\"#E5ECF6\",\"width\":0.5},\"pattern\":{\"fillmode\":\"overlay\",\"size\":10,\"solidity\":0.2}},\"type\":\"bar\"}],\"barpolar\":[{\"marker\":{\"line\":{\"color\":\"#E5ECF6\",\"width\":0.5},\"pattern\":{\"fillmode\":\"overlay\",\"size\":10,\"solidity\":0.2}},\"type\":\"barpolar\"}],\"carpet\":[{\"aaxis\":{\"endlinecolor\":\"#2a3f5f\",\"gridcolor\":\"white\",\"linecolor\":\"white\",\"minorgridcolor\":\"white\",\"startlinecolor\":\"#2a3f5f\"},\"baxis\":{\"endlinecolor\":\"#2a3f5f\",\"gridcolor\":\"white\",\"linecolor\":\"white\",\"minorgridcolor\":\"white\",\"startlinecolor\":\"#2a3f5f\"},\"type\":\"carpet\"}],\"choropleth\":[{\"colorbar\":{\"outlinewidth\":0,\"ticks\":\"\"},\"type\":\"choropleth\"}],\"contour\":[{\"colorbar\":{\"outlinewidth\":0,\"ticks\":\"\"},\"colorscale\":[[0.0,\"#0d0887\"],[0.1111111111111111,\"#46039f\"],[0.2222222222222222,\"#7201a8\"],[0.3333333333333333,\"#9c179e\"],[0.4444444444444444,\"#bd3786\"],[0.5555555555555556,\"#d8576b\"],[0.6666666666666666,\"#ed7953\"],[0.7777777777777778,\"#fb9f3a\"],[0.8888888888888888,\"#fdca26\"],[1.0,\"#f0f921\"]],\"type\":\"contour\"}],\"contourcarpet\":[{\"colorbar\":{\"outlinewidth\":0,\"ticks\":\"\"},\"type\":\"contourcarpet\"}],\"heatmap\":[{\"colorbar\":{\"outlinewidth\":0,\"ticks\":\"\"},\"colorscale\":[[0.0,\"#0d0887\"],[0.1111111111111111,\"#46039f\"],[0.2222222222222222,\"#7201a8\"],[0.3333333333333333,\"#9c179e\"],[0.4444444444444444,\"#bd3786\"],[0.5555555555555556,\"#d8576b\"],[0.6666666666666666,\"#ed7953\"],[0.7777777777777778,\"#fb9f3a\"],[0.8888888888888888,\"#fdca26\"],[1.0,\"#f0f921\"]],\"type\":\"heatmap\"}],\"heatmapgl\":[{\"colorbar\":{\"outlinewidth\":0,\"ticks\":\"\"},\"colorscale\":[[0.0,\"#0d0887\"],[0.1111111111111111,\"#46039f\"],[0.2222222222222222,\"#7201a8\"],[0.3333333333333333,\"#9c179e\"],[0.4444444444444444,\"#bd3786\"],[0.5555555555555556,\"#d8576b\"],[0.6666666666666666,\"#ed7953\"],[0.7777777777777778,\"#fb9f3a\"],[0.8888888888888888,\"#fdca26\"],[1.0,\"#f0f921\"]],\"type\":\"heatmapgl\"}],\"histogram\":[{\"marker\":{\"pattern\":{\"fillmode\":\"overlay\",\"size\":10,\"solidity\":0.2}},\"type\":\"histogram\"}],\"histogram2d\":[{\"colorbar\":{\"outlinewidth\":0,\"ticks\":\"\"},\"colorscale\":[[0.0,\"#0d0887\"],[0.1111111111111111,\"#46039f\"],[0.2222222222222222,\"#7201a8\"],[0.3333333333333333,\"#9c179e\"],[0.4444444444444444,\"#bd3786\"],[0.5555555555555556,\"#d8576b\"],[0.6666666666666666,\"#ed7953\"],[0.7777777777777778,\"#fb9f3a\"],[0.8888888888888888,\"#fdca26\"],[1.0,\"#f0f921\"]],\"type\":\"histogram2d\"}],\"histogram2dcontour\":[{\"colorbar\":{\"outlinewidth\":0,\"ticks\":\"\"},\"colorscale\":[[0.0,\"#0d0887\"],[0.1111111111111111,\"#46039f\"],[0.2222222222222222,\"#7201a8\"],[0.3333333333333333,\"#9c179e\"],[0.4444444444444444,\"#bd3786\"],[0.5555555555555556,\"#d8576b\"],[0.6666666666666666,\"#ed7953\"],[0.7777777777777778,\"#fb9f3a\"],[0.8888888888888888,\"#fdca26\"],[1.0,\"#f0f921\"]],\"type\":\"histogram2dcontour\"}],\"mesh3d\":[{\"colorbar\":{\"outlinewidth\":0,\"ticks\":\"\"},\"type\":\"mesh3d\"}],\"parcoords\":[{\"line\":{\"colorbar\":{\"outlinewidth\":0,\"ticks\":\"\"}},\"type\":\"parcoords\"}],\"pie\":[{\"automargin\":true,\"type\":\"pie\"}],\"scatter\":[{\"marker\":{\"colorbar\":{\"outlinewidth\":0,\"ticks\":\"\"}},\"type\":\"scatter\"}],\"scatter3d\":[{\"line\":{\"colorbar\":{\"outlinewidth\":0,\"ticks\":\"\"}},\"marker\":{\"colorbar\":{\"outlinewidth\":0,\"ticks\":\"\"}},\"type\":\"scatter3d\"}],\"scattercarpet\":[{\"marker\":{\"colorbar\":{\"outlinewidth\":0,\"ticks\":\"\"}},\"type\":\"scattercarpet\"}],\"scattergeo\":[{\"marker\":{\"colorbar\":{\"outlinewidth\":0,\"ticks\":\"\"}},\"type\":\"scattergeo\"}],\"scattergl\":[{\"marker\":{\"colorbar\":{\"outlinewidth\":0,\"ticks\":\"\"}},\"type\":\"scattergl\"}],\"scattermapbox\":[{\"marker\":{\"colorbar\":{\"outlinewidth\":0,\"ticks\":\"\"}},\"type\":\"scattermapbox\"}],\"scatterpolar\":[{\"marker\":{\"colorbar\":{\"outlinewidth\":0,\"ticks\":\"\"}},\"type\":\"scatterpolar\"}],\"scatterpolargl\":[{\"marker\":{\"colorbar\":{\"outlinewidth\":0,\"ticks\":\"\"}},\"type\":\"scatterpolargl\"}],\"scatterternary\":[{\"marker\":{\"colorbar\":{\"outlinewidth\":0,\"ticks\":\"\"}},\"type\":\"scatterternary\"}],\"surface\":[{\"colorbar\":{\"outlinewidth\":0,\"ticks\":\"\"},\"colorscale\":[[0.0,\"#0d0887\"],[0.1111111111111111,\"#46039f\"],[0.2222222222222222,\"#7201a8\"],[0.3333333333333333,\"#9c179e\"],[0.4444444444444444,\"#bd3786\"],[0.5555555555555556,\"#d8576b\"],[0.6666666666666666,\"#ed7953\"],[0.7777777777777778,\"#fb9f3a\"],[0.8888888888888888,\"#fdca26\"],[1.0,\"#f0f921\"]],\"type\":\"surface\"}],\"table\":[{\"cells\":{\"fill\":{\"color\":\"#EBF0F8\"},\"line\":{\"color\":\"white\"}},\"header\":{\"fill\":{\"color\":\"#C8D4E3\"},\"line\":{\"color\":\"white\"}},\"type\":\"table\"}]},\"layout\":{\"annotationdefaults\":{\"arrowcolor\":\"#2a3f5f\",\"arrowhead\":0,\"arrowwidth\":1},\"autotypenumbers\":\"strict\",\"coloraxis\":{\"colorbar\":{\"outlinewidth\":0,\"ticks\":\"\"}},\"colorscale\":{\"diverging\":[[0,\"#8e0152\"],[0.1,\"#c51b7d\"],[0.2,\"#de77ae\"],[0.3,\"#f1b6da\"],[0.4,\"#fde0ef\"],[0.5,\"#f7f7f7\"],[0.6,\"#e6f5d0\"],[0.7,\"#b8e186\"],[0.8,\"#7fbc41\"],[0.9,\"#4d9221\"],[1,\"#276419\"]],\"sequential\":[[0.0,\"#0d0887\"],[0.1111111111111111,\"#46039f\"],[0.2222222222222222,\"#7201a8\"],[0.3333333333333333,\"#9c179e\"],[0.4444444444444444,\"#bd3786\"],[0.5555555555555556,\"#d8576b\"],[0.6666666666666666,\"#ed7953\"],[0.7777777777777778,\"#fb9f3a\"],[0.8888888888888888,\"#fdca26\"],[1.0,\"#f0f921\"]],\"sequentialminus\":[[0.0,\"#0d0887\"],[0.1111111111111111,\"#46039f\"],[0.2222222222222222,\"#7201a8\"],[0.3333333333333333,\"#9c179e\"],[0.4444444444444444,\"#bd3786\"],[0.5555555555555556,\"#d8576b\"],[0.6666666666666666,\"#ed7953\"],[0.7777777777777778,\"#fb9f3a\"],[0.8888888888888888,\"#fdca26\"],[1.0,\"#f0f921\"]]},\"colorway\":[\"#636efa\",\"#EF553B\",\"#00cc96\",\"#ab63fa\",\"#FFA15A\",\"#19d3f3\",\"#FF6692\",\"#B6E880\",\"#FF97FF\",\"#FECB52\"],\"font\":{\"color\":\"#2a3f5f\"},\"geo\":{\"bgcolor\":\"white\",\"lakecolor\":\"white\",\"landcolor\":\"#E5ECF6\",\"showlakes\":true,\"showland\":true,\"subunitcolor\":\"white\"},\"hoverlabel\":{\"align\":\"left\"},\"hovermode\":\"closest\",\"mapbox\":{\"style\":\"light\"},\"paper_bgcolor\":\"white\",\"plot_bgcolor\":\"#E5ECF6\",\"polar\":{\"angularaxis\":{\"gridcolor\":\"white\",\"linecolor\":\"white\",\"ticks\":\"\"},\"bgcolor\":\"#E5ECF6\",\"radialaxis\":{\"gridcolor\":\"white\",\"linecolor\":\"white\",\"ticks\":\"\"}},\"scene\":{\"xaxis\":{\"backgroundcolor\":\"#E5ECF6\",\"gridcolor\":\"white\",\"gridwidth\":2,\"linecolor\":\"white\",\"showbackground\":true,\"ticks\":\"\",\"zerolinecolor\":\"white\"},\"yaxis\":{\"backgroundcolor\":\"#E5ECF6\",\"gridcolor\":\"white\",\"gridwidth\":2,\"linecolor\":\"white\",\"showbackground\":true,\"ticks\":\"\",\"zerolinecolor\":\"white\"},\"zaxis\":{\"backgroundcolor\":\"#E5ECF6\",\"gridcolor\":\"white\",\"gridwidth\":2,\"linecolor\":\"white\",\"showbackground\":true,\"ticks\":\"\",\"zerolinecolor\":\"white\"}},\"shapedefaults\":{\"line\":{\"color\":\"#2a3f5f\"}},\"ternary\":{\"aaxis\":{\"gridcolor\":\"white\",\"linecolor\":\"white\",\"ticks\":\"\"},\"baxis\":{\"gridcolor\":\"white\",\"linecolor\":\"white\",\"ticks\":\"\"},\"bgcolor\":\"#E5ECF6\",\"caxis\":{\"gridcolor\":\"white\",\"linecolor\":\"white\",\"ticks\":\"\"}},\"title\":{\"x\":0.05},\"xaxis\":{\"automargin\":true,\"gridcolor\":\"white\",\"linecolor\":\"white\",\"ticks\":\"\",\"title\":{\"standoff\":15},\"zerolinecolor\":\"white\",\"zerolinewidth\":2},\"yaxis\":{\"automargin\":true,\"gridcolor\":\"white\",\"linecolor\":\"white\",\"ticks\":\"\",\"title\":{\"standoff\":15},\"zerolinecolor\":\"white\",\"zerolinewidth\":2}}}},                        {\"responsive\": true}                    ).then(function(){\n",
       "                            \n",
       "var gd = document.getElementById('12e17de7-2f97-46af-bd93-dc896d1de713');\n",
       "var x = new MutationObserver(function (mutations, observer) {{\n",
       "        var display = window.getComputedStyle(gd).display;\n",
       "        if (!display || display === 'none') {{\n",
       "            console.log([gd, 'removed!']);\n",
       "            Plotly.purge(gd);\n",
       "            observer.disconnect();\n",
       "        }}\n",
       "}});\n",
       "\n",
       "// Listen for the removal of the full notebook cells\n",
       "var notebookContainer = gd.closest('#notebook-container');\n",
       "if (notebookContainer) {{\n",
       "    x.observe(notebookContainer, {childList: true});\n",
       "}}\n",
       "\n",
       "// Listen for the clearing of the current output cell\n",
       "var outputEl = gd.closest('.output');\n",
       "if (outputEl) {{\n",
       "    x.observe(outputEl, {childList: true});\n",
       "}}\n",
       "\n",
       "                        })                };                });            </script>        </div>"
      ]
     },
     "metadata": {},
     "output_type": "display_data"
    }
   ],
   "source": [
    "fig = go.Figure(go.Funnel(\n",
    "    y = data_en_count['event_name'],\n",
    "    x = data_en_count['total'])\n",
    ")\n",
    "fig.show()"
   ]
  },
  {
   "cell_type": "markdown",
   "metadata": {},
   "source": [
    "По полученным результатам можно сделать следующие **выводы**:\n",
    "- самое частое событие `MainScreenAppear`\n",
    "- 39.5% попадает на событие `OffersScreenAppear`\n",
    "- 36.1% переходит к событию `CartScreenAppear`\n",
    "- 28.9% доходит до события `PaymentScreenSuccessful`, то есть полностью завершает покупку"
   ]
  },
  {
   "cell_type": "markdown",
   "metadata": {},
   "source": [
    "### Количество пользователей, совершающих каждое событие"
   ]
  },
  {
   "cell_type": "markdown",
   "metadata": {},
   "source": [
    "Выведем на экран **количество уникальных** пользователей:"
   ]
  },
  {
   "cell_type": "code",
   "execution_count": 93,
   "metadata": {},
   "outputs": [
    {
     "name": "stdout",
     "output_type": "stream",
     "text": [
      "Количество пользователей в логе: 7534\n"
     ]
    }
   ],
   "source": [
    "print('Количество пользователей в логе:', data_full['user_id'].nunique())"
   ]
  },
  {
   "cell_type": "markdown",
   "metadata": {},
   "source": [
    "Определим **количество пользователей** каждого события в логах:"
   ]
  },
  {
   "cell_type": "code",
   "execution_count": 94,
   "metadata": {},
   "outputs": [
    {
     "data": {
      "text/html": [
       "<div>\n",
       "<style scoped>\n",
       "    .dataframe tbody tr th:only-of-type {\n",
       "        vertical-align: middle;\n",
       "    }\n",
       "\n",
       "    .dataframe tbody tr th {\n",
       "        vertical-align: top;\n",
       "    }\n",
       "\n",
       "    .dataframe thead th {\n",
       "        text-align: right;\n",
       "    }\n",
       "</style>\n",
       "<table border=\"1\" class=\"dataframe\">\n",
       "  <thead>\n",
       "    <tr style=\"text-align: right;\">\n",
       "      <th></th>\n",
       "      <th>event_name</th>\n",
       "      <th>total</th>\n",
       "    </tr>\n",
       "  </thead>\n",
       "  <tbody>\n",
       "    <tr>\n",
       "      <th>0</th>\n",
       "      <td>MainScreenAppear</td>\n",
       "      <td>7419</td>\n",
       "    </tr>\n",
       "    <tr>\n",
       "      <th>1</th>\n",
       "      <td>OffersScreenAppear</td>\n",
       "      <td>4593</td>\n",
       "    </tr>\n",
       "    <tr>\n",
       "      <th>2</th>\n",
       "      <td>CartScreenAppear</td>\n",
       "      <td>3734</td>\n",
       "    </tr>\n",
       "    <tr>\n",
       "      <th>3</th>\n",
       "      <td>PaymentScreenSuccessful</td>\n",
       "      <td>3539</td>\n",
       "    </tr>\n",
       "    <tr>\n",
       "      <th>4</th>\n",
       "      <td>Tutorial</td>\n",
       "      <td>840</td>\n",
       "    </tr>\n",
       "  </tbody>\n",
       "</table>\n",
       "</div>"
      ],
      "text/plain": [
       "                event_name  total\n",
       "0         MainScreenAppear   7419\n",
       "1       OffersScreenAppear   4593\n",
       "2         CartScreenAppear   3734\n",
       "3  PaymentScreenSuccessful   3539\n",
       "4                 Tutorial    840"
      ]
     },
     "execution_count": 94,
     "metadata": {},
     "output_type": "execute_result"
    }
   ],
   "source": [
    "data_users_count = (data_full\n",
    "                 .groupby('event_name')\n",
    "                 .agg({'user_id':'nunique'})\n",
    "                 .sort_values(by='user_id', ascending=False)\n",
    "                 .reset_index()\n",
    ")\n",
    "data_users_count.columns = ['event_name', 'total']\n",
    "data_users_count"
   ]
  },
  {
   "cell_type": "markdown",
   "metadata": {},
   "source": [
    "Определим **долю** пользователей, которые хоть раз совершали событие:"
   ]
  },
  {
   "cell_type": "code",
   "execution_count": 95,
   "metadata": {},
   "outputs": [
    {
     "data": {
      "text/html": [
       "<div>\n",
       "<style scoped>\n",
       "    .dataframe tbody tr th:only-of-type {\n",
       "        vertical-align: middle;\n",
       "    }\n",
       "\n",
       "    .dataframe tbody tr th {\n",
       "        vertical-align: top;\n",
       "    }\n",
       "\n",
       "    .dataframe thead th {\n",
       "        text-align: right;\n",
       "    }\n",
       "</style>\n",
       "<table border=\"1\" class=\"dataframe\">\n",
       "  <thead>\n",
       "    <tr style=\"text-align: right;\">\n",
       "      <th></th>\n",
       "      <th>event_name</th>\n",
       "      <th>total</th>\n",
       "      <th>persent</th>\n",
       "    </tr>\n",
       "  </thead>\n",
       "  <tbody>\n",
       "    <tr>\n",
       "      <th>0</th>\n",
       "      <td>MainScreenAppear</td>\n",
       "      <td>7419</td>\n",
       "      <td>98.47</td>\n",
       "    </tr>\n",
       "    <tr>\n",
       "      <th>1</th>\n",
       "      <td>OffersScreenAppear</td>\n",
       "      <td>4593</td>\n",
       "      <td>60.96</td>\n",
       "    </tr>\n",
       "    <tr>\n",
       "      <th>2</th>\n",
       "      <td>CartScreenAppear</td>\n",
       "      <td>3734</td>\n",
       "      <td>49.56</td>\n",
       "    </tr>\n",
       "    <tr>\n",
       "      <th>3</th>\n",
       "      <td>PaymentScreenSuccessful</td>\n",
       "      <td>3539</td>\n",
       "      <td>46.97</td>\n",
       "    </tr>\n",
       "    <tr>\n",
       "      <th>4</th>\n",
       "      <td>Tutorial</td>\n",
       "      <td>840</td>\n",
       "      <td>11.15</td>\n",
       "    </tr>\n",
       "  </tbody>\n",
       "</table>\n",
       "</div>"
      ],
      "text/plain": [
       "                event_name  total  persent\n",
       "0         MainScreenAppear   7419    98.47\n",
       "1       OffersScreenAppear   4593    60.96\n",
       "2         CartScreenAppear   3734    49.56\n",
       "3  PaymentScreenSuccessful   3539    46.97\n",
       "4                 Tutorial    840    11.15"
      ]
     },
     "execution_count": 95,
     "metadata": {},
     "output_type": "execute_result"
    }
   ],
   "source": [
    "data_users_count['persent'] = round((data_users_count['total'] / data_full['user_id'].nunique() * 100), 2)\n",
    "data_users_count"
   ]
  },
  {
   "cell_type": "markdown",
   "metadata": {},
   "source": [
    "Визуализируем полученные данные:"
   ]
  },
  {
   "cell_type": "code",
   "execution_count": 96,
   "metadata": {},
   "outputs": [
    {
     "data": {
      "application/vnd.plotly.v1+json": {
       "config": {
        "plotlyServerURL": "https://plot.ly"
       },
       "data": [
        {
         "type": "funnel",
         "x": [
          7419,
          4593,
          3734,
          3539,
          840
         ],
         "y": [
          "MainScreenAppear",
          "OffersScreenAppear",
          "CartScreenAppear",
          "PaymentScreenSuccessful",
          "Tutorial"
         ]
        }
       ],
       "layout": {
        "template": {
         "data": {
          "bar": [
           {
            "error_x": {
             "color": "#2a3f5f"
            },
            "error_y": {
             "color": "#2a3f5f"
            },
            "marker": {
             "line": {
              "color": "#E5ECF6",
              "width": 0.5
             },
             "pattern": {
              "fillmode": "overlay",
              "size": 10,
              "solidity": 0.2
             }
            },
            "type": "bar"
           }
          ],
          "barpolar": [
           {
            "marker": {
             "line": {
              "color": "#E5ECF6",
              "width": 0.5
             },
             "pattern": {
              "fillmode": "overlay",
              "size": 10,
              "solidity": 0.2
             }
            },
            "type": "barpolar"
           }
          ],
          "carpet": [
           {
            "aaxis": {
             "endlinecolor": "#2a3f5f",
             "gridcolor": "white",
             "linecolor": "white",
             "minorgridcolor": "white",
             "startlinecolor": "#2a3f5f"
            },
            "baxis": {
             "endlinecolor": "#2a3f5f",
             "gridcolor": "white",
             "linecolor": "white",
             "minorgridcolor": "white",
             "startlinecolor": "#2a3f5f"
            },
            "type": "carpet"
           }
          ],
          "choropleth": [
           {
            "colorbar": {
             "outlinewidth": 0,
             "ticks": ""
            },
            "type": "choropleth"
           }
          ],
          "contour": [
           {
            "colorbar": {
             "outlinewidth": 0,
             "ticks": ""
            },
            "colorscale": [
             [
              0,
              "#0d0887"
             ],
             [
              0.1111111111111111,
              "#46039f"
             ],
             [
              0.2222222222222222,
              "#7201a8"
             ],
             [
              0.3333333333333333,
              "#9c179e"
             ],
             [
              0.4444444444444444,
              "#bd3786"
             ],
             [
              0.5555555555555556,
              "#d8576b"
             ],
             [
              0.6666666666666666,
              "#ed7953"
             ],
             [
              0.7777777777777778,
              "#fb9f3a"
             ],
             [
              0.8888888888888888,
              "#fdca26"
             ],
             [
              1,
              "#f0f921"
             ]
            ],
            "type": "contour"
           }
          ],
          "contourcarpet": [
           {
            "colorbar": {
             "outlinewidth": 0,
             "ticks": ""
            },
            "type": "contourcarpet"
           }
          ],
          "heatmap": [
           {
            "colorbar": {
             "outlinewidth": 0,
             "ticks": ""
            },
            "colorscale": [
             [
              0,
              "#0d0887"
             ],
             [
              0.1111111111111111,
              "#46039f"
             ],
             [
              0.2222222222222222,
              "#7201a8"
             ],
             [
              0.3333333333333333,
              "#9c179e"
             ],
             [
              0.4444444444444444,
              "#bd3786"
             ],
             [
              0.5555555555555556,
              "#d8576b"
             ],
             [
              0.6666666666666666,
              "#ed7953"
             ],
             [
              0.7777777777777778,
              "#fb9f3a"
             ],
             [
              0.8888888888888888,
              "#fdca26"
             ],
             [
              1,
              "#f0f921"
             ]
            ],
            "type": "heatmap"
           }
          ],
          "heatmapgl": [
           {
            "colorbar": {
             "outlinewidth": 0,
             "ticks": ""
            },
            "colorscale": [
             [
              0,
              "#0d0887"
             ],
             [
              0.1111111111111111,
              "#46039f"
             ],
             [
              0.2222222222222222,
              "#7201a8"
             ],
             [
              0.3333333333333333,
              "#9c179e"
             ],
             [
              0.4444444444444444,
              "#bd3786"
             ],
             [
              0.5555555555555556,
              "#d8576b"
             ],
             [
              0.6666666666666666,
              "#ed7953"
             ],
             [
              0.7777777777777778,
              "#fb9f3a"
             ],
             [
              0.8888888888888888,
              "#fdca26"
             ],
             [
              1,
              "#f0f921"
             ]
            ],
            "type": "heatmapgl"
           }
          ],
          "histogram": [
           {
            "marker": {
             "pattern": {
              "fillmode": "overlay",
              "size": 10,
              "solidity": 0.2
             }
            },
            "type": "histogram"
           }
          ],
          "histogram2d": [
           {
            "colorbar": {
             "outlinewidth": 0,
             "ticks": ""
            },
            "colorscale": [
             [
              0,
              "#0d0887"
             ],
             [
              0.1111111111111111,
              "#46039f"
             ],
             [
              0.2222222222222222,
              "#7201a8"
             ],
             [
              0.3333333333333333,
              "#9c179e"
             ],
             [
              0.4444444444444444,
              "#bd3786"
             ],
             [
              0.5555555555555556,
              "#d8576b"
             ],
             [
              0.6666666666666666,
              "#ed7953"
             ],
             [
              0.7777777777777778,
              "#fb9f3a"
             ],
             [
              0.8888888888888888,
              "#fdca26"
             ],
             [
              1,
              "#f0f921"
             ]
            ],
            "type": "histogram2d"
           }
          ],
          "histogram2dcontour": [
           {
            "colorbar": {
             "outlinewidth": 0,
             "ticks": ""
            },
            "colorscale": [
             [
              0,
              "#0d0887"
             ],
             [
              0.1111111111111111,
              "#46039f"
             ],
             [
              0.2222222222222222,
              "#7201a8"
             ],
             [
              0.3333333333333333,
              "#9c179e"
             ],
             [
              0.4444444444444444,
              "#bd3786"
             ],
             [
              0.5555555555555556,
              "#d8576b"
             ],
             [
              0.6666666666666666,
              "#ed7953"
             ],
             [
              0.7777777777777778,
              "#fb9f3a"
             ],
             [
              0.8888888888888888,
              "#fdca26"
             ],
             [
              1,
              "#f0f921"
             ]
            ],
            "type": "histogram2dcontour"
           }
          ],
          "mesh3d": [
           {
            "colorbar": {
             "outlinewidth": 0,
             "ticks": ""
            },
            "type": "mesh3d"
           }
          ],
          "parcoords": [
           {
            "line": {
             "colorbar": {
              "outlinewidth": 0,
              "ticks": ""
             }
            },
            "type": "parcoords"
           }
          ],
          "pie": [
           {
            "automargin": true,
            "type": "pie"
           }
          ],
          "scatter": [
           {
            "marker": {
             "colorbar": {
              "outlinewidth": 0,
              "ticks": ""
             }
            },
            "type": "scatter"
           }
          ],
          "scatter3d": [
           {
            "line": {
             "colorbar": {
              "outlinewidth": 0,
              "ticks": ""
             }
            },
            "marker": {
             "colorbar": {
              "outlinewidth": 0,
              "ticks": ""
             }
            },
            "type": "scatter3d"
           }
          ],
          "scattercarpet": [
           {
            "marker": {
             "colorbar": {
              "outlinewidth": 0,
              "ticks": ""
             }
            },
            "type": "scattercarpet"
           }
          ],
          "scattergeo": [
           {
            "marker": {
             "colorbar": {
              "outlinewidth": 0,
              "ticks": ""
             }
            },
            "type": "scattergeo"
           }
          ],
          "scattergl": [
           {
            "marker": {
             "colorbar": {
              "outlinewidth": 0,
              "ticks": ""
             }
            },
            "type": "scattergl"
           }
          ],
          "scattermapbox": [
           {
            "marker": {
             "colorbar": {
              "outlinewidth": 0,
              "ticks": ""
             }
            },
            "type": "scattermapbox"
           }
          ],
          "scatterpolar": [
           {
            "marker": {
             "colorbar": {
              "outlinewidth": 0,
              "ticks": ""
             }
            },
            "type": "scatterpolar"
           }
          ],
          "scatterpolargl": [
           {
            "marker": {
             "colorbar": {
              "outlinewidth": 0,
              "ticks": ""
             }
            },
            "type": "scatterpolargl"
           }
          ],
          "scatterternary": [
           {
            "marker": {
             "colorbar": {
              "outlinewidth": 0,
              "ticks": ""
             }
            },
            "type": "scatterternary"
           }
          ],
          "surface": [
           {
            "colorbar": {
             "outlinewidth": 0,
             "ticks": ""
            },
            "colorscale": [
             [
              0,
              "#0d0887"
             ],
             [
              0.1111111111111111,
              "#46039f"
             ],
             [
              0.2222222222222222,
              "#7201a8"
             ],
             [
              0.3333333333333333,
              "#9c179e"
             ],
             [
              0.4444444444444444,
              "#bd3786"
             ],
             [
              0.5555555555555556,
              "#d8576b"
             ],
             [
              0.6666666666666666,
              "#ed7953"
             ],
             [
              0.7777777777777778,
              "#fb9f3a"
             ],
             [
              0.8888888888888888,
              "#fdca26"
             ],
             [
              1,
              "#f0f921"
             ]
            ],
            "type": "surface"
           }
          ],
          "table": [
           {
            "cells": {
             "fill": {
              "color": "#EBF0F8"
             },
             "line": {
              "color": "white"
             }
            },
            "header": {
             "fill": {
              "color": "#C8D4E3"
             },
             "line": {
              "color": "white"
             }
            },
            "type": "table"
           }
          ]
         },
         "layout": {
          "annotationdefaults": {
           "arrowcolor": "#2a3f5f",
           "arrowhead": 0,
           "arrowwidth": 1
          },
          "autotypenumbers": "strict",
          "coloraxis": {
           "colorbar": {
            "outlinewidth": 0,
            "ticks": ""
           }
          },
          "colorscale": {
           "diverging": [
            [
             0,
             "#8e0152"
            ],
            [
             0.1,
             "#c51b7d"
            ],
            [
             0.2,
             "#de77ae"
            ],
            [
             0.3,
             "#f1b6da"
            ],
            [
             0.4,
             "#fde0ef"
            ],
            [
             0.5,
             "#f7f7f7"
            ],
            [
             0.6,
             "#e6f5d0"
            ],
            [
             0.7,
             "#b8e186"
            ],
            [
             0.8,
             "#7fbc41"
            ],
            [
             0.9,
             "#4d9221"
            ],
            [
             1,
             "#276419"
            ]
           ],
           "sequential": [
            [
             0,
             "#0d0887"
            ],
            [
             0.1111111111111111,
             "#46039f"
            ],
            [
             0.2222222222222222,
             "#7201a8"
            ],
            [
             0.3333333333333333,
             "#9c179e"
            ],
            [
             0.4444444444444444,
             "#bd3786"
            ],
            [
             0.5555555555555556,
             "#d8576b"
            ],
            [
             0.6666666666666666,
             "#ed7953"
            ],
            [
             0.7777777777777778,
             "#fb9f3a"
            ],
            [
             0.8888888888888888,
             "#fdca26"
            ],
            [
             1,
             "#f0f921"
            ]
           ],
           "sequentialminus": [
            [
             0,
             "#0d0887"
            ],
            [
             0.1111111111111111,
             "#46039f"
            ],
            [
             0.2222222222222222,
             "#7201a8"
            ],
            [
             0.3333333333333333,
             "#9c179e"
            ],
            [
             0.4444444444444444,
             "#bd3786"
            ],
            [
             0.5555555555555556,
             "#d8576b"
            ],
            [
             0.6666666666666666,
             "#ed7953"
            ],
            [
             0.7777777777777778,
             "#fb9f3a"
            ],
            [
             0.8888888888888888,
             "#fdca26"
            ],
            [
             1,
             "#f0f921"
            ]
           ]
          },
          "colorway": [
           "#636efa",
           "#EF553B",
           "#00cc96",
           "#ab63fa",
           "#FFA15A",
           "#19d3f3",
           "#FF6692",
           "#B6E880",
           "#FF97FF",
           "#FECB52"
          ],
          "font": {
           "color": "#2a3f5f"
          },
          "geo": {
           "bgcolor": "white",
           "lakecolor": "white",
           "landcolor": "#E5ECF6",
           "showlakes": true,
           "showland": true,
           "subunitcolor": "white"
          },
          "hoverlabel": {
           "align": "left"
          },
          "hovermode": "closest",
          "mapbox": {
           "style": "light"
          },
          "paper_bgcolor": "white",
          "plot_bgcolor": "#E5ECF6",
          "polar": {
           "angularaxis": {
            "gridcolor": "white",
            "linecolor": "white",
            "ticks": ""
           },
           "bgcolor": "#E5ECF6",
           "radialaxis": {
            "gridcolor": "white",
            "linecolor": "white",
            "ticks": ""
           }
          },
          "scene": {
           "xaxis": {
            "backgroundcolor": "#E5ECF6",
            "gridcolor": "white",
            "gridwidth": 2,
            "linecolor": "white",
            "showbackground": true,
            "ticks": "",
            "zerolinecolor": "white"
           },
           "yaxis": {
            "backgroundcolor": "#E5ECF6",
            "gridcolor": "white",
            "gridwidth": 2,
            "linecolor": "white",
            "showbackground": true,
            "ticks": "",
            "zerolinecolor": "white"
           },
           "zaxis": {
            "backgroundcolor": "#E5ECF6",
            "gridcolor": "white",
            "gridwidth": 2,
            "linecolor": "white",
            "showbackground": true,
            "ticks": "",
            "zerolinecolor": "white"
           }
          },
          "shapedefaults": {
           "line": {
            "color": "#2a3f5f"
           }
          },
          "ternary": {
           "aaxis": {
            "gridcolor": "white",
            "linecolor": "white",
            "ticks": ""
           },
           "baxis": {
            "gridcolor": "white",
            "linecolor": "white",
            "ticks": ""
           },
           "bgcolor": "#E5ECF6",
           "caxis": {
            "gridcolor": "white",
            "linecolor": "white",
            "ticks": ""
           }
          },
          "title": {
           "x": 0.05
          },
          "xaxis": {
           "automargin": true,
           "gridcolor": "white",
           "linecolor": "white",
           "ticks": "",
           "title": {
            "standoff": 15
           },
           "zerolinecolor": "white",
           "zerolinewidth": 2
          },
          "yaxis": {
           "automargin": true,
           "gridcolor": "white",
           "linecolor": "white",
           "ticks": "",
           "title": {
            "standoff": 15
           },
           "zerolinecolor": "white",
           "zerolinewidth": 2
          }
         }
        }
       }
      },
      "text/html": [
       "<div>                            <div id=\"065a34cc-d1c6-4253-aa95-674af4c800c0\" class=\"plotly-graph-div\" style=\"height:525px; width:100%;\"></div>            <script type=\"text/javascript\">                require([\"plotly\"], function(Plotly) {                    window.PLOTLYENV=window.PLOTLYENV || {};                                    if (document.getElementById(\"065a34cc-d1c6-4253-aa95-674af4c800c0\")) {                    Plotly.newPlot(                        \"065a34cc-d1c6-4253-aa95-674af4c800c0\",                        [{\"x\":[7419,4593,3734,3539,840],\"y\":[\"MainScreenAppear\",\"OffersScreenAppear\",\"CartScreenAppear\",\"PaymentScreenSuccessful\",\"Tutorial\"],\"type\":\"funnel\"}],                        {\"template\":{\"data\":{\"bar\":[{\"error_x\":{\"color\":\"#2a3f5f\"},\"error_y\":{\"color\":\"#2a3f5f\"},\"marker\":{\"line\":{\"color\":\"#E5ECF6\",\"width\":0.5},\"pattern\":{\"fillmode\":\"overlay\",\"size\":10,\"solidity\":0.2}},\"type\":\"bar\"}],\"barpolar\":[{\"marker\":{\"line\":{\"color\":\"#E5ECF6\",\"width\":0.5},\"pattern\":{\"fillmode\":\"overlay\",\"size\":10,\"solidity\":0.2}},\"type\":\"barpolar\"}],\"carpet\":[{\"aaxis\":{\"endlinecolor\":\"#2a3f5f\",\"gridcolor\":\"white\",\"linecolor\":\"white\",\"minorgridcolor\":\"white\",\"startlinecolor\":\"#2a3f5f\"},\"baxis\":{\"endlinecolor\":\"#2a3f5f\",\"gridcolor\":\"white\",\"linecolor\":\"white\",\"minorgridcolor\":\"white\",\"startlinecolor\":\"#2a3f5f\"},\"type\":\"carpet\"}],\"choropleth\":[{\"colorbar\":{\"outlinewidth\":0,\"ticks\":\"\"},\"type\":\"choropleth\"}],\"contour\":[{\"colorbar\":{\"outlinewidth\":0,\"ticks\":\"\"},\"colorscale\":[[0.0,\"#0d0887\"],[0.1111111111111111,\"#46039f\"],[0.2222222222222222,\"#7201a8\"],[0.3333333333333333,\"#9c179e\"],[0.4444444444444444,\"#bd3786\"],[0.5555555555555556,\"#d8576b\"],[0.6666666666666666,\"#ed7953\"],[0.7777777777777778,\"#fb9f3a\"],[0.8888888888888888,\"#fdca26\"],[1.0,\"#f0f921\"]],\"type\":\"contour\"}],\"contourcarpet\":[{\"colorbar\":{\"outlinewidth\":0,\"ticks\":\"\"},\"type\":\"contourcarpet\"}],\"heatmap\":[{\"colorbar\":{\"outlinewidth\":0,\"ticks\":\"\"},\"colorscale\":[[0.0,\"#0d0887\"],[0.1111111111111111,\"#46039f\"],[0.2222222222222222,\"#7201a8\"],[0.3333333333333333,\"#9c179e\"],[0.4444444444444444,\"#bd3786\"],[0.5555555555555556,\"#d8576b\"],[0.6666666666666666,\"#ed7953\"],[0.7777777777777778,\"#fb9f3a\"],[0.8888888888888888,\"#fdca26\"],[1.0,\"#f0f921\"]],\"type\":\"heatmap\"}],\"heatmapgl\":[{\"colorbar\":{\"outlinewidth\":0,\"ticks\":\"\"},\"colorscale\":[[0.0,\"#0d0887\"],[0.1111111111111111,\"#46039f\"],[0.2222222222222222,\"#7201a8\"],[0.3333333333333333,\"#9c179e\"],[0.4444444444444444,\"#bd3786\"],[0.5555555555555556,\"#d8576b\"],[0.6666666666666666,\"#ed7953\"],[0.7777777777777778,\"#fb9f3a\"],[0.8888888888888888,\"#fdca26\"],[1.0,\"#f0f921\"]],\"type\":\"heatmapgl\"}],\"histogram\":[{\"marker\":{\"pattern\":{\"fillmode\":\"overlay\",\"size\":10,\"solidity\":0.2}},\"type\":\"histogram\"}],\"histogram2d\":[{\"colorbar\":{\"outlinewidth\":0,\"ticks\":\"\"},\"colorscale\":[[0.0,\"#0d0887\"],[0.1111111111111111,\"#46039f\"],[0.2222222222222222,\"#7201a8\"],[0.3333333333333333,\"#9c179e\"],[0.4444444444444444,\"#bd3786\"],[0.5555555555555556,\"#d8576b\"],[0.6666666666666666,\"#ed7953\"],[0.7777777777777778,\"#fb9f3a\"],[0.8888888888888888,\"#fdca26\"],[1.0,\"#f0f921\"]],\"type\":\"histogram2d\"}],\"histogram2dcontour\":[{\"colorbar\":{\"outlinewidth\":0,\"ticks\":\"\"},\"colorscale\":[[0.0,\"#0d0887\"],[0.1111111111111111,\"#46039f\"],[0.2222222222222222,\"#7201a8\"],[0.3333333333333333,\"#9c179e\"],[0.4444444444444444,\"#bd3786\"],[0.5555555555555556,\"#d8576b\"],[0.6666666666666666,\"#ed7953\"],[0.7777777777777778,\"#fb9f3a\"],[0.8888888888888888,\"#fdca26\"],[1.0,\"#f0f921\"]],\"type\":\"histogram2dcontour\"}],\"mesh3d\":[{\"colorbar\":{\"outlinewidth\":0,\"ticks\":\"\"},\"type\":\"mesh3d\"}],\"parcoords\":[{\"line\":{\"colorbar\":{\"outlinewidth\":0,\"ticks\":\"\"}},\"type\":\"parcoords\"}],\"pie\":[{\"automargin\":true,\"type\":\"pie\"}],\"scatter\":[{\"marker\":{\"colorbar\":{\"outlinewidth\":0,\"ticks\":\"\"}},\"type\":\"scatter\"}],\"scatter3d\":[{\"line\":{\"colorbar\":{\"outlinewidth\":0,\"ticks\":\"\"}},\"marker\":{\"colorbar\":{\"outlinewidth\":0,\"ticks\":\"\"}},\"type\":\"scatter3d\"}],\"scattercarpet\":[{\"marker\":{\"colorbar\":{\"outlinewidth\":0,\"ticks\":\"\"}},\"type\":\"scattercarpet\"}],\"scattergeo\":[{\"marker\":{\"colorbar\":{\"outlinewidth\":0,\"ticks\":\"\"}},\"type\":\"scattergeo\"}],\"scattergl\":[{\"marker\":{\"colorbar\":{\"outlinewidth\":0,\"ticks\":\"\"}},\"type\":\"scattergl\"}],\"scattermapbox\":[{\"marker\":{\"colorbar\":{\"outlinewidth\":0,\"ticks\":\"\"}},\"type\":\"scattermapbox\"}],\"scatterpolar\":[{\"marker\":{\"colorbar\":{\"outlinewidth\":0,\"ticks\":\"\"}},\"type\":\"scatterpolar\"}],\"scatterpolargl\":[{\"marker\":{\"colorbar\":{\"outlinewidth\":0,\"ticks\":\"\"}},\"type\":\"scatterpolargl\"}],\"scatterternary\":[{\"marker\":{\"colorbar\":{\"outlinewidth\":0,\"ticks\":\"\"}},\"type\":\"scatterternary\"}],\"surface\":[{\"colorbar\":{\"outlinewidth\":0,\"ticks\":\"\"},\"colorscale\":[[0.0,\"#0d0887\"],[0.1111111111111111,\"#46039f\"],[0.2222222222222222,\"#7201a8\"],[0.3333333333333333,\"#9c179e\"],[0.4444444444444444,\"#bd3786\"],[0.5555555555555556,\"#d8576b\"],[0.6666666666666666,\"#ed7953\"],[0.7777777777777778,\"#fb9f3a\"],[0.8888888888888888,\"#fdca26\"],[1.0,\"#f0f921\"]],\"type\":\"surface\"}],\"table\":[{\"cells\":{\"fill\":{\"color\":\"#EBF0F8\"},\"line\":{\"color\":\"white\"}},\"header\":{\"fill\":{\"color\":\"#C8D4E3\"},\"line\":{\"color\":\"white\"}},\"type\":\"table\"}]},\"layout\":{\"annotationdefaults\":{\"arrowcolor\":\"#2a3f5f\",\"arrowhead\":0,\"arrowwidth\":1},\"autotypenumbers\":\"strict\",\"coloraxis\":{\"colorbar\":{\"outlinewidth\":0,\"ticks\":\"\"}},\"colorscale\":{\"diverging\":[[0,\"#8e0152\"],[0.1,\"#c51b7d\"],[0.2,\"#de77ae\"],[0.3,\"#f1b6da\"],[0.4,\"#fde0ef\"],[0.5,\"#f7f7f7\"],[0.6,\"#e6f5d0\"],[0.7,\"#b8e186\"],[0.8,\"#7fbc41\"],[0.9,\"#4d9221\"],[1,\"#276419\"]],\"sequential\":[[0.0,\"#0d0887\"],[0.1111111111111111,\"#46039f\"],[0.2222222222222222,\"#7201a8\"],[0.3333333333333333,\"#9c179e\"],[0.4444444444444444,\"#bd3786\"],[0.5555555555555556,\"#d8576b\"],[0.6666666666666666,\"#ed7953\"],[0.7777777777777778,\"#fb9f3a\"],[0.8888888888888888,\"#fdca26\"],[1.0,\"#f0f921\"]],\"sequentialminus\":[[0.0,\"#0d0887\"],[0.1111111111111111,\"#46039f\"],[0.2222222222222222,\"#7201a8\"],[0.3333333333333333,\"#9c179e\"],[0.4444444444444444,\"#bd3786\"],[0.5555555555555556,\"#d8576b\"],[0.6666666666666666,\"#ed7953\"],[0.7777777777777778,\"#fb9f3a\"],[0.8888888888888888,\"#fdca26\"],[1.0,\"#f0f921\"]]},\"colorway\":[\"#636efa\",\"#EF553B\",\"#00cc96\",\"#ab63fa\",\"#FFA15A\",\"#19d3f3\",\"#FF6692\",\"#B6E880\",\"#FF97FF\",\"#FECB52\"],\"font\":{\"color\":\"#2a3f5f\"},\"geo\":{\"bgcolor\":\"white\",\"lakecolor\":\"white\",\"landcolor\":\"#E5ECF6\",\"showlakes\":true,\"showland\":true,\"subunitcolor\":\"white\"},\"hoverlabel\":{\"align\":\"left\"},\"hovermode\":\"closest\",\"mapbox\":{\"style\":\"light\"},\"paper_bgcolor\":\"white\",\"plot_bgcolor\":\"#E5ECF6\",\"polar\":{\"angularaxis\":{\"gridcolor\":\"white\",\"linecolor\":\"white\",\"ticks\":\"\"},\"bgcolor\":\"#E5ECF6\",\"radialaxis\":{\"gridcolor\":\"white\",\"linecolor\":\"white\",\"ticks\":\"\"}},\"scene\":{\"xaxis\":{\"backgroundcolor\":\"#E5ECF6\",\"gridcolor\":\"white\",\"gridwidth\":2,\"linecolor\":\"white\",\"showbackground\":true,\"ticks\":\"\",\"zerolinecolor\":\"white\"},\"yaxis\":{\"backgroundcolor\":\"#E5ECF6\",\"gridcolor\":\"white\",\"gridwidth\":2,\"linecolor\":\"white\",\"showbackground\":true,\"ticks\":\"\",\"zerolinecolor\":\"white\"},\"zaxis\":{\"backgroundcolor\":\"#E5ECF6\",\"gridcolor\":\"white\",\"gridwidth\":2,\"linecolor\":\"white\",\"showbackground\":true,\"ticks\":\"\",\"zerolinecolor\":\"white\"}},\"shapedefaults\":{\"line\":{\"color\":\"#2a3f5f\"}},\"ternary\":{\"aaxis\":{\"gridcolor\":\"white\",\"linecolor\":\"white\",\"ticks\":\"\"},\"baxis\":{\"gridcolor\":\"white\",\"linecolor\":\"white\",\"ticks\":\"\"},\"bgcolor\":\"#E5ECF6\",\"caxis\":{\"gridcolor\":\"white\",\"linecolor\":\"white\",\"ticks\":\"\"}},\"title\":{\"x\":0.05},\"xaxis\":{\"automargin\":true,\"gridcolor\":\"white\",\"linecolor\":\"white\",\"ticks\":\"\",\"title\":{\"standoff\":15},\"zerolinecolor\":\"white\",\"zerolinewidth\":2},\"yaxis\":{\"automargin\":true,\"gridcolor\":\"white\",\"linecolor\":\"white\",\"ticks\":\"\",\"title\":{\"standoff\":15},\"zerolinecolor\":\"white\",\"zerolinewidth\":2}}}},                        {\"responsive\": true}                    ).then(function(){\n",
       "                            \n",
       "var gd = document.getElementById('065a34cc-d1c6-4253-aa95-674af4c800c0');\n",
       "var x = new MutationObserver(function (mutations, observer) {{\n",
       "        var display = window.getComputedStyle(gd).display;\n",
       "        if (!display || display === 'none') {{\n",
       "            console.log([gd, 'removed!']);\n",
       "            Plotly.purge(gd);\n",
       "            observer.disconnect();\n",
       "        }}\n",
       "}});\n",
       "\n",
       "// Listen for the removal of the full notebook cells\n",
       "var notebookContainer = gd.closest('#notebook-container');\n",
       "if (notebookContainer) {{\n",
       "    x.observe(notebookContainer, {childList: true});\n",
       "}}\n",
       "\n",
       "// Listen for the clearing of the current output cell\n",
       "var outputEl = gd.closest('.output');\n",
       "if (outputEl) {{\n",
       "    x.observe(outputEl, {childList: true});\n",
       "}}\n",
       "\n",
       "                        })                };                });            </script>        </div>"
      ]
     },
     "metadata": {},
     "output_type": "display_data"
    }
   ],
   "source": [
    "fig = go.Figure(go.Funnel(\n",
    "    y = data_users_count['event_name'],\n",
    "    x = data_users_count['total'])\n",
    ")\n",
    "fig.show()"
   ]
  },
  {
   "cell_type": "markdown",
   "metadata": {},
   "source": [
    "По полученным результатам можно сделать следующие **выводы**:\n",
    "- больше всего пользователей на событии `MainScreenAppear`\n",
    "- 61.9% пользователей переходит к событию `OffersScreenAppear`\n",
    "- 50.3% переходит к событию `CartScreenAppear`\n",
    "- 47.7% доходит до события `PaymentScreenSuccessful`, то есть полностью завершает покупку"
   ]
  },
  {
   "cell_type": "markdown",
   "metadata": {},
   "source": [
    "### Определение лишнего события"
   ]
  },
  {
   "cell_type": "markdown",
   "metadata": {},
   "source": [
    "Предположительно, событие `Tutorial` (обучение, руководство пользователя) должно располагаться на вершине воронки, так как это событие пользователи должны проходить первым. Однако, ввиду того, что не всем пользователям требуется обучение в приложении, многие пользователи пропускают данное событие, ввиду чего у `Tutorial` наблюдаются самые низкие показатели. Данное событие можно смело исключить из исследования, так как оно может искажать результаты.\n",
    "\n",
    "В остальном порядок событий в воронке вполне логичный:\n",
    "1. Главный экран (`MainScreenAppear`)\n",
    "2. Экран предложений (`OffersScreenAppear`)\n",
    "3. Экран оплаты картой (`CartScreenAppear`)\n",
    "4. Сообщение об успешной оплате (`PaymentScreenSuccessful`)"
   ]
  },
  {
   "cell_type": "markdown",
   "metadata": {},
   "source": [
    "### Определение доли пользователей на каждом шаге воронки"
   ]
  },
  {
   "cell_type": "markdown",
   "metadata": {},
   "source": [
    "Построим **воронку событий**, исключив `Tutorial`:"
   ]
  },
  {
   "cell_type": "code",
   "execution_count": 97,
   "metadata": {},
   "outputs": [
    {
     "data": {
      "application/vnd.plotly.v1+json": {
       "config": {
        "plotlyServerURL": "https://plot.ly"
       },
       "data": [
        {
         "type": "funnel",
         "x": [
          7419,
          4593,
          3734,
          3539
         ],
         "y": [
          "MainScreenAppear",
          "OffersScreenAppear",
          "CartScreenAppear",
          "PaymentScreenSuccessful"
         ]
        }
       ],
       "layout": {
        "template": {
         "data": {
          "bar": [
           {
            "error_x": {
             "color": "#2a3f5f"
            },
            "error_y": {
             "color": "#2a3f5f"
            },
            "marker": {
             "line": {
              "color": "#E5ECF6",
              "width": 0.5
             },
             "pattern": {
              "fillmode": "overlay",
              "size": 10,
              "solidity": 0.2
             }
            },
            "type": "bar"
           }
          ],
          "barpolar": [
           {
            "marker": {
             "line": {
              "color": "#E5ECF6",
              "width": 0.5
             },
             "pattern": {
              "fillmode": "overlay",
              "size": 10,
              "solidity": 0.2
             }
            },
            "type": "barpolar"
           }
          ],
          "carpet": [
           {
            "aaxis": {
             "endlinecolor": "#2a3f5f",
             "gridcolor": "white",
             "linecolor": "white",
             "minorgridcolor": "white",
             "startlinecolor": "#2a3f5f"
            },
            "baxis": {
             "endlinecolor": "#2a3f5f",
             "gridcolor": "white",
             "linecolor": "white",
             "minorgridcolor": "white",
             "startlinecolor": "#2a3f5f"
            },
            "type": "carpet"
           }
          ],
          "choropleth": [
           {
            "colorbar": {
             "outlinewidth": 0,
             "ticks": ""
            },
            "type": "choropleth"
           }
          ],
          "contour": [
           {
            "colorbar": {
             "outlinewidth": 0,
             "ticks": ""
            },
            "colorscale": [
             [
              0,
              "#0d0887"
             ],
             [
              0.1111111111111111,
              "#46039f"
             ],
             [
              0.2222222222222222,
              "#7201a8"
             ],
             [
              0.3333333333333333,
              "#9c179e"
             ],
             [
              0.4444444444444444,
              "#bd3786"
             ],
             [
              0.5555555555555556,
              "#d8576b"
             ],
             [
              0.6666666666666666,
              "#ed7953"
             ],
             [
              0.7777777777777778,
              "#fb9f3a"
             ],
             [
              0.8888888888888888,
              "#fdca26"
             ],
             [
              1,
              "#f0f921"
             ]
            ],
            "type": "contour"
           }
          ],
          "contourcarpet": [
           {
            "colorbar": {
             "outlinewidth": 0,
             "ticks": ""
            },
            "type": "contourcarpet"
           }
          ],
          "heatmap": [
           {
            "colorbar": {
             "outlinewidth": 0,
             "ticks": ""
            },
            "colorscale": [
             [
              0,
              "#0d0887"
             ],
             [
              0.1111111111111111,
              "#46039f"
             ],
             [
              0.2222222222222222,
              "#7201a8"
             ],
             [
              0.3333333333333333,
              "#9c179e"
             ],
             [
              0.4444444444444444,
              "#bd3786"
             ],
             [
              0.5555555555555556,
              "#d8576b"
             ],
             [
              0.6666666666666666,
              "#ed7953"
             ],
             [
              0.7777777777777778,
              "#fb9f3a"
             ],
             [
              0.8888888888888888,
              "#fdca26"
             ],
             [
              1,
              "#f0f921"
             ]
            ],
            "type": "heatmap"
           }
          ],
          "heatmapgl": [
           {
            "colorbar": {
             "outlinewidth": 0,
             "ticks": ""
            },
            "colorscale": [
             [
              0,
              "#0d0887"
             ],
             [
              0.1111111111111111,
              "#46039f"
             ],
             [
              0.2222222222222222,
              "#7201a8"
             ],
             [
              0.3333333333333333,
              "#9c179e"
             ],
             [
              0.4444444444444444,
              "#bd3786"
             ],
             [
              0.5555555555555556,
              "#d8576b"
             ],
             [
              0.6666666666666666,
              "#ed7953"
             ],
             [
              0.7777777777777778,
              "#fb9f3a"
             ],
             [
              0.8888888888888888,
              "#fdca26"
             ],
             [
              1,
              "#f0f921"
             ]
            ],
            "type": "heatmapgl"
           }
          ],
          "histogram": [
           {
            "marker": {
             "pattern": {
              "fillmode": "overlay",
              "size": 10,
              "solidity": 0.2
             }
            },
            "type": "histogram"
           }
          ],
          "histogram2d": [
           {
            "colorbar": {
             "outlinewidth": 0,
             "ticks": ""
            },
            "colorscale": [
             [
              0,
              "#0d0887"
             ],
             [
              0.1111111111111111,
              "#46039f"
             ],
             [
              0.2222222222222222,
              "#7201a8"
             ],
             [
              0.3333333333333333,
              "#9c179e"
             ],
             [
              0.4444444444444444,
              "#bd3786"
             ],
             [
              0.5555555555555556,
              "#d8576b"
             ],
             [
              0.6666666666666666,
              "#ed7953"
             ],
             [
              0.7777777777777778,
              "#fb9f3a"
             ],
             [
              0.8888888888888888,
              "#fdca26"
             ],
             [
              1,
              "#f0f921"
             ]
            ],
            "type": "histogram2d"
           }
          ],
          "histogram2dcontour": [
           {
            "colorbar": {
             "outlinewidth": 0,
             "ticks": ""
            },
            "colorscale": [
             [
              0,
              "#0d0887"
             ],
             [
              0.1111111111111111,
              "#46039f"
             ],
             [
              0.2222222222222222,
              "#7201a8"
             ],
             [
              0.3333333333333333,
              "#9c179e"
             ],
             [
              0.4444444444444444,
              "#bd3786"
             ],
             [
              0.5555555555555556,
              "#d8576b"
             ],
             [
              0.6666666666666666,
              "#ed7953"
             ],
             [
              0.7777777777777778,
              "#fb9f3a"
             ],
             [
              0.8888888888888888,
              "#fdca26"
             ],
             [
              1,
              "#f0f921"
             ]
            ],
            "type": "histogram2dcontour"
           }
          ],
          "mesh3d": [
           {
            "colorbar": {
             "outlinewidth": 0,
             "ticks": ""
            },
            "type": "mesh3d"
           }
          ],
          "parcoords": [
           {
            "line": {
             "colorbar": {
              "outlinewidth": 0,
              "ticks": ""
             }
            },
            "type": "parcoords"
           }
          ],
          "pie": [
           {
            "automargin": true,
            "type": "pie"
           }
          ],
          "scatter": [
           {
            "marker": {
             "colorbar": {
              "outlinewidth": 0,
              "ticks": ""
             }
            },
            "type": "scatter"
           }
          ],
          "scatter3d": [
           {
            "line": {
             "colorbar": {
              "outlinewidth": 0,
              "ticks": ""
             }
            },
            "marker": {
             "colorbar": {
              "outlinewidth": 0,
              "ticks": ""
             }
            },
            "type": "scatter3d"
           }
          ],
          "scattercarpet": [
           {
            "marker": {
             "colorbar": {
              "outlinewidth": 0,
              "ticks": ""
             }
            },
            "type": "scattercarpet"
           }
          ],
          "scattergeo": [
           {
            "marker": {
             "colorbar": {
              "outlinewidth": 0,
              "ticks": ""
             }
            },
            "type": "scattergeo"
           }
          ],
          "scattergl": [
           {
            "marker": {
             "colorbar": {
              "outlinewidth": 0,
              "ticks": ""
             }
            },
            "type": "scattergl"
           }
          ],
          "scattermapbox": [
           {
            "marker": {
             "colorbar": {
              "outlinewidth": 0,
              "ticks": ""
             }
            },
            "type": "scattermapbox"
           }
          ],
          "scatterpolar": [
           {
            "marker": {
             "colorbar": {
              "outlinewidth": 0,
              "ticks": ""
             }
            },
            "type": "scatterpolar"
           }
          ],
          "scatterpolargl": [
           {
            "marker": {
             "colorbar": {
              "outlinewidth": 0,
              "ticks": ""
             }
            },
            "type": "scatterpolargl"
           }
          ],
          "scatterternary": [
           {
            "marker": {
             "colorbar": {
              "outlinewidth": 0,
              "ticks": ""
             }
            },
            "type": "scatterternary"
           }
          ],
          "surface": [
           {
            "colorbar": {
             "outlinewidth": 0,
             "ticks": ""
            },
            "colorscale": [
             [
              0,
              "#0d0887"
             ],
             [
              0.1111111111111111,
              "#46039f"
             ],
             [
              0.2222222222222222,
              "#7201a8"
             ],
             [
              0.3333333333333333,
              "#9c179e"
             ],
             [
              0.4444444444444444,
              "#bd3786"
             ],
             [
              0.5555555555555556,
              "#d8576b"
             ],
             [
              0.6666666666666666,
              "#ed7953"
             ],
             [
              0.7777777777777778,
              "#fb9f3a"
             ],
             [
              0.8888888888888888,
              "#fdca26"
             ],
             [
              1,
              "#f0f921"
             ]
            ],
            "type": "surface"
           }
          ],
          "table": [
           {
            "cells": {
             "fill": {
              "color": "#EBF0F8"
             },
             "line": {
              "color": "white"
             }
            },
            "header": {
             "fill": {
              "color": "#C8D4E3"
             },
             "line": {
              "color": "white"
             }
            },
            "type": "table"
           }
          ]
         },
         "layout": {
          "annotationdefaults": {
           "arrowcolor": "#2a3f5f",
           "arrowhead": 0,
           "arrowwidth": 1
          },
          "autotypenumbers": "strict",
          "coloraxis": {
           "colorbar": {
            "outlinewidth": 0,
            "ticks": ""
           }
          },
          "colorscale": {
           "diverging": [
            [
             0,
             "#8e0152"
            ],
            [
             0.1,
             "#c51b7d"
            ],
            [
             0.2,
             "#de77ae"
            ],
            [
             0.3,
             "#f1b6da"
            ],
            [
             0.4,
             "#fde0ef"
            ],
            [
             0.5,
             "#f7f7f7"
            ],
            [
             0.6,
             "#e6f5d0"
            ],
            [
             0.7,
             "#b8e186"
            ],
            [
             0.8,
             "#7fbc41"
            ],
            [
             0.9,
             "#4d9221"
            ],
            [
             1,
             "#276419"
            ]
           ],
           "sequential": [
            [
             0,
             "#0d0887"
            ],
            [
             0.1111111111111111,
             "#46039f"
            ],
            [
             0.2222222222222222,
             "#7201a8"
            ],
            [
             0.3333333333333333,
             "#9c179e"
            ],
            [
             0.4444444444444444,
             "#bd3786"
            ],
            [
             0.5555555555555556,
             "#d8576b"
            ],
            [
             0.6666666666666666,
             "#ed7953"
            ],
            [
             0.7777777777777778,
             "#fb9f3a"
            ],
            [
             0.8888888888888888,
             "#fdca26"
            ],
            [
             1,
             "#f0f921"
            ]
           ],
           "sequentialminus": [
            [
             0,
             "#0d0887"
            ],
            [
             0.1111111111111111,
             "#46039f"
            ],
            [
             0.2222222222222222,
             "#7201a8"
            ],
            [
             0.3333333333333333,
             "#9c179e"
            ],
            [
             0.4444444444444444,
             "#bd3786"
            ],
            [
             0.5555555555555556,
             "#d8576b"
            ],
            [
             0.6666666666666666,
             "#ed7953"
            ],
            [
             0.7777777777777778,
             "#fb9f3a"
            ],
            [
             0.8888888888888888,
             "#fdca26"
            ],
            [
             1,
             "#f0f921"
            ]
           ]
          },
          "colorway": [
           "#636efa",
           "#EF553B",
           "#00cc96",
           "#ab63fa",
           "#FFA15A",
           "#19d3f3",
           "#FF6692",
           "#B6E880",
           "#FF97FF",
           "#FECB52"
          ],
          "font": {
           "color": "#2a3f5f"
          },
          "geo": {
           "bgcolor": "white",
           "lakecolor": "white",
           "landcolor": "#E5ECF6",
           "showlakes": true,
           "showland": true,
           "subunitcolor": "white"
          },
          "hoverlabel": {
           "align": "left"
          },
          "hovermode": "closest",
          "mapbox": {
           "style": "light"
          },
          "paper_bgcolor": "white",
          "plot_bgcolor": "#E5ECF6",
          "polar": {
           "angularaxis": {
            "gridcolor": "white",
            "linecolor": "white",
            "ticks": ""
           },
           "bgcolor": "#E5ECF6",
           "radialaxis": {
            "gridcolor": "white",
            "linecolor": "white",
            "ticks": ""
           }
          },
          "scene": {
           "xaxis": {
            "backgroundcolor": "#E5ECF6",
            "gridcolor": "white",
            "gridwidth": 2,
            "linecolor": "white",
            "showbackground": true,
            "ticks": "",
            "zerolinecolor": "white"
           },
           "yaxis": {
            "backgroundcolor": "#E5ECF6",
            "gridcolor": "white",
            "gridwidth": 2,
            "linecolor": "white",
            "showbackground": true,
            "ticks": "",
            "zerolinecolor": "white"
           },
           "zaxis": {
            "backgroundcolor": "#E5ECF6",
            "gridcolor": "white",
            "gridwidth": 2,
            "linecolor": "white",
            "showbackground": true,
            "ticks": "",
            "zerolinecolor": "white"
           }
          },
          "shapedefaults": {
           "line": {
            "color": "#2a3f5f"
           }
          },
          "ternary": {
           "aaxis": {
            "gridcolor": "white",
            "linecolor": "white",
            "ticks": ""
           },
           "baxis": {
            "gridcolor": "white",
            "linecolor": "white",
            "ticks": ""
           },
           "bgcolor": "#E5ECF6",
           "caxis": {
            "gridcolor": "white",
            "linecolor": "white",
            "ticks": ""
           }
          },
          "title": {
           "x": 0.05
          },
          "xaxis": {
           "automargin": true,
           "gridcolor": "white",
           "linecolor": "white",
           "ticks": "",
           "title": {
            "standoff": 15
           },
           "zerolinecolor": "white",
           "zerolinewidth": 2
          },
          "yaxis": {
           "automargin": true,
           "gridcolor": "white",
           "linecolor": "white",
           "ticks": "",
           "title": {
            "standoff": 15
           },
           "zerolinecolor": "white",
           "zerolinewidth": 2
          }
         }
        }
       }
      },
      "text/html": [
       "<div>                            <div id=\"7f8a9fb2-f95d-4d7e-a0af-e6af33ee8a21\" class=\"plotly-graph-div\" style=\"height:525px; width:100%;\"></div>            <script type=\"text/javascript\">                require([\"plotly\"], function(Plotly) {                    window.PLOTLYENV=window.PLOTLYENV || {};                                    if (document.getElementById(\"7f8a9fb2-f95d-4d7e-a0af-e6af33ee8a21\")) {                    Plotly.newPlot(                        \"7f8a9fb2-f95d-4d7e-a0af-e6af33ee8a21\",                        [{\"x\":[7419,4593,3734,3539],\"y\":[\"MainScreenAppear\",\"OffersScreenAppear\",\"CartScreenAppear\",\"PaymentScreenSuccessful\"],\"type\":\"funnel\"}],                        {\"template\":{\"data\":{\"bar\":[{\"error_x\":{\"color\":\"#2a3f5f\"},\"error_y\":{\"color\":\"#2a3f5f\"},\"marker\":{\"line\":{\"color\":\"#E5ECF6\",\"width\":0.5},\"pattern\":{\"fillmode\":\"overlay\",\"size\":10,\"solidity\":0.2}},\"type\":\"bar\"}],\"barpolar\":[{\"marker\":{\"line\":{\"color\":\"#E5ECF6\",\"width\":0.5},\"pattern\":{\"fillmode\":\"overlay\",\"size\":10,\"solidity\":0.2}},\"type\":\"barpolar\"}],\"carpet\":[{\"aaxis\":{\"endlinecolor\":\"#2a3f5f\",\"gridcolor\":\"white\",\"linecolor\":\"white\",\"minorgridcolor\":\"white\",\"startlinecolor\":\"#2a3f5f\"},\"baxis\":{\"endlinecolor\":\"#2a3f5f\",\"gridcolor\":\"white\",\"linecolor\":\"white\",\"minorgridcolor\":\"white\",\"startlinecolor\":\"#2a3f5f\"},\"type\":\"carpet\"}],\"choropleth\":[{\"colorbar\":{\"outlinewidth\":0,\"ticks\":\"\"},\"type\":\"choropleth\"}],\"contour\":[{\"colorbar\":{\"outlinewidth\":0,\"ticks\":\"\"},\"colorscale\":[[0.0,\"#0d0887\"],[0.1111111111111111,\"#46039f\"],[0.2222222222222222,\"#7201a8\"],[0.3333333333333333,\"#9c179e\"],[0.4444444444444444,\"#bd3786\"],[0.5555555555555556,\"#d8576b\"],[0.6666666666666666,\"#ed7953\"],[0.7777777777777778,\"#fb9f3a\"],[0.8888888888888888,\"#fdca26\"],[1.0,\"#f0f921\"]],\"type\":\"contour\"}],\"contourcarpet\":[{\"colorbar\":{\"outlinewidth\":0,\"ticks\":\"\"},\"type\":\"contourcarpet\"}],\"heatmap\":[{\"colorbar\":{\"outlinewidth\":0,\"ticks\":\"\"},\"colorscale\":[[0.0,\"#0d0887\"],[0.1111111111111111,\"#46039f\"],[0.2222222222222222,\"#7201a8\"],[0.3333333333333333,\"#9c179e\"],[0.4444444444444444,\"#bd3786\"],[0.5555555555555556,\"#d8576b\"],[0.6666666666666666,\"#ed7953\"],[0.7777777777777778,\"#fb9f3a\"],[0.8888888888888888,\"#fdca26\"],[1.0,\"#f0f921\"]],\"type\":\"heatmap\"}],\"heatmapgl\":[{\"colorbar\":{\"outlinewidth\":0,\"ticks\":\"\"},\"colorscale\":[[0.0,\"#0d0887\"],[0.1111111111111111,\"#46039f\"],[0.2222222222222222,\"#7201a8\"],[0.3333333333333333,\"#9c179e\"],[0.4444444444444444,\"#bd3786\"],[0.5555555555555556,\"#d8576b\"],[0.6666666666666666,\"#ed7953\"],[0.7777777777777778,\"#fb9f3a\"],[0.8888888888888888,\"#fdca26\"],[1.0,\"#f0f921\"]],\"type\":\"heatmapgl\"}],\"histogram\":[{\"marker\":{\"pattern\":{\"fillmode\":\"overlay\",\"size\":10,\"solidity\":0.2}},\"type\":\"histogram\"}],\"histogram2d\":[{\"colorbar\":{\"outlinewidth\":0,\"ticks\":\"\"},\"colorscale\":[[0.0,\"#0d0887\"],[0.1111111111111111,\"#46039f\"],[0.2222222222222222,\"#7201a8\"],[0.3333333333333333,\"#9c179e\"],[0.4444444444444444,\"#bd3786\"],[0.5555555555555556,\"#d8576b\"],[0.6666666666666666,\"#ed7953\"],[0.7777777777777778,\"#fb9f3a\"],[0.8888888888888888,\"#fdca26\"],[1.0,\"#f0f921\"]],\"type\":\"histogram2d\"}],\"histogram2dcontour\":[{\"colorbar\":{\"outlinewidth\":0,\"ticks\":\"\"},\"colorscale\":[[0.0,\"#0d0887\"],[0.1111111111111111,\"#46039f\"],[0.2222222222222222,\"#7201a8\"],[0.3333333333333333,\"#9c179e\"],[0.4444444444444444,\"#bd3786\"],[0.5555555555555556,\"#d8576b\"],[0.6666666666666666,\"#ed7953\"],[0.7777777777777778,\"#fb9f3a\"],[0.8888888888888888,\"#fdca26\"],[1.0,\"#f0f921\"]],\"type\":\"histogram2dcontour\"}],\"mesh3d\":[{\"colorbar\":{\"outlinewidth\":0,\"ticks\":\"\"},\"type\":\"mesh3d\"}],\"parcoords\":[{\"line\":{\"colorbar\":{\"outlinewidth\":0,\"ticks\":\"\"}},\"type\":\"parcoords\"}],\"pie\":[{\"automargin\":true,\"type\":\"pie\"}],\"scatter\":[{\"marker\":{\"colorbar\":{\"outlinewidth\":0,\"ticks\":\"\"}},\"type\":\"scatter\"}],\"scatter3d\":[{\"line\":{\"colorbar\":{\"outlinewidth\":0,\"ticks\":\"\"}},\"marker\":{\"colorbar\":{\"outlinewidth\":0,\"ticks\":\"\"}},\"type\":\"scatter3d\"}],\"scattercarpet\":[{\"marker\":{\"colorbar\":{\"outlinewidth\":0,\"ticks\":\"\"}},\"type\":\"scattercarpet\"}],\"scattergeo\":[{\"marker\":{\"colorbar\":{\"outlinewidth\":0,\"ticks\":\"\"}},\"type\":\"scattergeo\"}],\"scattergl\":[{\"marker\":{\"colorbar\":{\"outlinewidth\":0,\"ticks\":\"\"}},\"type\":\"scattergl\"}],\"scattermapbox\":[{\"marker\":{\"colorbar\":{\"outlinewidth\":0,\"ticks\":\"\"}},\"type\":\"scattermapbox\"}],\"scatterpolar\":[{\"marker\":{\"colorbar\":{\"outlinewidth\":0,\"ticks\":\"\"}},\"type\":\"scatterpolar\"}],\"scatterpolargl\":[{\"marker\":{\"colorbar\":{\"outlinewidth\":0,\"ticks\":\"\"}},\"type\":\"scatterpolargl\"}],\"scatterternary\":[{\"marker\":{\"colorbar\":{\"outlinewidth\":0,\"ticks\":\"\"}},\"type\":\"scatterternary\"}],\"surface\":[{\"colorbar\":{\"outlinewidth\":0,\"ticks\":\"\"},\"colorscale\":[[0.0,\"#0d0887\"],[0.1111111111111111,\"#46039f\"],[0.2222222222222222,\"#7201a8\"],[0.3333333333333333,\"#9c179e\"],[0.4444444444444444,\"#bd3786\"],[0.5555555555555556,\"#d8576b\"],[0.6666666666666666,\"#ed7953\"],[0.7777777777777778,\"#fb9f3a\"],[0.8888888888888888,\"#fdca26\"],[1.0,\"#f0f921\"]],\"type\":\"surface\"}],\"table\":[{\"cells\":{\"fill\":{\"color\":\"#EBF0F8\"},\"line\":{\"color\":\"white\"}},\"header\":{\"fill\":{\"color\":\"#C8D4E3\"},\"line\":{\"color\":\"white\"}},\"type\":\"table\"}]},\"layout\":{\"annotationdefaults\":{\"arrowcolor\":\"#2a3f5f\",\"arrowhead\":0,\"arrowwidth\":1},\"autotypenumbers\":\"strict\",\"coloraxis\":{\"colorbar\":{\"outlinewidth\":0,\"ticks\":\"\"}},\"colorscale\":{\"diverging\":[[0,\"#8e0152\"],[0.1,\"#c51b7d\"],[0.2,\"#de77ae\"],[0.3,\"#f1b6da\"],[0.4,\"#fde0ef\"],[0.5,\"#f7f7f7\"],[0.6,\"#e6f5d0\"],[0.7,\"#b8e186\"],[0.8,\"#7fbc41\"],[0.9,\"#4d9221\"],[1,\"#276419\"]],\"sequential\":[[0.0,\"#0d0887\"],[0.1111111111111111,\"#46039f\"],[0.2222222222222222,\"#7201a8\"],[0.3333333333333333,\"#9c179e\"],[0.4444444444444444,\"#bd3786\"],[0.5555555555555556,\"#d8576b\"],[0.6666666666666666,\"#ed7953\"],[0.7777777777777778,\"#fb9f3a\"],[0.8888888888888888,\"#fdca26\"],[1.0,\"#f0f921\"]],\"sequentialminus\":[[0.0,\"#0d0887\"],[0.1111111111111111,\"#46039f\"],[0.2222222222222222,\"#7201a8\"],[0.3333333333333333,\"#9c179e\"],[0.4444444444444444,\"#bd3786\"],[0.5555555555555556,\"#d8576b\"],[0.6666666666666666,\"#ed7953\"],[0.7777777777777778,\"#fb9f3a\"],[0.8888888888888888,\"#fdca26\"],[1.0,\"#f0f921\"]]},\"colorway\":[\"#636efa\",\"#EF553B\",\"#00cc96\",\"#ab63fa\",\"#FFA15A\",\"#19d3f3\",\"#FF6692\",\"#B6E880\",\"#FF97FF\",\"#FECB52\"],\"font\":{\"color\":\"#2a3f5f\"},\"geo\":{\"bgcolor\":\"white\",\"lakecolor\":\"white\",\"landcolor\":\"#E5ECF6\",\"showlakes\":true,\"showland\":true,\"subunitcolor\":\"white\"},\"hoverlabel\":{\"align\":\"left\"},\"hovermode\":\"closest\",\"mapbox\":{\"style\":\"light\"},\"paper_bgcolor\":\"white\",\"plot_bgcolor\":\"#E5ECF6\",\"polar\":{\"angularaxis\":{\"gridcolor\":\"white\",\"linecolor\":\"white\",\"ticks\":\"\"},\"bgcolor\":\"#E5ECF6\",\"radialaxis\":{\"gridcolor\":\"white\",\"linecolor\":\"white\",\"ticks\":\"\"}},\"scene\":{\"xaxis\":{\"backgroundcolor\":\"#E5ECF6\",\"gridcolor\":\"white\",\"gridwidth\":2,\"linecolor\":\"white\",\"showbackground\":true,\"ticks\":\"\",\"zerolinecolor\":\"white\"},\"yaxis\":{\"backgroundcolor\":\"#E5ECF6\",\"gridcolor\":\"white\",\"gridwidth\":2,\"linecolor\":\"white\",\"showbackground\":true,\"ticks\":\"\",\"zerolinecolor\":\"white\"},\"zaxis\":{\"backgroundcolor\":\"#E5ECF6\",\"gridcolor\":\"white\",\"gridwidth\":2,\"linecolor\":\"white\",\"showbackground\":true,\"ticks\":\"\",\"zerolinecolor\":\"white\"}},\"shapedefaults\":{\"line\":{\"color\":\"#2a3f5f\"}},\"ternary\":{\"aaxis\":{\"gridcolor\":\"white\",\"linecolor\":\"white\",\"ticks\":\"\"},\"baxis\":{\"gridcolor\":\"white\",\"linecolor\":\"white\",\"ticks\":\"\"},\"bgcolor\":\"#E5ECF6\",\"caxis\":{\"gridcolor\":\"white\",\"linecolor\":\"white\",\"ticks\":\"\"}},\"title\":{\"x\":0.05},\"xaxis\":{\"automargin\":true,\"gridcolor\":\"white\",\"linecolor\":\"white\",\"ticks\":\"\",\"title\":{\"standoff\":15},\"zerolinecolor\":\"white\",\"zerolinewidth\":2},\"yaxis\":{\"automargin\":true,\"gridcolor\":\"white\",\"linecolor\":\"white\",\"ticks\":\"\",\"title\":{\"standoff\":15},\"zerolinecolor\":\"white\",\"zerolinewidth\":2}}}},                        {\"responsive\": true}                    ).then(function(){\n",
       "                            \n",
       "var gd = document.getElementById('7f8a9fb2-f95d-4d7e-a0af-e6af33ee8a21');\n",
       "var x = new MutationObserver(function (mutations, observer) {{\n",
       "        var display = window.getComputedStyle(gd).display;\n",
       "        if (!display || display === 'none') {{\n",
       "            console.log([gd, 'removed!']);\n",
       "            Plotly.purge(gd);\n",
       "            observer.disconnect();\n",
       "        }}\n",
       "}});\n",
       "\n",
       "// Listen for the removal of the full notebook cells\n",
       "var notebookContainer = gd.closest('#notebook-container');\n",
       "if (notebookContainer) {{\n",
       "    x.observe(notebookContainer, {childList: true});\n",
       "}}\n",
       "\n",
       "// Listen for the clearing of the current output cell\n",
       "var outputEl = gd.closest('.output');\n",
       "if (outputEl) {{\n",
       "    x.observe(outputEl, {childList: true});\n",
       "}}\n",
       "\n",
       "                        })                };                });            </script>        </div>"
      ]
     },
     "metadata": {},
     "output_type": "display_data"
    }
   ],
   "source": [
    "fig = go.Figure(go.Funnel(\n",
    "    y = data_users_count.query('event_name not in \"Tutorial\"')['event_name'],\n",
    "    x = data_users_count.query('event_name not in \"Tutorial\"')['total'])\n",
    ")\n",
    "fig.show()"
   ]
  },
  {
   "cell_type": "markdown",
   "metadata": {},
   "source": [
    "Выведем на экран долю пользователей на каждом последующем шаге от предыдущего:"
   ]
  },
  {
   "cell_type": "code",
   "execution_count": 98,
   "metadata": {},
   "outputs": [
    {
     "name": "stdout",
     "output_type": "stream",
     "text": [
      "Доля пользователей на первом шаге, %: 100\n",
      "Доля пользователей на втором шаге от предыдущего, %: 61.9\n",
      "Доля пользователей на первом шаге от предыдущего, %: 81.3\n",
      "Доля пользователей на первом шаге от предыдущего, %: 94.8\n"
     ]
    }
   ],
   "source": [
    "print('Доля пользователей на первом шаге, %:', 100)\n",
    "print('Доля пользователей на втором шаге от предыдущего, %:', round((data_users_count['total'][1] / data_users_count['total'][0] * 100), 1))\n",
    "print('Доля пользователей на первом шаге от предыдущего, %:', round((data_users_count['total'][2] / data_users_count['total'][1] * 100), 1))\n",
    "print('Доля пользователей на первом шаге от предыдущего, %:', round((data_users_count['total'][3] / data_users_count['total'][2] * 100), 1))"
   ]
  },
  {
   "cell_type": "markdown",
   "metadata": {},
   "source": [
    "По полученным результатам можно сделать следующие **выводы**:\n",
    "- 5.2% пользователей переходят на экран оплаты картой, но не завершают данное событие успешно. Возможно с сервисом оплаты имеются некоторые **технические трудности**, либо пользователь **отменяет покупку**."
   ]
  },
  {
   "cell_type": "markdown",
   "metadata": {},
   "source": [
    "### Определение шага с наибольшей потерей пользователей"
   ]
  },
  {
   "cell_type": "markdown",
   "metadata": {},
   "source": [
    "Очевидно, что **наибольшее количество** пользователей, а именно **38.1%**, теряется на этапе главного экрана (`MainScreenAppear`).\n",
    "\n",
    "Предположительно, это может происходить по разным причинам:\n",
    "- пользователю не нравится интерфейс приложения;\n",
    "- кнопка для перехода на предложения (`OffersScreenAppear`) малозаметна пользователю или не удобна для использования;\n",
    "- пользователь заходит в приложение без цели покупки, просто для ознакомления.\n",
    "\n",
    "На следующих шагах поведение пользователей более стабильно."
   ]
  },
  {
   "cell_type": "markdown",
   "metadata": {},
   "source": [
    "### Определение доли пользователей, которые дошли от первого события до оплаты"
   ]
  },
  {
   "cell_type": "markdown",
   "metadata": {},
   "source": [
    "Выведем на экран долю пользователей, которые прошли все этапы и **успешно завершили покупку**:"
   ]
  },
  {
   "cell_type": "code",
   "execution_count": 99,
   "metadata": {},
   "outputs": [
    {
     "name": "stdout",
     "output_type": "stream",
     "text": [
      "Доля пользователей, которые дошли от первого события до оплаты, %: 47.7\n"
     ]
    }
   ],
   "source": [
    "print(\n",
    "    'Доля пользователей, которые дошли от первого события до оплаты, %:', \n",
    "    round((data_users_count['total'][3] / data_users_count['total'][0] * 100), 1)\n",
    ")"
   ]
  },
  {
   "cell_type": "markdown",
   "metadata": {},
   "source": [
    "**Вывод**:\n",
    "- от первого события (главный экран) до последнего (успешная оплата) дошло менее половины пользователей - **47.7%**."
   ]
  },
  {
   "cell_type": "markdown",
   "metadata": {},
   "source": [
    "### Вывод по изучению воронки событий"
   ]
  },
  {
   "cell_type": "markdown",
   "metadata": {},
   "source": [
    "По полученным результатам можно сделать следующие **выводы**:\n",
    "- **самое частое** событие `MainScreenAppear`;\n",
    "- событие `Tutorial` малочисленное и может искажать результаты, поэтому оно было **удалено** из воронки событий;\n",
    "- 5.2% пользователей переходят на экран оплаты картой, но не завершают данное событие успешно. Возможно с сервисом оплаты имеются некоторые **технические трудности**, либо пользователь **отменяет покупку**;\n",
    "- **наибольшее количество** пользователей, а именно **38.1%**, теряется на этапе главного экрана (`MainScreenAppear`);\n",
    "- от первого события (главный экран) до последнего (успешная оплата) дошло менее половины пользователей - **47.7%**."
   ]
  },
  {
   "cell_type": "markdown",
   "metadata": {},
   "source": [
    "## Изучение результатов эксперимента"
   ]
  },
  {
   "cell_type": "markdown",
   "metadata": {},
   "source": [
    "### Количество пользователей в каждой экспериментальной группе"
   ]
  },
  {
   "cell_type": "markdown",
   "metadata": {},
   "source": [
    "Определим количество уникальных пользователей в каждой экспериментальной группе:"
   ]
  },
  {
   "cell_type": "code",
   "execution_count": 100,
   "metadata": {},
   "outputs": [
    {
     "data": {
      "text/html": [
       "<div>\n",
       "<style scoped>\n",
       "    .dataframe tbody tr th:only-of-type {\n",
       "        vertical-align: middle;\n",
       "    }\n",
       "\n",
       "    .dataframe tbody tr th {\n",
       "        vertical-align: top;\n",
       "    }\n",
       "\n",
       "    .dataframe thead th {\n",
       "        text-align: right;\n",
       "    }\n",
       "</style>\n",
       "<table border=\"1\" class=\"dataframe\">\n",
       "  <thead>\n",
       "    <tr style=\"text-align: right;\">\n",
       "      <th></th>\n",
       "      <th>total_users</th>\n",
       "    </tr>\n",
       "    <tr>\n",
       "      <th>group</th>\n",
       "      <th></th>\n",
       "    </tr>\n",
       "  </thead>\n",
       "  <tbody>\n",
       "    <tr>\n",
       "      <th>246</th>\n",
       "      <td>2484</td>\n",
       "    </tr>\n",
       "    <tr>\n",
       "      <th>247</th>\n",
       "      <td>2513</td>\n",
       "    </tr>\n",
       "    <tr>\n",
       "      <th>248</th>\n",
       "      <td>2537</td>\n",
       "    </tr>\n",
       "    <tr>\n",
       "      <th>246+247</th>\n",
       "      <td>4997</td>\n",
       "    </tr>\n",
       "  </tbody>\n",
       "</table>\n",
       "</div>"
      ],
      "text/plain": [
       "         total_users\n",
       "group               \n",
       "246             2484\n",
       "247             2513\n",
       "248             2537\n",
       "246+247         4997"
      ]
     },
     "execution_count": 100,
     "metadata": {},
     "output_type": "execute_result"
    }
   ],
   "source": [
    "data_group_users = (data_full\n",
    "                    .groupby('group')['user_id']\n",
    "                    .nunique()\n",
    "                    .reset_index())\n",
    "data_group_users.columns = ['group', 'total_users']\n",
    "data_group_users.loc[3] = ['246+247', 4997]\n",
    "data_group_users = data_group_users.set_index(data_group_users.columns[0])\n",
    "data_group_users"
   ]
  },
  {
   "cell_type": "markdown",
   "metadata": {},
   "source": [
    "По полученным результатам можно сделать **выводы** о том, что:\n",
    "- во всех 3 экспериментальных группах приблизительно одинаковое количество пользователей;\n",
    "- число пользователей каждой группы является удовлетворительным для проведения тестирования."
   ]
  },
  {
   "cell_type": "markdown",
   "metadata": {},
   "source": [
    "### Проверка, находят ли статистические критерии разницу между выборками 246 и 247"
   ]
  },
  {
   "cell_type": "markdown",
   "metadata": {},
   "source": [
    "Критерии успешного **A/A-теста**:\n",
    "- количество пользователей в различных группах различается не более, чем на 1% или 0.5%;\n",
    "- для всех групп фиксируют и отправляют в системы аналитики данные об одном и том же;\n",
    "- различие ключевых метрик по группам не превышает 1% и не имеет статистической значимости;\n",
    "- попавший в одну из групп посетитель остаётся в этой группе до конца теста. Если пользователь видит разные версии исследуемой страницы в ходе одного исследования, неизвестно, какая именно повлияла на его решения. Значит, и результаты такого теста нельзя интерпретировать однозначно.\n",
    "\n",
    "Ранее уже было определено, что во всех 3 группах **пользователи уникальны**, то есть никто из пользователей одной группы не находится одновременно в другой группе. Следовательно, **последний кретерий** в случае нашей выборки **выполняется**.\n",
    "\n",
    "Все зафиксированные данные об одном и том же. Следовательно **второй критерий** так же **выполняется**."
   ]
  },
  {
   "cell_type": "markdown",
   "metadata": {},
   "source": [
    "Получим число пользователей в каждой группе:"
   ]
  },
  {
   "cell_type": "code",
   "execution_count": 101,
   "metadata": {},
   "outputs": [],
   "source": [
    "users_246 = (data_full\n",
    "             .query('group == 246')\n",
    "             .groupby('group')['user_id']\n",
    "             .nunique()\n",
    "             .reset_index()\n",
    ")\n",
    "users_247 = (data_full\n",
    "             .query('group == 247')\n",
    "             .groupby('group')['user_id']\n",
    "             .nunique()\n",
    "             .reset_index()\n",
    ")"
   ]
  },
  {
   "cell_type": "markdown",
   "metadata": {},
   "source": [
    "Выведем на экран **разницу** между пользователями разных групп в %:"
   ]
  },
  {
   "cell_type": "code",
   "execution_count": 102,
   "metadata": {},
   "outputs": [
    {
     "name": "stdout",
     "output_type": "stream",
     "text": [
      "Количество пользователей в группах 246 и 247 различается на 1.15 %\n"
     ]
    }
   ],
   "source": [
    "print('Количество пользователей в группах 246 и 247 различается на', round(100 - (int(users_246['user_id']) / int(users_247['user_id']) * 100), 2), '%')"
   ]
  },
  {
   "cell_type": "markdown",
   "metadata": {},
   "source": [
    "По полученным результатам можно сказать, что данные **не идеальны** (различие более 1%), но **приемлимые** для проведения **A/A-теста**."
   ]
  },
  {
   "cell_type": "markdown",
   "metadata": {},
   "source": [
    "### Проведение A/A-теста"
   ]
  },
  {
   "cell_type": "markdown",
   "metadata": {},
   "source": [
    "Согласно предыдущим расчетам, самое популярное событие - главный экран (`MainScreenAppear`)\n",
    "\n",
    "Построим сводную таблицу, в которой отразим число пользователей каждой контрольной группы, совершивших каждое событие:"
   ]
  },
  {
   "cell_type": "code",
   "execution_count": 103,
   "metadata": {},
   "outputs": [
    {
     "data": {
      "text/html": [
       "<div>\n",
       "<style scoped>\n",
       "    .dataframe tbody tr th:only-of-type {\n",
       "        vertical-align: middle;\n",
       "    }\n",
       "\n",
       "    .dataframe tbody tr th {\n",
       "        vertical-align: top;\n",
       "    }\n",
       "\n",
       "    .dataframe thead th {\n",
       "        text-align: right;\n",
       "    }\n",
       "</style>\n",
       "<table border=\"1\" class=\"dataframe\">\n",
       "  <thead>\n",
       "    <tr style=\"text-align: right;\">\n",
       "      <th>group</th>\n",
       "      <th>246</th>\n",
       "      <th>247</th>\n",
       "      <th>248</th>\n",
       "      <th>246+247</th>\n",
       "    </tr>\n",
       "    <tr>\n",
       "      <th>event_name</th>\n",
       "      <th></th>\n",
       "      <th></th>\n",
       "      <th></th>\n",
       "      <th></th>\n",
       "    </tr>\n",
       "  </thead>\n",
       "  <tbody>\n",
       "    <tr>\n",
       "      <th>MainScreenAppear</th>\n",
       "      <td>2450</td>\n",
       "      <td>2476</td>\n",
       "      <td>2493</td>\n",
       "      <td>4926</td>\n",
       "    </tr>\n",
       "    <tr>\n",
       "      <th>OffersScreenAppear</th>\n",
       "      <td>1542</td>\n",
       "      <td>1520</td>\n",
       "      <td>1531</td>\n",
       "      <td>3062</td>\n",
       "    </tr>\n",
       "    <tr>\n",
       "      <th>CartScreenAppear</th>\n",
       "      <td>1266</td>\n",
       "      <td>1238</td>\n",
       "      <td>1230</td>\n",
       "      <td>2504</td>\n",
       "    </tr>\n",
       "    <tr>\n",
       "      <th>PaymentScreenSuccessful</th>\n",
       "      <td>1200</td>\n",
       "      <td>1158</td>\n",
       "      <td>1181</td>\n",
       "      <td>2358</td>\n",
       "    </tr>\n",
       "  </tbody>\n",
       "</table>\n",
       "</div>"
      ],
      "text/plain": [
       "group                     246   247   248  246+247\n",
       "event_name                                        \n",
       "MainScreenAppear         2450  2476  2493     4926\n",
       "OffersScreenAppear       1542  1520  1531     3062\n",
       "CartScreenAppear         1266  1238  1230     2504\n",
       "PaymentScreenSuccessful  1200  1158  1181     2358"
      ]
     },
     "execution_count": 103,
     "metadata": {},
     "output_type": "execute_result"
    }
   ],
   "source": [
    "data_group = (data_full\n",
    "              .pivot_table(index='event_name', columns='group',values='user_id',aggfunc='nunique')\n",
    "              .sort_values(by=246,ascending=False)\n",
    ")\n",
    "data_group['246+247'] = data_group[246] + data_group[247]\n",
    "data_group.drop(['Tutorial'], inplace=True)\n",
    "data_group"
   ]
  },
  {
   "cell_type": "markdown",
   "metadata": {},
   "source": [
    "Выведем на экран количество пользователей каждой группы для самого популярного события:"
   ]
  },
  {
   "cell_type": "code",
   "execution_count": 104,
   "metadata": {},
   "outputs": [
    {
     "data": {
      "text/html": [
       "<div>\n",
       "<style scoped>\n",
       "    .dataframe tbody tr th:only-of-type {\n",
       "        vertical-align: middle;\n",
       "    }\n",
       "\n",
       "    .dataframe tbody tr th {\n",
       "        vertical-align: top;\n",
       "    }\n",
       "\n",
       "    .dataframe thead th {\n",
       "        text-align: right;\n",
       "    }\n",
       "</style>\n",
       "<table border=\"1\" class=\"dataframe\">\n",
       "  <thead>\n",
       "    <tr style=\"text-align: right;\">\n",
       "      <th></th>\n",
       "      <th>group</th>\n",
       "      <th>total</th>\n",
       "    </tr>\n",
       "  </thead>\n",
       "  <tbody>\n",
       "    <tr>\n",
       "      <th>0</th>\n",
       "      <td>246</td>\n",
       "      <td>2450</td>\n",
       "    </tr>\n",
       "    <tr>\n",
       "      <th>1</th>\n",
       "      <td>247</td>\n",
       "      <td>2476</td>\n",
       "    </tr>\n",
       "    <tr>\n",
       "      <th>2</th>\n",
       "      <td>248</td>\n",
       "      <td>2493</td>\n",
       "    </tr>\n",
       "    <tr>\n",
       "      <th>3</th>\n",
       "      <td>246+247</td>\n",
       "      <td>4926</td>\n",
       "    </tr>\n",
       "  </tbody>\n",
       "</table>\n",
       "</div>"
      ],
      "text/plain": [
       "     group  total\n",
       "0      246   2450\n",
       "1      247   2476\n",
       "2      248   2493\n",
       "3  246+247   4926"
      ]
     },
     "execution_count": 104,
     "metadata": {},
     "output_type": "execute_result"
    }
   ],
   "source": [
    "data_group_main_scr = data_group.T['MainScreenAppear'].reset_index()\n",
    "data_group_main_scr.columns = ['group', 'total']\n",
    "data_group_main_scr"
   ]
  },
  {
   "cell_type": "markdown",
   "metadata": {},
   "source": [
    "Добавим столбец, в котором отразим долю пользователей, совершивших это событие:"
   ]
  },
  {
   "cell_type": "code",
   "execution_count": 105,
   "metadata": {},
   "outputs": [
    {
     "data": {
      "text/html": [
       "<div>\n",
       "<style scoped>\n",
       "    .dataframe tbody tr th:only-of-type {\n",
       "        vertical-align: middle;\n",
       "    }\n",
       "\n",
       "    .dataframe tbody tr th {\n",
       "        vertical-align: top;\n",
       "    }\n",
       "\n",
       "    .dataframe thead th {\n",
       "        text-align: right;\n",
       "    }\n",
       "</style>\n",
       "<table border=\"1\" class=\"dataframe\">\n",
       "  <thead>\n",
       "    <tr style=\"text-align: right;\">\n",
       "      <th></th>\n",
       "      <th>total</th>\n",
       "      <th>persent</th>\n",
       "    </tr>\n",
       "    <tr>\n",
       "      <th>group</th>\n",
       "      <th></th>\n",
       "      <th></th>\n",
       "    </tr>\n",
       "  </thead>\n",
       "  <tbody>\n",
       "    <tr>\n",
       "      <th>246</th>\n",
       "      <td>2450</td>\n",
       "      <td>32.52</td>\n",
       "    </tr>\n",
       "    <tr>\n",
       "      <th>247</th>\n",
       "      <td>2476</td>\n",
       "      <td>32.86</td>\n",
       "    </tr>\n",
       "    <tr>\n",
       "      <th>248</th>\n",
       "      <td>2493</td>\n",
       "      <td>33.09</td>\n",
       "    </tr>\n",
       "    <tr>\n",
       "      <th>246+247</th>\n",
       "      <td>4926</td>\n",
       "      <td>65.38</td>\n",
       "    </tr>\n",
       "  </tbody>\n",
       "</table>\n",
       "</div>"
      ],
      "text/plain": [
       "         total  persent\n",
       "group                  \n",
       "246       2450    32.52\n",
       "247       2476    32.86\n",
       "248       2493    33.09\n",
       "246+247   4926    65.38"
      ]
     },
     "execution_count": 105,
     "metadata": {},
     "output_type": "execute_result"
    }
   ],
   "source": [
    "data_group_main_scr['persent'] = round((data_group_main_scr['total'] / data_full['user_id'].nunique() * 100), 2)\n",
    "data_group_main_scr = data_group_main_scr.set_index(data_group_main_scr.columns[0])\n",
    "data_group_main_scr"
   ]
  },
  {
   "cell_type": "markdown",
   "metadata": {},
   "source": [
    "Проверим, будет ли отличие между группами **статистически достоверным**. \n",
    "\n",
    "Для проверки воспользуемся Z-критерием. Принимаем критический уровень статистической значимости **alpha**, равный **0.05** для каждого сравнения.\n",
    "\n",
    "Сформулируем **нулевую** гипотезу:\n",
    "- _конверсия_ пользователей экспериментальных групп **не различается**\n",
    "\n",
    "Соответственно, **альтернативная** гипотеза будет звучать следующим образом:\n",
    "- _конверсия_ пользователей экспериментальных групп **различается**\n",
    "\n",
    "Перед проведением A/A-теста напишем функцию для проверки Z-критерия:"
   ]
  },
  {
   "cell_type": "code",
   "execution_count": 106,
   "metadata": {},
   "outputs": [],
   "source": [
    "def print_z_test_with_bonferroni_validation_result(group1, group2, event, alpha): \n",
    "    p1_event = data_group.loc[event, group1]\n",
    "    p2_event = data_group.loc[event, group2] \n",
    "    p1_users = data_group_users.loc[group1, 'total_users'] \n",
    "    p2_users = data_group_users.loc[group2, 'total_users'] \n",
    "    p1 = p1_event / p1_users \n",
    "    p2 = p2_event / p2_users \n",
    "    difference = p1 - p2\n",
    "    p_combined = (p1_event + p2_event) / (p1_users + p2_users) \n",
    "    z_value = difference / mth.sqrt(p_combined * (1 - p_combined) * (1 / p1_users + 1 / p2_users))\n",
    "    distr = st.norm(0, 1)\n",
    "    p_value = (1 - distr.cdf(abs(z_value))) * 2\n",
    "    \n",
    "    print('Проверка для групп {} и {}, событие: {}, p-значение: {p_value:.2f}'.format(group1, group2, event, p_value=p_value))\n",
    "    if (p_value < alpha):\n",
    "        print(\"Отвергаем нулевую гипотезу о равенстве конверсии в группах\")\n",
    "    else:\n",
    "        print(\"Не получилось отвергнуть нулевую гипотезу о равенстве конверсии в группах\")"
   ]
  },
  {
   "cell_type": "markdown",
   "metadata": {},
   "source": [
    "Проведем **A/A-тест** для групп **246 и 247**:"
   ]
  },
  {
   "cell_type": "code",
   "execution_count": 107,
   "metadata": {},
   "outputs": [
    {
     "name": "stdout",
     "output_type": "stream",
     "text": [
      "Проверка для групп 246 и 247, событие: MainScreenAppear, p-значение: 0.76\n",
      "Не получилось отвергнуть нулевую гипотезу о равенстве конверсии в группах\n",
      "\n",
      "Проверка для групп 246 и 247, событие: OffersScreenAppear, p-значение: 0.25\n",
      "Не получилось отвергнуть нулевую гипотезу о равенстве конверсии в группах\n",
      "\n",
      "Проверка для групп 246 и 247, событие: CartScreenAppear, p-значение: 0.23\n",
      "Не получилось отвергнуть нулевую гипотезу о равенстве конверсии в группах\n",
      "\n",
      "Проверка для групп 246 и 247, событие: PaymentScreenSuccessful, p-значение: 0.11\n",
      "Не получилось отвергнуть нулевую гипотезу о равенстве конверсии в группах\n",
      "\n"
     ]
    }
   ],
   "source": [
    "for event in data_group.index:\n",
    "    print_z_test_with_bonferroni_validation_result(246, 247, event, 0.05)\n",
    "    print()"
   ]
  },
  {
   "cell_type": "markdown",
   "metadata": {},
   "source": [
    "По полученным результатам можно сделать следующие **выводы**:\n",
    "- статистически значимых различий между группами нет;\n",
    "- разбиение на группы работает корректно;\n",
    "- дальнейшие выводы при проведении A/B-теста будут более достоверны."
   ]
  },
  {
   "cell_type": "markdown",
   "metadata": {},
   "source": [
    "### Проведение A/B-теста"
   ]
  },
  {
   "cell_type": "markdown",
   "metadata": {},
   "source": [
    "Проведем проверку для групп **246** и **248**:"
   ]
  },
  {
   "cell_type": "code",
   "execution_count": 108,
   "metadata": {},
   "outputs": [
    {
     "name": "stdout",
     "output_type": "stream",
     "text": [
      "Проверка для групп 246 и 248, событие: MainScreenAppear, p-значение: 0.29\n",
      "Не получилось отвергнуть нулевую гипотезу о равенстве конверсии в группах\n",
      "\n",
      "Проверка для групп 246 и 248, событие: OffersScreenAppear, p-значение: 0.21\n",
      "Не получилось отвергнуть нулевую гипотезу о равенстве конверсии в группах\n",
      "\n",
      "Проверка для групп 246 и 248, событие: CartScreenAppear, p-значение: 0.08\n",
      "Не получилось отвергнуть нулевую гипотезу о равенстве конверсии в группах\n",
      "\n",
      "Проверка для групп 246 и 248, событие: PaymentScreenSuccessful, p-значение: 0.21\n",
      "Не получилось отвергнуть нулевую гипотезу о равенстве конверсии в группах\n",
      "\n"
     ]
    }
   ],
   "source": [
    "for event in data_group.index:\n",
    "    print_z_test_with_bonferroni_validation_result(246, 248, event, 0.05)\n",
    "    print()"
   ]
  },
  {
   "cell_type": "markdown",
   "metadata": {},
   "source": [
    "Проведем проверку для групп **247** и **248**:"
   ]
  },
  {
   "cell_type": "code",
   "execution_count": 109,
   "metadata": {},
   "outputs": [
    {
     "name": "stdout",
     "output_type": "stream",
     "text": [
      "Проверка для групп 247 и 248, событие: MainScreenAppear, p-значение: 0.46\n",
      "Не получилось отвергнуть нулевую гипотезу о равенстве конверсии в группах\n",
      "\n",
      "Проверка для групп 247 и 248, событие: OffersScreenAppear, p-значение: 0.92\n",
      "Не получилось отвергнуть нулевую гипотезу о равенстве конверсии в группах\n",
      "\n",
      "Проверка для групп 247 и 248, событие: CartScreenAppear, p-значение: 0.58\n",
      "Не получилось отвергнуть нулевую гипотезу о равенстве конверсии в группах\n",
      "\n",
      "Проверка для групп 247 и 248, событие: PaymentScreenSuccessful, p-значение: 0.74\n",
      "Не получилось отвергнуть нулевую гипотезу о равенстве конверсии в группах\n",
      "\n"
     ]
    }
   ],
   "source": [
    "for event in data_group.index:\n",
    "    print_z_test_with_bonferroni_validation_result(247, 248, event, 0.05)\n",
    "    print()"
   ]
  },
  {
   "cell_type": "markdown",
   "metadata": {},
   "source": [
    "Проведем проверку для групп **246+247** и **248**:"
   ]
  },
  {
   "cell_type": "code",
   "execution_count": 110,
   "metadata": {
    "scrolled": false
   },
   "outputs": [
    {
     "name": "stdout",
     "output_type": "stream",
     "text": [
      "Проверка для групп 246+247 и 248, событие: MainScreenAppear, p-значение: 0.29\n",
      "Не получилось отвергнуть нулевую гипотезу о равенстве конверсии в группах\n",
      "\n",
      "Проверка для групп 246+247 и 248, событие: OffersScreenAppear, p-значение: 0.43\n",
      "Не получилось отвергнуть нулевую гипотезу о равенстве конверсии в группах\n",
      "\n",
      "Проверка для групп 246+247 и 248, событие: CartScreenAppear, p-значение: 0.18\n",
      "Не получилось отвергнуть нулевую гипотезу о равенстве конверсии в группах\n",
      "\n",
      "Проверка для групп 246+247 и 248, событие: PaymentScreenSuccessful, p-значение: 0.60\n",
      "Не получилось отвергнуть нулевую гипотезу о равенстве конверсии в группах\n",
      "\n"
     ]
    }
   ],
   "source": [
    "for event in data_group.index:\n",
    "    print_z_test_with_bonferroni_validation_result('246+247', 248, event, 0.05)\n",
    "    print()"
   ]
  },
  {
   "cell_type": "markdown",
   "metadata": {},
   "source": [
    "По полученным результатам можно сделать **вывод** о том, что **статистически значимых различий между выборками нет**."
   ]
  },
  {
   "cell_type": "markdown",
   "metadata": {},
   "source": [
    "### Подсчет количества проверок статистических гипотез и выбор уровня значимости"
   ]
  },
  {
   "cell_type": "markdown",
   "metadata": {},
   "source": [
    "Для проведения проверки был выбран критический уровень статистической значимости **alpha = 0.05**, однако, также была применена **поправка Бонферрони**, так как имеело место **множественное сравнение**.\n",
    "\n",
    "Всего было проведено:\n",
    "- **4** `А/А-теста`;\n",
    "- **12** `А/В-тестов`."
   ]
  },
  {
   "cell_type": "markdown",
   "metadata": {},
   "source": [
    "### Вывод по результатам эксперимента"
   ]
  },
  {
   "cell_type": "markdown",
   "metadata": {},
   "source": [
    "По результатам экспериментов можно сделать следующие **выводы**:\n",
    "- во всех 3 экспериментальных группах приблизительно одинаковое количество пользователей;\n",
    "- число пользователей каждой группы является удовлетворительным для проведения тестирования;\n",
    "- данные подходят для проведения A/A-теста;\n",
    "- проведение A/A-теста говорит о достоверности результатов A/B-теста;\n",
    "- статистически значимых различий между выборками нет, следовательно, внесение изменений никак не повлияло на поведение пользователей."
   ]
  },
  {
   "cell_type": "markdown",
   "metadata": {},
   "source": [
    "## Общий вывод"
   ]
  },
  {
   "cell_type": "markdown",
   "metadata": {},
   "source": [
    "В ходе проведения исследования поведения пользователей приложения была проделана следующая работа:\n",
    "\n",
    "**1. Подготовка данных к анализу, в ходе которой:**\n",
    "- загружены данные и изучена общая информация по ним;\n",
    "- изменены названия столбцов;\n",
    "- проведена проверка на наличие дубликатов и пропусков, в результате которой были удалены явные дубликаты;\n",
    "- для проведения дальнейшего анализа добавлено 2 столбца (`event_dt` - столбец с указание даты и времени события, `event_date` - столбец с указание даты события).\n",
    "\n",
    "**2. Произведено изучение и проверка данных, в ходе которых получены следующие выводы:**\n",
    "- мы располагаем полными данными только за период **7 дней** (с 1 августа 2019 года по 8 августа 2019 года);\n",
    "- всего в логе **243713 событий** (240887 после удаления неполных данных);\n",
    "- всего в логе **7551 пользователь** (7534 после удаления неполных данных);\n",
    "- количество пользователей каждой экспериментальной группы примерно **равно**;\n",
    "- **пользователи** каждой экспериментальной группы **уникальны**.\n",
    "\n",
    "**3. Проведено изучение воронки событий, в ходе которого получены следующие выводы**:\n",
    "- **самое частое** событие `MainScreenAppear`;\n",
    "- событие `Tutorial` малочисленное и может искажать результаты, поэтому оно было **удалено** из воронки событий;\n",
    "- 5.2% пользователей переходят на экран оплаты картой, но не завершают данное событие успешно. Возможно с сервисом оплаты имеются некоторые **технические трудности**, либо пользователь **отменяет покупку**;\n",
    "- **наибольшее количество** пользователей, а именно **38.1%**, теряется на этапе главного экрана (`MainScreenAppear`);\n",
    "- от первого события (главный экран) до последнего (успешная оплата) дошло менее половины пользователей - **47.7%**.\n",
    "\n",
    "**4. Проведено изучение результатов экспериментов, в ходе которого сделаны следующие выводы**:\n",
    "- во всех 3 экспериментальных группах приблизительно **одинаковое** количество пользователей;\n",
    "- число пользователей каждой группы является **удовлетворительным** для проведения тестирования;\n",
    "- данные подходят для проведения A/A-теста;\n",
    "- проведение A/A-теста говорит о **достоверности результатов A/B-теста**;\n",
    "- **статистически значимых различий между выборками нет**, следовательно, внесение изменений никак не повлияло на поведение пользователей.\n",
    "\n",
    "По результатам исследования можно выделить следующие **выводы**:\n",
    "- **наибольшее количество** пользователей, а именно **38.1%**, теряется на этапе главного экрана (`MainScreenAppear`);\n",
    "- **5.2%** пользователей переходят на экран оплаты картой, но не завершают данное событие успешно;\n",
    "- **статистически значимых различий между выборками нет**, следовательно, внесение изменений никак **не целесообразно**.\n",
    "\n",
    "**Рекоммендации** для команды разработчиков:\n",
    "- **доработать интерфейс приложения**, особенно главный экран, сделать его более привлекательным и удобным для использования;\n",
    "- **проверить приложение на наличие технических ошибок** при совершении оплаты картой;\n",
    "- **не вносить изменения в шрифты приложения**, так как это никак не влияет на поведение пользователей."
   ]
  }
 ],
 "metadata": {
  "ExecuteTimeLog": [
   {
    "duration": 23022,
    "start_time": "2022-04-26T06:06:07.003Z"
   },
   {
    "duration": 256,
    "start_time": "2022-04-26T06:11:38.687Z"
   },
   {
    "duration": 662,
    "start_time": "2022-04-26T06:11:49.174Z"
   },
   {
    "duration": 459,
    "start_time": "2022-04-26T06:11:53.806Z"
   },
   {
    "duration": 152,
    "start_time": "2022-04-26T06:12:00.427Z"
   },
   {
    "duration": 19,
    "start_time": "2022-04-26T06:12:37.333Z"
   },
   {
    "duration": 4,
    "start_time": "2022-04-26T06:17:56.024Z"
   },
   {
    "duration": 7,
    "start_time": "2022-04-26T06:21:40.088Z"
   },
   {
    "duration": 4,
    "start_time": "2022-04-26T06:22:01.252Z"
   },
   {
    "duration": 29,
    "start_time": "2022-04-26T06:26:05.079Z"
   },
   {
    "duration": 19,
    "start_time": "2022-04-26T06:26:16.958Z"
   },
   {
    "duration": 15,
    "start_time": "2022-04-26T06:31:57.112Z"
   },
   {
    "duration": 48,
    "start_time": "2022-04-26T06:33:31.678Z"
   },
   {
    "duration": 57,
    "start_time": "2022-04-26T06:38:52.033Z"
   },
   {
    "duration": 50,
    "start_time": "2022-04-26T06:39:37.485Z"
   },
   {
    "duration": 50,
    "start_time": "2022-04-26T06:39:46.187Z"
   },
   {
    "duration": 18,
    "start_time": "2022-04-26T06:40:31.893Z"
   },
   {
    "duration": 4,
    "start_time": "2022-04-26T06:43:56.890Z"
   },
   {
    "duration": 4,
    "start_time": "2022-04-26T06:44:11.062Z"
   },
   {
    "duration": 4,
    "start_time": "2022-04-26T06:44:14.244Z"
   },
   {
    "duration": 4,
    "start_time": "2022-04-26T06:44:22.024Z"
   },
   {
    "duration": 6395,
    "start_time": "2022-04-26T06:44:29.772Z"
   },
   {
    "duration": 173,
    "start_time": "2022-04-26T06:44:36.169Z"
   },
   {
    "duration": 21,
    "start_time": "2022-04-26T06:44:36.344Z"
   },
   {
    "duration": 4,
    "start_time": "2022-04-26T06:44:36.368Z"
   },
   {
    "duration": 30,
    "start_time": "2022-04-26T06:44:36.374Z"
   },
   {
    "duration": 5,
    "start_time": "2022-04-26T06:44:36.405Z"
   },
   {
    "duration": 44,
    "start_time": "2022-04-26T06:44:36.412Z"
   },
   {
    "duration": 26,
    "start_time": "2022-04-26T06:44:36.458Z"
   },
   {
    "duration": 28,
    "start_time": "2022-04-26T06:44:36.485Z"
   },
   {
    "duration": 56,
    "start_time": "2022-04-26T06:44:36.515Z"
   },
   {
    "duration": 70,
    "start_time": "2022-04-26T06:44:36.572Z"
   },
   {
    "duration": 61,
    "start_time": "2022-04-26T06:44:36.644Z"
   },
   {
    "duration": 3,
    "start_time": "2022-04-26T06:44:48.743Z"
   },
   {
    "duration": 6513,
    "start_time": "2022-04-26T06:44:54.759Z"
   },
   {
    "duration": 170,
    "start_time": "2022-04-26T06:45:01.274Z"
   },
   {
    "duration": 22,
    "start_time": "2022-04-26T06:45:01.448Z"
   },
   {
    "duration": 4,
    "start_time": "2022-04-26T06:45:01.472Z"
   },
   {
    "duration": 23,
    "start_time": "2022-04-26T06:45:01.478Z"
   },
   {
    "duration": 7,
    "start_time": "2022-04-26T06:45:01.503Z"
   },
   {
    "duration": 49,
    "start_time": "2022-04-26T06:45:01.511Z"
   },
   {
    "duration": 26,
    "start_time": "2022-04-26T06:45:01.562Z"
   },
   {
    "duration": 24,
    "start_time": "2022-04-26T06:45:01.589Z"
   },
   {
    "duration": 71,
    "start_time": "2022-04-26T06:45:01.615Z"
   },
   {
    "duration": 68,
    "start_time": "2022-04-26T06:45:01.688Z"
   },
   {
    "duration": 65,
    "start_time": "2022-04-26T06:45:01.758Z"
   },
   {
    "duration": 50,
    "start_time": "2022-04-26T06:49:41.857Z"
   },
   {
    "duration": 45,
    "start_time": "2022-04-26T06:49:42.952Z"
   },
   {
    "duration": 90,
    "start_time": "2022-04-26T06:50:56.359Z"
   },
   {
    "duration": 11,
    "start_time": "2022-04-26T06:51:05.659Z"
   },
   {
    "duration": 9,
    "start_time": "2022-04-26T06:51:15.204Z"
   },
   {
    "duration": 21,
    "start_time": "2022-04-26T06:53:53.694Z"
   },
   {
    "duration": 9,
    "start_time": "2022-04-26T06:53:54.364Z"
   },
   {
    "duration": 6372,
    "start_time": "2022-04-26T06:54:43.681Z"
   },
   {
    "duration": 154,
    "start_time": "2022-04-26T06:54:50.055Z"
   },
   {
    "duration": 21,
    "start_time": "2022-04-26T06:54:50.210Z"
   },
   {
    "duration": 4,
    "start_time": "2022-04-26T06:54:50.233Z"
   },
   {
    "duration": 8,
    "start_time": "2022-04-26T06:54:50.239Z"
   },
   {
    "duration": 4,
    "start_time": "2022-04-26T06:54:50.248Z"
   },
   {
    "duration": 19,
    "start_time": "2022-04-26T06:54:50.254Z"
   },
   {
    "duration": 80,
    "start_time": "2022-04-26T06:54:50.274Z"
   },
   {
    "duration": 87,
    "start_time": "2022-04-26T06:54:50.355Z"
   },
   {
    "duration": 63,
    "start_time": "2022-04-26T06:54:50.444Z"
   },
   {
    "duration": 19,
    "start_time": "2022-04-26T06:54:50.508Z"
   },
   {
    "duration": 9,
    "start_time": "2022-04-26T06:54:50.528Z"
   },
   {
    "duration": 16,
    "start_time": "2022-04-26T06:56:41.700Z"
   },
   {
    "duration": 19,
    "start_time": "2022-04-26T06:58:25.721Z"
   },
   {
    "duration": 94,
    "start_time": "2022-04-26T07:09:02.195Z"
   },
   {
    "duration": 8,
    "start_time": "2022-04-26T07:09:05.028Z"
   },
   {
    "duration": 3,
    "start_time": "2022-04-26T07:09:19.595Z"
   },
   {
    "duration": 21,
    "start_time": "2022-04-26T07:10:08.179Z"
   },
   {
    "duration": 26,
    "start_time": "2022-04-26T07:10:20.082Z"
   },
   {
    "duration": 17,
    "start_time": "2022-04-26T07:10:33.123Z"
   },
   {
    "duration": 17,
    "start_time": "2022-04-26T07:10:41.261Z"
   },
   {
    "duration": 205,
    "start_time": "2022-04-26T07:11:07.410Z"
   },
   {
    "duration": 17,
    "start_time": "2022-04-26T07:11:12.432Z"
   },
   {
    "duration": 187,
    "start_time": "2022-04-26T07:11:21.505Z"
   },
   {
    "duration": 17,
    "start_time": "2022-04-26T07:11:25.098Z"
   },
   {
    "duration": 16,
    "start_time": "2022-04-26T07:11:41.820Z"
   },
   {
    "duration": 16,
    "start_time": "2022-04-26T07:11:54.220Z"
   },
   {
    "duration": 39,
    "start_time": "2022-04-26T07:12:25.613Z"
   },
   {
    "duration": 6,
    "start_time": "2022-04-26T07:16:31.681Z"
   },
   {
    "duration": 6,
    "start_time": "2022-04-26T07:18:18.090Z"
   },
   {
    "duration": 6,
    "start_time": "2022-04-26T07:18:39.752Z"
   },
   {
    "duration": 4,
    "start_time": "2022-04-26T07:27:37.460Z"
   },
   {
    "duration": 5,
    "start_time": "2022-04-26T07:27:54.809Z"
   },
   {
    "duration": 7,
    "start_time": "2022-04-26T07:28:10.221Z"
   },
   {
    "duration": 8,
    "start_time": "2022-04-26T07:28:50.751Z"
   },
   {
    "duration": 6789,
    "start_time": "2022-04-26T07:37:48.782Z"
   },
   {
    "duration": 1398,
    "start_time": "2022-04-26T07:42:19.431Z"
   },
   {
    "duration": 1170,
    "start_time": "2022-04-26T07:43:26.696Z"
   },
   {
    "duration": 1241,
    "start_time": "2022-04-26T07:43:36.921Z"
   },
   {
    "duration": 1273,
    "start_time": "2022-04-26T07:43:41.989Z"
   },
   {
    "duration": 1260,
    "start_time": "2022-04-26T07:43:49.408Z"
   },
   {
    "duration": 65,
    "start_time": "2022-04-26T07:44:58.013Z"
   },
   {
    "duration": 425,
    "start_time": "2022-04-26T07:45:05.955Z"
   },
   {
    "duration": 1231,
    "start_time": "2022-04-26T07:46:30.241Z"
   },
   {
    "duration": 1211,
    "start_time": "2022-04-26T07:46:59.171Z"
   },
   {
    "duration": 20,
    "start_time": "2022-04-26T07:48:03.192Z"
   },
   {
    "duration": 17,
    "start_time": "2022-04-26T07:48:54.110Z"
   },
   {
    "duration": 7210,
    "start_time": "2022-04-26T07:49:00.456Z"
   },
   {
    "duration": 175,
    "start_time": "2022-04-26T07:49:07.668Z"
   },
   {
    "duration": 25,
    "start_time": "2022-04-26T07:49:07.845Z"
   },
   {
    "duration": 4,
    "start_time": "2022-04-26T07:49:07.872Z"
   },
   {
    "duration": 26,
    "start_time": "2022-04-26T07:49:07.878Z"
   },
   {
    "duration": 6,
    "start_time": "2022-04-26T07:49:07.906Z"
   },
   {
    "duration": 22,
    "start_time": "2022-04-26T07:49:07.913Z"
   },
   {
    "duration": 71,
    "start_time": "2022-04-26T07:49:07.937Z"
   },
   {
    "duration": 65,
    "start_time": "2022-04-26T07:49:08.009Z"
   },
   {
    "duration": 82,
    "start_time": "2022-04-26T07:49:08.077Z"
   },
   {
    "duration": 17,
    "start_time": "2022-04-26T07:49:08.161Z"
   },
   {
    "duration": 26,
    "start_time": "2022-04-26T07:49:08.180Z"
   },
   {
    "duration": 19,
    "start_time": "2022-04-26T07:49:08.208Z"
   },
   {
    "duration": 41,
    "start_time": "2022-04-26T07:49:08.229Z"
   },
   {
    "duration": 28,
    "start_time": "2022-04-26T07:49:08.272Z"
   },
   {
    "duration": 6,
    "start_time": "2022-04-26T07:49:08.302Z"
   },
   {
    "duration": 6,
    "start_time": "2022-04-26T07:49:08.310Z"
   },
   {
    "duration": 157,
    "start_time": "2022-04-26T07:49:08.318Z"
   },
   {
    "duration": 13,
    "start_time": "2022-04-26T07:50:13.634Z"
   },
   {
    "duration": 8,
    "start_time": "2022-04-26T07:50:33.429Z"
   },
   {
    "duration": 13,
    "start_time": "2022-04-26T07:50:40.520Z"
   },
   {
    "duration": 14,
    "start_time": "2022-04-26T07:50:59.579Z"
   },
   {
    "duration": 15,
    "start_time": "2022-04-26T07:51:08.538Z"
   },
   {
    "duration": 6608,
    "start_time": "2022-04-26T07:51:14.287Z"
   },
   {
    "duration": 159,
    "start_time": "2022-04-26T07:51:20.897Z"
   },
   {
    "duration": 21,
    "start_time": "2022-04-26T07:51:21.058Z"
   },
   {
    "duration": 4,
    "start_time": "2022-04-26T07:51:21.081Z"
   },
   {
    "duration": 20,
    "start_time": "2022-04-26T07:51:21.086Z"
   },
   {
    "duration": 4,
    "start_time": "2022-04-26T07:51:21.107Z"
   },
   {
    "duration": 16,
    "start_time": "2022-04-26T07:51:21.113Z"
   },
   {
    "duration": 84,
    "start_time": "2022-04-26T07:51:21.130Z"
   },
   {
    "duration": 67,
    "start_time": "2022-04-26T07:51:21.216Z"
   },
   {
    "duration": 64,
    "start_time": "2022-04-26T07:51:21.286Z"
   },
   {
    "duration": 18,
    "start_time": "2022-04-26T07:51:21.352Z"
   },
   {
    "duration": 32,
    "start_time": "2022-04-26T07:51:21.371Z"
   },
   {
    "duration": 19,
    "start_time": "2022-04-26T07:51:21.405Z"
   },
   {
    "duration": 40,
    "start_time": "2022-04-26T07:51:21.425Z"
   },
   {
    "duration": 7,
    "start_time": "2022-04-26T07:51:21.467Z"
   },
   {
    "duration": 7,
    "start_time": "2022-04-26T07:51:21.500Z"
   },
   {
    "duration": 8,
    "start_time": "2022-04-26T07:51:21.508Z"
   },
   {
    "duration": 17,
    "start_time": "2022-04-26T07:51:21.517Z"
   },
   {
    "duration": 130,
    "start_time": "2022-04-26T07:51:21.536Z"
   },
   {
    "duration": 15,
    "start_time": "2022-04-26T07:51:32.364Z"
   },
   {
    "duration": 12,
    "start_time": "2022-04-26T07:51:33.935Z"
   },
   {
    "duration": 8,
    "start_time": "2022-04-26T07:52:11.673Z"
   },
   {
    "duration": 13,
    "start_time": "2022-04-26T07:52:37.573Z"
   },
   {
    "duration": 17,
    "start_time": "2022-04-26T07:52:45.286Z"
   },
   {
    "duration": 13,
    "start_time": "2022-04-26T07:52:52.974Z"
   },
   {
    "duration": 9,
    "start_time": "2022-04-26T07:54:42.205Z"
   },
   {
    "duration": 3100,
    "start_time": "2022-04-26T07:54:48.020Z"
   },
   {
    "duration": 3076,
    "start_time": "2022-04-26T07:55:05.014Z"
   },
   {
    "duration": 6437,
    "start_time": "2022-04-26T07:55:42.080Z"
   },
   {
    "duration": 159,
    "start_time": "2022-04-26T07:55:48.519Z"
   },
   {
    "duration": 28,
    "start_time": "2022-04-26T07:55:48.679Z"
   },
   {
    "duration": 3,
    "start_time": "2022-04-26T07:55:48.709Z"
   },
   {
    "duration": 10,
    "start_time": "2022-04-26T07:55:48.714Z"
   },
   {
    "duration": 3,
    "start_time": "2022-04-26T07:55:48.726Z"
   },
   {
    "duration": 16,
    "start_time": "2022-04-26T07:55:48.731Z"
   },
   {
    "duration": 84,
    "start_time": "2022-04-26T07:55:48.748Z"
   },
   {
    "duration": 71,
    "start_time": "2022-04-26T07:55:48.834Z"
   },
   {
    "duration": 50,
    "start_time": "2022-04-26T07:55:48.907Z"
   },
   {
    "duration": 17,
    "start_time": "2022-04-26T07:55:48.959Z"
   },
   {
    "duration": 28,
    "start_time": "2022-04-26T07:55:48.978Z"
   },
   {
    "duration": 18,
    "start_time": "2022-04-26T07:55:49.007Z"
   },
   {
    "duration": 40,
    "start_time": "2022-04-26T07:55:49.028Z"
   },
   {
    "duration": 30,
    "start_time": "2022-04-26T07:55:49.070Z"
   },
   {
    "duration": 6,
    "start_time": "2022-04-26T07:55:49.102Z"
   },
   {
    "duration": 7,
    "start_time": "2022-04-26T07:55:49.109Z"
   },
   {
    "duration": 442,
    "start_time": "2022-04-26T07:55:49.117Z"
   },
   {
    "duration": 538,
    "start_time": "2022-04-26T07:56:23.068Z"
   },
   {
    "duration": 6623,
    "start_time": "2022-04-26T07:56:28.030Z"
   },
   {
    "duration": 163,
    "start_time": "2022-04-26T07:56:34.655Z"
   },
   {
    "duration": 18,
    "start_time": "2022-04-26T07:56:34.820Z"
   },
   {
    "duration": 6,
    "start_time": "2022-04-26T07:56:34.840Z"
   },
   {
    "duration": 17,
    "start_time": "2022-04-26T07:56:34.847Z"
   },
   {
    "duration": 8,
    "start_time": "2022-04-26T07:56:34.866Z"
   },
   {
    "duration": 25,
    "start_time": "2022-04-26T07:56:34.875Z"
   },
   {
    "duration": 57,
    "start_time": "2022-04-26T07:56:34.902Z"
   },
   {
    "duration": 71,
    "start_time": "2022-04-26T07:56:34.961Z"
   },
   {
    "duration": 50,
    "start_time": "2022-04-26T07:56:35.034Z"
   },
   {
    "duration": 29,
    "start_time": "2022-04-26T07:56:35.086Z"
   },
   {
    "duration": 14,
    "start_time": "2022-04-26T07:56:35.117Z"
   },
   {
    "duration": 23,
    "start_time": "2022-04-26T07:56:35.132Z"
   },
   {
    "duration": 56,
    "start_time": "2022-04-26T07:56:35.156Z"
   },
   {
    "duration": 6,
    "start_time": "2022-04-26T07:56:35.214Z"
   },
   {
    "duration": 9,
    "start_time": "2022-04-26T07:56:35.222Z"
   },
   {
    "duration": 13,
    "start_time": "2022-04-26T07:56:35.233Z"
   },
   {
    "duration": 506,
    "start_time": "2022-04-26T07:56:35.247Z"
   },
   {
    "duration": 339,
    "start_time": "2022-04-26T07:58:43.764Z"
   },
   {
    "duration": 9,
    "start_time": "2022-04-26T07:59:09.704Z"
   },
   {
    "duration": 415,
    "start_time": "2022-04-26T07:59:15.643Z"
   },
   {
    "duration": 3352,
    "start_time": "2022-04-26T07:59:40.900Z"
   },
   {
    "duration": 406,
    "start_time": "2022-04-26T07:59:55.370Z"
   },
   {
    "duration": 1096,
    "start_time": "2022-04-26T08:00:27.431Z"
   },
   {
    "duration": 394,
    "start_time": "2022-04-26T08:00:34.560Z"
   },
   {
    "duration": 447,
    "start_time": "2022-04-26T08:02:40.146Z"
   },
   {
    "duration": 1577,
    "start_time": "2022-04-26T08:02:44.361Z"
   },
   {
    "duration": 346,
    "start_time": "2022-04-26T08:02:51.528Z"
   },
   {
    "duration": 413,
    "start_time": "2022-04-26T08:02:55.535Z"
   },
   {
    "duration": 3476,
    "start_time": "2022-04-26T08:03:35.190Z"
   },
   {
    "duration": 293,
    "start_time": "2022-04-26T08:04:39.632Z"
   },
   {
    "duration": 338,
    "start_time": "2022-04-26T08:04:44.270Z"
   },
   {
    "duration": 260,
    "start_time": "2022-04-26T08:04:52.449Z"
   },
   {
    "duration": 4900,
    "start_time": "2022-04-26T08:05:06.025Z"
   },
   {
    "duration": 6392,
    "start_time": "2022-04-26T08:05:14.483Z"
   },
   {
    "duration": 166,
    "start_time": "2022-04-26T08:05:20.878Z"
   },
   {
    "duration": 19,
    "start_time": "2022-04-26T08:05:21.046Z"
   },
   {
    "duration": 4,
    "start_time": "2022-04-26T08:05:21.068Z"
   },
   {
    "duration": 29,
    "start_time": "2022-04-26T08:05:21.074Z"
   },
   {
    "duration": 4,
    "start_time": "2022-04-26T08:05:21.105Z"
   },
   {
    "duration": 16,
    "start_time": "2022-04-26T08:05:21.111Z"
   },
   {
    "duration": 72,
    "start_time": "2022-04-26T08:05:21.129Z"
   },
   {
    "duration": 64,
    "start_time": "2022-04-26T08:05:21.203Z"
   },
   {
    "duration": 62,
    "start_time": "2022-04-26T08:05:21.269Z"
   },
   {
    "duration": 17,
    "start_time": "2022-04-26T08:05:21.333Z"
   },
   {
    "duration": 14,
    "start_time": "2022-04-26T08:05:21.352Z"
   },
   {
    "duration": 38,
    "start_time": "2022-04-26T08:05:21.368Z"
   },
   {
    "duration": 39,
    "start_time": "2022-04-26T08:05:21.407Z"
   },
   {
    "duration": 6,
    "start_time": "2022-04-26T08:05:21.448Z"
   },
   {
    "duration": 6,
    "start_time": "2022-04-26T08:05:21.456Z"
   },
   {
    "duration": 7,
    "start_time": "2022-04-26T08:05:21.463Z"
   },
   {
    "duration": 430,
    "start_time": "2022-04-26T08:05:21.472Z"
   },
   {
    "duration": 295,
    "start_time": "2022-04-26T08:05:32.209Z"
   },
   {
    "duration": 6677,
    "start_time": "2022-04-26T08:06:02.469Z"
   },
   {
    "duration": 166,
    "start_time": "2022-04-26T08:06:09.148Z"
   },
   {
    "duration": 20,
    "start_time": "2022-04-26T08:06:09.315Z"
   },
   {
    "duration": 4,
    "start_time": "2022-04-26T08:06:09.337Z"
   },
   {
    "duration": 9,
    "start_time": "2022-04-26T08:06:09.344Z"
   },
   {
    "duration": 5,
    "start_time": "2022-04-26T08:06:09.354Z"
   },
   {
    "duration": 41,
    "start_time": "2022-04-26T08:06:09.360Z"
   },
   {
    "duration": 80,
    "start_time": "2022-04-26T08:06:09.403Z"
   },
   {
    "duration": 83,
    "start_time": "2022-04-26T08:06:09.484Z"
   },
   {
    "duration": 66,
    "start_time": "2022-04-26T08:06:09.569Z"
   },
   {
    "duration": 19,
    "start_time": "2022-04-26T08:06:09.636Z"
   },
   {
    "duration": 15,
    "start_time": "2022-04-26T08:06:09.657Z"
   },
   {
    "duration": 37,
    "start_time": "2022-04-26T08:06:09.674Z"
   },
   {
    "duration": 42,
    "start_time": "2022-04-26T08:06:09.713Z"
   },
   {
    "duration": 7,
    "start_time": "2022-04-26T08:06:09.757Z"
   },
   {
    "duration": 6,
    "start_time": "2022-04-26T08:06:09.766Z"
   },
   {
    "duration": 33,
    "start_time": "2022-04-26T08:06:09.773Z"
   },
   {
    "duration": 608,
    "start_time": "2022-04-26T08:06:09.808Z"
   },
   {
    "duration": 348,
    "start_time": "2022-04-26T08:07:32.959Z"
   },
   {
    "duration": 279,
    "start_time": "2022-04-26T08:10:50.940Z"
   },
   {
    "duration": 6366,
    "start_time": "2022-04-26T08:11:34.691Z"
   },
   {
    "duration": 153,
    "start_time": "2022-04-26T08:11:41.060Z"
   },
   {
    "duration": 18,
    "start_time": "2022-04-26T08:11:41.215Z"
   },
   {
    "duration": 4,
    "start_time": "2022-04-26T08:11:41.234Z"
   },
   {
    "duration": 10,
    "start_time": "2022-04-26T08:11:41.240Z"
   },
   {
    "duration": 4,
    "start_time": "2022-04-26T08:11:41.251Z"
   },
   {
    "duration": 15,
    "start_time": "2022-04-26T08:11:41.256Z"
   },
   {
    "duration": 83,
    "start_time": "2022-04-26T08:11:41.272Z"
   },
   {
    "duration": 72,
    "start_time": "2022-04-26T08:11:41.357Z"
   },
   {
    "duration": 51,
    "start_time": "2022-04-26T08:11:41.431Z"
   },
   {
    "duration": 30,
    "start_time": "2022-04-26T08:11:41.483Z"
   },
   {
    "duration": 16,
    "start_time": "2022-04-26T08:11:41.515Z"
   },
   {
    "duration": 18,
    "start_time": "2022-04-26T08:11:41.533Z"
   },
   {
    "duration": 60,
    "start_time": "2022-04-26T08:11:41.553Z"
   },
   {
    "duration": 6,
    "start_time": "2022-04-26T08:11:41.615Z"
   },
   {
    "duration": 6,
    "start_time": "2022-04-26T08:11:41.622Z"
   },
   {
    "duration": 7,
    "start_time": "2022-04-26T08:11:41.630Z"
   },
   {
    "duration": 425,
    "start_time": "2022-04-26T08:11:41.639Z"
   },
   {
    "duration": 49,
    "start_time": "2022-04-26T08:16:44.548Z"
   },
   {
    "duration": 7,
    "start_time": "2022-04-26T08:16:54.980Z"
   },
   {
    "duration": 6565,
    "start_time": "2022-04-26T08:17:05.820Z"
   },
   {
    "duration": 158,
    "start_time": "2022-04-26T08:17:12.387Z"
   },
   {
    "duration": 19,
    "start_time": "2022-04-26T08:17:12.546Z"
   },
   {
    "duration": 4,
    "start_time": "2022-04-26T08:17:12.567Z"
   },
   {
    "duration": 9,
    "start_time": "2022-04-26T08:17:12.572Z"
   },
   {
    "duration": 18,
    "start_time": "2022-04-26T08:17:12.582Z"
   },
   {
    "duration": 13,
    "start_time": "2022-04-26T08:17:12.602Z"
   },
   {
    "duration": 58,
    "start_time": "2022-04-26T08:17:12.616Z"
   },
   {
    "duration": 81,
    "start_time": "2022-04-26T08:17:12.675Z"
   },
   {
    "duration": 58,
    "start_time": "2022-04-26T08:17:12.758Z"
   },
   {
    "duration": 17,
    "start_time": "2022-04-26T08:17:12.817Z"
   },
   {
    "duration": 15,
    "start_time": "2022-04-26T08:17:12.835Z"
   },
   {
    "duration": 18,
    "start_time": "2022-04-26T08:17:12.851Z"
   },
   {
    "duration": 60,
    "start_time": "2022-04-26T08:17:12.871Z"
   },
   {
    "duration": 6,
    "start_time": "2022-04-26T08:17:12.932Z"
   },
   {
    "duration": 7,
    "start_time": "2022-04-26T08:17:12.940Z"
   },
   {
    "duration": 7,
    "start_time": "2022-04-26T08:17:12.949Z"
   },
   {
    "duration": 418,
    "start_time": "2022-04-26T08:17:12.957Z"
   },
   {
    "duration": 457,
    "start_time": "2022-04-26T08:17:13.377Z"
   },
   {
    "duration": 430,
    "start_time": "2022-04-26T08:18:03.813Z"
   },
   {
    "duration": 416,
    "start_time": "2022-04-26T08:18:11.061Z"
   },
   {
    "duration": 509,
    "start_time": "2022-04-26T08:18:18.675Z"
   },
   {
    "duration": 558,
    "start_time": "2022-04-26T08:21:27.357Z"
   },
   {
    "duration": 233,
    "start_time": "2022-04-26T08:25:26.721Z"
   },
   {
    "duration": 203,
    "start_time": "2022-04-26T08:25:30.736Z"
   },
   {
    "duration": 116,
    "start_time": "2022-04-26T08:25:33.363Z"
   },
   {
    "duration": 127,
    "start_time": "2022-04-26T08:25:56.825Z"
   },
   {
    "duration": 192,
    "start_time": "2022-04-26T08:26:02.754Z"
   },
   {
    "duration": 15,
    "start_time": "2022-04-26T08:26:20.085Z"
   },
   {
    "duration": 524,
    "start_time": "2022-04-26T08:27:17.812Z"
   },
   {
    "duration": 7,
    "start_time": "2022-04-26T08:29:31.501Z"
   },
   {
    "duration": 7,
    "start_time": "2022-04-26T08:29:50.395Z"
   },
   {
    "duration": 3,
    "start_time": "2022-04-26T08:33:15.287Z"
   },
   {
    "duration": 92,
    "start_time": "2022-04-26T08:37:16.328Z"
   },
   {
    "duration": 17,
    "start_time": "2022-04-26T08:37:22.422Z"
   },
   {
    "duration": 258,
    "start_time": "2022-04-26T08:41:03.514Z"
   },
   {
    "duration": 193,
    "start_time": "2022-04-26T08:41:27.168Z"
   },
   {
    "duration": 229,
    "start_time": "2022-04-26T08:41:29.211Z"
   },
   {
    "duration": 9,
    "start_time": "2022-04-26T08:41:30.748Z"
   },
   {
    "duration": 34,
    "start_time": "2022-04-26T08:41:44.809Z"
   },
   {
    "duration": 50,
    "start_time": "2022-04-26T08:42:00.904Z"
   },
   {
    "duration": 6286,
    "start_time": "2022-04-26T08:42:06.544Z"
   },
   {
    "duration": 157,
    "start_time": "2022-04-26T08:42:12.832Z"
   },
   {
    "duration": 20,
    "start_time": "2022-04-26T08:42:12.990Z"
   },
   {
    "duration": 4,
    "start_time": "2022-04-26T08:42:13.012Z"
   },
   {
    "duration": 9,
    "start_time": "2022-04-26T08:42:13.018Z"
   },
   {
    "duration": 3,
    "start_time": "2022-04-26T08:42:13.029Z"
   },
   {
    "duration": 15,
    "start_time": "2022-04-26T08:42:13.033Z"
   },
   {
    "duration": 82,
    "start_time": "2022-04-26T08:42:13.050Z"
   },
   {
    "duration": 74,
    "start_time": "2022-04-26T08:42:13.134Z"
   },
   {
    "duration": 51,
    "start_time": "2022-04-26T08:42:13.211Z"
   },
   {
    "duration": 20,
    "start_time": "2022-04-26T08:42:13.263Z"
   },
   {
    "duration": 15,
    "start_time": "2022-04-26T08:42:13.301Z"
   },
   {
    "duration": 18,
    "start_time": "2022-04-26T08:42:13.317Z"
   },
   {
    "duration": 41,
    "start_time": "2022-04-26T08:42:13.336Z"
   },
   {
    "duration": 27,
    "start_time": "2022-04-26T08:42:13.379Z"
   },
   {
    "duration": 7,
    "start_time": "2022-04-26T08:42:13.407Z"
   },
   {
    "duration": 7,
    "start_time": "2022-04-26T08:42:13.416Z"
   },
   {
    "duration": 650,
    "start_time": "2022-04-26T08:42:13.425Z"
   },
   {
    "duration": 13,
    "start_time": "2022-04-26T08:42:14.077Z"
   },
   {
    "duration": 535,
    "start_time": "2022-04-26T08:42:14.092Z"
   },
   {
    "duration": 7,
    "start_time": "2022-04-26T08:42:14.629Z"
   },
   {
    "duration": 4,
    "start_time": "2022-04-26T08:42:14.638Z"
   },
   {
    "duration": 19,
    "start_time": "2022-04-26T08:42:14.643Z"
   },
   {
    "duration": 144,
    "start_time": "2022-04-26T08:42:14.664Z"
   },
   {
    "duration": 232,
    "start_time": "2022-04-26T08:42:37.220Z"
   },
   {
    "duration": 8,
    "start_time": "2022-04-26T08:43:05.610Z"
   },
   {
    "duration": 228,
    "start_time": "2022-04-26T08:43:14.069Z"
   },
   {
    "duration": 47,
    "start_time": "2022-04-26T08:43:16.993Z"
   },
   {
    "duration": 12,
    "start_time": "2022-04-26T08:43:25.260Z"
   },
   {
    "duration": 10,
    "start_time": "2022-04-26T08:43:31.884Z"
   },
   {
    "duration": 11,
    "start_time": "2022-04-26T08:43:36.622Z"
   },
   {
    "duration": 4,
    "start_time": "2022-04-26T08:44:02.869Z"
   },
   {
    "duration": 53,
    "start_time": "2022-04-26T08:44:06.694Z"
   },
   {
    "duration": 46,
    "start_time": "2022-04-26T08:44:19.584Z"
   },
   {
    "duration": 44,
    "start_time": "2022-04-26T08:44:25.937Z"
   },
   {
    "duration": 27,
    "start_time": "2022-04-26T08:49:32.673Z"
   },
   {
    "duration": 20,
    "start_time": "2022-04-26T08:49:35.147Z"
   },
   {
    "duration": 5,
    "start_time": "2022-04-26T08:49:46.822Z"
   },
   {
    "duration": 8,
    "start_time": "2022-04-26T08:50:05.144Z"
   },
   {
    "duration": 6359,
    "start_time": "2022-04-26T08:58:10.408Z"
   },
   {
    "duration": 158,
    "start_time": "2022-04-26T08:58:16.770Z"
   },
   {
    "duration": 18,
    "start_time": "2022-04-26T08:58:16.930Z"
   },
   {
    "duration": 4,
    "start_time": "2022-04-26T08:58:16.950Z"
   },
   {
    "duration": 12,
    "start_time": "2022-04-26T08:58:16.956Z"
   },
   {
    "duration": 3,
    "start_time": "2022-04-26T08:58:16.970Z"
   },
   {
    "duration": 37,
    "start_time": "2022-04-26T08:58:16.975Z"
   },
   {
    "duration": 59,
    "start_time": "2022-04-26T08:58:17.013Z"
   },
   {
    "duration": 86,
    "start_time": "2022-04-26T08:58:17.074Z"
   },
   {
    "duration": 62,
    "start_time": "2022-04-26T08:58:17.163Z"
   },
   {
    "duration": 20,
    "start_time": "2022-04-26T08:58:17.226Z"
   },
   {
    "duration": 16,
    "start_time": "2022-04-26T08:58:17.247Z"
   },
   {
    "duration": 45,
    "start_time": "2022-04-26T08:58:17.265Z"
   },
   {
    "duration": 40,
    "start_time": "2022-04-26T08:58:17.312Z"
   },
   {
    "duration": 6,
    "start_time": "2022-04-26T08:58:17.354Z"
   },
   {
    "duration": 7,
    "start_time": "2022-04-26T08:58:17.362Z"
   },
   {
    "duration": 34,
    "start_time": "2022-04-26T08:58:17.370Z"
   },
   {
    "duration": 649,
    "start_time": "2022-04-26T08:58:17.405Z"
   },
   {
    "duration": 13,
    "start_time": "2022-04-26T08:58:18.055Z"
   },
   {
    "duration": 537,
    "start_time": "2022-04-26T08:58:18.069Z"
   },
   {
    "duration": 7,
    "start_time": "2022-04-26T08:58:18.607Z"
   },
   {
    "duration": 7,
    "start_time": "2022-04-26T08:58:18.616Z"
   },
   {
    "duration": 23,
    "start_time": "2022-04-26T08:58:18.624Z"
   },
   {
    "duration": 22,
    "start_time": "2022-04-26T08:58:18.649Z"
   },
   {
    "duration": 31,
    "start_time": "2022-04-26T08:58:18.673Z"
   },
   {
    "duration": 26,
    "start_time": "2022-04-26T08:58:18.706Z"
   },
   {
    "duration": 41,
    "start_time": "2022-04-26T11:38:24.144Z"
   },
   {
    "duration": 47,
    "start_time": "2022-04-26T11:40:01.864Z"
   },
   {
    "duration": 43,
    "start_time": "2022-04-26T11:40:08.901Z"
   },
   {
    "duration": 49,
    "start_time": "2022-04-26T11:42:50.436Z"
   },
   {
    "duration": 51,
    "start_time": "2022-04-26T11:42:54.286Z"
   },
   {
    "duration": 23,
    "start_time": "2022-04-26T11:43:02.461Z"
   },
   {
    "duration": 26,
    "start_time": "2022-04-26T11:44:28.271Z"
   },
   {
    "duration": 3224,
    "start_time": "2022-04-26T11:48:04.923Z"
   },
   {
    "duration": 4986,
    "start_time": "2022-04-26T11:48:16.938Z"
   },
   {
    "duration": 3046,
    "start_time": "2022-04-26T11:49:09.145Z"
   },
   {
    "duration": 33,
    "start_time": "2022-04-26T11:50:06.435Z"
   },
   {
    "duration": 3147,
    "start_time": "2022-04-26T11:50:21.064Z"
   },
   {
    "duration": 6265,
    "start_time": "2022-04-26T11:50:37.598Z"
   },
   {
    "duration": 150,
    "start_time": "2022-04-26T11:50:43.865Z"
   },
   {
    "duration": 18,
    "start_time": "2022-04-26T11:50:44.017Z"
   },
   {
    "duration": 4,
    "start_time": "2022-04-26T11:50:44.037Z"
   },
   {
    "duration": 9,
    "start_time": "2022-04-26T11:50:44.042Z"
   },
   {
    "duration": 4,
    "start_time": "2022-04-26T11:50:44.052Z"
   },
   {
    "duration": 17,
    "start_time": "2022-04-26T11:50:44.057Z"
   },
   {
    "duration": 77,
    "start_time": "2022-04-26T11:50:44.076Z"
   },
   {
    "duration": 71,
    "start_time": "2022-04-26T11:50:44.154Z"
   },
   {
    "duration": 47,
    "start_time": "2022-04-26T11:50:44.228Z"
   },
   {
    "duration": 30,
    "start_time": "2022-04-26T11:50:44.276Z"
   },
   {
    "duration": 14,
    "start_time": "2022-04-26T11:50:44.308Z"
   },
   {
    "duration": 17,
    "start_time": "2022-04-26T11:50:44.323Z"
   },
   {
    "duration": 59,
    "start_time": "2022-04-26T11:50:44.341Z"
   },
   {
    "duration": 6,
    "start_time": "2022-04-26T11:50:44.402Z"
   },
   {
    "duration": 6,
    "start_time": "2022-04-26T11:50:44.409Z"
   },
   {
    "duration": 9,
    "start_time": "2022-04-26T11:50:44.417Z"
   },
   {
    "duration": 634,
    "start_time": "2022-04-26T11:50:44.427Z"
   },
   {
    "duration": 12,
    "start_time": "2022-04-26T11:50:45.063Z"
   },
   {
    "duration": 513,
    "start_time": "2022-04-26T11:50:45.077Z"
   },
   {
    "duration": 6,
    "start_time": "2022-04-26T11:50:45.600Z"
   },
   {
    "duration": 6,
    "start_time": "2022-04-26T11:50:45.607Z"
   },
   {
    "duration": 18,
    "start_time": "2022-04-26T11:50:45.614Z"
   },
   {
    "duration": 21,
    "start_time": "2022-04-26T11:50:45.634Z"
   },
   {
    "duration": 9,
    "start_time": "2022-04-26T11:50:45.657Z"
   },
   {
    "duration": 49,
    "start_time": "2022-04-26T11:50:45.668Z"
   },
   {
    "duration": 42,
    "start_time": "2022-04-26T11:50:45.719Z"
   },
   {
    "duration": 39,
    "start_time": "2022-04-26T11:50:45.763Z"
   },
   {
    "duration": 3157,
    "start_time": "2022-04-26T11:50:45.803Z"
   },
   {
    "duration": 11,
    "start_time": "2022-04-26T11:51:01.983Z"
   },
   {
    "duration": 3194,
    "start_time": "2022-04-26T11:51:23.867Z"
   },
   {
    "duration": 35,
    "start_time": "2022-04-26T11:51:41.603Z"
   },
   {
    "duration": 757,
    "start_time": "2022-04-26T11:52:24.844Z"
   },
   {
    "duration": 791,
    "start_time": "2022-04-26T11:52:38.292Z"
   },
   {
    "duration": 765,
    "start_time": "2022-04-26T11:53:10.836Z"
   },
   {
    "duration": 765,
    "start_time": "2022-04-26T11:53:15.953Z"
   },
   {
    "duration": 6464,
    "start_time": "2022-04-26T11:53:21.684Z"
   },
   {
    "duration": 164,
    "start_time": "2022-04-26T11:53:28.150Z"
   },
   {
    "duration": 21,
    "start_time": "2022-04-26T11:53:28.315Z"
   },
   {
    "duration": 3,
    "start_time": "2022-04-26T11:53:28.339Z"
   },
   {
    "duration": 10,
    "start_time": "2022-04-26T11:53:28.344Z"
   },
   {
    "duration": 4,
    "start_time": "2022-04-26T11:53:28.356Z"
   },
   {
    "duration": 20,
    "start_time": "2022-04-26T11:53:28.361Z"
   },
   {
    "duration": 57,
    "start_time": "2022-04-26T11:53:28.400Z"
   },
   {
    "duration": 78,
    "start_time": "2022-04-26T11:53:28.458Z"
   },
   {
    "duration": 62,
    "start_time": "2022-04-26T11:53:28.539Z"
   },
   {
    "duration": 18,
    "start_time": "2022-04-26T11:53:28.602Z"
   },
   {
    "duration": 15,
    "start_time": "2022-04-26T11:53:28.622Z"
   },
   {
    "duration": 19,
    "start_time": "2022-04-26T11:53:28.638Z"
   },
   {
    "duration": 65,
    "start_time": "2022-04-26T11:53:28.659Z"
   },
   {
    "duration": 6,
    "start_time": "2022-04-26T11:53:28.726Z"
   },
   {
    "duration": 7,
    "start_time": "2022-04-26T11:53:28.733Z"
   },
   {
    "duration": 6,
    "start_time": "2022-04-26T11:53:28.741Z"
   },
   {
    "duration": 695,
    "start_time": "2022-04-26T11:53:28.749Z"
   },
   {
    "duration": 13,
    "start_time": "2022-04-26T11:53:29.445Z"
   },
   {
    "duration": 546,
    "start_time": "2022-04-26T11:53:29.459Z"
   },
   {
    "duration": 8,
    "start_time": "2022-04-26T11:53:30.007Z"
   },
   {
    "duration": 4,
    "start_time": "2022-04-26T11:53:30.016Z"
   },
   {
    "duration": 20,
    "start_time": "2022-04-26T11:53:30.021Z"
   },
   {
    "duration": 27,
    "start_time": "2022-04-26T11:53:30.043Z"
   },
   {
    "duration": 35,
    "start_time": "2022-04-26T11:53:30.072Z"
   },
   {
    "duration": 27,
    "start_time": "2022-04-26T11:53:30.109Z"
   },
   {
    "duration": 65,
    "start_time": "2022-04-26T11:53:30.137Z"
   },
   {
    "duration": 1010,
    "start_time": "2022-04-26T11:53:30.206Z"
   },
   {
    "duration": 0,
    "start_time": "2022-04-26T11:53:31.217Z"
   },
   {
    "duration": 25,
    "start_time": "2022-04-26T11:53:55.216Z"
   },
   {
    "duration": 23,
    "start_time": "2022-04-26T11:54:01.504Z"
   },
   {
    "duration": 22,
    "start_time": "2022-04-26T11:54:13.495Z"
   },
   {
    "duration": 25,
    "start_time": "2022-04-26T11:55:17.526Z"
   },
   {
    "duration": 194,
    "start_time": "2022-04-26T11:55:22.418Z"
   },
   {
    "duration": 9,
    "start_time": "2022-04-26T11:58:57.593Z"
   },
   {
    "duration": 56,
    "start_time": "2022-04-26T12:00:24.770Z"
   },
   {
    "duration": 7,
    "start_time": "2022-04-26T12:02:38.977Z"
   },
   {
    "duration": 11,
    "start_time": "2022-04-26T12:02:43.440Z"
   },
   {
    "duration": 12,
    "start_time": "2022-04-26T12:02:56.105Z"
   },
   {
    "duration": 12,
    "start_time": "2022-04-26T12:03:10.866Z"
   },
   {
    "duration": 10,
    "start_time": "2022-04-26T12:04:52.764Z"
   },
   {
    "duration": 18,
    "start_time": "2022-04-26T12:05:44.581Z"
   },
   {
    "duration": 12,
    "start_time": "2022-04-26T12:07:11.093Z"
   },
   {
    "duration": 12,
    "start_time": "2022-04-26T12:08:11.600Z"
   },
   {
    "duration": 11,
    "start_time": "2022-04-26T12:08:27.463Z"
   },
   {
    "duration": 13,
    "start_time": "2022-04-26T12:08:31.849Z"
   },
   {
    "duration": 11,
    "start_time": "2022-04-26T12:09:20.640Z"
   },
   {
    "duration": 6323,
    "start_time": "2022-04-26T12:09:28.831Z"
   },
   {
    "duration": 161,
    "start_time": "2022-04-26T12:09:35.156Z"
   },
   {
    "duration": 18,
    "start_time": "2022-04-26T12:09:35.318Z"
   },
   {
    "duration": 3,
    "start_time": "2022-04-26T12:09:35.338Z"
   },
   {
    "duration": 7,
    "start_time": "2022-04-26T12:09:35.343Z"
   },
   {
    "duration": 4,
    "start_time": "2022-04-26T12:09:35.351Z"
   },
   {
    "duration": 16,
    "start_time": "2022-04-26T12:09:35.357Z"
   },
   {
    "duration": 78,
    "start_time": "2022-04-26T12:09:35.375Z"
   },
   {
    "duration": 75,
    "start_time": "2022-04-26T12:09:35.454Z"
   },
   {
    "duration": 50,
    "start_time": "2022-04-26T12:09:35.532Z"
   },
   {
    "duration": 26,
    "start_time": "2022-04-26T12:09:35.584Z"
   },
   {
    "duration": 14,
    "start_time": "2022-04-26T12:09:35.611Z"
   },
   {
    "duration": 18,
    "start_time": "2022-04-26T12:09:35.626Z"
   },
   {
    "duration": 62,
    "start_time": "2022-04-26T12:09:35.645Z"
   },
   {
    "duration": 5,
    "start_time": "2022-04-26T12:09:35.709Z"
   },
   {
    "duration": 7,
    "start_time": "2022-04-26T12:09:35.716Z"
   },
   {
    "duration": 8,
    "start_time": "2022-04-26T12:09:35.724Z"
   },
   {
    "duration": 621,
    "start_time": "2022-04-26T12:09:35.734Z"
   },
   {
    "duration": 13,
    "start_time": "2022-04-26T12:09:36.357Z"
   },
   {
    "duration": 529,
    "start_time": "2022-04-26T12:09:36.371Z"
   },
   {
    "duration": 7,
    "start_time": "2022-04-26T12:09:36.901Z"
   },
   {
    "duration": 4,
    "start_time": "2022-04-26T12:09:36.910Z"
   },
   {
    "duration": 18,
    "start_time": "2022-04-26T12:09:36.915Z"
   },
   {
    "duration": 21,
    "start_time": "2022-04-26T12:09:36.934Z"
   },
   {
    "duration": 8,
    "start_time": "2022-04-26T12:09:36.957Z"
   },
   {
    "duration": 54,
    "start_time": "2022-04-26T12:09:36.966Z"
   },
   {
    "duration": 41,
    "start_time": "2022-04-26T12:09:37.021Z"
   },
   {
    "duration": 45,
    "start_time": "2022-04-26T12:09:37.065Z"
   },
   {
    "duration": 108,
    "start_time": "2022-04-26T12:09:37.111Z"
   },
   {
    "duration": 0,
    "start_time": "2022-04-26T12:09:37.221Z"
   },
   {
    "duration": 0,
    "start_time": "2022-04-26T12:09:37.222Z"
   },
   {
    "duration": 0,
    "start_time": "2022-04-26T12:09:37.223Z"
   },
   {
    "duration": 0,
    "start_time": "2022-04-26T12:09:37.224Z"
   },
   {
    "duration": 6534,
    "start_time": "2022-04-26T12:09:56.834Z"
   },
   {
    "duration": 152,
    "start_time": "2022-04-26T12:10:03.370Z"
   },
   {
    "duration": 20,
    "start_time": "2022-04-26T12:10:03.524Z"
   },
   {
    "duration": 24,
    "start_time": "2022-04-26T12:10:03.546Z"
   },
   {
    "duration": 13,
    "start_time": "2022-04-26T12:10:03.572Z"
   },
   {
    "duration": 4,
    "start_time": "2022-04-26T12:10:03.587Z"
   },
   {
    "duration": 21,
    "start_time": "2022-04-26T12:10:03.593Z"
   },
   {
    "duration": 59,
    "start_time": "2022-04-26T12:10:03.615Z"
   },
   {
    "duration": 73,
    "start_time": "2022-04-26T12:10:03.675Z"
   },
   {
    "duration": 63,
    "start_time": "2022-04-26T12:10:03.750Z"
   },
   {
    "duration": 19,
    "start_time": "2022-04-26T12:10:03.814Z"
   },
   {
    "duration": 15,
    "start_time": "2022-04-26T12:10:03.834Z"
   },
   {
    "duration": 19,
    "start_time": "2022-04-26T12:10:03.851Z"
   },
   {
    "duration": 65,
    "start_time": "2022-04-26T12:10:03.872Z"
   },
   {
    "duration": 7,
    "start_time": "2022-04-26T12:10:03.938Z"
   },
   {
    "duration": 11,
    "start_time": "2022-04-26T12:10:03.947Z"
   },
   {
    "duration": 8,
    "start_time": "2022-04-26T12:10:03.960Z"
   },
   {
    "duration": 682,
    "start_time": "2022-04-26T12:10:03.970Z"
   },
   {
    "duration": 13,
    "start_time": "2022-04-26T12:10:04.654Z"
   },
   {
    "duration": 659,
    "start_time": "2022-04-26T12:10:04.669Z"
   },
   {
    "duration": 8,
    "start_time": "2022-04-26T12:10:05.330Z"
   },
   {
    "duration": 3,
    "start_time": "2022-04-26T12:10:05.340Z"
   },
   {
    "duration": 27,
    "start_time": "2022-04-26T12:10:05.345Z"
   },
   {
    "duration": 43,
    "start_time": "2022-04-26T12:10:05.373Z"
   },
   {
    "duration": 10,
    "start_time": "2022-04-26T12:10:05.418Z"
   },
   {
    "duration": 27,
    "start_time": "2022-04-26T12:10:05.430Z"
   },
   {
    "duration": 63,
    "start_time": "2022-04-26T12:10:05.459Z"
   },
   {
    "duration": 30,
    "start_time": "2022-04-26T12:10:05.526Z"
   },
   {
    "duration": 120,
    "start_time": "2022-04-26T12:10:05.558Z"
   },
   {
    "duration": 0,
    "start_time": "2022-04-26T12:10:05.680Z"
   },
   {
    "duration": 0,
    "start_time": "2022-04-26T12:10:05.681Z"
   },
   {
    "duration": 0,
    "start_time": "2022-04-26T12:10:05.682Z"
   },
   {
    "duration": 0,
    "start_time": "2022-04-26T12:10:05.683Z"
   },
   {
    "duration": 146,
    "start_time": "2022-04-26T12:10:29.622Z"
   },
   {
    "duration": 9,
    "start_time": "2022-04-26T12:10:35.435Z"
   },
   {
    "duration": 16,
    "start_time": "2022-04-26T12:10:46.330Z"
   },
   {
    "duration": 7,
    "start_time": "2022-04-26T12:10:55.024Z"
   },
   {
    "duration": 9,
    "start_time": "2022-04-26T12:10:58.713Z"
   },
   {
    "duration": 8,
    "start_time": "2022-04-26T12:11:01.865Z"
   },
   {
    "duration": 8,
    "start_time": "2022-04-26T12:11:09.976Z"
   },
   {
    "duration": 9,
    "start_time": "2022-04-26T12:11:12.430Z"
   },
   {
    "duration": 54,
    "start_time": "2022-04-26T12:11:12.441Z"
   },
   {
    "duration": 12,
    "start_time": "2022-04-26T12:11:12.497Z"
   },
   {
    "duration": 12,
    "start_time": "2022-04-26T12:11:12.613Z"
   },
   {
    "duration": 8,
    "start_time": "2022-04-26T12:11:19.051Z"
   },
   {
    "duration": 14,
    "start_time": "2022-04-26T12:14:39.031Z"
   },
   {
    "duration": 12,
    "start_time": "2022-04-26T12:15:04.925Z"
   },
   {
    "duration": 200,
    "start_time": "2022-04-26T12:17:24.539Z"
   },
   {
    "duration": 186,
    "start_time": "2022-04-26T12:17:27.761Z"
   },
   {
    "duration": 180,
    "start_time": "2022-04-26T12:17:37.128Z"
   },
   {
    "duration": 193,
    "start_time": "2022-04-26T12:17:40.674Z"
   },
   {
    "duration": 205,
    "start_time": "2022-04-26T12:17:45.652Z"
   },
   {
    "duration": 185,
    "start_time": "2022-04-26T12:17:59.593Z"
   },
   {
    "duration": 12,
    "start_time": "2022-04-26T12:18:09.116Z"
   },
   {
    "duration": 8,
    "start_time": "2022-04-26T12:18:17.078Z"
   },
   {
    "duration": 12,
    "start_time": "2022-04-26T12:38:00.252Z"
   },
   {
    "duration": 15,
    "start_time": "2022-04-26T12:39:06.090Z"
   },
   {
    "duration": 3,
    "start_time": "2022-04-26T12:42:03.726Z"
   },
   {
    "duration": 3120,
    "start_time": "2022-04-26T12:44:38.598Z"
   },
   {
    "duration": 6,
    "start_time": "2022-04-26T12:45:15.959Z"
   },
   {
    "duration": 5,
    "start_time": "2022-04-26T12:45:28.382Z"
   },
   {
    "duration": 5,
    "start_time": "2022-04-26T12:45:45.651Z"
   },
   {
    "duration": 218,
    "start_time": "2022-04-26T12:45:59.918Z"
   },
   {
    "duration": 186,
    "start_time": "2022-04-26T12:46:10.656Z"
   },
   {
    "duration": 202,
    "start_time": "2022-04-26T12:46:13.435Z"
   },
   {
    "duration": 206,
    "start_time": "2022-04-26T12:46:16.220Z"
   },
   {
    "duration": 5,
    "start_time": "2022-04-26T12:46:18.265Z"
   },
   {
    "duration": 4,
    "start_time": "2022-04-26T12:46:29.531Z"
   },
   {
    "duration": 5,
    "start_time": "2022-04-26T12:46:47.353Z"
   },
   {
    "duration": 7,
    "start_time": "2022-04-26T12:47:11.858Z"
   },
   {
    "duration": 6,
    "start_time": "2022-04-26T12:47:29.538Z"
   },
   {
    "duration": 6,
    "start_time": "2022-04-26T12:48:25.471Z"
   },
   {
    "duration": 6,
    "start_time": "2022-04-26T12:48:35.066Z"
   },
   {
    "duration": 5,
    "start_time": "2022-04-26T12:48:56.407Z"
   },
   {
    "duration": 5,
    "start_time": "2022-04-26T12:49:29.067Z"
   },
   {
    "duration": 4,
    "start_time": "2022-04-26T13:01:39.354Z"
   },
   {
    "duration": 5,
    "start_time": "2022-04-26T13:02:02.141Z"
   },
   {
    "duration": 4,
    "start_time": "2022-04-26T13:02:13.137Z"
   },
   {
    "duration": 31,
    "start_time": "2022-04-26T13:11:06.452Z"
   },
   {
    "duration": 31,
    "start_time": "2022-04-26T13:11:47.880Z"
   },
   {
    "duration": 23,
    "start_time": "2022-04-26T13:27:47.114Z"
   },
   {
    "duration": 204,
    "start_time": "2022-04-26T13:27:56.508Z"
   },
   {
    "duration": 18,
    "start_time": "2022-04-26T13:27:58.929Z"
   },
   {
    "duration": 60,
    "start_time": "2022-04-26T13:28:57.504Z"
   },
   {
    "duration": 8,
    "start_time": "2022-04-26T13:29:55.214Z"
   },
   {
    "duration": 7,
    "start_time": "2022-04-26T13:30:03.389Z"
   },
   {
    "duration": 3368,
    "start_time": "2022-04-26T13:30:31.959Z"
   },
   {
    "duration": 50,
    "start_time": "2022-04-26T13:30:38.457Z"
   },
   {
    "duration": 43,
    "start_time": "2022-04-26T13:30:49.229Z"
   },
   {
    "duration": 6,
    "start_time": "2022-04-26T13:31:00.098Z"
   },
   {
    "duration": 4,
    "start_time": "2022-04-26T13:31:17.517Z"
   },
   {
    "duration": 5,
    "start_time": "2022-04-26T13:32:10.149Z"
   },
   {
    "duration": 5,
    "start_time": "2022-04-26T13:33:16.249Z"
   },
   {
    "duration": 22,
    "start_time": "2022-04-26T13:33:45.472Z"
   },
   {
    "duration": 46,
    "start_time": "2022-04-26T13:34:04.076Z"
   },
   {
    "duration": 5,
    "start_time": "2022-04-26T13:34:21.431Z"
   },
   {
    "duration": 200,
    "start_time": "2022-04-26T13:34:41.048Z"
   },
   {
    "duration": 4,
    "start_time": "2022-04-26T13:34:47.223Z"
   },
   {
    "duration": 7,
    "start_time": "2022-04-26T13:34:53.801Z"
   },
   {
    "duration": 7,
    "start_time": "2022-04-26T13:35:28.898Z"
   },
   {
    "duration": 4,
    "start_time": "2022-04-26T13:38:13.026Z"
   },
   {
    "duration": 34,
    "start_time": "2022-04-26T13:39:23.808Z"
   },
   {
    "duration": 7608,
    "start_time": "2022-04-26T13:42:46.245Z"
   },
   {
    "duration": 254,
    "start_time": "2022-04-26T13:42:53.856Z"
   },
   {
    "duration": 30,
    "start_time": "2022-04-26T13:42:54.112Z"
   },
   {
    "duration": 4,
    "start_time": "2022-04-26T13:42:54.145Z"
   },
   {
    "duration": 10,
    "start_time": "2022-04-26T13:42:54.151Z"
   },
   {
    "duration": 4,
    "start_time": "2022-04-26T13:42:54.163Z"
   },
   {
    "duration": 56,
    "start_time": "2022-04-26T13:42:54.169Z"
   },
   {
    "duration": 58,
    "start_time": "2022-04-26T13:42:54.227Z"
   },
   {
    "duration": 89,
    "start_time": "2022-04-26T13:42:54.286Z"
   },
   {
    "duration": 64,
    "start_time": "2022-04-26T13:42:54.377Z"
   },
   {
    "duration": 29,
    "start_time": "2022-04-26T13:42:54.443Z"
   },
   {
    "duration": 34,
    "start_time": "2022-04-26T13:42:54.474Z"
   },
   {
    "duration": 26,
    "start_time": "2022-04-26T13:42:54.512Z"
   },
   {
    "duration": 43,
    "start_time": "2022-04-26T13:42:54.539Z"
   },
   {
    "duration": 12,
    "start_time": "2022-04-26T13:42:54.605Z"
   },
   {
    "duration": 13,
    "start_time": "2022-04-26T13:42:54.618Z"
   },
   {
    "duration": 15,
    "start_time": "2022-04-26T13:42:54.632Z"
   },
   {
    "duration": 718,
    "start_time": "2022-04-26T13:42:54.649Z"
   },
   {
    "duration": 12,
    "start_time": "2022-04-26T13:42:55.369Z"
   },
   {
    "duration": 817,
    "start_time": "2022-04-26T13:42:55.382Z"
   },
   {
    "duration": 9,
    "start_time": "2022-04-26T13:42:56.203Z"
   },
   {
    "duration": 12,
    "start_time": "2022-04-26T13:42:56.216Z"
   },
   {
    "duration": 22,
    "start_time": "2022-04-26T13:42:56.229Z"
   },
   {
    "duration": 22,
    "start_time": "2022-04-26T13:42:56.253Z"
   },
   {
    "duration": 27,
    "start_time": "2022-04-26T13:42:56.277Z"
   },
   {
    "duration": 30,
    "start_time": "2022-04-26T13:42:56.306Z"
   },
   {
    "duration": 43,
    "start_time": "2022-04-26T13:42:56.338Z"
   },
   {
    "duration": 52,
    "start_time": "2022-04-26T13:42:56.385Z"
   },
   {
    "duration": 191,
    "start_time": "2022-04-26T13:42:56.439Z"
   },
   {
    "duration": 8,
    "start_time": "2022-04-26T13:42:56.632Z"
   },
   {
    "duration": 91,
    "start_time": "2022-04-26T13:42:56.642Z"
   },
   {
    "duration": 11,
    "start_time": "2022-04-26T13:42:56.735Z"
   },
   {
    "duration": 63,
    "start_time": "2022-04-26T13:42:56.748Z"
   },
   {
    "duration": 23,
    "start_time": "2022-04-26T13:42:56.813Z"
   },
   {
    "duration": 7,
    "start_time": "2022-04-26T13:42:56.838Z"
   },
   {
    "duration": 20,
    "start_time": "2022-04-26T13:42:56.846Z"
   },
   {
    "duration": 52,
    "start_time": "2022-04-26T13:42:56.868Z"
   },
   {
    "duration": 30,
    "start_time": "2022-04-26T13:42:56.922Z"
   },
   {
    "duration": 3,
    "start_time": "2022-04-26T13:42:56.954Z"
   },
   {
    "duration": 6667,
    "start_time": "2022-04-26T13:46:39.331Z"
   },
   {
    "duration": 170,
    "start_time": "2022-04-26T13:46:46.000Z"
   },
   {
    "duration": 20,
    "start_time": "2022-04-26T13:46:46.171Z"
   },
   {
    "duration": 8,
    "start_time": "2022-04-26T13:46:46.193Z"
   },
   {
    "duration": 25,
    "start_time": "2022-04-26T13:46:46.203Z"
   },
   {
    "duration": 5,
    "start_time": "2022-04-26T13:46:46.230Z"
   },
   {
    "duration": 27,
    "start_time": "2022-04-26T13:46:46.236Z"
   },
   {
    "duration": 95,
    "start_time": "2022-04-26T13:46:46.265Z"
   },
   {
    "duration": 107,
    "start_time": "2022-04-26T13:46:46.362Z"
   },
   {
    "duration": 83,
    "start_time": "2022-04-26T13:46:46.473Z"
   },
   {
    "duration": 28,
    "start_time": "2022-04-26T13:46:46.559Z"
   },
   {
    "duration": 23,
    "start_time": "2022-04-26T13:46:46.606Z"
   },
   {
    "duration": 20,
    "start_time": "2022-04-26T13:46:46.630Z"
   },
   {
    "duration": 62,
    "start_time": "2022-04-26T13:46:46.652Z"
   },
   {
    "duration": 7,
    "start_time": "2022-04-26T13:46:46.715Z"
   },
   {
    "duration": 8,
    "start_time": "2022-04-26T13:46:46.724Z"
   },
   {
    "duration": 7,
    "start_time": "2022-04-26T13:46:46.734Z"
   },
   {
    "duration": 805,
    "start_time": "2022-04-26T13:46:46.743Z"
   },
   {
    "duration": 12,
    "start_time": "2022-04-26T13:46:47.550Z"
   },
   {
    "duration": 577,
    "start_time": "2022-04-26T13:46:47.563Z"
   },
   {
    "duration": 8,
    "start_time": "2022-04-26T13:46:48.142Z"
   },
   {
    "duration": 4,
    "start_time": "2022-04-26T13:46:48.152Z"
   },
   {
    "duration": 19,
    "start_time": "2022-04-26T13:46:48.157Z"
   },
   {
    "duration": 54,
    "start_time": "2022-04-26T13:46:48.177Z"
   },
   {
    "duration": 13,
    "start_time": "2022-04-26T13:46:48.234Z"
   },
   {
    "duration": 31,
    "start_time": "2022-04-26T13:46:48.249Z"
   },
   {
    "duration": 72,
    "start_time": "2022-04-26T13:46:48.302Z"
   },
   {
    "duration": 54,
    "start_time": "2022-04-26T13:46:48.379Z"
   },
   {
    "duration": 239,
    "start_time": "2022-04-26T13:46:48.435Z"
   },
   {
    "duration": 12,
    "start_time": "2022-04-26T13:46:48.676Z"
   },
   {
    "duration": 132,
    "start_time": "2022-04-26T13:46:48.690Z"
   },
   {
    "duration": 15,
    "start_time": "2022-04-26T13:46:48.825Z"
   },
   {
    "duration": 12,
    "start_time": "2022-04-26T13:46:48.842Z"
   },
   {
    "duration": 21,
    "start_time": "2022-04-26T13:46:48.856Z"
   },
   {
    "duration": 23,
    "start_time": "2022-04-26T13:46:48.900Z"
   },
   {
    "duration": 8,
    "start_time": "2022-04-26T13:46:48.925Z"
   },
   {
    "duration": 39,
    "start_time": "2022-04-26T13:46:48.934Z"
   },
   {
    "duration": 44,
    "start_time": "2022-04-26T13:46:48.974Z"
   },
   {
    "duration": 5,
    "start_time": "2022-04-26T13:46:49.019Z"
   },
   {
    "duration": 301,
    "start_time": "2022-04-26T14:41:09.866Z"
   },
   {
    "duration": 100,
    "start_time": "2022-04-26T14:41:26.115Z"
   },
   {
    "duration": 97,
    "start_time": "2022-04-26T14:41:36.926Z"
   },
   {
    "duration": 95,
    "start_time": "2022-04-26T14:42:08.462Z"
   },
   {
    "duration": 110,
    "start_time": "2022-04-26T14:42:30.804Z"
   },
   {
    "duration": 92,
    "start_time": "2022-04-26T14:43:40.018Z"
   },
   {
    "duration": 106,
    "start_time": "2022-04-26T14:43:59.882Z"
   },
   {
    "duration": 131,
    "start_time": "2022-04-26T14:44:05.322Z"
   },
   {
    "duration": 129,
    "start_time": "2022-04-26T14:44:09.123Z"
   },
   {
    "duration": 144,
    "start_time": "2022-04-26T14:44:25.768Z"
   },
   {
    "duration": 147,
    "start_time": "2022-04-26T14:48:47.056Z"
   },
   {
    "duration": 3408,
    "start_time": "2022-04-26T14:51:21.174Z"
   },
   {
    "duration": 3444,
    "start_time": "2022-04-26T14:51:28.566Z"
   },
   {
    "duration": 13,
    "start_time": "2022-04-26T14:53:14.480Z"
   },
   {
    "duration": 7858,
    "start_time": "2022-04-26T14:53:30.836Z"
   },
   {
    "duration": 1196,
    "start_time": "2022-04-26T14:53:38.696Z"
   },
   {
    "duration": 31,
    "start_time": "2022-04-26T14:53:39.895Z"
   },
   {
    "duration": 4,
    "start_time": "2022-04-26T14:53:39.929Z"
   },
   {
    "duration": 13,
    "start_time": "2022-04-26T14:53:39.935Z"
   },
   {
    "duration": 4,
    "start_time": "2022-04-26T14:53:39.949Z"
   },
   {
    "duration": 16,
    "start_time": "2022-04-26T14:53:39.955Z"
   },
   {
    "duration": 94,
    "start_time": "2022-04-26T14:53:39.973Z"
   },
   {
    "duration": 83,
    "start_time": "2022-04-26T14:53:40.069Z"
   },
   {
    "duration": 61,
    "start_time": "2022-04-26T14:53:40.155Z"
   },
   {
    "duration": 19,
    "start_time": "2022-04-26T14:53:40.218Z"
   },
   {
    "duration": 22,
    "start_time": "2022-04-26T14:53:40.240Z"
   },
   {
    "duration": 53,
    "start_time": "2022-04-26T14:53:40.263Z"
   },
   {
    "duration": 38,
    "start_time": "2022-04-26T14:53:40.319Z"
   },
   {
    "duration": 6,
    "start_time": "2022-04-26T14:53:40.359Z"
   },
   {
    "duration": 6,
    "start_time": "2022-04-26T14:53:40.367Z"
   },
   {
    "duration": 34,
    "start_time": "2022-04-26T14:53:40.374Z"
   },
   {
    "duration": 908,
    "start_time": "2022-04-26T14:53:40.409Z"
   },
   {
    "duration": 18,
    "start_time": "2022-04-26T14:53:41.319Z"
   },
   {
    "duration": 794,
    "start_time": "2022-04-26T14:53:41.339Z"
   },
   {
    "duration": 10,
    "start_time": "2022-04-26T14:53:42.135Z"
   },
   {
    "duration": 6,
    "start_time": "2022-04-26T14:53:42.147Z"
   },
   {
    "duration": 27,
    "start_time": "2022-04-26T14:53:42.155Z"
   },
   {
    "duration": 33,
    "start_time": "2022-04-26T14:53:42.200Z"
   },
   {
    "duration": 11,
    "start_time": "2022-04-26T14:53:42.235Z"
   },
   {
    "duration": 64,
    "start_time": "2022-04-26T14:53:42.248Z"
   },
   {
    "duration": 54,
    "start_time": "2022-04-26T14:53:42.314Z"
   },
   {
    "duration": 44,
    "start_time": "2022-04-26T14:53:42.371Z"
   },
   {
    "duration": 257,
    "start_time": "2022-04-26T14:53:42.417Z"
   },
   {
    "duration": 11,
    "start_time": "2022-04-26T14:53:42.676Z"
   },
   {
    "duration": 132,
    "start_time": "2022-04-26T14:53:42.688Z"
   },
   {
    "duration": 12,
    "start_time": "2022-04-26T14:53:42.822Z"
   },
   {
    "duration": 9,
    "start_time": "2022-04-26T14:53:42.836Z"
   },
   {
    "duration": 61,
    "start_time": "2022-04-26T14:53:42.847Z"
   },
   {
    "duration": 20,
    "start_time": "2022-04-26T14:53:42.910Z"
   },
   {
    "duration": 14,
    "start_time": "2022-04-26T14:53:42.932Z"
   },
   {
    "duration": 35,
    "start_time": "2022-04-26T14:53:42.947Z"
   },
   {
    "duration": 31,
    "start_time": "2022-04-26T14:53:42.984Z"
   },
   {
    "duration": 7,
    "start_time": "2022-04-26T14:53:43.017Z"
   },
   {
    "duration": 109,
    "start_time": "2022-04-26T14:53:43.025Z"
   },
   {
    "duration": 7,
    "start_time": "2022-04-26T14:56:08.670Z"
   },
   {
    "duration": 0,
    "start_time": "2022-04-26T14:56:26.925Z"
   },
   {
    "duration": 11,
    "start_time": "2022-04-26T14:56:32.899Z"
   },
   {
    "duration": 6,
    "start_time": "2022-04-26T14:56:39.032Z"
   },
   {
    "duration": 9,
    "start_time": "2022-04-26T14:57:03.412Z"
   },
   {
    "duration": 11,
    "start_time": "2022-04-26T14:58:44.725Z"
   },
   {
    "duration": 10,
    "start_time": "2022-04-26T14:58:58.461Z"
   },
   {
    "duration": 13,
    "start_time": "2022-04-26T14:59:04.998Z"
   },
   {
    "duration": 5,
    "start_time": "2022-04-26T15:16:44.350Z"
   },
   {
    "duration": 2339,
    "start_time": "2022-04-26T15:19:37.155Z"
   },
   {
    "duration": 25,
    "start_time": "2022-04-26T15:19:50.059Z"
   },
   {
    "duration": 10,
    "start_time": "2022-04-26T15:20:17.490Z"
   },
   {
    "duration": 10,
    "start_time": "2022-04-26T15:20:26.820Z"
   },
   {
    "duration": 2598,
    "start_time": "2022-04-26T15:20:36.236Z"
   },
   {
    "duration": 17,
    "start_time": "2022-04-26T15:20:47.252Z"
   },
   {
    "duration": 2398,
    "start_time": "2022-04-26T15:21:25.518Z"
   },
   {
    "duration": 9,
    "start_time": "2022-04-26T15:21:42.381Z"
   },
   {
    "duration": 2281,
    "start_time": "2022-04-26T15:22:05.704Z"
   },
   {
    "duration": 193,
    "start_time": "2022-04-26T15:23:03.330Z"
   },
   {
    "duration": 107,
    "start_time": "2022-04-26T15:23:17.004Z"
   },
   {
    "duration": 8,
    "start_time": "2022-04-26T15:23:18.747Z"
   },
   {
    "duration": 89,
    "start_time": "2022-04-26T15:23:35.121Z"
   },
   {
    "duration": 91,
    "start_time": "2022-04-26T15:23:41.470Z"
   },
   {
    "duration": 8337,
    "start_time": "2022-04-26T15:24:09.938Z"
   },
   {
    "duration": 165,
    "start_time": "2022-04-26T15:24:18.278Z"
   },
   {
    "duration": 19,
    "start_time": "2022-04-26T15:24:18.445Z"
   },
   {
    "duration": 4,
    "start_time": "2022-04-26T15:24:18.467Z"
   },
   {
    "duration": 12,
    "start_time": "2022-04-26T15:24:18.472Z"
   },
   {
    "duration": 16,
    "start_time": "2022-04-26T15:24:18.485Z"
   },
   {
    "duration": 16,
    "start_time": "2022-04-26T15:24:18.502Z"
   },
   {
    "duration": 82,
    "start_time": "2022-04-26T15:24:18.519Z"
   },
   {
    "duration": 69,
    "start_time": "2022-04-26T15:24:18.602Z"
   },
   {
    "duration": 62,
    "start_time": "2022-04-26T15:24:18.674Z"
   },
   {
    "duration": 18,
    "start_time": "2022-04-26T15:24:18.738Z"
   },
   {
    "duration": 16,
    "start_time": "2022-04-26T15:24:18.758Z"
   },
   {
    "duration": 41,
    "start_time": "2022-04-26T15:24:18.776Z"
   },
   {
    "duration": 39,
    "start_time": "2022-04-26T15:24:18.818Z"
   },
   {
    "duration": 7,
    "start_time": "2022-04-26T15:24:18.859Z"
   },
   {
    "duration": 33,
    "start_time": "2022-04-26T15:24:18.867Z"
   },
   {
    "duration": 8,
    "start_time": "2022-04-26T15:24:18.902Z"
   },
   {
    "duration": 645,
    "start_time": "2022-04-26T15:24:18.912Z"
   },
   {
    "duration": 13,
    "start_time": "2022-04-26T15:24:19.559Z"
   },
   {
    "duration": 549,
    "start_time": "2022-04-26T15:24:19.573Z"
   },
   {
    "duration": 8,
    "start_time": "2022-04-26T15:24:20.123Z"
   },
   {
    "duration": 4,
    "start_time": "2022-04-26T15:24:20.132Z"
   },
   {
    "duration": 21,
    "start_time": "2022-04-26T15:24:20.138Z"
   },
   {
    "duration": 50,
    "start_time": "2022-04-26T15:24:20.160Z"
   },
   {
    "duration": 10,
    "start_time": "2022-04-26T15:24:20.212Z"
   },
   {
    "duration": 27,
    "start_time": "2022-04-26T15:24:20.224Z"
   },
   {
    "duration": 60,
    "start_time": "2022-04-26T15:24:20.252Z"
   },
   {
    "duration": 27,
    "start_time": "2022-04-26T15:24:20.315Z"
   },
   {
    "duration": 179,
    "start_time": "2022-04-26T15:24:20.344Z"
   },
   {
    "duration": 10,
    "start_time": "2022-04-26T15:24:20.524Z"
   },
   {
    "duration": 96,
    "start_time": "2022-04-26T15:24:20.536Z"
   },
   {
    "duration": 10,
    "start_time": "2022-04-26T15:24:20.633Z"
   },
   {
    "duration": 8,
    "start_time": "2022-04-26T15:24:20.645Z"
   },
   {
    "duration": 52,
    "start_time": "2022-04-26T15:24:20.655Z"
   },
   {
    "duration": 9,
    "start_time": "2022-04-26T15:24:20.709Z"
   },
   {
    "duration": 9,
    "start_time": "2022-04-26T15:24:20.720Z"
   },
   {
    "duration": 39,
    "start_time": "2022-04-26T15:24:20.731Z"
   },
   {
    "duration": 50,
    "start_time": "2022-04-26T15:24:20.771Z"
   },
   {
    "duration": 4,
    "start_time": "2022-04-26T15:24:20.823Z"
   },
   {
    "duration": 135,
    "start_time": "2022-04-26T15:24:20.829Z"
   },
   {
    "duration": 7,
    "start_time": "2022-04-26T15:24:20.966Z"
   },
   {
    "duration": 16,
    "start_time": "2022-04-26T15:24:20.974Z"
   },
   {
    "duration": 9,
    "start_time": "2022-04-26T15:24:20.991Z"
   },
   {
    "duration": 2508,
    "start_time": "2022-04-26T15:24:21.001Z"
   },
   {
    "duration": 0,
    "start_time": "2022-04-26T15:24:23.511Z"
   },
   {
    "duration": 2269,
    "start_time": "2022-04-26T15:24:56.850Z"
   },
   {
    "duration": 2378,
    "start_time": "2022-04-26T15:25:08.471Z"
   },
   {
    "duration": 19,
    "start_time": "2022-04-26T15:25:16.308Z"
   },
   {
    "duration": 6246,
    "start_time": "2022-04-26T15:25:21.906Z"
   },
   {
    "duration": 166,
    "start_time": "2022-04-26T15:25:28.155Z"
   },
   {
    "duration": 21,
    "start_time": "2022-04-26T15:25:28.323Z"
   },
   {
    "duration": 4,
    "start_time": "2022-04-26T15:25:28.347Z"
   },
   {
    "duration": 8,
    "start_time": "2022-04-26T15:25:28.353Z"
   },
   {
    "duration": 4,
    "start_time": "2022-04-26T15:25:28.362Z"
   },
   {
    "duration": 45,
    "start_time": "2022-04-26T15:25:28.368Z"
   },
   {
    "duration": 62,
    "start_time": "2022-04-26T15:25:28.415Z"
   },
   {
    "duration": 80,
    "start_time": "2022-04-26T15:25:28.478Z"
   },
   {
    "duration": 63,
    "start_time": "2022-04-26T15:25:28.560Z"
   },
   {
    "duration": 17,
    "start_time": "2022-04-26T15:25:28.625Z"
   },
   {
    "duration": 14,
    "start_time": "2022-04-26T15:25:28.644Z"
   },
   {
    "duration": 18,
    "start_time": "2022-04-26T15:25:28.659Z"
   },
   {
    "duration": 59,
    "start_time": "2022-04-26T15:25:28.678Z"
   },
   {
    "duration": 6,
    "start_time": "2022-04-26T15:25:28.739Z"
   },
   {
    "duration": 7,
    "start_time": "2022-04-26T15:25:28.746Z"
   },
   {
    "duration": 7,
    "start_time": "2022-04-26T15:25:28.755Z"
   },
   {
    "duration": 683,
    "start_time": "2022-04-26T15:25:28.764Z"
   },
   {
    "duration": 14,
    "start_time": "2022-04-26T15:25:29.449Z"
   },
   {
    "duration": 568,
    "start_time": "2022-04-26T15:25:29.464Z"
   },
   {
    "duration": 8,
    "start_time": "2022-04-26T15:25:30.034Z"
   },
   {
    "duration": 12,
    "start_time": "2022-04-26T15:25:30.044Z"
   },
   {
    "duration": 20,
    "start_time": "2022-04-26T15:25:30.058Z"
   },
   {
    "duration": 40,
    "start_time": "2022-04-26T15:25:30.080Z"
   },
   {
    "duration": 9,
    "start_time": "2022-04-26T15:25:30.121Z"
   },
   {
    "duration": 26,
    "start_time": "2022-04-26T15:25:30.132Z"
   },
   {
    "duration": 61,
    "start_time": "2022-04-26T15:25:30.160Z"
   },
   {
    "duration": 31,
    "start_time": "2022-04-26T15:25:30.224Z"
   },
   {
    "duration": 189,
    "start_time": "2022-04-26T15:25:30.256Z"
   },
   {
    "duration": 10,
    "start_time": "2022-04-26T15:25:30.447Z"
   },
   {
    "duration": 83,
    "start_time": "2022-04-26T15:25:30.458Z"
   },
   {
    "duration": 13,
    "start_time": "2022-04-26T15:25:30.542Z"
   },
   {
    "duration": 59,
    "start_time": "2022-04-26T15:25:30.556Z"
   },
   {
    "duration": 15,
    "start_time": "2022-04-26T15:25:30.616Z"
   },
   {
    "duration": 11,
    "start_time": "2022-04-26T15:25:30.633Z"
   },
   {
    "duration": 11,
    "start_time": "2022-04-26T15:25:30.646Z"
   },
   {
    "duration": 35,
    "start_time": "2022-04-26T15:25:30.659Z"
   },
   {
    "duration": 30,
    "start_time": "2022-04-26T15:25:30.695Z"
   },
   {
    "duration": 3,
    "start_time": "2022-04-26T15:25:30.727Z"
   },
   {
    "duration": 108,
    "start_time": "2022-04-26T15:25:30.732Z"
   },
   {
    "duration": 8,
    "start_time": "2022-04-26T15:25:30.841Z"
   },
   {
    "duration": 23,
    "start_time": "2022-04-26T15:25:30.850Z"
   },
   {
    "duration": 4,
    "start_time": "2022-04-26T15:25:30.875Z"
   },
   {
    "duration": 2619,
    "start_time": "2022-04-26T15:25:30.881Z"
   },
   {
    "duration": 0,
    "start_time": "2022-04-26T15:25:33.502Z"
   },
   {
    "duration": 20,
    "start_time": "2022-04-26T15:25:37.426Z"
   },
   {
    "duration": 5,
    "start_time": "2022-04-26T15:26:53.373Z"
   },
   {
    "duration": 2324,
    "start_time": "2022-04-26T15:27:23.459Z"
   },
   {
    "duration": 17,
    "start_time": "2022-04-26T15:27:29.779Z"
   },
   {
    "duration": 8,
    "start_time": "2022-04-26T15:27:50.867Z"
   },
   {
    "duration": 19,
    "start_time": "2022-04-26T15:27:53.900Z"
   },
   {
    "duration": 2396,
    "start_time": "2022-04-26T15:28:00.660Z"
   },
   {
    "duration": 2351,
    "start_time": "2022-04-26T15:29:05.082Z"
   },
   {
    "duration": 2518,
    "start_time": "2022-04-26T15:29:11.371Z"
   },
   {
    "duration": 17,
    "start_time": "2022-04-26T15:29:18.144Z"
   },
   {
    "duration": 2231,
    "start_time": "2022-04-26T15:29:34.378Z"
   },
   {
    "duration": 18,
    "start_time": "2022-04-26T15:29:42.445Z"
   },
   {
    "duration": 10,
    "start_time": "2022-04-26T15:30:02.546Z"
   },
   {
    "duration": 4,
    "start_time": "2022-04-26T15:30:22.726Z"
   },
   {
    "duration": 88,
    "start_time": "2022-04-26T15:30:52.171Z"
   },
   {
    "duration": 4,
    "start_time": "2022-04-26T15:30:56.749Z"
   },
   {
    "duration": 8,
    "start_time": "2022-04-26T15:30:59.439Z"
   },
   {
    "duration": 12,
    "start_time": "2022-04-26T15:31:02.139Z"
   },
   {
    "duration": 8,
    "start_time": "2022-04-26T15:31:22.889Z"
   },
   {
    "duration": 18,
    "start_time": "2022-04-26T15:31:31.144Z"
   },
   {
    "duration": 4,
    "start_time": "2022-04-26T15:32:01.254Z"
   },
   {
    "duration": 16,
    "start_time": "2022-04-26T15:32:02.027Z"
   },
   {
    "duration": 4,
    "start_time": "2022-04-26T15:32:57.224Z"
   },
   {
    "duration": 17,
    "start_time": "2022-04-26T15:33:30.913Z"
   },
   {
    "duration": 18,
    "start_time": "2022-04-26T15:34:54.777Z"
   },
   {
    "duration": 21,
    "start_time": "2022-04-26T15:35:06.722Z"
   },
   {
    "duration": 6999,
    "start_time": "2022-04-26T15:35:14.411Z"
   },
   {
    "duration": 158,
    "start_time": "2022-04-26T15:35:21.412Z"
   },
   {
    "duration": 19,
    "start_time": "2022-04-26T15:35:21.572Z"
   },
   {
    "duration": 8,
    "start_time": "2022-04-26T15:35:21.593Z"
   },
   {
    "duration": 9,
    "start_time": "2022-04-26T15:35:21.602Z"
   },
   {
    "duration": 3,
    "start_time": "2022-04-26T15:35:21.613Z"
   },
   {
    "duration": 15,
    "start_time": "2022-04-26T15:35:21.618Z"
   },
   {
    "duration": 82,
    "start_time": "2022-04-26T15:35:21.635Z"
   },
   {
    "duration": 69,
    "start_time": "2022-04-26T15:35:21.718Z"
   },
   {
    "duration": 62,
    "start_time": "2022-04-26T15:35:21.789Z"
   },
   {
    "duration": 19,
    "start_time": "2022-04-26T15:35:21.853Z"
   },
   {
    "duration": 32,
    "start_time": "2022-04-26T15:35:21.873Z"
   },
   {
    "duration": 18,
    "start_time": "2022-04-26T15:35:21.907Z"
   },
   {
    "duration": 39,
    "start_time": "2022-04-26T15:35:21.926Z"
   },
   {
    "duration": 6,
    "start_time": "2022-04-26T15:35:21.966Z"
   },
   {
    "duration": 31,
    "start_time": "2022-04-26T15:35:21.974Z"
   },
   {
    "duration": 7,
    "start_time": "2022-04-26T15:35:22.006Z"
   },
   {
    "duration": 634,
    "start_time": "2022-04-26T15:35:22.015Z"
   },
   {
    "duration": 12,
    "start_time": "2022-04-26T15:35:22.651Z"
   },
   {
    "duration": 566,
    "start_time": "2022-04-26T15:35:22.665Z"
   },
   {
    "duration": 8,
    "start_time": "2022-04-26T15:35:23.232Z"
   },
   {
    "duration": 4,
    "start_time": "2022-04-26T15:35:23.241Z"
   },
   {
    "duration": 27,
    "start_time": "2022-04-26T15:35:23.247Z"
   },
   {
    "duration": 42,
    "start_time": "2022-04-26T15:35:23.275Z"
   },
   {
    "duration": 9,
    "start_time": "2022-04-26T15:35:23.319Z"
   },
   {
    "duration": 28,
    "start_time": "2022-04-26T15:35:23.330Z"
   },
   {
    "duration": 64,
    "start_time": "2022-04-26T15:35:23.359Z"
   },
   {
    "duration": 29,
    "start_time": "2022-04-26T15:35:23.426Z"
   },
   {
    "duration": 182,
    "start_time": "2022-04-26T15:35:23.457Z"
   },
   {
    "duration": 9,
    "start_time": "2022-04-26T15:35:23.640Z"
   },
   {
    "duration": 87,
    "start_time": "2022-04-26T15:35:23.650Z"
   },
   {
    "duration": 11,
    "start_time": "2022-04-26T15:35:23.738Z"
   },
   {
    "duration": 49,
    "start_time": "2022-04-26T15:35:23.751Z"
   },
   {
    "duration": 12,
    "start_time": "2022-04-26T15:35:23.802Z"
   },
   {
    "duration": 7,
    "start_time": "2022-04-26T15:35:23.815Z"
   },
   {
    "duration": 5,
    "start_time": "2022-04-26T15:35:23.824Z"
   },
   {
    "duration": 35,
    "start_time": "2022-04-26T15:35:23.830Z"
   },
   {
    "duration": 30,
    "start_time": "2022-04-26T15:35:23.899Z"
   },
   {
    "duration": 5,
    "start_time": "2022-04-26T15:35:23.931Z"
   },
   {
    "duration": 108,
    "start_time": "2022-04-26T15:35:23.937Z"
   },
   {
    "duration": 4,
    "start_time": "2022-04-26T15:35:24.047Z"
   },
   {
    "duration": 13,
    "start_time": "2022-04-26T15:35:24.053Z"
   },
   {
    "duration": 5,
    "start_time": "2022-04-26T15:35:24.068Z"
   },
   {
    "duration": 130,
    "start_time": "2022-04-26T15:35:24.074Z"
   },
   {
    "duration": 18,
    "start_time": "2022-04-26T15:35:41.851Z"
   },
   {
    "duration": 93,
    "start_time": "2022-04-26T15:36:06.553Z"
   },
   {
    "duration": 5,
    "start_time": "2022-04-26T15:36:08.510Z"
   },
   {
    "duration": 12,
    "start_time": "2022-04-26T15:36:11.502Z"
   },
   {
    "duration": 6,
    "start_time": "2022-04-26T15:36:15.129Z"
   },
   {
    "duration": 21,
    "start_time": "2022-04-26T15:36:16.203Z"
   },
   {
    "duration": 8,
    "start_time": "2022-04-26T15:37:18.820Z"
   },
   {
    "duration": 12,
    "start_time": "2022-04-26T15:37:23.134Z"
   },
   {
    "duration": 5,
    "start_time": "2022-04-26T15:37:29.806Z"
   },
   {
    "duration": 18,
    "start_time": "2022-04-26T15:37:30.166Z"
   },
   {
    "duration": 4,
    "start_time": "2022-04-26T15:38:08.412Z"
   },
   {
    "duration": 9,
    "start_time": "2022-04-26T15:42:26.347Z"
   },
   {
    "duration": 11,
    "start_time": "2022-04-26T15:42:30.158Z"
   },
   {
    "duration": 5,
    "start_time": "2022-04-26T15:42:32.079Z"
   },
   {
    "duration": 17,
    "start_time": "2022-04-26T15:42:32.792Z"
   },
   {
    "duration": 6930,
    "start_time": "2022-04-26T15:43:22.173Z"
   },
   {
    "duration": 175,
    "start_time": "2022-04-26T15:43:29.105Z"
   },
   {
    "duration": 25,
    "start_time": "2022-04-26T15:43:29.282Z"
   },
   {
    "duration": 3,
    "start_time": "2022-04-26T15:43:29.309Z"
   },
   {
    "duration": 11,
    "start_time": "2022-04-26T15:43:29.314Z"
   },
   {
    "duration": 3,
    "start_time": "2022-04-26T15:43:29.327Z"
   },
   {
    "duration": 21,
    "start_time": "2022-04-26T15:43:29.332Z"
   },
   {
    "duration": 90,
    "start_time": "2022-04-26T15:43:29.355Z"
   },
   {
    "duration": 75,
    "start_time": "2022-04-26T15:43:29.446Z"
   },
   {
    "duration": 54,
    "start_time": "2022-04-26T15:43:29.524Z"
   },
   {
    "duration": 34,
    "start_time": "2022-04-26T15:43:29.580Z"
   },
   {
    "duration": 16,
    "start_time": "2022-04-26T15:43:29.616Z"
   },
   {
    "duration": 18,
    "start_time": "2022-04-26T15:43:29.634Z"
   },
   {
    "duration": 64,
    "start_time": "2022-04-26T15:43:29.654Z"
   },
   {
    "duration": 6,
    "start_time": "2022-04-26T15:43:29.720Z"
   },
   {
    "duration": 7,
    "start_time": "2022-04-26T15:43:29.728Z"
   },
   {
    "duration": 8,
    "start_time": "2022-04-26T15:43:29.737Z"
   },
   {
    "duration": 697,
    "start_time": "2022-04-26T15:43:29.747Z"
   },
   {
    "duration": 13,
    "start_time": "2022-04-26T15:43:30.445Z"
   },
   {
    "duration": 541,
    "start_time": "2022-04-26T15:43:30.459Z"
   },
   {
    "duration": 8,
    "start_time": "2022-04-26T15:43:31.001Z"
   },
   {
    "duration": 20,
    "start_time": "2022-04-26T15:43:31.010Z"
   },
   {
    "duration": 39,
    "start_time": "2022-04-26T15:43:31.032Z"
   },
   {
    "duration": 24,
    "start_time": "2022-04-26T15:43:31.073Z"
   },
   {
    "duration": 9,
    "start_time": "2022-04-26T15:43:31.098Z"
   },
   {
    "duration": 28,
    "start_time": "2022-04-26T15:43:31.109Z"
   },
   {
    "duration": 53,
    "start_time": "2022-04-26T15:43:31.138Z"
   },
   {
    "duration": 45,
    "start_time": "2022-04-26T15:43:31.200Z"
   },
   {
    "duration": 222,
    "start_time": "2022-04-26T15:43:31.248Z"
   },
   {
    "duration": 12,
    "start_time": "2022-04-26T15:43:31.473Z"
   },
   {
    "duration": 137,
    "start_time": "2022-04-26T15:43:31.499Z"
   },
   {
    "duration": 15,
    "start_time": "2022-04-26T15:43:31.639Z"
   },
   {
    "duration": 12,
    "start_time": "2022-04-26T15:43:31.656Z"
   },
   {
    "duration": 41,
    "start_time": "2022-04-26T15:43:31.670Z"
   },
   {
    "duration": 10,
    "start_time": "2022-04-26T15:43:31.713Z"
   },
   {
    "duration": 4,
    "start_time": "2022-04-26T15:43:31.725Z"
   },
   {
    "duration": 69,
    "start_time": "2022-04-26T15:43:31.731Z"
   },
   {
    "duration": 44,
    "start_time": "2022-04-26T15:43:31.803Z"
   },
   {
    "duration": 4,
    "start_time": "2022-04-26T15:43:31.850Z"
   },
   {
    "duration": 166,
    "start_time": "2022-04-26T15:43:31.856Z"
   },
   {
    "duration": 11,
    "start_time": "2022-04-26T15:43:32.024Z"
   },
   {
    "duration": 56,
    "start_time": "2022-04-26T15:43:32.037Z"
   },
   {
    "duration": 6,
    "start_time": "2022-04-26T15:43:32.094Z"
   },
   {
    "duration": 151,
    "start_time": "2022-04-26T15:43:32.101Z"
   },
   {
    "duration": 13,
    "start_time": "2022-04-26T15:43:48.098Z"
   },
   {
    "duration": 5,
    "start_time": "2022-04-26T15:44:05.123Z"
   },
   {
    "duration": 19,
    "start_time": "2022-04-26T15:44:06.089Z"
   },
   {
    "duration": 5,
    "start_time": "2022-04-26T15:44:29.767Z"
   },
   {
    "duration": 18,
    "start_time": "2022-04-26T15:44:31.020Z"
   },
   {
    "duration": 6422,
    "start_time": "2022-04-26T15:44:36.132Z"
   },
   {
    "duration": 160,
    "start_time": "2022-04-26T15:44:42.556Z"
   },
   {
    "duration": 20,
    "start_time": "2022-04-26T15:44:42.718Z"
   },
   {
    "duration": 4,
    "start_time": "2022-04-26T15:44:42.740Z"
   },
   {
    "duration": 8,
    "start_time": "2022-04-26T15:44:42.746Z"
   },
   {
    "duration": 3,
    "start_time": "2022-04-26T15:44:42.756Z"
   },
   {
    "duration": 40,
    "start_time": "2022-04-26T15:44:42.761Z"
   },
   {
    "duration": 58,
    "start_time": "2022-04-26T15:44:42.803Z"
   },
   {
    "duration": 82,
    "start_time": "2022-04-26T15:44:42.863Z"
   },
   {
    "duration": 55,
    "start_time": "2022-04-26T15:44:42.948Z"
   },
   {
    "duration": 18,
    "start_time": "2022-04-26T15:44:43.005Z"
   },
   {
    "duration": 15,
    "start_time": "2022-04-26T15:44:43.025Z"
   },
   {
    "duration": 19,
    "start_time": "2022-04-26T15:44:43.042Z"
   },
   {
    "duration": 68,
    "start_time": "2022-04-26T15:44:43.063Z"
   },
   {
    "duration": 7,
    "start_time": "2022-04-26T15:44:43.133Z"
   },
   {
    "duration": 7,
    "start_time": "2022-04-26T15:44:43.142Z"
   },
   {
    "duration": 8,
    "start_time": "2022-04-26T15:44:43.150Z"
   },
   {
    "duration": 693,
    "start_time": "2022-04-26T15:44:43.159Z"
   },
   {
    "duration": 12,
    "start_time": "2022-04-26T15:44:43.854Z"
   },
   {
    "duration": 553,
    "start_time": "2022-04-26T15:44:43.867Z"
   },
   {
    "duration": 6,
    "start_time": "2022-04-26T15:44:44.422Z"
   },
   {
    "duration": 4,
    "start_time": "2022-04-26T15:44:44.430Z"
   },
   {
    "duration": 20,
    "start_time": "2022-04-26T15:44:44.436Z"
   },
   {
    "duration": 49,
    "start_time": "2022-04-26T15:44:44.457Z"
   },
   {
    "duration": 9,
    "start_time": "2022-04-26T15:44:44.507Z"
   },
   {
    "duration": 26,
    "start_time": "2022-04-26T15:44:44.518Z"
   },
   {
    "duration": 62,
    "start_time": "2022-04-26T15:44:44.545Z"
   },
   {
    "duration": 30,
    "start_time": "2022-04-26T15:44:44.610Z"
   },
   {
    "duration": 207,
    "start_time": "2022-04-26T15:44:44.642Z"
   },
   {
    "duration": 9,
    "start_time": "2022-04-26T15:44:44.851Z"
   },
   {
    "duration": 70,
    "start_time": "2022-04-26T15:44:44.861Z"
   },
   {
    "duration": 10,
    "start_time": "2022-04-26T15:44:44.933Z"
   },
   {
    "duration": 56,
    "start_time": "2022-04-26T15:44:44.945Z"
   },
   {
    "duration": 11,
    "start_time": "2022-04-26T15:44:45.003Z"
   },
   {
    "duration": 9,
    "start_time": "2022-04-26T15:44:45.016Z"
   },
   {
    "duration": 11,
    "start_time": "2022-04-26T15:44:45.026Z"
   },
   {
    "duration": 38,
    "start_time": "2022-04-26T15:44:45.038Z"
   },
   {
    "duration": 47,
    "start_time": "2022-04-26T15:44:45.077Z"
   },
   {
    "duration": 4,
    "start_time": "2022-04-26T15:44:45.126Z"
   },
   {
    "duration": 105,
    "start_time": "2022-04-26T15:44:45.131Z"
   },
   {
    "duration": 8,
    "start_time": "2022-04-26T15:44:45.238Z"
   },
   {
    "duration": 12,
    "start_time": "2022-04-26T15:44:45.247Z"
   },
   {
    "duration": 5,
    "start_time": "2022-04-26T15:44:45.261Z"
   },
   {
    "duration": 129,
    "start_time": "2022-04-26T15:44:45.267Z"
   },
   {
    "duration": 6,
    "start_time": "2022-04-26T15:48:43.513Z"
   },
   {
    "duration": 29,
    "start_time": "2022-04-26T15:48:48.231Z"
   },
   {
    "duration": 5,
    "start_time": "2022-04-26T15:48:55.170Z"
   },
   {
    "duration": 14,
    "start_time": "2022-04-26T15:48:59.605Z"
   },
   {
    "duration": 8,
    "start_time": "2022-04-26T15:49:17.378Z"
   },
   {
    "duration": 16,
    "start_time": "2022-04-26T15:49:18.205Z"
   },
   {
    "duration": 13,
    "start_time": "2022-04-26T15:49:19.463Z"
   },
   {
    "duration": 5,
    "start_time": "2022-04-26T15:49:26.135Z"
   },
   {
    "duration": 11,
    "start_time": "2022-04-26T15:49:28.927Z"
   },
   {
    "duration": 9,
    "start_time": "2022-04-26T15:49:32.856Z"
   },
   {
    "duration": 9,
    "start_time": "2022-04-26T15:49:53.749Z"
   },
   {
    "duration": 4712,
    "start_time": "2022-04-26T15:54:18.739Z"
   },
   {
    "duration": 6213,
    "start_time": "2022-04-26T15:54:29.419Z"
   },
   {
    "duration": 156,
    "start_time": "2022-04-26T15:54:35.634Z"
   },
   {
    "duration": 19,
    "start_time": "2022-04-26T15:54:35.791Z"
   },
   {
    "duration": 4,
    "start_time": "2022-04-26T15:54:35.811Z"
   },
   {
    "duration": 10,
    "start_time": "2022-04-26T15:54:35.816Z"
   },
   {
    "duration": 3,
    "start_time": "2022-04-26T15:54:35.828Z"
   },
   {
    "duration": 16,
    "start_time": "2022-04-26T15:54:35.832Z"
   },
   {
    "duration": 81,
    "start_time": "2022-04-26T15:54:35.850Z"
   },
   {
    "duration": 76,
    "start_time": "2022-04-26T15:54:35.933Z"
   },
   {
    "duration": 50,
    "start_time": "2022-04-26T15:54:36.012Z"
   },
   {
    "duration": 18,
    "start_time": "2022-04-26T15:54:36.064Z"
   },
   {
    "duration": 30,
    "start_time": "2022-04-26T15:54:36.083Z"
   },
   {
    "duration": 18,
    "start_time": "2022-04-26T15:54:36.115Z"
   },
   {
    "duration": 41,
    "start_time": "2022-04-26T15:54:36.134Z"
   },
   {
    "duration": 26,
    "start_time": "2022-04-26T15:54:36.176Z"
   },
   {
    "duration": 6,
    "start_time": "2022-04-26T15:54:36.204Z"
   },
   {
    "duration": 7,
    "start_time": "2022-04-26T15:54:36.211Z"
   },
   {
    "duration": 628,
    "start_time": "2022-04-26T15:54:36.220Z"
   },
   {
    "duration": 13,
    "start_time": "2022-04-26T15:54:36.849Z"
   },
   {
    "duration": 552,
    "start_time": "2022-04-26T15:54:36.863Z"
   },
   {
    "duration": 7,
    "start_time": "2022-04-26T15:54:37.416Z"
   },
   {
    "duration": 4,
    "start_time": "2022-04-26T15:54:37.425Z"
   },
   {
    "duration": 19,
    "start_time": "2022-04-26T15:54:37.430Z"
   },
   {
    "duration": 22,
    "start_time": "2022-04-26T15:54:37.450Z"
   },
   {
    "duration": 33,
    "start_time": "2022-04-26T15:54:37.474Z"
   },
   {
    "duration": 25,
    "start_time": "2022-04-26T15:54:37.509Z"
   },
   {
    "duration": 46,
    "start_time": "2022-04-26T15:54:37.535Z"
   },
   {
    "duration": 29,
    "start_time": "2022-04-26T15:54:37.601Z"
   },
   {
    "duration": 162,
    "start_time": "2022-04-26T15:54:37.631Z"
   },
   {
    "duration": 9,
    "start_time": "2022-04-26T15:54:37.794Z"
   },
   {
    "duration": 97,
    "start_time": "2022-04-26T15:54:37.804Z"
   },
   {
    "duration": 11,
    "start_time": "2022-04-26T15:54:37.903Z"
   },
   {
    "duration": 8,
    "start_time": "2022-04-26T15:54:37.915Z"
   },
   {
    "duration": 18,
    "start_time": "2022-04-26T15:54:37.924Z"
   },
   {
    "duration": 6,
    "start_time": "2022-04-26T15:54:37.943Z"
   },
   {
    "duration": 4,
    "start_time": "2022-04-26T15:54:37.950Z"
   },
   {
    "duration": 61,
    "start_time": "2022-04-26T15:54:37.956Z"
   },
   {
    "duration": 28,
    "start_time": "2022-04-26T15:54:38.018Z"
   },
   {
    "duration": 4,
    "start_time": "2022-04-26T15:54:38.047Z"
   },
   {
    "duration": 107,
    "start_time": "2022-04-26T15:54:38.052Z"
   },
   {
    "duration": 5,
    "start_time": "2022-04-26T15:54:38.160Z"
   },
   {
    "duration": 15,
    "start_time": "2022-04-26T15:54:38.166Z"
   },
   {
    "duration": 107,
    "start_time": "2022-04-26T15:54:38.183Z"
   },
   {
    "duration": 5,
    "start_time": "2022-04-26T15:55:13.044Z"
   },
   {
    "duration": 5,
    "start_time": "2022-04-26T15:56:00.189Z"
   },
   {
    "duration": 6350,
    "start_time": "2022-04-26T15:56:05.295Z"
   },
   {
    "duration": 163,
    "start_time": "2022-04-26T15:56:11.647Z"
   },
   {
    "duration": 20,
    "start_time": "2022-04-26T15:56:11.811Z"
   },
   {
    "duration": 3,
    "start_time": "2022-04-26T15:56:11.833Z"
   },
   {
    "duration": 10,
    "start_time": "2022-04-26T15:56:11.837Z"
   },
   {
    "duration": 4,
    "start_time": "2022-04-26T15:56:11.848Z"
   },
   {
    "duration": 19,
    "start_time": "2022-04-26T15:56:11.853Z"
   },
   {
    "duration": 60,
    "start_time": "2022-04-26T15:56:11.900Z"
   },
   {
    "duration": 79,
    "start_time": "2022-04-26T15:56:11.962Z"
   },
   {
    "duration": 61,
    "start_time": "2022-04-26T15:56:12.044Z"
   },
   {
    "duration": 17,
    "start_time": "2022-04-26T15:56:12.107Z"
   },
   {
    "duration": 15,
    "start_time": "2022-04-26T15:56:12.126Z"
   },
   {
    "duration": 20,
    "start_time": "2022-04-26T15:56:12.142Z"
   },
   {
    "duration": 61,
    "start_time": "2022-04-26T15:56:12.163Z"
   },
   {
    "duration": 7,
    "start_time": "2022-04-26T15:56:12.225Z"
   },
   {
    "duration": 7,
    "start_time": "2022-04-26T15:56:12.233Z"
   },
   {
    "duration": 7,
    "start_time": "2022-04-26T15:56:12.242Z"
   },
   {
    "duration": 699,
    "start_time": "2022-04-26T15:56:12.251Z"
   },
   {
    "duration": 13,
    "start_time": "2022-04-26T15:56:12.952Z"
   },
   {
    "duration": 556,
    "start_time": "2022-04-26T15:56:12.966Z"
   },
   {
    "duration": 7,
    "start_time": "2022-04-26T15:56:13.524Z"
   },
   {
    "duration": 5,
    "start_time": "2022-04-26T15:56:13.532Z"
   },
   {
    "duration": 21,
    "start_time": "2022-04-26T15:56:13.538Z"
   },
   {
    "duration": 48,
    "start_time": "2022-04-26T15:56:13.561Z"
   },
   {
    "duration": 9,
    "start_time": "2022-04-26T15:56:13.610Z"
   },
   {
    "duration": 25,
    "start_time": "2022-04-26T15:56:13.620Z"
   },
   {
    "duration": 56,
    "start_time": "2022-04-26T15:56:13.647Z"
   },
   {
    "duration": 29,
    "start_time": "2022-04-26T15:56:13.706Z"
   },
   {
    "duration": 152,
    "start_time": "2022-04-26T15:56:13.736Z"
   },
   {
    "duration": 9,
    "start_time": "2022-04-26T15:56:13.891Z"
   },
   {
    "duration": 106,
    "start_time": "2022-04-26T15:56:13.901Z"
   },
   {
    "duration": 11,
    "start_time": "2022-04-26T15:56:14.008Z"
   },
   {
    "duration": 8,
    "start_time": "2022-04-26T15:56:14.020Z"
   },
   {
    "duration": 12,
    "start_time": "2022-04-26T15:56:14.030Z"
   },
   {
    "duration": 4,
    "start_time": "2022-04-26T15:56:14.043Z"
   },
   {
    "duration": 5,
    "start_time": "2022-04-26T15:56:14.049Z"
   },
   {
    "duration": 75,
    "start_time": "2022-04-26T15:56:14.055Z"
   },
   {
    "duration": 29,
    "start_time": "2022-04-26T15:56:14.132Z"
   },
   {
    "duration": 4,
    "start_time": "2022-04-26T15:56:14.163Z"
   },
   {
    "duration": 114,
    "start_time": "2022-04-26T15:56:14.169Z"
   },
   {
    "duration": 4,
    "start_time": "2022-04-26T15:56:14.285Z"
   },
   {
    "duration": 12,
    "start_time": "2022-04-26T15:56:14.300Z"
   },
   {
    "duration": 5,
    "start_time": "2022-04-26T15:56:14.313Z"
   },
   {
    "duration": 111,
    "start_time": "2022-04-26T15:56:27.125Z"
   },
   {
    "duration": 17,
    "start_time": "2022-04-26T15:57:13.656Z"
   },
   {
    "duration": 6475,
    "start_time": "2022-04-26T15:57:18.889Z"
   },
   {
    "duration": 167,
    "start_time": "2022-04-26T15:57:25.367Z"
   },
   {
    "duration": 19,
    "start_time": "2022-04-26T15:57:25.535Z"
   },
   {
    "duration": 4,
    "start_time": "2022-04-26T15:57:25.556Z"
   },
   {
    "duration": 10,
    "start_time": "2022-04-26T15:57:25.561Z"
   },
   {
    "duration": 5,
    "start_time": "2022-04-26T15:57:25.572Z"
   },
   {
    "duration": 15,
    "start_time": "2022-04-26T15:57:25.600Z"
   },
   {
    "duration": 57,
    "start_time": "2022-04-26T15:57:25.617Z"
   },
   {
    "duration": 83,
    "start_time": "2022-04-26T15:57:25.676Z"
   },
   {
    "duration": 61,
    "start_time": "2022-04-26T15:57:25.762Z"
   },
   {
    "duration": 17,
    "start_time": "2022-04-26T15:57:25.824Z"
   },
   {
    "duration": 14,
    "start_time": "2022-04-26T15:57:25.842Z"
   },
   {
    "duration": 22,
    "start_time": "2022-04-26T15:57:25.858Z"
   },
   {
    "duration": 41,
    "start_time": "2022-04-26T15:57:25.900Z"
   },
   {
    "duration": 7,
    "start_time": "2022-04-26T15:57:25.943Z"
   },
   {
    "duration": 10,
    "start_time": "2022-04-26T15:57:25.952Z"
   },
   {
    "duration": 8,
    "start_time": "2022-04-26T15:57:25.964Z"
   },
   {
    "duration": 812,
    "start_time": "2022-04-26T15:57:25.973Z"
   },
   {
    "duration": 19,
    "start_time": "2022-04-26T15:57:26.787Z"
   },
   {
    "duration": 538,
    "start_time": "2022-04-26T15:57:26.807Z"
   },
   {
    "duration": 8,
    "start_time": "2022-04-26T15:57:27.347Z"
   },
   {
    "duration": 4,
    "start_time": "2022-04-26T15:57:27.357Z"
   },
   {
    "duration": 42,
    "start_time": "2022-04-26T15:57:27.362Z"
   },
   {
    "duration": 32,
    "start_time": "2022-04-26T15:57:27.406Z"
   },
   {
    "duration": 9,
    "start_time": "2022-04-26T15:57:27.439Z"
   },
   {
    "duration": 25,
    "start_time": "2022-04-26T15:57:27.450Z"
   },
   {
    "duration": 60,
    "start_time": "2022-04-26T15:57:27.476Z"
   },
   {
    "duration": 28,
    "start_time": "2022-04-26T15:57:27.539Z"
   },
   {
    "duration": 222,
    "start_time": "2022-04-26T15:57:27.569Z"
   },
   {
    "duration": 11,
    "start_time": "2022-04-26T15:57:27.794Z"
   },
   {
    "duration": 118,
    "start_time": "2022-04-26T15:57:27.807Z"
   },
   {
    "duration": 13,
    "start_time": "2022-04-26T15:57:27.926Z"
   },
   {
    "duration": 9,
    "start_time": "2022-04-26T15:57:27.940Z"
   },
   {
    "duration": 49,
    "start_time": "2022-04-26T15:57:27.951Z"
   },
   {
    "duration": 4,
    "start_time": "2022-04-26T15:57:28.002Z"
   },
   {
    "duration": 4,
    "start_time": "2022-04-26T15:57:28.008Z"
   },
   {
    "duration": 33,
    "start_time": "2022-04-26T15:57:28.014Z"
   },
   {
    "duration": 28,
    "start_time": "2022-04-26T15:57:28.048Z"
   },
   {
    "duration": 26,
    "start_time": "2022-04-26T15:57:28.078Z"
   },
   {
    "duration": 111,
    "start_time": "2022-04-26T15:57:28.106Z"
   },
   {
    "duration": 4,
    "start_time": "2022-04-26T15:57:28.219Z"
   },
   {
    "duration": 12,
    "start_time": "2022-04-26T15:57:28.224Z"
   },
   {
    "duration": 5,
    "start_time": "2022-04-26T15:57:28.237Z"
   },
   {
    "duration": 129,
    "start_time": "2022-04-26T15:57:28.243Z"
   },
   {
    "duration": 10,
    "start_time": "2022-04-26T16:21:36.301Z"
   },
   {
    "duration": 6,
    "start_time": "2022-04-26T16:21:41.320Z"
   },
   {
    "duration": 93,
    "start_time": "2022-04-26T16:22:05.784Z"
   },
   {
    "duration": 11,
    "start_time": "2022-04-26T16:22:57.348Z"
   },
   {
    "duration": 10,
    "start_time": "2022-04-26T16:23:01.341Z"
   },
   {
    "duration": 5,
    "start_time": "2022-04-26T16:23:27.819Z"
   },
   {
    "duration": 2275,
    "start_time": "2022-04-26T16:23:29.614Z"
   },
   {
    "duration": 2206,
    "start_time": "2022-04-26T16:23:37.629Z"
   },
   {
    "duration": 6319,
    "start_time": "2022-04-26T16:23:46.790Z"
   },
   {
    "duration": 168,
    "start_time": "2022-04-26T16:23:53.110Z"
   },
   {
    "duration": 25,
    "start_time": "2022-04-26T16:23:53.279Z"
   },
   {
    "duration": 4,
    "start_time": "2022-04-26T16:23:53.306Z"
   },
   {
    "duration": 15,
    "start_time": "2022-04-26T16:23:53.311Z"
   },
   {
    "duration": 8,
    "start_time": "2022-04-26T16:23:53.327Z"
   },
   {
    "duration": 17,
    "start_time": "2022-04-26T16:23:53.337Z"
   },
   {
    "duration": 100,
    "start_time": "2022-04-26T16:23:53.355Z"
   },
   {
    "duration": 76,
    "start_time": "2022-04-26T16:23:53.456Z"
   },
   {
    "duration": 54,
    "start_time": "2022-04-26T16:23:53.535Z"
   },
   {
    "duration": 27,
    "start_time": "2022-04-26T16:23:53.591Z"
   },
   {
    "duration": 16,
    "start_time": "2022-04-26T16:23:53.620Z"
   },
   {
    "duration": 20,
    "start_time": "2022-04-26T16:23:53.637Z"
   },
   {
    "duration": 68,
    "start_time": "2022-04-26T16:23:53.659Z"
   },
   {
    "duration": 6,
    "start_time": "2022-04-26T16:23:53.729Z"
   },
   {
    "duration": 6,
    "start_time": "2022-04-26T16:23:53.736Z"
   },
   {
    "duration": 11,
    "start_time": "2022-04-26T16:23:53.744Z"
   },
   {
    "duration": 680,
    "start_time": "2022-04-26T16:23:53.757Z"
   },
   {
    "duration": 12,
    "start_time": "2022-04-26T16:23:54.438Z"
   },
   {
    "duration": 542,
    "start_time": "2022-04-26T16:23:54.452Z"
   },
   {
    "duration": 8,
    "start_time": "2022-04-26T16:23:54.996Z"
   },
   {
    "duration": 32,
    "start_time": "2022-04-26T16:23:55.006Z"
   },
   {
    "duration": 34,
    "start_time": "2022-04-26T16:23:55.040Z"
   },
   {
    "duration": 23,
    "start_time": "2022-04-26T16:23:55.075Z"
   },
   {
    "duration": 9,
    "start_time": "2022-04-26T16:23:55.099Z"
   },
   {
    "duration": 28,
    "start_time": "2022-04-26T16:23:55.109Z"
   },
   {
    "duration": 65,
    "start_time": "2022-04-26T16:23:55.138Z"
   },
   {
    "duration": 30,
    "start_time": "2022-04-26T16:23:55.207Z"
   },
   {
    "duration": 183,
    "start_time": "2022-04-26T16:23:55.238Z"
   },
   {
    "duration": 10,
    "start_time": "2022-04-26T16:23:55.422Z"
   },
   {
    "duration": 93,
    "start_time": "2022-04-26T16:23:55.434Z"
   },
   {
    "duration": 10,
    "start_time": "2022-04-26T16:23:55.529Z"
   },
   {
    "duration": 8,
    "start_time": "2022-04-26T16:23:55.540Z"
   },
   {
    "duration": 57,
    "start_time": "2022-04-26T16:23:55.550Z"
   },
   {
    "duration": 13,
    "start_time": "2022-04-26T16:23:55.608Z"
   },
   {
    "duration": 14,
    "start_time": "2022-04-26T16:23:55.623Z"
   },
   {
    "duration": 71,
    "start_time": "2022-04-26T16:23:55.639Z"
   },
   {
    "duration": 30,
    "start_time": "2022-04-26T16:23:55.712Z"
   },
   {
    "duration": 4,
    "start_time": "2022-04-26T16:23:55.743Z"
   },
   {
    "duration": 112,
    "start_time": "2022-04-26T16:23:55.748Z"
   },
   {
    "duration": 7,
    "start_time": "2022-04-26T16:23:55.861Z"
   },
   {
    "duration": 29,
    "start_time": "2022-04-26T16:23:55.869Z"
   },
   {
    "duration": 4,
    "start_time": "2022-04-26T16:23:55.900Z"
   },
   {
    "duration": 2387,
    "start_time": "2022-04-26T16:23:55.906Z"
   },
   {
    "duration": 13,
    "start_time": "2022-04-26T16:25:56.351Z"
   },
   {
    "duration": 5,
    "start_time": "2022-04-26T16:26:05.874Z"
   },
   {
    "duration": 4,
    "start_time": "2022-04-26T16:28:37.544Z"
   },
   {
    "duration": 5,
    "start_time": "2022-04-26T16:28:46.462Z"
   },
   {
    "duration": 11,
    "start_time": "2022-04-26T16:28:47.654Z"
   },
   {
    "duration": 12,
    "start_time": "2022-04-26T16:28:59.821Z"
   },
   {
    "duration": 6391,
    "start_time": "2022-04-26T16:29:26.433Z"
   },
   {
    "duration": 157,
    "start_time": "2022-04-26T16:29:32.827Z"
   },
   {
    "duration": 20,
    "start_time": "2022-04-26T16:29:32.986Z"
   },
   {
    "duration": 4,
    "start_time": "2022-04-26T16:29:33.008Z"
   },
   {
    "duration": 9,
    "start_time": "2022-04-26T16:29:33.013Z"
   },
   {
    "duration": 3,
    "start_time": "2022-04-26T16:29:33.023Z"
   },
   {
    "duration": 16,
    "start_time": "2022-04-26T16:29:33.027Z"
   },
   {
    "duration": 86,
    "start_time": "2022-04-26T16:29:33.044Z"
   },
   {
    "duration": 78,
    "start_time": "2022-04-26T16:29:33.131Z"
   },
   {
    "duration": 52,
    "start_time": "2022-04-26T16:29:33.212Z"
   },
   {
    "duration": 18,
    "start_time": "2022-04-26T16:29:33.265Z"
   },
   {
    "duration": 28,
    "start_time": "2022-04-26T16:29:33.285Z"
   },
   {
    "duration": 18,
    "start_time": "2022-04-26T16:29:33.314Z"
   },
   {
    "duration": 41,
    "start_time": "2022-04-26T16:29:33.333Z"
   },
   {
    "duration": 28,
    "start_time": "2022-04-26T16:29:33.376Z"
   },
   {
    "duration": 6,
    "start_time": "2022-04-26T16:29:33.406Z"
   },
   {
    "duration": 8,
    "start_time": "2022-04-26T16:29:33.414Z"
   },
   {
    "duration": 632,
    "start_time": "2022-04-26T16:29:33.423Z"
   },
   {
    "duration": 13,
    "start_time": "2022-04-26T16:29:34.057Z"
   },
   {
    "duration": 553,
    "start_time": "2022-04-26T16:29:34.072Z"
   },
   {
    "duration": 7,
    "start_time": "2022-04-26T16:29:34.626Z"
   },
   {
    "duration": 4,
    "start_time": "2022-04-26T16:29:34.635Z"
   },
   {
    "duration": 18,
    "start_time": "2022-04-26T16:29:34.640Z"
   },
   {
    "duration": 42,
    "start_time": "2022-04-26T16:29:34.659Z"
   },
   {
    "duration": 8,
    "start_time": "2022-04-26T16:29:34.703Z"
   },
   {
    "duration": 25,
    "start_time": "2022-04-26T16:29:34.713Z"
   },
   {
    "duration": 42,
    "start_time": "2022-04-26T16:29:34.739Z"
   },
   {
    "duration": 26,
    "start_time": "2022-04-26T16:29:34.801Z"
   },
   {
    "duration": 221,
    "start_time": "2022-04-26T16:29:34.829Z"
   },
   {
    "duration": 11,
    "start_time": "2022-04-26T16:29:35.052Z"
   },
   {
    "duration": 156,
    "start_time": "2022-04-26T16:29:35.065Z"
   },
   {
    "duration": 13,
    "start_time": "2022-04-26T16:29:35.222Z"
   },
   {
    "duration": 9,
    "start_time": "2022-04-26T16:29:35.236Z"
   },
   {
    "duration": 57,
    "start_time": "2022-04-26T16:29:35.246Z"
   },
   {
    "duration": 5,
    "start_time": "2022-04-26T16:29:35.305Z"
   },
   {
    "duration": 7,
    "start_time": "2022-04-26T16:29:35.312Z"
   },
   {
    "duration": 34,
    "start_time": "2022-04-26T16:29:35.320Z"
   },
   {
    "duration": 51,
    "start_time": "2022-04-26T16:29:35.356Z"
   },
   {
    "duration": 4,
    "start_time": "2022-04-26T16:29:35.409Z"
   },
   {
    "duration": 95,
    "start_time": "2022-04-26T16:29:35.414Z"
   },
   {
    "duration": 4,
    "start_time": "2022-04-26T16:29:35.511Z"
   },
   {
    "duration": 14,
    "start_time": "2022-04-26T16:29:35.516Z"
   },
   {
    "duration": 4,
    "start_time": "2022-04-26T16:29:35.532Z"
   },
   {
    "duration": 7,
    "start_time": "2022-04-26T16:34:02.555Z"
   },
   {
    "duration": 2670,
    "start_time": "2022-04-26T16:34:24.016Z"
   },
   {
    "duration": 5244,
    "start_time": "2022-04-26T16:39:45.976Z"
   },
   {
    "duration": 6566,
    "start_time": "2022-04-26T16:39:55.113Z"
   },
   {
    "duration": 175,
    "start_time": "2022-04-26T16:40:01.681Z"
   },
   {
    "duration": 20,
    "start_time": "2022-04-26T16:40:01.857Z"
   },
   {
    "duration": 49,
    "start_time": "2022-04-26T16:40:01.879Z"
   },
   {
    "duration": 48,
    "start_time": "2022-04-26T16:40:01.929Z"
   },
   {
    "duration": 23,
    "start_time": "2022-04-26T16:40:01.979Z"
   },
   {
    "duration": 35,
    "start_time": "2022-04-26T16:40:02.004Z"
   },
   {
    "duration": 83,
    "start_time": "2022-04-26T16:40:02.040Z"
   },
   {
    "duration": 67,
    "start_time": "2022-04-26T16:40:02.125Z"
   },
   {
    "duration": 53,
    "start_time": "2022-04-26T16:40:02.195Z"
   },
   {
    "duration": 17,
    "start_time": "2022-04-26T16:40:02.250Z"
   },
   {
    "duration": 20,
    "start_time": "2022-04-26T16:40:02.269Z"
   },
   {
    "duration": 20,
    "start_time": "2022-04-26T16:40:02.301Z"
   },
   {
    "duration": 38,
    "start_time": "2022-04-26T16:40:02.323Z"
   },
   {
    "duration": 6,
    "start_time": "2022-04-26T16:40:02.363Z"
   },
   {
    "duration": 29,
    "start_time": "2022-04-26T16:40:02.371Z"
   },
   {
    "duration": 6,
    "start_time": "2022-04-26T16:40:02.402Z"
   },
   {
    "duration": 647,
    "start_time": "2022-04-26T16:40:02.410Z"
   },
   {
    "duration": 12,
    "start_time": "2022-04-26T16:40:03.059Z"
   },
   {
    "duration": 521,
    "start_time": "2022-04-26T16:40:03.073Z"
   },
   {
    "duration": 8,
    "start_time": "2022-04-26T16:40:03.595Z"
   },
   {
    "duration": 6,
    "start_time": "2022-04-26T16:40:03.604Z"
   },
   {
    "duration": 19,
    "start_time": "2022-04-26T16:40:03.612Z"
   },
   {
    "duration": 22,
    "start_time": "2022-04-26T16:40:03.632Z"
   },
   {
    "duration": 9,
    "start_time": "2022-04-26T16:40:03.656Z"
   },
   {
    "duration": 50,
    "start_time": "2022-04-26T16:40:03.667Z"
   },
   {
    "duration": 42,
    "start_time": "2022-04-26T16:40:03.718Z"
   },
   {
    "duration": 45,
    "start_time": "2022-04-26T16:40:03.764Z"
   },
   {
    "duration": 407,
    "start_time": "2022-04-26T16:40:03.810Z"
   },
   {
    "duration": 8,
    "start_time": "2022-04-26T16:40:04.219Z"
   },
   {
    "duration": 94,
    "start_time": "2022-04-26T16:40:04.229Z"
   },
   {
    "duration": 11,
    "start_time": "2022-04-26T16:40:04.325Z"
   },
   {
    "duration": 9,
    "start_time": "2022-04-26T16:40:04.337Z"
   },
   {
    "duration": 52,
    "start_time": "2022-04-26T16:40:04.348Z"
   },
   {
    "duration": 5,
    "start_time": "2022-04-26T16:40:04.402Z"
   },
   {
    "duration": 7,
    "start_time": "2022-04-26T16:40:04.409Z"
   },
   {
    "duration": 34,
    "start_time": "2022-04-26T16:40:04.417Z"
   },
   {
    "duration": 48,
    "start_time": "2022-04-26T16:40:04.453Z"
   },
   {
    "duration": 4,
    "start_time": "2022-04-26T16:40:04.503Z"
   },
   {
    "duration": 104,
    "start_time": "2022-04-26T16:40:04.509Z"
   },
   {
    "duration": 5,
    "start_time": "2022-04-26T16:40:04.614Z"
   },
   {
    "duration": 14,
    "start_time": "2022-04-26T16:40:04.620Z"
   },
   {
    "duration": 5,
    "start_time": "2022-04-26T16:40:04.635Z"
   },
   {
    "duration": 9921,
    "start_time": "2022-04-26T16:40:04.642Z"
   },
   {
    "duration": 19,
    "start_time": "2022-04-26T16:40:21.407Z"
   },
   {
    "duration": 10,
    "start_time": "2022-04-26T16:41:08.195Z"
   },
   {
    "duration": 10,
    "start_time": "2022-04-26T16:41:14.644Z"
   },
   {
    "duration": 5,
    "start_time": "2022-04-26T16:41:30.534Z"
   },
   {
    "duration": 18,
    "start_time": "2022-04-26T16:41:31.929Z"
   },
   {
    "duration": 2225,
    "start_time": "2022-04-26T16:41:39.808Z"
   },
   {
    "duration": 5,
    "start_time": "2022-04-26T16:42:13.926Z"
   },
   {
    "duration": 2405,
    "start_time": "2022-04-26T16:42:14.979Z"
   },
   {
    "duration": 8054,
    "start_time": "2022-04-26T16:42:23.776Z"
   },
   {
    "duration": 159,
    "start_time": "2022-04-26T16:42:31.832Z"
   },
   {
    "duration": 18,
    "start_time": "2022-04-26T16:42:31.993Z"
   },
   {
    "duration": 6,
    "start_time": "2022-04-26T16:42:32.013Z"
   },
   {
    "duration": 11,
    "start_time": "2022-04-26T16:42:32.021Z"
   },
   {
    "duration": 8,
    "start_time": "2022-04-26T16:42:32.034Z"
   },
   {
    "duration": 16,
    "start_time": "2022-04-26T16:42:32.043Z"
   },
   {
    "duration": 78,
    "start_time": "2022-04-26T16:42:32.060Z"
   },
   {
    "duration": 69,
    "start_time": "2022-04-26T16:42:32.140Z"
   },
   {
    "duration": 49,
    "start_time": "2022-04-26T16:42:32.211Z"
   },
   {
    "duration": 17,
    "start_time": "2022-04-26T16:42:32.261Z"
   },
   {
    "duration": 31,
    "start_time": "2022-04-26T16:42:32.280Z"
   },
   {
    "duration": 19,
    "start_time": "2022-04-26T16:42:32.312Z"
   },
   {
    "duration": 39,
    "start_time": "2022-04-26T16:42:32.332Z"
   },
   {
    "duration": 27,
    "start_time": "2022-04-26T16:42:32.373Z"
   },
   {
    "duration": 6,
    "start_time": "2022-04-26T16:42:32.402Z"
   },
   {
    "duration": 9,
    "start_time": "2022-04-26T16:42:32.410Z"
   },
   {
    "duration": 633,
    "start_time": "2022-04-26T16:42:32.421Z"
   },
   {
    "duration": 12,
    "start_time": "2022-04-26T16:42:33.055Z"
   },
   {
    "duration": 544,
    "start_time": "2022-04-26T16:42:33.069Z"
   },
   {
    "duration": 7,
    "start_time": "2022-04-26T16:42:33.614Z"
   },
   {
    "duration": 3,
    "start_time": "2022-04-26T16:42:33.623Z"
   },
   {
    "duration": 21,
    "start_time": "2022-04-26T16:42:33.628Z"
   },
   {
    "duration": 21,
    "start_time": "2022-04-26T16:42:33.651Z"
   },
   {
    "duration": 28,
    "start_time": "2022-04-26T16:42:33.674Z"
   },
   {
    "duration": 25,
    "start_time": "2022-04-26T16:42:33.704Z"
   },
   {
    "duration": 45,
    "start_time": "2022-04-26T16:42:33.730Z"
   },
   {
    "duration": 39,
    "start_time": "2022-04-26T16:42:33.778Z"
   },
   {
    "duration": 162,
    "start_time": "2022-04-26T16:42:33.819Z"
   },
   {
    "duration": 9,
    "start_time": "2022-04-26T16:42:33.982Z"
   },
   {
    "duration": 52,
    "start_time": "2022-04-26T16:42:33.993Z"
   },
   {
    "duration": 59,
    "start_time": "2022-04-26T16:42:34.047Z"
   },
   {
    "duration": 9,
    "start_time": "2022-04-26T16:42:34.107Z"
   },
   {
    "duration": 12,
    "start_time": "2022-04-26T16:42:34.118Z"
   },
   {
    "duration": 6,
    "start_time": "2022-04-26T16:42:34.131Z"
   },
   {
    "duration": 9,
    "start_time": "2022-04-26T16:42:34.138Z"
   },
   {
    "duration": 65,
    "start_time": "2022-04-26T16:42:34.148Z"
   },
   {
    "duration": 27,
    "start_time": "2022-04-26T16:42:34.214Z"
   },
   {
    "duration": 3,
    "start_time": "2022-04-26T16:42:34.243Z"
   },
   {
    "duration": 102,
    "start_time": "2022-04-26T16:42:34.248Z"
   },
   {
    "duration": 4,
    "start_time": "2022-04-26T16:42:34.351Z"
   },
   {
    "duration": 13,
    "start_time": "2022-04-26T16:42:34.357Z"
   },
   {
    "duration": 5,
    "start_time": "2022-04-26T16:42:34.372Z"
   },
   {
    "duration": 2368,
    "start_time": "2022-04-26T16:42:34.378Z"
   },
   {
    "duration": 17,
    "start_time": "2022-04-26T16:42:57.277Z"
   },
   {
    "duration": 2399,
    "start_time": "2022-04-26T16:46:56.655Z"
   },
   {
    "duration": 12,
    "start_time": "2022-04-26T16:57:40.009Z"
   },
   {
    "duration": 5,
    "start_time": "2022-04-26T16:57:49.945Z"
   },
   {
    "duration": 2348,
    "start_time": "2022-04-26T16:57:50.924Z"
   },
   {
    "duration": 11,
    "start_time": "2022-04-26T16:57:56.399Z"
   },
   {
    "duration": 5,
    "start_time": "2022-04-26T17:00:13.785Z"
   },
   {
    "duration": 6580,
    "start_time": "2022-04-26T17:00:20.783Z"
   },
   {
    "duration": 180,
    "start_time": "2022-04-26T17:00:27.365Z"
   },
   {
    "duration": 18,
    "start_time": "2022-04-26T17:00:27.547Z"
   },
   {
    "duration": 3,
    "start_time": "2022-04-26T17:00:27.567Z"
   },
   {
    "duration": 9,
    "start_time": "2022-04-26T17:00:27.572Z"
   },
   {
    "duration": 17,
    "start_time": "2022-04-26T17:00:27.583Z"
   },
   {
    "duration": 15,
    "start_time": "2022-04-26T17:00:27.601Z"
   },
   {
    "duration": 59,
    "start_time": "2022-04-26T17:00:27.618Z"
   },
   {
    "duration": 86,
    "start_time": "2022-04-26T17:00:27.679Z"
   },
   {
    "duration": 63,
    "start_time": "2022-04-26T17:00:27.768Z"
   },
   {
    "duration": 20,
    "start_time": "2022-04-26T17:00:27.832Z"
   },
   {
    "duration": 15,
    "start_time": "2022-04-26T17:00:27.853Z"
   },
   {
    "duration": 34,
    "start_time": "2022-04-26T17:00:27.870Z"
   },
   {
    "duration": 40,
    "start_time": "2022-04-26T17:00:27.906Z"
   },
   {
    "duration": 6,
    "start_time": "2022-04-26T17:00:27.948Z"
   },
   {
    "duration": 5,
    "start_time": "2022-04-26T17:00:27.956Z"
   },
   {
    "duration": 7,
    "start_time": "2022-04-26T17:00:27.963Z"
   },
   {
    "duration": 696,
    "start_time": "2022-04-26T17:00:27.971Z"
   },
   {
    "duration": 13,
    "start_time": "2022-04-26T17:00:28.668Z"
   },
   {
    "duration": 556,
    "start_time": "2022-04-26T17:00:28.683Z"
   },
   {
    "duration": 7,
    "start_time": "2022-04-26T17:00:29.241Z"
   },
   {
    "duration": 4,
    "start_time": "2022-04-26T17:00:29.250Z"
   },
   {
    "duration": 20,
    "start_time": "2022-04-26T17:00:29.255Z"
   },
   {
    "duration": 46,
    "start_time": "2022-04-26T17:00:29.277Z"
   },
   {
    "duration": 8,
    "start_time": "2022-04-26T17:00:29.325Z"
   },
   {
    "duration": 24,
    "start_time": "2022-04-26T17:00:29.335Z"
   },
   {
    "duration": 70,
    "start_time": "2022-04-26T17:00:29.361Z"
   },
   {
    "duration": 30,
    "start_time": "2022-04-26T17:00:29.435Z"
   },
   {
    "duration": 206,
    "start_time": "2022-04-26T17:00:29.466Z"
   },
   {
    "duration": 9,
    "start_time": "2022-04-26T17:00:29.674Z"
   },
   {
    "duration": 121,
    "start_time": "2022-04-26T17:00:29.684Z"
   },
   {
    "duration": 12,
    "start_time": "2022-04-26T17:00:29.808Z"
   },
   {
    "duration": 11,
    "start_time": "2022-04-26T17:00:29.822Z"
   },
   {
    "duration": 18,
    "start_time": "2022-04-26T17:00:29.834Z"
   },
   {
    "duration": 4,
    "start_time": "2022-04-26T17:00:29.854Z"
   },
   {
    "duration": 6,
    "start_time": "2022-04-26T17:00:29.860Z"
   },
   {
    "duration": 63,
    "start_time": "2022-04-26T17:00:29.867Z"
   },
   {
    "duration": 27,
    "start_time": "2022-04-26T17:00:29.931Z"
   },
   {
    "duration": 3,
    "start_time": "2022-04-26T17:00:29.960Z"
   },
   {
    "duration": 127,
    "start_time": "2022-04-26T17:00:29.965Z"
   },
   {
    "duration": 7,
    "start_time": "2022-04-26T17:00:30.102Z"
   },
   {
    "duration": 23,
    "start_time": "2022-04-26T17:00:30.111Z"
   },
   {
    "duration": 5,
    "start_time": "2022-04-26T17:00:30.136Z"
   },
   {
    "duration": 12,
    "start_time": "2022-04-26T17:00:30.143Z"
   },
   {
    "duration": 5,
    "start_time": "2022-04-26T17:01:34.114Z"
   },
   {
    "duration": 114,
    "start_time": "2022-04-26T17:01:34.783Z"
   },
   {
    "duration": 5,
    "start_time": "2022-04-26T17:01:42.977Z"
   },
   {
    "duration": 13,
    "start_time": "2022-04-26T17:01:44.013Z"
   },
   {
    "duration": 5,
    "start_time": "2022-04-26T17:01:48.941Z"
   },
   {
    "duration": 8,
    "start_time": "2022-04-26T17:01:49.626Z"
   },
   {
    "duration": 13,
    "start_time": "2022-04-26T17:04:22.385Z"
   },
   {
    "duration": 8,
    "start_time": "2022-04-26T17:04:30.581Z"
   },
   {
    "duration": 7087,
    "start_time": "2022-04-26T17:04:30.987Z"
   },
   {
    "duration": 3106,
    "start_time": "2022-04-26T17:05:26.166Z"
   },
   {
    "duration": 0,
    "start_time": "2022-04-26T17:05:29.274Z"
   },
   {
    "duration": 0,
    "start_time": "2022-04-26T17:05:29.275Z"
   },
   {
    "duration": 4,
    "start_time": "2022-04-26T17:05:32.051Z"
   },
   {
    "duration": 12,
    "start_time": "2022-04-26T17:05:32.610Z"
   },
   {
    "duration": 6,
    "start_time": "2022-04-26T17:05:35.129Z"
   },
   {
    "duration": 7,
    "start_time": "2022-04-26T17:05:36.442Z"
   },
   {
    "duration": 18,
    "start_time": "2022-04-26T17:07:13.612Z"
   },
   {
    "duration": 5,
    "start_time": "2022-04-26T17:07:21.617Z"
   },
   {
    "duration": 15,
    "start_time": "2022-04-26T17:07:22.052Z"
   },
   {
    "duration": 6615,
    "start_time": "2022-04-26T17:07:27.159Z"
   },
   {
    "duration": 171,
    "start_time": "2022-04-26T17:07:33.776Z"
   },
   {
    "duration": 18,
    "start_time": "2022-04-26T17:07:33.948Z"
   },
   {
    "duration": 3,
    "start_time": "2022-04-26T17:07:33.968Z"
   },
   {
    "duration": 11,
    "start_time": "2022-04-26T17:07:33.973Z"
   },
   {
    "duration": 5,
    "start_time": "2022-04-26T17:07:33.999Z"
   },
   {
    "duration": 20,
    "start_time": "2022-04-26T17:07:34.005Z"
   },
   {
    "duration": 59,
    "start_time": "2022-04-26T17:07:34.026Z"
   },
   {
    "duration": 86,
    "start_time": "2022-04-26T17:07:34.086Z"
   },
   {
    "duration": 63,
    "start_time": "2022-04-26T17:07:34.174Z"
   },
   {
    "duration": 17,
    "start_time": "2022-04-26T17:07:34.238Z"
   },
   {
    "duration": 14,
    "start_time": "2022-04-26T17:07:34.257Z"
   },
   {
    "duration": 38,
    "start_time": "2022-04-26T17:07:34.272Z"
   },
   {
    "duration": 43,
    "start_time": "2022-04-26T17:07:34.311Z"
   },
   {
    "duration": 5,
    "start_time": "2022-04-26T17:07:34.356Z"
   },
   {
    "duration": 11,
    "start_time": "2022-04-26T17:07:34.363Z"
   },
   {
    "duration": 28,
    "start_time": "2022-04-26T17:07:34.376Z"
   },
   {
    "duration": 658,
    "start_time": "2022-04-26T17:07:34.405Z"
   },
   {
    "duration": 13,
    "start_time": "2022-04-26T17:07:35.064Z"
   },
   {
    "duration": 562,
    "start_time": "2022-04-26T17:07:35.078Z"
   },
   {
    "duration": 6,
    "start_time": "2022-04-26T17:07:35.642Z"
   },
   {
    "duration": 5,
    "start_time": "2022-04-26T17:07:35.650Z"
   },
   {
    "duration": 18,
    "start_time": "2022-04-26T17:07:35.657Z"
   },
   {
    "duration": 46,
    "start_time": "2022-04-26T17:07:35.677Z"
   },
   {
    "duration": 9,
    "start_time": "2022-04-26T17:07:35.724Z"
   },
   {
    "duration": 37,
    "start_time": "2022-04-26T17:07:35.734Z"
   },
   {
    "duration": 60,
    "start_time": "2022-04-26T17:07:35.773Z"
   },
   {
    "duration": 26,
    "start_time": "2022-04-26T17:07:35.836Z"
   },
   {
    "duration": 205,
    "start_time": "2022-04-26T17:07:35.864Z"
   },
   {
    "duration": 9,
    "start_time": "2022-04-26T17:07:36.071Z"
   },
   {
    "duration": 70,
    "start_time": "2022-04-26T17:07:36.081Z"
   },
   {
    "duration": 14,
    "start_time": "2022-04-26T17:07:36.201Z"
   },
   {
    "duration": 19,
    "start_time": "2022-04-26T17:07:36.217Z"
   },
   {
    "duration": 21,
    "start_time": "2022-04-26T17:07:36.238Z"
   },
   {
    "duration": 19,
    "start_time": "2022-04-26T17:07:36.260Z"
   },
   {
    "duration": 14,
    "start_time": "2022-04-26T17:07:36.281Z"
   },
   {
    "duration": 42,
    "start_time": "2022-04-26T17:07:36.297Z"
   },
   {
    "duration": 28,
    "start_time": "2022-04-26T17:07:36.340Z"
   },
   {
    "duration": 4,
    "start_time": "2022-04-26T17:07:36.369Z"
   },
   {
    "duration": 109,
    "start_time": "2022-04-26T17:07:36.374Z"
   },
   {
    "duration": 4,
    "start_time": "2022-04-26T17:07:36.484Z"
   },
   {
    "duration": 134,
    "start_time": "2022-04-26T17:07:36.490Z"
   },
   {
    "duration": 0,
    "start_time": "2022-04-26T17:07:36.626Z"
   },
   {
    "duration": 0,
    "start_time": "2022-04-26T17:07:36.627Z"
   },
   {
    "duration": 11,
    "start_time": "2022-04-26T17:07:47.445Z"
   },
   {
    "duration": 4238,
    "start_time": "2022-04-26T17:10:46.631Z"
   },
   {
    "duration": 72,
    "start_time": "2022-04-26T17:11:01.735Z"
   },
   {
    "duration": 5,
    "start_time": "2022-04-26T17:11:11.526Z"
   },
   {
    "duration": 11,
    "start_time": "2022-04-26T17:11:12.309Z"
   },
   {
    "duration": 5,
    "start_time": "2022-04-26T17:11:20.114Z"
   },
   {
    "duration": 8,
    "start_time": "2022-04-26T17:11:21.108Z"
   },
   {
    "duration": 8,
    "start_time": "2022-04-26T17:11:24.198Z"
   },
   {
    "duration": 5,
    "start_time": "2022-04-26T17:13:38.429Z"
   },
   {
    "duration": 13,
    "start_time": "2022-04-26T17:13:39.255Z"
   },
   {
    "duration": 5,
    "start_time": "2022-04-26T17:13:46.165Z"
   },
   {
    "duration": 12,
    "start_time": "2022-04-26T17:13:46.594Z"
   },
   {
    "duration": 5,
    "start_time": "2022-04-26T17:13:51.785Z"
   },
   {
    "duration": 7,
    "start_time": "2022-04-26T17:13:52.412Z"
   },
   {
    "duration": 6,
    "start_time": "2022-04-26T17:14:21.969Z"
   },
   {
    "duration": 5,
    "start_time": "2022-04-26T17:14:29.481Z"
   },
   {
    "duration": 4,
    "start_time": "2022-04-26T17:15:46.561Z"
   },
   {
    "duration": 8,
    "start_time": "2022-04-26T17:15:47.732Z"
   },
   {
    "duration": 6233,
    "start_time": "2022-04-26T17:15:52.614Z"
   },
   {
    "duration": 156,
    "start_time": "2022-04-26T17:15:58.849Z"
   },
   {
    "duration": 18,
    "start_time": "2022-04-26T17:15:59.006Z"
   },
   {
    "duration": 27,
    "start_time": "2022-04-26T17:15:59.026Z"
   },
   {
    "duration": 40,
    "start_time": "2022-04-26T17:15:59.054Z"
   },
   {
    "duration": 35,
    "start_time": "2022-04-26T17:15:59.095Z"
   },
   {
    "duration": 44,
    "start_time": "2022-04-26T17:15:59.131Z"
   },
   {
    "duration": 96,
    "start_time": "2022-04-26T17:15:59.176Z"
   },
   {
    "duration": 62,
    "start_time": "2022-04-26T17:15:59.273Z"
   },
   {
    "duration": 48,
    "start_time": "2022-04-26T17:15:59.338Z"
   },
   {
    "duration": 28,
    "start_time": "2022-04-26T17:15:59.388Z"
   },
   {
    "duration": 16,
    "start_time": "2022-04-26T17:15:59.418Z"
   },
   {
    "duration": 51,
    "start_time": "2022-04-26T17:15:59.436Z"
   },
   {
    "duration": 61,
    "start_time": "2022-04-26T17:15:59.488Z"
   },
   {
    "duration": 6,
    "start_time": "2022-04-26T17:15:59.550Z"
   },
   {
    "duration": 27,
    "start_time": "2022-04-26T17:15:59.558Z"
   },
   {
    "duration": 14,
    "start_time": "2022-04-26T17:15:59.586Z"
   },
   {
    "duration": 653,
    "start_time": "2022-04-26T17:15:59.602Z"
   },
   {
    "duration": 13,
    "start_time": "2022-04-26T17:16:00.256Z"
   },
   {
    "duration": 555,
    "start_time": "2022-04-26T17:16:00.271Z"
   },
   {
    "duration": 7,
    "start_time": "2022-04-26T17:16:00.828Z"
   },
   {
    "duration": 14,
    "start_time": "2022-04-26T17:16:00.837Z"
   },
   {
    "duration": 31,
    "start_time": "2022-04-26T17:16:00.853Z"
   },
   {
    "duration": 22,
    "start_time": "2022-04-26T17:16:00.885Z"
   },
   {
    "duration": 9,
    "start_time": "2022-04-26T17:16:00.908Z"
   },
   {
    "duration": 24,
    "start_time": "2022-04-26T17:16:00.918Z"
   },
   {
    "duration": 85,
    "start_time": "2022-04-26T17:16:00.944Z"
   },
   {
    "duration": 27,
    "start_time": "2022-04-26T17:16:01.032Z"
   },
   {
    "duration": 192,
    "start_time": "2022-04-26T17:16:01.061Z"
   },
   {
    "duration": 9,
    "start_time": "2022-04-26T17:16:01.255Z"
   },
   {
    "duration": 62,
    "start_time": "2022-04-26T17:16:01.265Z"
   },
   {
    "duration": 11,
    "start_time": "2022-04-26T17:16:01.329Z"
   },
   {
    "duration": 60,
    "start_time": "2022-04-26T17:16:01.341Z"
   },
   {
    "duration": 12,
    "start_time": "2022-04-26T17:16:01.403Z"
   },
   {
    "duration": 73,
    "start_time": "2022-04-26T17:16:01.416Z"
   },
   {
    "duration": 8,
    "start_time": "2022-04-26T17:16:01.491Z"
   },
   {
    "duration": 41,
    "start_time": "2022-04-26T17:16:01.501Z"
   },
   {
    "duration": 27,
    "start_time": "2022-04-26T17:16:01.544Z"
   },
   {
    "duration": 54,
    "start_time": "2022-04-26T17:16:01.573Z"
   },
   {
    "duration": 85,
    "start_time": "2022-04-26T17:16:01.629Z"
   },
   {
    "duration": 4,
    "start_time": "2022-04-26T17:16:01.716Z"
   },
   {
    "duration": 37,
    "start_time": "2022-04-26T17:16:01.722Z"
   },
   {
    "duration": 6,
    "start_time": "2022-04-26T17:16:01.761Z"
   },
   {
    "duration": 29,
    "start_time": "2022-04-26T17:16:01.769Z"
   },
   {
    "duration": 12,
    "start_time": "2022-04-26T17:21:18.081Z"
   },
   {
    "duration": 0,
    "start_time": "2022-04-26T17:21:26.848Z"
   },
   {
    "duration": 0,
    "start_time": "2022-04-26T17:21:26.849Z"
   },
   {
    "duration": 76,
    "start_time": "2022-04-26T17:21:29.516Z"
   },
   {
    "duration": 4,
    "start_time": "2022-04-26T17:21:30.591Z"
   },
   {
    "duration": 11,
    "start_time": "2022-04-26T17:21:31.599Z"
   },
   {
    "duration": 195,
    "start_time": "2022-04-26T17:22:30.845Z"
   },
   {
    "duration": 790,
    "start_time": "2022-04-26T17:22:34.022Z"
   },
   {
    "duration": 5,
    "start_time": "2022-04-26T17:22:50.409Z"
   },
   {
    "duration": 2981,
    "start_time": "2022-04-26T17:22:53.528Z"
   },
   {
    "duration": 10,
    "start_time": "2022-04-26T17:22:59.395Z"
   },
   {
    "duration": 3133,
    "start_time": "2022-04-26T17:23:09.497Z"
   },
   {
    "duration": 8,
    "start_time": "2022-04-26T17:23:17.073Z"
   },
   {
    "duration": 7,
    "start_time": "2022-04-26T17:23:21.051Z"
   },
   {
    "duration": 3150,
    "start_time": "2022-04-26T17:23:22.294Z"
   },
   {
    "duration": 3040,
    "start_time": "2022-04-26T17:28:32.379Z"
   },
   {
    "duration": 3065,
    "start_time": "2022-04-26T17:28:53.347Z"
   },
   {
    "duration": 3099,
    "start_time": "2022-04-26T17:29:11.515Z"
   },
   {
    "duration": 781,
    "start_time": "2022-04-26T17:29:17.950Z"
   },
   {
    "duration": 6648,
    "start_time": "2022-04-26T17:29:29.754Z"
   },
   {
    "duration": 170,
    "start_time": "2022-04-26T17:29:36.404Z"
   },
   {
    "duration": 19,
    "start_time": "2022-04-26T17:29:36.576Z"
   },
   {
    "duration": 5,
    "start_time": "2022-04-26T17:29:36.596Z"
   },
   {
    "duration": 10,
    "start_time": "2022-04-26T17:29:36.603Z"
   },
   {
    "duration": 7,
    "start_time": "2022-04-26T17:29:36.614Z"
   },
   {
    "duration": 18,
    "start_time": "2022-04-26T17:29:36.623Z"
   },
   {
    "duration": 83,
    "start_time": "2022-04-26T17:29:36.642Z"
   },
   {
    "duration": 75,
    "start_time": "2022-04-26T17:29:36.727Z"
   },
   {
    "duration": 60,
    "start_time": "2022-04-26T17:29:36.805Z"
   },
   {
    "duration": 35,
    "start_time": "2022-04-26T17:29:36.866Z"
   },
   {
    "duration": 20,
    "start_time": "2022-04-26T17:29:36.903Z"
   },
   {
    "duration": 17,
    "start_time": "2022-04-26T17:29:36.925Z"
   },
   {
    "duration": 62,
    "start_time": "2022-04-26T17:29:36.944Z"
   },
   {
    "duration": 8,
    "start_time": "2022-04-26T17:29:37.007Z"
   },
   {
    "duration": 7,
    "start_time": "2022-04-26T17:29:37.017Z"
   },
   {
    "duration": 9,
    "start_time": "2022-04-26T17:29:37.025Z"
   },
   {
    "duration": 692,
    "start_time": "2022-04-26T17:29:37.036Z"
   },
   {
    "duration": 12,
    "start_time": "2022-04-26T17:29:37.730Z"
   },
   {
    "duration": 578,
    "start_time": "2022-04-26T17:29:37.744Z"
   },
   {
    "duration": 6,
    "start_time": "2022-04-26T17:29:38.324Z"
   },
   {
    "duration": 4,
    "start_time": "2022-04-26T17:29:38.332Z"
   },
   {
    "duration": 18,
    "start_time": "2022-04-26T17:29:38.337Z"
   },
   {
    "duration": 47,
    "start_time": "2022-04-26T17:29:38.357Z"
   },
   {
    "duration": 12,
    "start_time": "2022-04-26T17:29:38.406Z"
   },
   {
    "duration": 26,
    "start_time": "2022-04-26T17:29:38.420Z"
   },
   {
    "duration": 62,
    "start_time": "2022-04-26T17:29:38.448Z"
   },
   {
    "duration": 30,
    "start_time": "2022-04-26T17:29:38.514Z"
   },
   {
    "duration": 188,
    "start_time": "2022-04-26T17:29:38.546Z"
   },
   {
    "duration": 9,
    "start_time": "2022-04-26T17:29:38.736Z"
   },
   {
    "duration": 84,
    "start_time": "2022-04-26T17:29:38.746Z"
   },
   {
    "duration": 11,
    "start_time": "2022-04-26T17:29:38.832Z"
   },
   {
    "duration": 9,
    "start_time": "2022-04-26T17:29:38.844Z"
   },
   {
    "duration": 69,
    "start_time": "2022-04-26T17:29:38.854Z"
   },
   {
    "duration": 9,
    "start_time": "2022-04-26T17:29:38.925Z"
   },
   {
    "duration": 8,
    "start_time": "2022-04-26T17:29:38.935Z"
   },
   {
    "duration": 37,
    "start_time": "2022-04-26T17:29:38.944Z"
   },
   {
    "duration": 53,
    "start_time": "2022-04-26T17:29:38.983Z"
   },
   {
    "duration": 3,
    "start_time": "2022-04-26T17:29:39.038Z"
   },
   {
    "duration": 77,
    "start_time": "2022-04-26T17:29:39.043Z"
   },
   {
    "duration": 921,
    "start_time": "2022-04-26T17:29:39.121Z"
   },
   {
    "duration": 0,
    "start_time": "2022-04-26T17:29:40.044Z"
   },
   {
    "duration": 0,
    "start_time": "2022-04-26T17:29:40.046Z"
   },
   {
    "duration": 0,
    "start_time": "2022-04-26T17:29:40.047Z"
   },
   {
    "duration": 7,
    "start_time": "2022-04-26T17:30:03.135Z"
   },
   {
    "duration": 6,
    "start_time": "2022-04-26T17:30:20.417Z"
   },
   {
    "duration": 8,
    "start_time": "2022-04-26T17:30:32.629Z"
   },
   {
    "duration": 8,
    "start_time": "2022-04-26T17:31:23.752Z"
   },
   {
    "duration": 7,
    "start_time": "2022-04-26T17:31:40.317Z"
   },
   {
    "duration": 5,
    "start_time": "2022-04-26T17:31:41.831Z"
   },
   {
    "duration": 8,
    "start_time": "2022-04-26T17:31:42.422Z"
   },
   {
    "duration": 5,
    "start_time": "2022-04-26T17:32:25.832Z"
   },
   {
    "duration": 18,
    "start_time": "2022-04-26T17:32:26.850Z"
   },
   {
    "duration": 5,
    "start_time": "2022-04-26T17:32:52.232Z"
   },
   {
    "duration": 7,
    "start_time": "2022-04-26T17:32:53.585Z"
   },
   {
    "duration": 7,
    "start_time": "2022-04-26T17:33:53.918Z"
   },
   {
    "duration": 20,
    "start_time": "2022-04-26T17:33:58.636Z"
   },
   {
    "duration": 6488,
    "start_time": "2022-04-26T17:36:31.871Z"
   },
   {
    "duration": 154,
    "start_time": "2022-04-26T17:36:38.361Z"
   },
   {
    "duration": 18,
    "start_time": "2022-04-26T17:36:38.516Z"
   },
   {
    "duration": 3,
    "start_time": "2022-04-26T17:36:38.536Z"
   },
   {
    "duration": 8,
    "start_time": "2022-04-26T17:36:38.541Z"
   },
   {
    "duration": 4,
    "start_time": "2022-04-26T17:36:38.550Z"
   },
   {
    "duration": 18,
    "start_time": "2022-04-26T17:36:38.555Z"
   },
   {
    "duration": 81,
    "start_time": "2022-04-26T17:36:38.575Z"
   },
   {
    "duration": 80,
    "start_time": "2022-04-26T17:36:38.658Z"
   },
   {
    "duration": 77,
    "start_time": "2022-04-26T17:36:38.742Z"
   },
   {
    "duration": 28,
    "start_time": "2022-04-26T17:36:38.821Z"
   },
   {
    "duration": 21,
    "start_time": "2022-04-26T17:36:38.851Z"
   },
   {
    "duration": 50,
    "start_time": "2022-04-26T17:36:38.873Z"
   },
   {
    "duration": 77,
    "start_time": "2022-04-26T17:36:38.925Z"
   },
   {
    "duration": 8,
    "start_time": "2022-04-26T17:36:39.004Z"
   },
   {
    "duration": 10,
    "start_time": "2022-04-26T17:36:39.014Z"
   },
   {
    "duration": 6,
    "start_time": "2022-04-26T17:36:39.026Z"
   },
   {
    "duration": 652,
    "start_time": "2022-04-26T17:36:39.034Z"
   },
   {
    "duration": 17,
    "start_time": "2022-04-26T17:36:39.688Z"
   },
   {
    "duration": 523,
    "start_time": "2022-04-26T17:36:39.706Z"
   },
   {
    "duration": 9,
    "start_time": "2022-04-26T17:36:40.230Z"
   },
   {
    "duration": 5,
    "start_time": "2022-04-26T17:36:40.240Z"
   },
   {
    "duration": 24,
    "start_time": "2022-04-26T17:36:40.247Z"
   },
   {
    "duration": 46,
    "start_time": "2022-04-26T17:36:40.273Z"
   },
   {
    "duration": 11,
    "start_time": "2022-04-26T17:36:40.321Z"
   },
   {
    "duration": 25,
    "start_time": "2022-04-26T17:36:40.334Z"
   },
   {
    "duration": 63,
    "start_time": "2022-04-26T17:36:40.360Z"
   },
   {
    "duration": 43,
    "start_time": "2022-04-26T17:36:40.428Z"
   },
   {
    "duration": 210,
    "start_time": "2022-04-26T17:36:40.473Z"
   },
   {
    "duration": 18,
    "start_time": "2022-04-26T17:36:40.685Z"
   },
   {
    "duration": 108,
    "start_time": "2022-04-26T17:36:40.705Z"
   },
   {
    "duration": 11,
    "start_time": "2022-04-26T17:36:40.814Z"
   },
   {
    "duration": 10,
    "start_time": "2022-04-26T17:36:40.827Z"
   },
   {
    "duration": 15,
    "start_time": "2022-04-26T17:36:40.838Z"
   },
   {
    "duration": 46,
    "start_time": "2022-04-26T17:36:40.854Z"
   },
   {
    "duration": 4,
    "start_time": "2022-04-26T17:36:40.901Z"
   },
   {
    "duration": 34,
    "start_time": "2022-04-26T17:36:40.907Z"
   },
   {
    "duration": 27,
    "start_time": "2022-04-26T17:36:40.942Z"
   },
   {
    "duration": 4,
    "start_time": "2022-04-26T17:36:40.971Z"
   },
   {
    "duration": 76,
    "start_time": "2022-04-26T17:36:41.000Z"
   },
   {
    "duration": 7,
    "start_time": "2022-04-26T17:36:41.078Z"
   },
   {
    "duration": 12,
    "start_time": "2022-04-26T17:36:41.099Z"
   },
   {
    "duration": 6,
    "start_time": "2022-04-26T17:36:41.113Z"
   },
   {
    "duration": 139,
    "start_time": "2022-04-26T17:36:41.121Z"
   },
   {
    "duration": 3593,
    "start_time": "2022-04-26T17:37:00.064Z"
   },
   {
    "duration": 17,
    "start_time": "2022-04-26T17:37:11.553Z"
   },
   {
    "duration": 44,
    "start_time": "2022-04-26T17:38:42.718Z"
   },
   {
    "duration": 6253,
    "start_time": "2022-04-26T17:38:53.862Z"
   },
   {
    "duration": 164,
    "start_time": "2022-04-26T17:39:00.118Z"
   },
   {
    "duration": 25,
    "start_time": "2022-04-26T17:39:00.284Z"
   },
   {
    "duration": 4,
    "start_time": "2022-04-26T17:39:00.312Z"
   },
   {
    "duration": 8,
    "start_time": "2022-04-26T17:39:00.318Z"
   },
   {
    "duration": 4,
    "start_time": "2022-04-26T17:39:00.328Z"
   },
   {
    "duration": 16,
    "start_time": "2022-04-26T17:39:00.334Z"
   },
   {
    "duration": 96,
    "start_time": "2022-04-26T17:39:00.352Z"
   },
   {
    "duration": 73,
    "start_time": "2022-04-26T17:39:00.449Z"
   },
   {
    "duration": 52,
    "start_time": "2022-04-26T17:39:00.525Z"
   },
   {
    "duration": 35,
    "start_time": "2022-04-26T17:39:00.579Z"
   },
   {
    "duration": 15,
    "start_time": "2022-04-26T17:39:00.616Z"
   },
   {
    "duration": 19,
    "start_time": "2022-04-26T17:39:00.632Z"
   },
   {
    "duration": 61,
    "start_time": "2022-04-26T17:39:00.653Z"
   },
   {
    "duration": 8,
    "start_time": "2022-04-26T17:39:00.716Z"
   },
   {
    "duration": 12,
    "start_time": "2022-04-26T17:39:00.726Z"
   },
   {
    "duration": 13,
    "start_time": "2022-04-26T17:39:00.739Z"
   },
   {
    "duration": 691,
    "start_time": "2022-04-26T17:39:00.753Z"
   },
   {
    "duration": 16,
    "start_time": "2022-04-26T17:39:01.446Z"
   },
   {
    "duration": 607,
    "start_time": "2022-04-26T17:39:01.464Z"
   },
   {
    "duration": 7,
    "start_time": "2022-04-26T17:39:02.072Z"
   },
   {
    "duration": 20,
    "start_time": "2022-04-26T17:39:02.081Z"
   },
   {
    "duration": 17,
    "start_time": "2022-04-26T17:39:02.102Z"
   },
   {
    "duration": 21,
    "start_time": "2022-04-26T17:39:02.121Z"
   },
   {
    "duration": 9,
    "start_time": "2022-04-26T17:39:02.144Z"
   },
   {
    "duration": 51,
    "start_time": "2022-04-26T17:39:02.155Z"
   },
   {
    "duration": 49,
    "start_time": "2022-04-26T17:39:02.208Z"
   },
   {
    "duration": 27,
    "start_time": "2022-04-26T17:39:02.260Z"
   },
   {
    "duration": 172,
    "start_time": "2022-04-26T17:39:02.289Z"
   },
   {
    "duration": 9,
    "start_time": "2022-04-26T17:39:02.463Z"
   },
   {
    "duration": 66,
    "start_time": "2022-04-26T17:39:02.474Z"
   },
   {
    "duration": 61,
    "start_time": "2022-04-26T17:39:02.541Z"
   },
   {
    "duration": 9,
    "start_time": "2022-04-26T17:39:02.603Z"
   },
   {
    "duration": 14,
    "start_time": "2022-04-26T17:39:02.613Z"
   },
   {
    "duration": 7,
    "start_time": "2022-04-26T17:39:02.629Z"
   },
   {
    "duration": 8,
    "start_time": "2022-04-26T17:39:02.637Z"
   },
   {
    "duration": 75,
    "start_time": "2022-04-26T17:39:02.647Z"
   },
   {
    "duration": 31,
    "start_time": "2022-04-26T17:39:02.724Z"
   },
   {
    "duration": 5,
    "start_time": "2022-04-26T17:39:02.757Z"
   },
   {
    "duration": 87,
    "start_time": "2022-04-26T17:39:02.763Z"
   },
   {
    "duration": 8,
    "start_time": "2022-04-26T17:39:02.852Z"
   },
   {
    "duration": 10,
    "start_time": "2022-04-26T17:39:02.862Z"
   },
   {
    "duration": 9,
    "start_time": "2022-04-26T17:39:02.874Z"
   },
   {
    "duration": 122,
    "start_time": "2022-04-26T17:39:02.885Z"
   },
   {
    "duration": 30,
    "start_time": "2022-04-26T17:39:41.196Z"
   },
   {
    "duration": 6,
    "start_time": "2022-04-26T17:42:18.345Z"
   },
   {
    "duration": 8,
    "start_time": "2022-04-26T17:42:21.422Z"
   },
   {
    "duration": 6,
    "start_time": "2022-04-26T17:42:21.948Z"
   },
   {
    "duration": 9,
    "start_time": "2022-04-26T17:44:17.520Z"
   },
   {
    "duration": 2954,
    "start_time": "2022-04-26T17:44:25.038Z"
   },
   {
    "duration": 6210,
    "start_time": "2022-04-26T17:44:52.138Z"
   },
   {
    "duration": 161,
    "start_time": "2022-04-26T17:44:58.350Z"
   },
   {
    "duration": 18,
    "start_time": "2022-04-26T17:44:58.513Z"
   },
   {
    "duration": 3,
    "start_time": "2022-04-26T17:44:58.533Z"
   },
   {
    "duration": 9,
    "start_time": "2022-04-26T17:44:58.537Z"
   },
   {
    "duration": 3,
    "start_time": "2022-04-26T17:44:58.547Z"
   },
   {
    "duration": 16,
    "start_time": "2022-04-26T17:44:58.552Z"
   },
   {
    "duration": 86,
    "start_time": "2022-04-26T17:44:58.569Z"
   },
   {
    "duration": 81,
    "start_time": "2022-04-26T17:44:58.657Z"
   },
   {
    "duration": 60,
    "start_time": "2022-04-26T17:44:58.741Z"
   },
   {
    "duration": 18,
    "start_time": "2022-04-26T17:44:58.802Z"
   },
   {
    "duration": 14,
    "start_time": "2022-04-26T17:44:58.821Z"
   },
   {
    "duration": 17,
    "start_time": "2022-04-26T17:44:58.837Z"
   },
   {
    "duration": 60,
    "start_time": "2022-04-26T17:44:58.856Z"
   },
   {
    "duration": 7,
    "start_time": "2022-04-26T17:44:58.918Z"
   },
   {
    "duration": 9,
    "start_time": "2022-04-26T17:44:58.926Z"
   },
   {
    "duration": 6,
    "start_time": "2022-04-26T17:44:58.937Z"
   },
   {
    "duration": 715,
    "start_time": "2022-04-26T17:44:58.945Z"
   },
   {
    "duration": 13,
    "start_time": "2022-04-26T17:44:59.661Z"
   },
   {
    "duration": 542,
    "start_time": "2022-04-26T17:44:59.675Z"
   },
   {
    "duration": 8,
    "start_time": "2022-04-26T17:45:00.218Z"
   },
   {
    "duration": 6,
    "start_time": "2022-04-26T17:45:00.227Z"
   },
   {
    "duration": 22,
    "start_time": "2022-04-26T17:45:00.235Z"
   },
   {
    "duration": 50,
    "start_time": "2022-04-26T17:45:00.259Z"
   },
   {
    "duration": 9,
    "start_time": "2022-04-26T17:45:00.311Z"
   },
   {
    "duration": 31,
    "start_time": "2022-04-26T17:45:00.322Z"
   },
   {
    "duration": 65,
    "start_time": "2022-04-26T17:45:00.354Z"
   },
   {
    "duration": 31,
    "start_time": "2022-04-26T17:45:00.423Z"
   },
   {
    "duration": 191,
    "start_time": "2022-04-26T17:45:00.455Z"
   },
   {
    "duration": 11,
    "start_time": "2022-04-26T17:45:00.649Z"
   },
   {
    "duration": 82,
    "start_time": "2022-04-26T17:45:00.662Z"
   },
   {
    "duration": 60,
    "start_time": "2022-04-26T17:45:00.746Z"
   },
   {
    "duration": 9,
    "start_time": "2022-04-26T17:45:00.807Z"
   },
   {
    "duration": 21,
    "start_time": "2022-04-26T17:45:00.818Z"
   },
   {
    "duration": 7,
    "start_time": "2022-04-26T17:45:00.841Z"
   },
   {
    "duration": 9,
    "start_time": "2022-04-26T17:45:00.850Z"
   },
   {
    "duration": 69,
    "start_time": "2022-04-26T17:45:00.860Z"
   },
   {
    "duration": 31,
    "start_time": "2022-04-26T17:45:00.930Z"
   },
   {
    "duration": 4,
    "start_time": "2022-04-26T17:45:00.962Z"
   },
   {
    "duration": 103,
    "start_time": "2022-04-26T17:45:00.968Z"
   },
   {
    "duration": 7,
    "start_time": "2022-04-26T17:45:01.073Z"
   },
   {
    "duration": 25,
    "start_time": "2022-04-26T17:45:01.081Z"
   },
   {
    "duration": 22,
    "start_time": "2022-04-26T17:45:01.108Z"
   },
   {
    "duration": 126,
    "start_time": "2022-04-26T17:45:01.131Z"
   },
   {
    "duration": 11,
    "start_time": "2022-04-26T17:45:45.584Z"
   },
   {
    "duration": 8,
    "start_time": "2022-04-26T17:45:50.732Z"
   },
   {
    "duration": 13,
    "start_time": "2022-04-26T17:45:51.325Z"
   },
   {
    "duration": 35,
    "start_time": "2022-04-26T17:47:23.359Z"
   },
   {
    "duration": 36,
    "start_time": "2022-04-26T17:48:14.165Z"
   },
   {
    "duration": 32,
    "start_time": "2022-04-26T17:48:18.698Z"
   },
   {
    "duration": 34,
    "start_time": "2022-04-26T17:48:26.386Z"
   },
   {
    "duration": 30,
    "start_time": "2022-04-26T17:48:27.662Z"
   },
   {
    "duration": 4,
    "start_time": "2022-04-26T17:48:28.133Z"
   },
   {
    "duration": 73,
    "start_time": "2022-04-26T17:48:30.084Z"
   },
   {
    "duration": 8,
    "start_time": "2022-04-26T17:48:30.961Z"
   },
   {
    "duration": 13,
    "start_time": "2022-04-26T17:48:33.561Z"
   },
   {
    "duration": 5,
    "start_time": "2022-04-26T17:48:36.558Z"
   },
   {
    "duration": 8,
    "start_time": "2022-04-26T17:48:37.694Z"
   },
   {
    "duration": 7,
    "start_time": "2022-04-26T17:55:23.037Z"
   },
   {
    "duration": 8,
    "start_time": "2022-04-26T17:55:59.137Z"
   },
   {
    "duration": 2982,
    "start_time": "2022-04-26T17:56:48.349Z"
   },
   {
    "duration": 9,
    "start_time": "2022-04-26T17:56:57.810Z"
   },
   {
    "duration": 6546,
    "start_time": "2022-04-26T18:19:01.107Z"
   },
   {
    "duration": 185,
    "start_time": "2022-04-26T18:19:07.656Z"
   },
   {
    "duration": 21,
    "start_time": "2022-04-26T18:19:07.843Z"
   },
   {
    "duration": 4,
    "start_time": "2022-04-26T18:19:07.866Z"
   },
   {
    "duration": 10,
    "start_time": "2022-04-26T18:19:07.872Z"
   },
   {
    "duration": 18,
    "start_time": "2022-04-26T18:19:07.883Z"
   },
   {
    "duration": 17,
    "start_time": "2022-04-26T18:19:07.903Z"
   },
   {
    "duration": 81,
    "start_time": "2022-04-26T18:19:07.921Z"
   },
   {
    "duration": 73,
    "start_time": "2022-04-26T18:19:08.003Z"
   },
   {
    "duration": 60,
    "start_time": "2022-04-26T18:19:08.079Z"
   },
   {
    "duration": 19,
    "start_time": "2022-04-26T18:19:08.140Z"
   },
   {
    "duration": 14,
    "start_time": "2022-04-26T18:19:08.160Z"
   },
   {
    "duration": 39,
    "start_time": "2022-04-26T18:19:08.176Z"
   },
   {
    "duration": 39,
    "start_time": "2022-04-26T18:19:08.217Z"
   },
   {
    "duration": 6,
    "start_time": "2022-04-26T18:19:08.257Z"
   },
   {
    "duration": 11,
    "start_time": "2022-04-26T18:19:08.264Z"
   },
   {
    "duration": 27,
    "start_time": "2022-04-26T18:19:08.277Z"
   },
   {
    "duration": 677,
    "start_time": "2022-04-26T18:19:08.305Z"
   },
   {
    "duration": 12,
    "start_time": "2022-04-26T18:19:08.984Z"
   },
   {
    "duration": 500,
    "start_time": "2022-04-26T18:19:08.997Z"
   },
   {
    "duration": 7,
    "start_time": "2022-04-26T18:19:09.500Z"
   },
   {
    "duration": 8,
    "start_time": "2022-04-26T18:19:09.509Z"
   },
   {
    "duration": 31,
    "start_time": "2022-04-26T18:19:09.518Z"
   },
   {
    "duration": 23,
    "start_time": "2022-04-26T18:19:09.551Z"
   },
   {
    "duration": 26,
    "start_time": "2022-04-26T18:19:09.575Z"
   },
   {
    "duration": 25,
    "start_time": "2022-04-26T18:19:09.602Z"
   },
   {
    "duration": 46,
    "start_time": "2022-04-26T18:19:09.629Z"
   },
   {
    "duration": 36,
    "start_time": "2022-04-26T18:19:09.679Z"
   },
   {
    "duration": 153,
    "start_time": "2022-04-26T18:19:09.717Z"
   },
   {
    "duration": 10,
    "start_time": "2022-04-26T18:19:09.872Z"
   },
   {
    "duration": 142,
    "start_time": "2022-04-26T18:19:09.884Z"
   },
   {
    "duration": 11,
    "start_time": "2022-04-26T18:19:10.028Z"
   },
   {
    "duration": 8,
    "start_time": "2022-04-26T18:19:10.041Z"
   },
   {
    "duration": 50,
    "start_time": "2022-04-26T18:19:10.050Z"
   },
   {
    "duration": 4,
    "start_time": "2022-04-26T18:19:10.102Z"
   },
   {
    "duration": 18,
    "start_time": "2022-04-26T18:19:10.108Z"
   },
   {
    "duration": 35,
    "start_time": "2022-04-26T18:19:10.128Z"
   },
   {
    "duration": 36,
    "start_time": "2022-04-26T18:19:10.164Z"
   },
   {
    "duration": 5,
    "start_time": "2022-04-26T18:19:10.202Z"
   },
   {
    "duration": 76,
    "start_time": "2022-04-26T18:19:10.209Z"
   },
   {
    "duration": 8,
    "start_time": "2022-04-26T18:19:10.299Z"
   },
   {
    "duration": 15,
    "start_time": "2022-04-26T18:19:10.309Z"
   },
   {
    "duration": 5,
    "start_time": "2022-04-26T18:19:10.326Z"
   },
   {
    "duration": 10,
    "start_time": "2022-04-26T18:19:10.332Z"
   },
   {
    "duration": 9,
    "start_time": "2022-04-26T18:19:10.344Z"
   },
   {
    "duration": 10,
    "start_time": "2022-04-26T18:19:10.354Z"
   },
   {
    "duration": 40,
    "start_time": "2022-04-26T18:19:10.365Z"
   },
   {
    "duration": 32368,
    "start_time": "2022-04-27T16:48:18.836Z"
   },
   {
    "duration": 221,
    "start_time": "2022-04-27T16:48:51.209Z"
   },
   {
    "duration": 35,
    "start_time": "2022-04-27T16:48:51.433Z"
   },
   {
    "duration": 25,
    "start_time": "2022-04-27T16:48:51.470Z"
   },
   {
    "duration": 11,
    "start_time": "2022-04-27T16:48:51.498Z"
   },
   {
    "duration": 6,
    "start_time": "2022-04-27T16:48:51.511Z"
   },
   {
    "duration": 38,
    "start_time": "2022-04-27T16:48:51.520Z"
   },
   {
    "duration": 105,
    "start_time": "2022-04-27T16:48:51.592Z"
   },
   {
    "duration": 123,
    "start_time": "2022-04-27T16:48:51.699Z"
   },
   {
    "duration": 96,
    "start_time": "2022-04-27T16:48:51.824Z"
   },
   {
    "duration": 28,
    "start_time": "2022-04-27T16:48:51.923Z"
   },
   {
    "duration": 50,
    "start_time": "2022-04-27T16:48:51.954Z"
   },
   {
    "duration": 28,
    "start_time": "2022-04-27T16:48:52.006Z"
   },
   {
    "duration": 99,
    "start_time": "2022-04-27T16:48:52.038Z"
   },
   {
    "duration": 12,
    "start_time": "2022-04-27T16:48:52.140Z"
   },
   {
    "duration": 38,
    "start_time": "2022-04-27T16:48:52.155Z"
   },
   {
    "duration": 13,
    "start_time": "2022-04-27T16:48:52.196Z"
   },
   {
    "duration": 1027,
    "start_time": "2022-04-27T16:48:52.212Z"
   },
   {
    "duration": 19,
    "start_time": "2022-04-27T16:48:53.241Z"
   },
   {
    "duration": 805,
    "start_time": "2022-04-27T16:48:53.263Z"
   },
   {
    "duration": 22,
    "start_time": "2022-04-27T16:48:54.071Z"
   },
   {
    "duration": 6,
    "start_time": "2022-04-27T16:48:54.096Z"
   },
   {
    "duration": 26,
    "start_time": "2022-04-27T16:48:54.104Z"
   },
   {
    "duration": 66,
    "start_time": "2022-04-27T16:48:54.133Z"
   },
   {
    "duration": 13,
    "start_time": "2022-04-27T16:48:54.202Z"
   },
   {
    "duration": 44,
    "start_time": "2022-04-27T16:48:54.218Z"
   },
   {
    "duration": 94,
    "start_time": "2022-04-27T16:48:54.265Z"
   },
   {
    "duration": 62,
    "start_time": "2022-04-27T16:48:54.362Z"
   },
   {
    "duration": 1369,
    "start_time": "2022-04-27T16:48:54.426Z"
   },
   {
    "duration": 15,
    "start_time": "2022-04-27T16:48:55.797Z"
   },
   {
    "duration": 133,
    "start_time": "2022-04-27T16:48:55.814Z"
   },
   {
    "duration": 19,
    "start_time": "2022-04-27T16:48:55.994Z"
   },
   {
    "duration": 12,
    "start_time": "2022-04-27T16:48:56.016Z"
   },
   {
    "duration": 18,
    "start_time": "2022-04-27T16:48:56.030Z"
   },
   {
    "duration": 43,
    "start_time": "2022-04-27T16:48:56.050Z"
   },
   {
    "duration": 6,
    "start_time": "2022-04-27T16:48:56.096Z"
   },
   {
    "duration": 50,
    "start_time": "2022-04-27T16:48:56.103Z"
   },
   {
    "duration": 83,
    "start_time": "2022-04-27T16:48:56.155Z"
   },
   {
    "duration": 6,
    "start_time": "2022-04-27T16:48:56.240Z"
   },
   {
    "duration": 1399,
    "start_time": "2022-04-27T16:48:56.248Z"
   },
   {
    "duration": 415,
    "start_time": "2022-04-27T16:48:57.652Z"
   },
   {
    "duration": 293,
    "start_time": "2022-04-27T16:48:58.070Z"
   },
   {
    "duration": 323,
    "start_time": "2022-04-27T16:48:58.365Z"
   },
   {
    "duration": 706,
    "start_time": "2022-04-27T16:48:58.691Z"
   },
   {
    "duration": 725,
    "start_time": "2022-04-27T16:48:59.400Z"
   },
   {
    "duration": 1349,
    "start_time": "2022-04-27T16:49:00.127Z"
   },
   {
    "duration": 359,
    "start_time": "2022-04-27T16:49:01.479Z"
   },
   {
    "duration": 131383,
    "start_time": "2022-04-28T16:14:00.029Z"
   },
   {
    "duration": 182,
    "start_time": "2022-04-28T16:16:11.414Z"
   },
   {
    "duration": 47,
    "start_time": "2022-04-28T16:16:11.598Z"
   },
   {
    "duration": 4,
    "start_time": "2022-04-28T16:16:11.647Z"
   },
   {
    "duration": 8,
    "start_time": "2022-04-28T16:16:11.653Z"
   },
   {
    "duration": 4,
    "start_time": "2022-04-28T16:16:11.663Z"
   },
   {
    "duration": 44,
    "start_time": "2022-04-28T16:16:11.669Z"
   },
   {
    "duration": 75,
    "start_time": "2022-04-28T16:16:11.715Z"
   },
   {
    "duration": 93,
    "start_time": "2022-04-28T16:16:11.792Z"
   },
   {
    "duration": 75,
    "start_time": "2022-04-28T16:16:11.889Z"
   },
   {
    "duration": 21,
    "start_time": "2022-04-28T16:16:11.965Z"
   },
   {
    "duration": 32,
    "start_time": "2022-04-28T16:16:11.988Z"
   },
   {
    "duration": 30,
    "start_time": "2022-04-28T16:16:12.021Z"
   },
   {
    "duration": 81,
    "start_time": "2022-04-28T16:16:12.052Z"
   },
   {
    "duration": 7,
    "start_time": "2022-04-28T16:16:12.135Z"
   },
   {
    "duration": 7,
    "start_time": "2022-04-28T16:16:12.144Z"
   },
   {
    "duration": 8,
    "start_time": "2022-04-28T16:16:12.153Z"
   },
   {
    "duration": 648,
    "start_time": "2022-04-28T16:16:12.163Z"
   },
   {
    "duration": 16,
    "start_time": "2022-04-28T16:16:12.814Z"
   },
   {
    "duration": 549,
    "start_time": "2022-04-28T16:16:12.832Z"
   },
   {
    "duration": 7,
    "start_time": "2022-04-28T16:16:13.383Z"
   },
   {
    "duration": 16,
    "start_time": "2022-04-28T16:16:13.391Z"
   },
   {
    "duration": 24,
    "start_time": "2022-04-28T16:16:13.409Z"
   },
   {
    "duration": 25,
    "start_time": "2022-04-28T16:16:13.435Z"
   },
   {
    "duration": 11,
    "start_time": "2022-04-28T16:16:13.462Z"
   },
   {
    "duration": 67,
    "start_time": "2022-04-28T16:16:13.475Z"
   },
   {
    "duration": 67,
    "start_time": "2022-04-28T16:16:13.544Z"
   },
   {
    "duration": 38,
    "start_time": "2022-04-28T16:16:13.615Z"
   },
   {
    "duration": 165,
    "start_time": "2022-04-28T16:16:13.655Z"
   },
   {
    "duration": 11,
    "start_time": "2022-04-28T16:16:13.822Z"
   },
   {
    "duration": 120,
    "start_time": "2022-04-28T16:16:13.834Z"
   },
   {
    "duration": 19,
    "start_time": "2022-04-28T16:16:14.008Z"
   },
   {
    "duration": 10,
    "start_time": "2022-04-28T16:16:14.029Z"
   },
   {
    "duration": 14,
    "start_time": "2022-04-28T16:16:14.041Z"
   },
   {
    "duration": 6,
    "start_time": "2022-04-28T16:16:14.057Z"
   },
   {
    "duration": 43,
    "start_time": "2022-04-28T16:16:14.065Z"
   },
   {
    "duration": 45,
    "start_time": "2022-04-28T16:16:14.111Z"
   },
   {
    "duration": 53,
    "start_time": "2022-04-28T16:16:14.158Z"
   },
   {
    "duration": 5,
    "start_time": "2022-04-28T16:16:14.212Z"
   },
   {
    "duration": 107,
    "start_time": "2022-04-28T16:16:14.219Z"
   },
   {
    "duration": 9,
    "start_time": "2022-04-28T16:16:14.328Z"
   },
   {
    "duration": 15,
    "start_time": "2022-04-28T16:16:14.340Z"
   },
   {
    "duration": 43,
    "start_time": "2022-04-28T16:16:14.379Z"
   },
   {
    "duration": 9,
    "start_time": "2022-04-28T16:16:14.424Z"
   },
   {
    "duration": 13,
    "start_time": "2022-04-28T16:16:14.434Z"
   },
   {
    "duration": 5,
    "start_time": "2022-04-28T16:16:14.449Z"
   },
   {
    "duration": 12,
    "start_time": "2022-04-28T16:16:14.455Z"
   },
   {
    "duration": 152,
    "start_time": "2022-04-29T08:53:26.216Z"
   },
   {
    "duration": 18,
    "start_time": "2022-04-29T08:53:26.370Z"
   },
   {
    "duration": 3,
    "start_time": "2022-04-29T08:53:26.390Z"
   },
   {
    "duration": 7,
    "start_time": "2022-04-29T08:53:26.395Z"
   },
   {
    "duration": 3,
    "start_time": "2022-04-29T08:53:26.404Z"
   },
   {
    "duration": 40,
    "start_time": "2022-04-29T08:53:26.408Z"
   },
   {
    "duration": 59,
    "start_time": "2022-04-29T08:53:26.450Z"
   },
   {
    "duration": 79,
    "start_time": "2022-04-29T08:53:26.510Z"
   },
   {
    "duration": 60,
    "start_time": "2022-04-29T08:53:26.592Z"
   },
   {
    "duration": 17,
    "start_time": "2022-04-29T08:53:26.653Z"
   },
   {
    "duration": 14,
    "start_time": "2022-04-29T08:53:26.672Z"
   },
   {
    "duration": 18,
    "start_time": "2022-04-29T08:53:26.688Z"
   },
   {
    "duration": 66,
    "start_time": "2022-04-29T08:53:26.708Z"
   },
   {
    "duration": 6,
    "start_time": "2022-04-29T08:53:26.776Z"
   },
   {
    "duration": 6,
    "start_time": "2022-04-29T08:53:26.784Z"
   },
   {
    "duration": 7,
    "start_time": "2022-04-29T08:53:26.791Z"
   },
   {
    "duration": 488,
    "start_time": "2022-04-29T08:53:26.800Z"
   },
   {
    "duration": 12,
    "start_time": "2022-04-29T08:53:27.290Z"
   },
   {
    "duration": 411,
    "start_time": "2022-04-29T08:53:27.304Z"
   },
   {
    "duration": 7,
    "start_time": "2022-04-29T08:53:27.717Z"
   },
   {
    "duration": 4,
    "start_time": "2022-04-29T08:53:27.725Z"
   },
   {
    "duration": 31,
    "start_time": "2022-04-29T08:53:27.731Z"
   },
   {
    "duration": 23,
    "start_time": "2022-04-29T08:53:27.764Z"
   },
   {
    "duration": 9,
    "start_time": "2022-04-29T08:53:27.789Z"
   },
   {
    "duration": 25,
    "start_time": "2022-04-29T08:53:27.799Z"
   },
   {
    "duration": 46,
    "start_time": "2022-04-29T08:53:27.847Z"
   },
   {
    "duration": 28,
    "start_time": "2022-04-29T08:53:27.897Z"
   },
   {
    "duration": 197,
    "start_time": "2022-04-29T08:53:27.927Z"
   },
   {
    "duration": 10,
    "start_time": "2022-04-29T08:53:28.126Z"
   },
   {
    "duration": 58,
    "start_time": "2022-04-29T08:53:28.137Z"
   },
   {
    "duration": 57,
    "start_time": "2022-04-29T08:53:28.197Z"
   },
   {
    "duration": 9,
    "start_time": "2022-04-29T08:53:28.255Z"
   },
   {
    "duration": 17,
    "start_time": "2022-04-29T08:53:28.265Z"
   },
   {
    "duration": 5,
    "start_time": "2022-04-29T08:53:28.284Z"
   },
   {
    "duration": 7,
    "start_time": "2022-04-29T08:53:28.290Z"
   },
   {
    "duration": 57,
    "start_time": "2022-04-29T08:53:28.298Z"
   },
   {
    "duration": 29,
    "start_time": "2022-04-29T08:53:28.356Z"
   },
   {
    "duration": 4,
    "start_time": "2022-04-29T08:53:28.387Z"
   },
   {
    "duration": 84,
    "start_time": "2022-04-29T08:53:28.392Z"
   },
   {
    "duration": 7,
    "start_time": "2022-04-29T08:53:28.478Z"
   },
   {
    "duration": 16,
    "start_time": "2022-04-29T08:53:28.486Z"
   },
   {
    "duration": 5,
    "start_time": "2022-04-29T08:53:28.503Z"
   },
   {
    "duration": 10,
    "start_time": "2022-04-29T08:53:28.510Z"
   },
   {
    "duration": 9,
    "start_time": "2022-04-29T08:53:28.522Z"
   },
   {
    "duration": 8,
    "start_time": "2022-04-29T08:53:28.532Z"
   },
   {
    "duration": 8,
    "start_time": "2022-04-29T08:53:28.547Z"
   },
   {
    "duration": 4,
    "start_time": "2022-04-29T08:53:28.558Z"
   },
   {
    "duration": 233,
    "start_time": "2022-04-29T08:54:11.293Z"
   },
   {
    "duration": 104,
    "start_time": "2022-04-29T08:54:25.761Z"
   },
   {
    "duration": 16,
    "start_time": "2022-04-29T08:56:31.321Z"
   },
   {
    "duration": 13,
    "start_time": "2022-04-29T08:56:33.353Z"
   },
   {
    "duration": 14,
    "start_time": "2022-04-29T08:56:52.930Z"
   },
   {
    "duration": 13,
    "start_time": "2022-04-29T08:57:18.893Z"
   },
   {
    "duration": 13,
    "start_time": "2022-04-29T09:00:03.992Z"
   },
   {
    "duration": 13,
    "start_time": "2022-04-29T09:00:37.823Z"
   },
   {
    "duration": 13,
    "start_time": "2022-04-29T09:02:15.488Z"
   },
   {
    "duration": 14,
    "start_time": "2022-04-29T09:02:42.726Z"
   },
   {
    "duration": 10,
    "start_time": "2022-04-29T09:02:52.230Z"
   },
   {
    "duration": 9,
    "start_time": "2022-04-29T09:03:00.655Z"
   },
   {
    "duration": 9,
    "start_time": "2022-04-29T09:03:06.433Z"
   },
   {
    "duration": 14,
    "start_time": "2022-04-29T09:03:16.407Z"
   },
   {
    "duration": 11,
    "start_time": "2022-04-29T09:03:52.758Z"
   },
   {
    "duration": 4,
    "start_time": "2022-04-29T09:04:17.503Z"
   },
   {
    "duration": 166,
    "start_time": "2022-04-29T09:04:17.509Z"
   },
   {
    "duration": 22,
    "start_time": "2022-04-29T09:04:17.676Z"
   },
   {
    "duration": 4,
    "start_time": "2022-04-29T09:04:17.700Z"
   },
   {
    "duration": 9,
    "start_time": "2022-04-29T09:04:17.705Z"
   },
   {
    "duration": 33,
    "start_time": "2022-04-29T09:04:17.715Z"
   },
   {
    "duration": 17,
    "start_time": "2022-04-29T09:04:17.750Z"
   },
   {
    "duration": 52,
    "start_time": "2022-04-29T09:04:17.768Z"
   },
   {
    "duration": 68,
    "start_time": "2022-04-29T09:04:17.822Z"
   },
   {
    "duration": 58,
    "start_time": "2022-04-29T09:04:17.892Z"
   },
   {
    "duration": 17,
    "start_time": "2022-04-29T09:04:17.951Z"
   },
   {
    "duration": 15,
    "start_time": "2022-04-29T09:04:17.970Z"
   },
   {
    "duration": 20,
    "start_time": "2022-04-29T09:04:17.986Z"
   },
   {
    "duration": 69,
    "start_time": "2022-04-29T09:04:18.007Z"
   },
   {
    "duration": 6,
    "start_time": "2022-04-29T09:04:18.078Z"
   },
   {
    "duration": 6,
    "start_time": "2022-04-29T09:04:18.086Z"
   },
   {
    "duration": 8,
    "start_time": "2022-04-29T09:04:18.093Z"
   },
   {
    "duration": 450,
    "start_time": "2022-04-29T09:04:18.103Z"
   },
   {
    "duration": 13,
    "start_time": "2022-04-29T09:04:18.555Z"
   },
   {
    "duration": 428,
    "start_time": "2022-04-29T09:04:18.569Z"
   },
   {
    "duration": 8,
    "start_time": "2022-04-29T09:04:18.999Z"
   },
   {
    "duration": 4,
    "start_time": "2022-04-29T09:04:19.009Z"
   },
   {
    "duration": 41,
    "start_time": "2022-04-29T09:04:19.014Z"
   },
   {
    "duration": 22,
    "start_time": "2022-04-29T09:04:19.056Z"
   },
   {
    "duration": 9,
    "start_time": "2022-04-29T09:04:19.080Z"
   },
   {
    "duration": 26,
    "start_time": "2022-04-29T09:04:19.091Z"
   },
   {
    "duration": 67,
    "start_time": "2022-04-29T09:04:19.118Z"
   },
   {
    "duration": 29,
    "start_time": "2022-04-29T09:04:19.188Z"
   },
   {
    "duration": 128,
    "start_time": "2022-04-29T09:04:19.219Z"
   },
   {
    "duration": 6,
    "start_time": "2022-04-29T09:04:19.349Z"
   },
   {
    "duration": 52,
    "start_time": "2022-04-29T09:04:19.357Z"
   },
   {
    "duration": 11,
    "start_time": "2022-04-29T09:04:19.411Z"
   },
   {
    "duration": 31,
    "start_time": "2022-04-29T09:04:19.423Z"
   },
   {
    "duration": 15,
    "start_time": "2022-04-29T09:04:19.456Z"
   },
   {
    "duration": 5,
    "start_time": "2022-04-29T09:04:19.473Z"
   },
   {
    "duration": 7,
    "start_time": "2022-04-29T09:04:19.479Z"
   },
   {
    "duration": 59,
    "start_time": "2022-04-29T09:04:19.488Z"
   },
   {
    "duration": 30,
    "start_time": "2022-04-29T09:04:19.549Z"
   },
   {
    "duration": 4,
    "start_time": "2022-04-29T09:04:19.581Z"
   },
   {
    "duration": 87,
    "start_time": "2022-04-29T09:04:19.587Z"
   },
   {
    "duration": 8,
    "start_time": "2022-04-29T09:04:19.676Z"
   },
   {
    "duration": 18,
    "start_time": "2022-04-29T09:04:19.686Z"
   },
   {
    "duration": 5,
    "start_time": "2022-04-29T09:04:19.705Z"
   },
   {
    "duration": 20,
    "start_time": "2022-04-29T09:04:19.711Z"
   },
   {
    "duration": 20,
    "start_time": "2022-04-29T09:04:19.733Z"
   },
   {
    "duration": 9,
    "start_time": "2022-04-29T09:04:19.755Z"
   },
   {
    "duration": 10,
    "start_time": "2022-04-29T09:04:19.766Z"
   },
   {
    "duration": 9,
    "start_time": "2022-04-29T09:08:06.063Z"
   },
   {
    "duration": 9,
    "start_time": "2022-04-29T09:08:22.628Z"
   },
   {
    "duration": 18,
    "start_time": "2022-04-29T09:08:40.350Z"
   },
   {
    "duration": 17,
    "start_time": "2022-04-29T09:08:50.892Z"
   },
   {
    "duration": 9,
    "start_time": "2022-04-29T09:08:57.168Z"
   }
  ],
  "kernelspec": {
   "display_name": "Python 3 (ipykernel)",
   "language": "python",
   "name": "python3"
  },
  "language_info": {
   "codemirror_mode": {
    "name": "ipython",
    "version": 3
   },
   "file_extension": ".py",
   "mimetype": "text/x-python",
   "name": "python",
   "nbconvert_exporter": "python",
   "pygments_lexer": "ipython3",
   "version": "3.9.7"
  },
  "toc": {
   "base_numbering": 1,
   "nav_menu": {},
   "number_sections": true,
   "sideBar": true,
   "skip_h1_title": true,
   "title_cell": "Содержание",
   "title_sidebar": "Contents",
   "toc_cell": true,
   "toc_position": {
    "height": "calc(100% - 180px)",
    "left": "10px",
    "top": "150px",
    "width": "366.391px"
   },
   "toc_section_display": true,
   "toc_window_display": true
  }
 },
 "nbformat": 4,
 "nbformat_minor": 2
}

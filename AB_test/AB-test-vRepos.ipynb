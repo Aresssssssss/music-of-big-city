{
 "cells": [
  {
   "cell_type": "markdown",
   "metadata": {
    "toc": true
   },
   "source": [
    "<h1>Содержание<span class=\"tocSkip\"></span></h1>\n",
    "<div class=\"toc\"><ul class=\"toc-item\"><li><span><a href=\"#Знакомство-с-данными-и-подготовка-к-анализу\" data-toc-modified-id=\"Знакомство-с-данными-и-подготовка-к-анализу-1\"><span class=\"toc-item-num\">1&nbsp;&nbsp;</span>Знакомство с данными и подготовка к анализу</a></span><ul class=\"toc-item\"><li><span><a href=\"#Открытие-файлов-с-данными-и-изучение-общей-информации\" data-toc-modified-id=\"Открытие-файлов-с-данными-и-изучение-общей-информации-1.1\"><span class=\"toc-item-num\">1.1&nbsp;&nbsp;</span>Открытие файлов с данными и изучение общей информации</a></span></li><li><span><a href=\"#Подготовка-данных-к-анализу\" data-toc-modified-id=\"Подготовка-данных-к-анализу-1.2\"><span class=\"toc-item-num\">1.2&nbsp;&nbsp;</span>Подготовка данных к анализу</a></span></li><li><span><a href=\"#Вывод-по-подготовке-данных\" data-toc-modified-id=\"Вывод-по-подготовке-данных-1.3\"><span class=\"toc-item-num\">1.3&nbsp;&nbsp;</span>Вывод по подготовке данных</a></span></li></ul></li><li><span><a href=\"#Приоритизация-гипотез\" data-toc-modified-id=\"Приоритизация-гипотез-2\"><span class=\"toc-item-num\">2&nbsp;&nbsp;</span>Приоритизация гипотез</a></span><ul class=\"toc-item\"><li><span><a href=\"#Приоритизация-гипотез-с-помощью-фреймворка-ICE\" data-toc-modified-id=\"Приоритизация-гипотез-с-помощью-фреймворка-ICE-2.1\"><span class=\"toc-item-num\">2.1&nbsp;&nbsp;</span>Приоритизация гипотез с помощью фреймворка <code>ICE</code></a></span></li><li><span><a href=\"#Приоритизация-гипотез-с-помощью-фреймворка-RICE\" data-toc-modified-id=\"Приоритизация-гипотез-с-помощью-фреймворка-RICE-2.2\"><span class=\"toc-item-num\">2.2&nbsp;&nbsp;</span>Приоритизация гипотез с помощью фреймворка <code>RICE</code></a></span></li><li><span><a href=\"#Сравнение-измененийй-приоритизации-гипотез-с-помощью-фреймворков-ICE-и-RICE\" data-toc-modified-id=\"Сравнение-измененийй-приоритизации-гипотез-с-помощью-фреймворков-ICE-и-RICE-2.3\"><span class=\"toc-item-num\">2.3&nbsp;&nbsp;</span>Сравнение измененийй приоритизации гипотез с помощью фреймворков <code>ICE</code> и <code>RICE</code></a></span></li><li><span><a href=\"#Вывод-по-приоритизации-гипотез\" data-toc-modified-id=\"Вывод-по-приоритизации-гипотез-2.4\"><span class=\"toc-item-num\">2.4&nbsp;&nbsp;</span>Вывод по приоритизации гипотез</a></span></li></ul></li><li><span><a href=\"#Анализ-A/B-теста\" data-toc-modified-id=\"Анализ-A/B-теста-3\"><span class=\"toc-item-num\">3&nbsp;&nbsp;</span>Анализ A/B-теста</a></span><ul class=\"toc-item\"><li><span><a href=\"#График-кумулятивной-выручки-по-группам\" data-toc-modified-id=\"График-кумулятивной-выручки-по-группам-3.1\"><span class=\"toc-item-num\">3.1&nbsp;&nbsp;</span>График кумулятивной выручки по группам</a></span></li><li><span><a href=\"#График-кумулятивного-среднего-чека-по-группам\" data-toc-modified-id=\"График-кумулятивного-среднего-чека-по-группам-3.2\"><span class=\"toc-item-num\">3.2&nbsp;&nbsp;</span>График кумулятивного среднего чека по группам</a></span></li><li><span><a href=\"#График-относительного-изменения-кумулятивного-среднего-чека-группы-B-к-группе-A\" data-toc-modified-id=\"График-относительного-изменения-кумулятивного-среднего-чека-группы-B-к-группе-A-3.3\"><span class=\"toc-item-num\">3.3&nbsp;&nbsp;</span>График относительного изменения кумулятивного среднего чека группы B к группе A</a></span></li><li><span><a href=\"#График-кумулятивной-конверсии-по-группам\" data-toc-modified-id=\"График-кумулятивной-конверсии-по-группам-3.4\"><span class=\"toc-item-num\">3.4&nbsp;&nbsp;</span>График кумулятивной конверсии по группам</a></span></li><li><span><a href=\"#График-относительного-изменения-кумулятивной-конверсии-группы-B-к-группе-A\" data-toc-modified-id=\"График-относительного-изменения-кумулятивной-конверсии-группы-B-к-группе-A-3.5\"><span class=\"toc-item-num\">3.5&nbsp;&nbsp;</span>График относительного изменения кумулятивной конверсии группы B к группе A</a></span></li><li><span><a href=\"#Точечный-график-количества-заказов-по-пользователям\" data-toc-modified-id=\"Точечный-график-количества-заказов-по-пользователям-3.6\"><span class=\"toc-item-num\">3.6&nbsp;&nbsp;</span>Точечный график количества заказов по пользователям</a></span></li><li><span><a href=\"#Расчет-95-го-и-99-го-перцентилей-количества-заказов-на-пользователя\" data-toc-modified-id=\"Расчет-95-го-и-99-го-перцентилей-количества-заказов-на-пользователя-3.7\"><span class=\"toc-item-num\">3.7&nbsp;&nbsp;</span>Расчет 95-го и 99-го перцентилей количества заказов на пользователя</a></span></li><li><span><a href=\"#Точечный-график-стоимости-заказов\" data-toc-modified-id=\"Точечный-график-стоимости-заказов-3.8\"><span class=\"toc-item-num\">3.8&nbsp;&nbsp;</span>Точечный график стоимости заказов</a></span></li><li><span><a href=\"#Расчет-95-го-и-99-го-перцентилей-стоимости-заказов\" data-toc-modified-id=\"Расчет-95-го-и-99-го-перцентилей-стоимости-заказов-3.9\"><span class=\"toc-item-num\">3.9&nbsp;&nbsp;</span>Расчет 95-го и 99-го перцентилей стоимости заказов</a></span></li><li><span><a href=\"#Статистическая-значимость-различий-в-конверсии-между-группами-по-«сырым»-данным\" data-toc-modified-id=\"Статистическая-значимость-различий-в-конверсии-между-группами-по-«сырым»-данным-3.10\"><span class=\"toc-item-num\">3.10&nbsp;&nbsp;</span>Статистическая значимость различий в конверсии между группами по «сырым» данным</a></span></li><li><span><a href=\"#Статистическая-значимость-различий-в-среднем-чеке-заказа-между-группами-по-«сырым»-данным\" data-toc-modified-id=\"Статистическая-значимость-различий-в-среднем-чеке-заказа-между-группами-по-«сырым»-данным-3.11\"><span class=\"toc-item-num\">3.11&nbsp;&nbsp;</span>Статистическая значимость различий в среднем чеке заказа между группами по «сырым» данным</a></span></li><li><span><a href=\"#Статистическая-значимость-различий-в-конверсии-между-группами-по-«очищенным»-данным\" data-toc-modified-id=\"Статистическая-значимость-различий-в-конверсии-между-группами-по-«очищенным»-данным-3.12\"><span class=\"toc-item-num\">3.12&nbsp;&nbsp;</span>Статистическая значимость различий в конверсии между группами по «очищенным» данным</a></span></li><li><span><a href=\"#Статистическая-значимость-различий-в-среднем-чеке-заказа-между-группами-по-«очищенным»-данным\" data-toc-modified-id=\"Статистическая-значимость-различий-в-среднем-чеке-заказа-между-группами-по-«очищенным»-данным-3.13\"><span class=\"toc-item-num\">3.13&nbsp;&nbsp;</span>Статистическая значимость различий в среднем чеке заказа между группами по «очищенным» данным</a></span></li><li><span><a href=\"#Решение-по-результатам-теста\" data-toc-modified-id=\"Решение-по-результатам-теста-3.14\"><span class=\"toc-item-num\">3.14&nbsp;&nbsp;</span>Решение по результатам теста</a></span></li></ul></li><li><span><a href=\"#Общий-вывод\" data-toc-modified-id=\"Общий-вывод-4\"><span class=\"toc-item-num\">4&nbsp;&nbsp;</span>Общий вывод</a></span></li><li><span><a href=\"#Общий-комментарий\" data-toc-modified-id=\"Общий-комментарий-5\"><span class=\"toc-item-num\">5&nbsp;&nbsp;</span>Общий комментарий</a></span></li></ul></div>"
   ]
  },
  {
   "cell_type": "markdown",
   "metadata": {},
   "source": [
    "# Приоритизация гипотез, проведение A/B-теста и анализ его результатов"
   ]
  },
  {
   "cell_type": "markdown",
   "metadata": {},
   "source": [
    "В данном проекте нам выделена роль аналитика крупного интернет-магазина. Вместе с отделом маркетинга мы подготовили список гипотез для увеличения выручки.\n",
    "\n",
    "**Цель исследования**: приоритизировать гипотезы, запустить A/B-тест и проанализировать результаты.\n",
    "\n",
    "**Описание данных**\n",
    "\n",
    "Данные с описанием гипотез и их параметрами, которые хранятся в таблице по адресу `/datasets/hypothesis.csv`:\n",
    "- Hypothesis — краткое описание гипотезы;\n",
    "- Reach — охват пользователей по 10-балльной шкале;\n",
    "- Impact — влияние на пользователей по 10-балльной шкале;\n",
    "- Confidence — уверенность в гипотезе по 10-балльной шкале;\n",
    "- Efforts — затраты ресурсов на проверку гипотезы по 10-балльной шкале.\n",
    "\n",
    "Данные с описанием результатов А/В-теста (описание заказа), которые хранятся в таблице по адресу `/datasets/orders.csv`:\n",
    "- transactionId — идентификатор заказа;\n",
    "- visitorId — идентификатор пользователя, совершившего заказ;\n",
    "- date — дата, когда был совершён заказ;\n",
    "- revenue — выручка заказа;\n",
    "- group — группа A/B-теста, в которую попал заказ.\n",
    "\n",
    "Данные с описанием результатов А/В-теста (количество пользователей), которые хранятся в таблице по адресу `/datasets/visitors.csv`:\n",
    "- date — дата;\n",
    "- group — группа A/B-теста;\n",
    "- visitors — количество пользователей в указанную дату в указанной группе A/B-теста"
   ]
  },
  {
   "cell_type": "markdown",
   "metadata": {},
   "source": [
    "## Знакомство с данными и подготовка к анализу"
   ]
  },
  {
   "cell_type": "markdown",
   "metadata": {},
   "source": [
    "Перед началом работы с данными импортируем все необходимые библиотеки:"
   ]
  },
  {
   "cell_type": "code",
   "execution_count": 1,
   "metadata": {},
   "outputs": [],
   "source": [
    "import pandas as pd\n",
    "import scipy.stats as stats\n",
    "import datetime as dt\n",
    "import numpy as np\n",
    "import seaborn as sns\n",
    "import matplotlib.pyplot as plt\n",
    "from pandas.plotting import register_matplotlib_converters\n",
    "import warnings\n",
    "pd.set_option(\"display.precision\", 2)\n",
    "pd.options.display.max_colwidth = 120"
   ]
  },
  {
   "cell_type": "markdown",
   "metadata": {},
   "source": [
    "### Открытие файлов с данными и изучение общей информации"
   ]
  },
  {
   "cell_type": "markdown",
   "metadata": {},
   "source": [
    "С помощью библиотеки Pandas откроем файлы и ознакомимся с данными:"
   ]
  },
  {
   "cell_type": "code",
   "execution_count": 2,
   "metadata": {},
   "outputs": [
    {
     "data": {
      "text/html": [
       "<div>\n",
       "<style scoped>\n",
       "    .dataframe tbody tr th:only-of-type {\n",
       "        vertical-align: middle;\n",
       "    }\n",
       "\n",
       "    .dataframe tbody tr th {\n",
       "        vertical-align: top;\n",
       "    }\n",
       "\n",
       "    .dataframe thead th {\n",
       "        text-align: right;\n",
       "    }\n",
       "</style>\n",
       "<table border=\"1\" class=\"dataframe\">\n",
       "  <thead>\n",
       "    <tr style=\"text-align: right;\">\n",
       "      <th></th>\n",
       "      <th>Hypothesis</th>\n",
       "      <th>Reach</th>\n",
       "      <th>Impact</th>\n",
       "      <th>Confidence</th>\n",
       "      <th>Efforts</th>\n",
       "    </tr>\n",
       "  </thead>\n",
       "  <tbody>\n",
       "    <tr>\n",
       "      <th>0</th>\n",
       "      <td>Добавить два новых канала привлечения трафика, что позволит привлекать на 30% больше пользователей</td>\n",
       "      <td>3</td>\n",
       "      <td>10</td>\n",
       "      <td>8</td>\n",
       "      <td>6</td>\n",
       "    </tr>\n",
       "    <tr>\n",
       "      <th>1</th>\n",
       "      <td>Запустить собственную службу доставки, что сократит срок доставки заказов</td>\n",
       "      <td>2</td>\n",
       "      <td>5</td>\n",
       "      <td>4</td>\n",
       "      <td>10</td>\n",
       "    </tr>\n",
       "    <tr>\n",
       "      <th>2</th>\n",
       "      <td>Добавить блоки рекомендаций товаров на сайт интернет магазина, чтобы повысить конверсию и средний чек заказа</td>\n",
       "      <td>8</td>\n",
       "      <td>3</td>\n",
       "      <td>7</td>\n",
       "      <td>3</td>\n",
       "    </tr>\n",
       "    <tr>\n",
       "      <th>3</th>\n",
       "      <td>Изменить структура категорий, что увеличит конверсию, т.к. пользователи быстрее найдут нужный товар</td>\n",
       "      <td>8</td>\n",
       "      <td>3</td>\n",
       "      <td>3</td>\n",
       "      <td>8</td>\n",
       "    </tr>\n",
       "    <tr>\n",
       "      <th>4</th>\n",
       "      <td>Изменить цвет фона главной страницы, чтобы увеличить вовлеченность пользователей</td>\n",
       "      <td>3</td>\n",
       "      <td>1</td>\n",
       "      <td>1</td>\n",
       "      <td>1</td>\n",
       "    </tr>\n",
       "    <tr>\n",
       "      <th>5</th>\n",
       "      <td>Добавить страницу отзывов клиентов о магазине, что позволит увеличить количество заказов</td>\n",
       "      <td>3</td>\n",
       "      <td>2</td>\n",
       "      <td>2</td>\n",
       "      <td>3</td>\n",
       "    </tr>\n",
       "    <tr>\n",
       "      <th>6</th>\n",
       "      <td>Показать на главной странице баннеры с актуальными акциями и распродажами, чтобы увеличить конверсию</td>\n",
       "      <td>5</td>\n",
       "      <td>3</td>\n",
       "      <td>8</td>\n",
       "      <td>3</td>\n",
       "    </tr>\n",
       "    <tr>\n",
       "      <th>7</th>\n",
       "      <td>Добавить форму подписки на все основные страницы, чтобы собрать базу клиентов для email-рассылок</td>\n",
       "      <td>10</td>\n",
       "      <td>7</td>\n",
       "      <td>8</td>\n",
       "      <td>5</td>\n",
       "    </tr>\n",
       "    <tr>\n",
       "      <th>8</th>\n",
       "      <td>Запустить акцию, дающую скидку на товар в день рождения</td>\n",
       "      <td>1</td>\n",
       "      <td>9</td>\n",
       "      <td>9</td>\n",
       "      <td>5</td>\n",
       "    </tr>\n",
       "  </tbody>\n",
       "</table>\n",
       "</div>"
      ],
      "text/plain": [
       "                                                                                                     Hypothesis  \\\n",
       "0            Добавить два новых канала привлечения трафика, что позволит привлекать на 30% больше пользователей   \n",
       "1                                     Запустить собственную службу доставки, что сократит срок доставки заказов   \n",
       "2  Добавить блоки рекомендаций товаров на сайт интернет магазина, чтобы повысить конверсию и средний чек заказа   \n",
       "3           Изменить структура категорий, что увеличит конверсию, т.к. пользователи быстрее найдут нужный товар   \n",
       "4                              Изменить цвет фона главной страницы, чтобы увеличить вовлеченность пользователей   \n",
       "5                      Добавить страницу отзывов клиентов о магазине, что позволит увеличить количество заказов   \n",
       "6          Показать на главной странице баннеры с актуальными акциями и распродажами, чтобы увеличить конверсию   \n",
       "7              Добавить форму подписки на все основные страницы, чтобы собрать базу клиентов для email-рассылок   \n",
       "8                                                       Запустить акцию, дающую скидку на товар в день рождения   \n",
       "\n",
       "   Reach  Impact  Confidence  Efforts  \n",
       "0      3      10           8        6  \n",
       "1      2       5           4       10  \n",
       "2      8       3           7        3  \n",
       "3      8       3           3        8  \n",
       "4      3       1           1        1  \n",
       "5      3       2           2        3  \n",
       "6      5       3           8        3  \n",
       "7     10       7           8        5  \n",
       "8      1       9           9        5  "
      ]
     },
     "metadata": {},
     "output_type": "display_data"
    },
    {
     "data": {
      "text/html": [
       "<div>\n",
       "<style scoped>\n",
       "    .dataframe tbody tr th:only-of-type {\n",
       "        vertical-align: middle;\n",
       "    }\n",
       "\n",
       "    .dataframe tbody tr th {\n",
       "        vertical-align: top;\n",
       "    }\n",
       "\n",
       "    .dataframe thead th {\n",
       "        text-align: right;\n",
       "    }\n",
       "</style>\n",
       "<table border=\"1\" class=\"dataframe\">\n",
       "  <thead>\n",
       "    <tr style=\"text-align: right;\">\n",
       "      <th></th>\n",
       "      <th>transactionId</th>\n",
       "      <th>visitorId</th>\n",
       "      <th>date</th>\n",
       "      <th>revenue</th>\n",
       "      <th>group</th>\n",
       "    </tr>\n",
       "  </thead>\n",
       "  <tbody>\n",
       "    <tr>\n",
       "      <th>194</th>\n",
       "      <td>3959068944</td>\n",
       "      <td>2517777104</td>\n",
       "      <td>2019-08-02</td>\n",
       "      <td>11115</td>\n",
       "      <td>B</td>\n",
       "    </tr>\n",
       "    <tr>\n",
       "      <th>100</th>\n",
       "      <td>804934578</td>\n",
       "      <td>1738775963</td>\n",
       "      <td>2019-08-01</td>\n",
       "      <td>3240</td>\n",
       "      <td>B</td>\n",
       "    </tr>\n",
       "    <tr>\n",
       "      <th>128</th>\n",
       "      <td>965802885</td>\n",
       "      <td>916720205</td>\n",
       "      <td>2019-08-22</td>\n",
       "      <td>6441</td>\n",
       "      <td>B</td>\n",
       "    </tr>\n",
       "    <tr>\n",
       "      <th>1153</th>\n",
       "      <td>2764584088</td>\n",
       "      <td>1562205279</td>\n",
       "      <td>2019-08-14</td>\n",
       "      <td>2955</td>\n",
       "      <td>B</td>\n",
       "    </tr>\n",
       "    <tr>\n",
       "      <th>830</th>\n",
       "      <td>217480737</td>\n",
       "      <td>2846507753</td>\n",
       "      <td>2019-08-30</td>\n",
       "      <td>1120</td>\n",
       "      <td>B</td>\n",
       "    </tr>\n",
       "    <tr>\n",
       "      <th>671</th>\n",
       "      <td>3924423491</td>\n",
       "      <td>280073872</td>\n",
       "      <td>2019-08-09</td>\n",
       "      <td>654</td>\n",
       "      <td>B</td>\n",
       "    </tr>\n",
       "    <tr>\n",
       "      <th>1112</th>\n",
       "      <td>1149756812</td>\n",
       "      <td>1985475298</td>\n",
       "      <td>2019-08-12</td>\n",
       "      <td>290</td>\n",
       "      <td>B</td>\n",
       "    </tr>\n",
       "    <tr>\n",
       "      <th>881</th>\n",
       "      <td>1845245000</td>\n",
       "      <td>1507665514</td>\n",
       "      <td>2019-08-05</td>\n",
       "      <td>1600</td>\n",
       "      <td>A</td>\n",
       "    </tr>\n",
       "    <tr>\n",
       "      <th>694</th>\n",
       "      <td>3165578945</td>\n",
       "      <td>1253818784</td>\n",
       "      <td>2019-08-09</td>\n",
       "      <td>9290</td>\n",
       "      <td>B</td>\n",
       "    </tr>\n",
       "    <tr>\n",
       "      <th>459</th>\n",
       "      <td>863448794</td>\n",
       "      <td>2738601405</td>\n",
       "      <td>2019-08-19</td>\n",
       "      <td>50</td>\n",
       "      <td>B</td>\n",
       "    </tr>\n",
       "  </tbody>\n",
       "</table>\n",
       "</div>"
      ],
      "text/plain": [
       "      transactionId   visitorId        date  revenue group\n",
       "194      3959068944  2517777104  2019-08-02    11115     B\n",
       "100       804934578  1738775963  2019-08-01     3240     B\n",
       "128       965802885   916720205  2019-08-22     6441     B\n",
       "1153     2764584088  1562205279  2019-08-14     2955     B\n",
       "830       217480737  2846507753  2019-08-30     1120     B\n",
       "671      3924423491   280073872  2019-08-09      654     B\n",
       "1112     1149756812  1985475298  2019-08-12      290     B\n",
       "881      1845245000  1507665514  2019-08-05     1600     A\n",
       "694      3165578945  1253818784  2019-08-09     9290     B\n",
       "459       863448794  2738601405  2019-08-19       50     B"
      ]
     },
     "metadata": {},
     "output_type": "display_data"
    },
    {
     "data": {
      "text/html": [
       "<div>\n",
       "<style scoped>\n",
       "    .dataframe tbody tr th:only-of-type {\n",
       "        vertical-align: middle;\n",
       "    }\n",
       "\n",
       "    .dataframe tbody tr th {\n",
       "        vertical-align: top;\n",
       "    }\n",
       "\n",
       "    .dataframe thead th {\n",
       "        text-align: right;\n",
       "    }\n",
       "</style>\n",
       "<table border=\"1\" class=\"dataframe\">\n",
       "  <thead>\n",
       "    <tr style=\"text-align: right;\">\n",
       "      <th></th>\n",
       "      <th>date</th>\n",
       "      <th>group</th>\n",
       "      <th>visitors</th>\n",
       "    </tr>\n",
       "  </thead>\n",
       "  <tbody>\n",
       "    <tr>\n",
       "      <th>55</th>\n",
       "      <td>2019-08-25</td>\n",
       "      <td>B</td>\n",
       "      <td>679</td>\n",
       "    </tr>\n",
       "    <tr>\n",
       "      <th>43</th>\n",
       "      <td>2019-08-13</td>\n",
       "      <td>B</td>\n",
       "      <td>769</td>\n",
       "    </tr>\n",
       "    <tr>\n",
       "      <th>45</th>\n",
       "      <td>2019-08-15</td>\n",
       "      <td>B</td>\n",
       "      <td>544</td>\n",
       "    </tr>\n",
       "    <tr>\n",
       "      <th>49</th>\n",
       "      <td>2019-08-19</td>\n",
       "      <td>B</td>\n",
       "      <td>487</td>\n",
       "    </tr>\n",
       "    <tr>\n",
       "      <th>12</th>\n",
       "      <td>2019-08-13</td>\n",
       "      <td>A</td>\n",
       "      <td>748</td>\n",
       "    </tr>\n",
       "    <tr>\n",
       "      <th>19</th>\n",
       "      <td>2019-08-20</td>\n",
       "      <td>A</td>\n",
       "      <td>575</td>\n",
       "    </tr>\n",
       "    <tr>\n",
       "      <th>56</th>\n",
       "      <td>2019-08-26</td>\n",
       "      <td>B</td>\n",
       "      <td>676</td>\n",
       "    </tr>\n",
       "    <tr>\n",
       "      <th>33</th>\n",
       "      <td>2019-08-03</td>\n",
       "      <td>B</td>\n",
       "      <td>509</td>\n",
       "    </tr>\n",
       "    <tr>\n",
       "      <th>10</th>\n",
       "      <td>2019-08-11</td>\n",
       "      <td>A</td>\n",
       "      <td>718</td>\n",
       "    </tr>\n",
       "    <tr>\n",
       "      <th>51</th>\n",
       "      <td>2019-08-21</td>\n",
       "      <td>B</td>\n",
       "      <td>656</td>\n",
       "    </tr>\n",
       "  </tbody>\n",
       "</table>\n",
       "</div>"
      ],
      "text/plain": [
       "          date group  visitors\n",
       "55  2019-08-25     B       679\n",
       "43  2019-08-13     B       769\n",
       "45  2019-08-15     B       544\n",
       "49  2019-08-19     B       487\n",
       "12  2019-08-13     A       748\n",
       "19  2019-08-20     A       575\n",
       "56  2019-08-26     B       676\n",
       "33  2019-08-03     B       509\n",
       "10  2019-08-11     A       718\n",
       "51  2019-08-21     B       656"
      ]
     },
     "metadata": {},
     "output_type": "display_data"
    }
   ],
   "source": [
    "hypothesis, orders, visitors = (\n",
    "    pd.read_csv('/datasets/hypothesis.csv'),\n",
    "    pd.read_csv('/datasets/orders.csv'),\n",
    "    pd.read_csv('/datasets/visitors.csv')\n",
    ")\n",
    "display(hypothesis.head(10))\n",
    "display(orders.sample(10))\n",
    "display(visitors.sample(10))"
   ]
  },
  {
   "cell_type": "markdown",
   "metadata": {},
   "source": [
    "Изучим **общую** информацию о данных:"
   ]
  },
  {
   "cell_type": "code",
   "execution_count": 3,
   "metadata": {},
   "outputs": [
    {
     "name": "stdout",
     "output_type": "stream",
     "text": [
      "<class 'pandas.core.frame.DataFrame'>\n",
      "RangeIndex: 9 entries, 0 to 8\n",
      "Data columns (total 5 columns):\n",
      " #   Column      Non-Null Count  Dtype \n",
      "---  ------      --------------  ----- \n",
      " 0   Hypothesis  9 non-null      object\n",
      " 1   Reach       9 non-null      int64 \n",
      " 2   Impact      9 non-null      int64 \n",
      " 3   Confidence  9 non-null      int64 \n",
      " 4   Efforts     9 non-null      int64 \n",
      "dtypes: int64(4), object(1)\n",
      "memory usage: 488.0+ bytes\n"
     ]
    },
    {
     "data": {
      "text/plain": [
       "None"
      ]
     },
     "metadata": {},
     "output_type": "display_data"
    },
    {
     "name": "stdout",
     "output_type": "stream",
     "text": [
      "<class 'pandas.core.frame.DataFrame'>\n",
      "RangeIndex: 1197 entries, 0 to 1196\n",
      "Data columns (total 5 columns):\n",
      " #   Column         Non-Null Count  Dtype \n",
      "---  ------         --------------  ----- \n",
      " 0   transactionId  1197 non-null   int64 \n",
      " 1   visitorId      1197 non-null   int64 \n",
      " 2   date           1197 non-null   object\n",
      " 3   revenue        1197 non-null   int64 \n",
      " 4   group          1197 non-null   object\n",
      "dtypes: int64(3), object(2)\n",
      "memory usage: 46.9+ KB\n"
     ]
    },
    {
     "data": {
      "text/plain": [
       "None"
      ]
     },
     "metadata": {},
     "output_type": "display_data"
    },
    {
     "name": "stdout",
     "output_type": "stream",
     "text": [
      "<class 'pandas.core.frame.DataFrame'>\n",
      "RangeIndex: 62 entries, 0 to 61\n",
      "Data columns (total 3 columns):\n",
      " #   Column    Non-Null Count  Dtype \n",
      "---  ------    --------------  ----- \n",
      " 0   date      62 non-null     object\n",
      " 1   group     62 non-null     object\n",
      " 2   visitors  62 non-null     int64 \n",
      "dtypes: int64(1), object(2)\n",
      "memory usage: 1.6+ KB\n"
     ]
    },
    {
     "data": {
      "text/plain": [
       "None"
      ]
     },
     "metadata": {},
     "output_type": "display_data"
    }
   ],
   "source": [
    "display(hypothesis.info())\n",
    "display(orders.info())\n",
    "display(visitors.info())"
   ]
  },
  {
   "cell_type": "markdown",
   "metadata": {},
   "source": [
    "Изучив общую информацию о данных можно сделать вывод о том, что для дальнейшей работы с данными необходимо:\n",
    "- привести названия столбцов к **нижнему** регистру;\n",
    "- привести названия столбцов, состоящие из нескольких слов, к **\"змеиному\"** регистру"
   ]
  },
  {
   "cell_type": "markdown",
   "metadata": {},
   "source": [
    "### Подготовка данных к анализу"
   ]
  },
  {
   "cell_type": "markdown",
   "metadata": {},
   "source": [
    "Выведем на экран названия стобцов каждой таблицы:"
   ]
  },
  {
   "cell_type": "code",
   "execution_count": 4,
   "metadata": {},
   "outputs": [
    {
     "data": {
      "text/plain": [
       "Index(['Hypothesis', 'Reach', 'Impact', 'Confidence', 'Efforts'], dtype='object')"
      ]
     },
     "metadata": {},
     "output_type": "display_data"
    },
    {
     "data": {
      "text/plain": [
       "Index(['transactionId', 'visitorId', 'date', 'revenue', 'group'], dtype='object')"
      ]
     },
     "metadata": {},
     "output_type": "display_data"
    },
    {
     "data": {
      "text/plain": [
       "Index(['date', 'group', 'visitors'], dtype='object')"
      ]
     },
     "metadata": {},
     "output_type": "display_data"
    }
   ],
   "source": [
    "display(hypothesis.columns)\n",
    "display(orders.columns)\n",
    "display(visitors.columns)"
   ]
  },
  {
   "cell_type": "markdown",
   "metadata": {},
   "source": [
    "Необходимо привести все названия к **нижнему** регистру в соответствии с хорошим тоном:"
   ]
  },
  {
   "cell_type": "code",
   "execution_count": 5,
   "metadata": {},
   "outputs": [],
   "source": [
    "hypothesis.columns = hypothesis.columns.str.lower()\n",
    "orders.columns = orders.columns.str.lower()\n",
    "visitors.columns = visitors.columns.str.lower()"
   ]
  },
  {
   "cell_type": "markdown",
   "metadata": {},
   "source": [
    "Необходимо привести все названия к **змеиному** регистру в соответствии с хорошим тоном:"
   ]
  },
  {
   "cell_type": "code",
   "execution_count": 6,
   "metadata": {},
   "outputs": [],
   "source": [
    "orders = orders.rename(\n",
    "    columns={'transactionid':'transaction_id', 'visitorid':'visitor_id'}\n",
    ")"
   ]
  },
  {
   "cell_type": "markdown",
   "metadata": {},
   "source": [
    "Еще раз выведем на экран названия столбцов каждой таблицы и убедимся, что изменения внесены верно:"
   ]
  },
  {
   "cell_type": "code",
   "execution_count": 7,
   "metadata": {},
   "outputs": [
    {
     "data": {
      "text/plain": [
       "Index(['hypothesis', 'reach', 'impact', 'confidence', 'efforts'], dtype='object')"
      ]
     },
     "metadata": {},
     "output_type": "display_data"
    },
    {
     "data": {
      "text/plain": [
       "Index(['transaction_id', 'visitor_id', 'date', 'revenue', 'group'], dtype='object')"
      ]
     },
     "metadata": {},
     "output_type": "display_data"
    },
    {
     "data": {
      "text/plain": [
       "Index(['date', 'group', 'visitors'], dtype='object')"
      ]
     },
     "metadata": {},
     "output_type": "display_data"
    }
   ],
   "source": [
    "display(hypothesis.columns)\n",
    "display(orders.columns)\n",
    "display(visitors.columns)"
   ]
  },
  {
   "cell_type": "markdown",
   "metadata": {},
   "source": [
    "Произведем поиск **явных дубликатов** таблиц и выведем их количество:"
   ]
  },
  {
   "cell_type": "code",
   "execution_count": 8,
   "metadata": {},
   "outputs": [
    {
     "data": {
      "text/plain": [
       "0"
      ]
     },
     "metadata": {},
     "output_type": "display_data"
    },
    {
     "data": {
      "text/plain": [
       "0"
      ]
     },
     "metadata": {},
     "output_type": "display_data"
    },
    {
     "data": {
      "text/plain": [
       "0"
      ]
     },
     "metadata": {},
     "output_type": "display_data"
    }
   ],
   "source": [
    "display(hypothesis.duplicated().sum())\n",
    "display(orders.duplicated().sum())\n",
    "display(visitors.duplicated().sum())"
   ]
  },
  {
   "cell_type": "markdown",
   "metadata": {},
   "source": [
    "Проверим таблицы на наличие **пропусков** и выведем их количество:"
   ]
  },
  {
   "cell_type": "code",
   "execution_count": 9,
   "metadata": {},
   "outputs": [
    {
     "data": {
      "text/plain": [
       "hypothesis    0\n",
       "reach         0\n",
       "impact        0\n",
       "confidence    0\n",
       "efforts       0\n",
       "dtype: int64"
      ]
     },
     "metadata": {},
     "output_type": "display_data"
    },
    {
     "data": {
      "text/plain": [
       "transaction_id    0\n",
       "visitor_id        0\n",
       "date              0\n",
       "revenue           0\n",
       "group             0\n",
       "dtype: int64"
      ]
     },
     "metadata": {},
     "output_type": "display_data"
    },
    {
     "data": {
      "text/plain": [
       "date        0\n",
       "group       0\n",
       "visitors    0\n",
       "dtype: int64"
      ]
     },
     "metadata": {},
     "output_type": "display_data"
    }
   ],
   "source": [
    "display(hypothesis.isna().sum())\n",
    "display(orders.isna().sum())\n",
    "display(visitors.isna().sum())"
   ]
  },
  {
   "cell_type": "markdown",
   "metadata": {},
   "source": [
    "**Явные дубликаты** отсутствуют. **Пропуски** в значениях также отсутстсвуют."
   ]
  },
  {
   "cell_type": "markdown",
   "metadata": {},
   "source": [
    "### Вывод по подготовке данных"
   ]
  },
  {
   "cell_type": "markdown",
   "metadata": {},
   "source": [
    "В ходе предварительной подготовки данных были произведены следующие действия:\n",
    "- загружены данные и изучена информация по ним;\n",
    "- названия столбцов были приведены к нижнему и \"змеиному\" регистру в соответствии с хорошим тоном\n",
    "- проведена проверка на наличие дубликатов и пропусков"
   ]
  },
  {
   "cell_type": "markdown",
   "metadata": {},
   "source": [
    "## Приоритизация гипотез"
   ]
  },
  {
   "cell_type": "markdown",
   "metadata": {},
   "source": [
    "### Приоритизация гипотез с помощью фреймворка `ICE`"
   ]
  },
  {
   "cell_type": "markdown",
   "metadata": {},
   "source": [
    "Применим фреймворк `ICE` для приоритизации гипотез, произведя расчеты по следующей формуле: \n",
    "\n",
    "$$ICE = \\frac{Impact * Confidence}{Efforts}$$ \n",
    "\n",
    "Отсортируем их по убыванию приоритета и выведем результат на экран."
   ]
  },
  {
   "cell_type": "code",
   "execution_count": 10,
   "metadata": {},
   "outputs": [
    {
     "name": "stdout",
     "output_type": "stream",
     "text": [
      "                                                                                                     hypothesis  \\\n",
      "8                                                       Запустить акцию, дающую скидку на товар в день рождения   \n",
      "0            Добавить два новых канала привлечения трафика, что позволит привлекать на 30% больше пользователей   \n",
      "7              Добавить форму подписки на все основные страницы, чтобы собрать базу клиентов для email-рассылок   \n",
      "6          Показать на главной странице баннеры с актуальными акциями и распродажами, чтобы увеличить конверсию   \n",
      "2  Добавить блоки рекомендаций товаров на сайт интернет магазина, чтобы повысить конверсию и средний чек заказа   \n",
      "1                                     Запустить собственную службу доставки, что сократит срок доставки заказов   \n",
      "3           Изменить структура категорий, что увеличит конверсию, т.к. пользователи быстрее найдут нужный товар   \n",
      "4                              Изменить цвет фона главной страницы, чтобы увеличить вовлеченность пользователей   \n",
      "5                      Добавить страницу отзывов клиентов о магазине, что позволит увеличить количество заказов   \n",
      "\n",
      "   ICE  \n",
      "8   16  \n",
      "0   13  \n",
      "7   11  \n",
      "6    8  \n",
      "2    7  \n",
      "1    2  \n",
      "3    1  \n",
      "4    1  \n",
      "5    1  \n"
     ]
    }
   ],
   "source": [
    "hypothesis['ICE'] = (\n",
    "    hypothesis['impact'] *\n",
    "    hypothesis['confidence'] /\n",
    "    hypothesis['efforts']\n",
    ").astype(int)\n",
    "\n",
    "print(hypothesis[['hypothesis', 'ICE']].sort_values(by='ICE', ascending=False))"
   ]
  },
  {
   "cell_type": "markdown",
   "metadata": {},
   "source": [
    "**Наиболее перспективными** гипотезами на основании фреймворка `ICE` являеются **8**, **0**, **7** и **6**."
   ]
  },
  {
   "cell_type": "markdown",
   "metadata": {},
   "source": [
    "### Приоритизация гипотез с помощью фреймворка `RICE`"
   ]
  },
  {
   "cell_type": "markdown",
   "metadata": {},
   "source": [
    "Применим фреймворк `RICE` для приоритизации гипотез, произведя расчеты по следующей формуле:\n",
    "\n",
    "$$RICE = \\frac{Rearch * Impact * Confidence}{Efforts}$$\n",
    "\n",
    "Отсортируем их по убыванию приоритета и выведем результат на экран."
   ]
  },
  {
   "cell_type": "code",
   "execution_count": 11,
   "metadata": {},
   "outputs": [
    {
     "name": "stdout",
     "output_type": "stream",
     "text": [
      "                                                                                                     hypothesis  \\\n",
      "7              Добавить форму подписки на все основные страницы, чтобы собрать базу клиентов для email-рассылок   \n",
      "2  Добавить блоки рекомендаций товаров на сайт интернет магазина, чтобы повысить конверсию и средний чек заказа   \n",
      "0            Добавить два новых канала привлечения трафика, что позволит привлекать на 30% больше пользователей   \n",
      "6          Показать на главной странице баннеры с актуальными акциями и распродажами, чтобы увеличить конверсию   \n",
      "8                                                       Запустить акцию, дающую скидку на товар в день рождения   \n",
      "3           Изменить структура категорий, что увеличит конверсию, т.к. пользователи быстрее найдут нужный товар   \n",
      "1                                     Запустить собственную службу доставки, что сократит срок доставки заказов   \n",
      "5                      Добавить страницу отзывов клиентов о магазине, что позволит увеличить количество заказов   \n",
      "4                              Изменить цвет фона главной страницы, чтобы увеличить вовлеченность пользователей   \n",
      "\n",
      "   RICE  \n",
      "7   112  \n",
      "2    56  \n",
      "0    40  \n",
      "6    40  \n",
      "8    16  \n",
      "3     9  \n",
      "1     4  \n",
      "5     4  \n",
      "4     3  \n"
     ]
    }
   ],
   "source": [
    "hypothesis['RICE'] = (\n",
    "    hypothesis['reach'] *\n",
    "    hypothesis['impact'] *\n",
    "    hypothesis['confidence'] /\n",
    "    hypothesis['efforts']\n",
    ").astype(int)\n",
    "\n",
    "print(hypothesis[['hypothesis', 'RICE']].sort_values(by='RICE', ascending=False))"
   ]
  },
  {
   "cell_type": "markdown",
   "metadata": {},
   "source": [
    "**Наиболее перспективными** гипотезами на основании фреймворка `RICE` являеются **7**, **2**, **0** и **6**."
   ]
  },
  {
   "cell_type": "markdown",
   "metadata": {},
   "source": [
    "### Сравнение измененийй приоритизации гипотез с помощью фреймворков `ICE` и `RICE`"
   ]
  },
  {
   "cell_type": "markdown",
   "metadata": {},
   "source": [
    "Выведем результаты приоритизации гипотез в одной таблице с градиентной раскраской результатов:"
   ]
  },
  {
   "cell_type": "code",
   "execution_count": 12,
   "metadata": {},
   "outputs": [
    {
     "data": {
      "text/html": [
       "<style  type=\"text/css\" >\n",
       "#T_2143b_row0_col1,#T_2143b_row4_col2{\n",
       "            background-color:  #800080;\n",
       "            color:  #f1f1f1;\n",
       "        }#T_2143b_row0_col2{\n",
       "            background-color:  #a650a6;\n",
       "            color:  #000000;\n",
       "        }#T_2143b_row1_col1{\n",
       "            background-color:  #bb7bbb;\n",
       "            color:  #000000;\n",
       "        }#T_2143b_row1_col2{\n",
       "            background-color:  #c590c5;\n",
       "            color:  #000000;\n",
       "        }#T_2143b_row2_col1,#T_2143b_row3_col1{\n",
       "            background-color:  #cc9fcc;\n",
       "            color:  #000000;\n",
       "        }#T_2143b_row2_col2{\n",
       "            background-color:  #973097;\n",
       "            color:  #f1f1f1;\n",
       "        }#T_2143b_row3_col2{\n",
       "            background-color:  #bd80bd;\n",
       "            color:  #000000;\n",
       "        }#T_2143b_row4_col1{\n",
       "            background-color:  #e5d4e5;\n",
       "            color:  #000000;\n",
       "        }#T_2143b_row5_col1{\n",
       "            background-color:  #ece3ec;\n",
       "            color:  #000000;\n",
       "        }#T_2143b_row5_col2,#T_2143b_row7_col2,#T_2143b_row8_col1,#T_2143b_row8_col2{\n",
       "            background-color:  #f3f0f3;\n",
       "            color:  #000000;\n",
       "        }#T_2143b_row6_col1,#T_2143b_row7_col1{\n",
       "            background-color:  #f2eef2;\n",
       "            color:  #000000;\n",
       "        }#T_2143b_row6_col2{\n",
       "            background-color:  #ebe0eb;\n",
       "            color:  #000000;\n",
       "        }</style><table id=\"T_2143b_\" ><thead>    <tr>        <th class=\"blank level0\" ></th>        <th class=\"col_heading level0 col0\" >hypothesis</th>        <th class=\"col_heading level0 col1\" >RICE</th>        <th class=\"col_heading level0 col2\" >ICE</th>    </tr></thead><tbody>\n",
       "                <tr>\n",
       "                        <th id=\"T_2143b_level0_row0\" class=\"row_heading level0 row0\" >7</th>\n",
       "                        <td id=\"T_2143b_row0_col0\" class=\"data row0 col0\" >Добавить форму подписки на все основные страницы, чтобы собрать базу клиентов для email-рассылок</td>\n",
       "                        <td id=\"T_2143b_row0_col1\" class=\"data row0 col1\" >112</td>\n",
       "                        <td id=\"T_2143b_row0_col2\" class=\"data row0 col2\" >11</td>\n",
       "            </tr>\n",
       "            <tr>\n",
       "                        <th id=\"T_2143b_level0_row1\" class=\"row_heading level0 row1\" >2</th>\n",
       "                        <td id=\"T_2143b_row1_col0\" class=\"data row1 col0\" >Добавить блоки рекомендаций товаров на сайт интернет магазина, чтобы повысить конверсию и средний чек заказа</td>\n",
       "                        <td id=\"T_2143b_row1_col1\" class=\"data row1 col1\" >56</td>\n",
       "                        <td id=\"T_2143b_row1_col2\" class=\"data row1 col2\" >7</td>\n",
       "            </tr>\n",
       "            <tr>\n",
       "                        <th id=\"T_2143b_level0_row2\" class=\"row_heading level0 row2\" >0</th>\n",
       "                        <td id=\"T_2143b_row2_col0\" class=\"data row2 col0\" >Добавить два новых канала привлечения трафика, что позволит привлекать на 30% больше пользователей</td>\n",
       "                        <td id=\"T_2143b_row2_col1\" class=\"data row2 col1\" >40</td>\n",
       "                        <td id=\"T_2143b_row2_col2\" class=\"data row2 col2\" >13</td>\n",
       "            </tr>\n",
       "            <tr>\n",
       "                        <th id=\"T_2143b_level0_row3\" class=\"row_heading level0 row3\" >6</th>\n",
       "                        <td id=\"T_2143b_row3_col0\" class=\"data row3 col0\" >Показать на главной странице баннеры с актуальными акциями и распродажами, чтобы увеличить конверсию</td>\n",
       "                        <td id=\"T_2143b_row3_col1\" class=\"data row3 col1\" >40</td>\n",
       "                        <td id=\"T_2143b_row3_col2\" class=\"data row3 col2\" >8</td>\n",
       "            </tr>\n",
       "            <tr>\n",
       "                        <th id=\"T_2143b_level0_row4\" class=\"row_heading level0 row4\" >8</th>\n",
       "                        <td id=\"T_2143b_row4_col0\" class=\"data row4 col0\" >Запустить акцию, дающую скидку на товар в день рождения</td>\n",
       "                        <td id=\"T_2143b_row4_col1\" class=\"data row4 col1\" >16</td>\n",
       "                        <td id=\"T_2143b_row4_col2\" class=\"data row4 col2\" >16</td>\n",
       "            </tr>\n",
       "            <tr>\n",
       "                        <th id=\"T_2143b_level0_row5\" class=\"row_heading level0 row5\" >3</th>\n",
       "                        <td id=\"T_2143b_row5_col0\" class=\"data row5 col0\" >Изменить структура категорий, что увеличит конверсию, т.к. пользователи быстрее найдут нужный товар</td>\n",
       "                        <td id=\"T_2143b_row5_col1\" class=\"data row5 col1\" >9</td>\n",
       "                        <td id=\"T_2143b_row5_col2\" class=\"data row5 col2\" >1</td>\n",
       "            </tr>\n",
       "            <tr>\n",
       "                        <th id=\"T_2143b_level0_row6\" class=\"row_heading level0 row6\" >1</th>\n",
       "                        <td id=\"T_2143b_row6_col0\" class=\"data row6 col0\" >Запустить собственную службу доставки, что сократит срок доставки заказов</td>\n",
       "                        <td id=\"T_2143b_row6_col1\" class=\"data row6 col1\" >4</td>\n",
       "                        <td id=\"T_2143b_row6_col2\" class=\"data row6 col2\" >2</td>\n",
       "            </tr>\n",
       "            <tr>\n",
       "                        <th id=\"T_2143b_level0_row7\" class=\"row_heading level0 row7\" >5</th>\n",
       "                        <td id=\"T_2143b_row7_col0\" class=\"data row7 col0\" >Добавить страницу отзывов клиентов о магазине, что позволит увеличить количество заказов</td>\n",
       "                        <td id=\"T_2143b_row7_col1\" class=\"data row7 col1\" >4</td>\n",
       "                        <td id=\"T_2143b_row7_col2\" class=\"data row7 col2\" >1</td>\n",
       "            </tr>\n",
       "            <tr>\n",
       "                        <th id=\"T_2143b_level0_row8\" class=\"row_heading level0 row8\" >4</th>\n",
       "                        <td id=\"T_2143b_row8_col0\" class=\"data row8 col0\" >Изменить цвет фона главной страницы, чтобы увеличить вовлеченность пользователей</td>\n",
       "                        <td id=\"T_2143b_row8_col1\" class=\"data row8 col1\" >3</td>\n",
       "                        <td id=\"T_2143b_row8_col2\" class=\"data row8 col2\" >1</td>\n",
       "            </tr>\n",
       "    </tbody></table>"
      ],
      "text/plain": [
       "<pandas.io.formats.style.Styler at 0x7fe62fd68cd0>"
      ]
     },
     "execution_count": 12,
     "metadata": {},
     "output_type": "execute_result"
    }
   ],
   "source": [
    "cm = sns.light_palette(\"purple\", as_cmap=True)\n",
    "hypothesis[['hypothesis', 'RICE', 'ICE']].sort_values(by=['RICE', 'ICE'], ascending=False).style.background_gradient(cmap=cm)"
   ]
  },
  {
   "cell_type": "markdown",
   "metadata": {},
   "source": [
    "По полученным результатам можно увидеть, что при применении фреймворка `RICE` приоритизация гипотез изменилась по сравнению с результатами, полученными после применения фреймворка `ICE`, а именно, **гипотеза 8** опустилась на 5-ое место по приоритету, в то время, как 1-ое место заняла **гипотеза 7**. Также, в приоритетные гипотезы вошла **гипотеза 2**.\n",
    "\n",
    "Данные изменения возникли из-за параметра охвата пользователей `Reach`:\n",
    "- у **гипотезы 7** он равен _10_ против **гипотезы 8** с парамтером `Reach`, равным _1_;\n",
    "- у **гипотезы 2** он равен _8_ против **гипотезы 0** с парамтером `Reach`, равным _3_."
   ]
  },
  {
   "cell_type": "markdown",
   "metadata": {},
   "source": [
    "### Вывод по приоритизации гипотез"
   ]
  },
  {
   "cell_type": "markdown",
   "metadata": {},
   "source": [
    "В ходе применения фреймворков `ICE` и `RICE` по приоритизации гипотез, можно сделать вывод о том, что A/B-тест необходимо проводить для **гипотезы 7**:\n",
    "- добавить форму подписки на все основные страницы, чтобы собрать базу клиентов для email-рассылок"
   ]
  },
  {
   "cell_type": "markdown",
   "metadata": {},
   "source": [
    "## Анализ A/B-теста"
   ]
  },
  {
   "cell_type": "markdown",
   "metadata": {},
   "source": [
    "Перед проведением анализа, проверим, не попали ли одни и те же пользователи одновременно в оба сегмента:"
   ]
  },
  {
   "cell_type": "code",
   "execution_count": 13,
   "metadata": {},
   "outputs": [
    {
     "data": {
      "text/plain": [
       "58"
      ]
     },
     "execution_count": 13,
     "metadata": {},
     "output_type": "execute_result"
    }
   ],
   "source": [
    "a = orders.query('group == \"A\"')\n",
    "b = orders.query('group == \"B\"')\n",
    "len(list(set(a['visitor_id']) & set(b['visitor_id'])))"
   ]
  },
  {
   "cell_type": "markdown",
   "metadata": {},
   "source": [
    "**58 пользователей** на момент проведения А/В-теста находились в обоих сегментах одновременно."
   ]
  },
  {
   "cell_type": "markdown",
   "metadata": {},
   "source": [
    "### График кумулятивной выручки по группам"
   ]
  },
  {
   "cell_type": "markdown",
   "metadata": {},
   "source": [
    "Построим и изучим график кумулятивной выручки по группам:"
   ]
  },
  {
   "cell_type": "code",
   "execution_count": 14,
   "metadata": {},
   "outputs": [
    {
     "data": {
      "image/png": "[encoded data removed]",
      "text/plain": [
       "<Figure size 1296x432 with 1 Axes>"
      ]
     },
     "metadata": {
      "needs_background": "light"
     },
     "output_type": "display_data"
    }
   ],
   "source": [
    "register_matplotlib_converters()\n",
    "\n",
    "orders['date'] = orders['date'].map(\n",
    "    lambda x: dt.datetime.strptime(x, '%Y-%m-%d')\n",
    ")\n",
    "\n",
    "visitors['date'] = visitors['date'].map(\n",
    "    lambda x: dt.datetime.strptime(x, '%Y-%m-%d')\n",
    ") \n",
    "\n",
    "datesGroups = orders[['date', 'group']].drop_duplicates()\n",
    "\n",
    "ordersAggregated = datesGroups.apply(\n",
    "    lambda x: orders[\n",
    "        np.logical_and(\n",
    "            orders['date'] <= x['date'], orders['group'] == x['group']\n",
    "        )\n",
    "    ].agg(\n",
    "        {\n",
    "            'date': 'max',\n",
    "            'group': 'max',\n",
    "            'transaction_id': 'nunique',\n",
    "            'visitor_id': 'nunique',\n",
    "            'revenue': 'sum',\n",
    "        }\n",
    "    ),\n",
    "    axis=1,\n",
    ").sort_values(by=['date', 'group'])\n",
    "\n",
    "visitorsAggregated = datesGroups.apply(\n",
    "    lambda x: visitors[\n",
    "        np.logical_and(\n",
    "            visitors['date'] <= x['date'], visitors['group'] == x['group']\n",
    "        )\n",
    "    ].agg({'date': 'max', 'group': 'max', 'visitors': 'sum'}),\n",
    "    axis=1,\n",
    ").sort_values(by=['date', 'group'])\n",
    "\n",
    "cumulativeData = ordersAggregated.merge(\n",
    "    visitorsAggregated, left_on=['date', 'group'], right_on=['date', 'group']\n",
    ")\n",
    "cumulativeData.columns = [\n",
    "    'date',\n",
    "    'group',\n",
    "    'orders',\n",
    "    'buyers',\n",
    "    'revenue',\n",
    "    'visitors',\n",
    "]\n",
    "\n",
    "cumulativeRevenueA = cumulativeData[cumulativeData['group']=='A'][['date','revenue', 'orders']]\n",
    "cumulativeRevenueB = cumulativeData[cumulativeData['group']=='B'][['date','revenue', 'orders']]\n",
    "\n",
    "plt.figure(figsize=(18,6))\n",
    "plt.grid()\n",
    "plt.plot(cumulativeRevenueA['date'], cumulativeRevenueA['revenue'], label = 'A')\n",
    "plt.plot(cumulativeRevenueB['date'], cumulativeRevenueB['revenue'], label = 'B')\n",
    "plt.ylabel('Выручка')\n",
    "plt.xlabel('Дата')\n",
    "plt.title('Графики кумулятивной выручки по группам A/B')\n",
    "plt.legend()\n",
    "plt.annotate('Cкачок', \n",
    "             xy=('2019-08-18', 2800000), \n",
    "             xytext=('2019-08-16', 3500000), \n",
    "             arrowprops=dict(facecolor='g'))\n",
    "plt.annotate('Отрыв', \n",
    "             xy=('2019-08-05', 800000), \n",
    "             xytext=('2019-08-03', 2500000), \n",
    "             arrowprops=dict(facecolor='g'))\n",
    "plt.annotate(\n",
    "    'Начало равномерного роста', \n",
    "    xy=('2019-08-19', 4100000), \n",
    "    xytext=('2019-08-13', 4900000), \n",
    "    arrowprops=dict(facecolor='g'))\n",
    "plt.show()"
   ]
  },
  {
   "cell_type": "markdown",
   "metadata": {},
   "source": [
    "По полученному графику можно сделать вывод о том, что после введения формы подписки (`сегмент B`) выручка росла по отношению с `сегментом А`, следовательно введение формы подписки **положительно влияет** на получение прибыли.\n",
    "\n",
    "Однако, на графике выручки `сегмента В` виден **скачок**, следовательно в данный период присутствовали аномально большие заказы, которые могли повлиять на результаты теста."
   ]
  },
  {
   "cell_type": "markdown",
   "metadata": {},
   "source": [
    "### График кумулятивного среднего чека по группам"
   ]
  },
  {
   "cell_type": "markdown",
   "metadata": {},
   "source": [
    "Построим и изучим график кумулятивного среднего чека по группам:"
   ]
  },
  {
   "cell_type": "code",
   "execution_count": 15,
   "metadata": {},
   "outputs": [
    {
     "data": {
      "image/png": "[encoded data removed]",
      "text/plain": [
       "<Figure size 1296x432 with 1 Axes>"
      ]
     },
     "metadata": {
      "needs_background": "light"
     },
     "output_type": "display_data"
    }
   ],
   "source": [
    "plt.figure(figsize=(18,6))\n",
    "plt.grid()\n",
    "plt.plot(cumulativeRevenueA['date'], cumulativeRevenueA['revenue']/cumulativeRevenueA['orders'], label='A')\n",
    "plt.plot(cumulativeRevenueB['date'], cumulativeRevenueB['revenue']/cumulativeRevenueB['orders'], label='B')\n",
    "plt.ylabel('Средний чек')\n",
    "plt.xlabel('Дата')\n",
    "plt.title('Графики кумулятивного среднего чека по группам A/B')\n",
    "plt.legend()\n",
    "plt.annotate('Cкачок', \n",
    "             xy=('2019-08-18', 7100), \n",
    "             xytext=('2019-08-16', 8000), \n",
    "             arrowprops=dict(facecolor='g'))\n",
    "plt.show()"
   ]
  },
  {
   "cell_type": "markdown",
   "metadata": {},
   "source": [
    "По полученному графику можно сделать вывод о том, что после введения формы подписки (`сегмент B`) средний чек вырос по отношению с `сегментом А`, однако, на графике среднего чека `сегмента В` виден **скачок**, следовательно в данный период присутствовали **выбросы**, которые могли повлиять на результаты теста."
   ]
  },
  {
   "cell_type": "markdown",
   "metadata": {},
   "source": [
    "### График относительного изменения кумулятивного среднего чека группы B к группе A"
   ]
  },
  {
   "cell_type": "markdown",
   "metadata": {},
   "source": [
    "Объединим таблицы кумулятивного среднего чека `сегмента А` и `сегмента В`, после чего построим график **относительного изменения** данного показателя:"
   ]
  },
  {
   "cell_type": "code",
   "execution_count": 16,
   "metadata": {},
   "outputs": [
    {
     "data": {
      "image/png": "[encoded data removed]",
      "text/plain": [
       "<Figure size 1296x432 with 1 Axes>"
      ]
     },
     "metadata": {
      "needs_background": "light"
     },
     "output_type": "display_data"
    }
   ],
   "source": [
    "mergedCumulativeRevenue = cumulativeRevenueA.merge(cumulativeRevenueB, \n",
    "                                                   left_on='date', \n",
    "                                                   right_on='date', \n",
    "                                                   how='left', \n",
    "                                                   suffixes=['A', 'B'])\n",
    "plt.figure(figsize=(18,6))\n",
    "plt.grid()\n",
    "plt.plot(mergedCumulativeRevenue['date'], \n",
    "         (mergedCumulativeRevenue['revenueB']/\n",
    "          mergedCumulativeRevenue['ordersB'])/\n",
    "         (mergedCumulativeRevenue['revenueA']/\n",
    "          mergedCumulativeRevenue['ordersA'])-1)\n",
    "plt.ylabel('Доля изменения')\n",
    "plt.xlabel('Дата')\n",
    "plt.title('График относительного изменения среднего чека группы В к группе А')\n",
    "plt.annotate('Cкачок', \n",
    "             xy=('2019-08-18', 0.05), \n",
    "             xytext=('2019-08-15', 0.17), \n",
    "             arrowprops=dict(facecolor='g'))\n",
    "plt.axhline(y=0, color='black', linestyle='--')\n",
    "plt.show()"
   ]
  },
  {
   "cell_type": "markdown",
   "metadata": {},
   "source": [
    "По полученному графику виднго, что **18 августа 2019** года результат теста резко изменился. Вероятнее всего, именно в этот день были совершены **аномальные заказы**."
   ]
  },
  {
   "cell_type": "markdown",
   "metadata": {},
   "source": [
    "### График кумулятивной конверсии по группам"
   ]
  },
  {
   "cell_type": "markdown",
   "metadata": {},
   "source": [
    "Добавим в таблицу столбец с данными о конверсии, после чего построим графики кумулятивной конверсии по группам:"
   ]
  },
  {
   "cell_type": "code",
   "execution_count": 17,
   "metadata": {},
   "outputs": [
    {
     "data": {
      "image/png": "[encoded data removed]",
      "text/plain": [
       "<Figure size 1296x432 with 1 Axes>"
      ]
     },
     "metadata": {
      "needs_background": "light"
     },
     "output_type": "display_data"
    }
   ],
   "source": [
    "cumulativeData['conversion'] = cumulativeData['orders']/cumulativeData['visitors']\n",
    "\n",
    "cumulativeDataA = cumulativeData[cumulativeData['group']=='A']\n",
    "cumulativeDataB = cumulativeData[cumulativeData['group']=='B']\n",
    "\n",
    "plt.figure(figsize=(18,6))\n",
    "plt.grid()\n",
    "plt.plot(cumulativeDataA['date'], cumulativeDataA['conversion'], label='A')\n",
    "plt.plot(cumulativeDataB['date'], cumulativeDataB['conversion'], label='B')\n",
    "plt.ylabel('Конверсия')\n",
    "plt.xlabel('Дата')\n",
    "plt.title('Графики кумулятивной конверсии по группам A/B')\n",
    "plt.legend()\n",
    "plt.axis([dt.datetime(2019, 8, 1), dt.datetime(2019, 8, 31), 0, 0.05])\n",
    "plt.show()"
   ]
  },
  {
   "cell_type": "markdown",
   "metadata": {},
   "source": [
    "В начале теста конверсия `сегмента А` иногда превышала конверсию `сегмента В`, но 6 августа 2019 года `сегмент В` вырвался вперед, а после 10 августа 2019 года конверсия `сегмента В` выровнялась и зафиксировалась примерно около одного значения, больше значения `сегмента А`."
   ]
  },
  {
   "cell_type": "markdown",
   "metadata": {},
   "source": [
    "### График относительного изменения кумулятивной конверсии группы B к группе A"
   ]
  },
  {
   "cell_type": "markdown",
   "metadata": {},
   "source": [
    "Объединим таблицы кумулятивной коверсии `сегмента А` и `сегмента В`, после чего построим график **относительного изменения** данного показателя:"
   ]
  },
  {
   "cell_type": "code",
   "execution_count": 18,
   "metadata": {},
   "outputs": [
    {
     "data": {
      "image/png": "[encoded data removed]",
      "text/plain": [
       "<Figure size 1296x432 with 1 Axes>"
      ]
     },
     "metadata": {
      "needs_background": "light"
     },
     "output_type": "display_data"
    }
   ],
   "source": [
    "mergedCumulativeConversions = cumulativeDataA[['date','conversion']].merge(cumulativeDataB[['date','conversion']], \n",
    "                                                                           left_on='date', \n",
    "                                                                           right_on='date', \n",
    "                                                                           how='left', \n",
    "                                                                           suffixes=['A', 'B'])\n",
    "plt.figure(figsize=(18,6))\n",
    "plt.grid()\n",
    "plt.plot(mergedCumulativeConversions['date'], \n",
    "         mergedCumulativeConversions['conversionB']/mergedCumulativeConversions['conversionA']-1, \n",
    "         label=\"Относительный прирост конверсии группы B относительно группы A\")\n",
    "plt.ylabel('Доля изменения')\n",
    "plt.xlabel('Дата')\n",
    "plt.title('График относительного изменения коверсии группы В к группе А')\n",
    "plt.axhline(y=0, color='black', linestyle='--')\n",
    "plt.axhline(y=0.2, color='grey', linestyle='--')\n",
    "plt.axis([\"2019-08-01\", '2019-08-31', -0.5, 0.5])\n",
    "plt.annotate('Выход сегмента В в лидеры', \n",
    "             xy=('2019-08-06', 0), \n",
    "             xytext=('2019-08-03', 0.16), \n",
    "             arrowprops=dict(facecolor='g'))\n",
    "plt.show()"
   ]
  },
  {
   "cell_type": "markdown",
   "metadata": {},
   "source": [
    "Почти с самого начала A/B-теста конверсия `сегмента В` **лидирует** у своего \"конкурента\". Максимальный прирост относительно `сегмента А` составил **20%**, после чего прирост зафиксировался в районе **10%**."
   ]
  },
  {
   "cell_type": "markdown",
   "metadata": {},
   "source": [
    "### Точечный график количества заказов по пользователям"
   ]
  },
  {
   "cell_type": "markdown",
   "metadata": {},
   "source": [
    "Построим точечную диаграмму методом _scatter()_, на которой отразим **количество** заказов по пользователям:"
   ]
  },
  {
   "cell_type": "code",
   "execution_count": 19,
   "metadata": {},
   "outputs": [
    {
     "data": {
      "text/html": [
       "<div>\n",
       "<style scoped>\n",
       "    .dataframe tbody tr th:only-of-type {\n",
       "        vertical-align: middle;\n",
       "    }\n",
       "\n",
       "    .dataframe tbody tr th {\n",
       "        vertical-align: top;\n",
       "    }\n",
       "\n",
       "    .dataframe thead th {\n",
       "        text-align: right;\n",
       "    }\n",
       "</style>\n",
       "<table border=\"1\" class=\"dataframe\">\n",
       "  <thead>\n",
       "    <tr style=\"text-align: right;\">\n",
       "      <th></th>\n",
       "      <th>visitor_id</th>\n",
       "      <th>orders</th>\n",
       "    </tr>\n",
       "  </thead>\n",
       "  <tbody>\n",
       "    <tr>\n",
       "      <th>1023</th>\n",
       "      <td>4256040402</td>\n",
       "      <td>11</td>\n",
       "    </tr>\n",
       "    <tr>\n",
       "      <th>591</th>\n",
       "      <td>2458001652</td>\n",
       "      <td>11</td>\n",
       "    </tr>\n",
       "    <tr>\n",
       "      <th>569</th>\n",
       "      <td>2378935119</td>\n",
       "      <td>9</td>\n",
       "    </tr>\n",
       "    <tr>\n",
       "      <th>487</th>\n",
       "      <td>2038680547</td>\n",
       "      <td>8</td>\n",
       "    </tr>\n",
       "    <tr>\n",
       "      <th>44</th>\n",
       "      <td>199603092</td>\n",
       "      <td>5</td>\n",
       "    </tr>\n",
       "    <tr>\n",
       "      <th>744</th>\n",
       "      <td>3062433592</td>\n",
       "      <td>5</td>\n",
       "    </tr>\n",
       "    <tr>\n",
       "      <th>55</th>\n",
       "      <td>237748145</td>\n",
       "      <td>5</td>\n",
       "    </tr>\n",
       "    <tr>\n",
       "      <th>917</th>\n",
       "      <td>3803269165</td>\n",
       "      <td>5</td>\n",
       "    </tr>\n",
       "    <tr>\n",
       "      <th>299</th>\n",
       "      <td>1230306981</td>\n",
       "      <td>5</td>\n",
       "    </tr>\n",
       "    <tr>\n",
       "      <th>897</th>\n",
       "      <td>3717692402</td>\n",
       "      <td>5</td>\n",
       "    </tr>\n",
       "  </tbody>\n",
       "</table>\n",
       "</div>"
      ],
      "text/plain": [
       "      visitor_id  orders\n",
       "1023  4256040402      11\n",
       "591   2458001652      11\n",
       "569   2378935119       9\n",
       "487   2038680547       8\n",
       "44     199603092       5\n",
       "744   3062433592       5\n",
       "55     237748145       5\n",
       "917   3803269165       5\n",
       "299   1230306981       5\n",
       "897   3717692402       5"
      ]
     },
     "metadata": {},
     "output_type": "display_data"
    },
    {
     "data": {
      "image/png": "[encoded data removed]",
      "text/plain": [
       "<Figure size 1296x432 with 1 Axes>"
      ]
     },
     "metadata": {
      "needs_background": "light"
     },
     "output_type": "display_data"
    }
   ],
   "source": [
    "ordersByUsers = (\n",
    "    orders.groupby('visitor_id', as_index=False)\n",
    "    .agg({'transaction_id': 'nunique'})\n",
    ")\n",
    "ordersByUsers.columns = ['visitor_id', 'orders']\n",
    "\n",
    "display(ordersByUsers.sort_values(by='orders', ascending=False).head(10))\n",
    "\n",
    "plt.figure(figsize=(18,6))\n",
    "plt.ylabel('Количество заказов')\n",
    "plt.xlabel('Номера наблюдений')\n",
    "plt.title('График количества заказов по пользователям')\n",
    "plt.grid()\n",
    "x_values = pd.Series(range(0, len(ordersByUsers)))\n",
    "plt.scatter(x_values, ordersByUsers['orders'])\n",
    "plt.show()"
   ]
  },
  {
   "cell_type": "markdown",
   "metadata": {},
   "source": [
    "Два пользователя оформили целых **11 заказов**.\n",
    "Однако, пользователей, оформивших **более 2 заказов** заметно мало. Они вполне могут быть **аномальными**."
   ]
  },
  {
   "cell_type": "markdown",
   "metadata": {},
   "source": [
    "### Расчет 95-го и 99-го перцентилей количества заказов на пользователя"
   ]
  },
  {
   "cell_type": "markdown",
   "metadata": {},
   "source": [
    "Произведем расчте 95-го и 99-го выборочных перцентилей количества заказов по пользователям методом _np.percentile()_ и выведем полученные результаты на экран:"
   ]
  },
  {
   "cell_type": "code",
   "execution_count": 20,
   "metadata": {},
   "outputs": [
    {
     "name": "stdout",
     "output_type": "stream",
     "text": [
      "95-ый перцентиль равен: [2.]\n",
      "99-ый перцентиль равен: [4.]\n"
     ]
    }
   ],
   "source": [
    "print('95-ый перцентиль равен:', np.percentile(ordersByUsers['orders'], [95]))\n",
    "print('99-ый перцентиль равен:', np.percentile(ordersByUsers['orders'], [99]))"
   ]
  },
  {
   "cell_type": "markdown",
   "metadata": {},
   "source": [
    "**Не более 5%** пользователей совершали больше **2-х заказов** и **не более 1%** пользователей совершали больше **4-х заказов**.\n",
    "\n",
    "Следовательно, **нижней границей** для определения аномальных пользователей будем считать **2 заказа** на одного пользователя."
   ]
  },
  {
   "cell_type": "markdown",
   "metadata": {},
   "source": [
    "### Точечный график стоимости заказов"
   ]
  },
  {
   "cell_type": "markdown",
   "metadata": {},
   "source": [
    "Построим точечную диаграмму методом _scatter()_, на которой отразим **стоимость** заказов по пользователям:"
   ]
  },
  {
   "cell_type": "code",
   "execution_count": 21,
   "metadata": {},
   "outputs": [
    {
     "data": {
      "text/html": [
       "<div>\n",
       "<style scoped>\n",
       "    .dataframe tbody tr th:only-of-type {\n",
       "        vertical-align: middle;\n",
       "    }\n",
       "\n",
       "    .dataframe tbody tr th {\n",
       "        vertical-align: top;\n",
       "    }\n",
       "\n",
       "    .dataframe thead th {\n",
       "        text-align: right;\n",
       "    }\n",
       "</style>\n",
       "<table border=\"1\" class=\"dataframe\">\n",
       "  <thead>\n",
       "    <tr style=\"text-align: right;\">\n",
       "      <th></th>\n",
       "      <th>visitor_id</th>\n",
       "      <th>revenue</th>\n",
       "    </tr>\n",
       "  </thead>\n",
       "  <tbody>\n",
       "    <tr>\n",
       "      <th>463</th>\n",
       "      <td>1920142716</td>\n",
       "      <td>1294500</td>\n",
       "    </tr>\n",
       "    <tr>\n",
       "      <th>503</th>\n",
       "      <td>2108080724</td>\n",
       "      <td>202740</td>\n",
       "    </tr>\n",
       "    <tr>\n",
       "      <th>1023</th>\n",
       "      <td>4256040402</td>\n",
       "      <td>176490</td>\n",
       "    </tr>\n",
       "    <tr>\n",
       "      <th>1026</th>\n",
       "      <td>4266935830</td>\n",
       "      <td>157980</td>\n",
       "    </tr>\n",
       "    <tr>\n",
       "      <th>569</th>\n",
       "      <td>2378935119</td>\n",
       "      <td>142939</td>\n",
       "    </tr>\n",
       "    <tr>\n",
       "      <th>316</th>\n",
       "      <td>1316129916</td>\n",
       "      <td>94770</td>\n",
       "    </tr>\n",
       "    <tr>\n",
       "      <th>314</th>\n",
       "      <td>1307669133</td>\n",
       "      <td>92550</td>\n",
       "    </tr>\n",
       "    <tr>\n",
       "      <th>213</th>\n",
       "      <td>888512513</td>\n",
       "      <td>86620</td>\n",
       "    </tr>\n",
       "    <tr>\n",
       "      <th>744</th>\n",
       "      <td>3062433592</td>\n",
       "      <td>75459</td>\n",
       "    </tr>\n",
       "    <tr>\n",
       "      <th>186</th>\n",
       "      <td>759473111</td>\n",
       "      <td>72000</td>\n",
       "    </tr>\n",
       "  </tbody>\n",
       "</table>\n",
       "</div>"
      ],
      "text/plain": [
       "      visitor_id  revenue\n",
       "463   1920142716  1294500\n",
       "503   2108080724   202740\n",
       "1023  4256040402   176490\n",
       "1026  4266935830   157980\n",
       "569   2378935119   142939\n",
       "316   1316129916    94770\n",
       "314   1307669133    92550\n",
       "213    888512513    86620\n",
       "744   3062433592    75459\n",
       "186    759473111    72000"
      ]
     },
     "metadata": {},
     "output_type": "display_data"
    },
    {
     "data": {
      "image/png": "[encoded data removed]",
      "text/plain": [
       "<Figure size 1296x432 with 1 Axes>"
      ]
     },
     "metadata": {
      "needs_background": "light"
     },
     "output_type": "display_data"
    }
   ],
   "source": [
    "ordersByUsers = (\n",
    "    orders.groupby('visitor_id', as_index=False)\n",
    "    .agg({'revenue': 'sum'})\n",
    ")\n",
    "ordersByUsers.columns = ['visitor_id', 'revenue']\n",
    "\n",
    "display(ordersByUsers.sort_values(by='revenue', ascending=False).head(10))\n",
    "\n",
    "plt.figure(figsize=(18,6))\n",
    "plt.ylabel('Стоимость заказов')\n",
    "plt.xlabel('Номера наблюдений')\n",
    "plt.title('График стоимости заказов по пользователям')\n",
    "plt.grid()\n",
    "x_values = pd.Series(range(0, len(ordersByUsers)))\n",
    "plt.scatter(x_values, ordersByUsers['revenue'])\n",
    "plt.show()"
   ]
  },
  {
   "cell_type": "markdown",
   "metadata": {},
   "source": [
    "Один из пользователей потратил целых **1.3 млн** на заказы.\n",
    "Однако, пользователей, оформивших заказы более, чем на  **50 тыс.** заметно мало. Они вполне могут быть **аномальными**."
   ]
  },
  {
   "cell_type": "markdown",
   "metadata": {},
   "source": [
    "### Расчет 95-го и 99-го перцентилей стоимости заказов"
   ]
  },
  {
   "cell_type": "markdown",
   "metadata": {},
   "source": [
    "Произведем расчте 95-го и 99-го выборочных перцентилей стоимости заказов методом _np.percentile()_ и выведем полученные результаты на экран:"
   ]
  },
  {
   "cell_type": "code",
   "execution_count": 22,
   "metadata": {},
   "outputs": [
    {
     "name": "stdout",
     "output_type": "stream",
     "text": [
      "95-ый перцентиль равен: [32899.5]\n",
      "99-ый перцентиль равен: [67750.]\n"
     ]
    }
   ],
   "source": [
    "print('95-ый перцентиль равен:', np.percentile(ordersByUsers['revenue'], [95]))\n",
    "print('99-ый перцентиль равен:', np.percentile(ordersByUsers['revenue'], [99]))"
   ]
  },
  {
   "cell_type": "markdown",
   "metadata": {},
   "source": [
    "**Не более 5%** пользователей совершали заказы дороже **32899.5** и **не более 1%** пользователей совершали заказы дороже **67750**.\n",
    "\n",
    "Следовательно, **нижней границей** для определения аномальных заказов будем считать заказы дороже **35000** на одного пользователя."
   ]
  },
  {
   "cell_type": "markdown",
   "metadata": {},
   "source": [
    "### Статистическая значимость различий в конверсии между группами по «сырым» данным"
   ]
  },
  {
   "cell_type": "markdown",
   "metadata": {},
   "source": [
    "Сформулируем **нулевую** гипотезу:\n",
    "- _средний чек заказа_ и _конверсия_ пользователей до добавления формы подписки на все основные страницы и после ее добавления **не различаются**\n",
    "\n",
    "Соответственно, **альтернативная** гипотеза будет звучать следующим образом:\n",
    "- _средний чек заказа_ и _конверсия_ пользователей после добавления формы подписки на все основные страницы **изменились**"
   ]
  },
  {
   "cell_type": "markdown",
   "metadata": {},
   "source": [
    "Посчитаем **статистическую значимость** различия конверсии по результатам теста. Для этого применим **тест Манна-Уитни**. \n",
    "\n",
    "Для проведения теста принимаем **критический уровень статистической значимости**, равный **0.05**.\n",
    "\n",
    "Выведем p-value для сравнения конверсии между группами, округлив p-value до 3 знаков после запятой. Также, вычислим и выведем относительный прирост в конверсии между группами, округлив до 3 знаков после запятой:"
   ]
  },
  {
   "cell_type": "code",
   "execution_count": 23,
   "metadata": {},
   "outputs": [
    {
     "name": "stdout",
     "output_type": "stream",
     "text": [
      "Значение P-value: 0.017\n",
      "Относительный прирост в конверсии: 0.138\n"
     ]
    }
   ],
   "source": [
    "visitorsADaily = visitors[visitors['group'] == 'A'][['date', 'visitors']]\n",
    "visitorsADaily.columns = ['date', 'visitorsPerDateA']\n",
    "\n",
    "visitorsACummulative = visitorsADaily.apply(\n",
    "    lambda x: visitorsADaily[visitorsADaily['date'] <= x['date']].agg(\n",
    "        {'date': 'max', 'visitorsPerDateA': 'sum'}\n",
    "    ),\n",
    "    axis=1,\n",
    ")\n",
    "visitorsACummulative.columns = ['date', 'visitorsCummulativeA']\n",
    "\n",
    "visitorsBDaily = visitors[visitors['group'] == 'B'][['date', 'visitors']]\n",
    "visitorsBDaily.columns = ['date', 'visitorsPerDateB']\n",
    "\n",
    "visitorsBCummulative = visitorsBDaily.apply(\n",
    "    lambda x: visitorsBDaily[visitorsBDaily['date'] <= x['date']].agg(\n",
    "        {'date': 'max', 'visitorsPerDateB': 'sum'}\n",
    "    ),\n",
    "    axis=1,\n",
    ")\n",
    "visitorsBCummulative.columns = ['date', 'visitorsCummulativeB']\n",
    "\n",
    "ordersADaily = (\n",
    "    orders[orders['group'] == 'A'][['date', 'transaction_id', 'visitor_id', 'revenue']]\n",
    "    .groupby('date', as_index=False)\n",
    "    .agg({'visitor_id': pd.Series.nunique, 'revenue': 'sum'})\n",
    ")\n",
    "ordersADaily.columns = ['date', 'ordersPerDateA', 'revenuePerDateA']\n",
    "\n",
    "ordersACummulative = ordersADaily.apply(\n",
    "    lambda x: ordersADaily[ordersADaily['date'] <= x['date']].agg(\n",
    "        {'date': 'max', 'ordersPerDateA': 'sum', 'revenuePerDateA': 'sum'}\n",
    "    ),\n",
    "    axis=1,\n",
    ").sort_values(by=['date'])\n",
    "ordersACummulative.columns = [\n",
    "    'date',\n",
    "    'ordersCummulativeA',\n",
    "    'revenueCummulativeA',\n",
    "]\n",
    "\n",
    "ordersBDaily = (\n",
    "    orders[orders['group'] == 'B'][['date', 'transaction_id', 'visitor_id', 'revenue']]\n",
    "    .groupby('date', as_index=False)\n",
    "    .agg({'transaction_id': pd.Series.nunique, 'revenue': 'sum'})\n",
    ")\n",
    "ordersBDaily.columns = ['date', 'ordersPerDateB', 'revenuePerDateB']\n",
    "\n",
    "ordersBCummulative = ordersBDaily.apply(\n",
    "    lambda x: ordersBDaily[ordersBDaily['date'] <= x['date']].agg(\n",
    "        {'date': 'max', 'ordersPerDateB': 'sum', 'revenuePerDateB': 'sum'}\n",
    "    ),\n",
    "    axis=1,\n",
    ").sort_values(by=['date'])\n",
    "ordersBCummulative.columns = [\n",
    "    'date',\n",
    "    'ordersCummulativeB',\n",
    "    'revenueCummulativeB',\n",
    "]\n",
    "\n",
    "data = (\n",
    "    ordersADaily.merge(\n",
    "        ordersBDaily, left_on='date', right_on='date', how='left'\n",
    "    )\n",
    "    .merge(ordersACummulative, left_on='date', right_on='date', how='left')\n",
    "    .merge(ordersBCummulative, left_on='date', right_on='date', how='left')\n",
    "    .merge(visitorsADaily, left_on='date', right_on='date', how='left')\n",
    "    .merge(visitorsBDaily, left_on='date', right_on='date', how='left')\n",
    "    .merge(visitorsACummulative, left_on='date', right_on='date', how='left')\n",
    "    .merge(visitorsBCummulative, left_on='date', right_on='date', how='left')\n",
    ")\n",
    "\n",
    "ordersByUsersA = (\n",
    "    orders[orders['group'] == 'A']\n",
    "    .groupby('visitor_id', as_index=False)\n",
    "    .agg({'transaction_id': pd.Series.nunique})\n",
    ")\n",
    "ordersByUsersA.columns = ['visitor_id', 'orders']\n",
    "\n",
    "ordersByUsersB = (\n",
    "    orders[orders['group'] == 'B']\n",
    "    .groupby('visitor_id', as_index=False)\n",
    "    .agg({'transaction_id': pd.Series.nunique})\n",
    ")\n",
    "ordersByUsersB.columns = ['visitor_id', 'orders']\n",
    "\n",
    "sampleA = pd.concat([ordersByUsersA['orders'],pd.Series(0, index=np.arange(data['visitorsPerDateA'].sum() - len(ordersByUsersA['orders'])), name='orders')],axis=0)\n",
    "\n",
    "sampleB = pd.concat([ordersByUsersB['orders'],pd.Series(0, index=np.arange(data['visitorsPerDateB'].sum() - len(ordersByUsersB['orders'])), name='orders')],axis=0)\n",
    "\n",
    "print('Значение P-value:', \"{0:.3f}\".format(stats.mannwhitneyu(sampleA, sampleB)[1]))\n",
    "\n",
    "print('Относительный прирост в конверсии:', \"{0:.3f}\".format(sampleB.mean() / sampleA.mean() - 1))"
   ]
  },
  {
   "cell_type": "markdown",
   "metadata": {},
   "source": [
    "P-value **меньше 0.05**, поэтому **нулевую гипотезу отвергаем**. Анализ \"сырых данных\" говорит нам о том, что в конверсии между сегментами есть статистически значимые различия.\n",
    "\n",
    "**Относительный прирост** конверсии `сегмента В` к конверсии `сегмента А` составляет **13.8%**."
   ]
  },
  {
   "cell_type": "markdown",
   "metadata": {},
   "source": [
    "### Статистическая значимость различий в среднем чеке заказа между группами по «сырым» данным"
   ]
  },
  {
   "cell_type": "markdown",
   "metadata": {},
   "source": [
    "Посчитаем **статистическую значимость** различия среднего чека заказа по результатам теста. Для этого применим **тест Манна-Уитни**. \n",
    "\n",
    "Выведем p-value для сравнения среднего чека заказа между группами, округлив p-value до 3 знаков после запятой. Также, вычислим и выведем относительный прирост среднего чека заказа между группами, округлив до 3 знаков после запятой:"
   ]
  },
  {
   "cell_type": "code",
   "execution_count": 24,
   "metadata": {},
   "outputs": [
    {
     "name": "stdout",
     "output_type": "stream",
     "text": [
      "Значение P-value: 0.729\n",
      "Относительный прирост в среднем чеке: 0.259\n"
     ]
    }
   ],
   "source": [
    "print('Значение P-value:', '{0:.3f}'.format(stats.mannwhitneyu(orders[orders['group']=='A']['revenue'], orders[orders['group']=='B']['revenue'])[1]))\n",
    "print('Относительный прирост в среднем чеке:', '{0:.3f}'.format(orders[orders['group']=='B']['revenue'].mean()/orders[orders['group']=='A']['revenue'].mean()-1))"
   ]
  },
  {
   "cell_type": "markdown",
   "metadata": {},
   "source": [
    "P-value значительно **больше 0.05**. Значит, причин отвергать нулевую гипотезу и считать, что в среднем чеке есть различия, нет. \n",
    "\n",
    "Однако, средний чек `сегмента B` выше среднего чека `сегмента A` на **25.9%**."
   ]
  },
  {
   "cell_type": "markdown",
   "metadata": {},
   "source": [
    "### Статистическая значимость различий в конверсии между группами по «очищенным» данным"
   ]
  },
  {
   "cell_type": "markdown",
   "metadata": {},
   "source": [
    "Узнаем, сколько всего **аномальных** пользователей методом _shape()_:"
   ]
  },
  {
   "cell_type": "code",
   "execution_count": 25,
   "metadata": {},
   "outputs": [
    {
     "name": "stdout",
     "output_type": "stream",
     "text": [
      "1099    148427295\n",
      "18      199603092\n",
      "23      237748145\n",
      "37      249864742\n",
      "684     358944393\n",
      "Name: visitor_id, dtype: int64\n",
      "Количество аномальных пользователей: (53,)\n"
     ]
    }
   ],
   "source": [
    "usersWithManyOrders = pd.concat(\n",
    "    [\n",
    "        ordersByUsersA[ordersByUsersA['orders'] > 2]['visitor_id'],\n",
    "        ordersByUsersB[ordersByUsersB['orders'] > 2]['visitor_id'],\n",
    "    ],\n",
    "    axis=0,\n",
    ")\n",
    "usersWithExpensiveOrders = orders[orders['revenue'] > 35000]['visitor_id']\n",
    "abnormalUsers = (\n",
    "    pd.concat([usersWithManyOrders, usersWithExpensiveOrders], axis=0)\n",
    "    .drop_duplicates()\n",
    "    .sort_values()\n",
    ")\n",
    "print(abnormalUsers.head(5))\n",
    "print('Количество аномальных пользователей:', abnormalUsers.shape)"
   ]
  },
  {
   "cell_type": "markdown",
   "metadata": {},
   "source": [
    "Среди всех пользователей присутстсвуют **53 аномальных**."
   ]
  },
  {
   "cell_type": "markdown",
   "metadata": {},
   "source": [
    "Посчитаем **статистическую значимость** различий в конверсии между группами теста по очищенным данным, применив **статистический критерий Манна-Уитни** к **очищенным** выборкам.\n",
    "\n",
    "Выведем p-value для сравнения конверсии между группами, округлив p-value до 3 знаков после запятой. Также, вычислим и выведем относительный прирост в конверсии между группами, округлив до 3 знаков после запятой:"
   ]
  },
  {
   "cell_type": "code",
   "execution_count": 26,
   "metadata": {},
   "outputs": [
    {
     "name": "stdout",
     "output_type": "stream",
     "text": [
      "Значение P-value: 0.010\n",
      "Относительный прирост в конверсии: 0.179\n"
     ]
    }
   ],
   "source": [
    "sampleAFiltered = pd.concat(\n",
    "    [\n",
    "        ordersByUsersA[\n",
    "            np.logical_not(ordersByUsersA['visitor_id'].isin(abnormalUsers))\n",
    "        ]['orders'],\n",
    "        pd.Series(\n",
    "            0,\n",
    "            index=np.arange(\n",
    "                data['visitorsPerDateA'].sum() - len(ordersByUsersA['orders'])\n",
    "            ),\n",
    "            name='orders',\n",
    "        ),\n",
    "    ],\n",
    "    axis=0,\n",
    ")\n",
    "\n",
    "sampleBFiltered = pd.concat(\n",
    "    [\n",
    "        ordersByUsersB[\n",
    "            np.logical_not(ordersByUsersB['visitor_id'].isin(abnormalUsers))\n",
    "        ]['orders'],\n",
    "        pd.Series(\n",
    "            0,\n",
    "            index=np.arange(\n",
    "                data['visitorsPerDateB'].sum() - len(ordersByUsersB['orders'])\n",
    "            ),\n",
    "            name='orders',\n",
    "        ),\n",
    "    ],\n",
    "    axis=0,\n",
    ")\n",
    "\n",
    "print('Значение P-value:', '{0:.3f}'.format(stats.mannwhitneyu(sampleAFiltered, sampleBFiltered)[1]))\n",
    "print('Относительный прирост в конверсии:', '{0:.3f}'.format(sampleBFiltered.mean()/sampleAFiltered.mean()-1))"
   ]
  },
  {
   "cell_type": "markdown",
   "metadata": {},
   "source": [
    "P-value **меньше 0.05**, поэтому **нулевую гипотезу отвергаем**. Анализ \"очещенных\" данных говорит нам о том, что в конверсии между сегментами есть статистически значимые различия.\n",
    "\n",
    "**Относительный прирост** конверсии `сегмента В` к конверсии `сегмента А` составляет **17.9%**.\n",
    "\n",
    "Аналогичная ситуация была и с \"сырыми\" данными."
   ]
  },
  {
   "cell_type": "markdown",
   "metadata": {},
   "source": [
    "### Статистическая значимость различий в среднем чеке заказа между группами по «очищенным» данным"
   ]
  },
  {
   "cell_type": "markdown",
   "metadata": {},
   "source": [
    "Посчитаем **статистическую значимость** различий в среднем чеке заказа между группами теста по очищенным данным, применив **статистический критерий Манна-Уитни** к **очищенным** выборкам.\n",
    "\n",
    "Выведем p-value для сравнения среднего чека заказа между группами, округлив p-value до 3 знаков после запятой. Также, вычислим и выведем относительный прирост в среднем чеке заказа между группами, округлив до 3 знаков после запятой:"
   ]
  },
  {
   "cell_type": "code",
   "execution_count": 27,
   "metadata": {},
   "outputs": [
    {
     "name": "stdout",
     "output_type": "stream",
     "text": [
      "Значение P-value: 0.885\n",
      "Относительный прирост в среднем чеке: 0.022\n"
     ]
    }
   ],
   "source": [
    "print(\n",
    "    'Значение P-value:',\n",
    "    '{0:.3f}'.format(\n",
    "        stats.mannwhitneyu(\n",
    "            orders[\n",
    "                np.logical_and(\n",
    "                    orders['group'] == 'A',\n",
    "                    np.logical_not(orders['visitor_id'].isin(abnormalUsers)),\n",
    "                )\n",
    "            ]['revenue'],\n",
    "            orders[\n",
    "                np.logical_and(\n",
    "                    orders['group'] == 'B',\n",
    "                    np.logical_not(orders['visitor_id'].isin(abnormalUsers)),\n",
    "                )\n",
    "            ]['revenue'],\n",
    "        )[1]\n",
    "    )\n",
    ")\n",
    "\n",
    "print(\n",
    "    'Относительный прирост в среднем чеке:',\n",
    "    \"{0:.3f}\".format(\n",
    "        orders[\n",
    "            np.logical_and(\n",
    "                orders['group'] == 'B',\n",
    "                np.logical_not(orders['visitor_id'].isin(abnormalUsers)),\n",
    "            )\n",
    "        ]['revenue'].mean()\n",
    "        / orders[\n",
    "            np.logical_and(\n",
    "                orders['group'] == 'A',\n",
    "                np.logical_not(orders['visitor_id'].isin(abnormalUsers)),\n",
    "            )\n",
    "        ]['revenue'].mean()\n",
    "        - 1\n",
    "    )\n",
    ")"
   ]
  },
  {
   "cell_type": "markdown",
   "metadata": {},
   "source": [
    "P-value по-прежнему значительно **больше 0.05**. Значит, причин отвергать нулевую гипотезу и считать, что в среднем чеке есть различия, действительно нет. \n",
    "\n",
    "Однако, прирост среднего чека `сегмента B` над средним чеком `сегмента A` упал до **2.2%**, что может говорить нам о том, что основная масса аномальных пользователей находится именно в `сегменте В`.\n",
    "\n",
    "Именно этот результат мы наблюдали при построении графиков кумулятивных показателей сегментов."
   ]
  },
  {
   "cell_type": "markdown",
   "metadata": {},
   "source": [
    "### Решение по результатам теста"
   ]
  },
  {
   "cell_type": "markdown",
   "metadata": {},
   "source": [
    "**Окончательное решение**:\n",
    "- Остановить тест, признать его успешным, зафиксировать победу `сегмента В`."
   ]
  },
  {
   "cell_type": "markdown",
   "metadata": {},
   "source": [
    "## Общий вывод"
   ]
  },
  {
   "cell_type": "markdown",
   "metadata": {},
   "source": [
    "В ходе проведения A/B-теста и анализа его результатов была проделана следующая работа:\n",
    "\n",
    "**1. Подготовка данных к анализу, в ходе которой:**\n",
    "- загружены данные и изучена информация по ним;\n",
    "- названия столбцов были приведены к нижнему и \"змеиному\" регистру в соответствии с хорошим тоном;\n",
    "- проведена проверка на наличие дубликатов и пропусков.\n",
    "\n",
    "**2. Произведена приоритизация гипотез:**\n",
    "- приоритизация гипотез с помощью фреймворка `ICE`;\n",
    "- приоритизация гипотез с помощью фреймворка `RICE`;\n",
    "- cравнение измененийй приоритизации гипотез с помощью фреймворков `ICE` и `RICE`;\n",
    "- определена наиболее приоритетная гипотеза - `добавить форму подписки на все основные страницы, чтобы собрать базу клиентов для email-рассылок`\n",
    "\n",
    "**3. Проведен анализ результатов A/B-теста**:\n",
    "- построены и проанализированы графики кумулятивной выручки, кумулятивного среднего чека и кумулятивной конверсии;\n",
    "- установлены нижние границы для определения аномальных пользователей и заказов;\n",
    "- сформулированы нулевая и альтернативная гипотезы;\n",
    "- посчитана статистическая значимость различий в конверсии и среднем чеке по \"сырым\" данным;\n",
    "- посчитана статистическая значимость различий в конверсии и среднем чеке по \"очищенным\" данным;\n",
    "\n",
    "По результатам проведения A/B-теста теста можно сделать следующие **выводы**:\n",
    "- Есть статистически значимое различие по конверсии между группами как по сырым данным, так и после фильтрации аномалий (наблюдается значительный прирост конверсии `сегмента В` над конверсией `сегмента А`, а именно на **13.8%** по \"сырым\" данным и на **17.9%** по \"очищенным\" данным);\n",
    "- По сырым данным нет статистически значимого различия по среднему чеку между сегментами. Аналогичный результат касательно статистической значимости получен после удаления аномалий;\n",
    "- График различия конверсии между сегментами сообщает, что результаты `сегмента B` лучше `сегмента A`: имеют тенденцию к росту, либо зафиксировались около среднего значения.\n",
    "\n",
    "**Рекоммендации** для команды разработчиков:\n",
    "- Добавить форму подписки на все основные страницы, чтобы собрать базу клиентов для email-рассылок. Данное обновление значительно увеличит количество пользователей."
   ]
  }
 ],
 "metadata": {
  "ExecuteTimeLog": [
   {
    "duration": 1236,
    "start_time": "2022-04-07T08:38:37.404Z"
   },
   {
    "duration": 218,
    "start_time": "2022-04-07T08:40:23.661Z"
   },
   {
    "duration": 3,
    "start_time": "2022-04-07T08:41:00.855Z"
   },
   {
    "duration": 91,
    "start_time": "2022-04-07T08:41:02.261Z"
   },
   {
    "duration": 91,
    "start_time": "2022-04-07T08:41:24.360Z"
   },
   {
    "duration": 27,
    "start_time": "2022-04-07T08:43:31.443Z"
   },
   {
    "duration": 210,
    "start_time": "2022-04-07T08:45:33.411Z"
   },
   {
    "duration": 7,
    "start_time": "2022-04-07T08:47:02.359Z"
   },
   {
    "duration": 8,
    "start_time": "2022-04-07T08:47:50.722Z"
   },
   {
    "duration": 4,
    "start_time": "2022-04-07T08:48:03.491Z"
   },
   {
    "duration": 3,
    "start_time": "2022-04-07T08:49:32.579Z"
   },
   {
    "duration": 4,
    "start_time": "2022-04-07T08:49:33.745Z"
   },
   {
    "duration": 10,
    "start_time": "2022-04-07T08:50:28.884Z"
   },
   {
    "duration": 10,
    "start_time": "2022-04-07T08:51:08.938Z"
   },
   {
    "duration": 6,
    "start_time": "2022-04-07T08:51:43.937Z"
   },
   {
    "duration": 6,
    "start_time": "2022-04-07T08:52:32.951Z"
   },
   {
    "duration": 11,
    "start_time": "2022-04-07T08:55:58.608Z"
   },
   {
    "duration": 2817,
    "start_time": "2022-04-07T08:58:17.151Z"
   },
   {
    "duration": 761,
    "start_time": "2022-04-07T08:58:27.551Z"
   },
   {
    "duration": 7,
    "start_time": "2022-04-07T08:58:46.471Z"
   },
   {
    "duration": 3,
    "start_time": "2022-04-07T08:58:58.547Z"
   },
   {
    "duration": 78,
    "start_time": "2022-04-07T08:58:59.734Z"
   },
   {
    "duration": 3222,
    "start_time": "2022-04-07T08:59:04.969Z"
   },
   {
    "duration": 1045,
    "start_time": "2022-04-07T08:59:19.534Z"
   },
   {
    "duration": 131,
    "start_time": "2022-04-07T08:59:20.581Z"
   },
   {
    "duration": 27,
    "start_time": "2022-04-07T08:59:20.714Z"
   },
   {
    "duration": 6,
    "start_time": "2022-04-07T08:59:20.743Z"
   },
   {
    "duration": 3,
    "start_time": "2022-04-07T08:59:20.751Z"
   },
   {
    "duration": 7,
    "start_time": "2022-04-07T08:59:20.756Z"
   },
   {
    "duration": 40,
    "start_time": "2022-04-07T08:59:20.765Z"
   },
   {
    "duration": 11,
    "start_time": "2022-04-07T08:59:20.807Z"
   },
   {
    "duration": 11,
    "start_time": "2022-04-07T08:59:20.820Z"
   },
   {
    "duration": 8,
    "start_time": "2022-04-07T08:59:20.834Z"
   },
   {
    "duration": 3,
    "start_time": "2022-04-07T08:59:29.590Z"
   },
   {
    "duration": 80,
    "start_time": "2022-04-07T08:59:30.913Z"
   },
   {
    "duration": 3,
    "start_time": "2022-04-07T08:59:40.226Z"
   },
   {
    "duration": 79,
    "start_time": "2022-04-07T08:59:41.162Z"
   },
   {
    "duration": 1034,
    "start_time": "2022-04-07T08:59:48.541Z"
   },
   {
    "duration": 138,
    "start_time": "2022-04-07T08:59:49.577Z"
   },
   {
    "duration": 28,
    "start_time": "2022-04-07T08:59:49.717Z"
   },
   {
    "duration": 8,
    "start_time": "2022-04-07T08:59:49.747Z"
   },
   {
    "duration": 4,
    "start_time": "2022-04-07T08:59:49.757Z"
   },
   {
    "duration": 43,
    "start_time": "2022-04-07T08:59:49.762Z"
   },
   {
    "duration": 9,
    "start_time": "2022-04-07T08:59:49.807Z"
   },
   {
    "duration": 10,
    "start_time": "2022-04-07T08:59:49.818Z"
   },
   {
    "duration": 10,
    "start_time": "2022-04-07T08:59:49.829Z"
   },
   {
    "duration": 11,
    "start_time": "2022-04-07T08:59:49.841Z"
   },
   {
    "duration": 8,
    "start_time": "2022-04-07T09:01:18.816Z"
   },
   {
    "duration": 9,
    "start_time": "2022-04-07T09:02:43.783Z"
   },
   {
    "duration": 54,
    "start_time": "2022-04-07T09:09:58.187Z"
   },
   {
    "duration": 67,
    "start_time": "2022-04-07T09:12:19.099Z"
   },
   {
    "duration": 16,
    "start_time": "2022-04-07T09:12:33.599Z"
   },
   {
    "duration": 16,
    "start_time": "2022-04-07T09:13:00.626Z"
   },
   {
    "duration": 17,
    "start_time": "2022-04-07T09:13:09.468Z"
   },
   {
    "duration": 15,
    "start_time": "2022-04-07T09:13:15.797Z"
   },
   {
    "duration": 4,
    "start_time": "2022-04-07T09:43:23.300Z"
   },
   {
    "duration": 9,
    "start_time": "2022-04-07T09:47:56.300Z"
   },
   {
    "duration": 1318,
    "start_time": "2022-04-07T09:48:03.831Z"
   },
   {
    "duration": 0,
    "start_time": "2022-04-07T09:48:05.151Z"
   },
   {
    "duration": 0,
    "start_time": "2022-04-07T09:48:05.153Z"
   },
   {
    "duration": 0,
    "start_time": "2022-04-07T09:48:05.153Z"
   },
   {
    "duration": 0,
    "start_time": "2022-04-07T09:48:05.154Z"
   },
   {
    "duration": 0,
    "start_time": "2022-04-07T09:48:05.155Z"
   },
   {
    "duration": 0,
    "start_time": "2022-04-07T09:48:05.156Z"
   },
   {
    "duration": 0,
    "start_time": "2022-04-07T09:48:05.157Z"
   },
   {
    "duration": 0,
    "start_time": "2022-04-07T09:48:05.158Z"
   },
   {
    "duration": 0,
    "start_time": "2022-04-07T09:48:05.159Z"
   },
   {
    "duration": 0,
    "start_time": "2022-04-07T09:48:05.160Z"
   },
   {
    "duration": 0,
    "start_time": "2022-04-07T09:48:05.161Z"
   },
   {
    "duration": 13,
    "start_time": "2022-04-07T09:49:03.288Z"
   },
   {
    "duration": 3,
    "start_time": "2022-04-07T09:49:16.945Z"
   },
   {
    "duration": 17,
    "start_time": "2022-04-07T09:49:25.550Z"
   },
   {
    "duration": 1144,
    "start_time": "2022-04-07T09:49:30.525Z"
   },
   {
    "duration": 85,
    "start_time": "2022-04-07T09:49:31.671Z"
   },
   {
    "duration": 27,
    "start_time": "2022-04-07T09:49:31.758Z"
   },
   {
    "duration": 7,
    "start_time": "2022-04-07T09:49:31.787Z"
   },
   {
    "duration": 14,
    "start_time": "2022-04-07T09:49:31.796Z"
   },
   {
    "duration": 19,
    "start_time": "2022-04-07T09:49:31.811Z"
   },
   {
    "duration": 19,
    "start_time": "2022-04-07T09:49:31.832Z"
   },
   {
    "duration": 15,
    "start_time": "2022-04-07T09:49:31.853Z"
   },
   {
    "duration": 18,
    "start_time": "2022-04-07T09:49:31.870Z"
   },
   {
    "duration": 20,
    "start_time": "2022-04-07T09:49:31.889Z"
   },
   {
    "duration": 16,
    "start_time": "2022-04-07T09:49:31.911Z"
   },
   {
    "duration": 60,
    "start_time": "2022-04-07T09:49:31.928Z"
   },
   {
    "duration": 887,
    "start_time": "2022-04-07T09:49:31.990Z"
   },
   {
    "duration": 783,
    "start_time": "2022-04-07T09:50:15.432Z"
   },
   {
    "duration": 38,
    "start_time": "2022-04-07T09:50:31.706Z"
   },
   {
    "duration": 1191,
    "start_time": "2022-04-07T09:51:36.525Z"
   },
   {
    "duration": 87,
    "start_time": "2022-04-07T09:51:37.719Z"
   },
   {
    "duration": 26,
    "start_time": "2022-04-07T09:51:37.807Z"
   },
   {
    "duration": 6,
    "start_time": "2022-04-07T09:51:37.835Z"
   },
   {
    "duration": 4,
    "start_time": "2022-04-07T09:51:37.842Z"
   },
   {
    "duration": 5,
    "start_time": "2022-04-07T09:51:37.848Z"
   },
   {
    "duration": 48,
    "start_time": "2022-04-07T09:51:37.855Z"
   },
   {
    "duration": 14,
    "start_time": "2022-04-07T09:51:37.905Z"
   },
   {
    "duration": 11,
    "start_time": "2022-04-07T09:51:37.921Z"
   },
   {
    "duration": 8,
    "start_time": "2022-04-07T09:51:37.934Z"
   },
   {
    "duration": 8,
    "start_time": "2022-04-07T09:51:37.944Z"
   },
   {
    "duration": 96,
    "start_time": "2022-04-07T09:51:37.953Z"
   },
   {
    "duration": 140,
    "start_time": "2022-04-07T09:51:38.050Z"
   },
   {
    "duration": 834,
    "start_time": "2022-04-07T09:53:34.211Z"
   },
   {
    "duration": 797,
    "start_time": "2022-04-07T09:53:55.853Z"
   },
   {
    "duration": 798,
    "start_time": "2022-04-07T09:54:10.561Z"
   },
   {
    "duration": 782,
    "start_time": "2022-04-07T09:57:58.717Z"
   },
   {
    "duration": 919,
    "start_time": "2022-04-07T10:00:02.740Z"
   },
   {
    "duration": 1181,
    "start_time": "2022-04-07T10:00:31.016Z"
   },
   {
    "duration": 87,
    "start_time": "2022-04-07T10:00:32.199Z"
   },
   {
    "duration": 25,
    "start_time": "2022-04-07T10:00:32.288Z"
   },
   {
    "duration": 6,
    "start_time": "2022-04-07T10:00:32.315Z"
   },
   {
    "duration": 5,
    "start_time": "2022-04-07T10:00:32.323Z"
   },
   {
    "duration": 7,
    "start_time": "2022-04-07T10:00:32.330Z"
   },
   {
    "duration": 14,
    "start_time": "2022-04-07T10:00:32.338Z"
   },
   {
    "duration": 11,
    "start_time": "2022-04-07T10:00:32.353Z"
   },
   {
    "duration": 39,
    "start_time": "2022-04-07T10:00:32.366Z"
   },
   {
    "duration": 8,
    "start_time": "2022-04-07T10:00:32.408Z"
   },
   {
    "duration": 7,
    "start_time": "2022-04-07T10:00:32.417Z"
   },
   {
    "duration": 53,
    "start_time": "2022-04-07T10:00:32.426Z"
   },
   {
    "duration": 892,
    "start_time": "2022-04-07T10:00:32.502Z"
   },
   {
    "duration": 79,
    "start_time": "2022-04-07T10:05:29.066Z"
   },
   {
    "duration": 1581,
    "start_time": "2022-04-07T10:05:35.650Z"
   },
   {
    "duration": 95,
    "start_time": "2022-04-07T10:05:37.234Z"
   },
   {
    "duration": 30,
    "start_time": "2022-04-07T10:05:37.330Z"
   },
   {
    "duration": 7,
    "start_time": "2022-04-07T10:05:37.361Z"
   },
   {
    "duration": 7,
    "start_time": "2022-04-07T10:05:37.403Z"
   },
   {
    "duration": 9,
    "start_time": "2022-04-07T10:05:37.412Z"
   },
   {
    "duration": 10,
    "start_time": "2022-04-07T10:05:37.423Z"
   },
   {
    "duration": 15,
    "start_time": "2022-04-07T10:05:37.435Z"
   },
   {
    "duration": 15,
    "start_time": "2022-04-07T10:05:37.452Z"
   },
   {
    "duration": 15,
    "start_time": "2022-04-07T10:05:37.503Z"
   },
   {
    "duration": 10,
    "start_time": "2022-04-07T10:05:37.520Z"
   },
   {
    "duration": 91,
    "start_time": "2022-04-07T10:05:37.532Z"
   },
   {
    "duration": 959,
    "start_time": "2022-04-07T10:05:37.625Z"
   },
   {
    "duration": 825,
    "start_time": "2022-04-07T10:07:08.852Z"
   },
   {
    "duration": 897,
    "start_time": "2022-04-07T10:07:13.009Z"
   },
   {
    "duration": 2539,
    "start_time": "2022-04-07T10:07:26.292Z"
   },
   {
    "duration": 800,
    "start_time": "2022-04-07T10:07:37.727Z"
   },
   {
    "duration": 1038,
    "start_time": "2022-04-07T10:08:56.682Z"
   },
   {
    "duration": 6,
    "start_time": "2022-04-07T10:10:54.606Z"
   },
   {
    "duration": 1242,
    "start_time": "2022-04-07T10:10:59.965Z"
   },
   {
    "duration": 86,
    "start_time": "2022-04-07T10:11:01.209Z"
   },
   {
    "duration": 26,
    "start_time": "2022-04-07T10:11:01.297Z"
   },
   {
    "duration": 6,
    "start_time": "2022-04-07T10:11:01.325Z"
   },
   {
    "duration": 3,
    "start_time": "2022-04-07T10:11:01.333Z"
   },
   {
    "duration": 4,
    "start_time": "2022-04-07T10:11:01.338Z"
   },
   {
    "duration": 8,
    "start_time": "2022-04-07T10:11:01.343Z"
   },
   {
    "duration": 6,
    "start_time": "2022-04-07T10:11:01.352Z"
   },
   {
    "duration": 49,
    "start_time": "2022-04-07T10:11:01.359Z"
   },
   {
    "duration": 13,
    "start_time": "2022-04-07T10:11:01.410Z"
   },
   {
    "duration": 9,
    "start_time": "2022-04-07T10:11:01.424Z"
   },
   {
    "duration": 9,
    "start_time": "2022-04-07T10:11:01.435Z"
   },
   {
    "duration": 80,
    "start_time": "2022-04-07T10:11:01.446Z"
   },
   {
    "duration": 895,
    "start_time": "2022-04-07T10:11:01.528Z"
   },
   {
    "duration": 25,
    "start_time": "2022-04-07T10:12:26.928Z"
   },
   {
    "duration": 1221,
    "start_time": "2022-04-07T10:15:05.472Z"
   },
   {
    "duration": 96,
    "start_time": "2022-04-07T10:15:06.695Z"
   },
   {
    "duration": 30,
    "start_time": "2022-04-07T10:15:06.793Z"
   },
   {
    "duration": 7,
    "start_time": "2022-04-07T10:15:06.824Z"
   },
   {
    "duration": 4,
    "start_time": "2022-04-07T10:15:06.833Z"
   },
   {
    "duration": 5,
    "start_time": "2022-04-07T10:15:06.839Z"
   },
   {
    "duration": 9,
    "start_time": "2022-04-07T10:15:06.845Z"
   },
   {
    "duration": 46,
    "start_time": "2022-04-07T10:15:06.856Z"
   },
   {
    "duration": 12,
    "start_time": "2022-04-07T10:15:06.904Z"
   },
   {
    "duration": 9,
    "start_time": "2022-04-07T10:15:06.917Z"
   },
   {
    "duration": 7,
    "start_time": "2022-04-07T10:15:06.928Z"
   },
   {
    "duration": 84,
    "start_time": "2022-04-07T10:15:06.937Z"
   },
   {
    "duration": 899,
    "start_time": "2022-04-07T10:15:07.023Z"
   },
   {
    "duration": 82,
    "start_time": "2022-04-07T10:16:31.064Z"
   },
   {
    "duration": 214,
    "start_time": "2022-04-07T10:16:55.996Z"
   },
   {
    "duration": 1244,
    "start_time": "2022-04-07T10:17:08.869Z"
   },
   {
    "duration": 87,
    "start_time": "2022-04-07T10:17:10.115Z"
   },
   {
    "duration": 33,
    "start_time": "2022-04-07T10:17:10.204Z"
   },
   {
    "duration": 8,
    "start_time": "2022-04-07T10:17:10.239Z"
   },
   {
    "duration": 10,
    "start_time": "2022-04-07T10:17:10.249Z"
   },
   {
    "duration": 12,
    "start_time": "2022-04-07T10:17:10.261Z"
   },
   {
    "duration": 10,
    "start_time": "2022-04-07T10:17:10.300Z"
   },
   {
    "duration": 19,
    "start_time": "2022-04-07T10:17:10.312Z"
   },
   {
    "duration": 12,
    "start_time": "2022-04-07T10:17:10.334Z"
   },
   {
    "duration": 19,
    "start_time": "2022-04-07T10:17:10.349Z"
   },
   {
    "duration": 39,
    "start_time": "2022-04-07T10:17:10.369Z"
   },
   {
    "duration": 54,
    "start_time": "2022-04-07T10:17:10.410Z"
   },
   {
    "duration": 206,
    "start_time": "2022-04-07T10:17:10.466Z"
   },
   {
    "duration": 920,
    "start_time": "2022-04-07T10:17:25.134Z"
   },
   {
    "duration": 837,
    "start_time": "2022-04-07T10:17:38.180Z"
   },
   {
    "duration": 3970,
    "start_time": "2022-04-07T10:20:13.794Z"
   },
   {
    "duration": 1010,
    "start_time": "2022-04-07T10:20:47.362Z"
   },
   {
    "duration": 828,
    "start_time": "2022-04-07T10:21:17.198Z"
   },
   {
    "duration": 49,
    "start_time": "2022-04-07T10:21:34.989Z"
   },
   {
    "duration": 1247,
    "start_time": "2022-04-07T10:22:07.958Z"
   },
   {
    "duration": 83,
    "start_time": "2022-04-07T10:22:09.207Z"
   },
   {
    "duration": 25,
    "start_time": "2022-04-07T10:22:09.292Z"
   },
   {
    "duration": 6,
    "start_time": "2022-04-07T10:22:09.319Z"
   },
   {
    "duration": 20,
    "start_time": "2022-04-07T10:22:09.327Z"
   },
   {
    "duration": 15,
    "start_time": "2022-04-07T10:22:09.349Z"
   },
   {
    "duration": 21,
    "start_time": "2022-04-07T10:22:09.365Z"
   },
   {
    "duration": 18,
    "start_time": "2022-04-07T10:22:09.388Z"
   },
   {
    "duration": 19,
    "start_time": "2022-04-07T10:22:09.408Z"
   },
   {
    "duration": 32,
    "start_time": "2022-04-07T10:22:09.428Z"
   },
   {
    "duration": 19,
    "start_time": "2022-04-07T10:22:09.462Z"
   },
   {
    "duration": 67,
    "start_time": "2022-04-07T10:22:09.484Z"
   },
   {
    "duration": 155,
    "start_time": "2022-04-07T10:22:09.553Z"
   },
   {
    "duration": 767,
    "start_time": "2022-04-07T10:23:24.038Z"
   },
   {
    "duration": 1337,
    "start_time": "2022-04-07T10:23:49.530Z"
   },
   {
    "duration": 98,
    "start_time": "2022-04-07T10:23:50.870Z"
   },
   {
    "duration": 37,
    "start_time": "2022-04-07T10:23:50.970Z"
   },
   {
    "duration": 8,
    "start_time": "2022-04-07T10:23:51.009Z"
   },
   {
    "duration": 7,
    "start_time": "2022-04-07T10:23:51.019Z"
   },
   {
    "duration": 5,
    "start_time": "2022-04-07T10:23:51.028Z"
   },
   {
    "duration": 9,
    "start_time": "2022-04-07T10:23:51.035Z"
   },
   {
    "duration": 16,
    "start_time": "2022-04-07T10:23:51.046Z"
   },
   {
    "duration": 52,
    "start_time": "2022-04-07T10:23:51.064Z"
   },
   {
    "duration": 11,
    "start_time": "2022-04-07T10:23:51.119Z"
   },
   {
    "duration": 10,
    "start_time": "2022-04-07T10:23:51.132Z"
   },
   {
    "duration": 94,
    "start_time": "2022-04-07T10:23:51.144Z"
   },
   {
    "duration": 855,
    "start_time": "2022-04-07T10:23:51.240Z"
   },
   {
    "duration": 924,
    "start_time": "2022-04-07T10:24:14.585Z"
   },
   {
    "duration": 1204,
    "start_time": "2022-04-07T10:24:21.287Z"
   },
   {
    "duration": 83,
    "start_time": "2022-04-07T10:24:22.493Z"
   },
   {
    "duration": 25,
    "start_time": "2022-04-07T10:24:22.578Z"
   },
   {
    "duration": 6,
    "start_time": "2022-04-07T10:24:22.605Z"
   },
   {
    "duration": 3,
    "start_time": "2022-04-07T10:24:22.614Z"
   },
   {
    "duration": 4,
    "start_time": "2022-04-07T10:24:22.619Z"
   },
   {
    "duration": 7,
    "start_time": "2022-04-07T10:24:22.625Z"
   },
   {
    "duration": 11,
    "start_time": "2022-04-07T10:24:22.634Z"
   },
   {
    "duration": 11,
    "start_time": "2022-04-07T10:24:22.646Z"
   },
   {
    "duration": 50,
    "start_time": "2022-04-07T10:24:22.658Z"
   },
   {
    "duration": 8,
    "start_time": "2022-04-07T10:24:22.709Z"
   },
   {
    "duration": 53,
    "start_time": "2022-04-07T10:24:22.719Z"
   },
   {
    "duration": 557,
    "start_time": "2022-04-07T10:24:22.773Z"
   },
   {
    "duration": 881,
    "start_time": "2022-04-07T10:24:35.520Z"
   },
   {
    "duration": 1208,
    "start_time": "2022-04-07T10:24:45.393Z"
   },
   {
    "duration": 86,
    "start_time": "2022-04-07T10:24:46.604Z"
   },
   {
    "duration": 42,
    "start_time": "2022-04-07T10:24:46.697Z"
   },
   {
    "duration": 8,
    "start_time": "2022-04-07T10:24:46.741Z"
   },
   {
    "duration": 5,
    "start_time": "2022-04-07T10:24:46.750Z"
   },
   {
    "duration": 7,
    "start_time": "2022-04-07T10:24:46.757Z"
   },
   {
    "duration": 42,
    "start_time": "2022-04-07T10:24:46.766Z"
   },
   {
    "duration": 15,
    "start_time": "2022-04-07T10:24:46.810Z"
   },
   {
    "duration": 13,
    "start_time": "2022-04-07T10:24:46.828Z"
   },
   {
    "duration": 11,
    "start_time": "2022-04-07T10:24:46.843Z"
   },
   {
    "duration": 46,
    "start_time": "2022-04-07T10:24:46.856Z"
   },
   {
    "duration": 65,
    "start_time": "2022-04-07T10:24:46.904Z"
   },
   {
    "duration": 500,
    "start_time": "2022-04-07T10:24:46.970Z"
   },
   {
    "duration": 957,
    "start_time": "2022-04-07T10:25:20.355Z"
   },
   {
    "duration": 1223,
    "start_time": "2022-04-07T10:25:28.062Z"
   },
   {
    "duration": 84,
    "start_time": "2022-04-07T10:25:29.287Z"
   },
   {
    "duration": 25,
    "start_time": "2022-04-07T10:25:29.372Z"
   },
   {
    "duration": 5,
    "start_time": "2022-04-07T10:25:29.399Z"
   },
   {
    "duration": 4,
    "start_time": "2022-04-07T10:25:29.405Z"
   },
   {
    "duration": 6,
    "start_time": "2022-04-07T10:25:29.410Z"
   },
   {
    "duration": 7,
    "start_time": "2022-04-07T10:25:29.417Z"
   },
   {
    "duration": 11,
    "start_time": "2022-04-07T10:25:29.425Z"
   },
   {
    "duration": 11,
    "start_time": "2022-04-07T10:25:29.437Z"
   },
   {
    "duration": 7,
    "start_time": "2022-04-07T10:25:29.450Z"
   },
   {
    "duration": 49,
    "start_time": "2022-04-07T10:25:29.459Z"
   },
   {
    "duration": 56,
    "start_time": "2022-04-07T10:25:29.510Z"
   },
   {
    "duration": 550,
    "start_time": "2022-04-07T10:25:29.568Z"
   },
   {
    "duration": 850,
    "start_time": "2022-04-07T10:26:38.268Z"
   },
   {
    "duration": 1541,
    "start_time": "2022-04-07T10:26:45.105Z"
   },
   {
    "duration": 93,
    "start_time": "2022-04-07T10:26:46.649Z"
   },
   {
    "duration": 33,
    "start_time": "2022-04-07T10:26:46.744Z"
   },
   {
    "duration": 25,
    "start_time": "2022-04-07T10:26:46.779Z"
   },
   {
    "duration": 6,
    "start_time": "2022-04-07T10:26:46.808Z"
   },
   {
    "duration": 7,
    "start_time": "2022-04-07T10:26:46.816Z"
   },
   {
    "duration": 11,
    "start_time": "2022-04-07T10:26:46.825Z"
   },
   {
    "duration": 13,
    "start_time": "2022-04-07T10:26:46.838Z"
   },
   {
    "duration": 55,
    "start_time": "2022-04-07T10:26:46.853Z"
   },
   {
    "duration": 12,
    "start_time": "2022-04-07T10:26:46.910Z"
   },
   {
    "duration": 10,
    "start_time": "2022-04-07T10:26:46.924Z"
   },
   {
    "duration": 103,
    "start_time": "2022-04-07T10:26:46.936Z"
   },
   {
    "duration": 682,
    "start_time": "2022-04-07T10:26:47.041Z"
   },
   {
    "duration": 818,
    "start_time": "2022-04-07T10:27:06.079Z"
   },
   {
    "duration": 1297,
    "start_time": "2022-04-07T10:27:13.781Z"
   },
   {
    "duration": 88,
    "start_time": "2022-04-07T10:27:15.080Z"
   },
   {
    "duration": 32,
    "start_time": "2022-04-07T10:27:15.170Z"
   },
   {
    "duration": 9,
    "start_time": "2022-04-07T10:27:15.204Z"
   },
   {
    "duration": 4,
    "start_time": "2022-04-07T10:27:15.215Z"
   },
   {
    "duration": 5,
    "start_time": "2022-04-07T10:27:15.221Z"
   },
   {
    "duration": 10,
    "start_time": "2022-04-07T10:27:15.227Z"
   },
   {
    "duration": 17,
    "start_time": "2022-04-07T10:27:15.239Z"
   },
   {
    "duration": 46,
    "start_time": "2022-04-07T10:27:15.258Z"
   },
   {
    "duration": 10,
    "start_time": "2022-04-07T10:27:15.306Z"
   },
   {
    "duration": 11,
    "start_time": "2022-04-07T10:27:15.318Z"
   },
   {
    "duration": 78,
    "start_time": "2022-04-07T10:27:15.331Z"
   },
   {
    "duration": 631,
    "start_time": "2022-04-07T10:27:15.411Z"
   },
   {
    "duration": 1305,
    "start_time": "2022-04-07T10:28:22.968Z"
   },
   {
    "duration": 1191,
    "start_time": "2022-04-07T10:28:32.573Z"
   },
   {
    "duration": 84,
    "start_time": "2022-04-07T10:28:33.766Z"
   },
   {
    "duration": 30,
    "start_time": "2022-04-07T10:28:33.851Z"
   },
   {
    "duration": 8,
    "start_time": "2022-04-07T10:28:33.882Z"
   },
   {
    "duration": 9,
    "start_time": "2022-04-07T10:28:33.892Z"
   },
   {
    "duration": 4,
    "start_time": "2022-04-07T10:28:33.903Z"
   },
   {
    "duration": 9,
    "start_time": "2022-04-07T10:28:33.909Z"
   },
   {
    "duration": 10,
    "start_time": "2022-04-07T10:28:33.920Z"
   },
   {
    "duration": 10,
    "start_time": "2022-04-07T10:28:33.932Z"
   },
   {
    "duration": 8,
    "start_time": "2022-04-07T10:28:33.943Z"
   },
   {
    "duration": 53,
    "start_time": "2022-04-07T10:28:33.953Z"
   },
   {
    "duration": 57,
    "start_time": "2022-04-07T10:28:34.008Z"
   },
   {
    "duration": 619,
    "start_time": "2022-04-07T10:28:34.066Z"
   },
   {
    "duration": 1185,
    "start_time": "2022-04-07T10:28:50.975Z"
   },
   {
    "duration": 85,
    "start_time": "2022-04-07T10:28:52.162Z"
   },
   {
    "duration": 31,
    "start_time": "2022-04-07T10:28:52.249Z"
   },
   {
    "duration": 9,
    "start_time": "2022-04-07T10:28:52.282Z"
   },
   {
    "duration": 5,
    "start_time": "2022-04-07T10:28:52.303Z"
   },
   {
    "duration": 6,
    "start_time": "2022-04-07T10:28:52.310Z"
   },
   {
    "duration": 9,
    "start_time": "2022-04-07T10:28:52.318Z"
   },
   {
    "duration": 12,
    "start_time": "2022-04-07T10:28:52.328Z"
   },
   {
    "duration": 12,
    "start_time": "2022-04-07T10:28:52.342Z"
   },
   {
    "duration": 51,
    "start_time": "2022-04-07T10:28:52.355Z"
   },
   {
    "duration": 9,
    "start_time": "2022-04-07T10:28:52.408Z"
   },
   {
    "duration": 54,
    "start_time": "2022-04-07T10:28:52.418Z"
   },
   {
    "duration": 621,
    "start_time": "2022-04-07T10:28:52.474Z"
   },
   {
    "duration": 2415,
    "start_time": "2022-04-07T10:30:20.204Z"
   },
   {
    "duration": 1979,
    "start_time": "2022-04-07T10:30:22.622Z"
   },
   {
    "duration": 27,
    "start_time": "2022-04-07T10:30:24.603Z"
   },
   {
    "duration": 6,
    "start_time": "2022-04-07T10:30:24.632Z"
   },
   {
    "duration": 4,
    "start_time": "2022-04-07T10:30:24.640Z"
   },
   {
    "duration": 4,
    "start_time": "2022-04-07T10:30:24.645Z"
   },
   {
    "duration": 7,
    "start_time": "2022-04-07T10:30:24.651Z"
   },
   {
    "duration": 10,
    "start_time": "2022-04-07T10:30:24.660Z"
   },
   {
    "duration": 10,
    "start_time": "2022-04-07T10:30:24.671Z"
   },
   {
    "duration": 18,
    "start_time": "2022-04-07T10:30:24.683Z"
   },
   {
    "duration": 8,
    "start_time": "2022-04-07T10:30:24.702Z"
   },
   {
    "duration": 52,
    "start_time": "2022-04-07T10:30:24.711Z"
   },
   {
    "duration": 678,
    "start_time": "2022-04-07T10:30:24.765Z"
   },
   {
    "duration": 1601,
    "start_time": "2022-04-07T10:32:01.235Z"
   },
   {
    "duration": 129,
    "start_time": "2022-04-07T10:32:02.838Z"
   },
   {
    "duration": 36,
    "start_time": "2022-04-07T10:32:02.969Z"
   },
   {
    "duration": 9,
    "start_time": "2022-04-07T10:32:03.007Z"
   },
   {
    "duration": 5,
    "start_time": "2022-04-07T10:32:03.017Z"
   },
   {
    "duration": 29,
    "start_time": "2022-04-07T10:32:03.023Z"
   },
   {
    "duration": 13,
    "start_time": "2022-04-07T10:32:03.054Z"
   },
   {
    "duration": 13,
    "start_time": "2022-04-07T10:32:03.069Z"
   },
   {
    "duration": 21,
    "start_time": "2022-04-07T10:32:03.084Z"
   },
   {
    "duration": 11,
    "start_time": "2022-04-07T10:32:03.107Z"
   },
   {
    "duration": 9,
    "start_time": "2022-04-07T10:32:03.120Z"
   },
   {
    "duration": 73,
    "start_time": "2022-04-07T10:32:03.131Z"
   },
   {
    "duration": 648,
    "start_time": "2022-04-07T10:32:03.206Z"
   },
   {
    "duration": 1211,
    "start_time": "2022-04-07T10:32:34.124Z"
   },
   {
    "duration": 94,
    "start_time": "2022-04-07T10:32:35.337Z"
   },
   {
    "duration": 28,
    "start_time": "2022-04-07T10:32:35.433Z"
   },
   {
    "duration": 7,
    "start_time": "2022-04-07T10:32:35.462Z"
   },
   {
    "duration": 6,
    "start_time": "2022-04-07T10:32:35.471Z"
   },
   {
    "duration": 6,
    "start_time": "2022-04-07T10:32:35.501Z"
   },
   {
    "duration": 9,
    "start_time": "2022-04-07T10:32:35.509Z"
   },
   {
    "duration": 12,
    "start_time": "2022-04-07T10:32:35.519Z"
   },
   {
    "duration": 11,
    "start_time": "2022-04-07T10:32:35.533Z"
   },
   {
    "duration": 8,
    "start_time": "2022-04-07T10:32:35.545Z"
   },
   {
    "duration": 11,
    "start_time": "2022-04-07T10:32:35.554Z"
   },
   {
    "duration": 87,
    "start_time": "2022-04-07T10:32:35.567Z"
   },
   {
    "duration": 665,
    "start_time": "2022-04-07T10:32:35.655Z"
   },
   {
    "duration": 2068,
    "start_time": "2022-04-07T10:32:58.406Z"
   },
   {
    "duration": 786,
    "start_time": "2022-04-07T10:33:00.477Z"
   },
   {
    "duration": 29,
    "start_time": "2022-04-07T10:33:01.265Z"
   },
   {
    "duration": 6,
    "start_time": "2022-04-07T10:33:01.295Z"
   },
   {
    "duration": 4,
    "start_time": "2022-04-07T10:33:01.304Z"
   },
   {
    "duration": 13,
    "start_time": "2022-04-07T10:33:01.310Z"
   },
   {
    "duration": 8,
    "start_time": "2022-04-07T10:33:01.325Z"
   },
   {
    "duration": 13,
    "start_time": "2022-04-07T10:33:01.334Z"
   },
   {
    "duration": 13,
    "start_time": "2022-04-07T10:33:01.349Z"
   },
   {
    "duration": 43,
    "start_time": "2022-04-07T10:33:01.364Z"
   },
   {
    "duration": 11,
    "start_time": "2022-04-07T10:33:01.408Z"
   },
   {
    "duration": 65,
    "start_time": "2022-04-07T10:33:01.420Z"
   },
   {
    "duration": 654,
    "start_time": "2022-04-07T10:33:01.487Z"
   },
   {
    "duration": 1274,
    "start_time": "2022-04-07T10:33:19.885Z"
   },
   {
    "duration": 86,
    "start_time": "2022-04-07T10:33:21.160Z"
   },
   {
    "duration": 29,
    "start_time": "2022-04-07T10:33:21.247Z"
   },
   {
    "duration": 7,
    "start_time": "2022-04-07T10:33:21.278Z"
   },
   {
    "duration": 16,
    "start_time": "2022-04-07T10:33:21.287Z"
   },
   {
    "duration": 5,
    "start_time": "2022-04-07T10:33:21.305Z"
   },
   {
    "duration": 8,
    "start_time": "2022-04-07T10:33:21.311Z"
   },
   {
    "duration": 11,
    "start_time": "2022-04-07T10:33:21.321Z"
   },
   {
    "duration": 11,
    "start_time": "2022-04-07T10:33:21.333Z"
   },
   {
    "duration": 8,
    "start_time": "2022-04-07T10:33:21.346Z"
   },
   {
    "duration": 49,
    "start_time": "2022-04-07T10:33:21.356Z"
   },
   {
    "duration": 49,
    "start_time": "2022-04-07T10:33:21.407Z"
   },
   {
    "duration": 668,
    "start_time": "2022-04-07T10:33:21.458Z"
   },
   {
    "duration": 1261,
    "start_time": "2022-04-07T10:33:32.691Z"
   },
   {
    "duration": 82,
    "start_time": "2022-04-07T10:33:33.954Z"
   },
   {
    "duration": 29,
    "start_time": "2022-04-07T10:33:34.038Z"
   },
   {
    "duration": 7,
    "start_time": "2022-04-07T10:33:34.069Z"
   },
   {
    "duration": 3,
    "start_time": "2022-04-07T10:33:34.078Z"
   },
   {
    "duration": 21,
    "start_time": "2022-04-07T10:33:34.083Z"
   },
   {
    "duration": 10,
    "start_time": "2022-04-07T10:33:34.106Z"
   },
   {
    "duration": 11,
    "start_time": "2022-04-07T10:33:34.118Z"
   },
   {
    "duration": 14,
    "start_time": "2022-04-07T10:33:34.131Z"
   },
   {
    "duration": 54,
    "start_time": "2022-04-07T10:33:34.147Z"
   },
   {
    "duration": 11,
    "start_time": "2022-04-07T10:33:34.204Z"
   },
   {
    "duration": 97,
    "start_time": "2022-04-07T10:33:34.217Z"
   },
   {
    "duration": 1073,
    "start_time": "2022-04-07T10:33:34.317Z"
   },
   {
    "duration": 969,
    "start_time": "2022-04-07T10:33:39.176Z"
   },
   {
    "duration": 1205,
    "start_time": "2022-04-07T10:33:44.968Z"
   },
   {
    "duration": 86,
    "start_time": "2022-04-07T10:33:46.176Z"
   },
   {
    "duration": 30,
    "start_time": "2022-04-07T10:33:46.264Z"
   },
   {
    "duration": 8,
    "start_time": "2022-04-07T10:33:46.295Z"
   },
   {
    "duration": 4,
    "start_time": "2022-04-07T10:33:46.305Z"
   },
   {
    "duration": 5,
    "start_time": "2022-04-07T10:33:46.311Z"
   },
   {
    "duration": 8,
    "start_time": "2022-04-07T10:33:46.317Z"
   },
   {
    "duration": 11,
    "start_time": "2022-04-07T10:33:46.327Z"
   },
   {
    "duration": 11,
    "start_time": "2022-04-07T10:33:46.340Z"
   },
   {
    "duration": 50,
    "start_time": "2022-04-07T10:33:46.353Z"
   },
   {
    "duration": 8,
    "start_time": "2022-04-07T10:33:46.404Z"
   },
   {
    "duration": 50,
    "start_time": "2022-04-07T10:33:46.414Z"
   },
   {
    "duration": 685,
    "start_time": "2022-04-07T10:33:46.466Z"
   },
   {
    "duration": 186,
    "start_time": "2022-04-07T10:42:21.576Z"
   },
   {
    "duration": 1151,
    "start_time": "2022-04-07T10:42:34.516Z"
   },
   {
    "duration": 94,
    "start_time": "2022-04-07T10:42:35.668Z"
   },
   {
    "duration": 24,
    "start_time": "2022-04-07T10:42:35.763Z"
   },
   {
    "duration": 6,
    "start_time": "2022-04-07T10:42:35.789Z"
   },
   {
    "duration": 4,
    "start_time": "2022-04-07T10:42:35.796Z"
   },
   {
    "duration": 12,
    "start_time": "2022-04-07T10:42:35.802Z"
   },
   {
    "duration": 19,
    "start_time": "2022-04-07T10:42:35.815Z"
   },
   {
    "duration": 18,
    "start_time": "2022-04-07T10:42:35.835Z"
   },
   {
    "duration": 31,
    "start_time": "2022-04-07T10:42:35.855Z"
   },
   {
    "duration": 17,
    "start_time": "2022-04-07T10:42:35.889Z"
   },
   {
    "duration": 11,
    "start_time": "2022-04-07T10:42:35.908Z"
   },
   {
    "duration": 60,
    "start_time": "2022-04-07T10:42:35.921Z"
   },
   {
    "duration": 671,
    "start_time": "2022-04-07T10:42:35.983Z"
   },
   {
    "duration": 206,
    "start_time": "2022-04-07T10:42:36.656Z"
   },
   {
    "duration": 1309,
    "start_time": "2022-04-07T10:42:51.402Z"
   },
   {
    "duration": 84,
    "start_time": "2022-04-07T10:42:52.713Z"
   },
   {
    "duration": 27,
    "start_time": "2022-04-07T10:42:52.798Z"
   },
   {
    "duration": 7,
    "start_time": "2022-04-07T10:42:52.827Z"
   },
   {
    "duration": 4,
    "start_time": "2022-04-07T10:42:52.835Z"
   },
   {
    "duration": 8,
    "start_time": "2022-04-07T10:42:52.841Z"
   },
   {
    "duration": 7,
    "start_time": "2022-04-07T10:42:52.850Z"
   },
   {
    "duration": 44,
    "start_time": "2022-04-07T10:42:52.858Z"
   },
   {
    "duration": 15,
    "start_time": "2022-04-07T10:42:52.903Z"
   },
   {
    "duration": 9,
    "start_time": "2022-04-07T10:42:52.920Z"
   },
   {
    "duration": 12,
    "start_time": "2022-04-07T10:42:52.930Z"
   },
   {
    "duration": 82,
    "start_time": "2022-04-07T10:42:52.944Z"
   },
   {
    "duration": 635,
    "start_time": "2022-04-07T10:42:53.028Z"
   },
   {
    "duration": 192,
    "start_time": "2022-04-07T10:42:53.665Z"
   },
   {
    "duration": 223,
    "start_time": "2022-04-07T10:43:08.924Z"
   },
   {
    "duration": 215,
    "start_time": "2022-04-07T10:43:13.589Z"
   },
   {
    "duration": 7,
    "start_time": "2022-04-07T10:52:13.874Z"
   },
   {
    "duration": 920,
    "start_time": "2022-04-07T10:52:37.657Z"
   },
   {
    "duration": 1228,
    "start_time": "2022-04-07T10:52:42.991Z"
   },
   {
    "duration": 87,
    "start_time": "2022-04-07T10:52:44.221Z"
   },
   {
    "duration": 28,
    "start_time": "2022-04-07T10:52:44.310Z"
   },
   {
    "duration": 6,
    "start_time": "2022-04-07T10:52:44.341Z"
   },
   {
    "duration": 8,
    "start_time": "2022-04-07T10:52:44.349Z"
   },
   {
    "duration": 6,
    "start_time": "2022-04-07T10:52:44.358Z"
   },
   {
    "duration": 46,
    "start_time": "2022-04-07T10:52:44.365Z"
   },
   {
    "duration": 14,
    "start_time": "2022-04-07T10:52:44.413Z"
   },
   {
    "duration": 30,
    "start_time": "2022-04-07T10:52:44.429Z"
   },
   {
    "duration": 18,
    "start_time": "2022-04-07T10:52:44.461Z"
   },
   {
    "duration": 10,
    "start_time": "2022-04-07T10:52:44.481Z"
   },
   {
    "duration": 67,
    "start_time": "2022-04-07T10:52:44.492Z"
   },
   {
    "duration": 719,
    "start_time": "2022-04-07T10:52:44.561Z"
   },
   {
    "duration": 217,
    "start_time": "2022-04-07T10:52:45.282Z"
   },
   {
    "duration": 8,
    "start_time": "2022-04-07T10:52:45.501Z"
   },
   {
    "duration": 245,
    "start_time": "2022-04-07T10:53:54.470Z"
   },
   {
    "duration": 248,
    "start_time": "2022-04-07T10:54:02.784Z"
   },
   {
    "duration": 247,
    "start_time": "2022-04-07T10:54:08.632Z"
   },
   {
    "duration": 147,
    "start_time": "2022-04-07T10:55:32.804Z"
   },
   {
    "duration": 206,
    "start_time": "2022-04-07T10:55:43.868Z"
   },
   {
    "duration": 312,
    "start_time": "2022-04-07T10:56:30.451Z"
   },
   {
    "duration": 211,
    "start_time": "2022-04-07T10:56:42.649Z"
   },
   {
    "duration": 351,
    "start_time": "2022-04-07T10:57:19.905Z"
   },
   {
    "duration": 352,
    "start_time": "2022-04-07T10:57:31.571Z"
   },
   {
    "duration": 372,
    "start_time": "2022-04-07T10:58:38.287Z"
   },
   {
    "duration": 338,
    "start_time": "2022-04-07T10:58:46.942Z"
   },
   {
    "duration": 335,
    "start_time": "2022-04-07T10:58:52.827Z"
   },
   {
    "duration": 356,
    "start_time": "2022-04-07T10:59:04.951Z"
   },
   {
    "duration": 386,
    "start_time": "2022-04-07T10:59:22.864Z"
   },
   {
    "duration": 204,
    "start_time": "2022-04-07T11:05:05.330Z"
   },
   {
    "duration": 197,
    "start_time": "2022-04-07T11:05:34.739Z"
   },
   {
    "duration": 444,
    "start_time": "2022-04-07T11:06:03.784Z"
   },
   {
    "duration": 204,
    "start_time": "2022-04-07T11:06:07.119Z"
   },
   {
    "duration": 262,
    "start_time": "2022-04-07T11:13:51.832Z"
   },
   {
    "duration": 303,
    "start_time": "2022-04-07T11:14:28.462Z"
   },
   {
    "duration": 261,
    "start_time": "2022-04-07T11:14:35.827Z"
   },
   {
    "duration": 324,
    "start_time": "2022-04-07T11:18:48.916Z"
   },
   {
    "duration": 309,
    "start_time": "2022-04-07T11:18:54.631Z"
   },
   {
    "duration": 350,
    "start_time": "2022-04-07T11:19:12.783Z"
   },
   {
    "duration": 310,
    "start_time": "2022-04-07T11:19:18.752Z"
   },
   {
    "duration": 352,
    "start_time": "2022-04-07T11:19:29.985Z"
   },
   {
    "duration": 319,
    "start_time": "2022-04-07T11:19:39.754Z"
   },
   {
    "duration": 416,
    "start_time": "2022-04-07T11:19:46.535Z"
   },
   {
    "duration": 10,
    "start_time": "2022-04-07T11:24:49.018Z"
   },
   {
    "duration": 16,
    "start_time": "2022-04-07T11:25:12.981Z"
   },
   {
    "duration": 17,
    "start_time": "2022-04-07T11:25:26.501Z"
   },
   {
    "duration": 13,
    "start_time": "2022-04-07T11:25:28.455Z"
   },
   {
    "duration": 1200,
    "start_time": "2022-04-07T11:25:36.737Z"
   },
   {
    "duration": 87,
    "start_time": "2022-04-07T11:25:37.939Z"
   },
   {
    "duration": 29,
    "start_time": "2022-04-07T11:25:38.028Z"
   },
   {
    "duration": 8,
    "start_time": "2022-04-07T11:25:38.059Z"
   },
   {
    "duration": 41,
    "start_time": "2022-04-07T11:25:38.068Z"
   },
   {
    "duration": 5,
    "start_time": "2022-04-07T11:25:38.111Z"
   },
   {
    "duration": 12,
    "start_time": "2022-04-07T11:25:38.117Z"
   },
   {
    "duration": 10,
    "start_time": "2022-04-07T11:25:38.131Z"
   },
   {
    "duration": 11,
    "start_time": "2022-04-07T11:25:38.142Z"
   },
   {
    "duration": 14,
    "start_time": "2022-04-07T11:25:38.155Z"
   },
   {
    "duration": 8,
    "start_time": "2022-04-07T11:25:38.170Z"
   },
   {
    "duration": 53,
    "start_time": "2022-04-07T11:25:38.208Z"
   },
   {
    "duration": 678,
    "start_time": "2022-04-07T11:25:38.263Z"
   },
   {
    "duration": 249,
    "start_time": "2022-04-07T11:25:38.943Z"
   },
   {
    "duration": 389,
    "start_time": "2022-04-07T11:25:39.194Z"
   },
   {
    "duration": 206,
    "start_time": "2022-04-07T11:25:39.585Z"
   },
   {
    "duration": 375,
    "start_time": "2022-04-07T11:25:39.793Z"
   },
   {
    "duration": 117,
    "start_time": "2022-04-07T11:25:40.170Z"
   },
   {
    "duration": 12,
    "start_time": "2022-04-07T11:26:42.063Z"
   },
   {
    "duration": 119,
    "start_time": "2022-04-07T11:27:13.432Z"
   },
   {
    "duration": 103,
    "start_time": "2022-04-07T11:27:31.508Z"
   },
   {
    "duration": 181,
    "start_time": "2022-04-07T11:29:41.660Z"
   },
   {
    "duration": 227,
    "start_time": "2022-04-07T11:30:27.670Z"
   },
   {
    "duration": 1174,
    "start_time": "2022-04-07T11:30:42.354Z"
   },
   {
    "duration": 83,
    "start_time": "2022-04-07T11:30:43.530Z"
   },
   {
    "duration": 25,
    "start_time": "2022-04-07T11:30:43.614Z"
   },
   {
    "duration": 10,
    "start_time": "2022-04-07T11:30:43.641Z"
   },
   {
    "duration": 12,
    "start_time": "2022-04-07T11:30:43.652Z"
   },
   {
    "duration": 17,
    "start_time": "2022-04-07T11:30:43.665Z"
   },
   {
    "duration": 18,
    "start_time": "2022-04-07T11:30:43.684Z"
   },
   {
    "duration": 20,
    "start_time": "2022-04-07T11:30:43.703Z"
   },
   {
    "duration": 23,
    "start_time": "2022-04-07T11:30:43.725Z"
   },
   {
    "duration": 13,
    "start_time": "2022-04-07T11:30:43.751Z"
   },
   {
    "duration": 29,
    "start_time": "2022-04-07T11:30:43.765Z"
   },
   {
    "duration": 51,
    "start_time": "2022-04-07T11:30:43.795Z"
   },
   {
    "duration": 639,
    "start_time": "2022-04-07T11:30:43.847Z"
   },
   {
    "duration": 242,
    "start_time": "2022-04-07T11:30:44.487Z"
   },
   {
    "duration": 328,
    "start_time": "2022-04-07T11:30:44.731Z"
   },
   {
    "duration": 195,
    "start_time": "2022-04-07T11:30:45.060Z"
   },
   {
    "duration": 326,
    "start_time": "2022-04-07T11:30:45.257Z"
   },
   {
    "duration": 231,
    "start_time": "2022-04-07T11:30:45.585Z"
   },
   {
    "duration": 236,
    "start_time": "2022-04-07T11:30:55.183Z"
   },
   {
    "duration": 320,
    "start_time": "2022-04-07T11:30:59.107Z"
   },
   {
    "duration": 129,
    "start_time": "2022-04-07T11:31:17.659Z"
   },
   {
    "duration": 141,
    "start_time": "2022-04-07T11:31:49.192Z"
   },
   {
    "duration": 145,
    "start_time": "2022-04-07T11:32:06.190Z"
   },
   {
    "duration": 145,
    "start_time": "2022-04-07T11:32:46.777Z"
   },
   {
    "duration": 149,
    "start_time": "2022-04-07T11:32:58.602Z"
   },
   {
    "duration": 178,
    "start_time": "2022-04-07T11:33:04.577Z"
   },
   {
    "duration": 4,
    "start_time": "2022-04-07T11:36:04.642Z"
   },
   {
    "duration": 5,
    "start_time": "2022-04-07T11:36:49.309Z"
   },
   {
    "duration": 6,
    "start_time": "2022-04-07T11:37:09.734Z"
   },
   {
    "duration": 6,
    "start_time": "2022-04-07T11:37:13.430Z"
   },
   {
    "duration": 157,
    "start_time": "2022-04-07T11:51:33.497Z"
   },
   {
    "duration": 157,
    "start_time": "2022-04-07T11:55:35.899Z"
   },
   {
    "duration": 3663,
    "start_time": "2022-04-07T11:56:22.025Z"
   },
   {
    "duration": 1228,
    "start_time": "2022-04-07T11:56:42.420Z"
   },
   {
    "duration": 97,
    "start_time": "2022-04-07T11:56:43.650Z"
   },
   {
    "duration": 28,
    "start_time": "2022-04-07T11:56:43.749Z"
   },
   {
    "duration": 8,
    "start_time": "2022-04-07T11:56:43.778Z"
   },
   {
    "duration": 15,
    "start_time": "2022-04-07T11:56:43.788Z"
   },
   {
    "duration": 4,
    "start_time": "2022-04-07T11:56:43.805Z"
   },
   {
    "duration": 9,
    "start_time": "2022-04-07T11:56:43.810Z"
   },
   {
    "duration": 9,
    "start_time": "2022-04-07T11:56:43.821Z"
   },
   {
    "duration": 10,
    "start_time": "2022-04-07T11:56:43.831Z"
   },
   {
    "duration": 8,
    "start_time": "2022-04-07T11:56:43.843Z"
   },
   {
    "duration": 7,
    "start_time": "2022-04-07T11:56:43.852Z"
   },
   {
    "duration": 91,
    "start_time": "2022-04-07T11:56:43.860Z"
   },
   {
    "duration": 666,
    "start_time": "2022-04-07T11:56:43.952Z"
   },
   {
    "duration": 255,
    "start_time": "2022-04-07T11:56:44.621Z"
   },
   {
    "duration": 375,
    "start_time": "2022-04-07T11:56:44.878Z"
   },
   {
    "duration": 215,
    "start_time": "2022-04-07T11:56:45.255Z"
   },
   {
    "duration": 358,
    "start_time": "2022-04-07T11:56:45.472Z"
   },
   {
    "duration": 182,
    "start_time": "2022-04-07T11:56:45.831Z"
   },
   {
    "duration": 6,
    "start_time": "2022-04-07T11:56:46.015Z"
   },
   {
    "duration": 201,
    "start_time": "2022-04-07T11:56:46.022Z"
   },
   {
    "duration": 6,
    "start_time": "2022-04-07T11:57:03.886Z"
   },
   {
    "duration": 308,
    "start_time": "2022-04-07T12:08:07.325Z"
   },
   {
    "duration": 111,
    "start_time": "2022-04-07T12:09:50.636Z"
   },
   {
    "duration": 126,
    "start_time": "2022-04-07T12:10:11.184Z"
   },
   {
    "duration": 361,
    "start_time": "2022-04-07T12:11:08.826Z"
   },
   {
    "duration": 352,
    "start_time": "2022-04-07T12:15:37.435Z"
   },
   {
    "duration": 357,
    "start_time": "2022-04-07T12:16:10.860Z"
   },
   {
    "duration": 368,
    "start_time": "2022-04-07T12:16:16.577Z"
   },
   {
    "duration": 360,
    "start_time": "2022-04-07T12:16:44.643Z"
   },
   {
    "duration": 345,
    "start_time": "2022-04-07T12:18:52.550Z"
   },
   {
    "duration": 348,
    "start_time": "2022-04-07T12:20:26.232Z"
   },
   {
    "duration": 11,
    "start_time": "2022-04-07T12:22:07.383Z"
   },
   {
    "duration": 10,
    "start_time": "2022-04-07T12:32:10.424Z"
   },
   {
    "duration": 9,
    "start_time": "2022-04-07T12:36:31.210Z"
   },
   {
    "duration": 9,
    "start_time": "2022-04-07T12:36:39.773Z"
   },
   {
    "duration": 214,
    "start_time": "2022-04-07T12:36:47.742Z"
   },
   {
    "duration": 4,
    "start_time": "2022-04-07T12:36:53.041Z"
   },
   {
    "duration": 9,
    "start_time": "2022-04-07T12:36:55.307Z"
   },
   {
    "duration": 3666,
    "start_time": "2022-04-07T12:41:05.897Z"
   },
   {
    "duration": 28,
    "start_time": "2022-04-07T12:41:31.926Z"
   },
   {
    "duration": 30,
    "start_time": "2022-04-07T12:41:50.641Z"
   },
   {
    "duration": 28,
    "start_time": "2022-04-07T12:41:55.535Z"
   },
   {
    "duration": 30,
    "start_time": "2022-04-07T12:42:09.454Z"
   },
   {
    "duration": 14,
    "start_time": "2022-04-07T12:47:56.765Z"
   },
   {
    "duration": 11,
    "start_time": "2022-04-07T13:08:41.304Z"
   },
   {
    "duration": 13,
    "start_time": "2022-04-07T13:10:02.384Z"
   },
   {
    "duration": 1247,
    "start_time": "2022-04-07T13:15:07.266Z"
   },
   {
    "duration": 86,
    "start_time": "2022-04-07T13:15:08.515Z"
   },
   {
    "duration": 30,
    "start_time": "2022-04-07T13:15:08.603Z"
   },
   {
    "duration": 7,
    "start_time": "2022-04-07T13:15:08.635Z"
   },
   {
    "duration": 11,
    "start_time": "2022-04-07T13:15:08.643Z"
   },
   {
    "duration": 9,
    "start_time": "2022-04-07T13:15:08.655Z"
   },
   {
    "duration": 39,
    "start_time": "2022-04-07T13:15:08.665Z"
   },
   {
    "duration": 12,
    "start_time": "2022-04-07T13:15:08.706Z"
   },
   {
    "duration": 33,
    "start_time": "2022-04-07T13:15:08.719Z"
   },
   {
    "duration": 9,
    "start_time": "2022-04-07T13:15:08.755Z"
   },
   {
    "duration": 16,
    "start_time": "2022-04-07T13:15:08.766Z"
   },
   {
    "duration": 66,
    "start_time": "2022-04-07T13:15:08.785Z"
   },
   {
    "duration": 10,
    "start_time": "2022-04-07T13:15:08.853Z"
   },
   {
    "duration": 694,
    "start_time": "2022-04-07T13:15:08.865Z"
   },
   {
    "duration": 263,
    "start_time": "2022-04-07T13:15:09.561Z"
   },
   {
    "duration": 367,
    "start_time": "2022-04-07T13:15:09.826Z"
   },
   {
    "duration": 214,
    "start_time": "2022-04-07T13:15:10.195Z"
   },
   {
    "duration": 352,
    "start_time": "2022-04-07T13:15:10.411Z"
   },
   {
    "duration": 177,
    "start_time": "2022-04-07T13:15:10.765Z"
   },
   {
    "duration": 5,
    "start_time": "2022-04-07T13:15:10.944Z"
   },
   {
    "duration": 194,
    "start_time": "2022-04-07T13:15:10.951Z"
   },
   {
    "duration": 5,
    "start_time": "2022-04-07T13:15:11.147Z"
   },
   {
    "duration": 442,
    "start_time": "2022-04-07T13:15:11.154Z"
   },
   {
    "duration": 11,
    "start_time": "2022-04-07T13:15:11.602Z"
   },
   {
    "duration": 11,
    "start_time": "2022-04-07T13:15:11.614Z"
   },
   {
    "duration": 32,
    "start_time": "2022-04-07T13:15:11.626Z"
   },
   {
    "duration": 42,
    "start_time": "2022-04-07T13:15:11.659Z"
   },
   {
    "duration": 11,
    "start_time": "2022-04-07T13:16:25.041Z"
   },
   {
    "duration": 12,
    "start_time": "2022-04-07T13:16:33.387Z"
   },
   {
    "duration": 14,
    "start_time": "2022-04-07T13:17:11.134Z"
   },
   {
    "duration": 14,
    "start_time": "2022-04-07T13:17:19.662Z"
   },
   {
    "duration": 1365,
    "start_time": "2022-04-07T13:17:30.844Z"
   },
   {
    "duration": 87,
    "start_time": "2022-04-07T13:17:32.213Z"
   },
   {
    "duration": 35,
    "start_time": "2022-04-07T13:17:32.302Z"
   },
   {
    "duration": 6,
    "start_time": "2022-04-07T13:17:32.339Z"
   },
   {
    "duration": 4,
    "start_time": "2022-04-07T13:17:32.346Z"
   },
   {
    "duration": 11,
    "start_time": "2022-04-07T13:17:32.352Z"
   },
   {
    "duration": 35,
    "start_time": "2022-04-07T13:17:32.365Z"
   },
   {
    "duration": 18,
    "start_time": "2022-04-07T13:17:32.402Z"
   },
   {
    "duration": 20,
    "start_time": "2022-04-07T13:17:32.422Z"
   },
   {
    "duration": 14,
    "start_time": "2022-04-07T13:17:32.445Z"
   },
   {
    "duration": 20,
    "start_time": "2022-04-07T13:17:32.460Z"
   },
   {
    "duration": 79,
    "start_time": "2022-04-07T13:17:32.481Z"
   },
   {
    "duration": 9,
    "start_time": "2022-04-07T13:17:32.562Z"
   },
   {
    "duration": 708,
    "start_time": "2022-04-07T13:17:32.573Z"
   },
   {
    "duration": 257,
    "start_time": "2022-04-07T13:17:33.283Z"
   },
   {
    "duration": 330,
    "start_time": "2022-04-07T13:17:33.542Z"
   },
   {
    "duration": 324,
    "start_time": "2022-04-07T13:17:33.873Z"
   },
   {
    "duration": 430,
    "start_time": "2022-04-07T13:17:34.201Z"
   },
   {
    "duration": 268,
    "start_time": "2022-04-07T13:17:34.633Z"
   },
   {
    "duration": 11,
    "start_time": "2022-04-07T13:17:34.903Z"
   },
   {
    "duration": 263,
    "start_time": "2022-04-07T13:17:34.916Z"
   },
   {
    "duration": 7,
    "start_time": "2022-04-07T13:17:35.181Z"
   },
   {
    "duration": 691,
    "start_time": "2022-04-07T13:17:35.201Z"
   },
   {
    "duration": 16,
    "start_time": "2022-04-07T13:17:35.901Z"
   },
   {
    "duration": 10,
    "start_time": "2022-04-07T13:17:35.920Z"
   },
   {
    "duration": 47,
    "start_time": "2022-04-07T13:17:35.931Z"
   },
   {
    "duration": 24,
    "start_time": "2022-04-07T13:17:35.980Z"
   },
   {
    "duration": 1214,
    "start_time": "2022-04-08T04:41:04.206Z"
   },
   {
    "duration": 87,
    "start_time": "2022-04-08T04:41:05.423Z"
   },
   {
    "duration": 26,
    "start_time": "2022-04-08T04:41:05.512Z"
   },
   {
    "duration": 6,
    "start_time": "2022-04-08T04:41:05.540Z"
   },
   {
    "duration": 4,
    "start_time": "2022-04-08T04:41:05.548Z"
   },
   {
    "duration": 6,
    "start_time": "2022-04-08T04:41:05.553Z"
   },
   {
    "duration": 9,
    "start_time": "2022-04-08T04:41:05.561Z"
   },
   {
    "duration": 12,
    "start_time": "2022-04-08T04:41:05.572Z"
   },
   {
    "duration": 54,
    "start_time": "2022-04-08T04:41:05.586Z"
   },
   {
    "duration": 8,
    "start_time": "2022-04-08T04:41:05.643Z"
   },
   {
    "duration": 7,
    "start_time": "2022-04-08T04:41:05.653Z"
   },
   {
    "duration": 77,
    "start_time": "2022-04-08T04:41:05.662Z"
   },
   {
    "duration": 9,
    "start_time": "2022-04-08T04:41:05.741Z"
   },
   {
    "duration": 664,
    "start_time": "2022-04-08T04:41:05.751Z"
   },
   {
    "duration": 251,
    "start_time": "2022-04-08T04:41:06.417Z"
   },
   {
    "duration": 338,
    "start_time": "2022-04-08T04:41:06.670Z"
   },
   {
    "duration": 205,
    "start_time": "2022-04-08T04:41:07.009Z"
   },
   {
    "duration": 355,
    "start_time": "2022-04-08T04:41:07.215Z"
   },
   {
    "duration": 163,
    "start_time": "2022-04-08T04:41:07.572Z"
   },
   {
    "duration": 5,
    "start_time": "2022-04-08T04:41:07.737Z"
   },
   {
    "duration": 182,
    "start_time": "2022-04-08T04:41:07.744Z"
   },
   {
    "duration": 12,
    "start_time": "2022-04-08T04:41:07.928Z"
   },
   {
    "duration": 426,
    "start_time": "2022-04-08T04:41:07.942Z"
   },
   {
    "duration": 10,
    "start_time": "2022-04-08T04:41:08.370Z"
   },
   {
    "duration": 9,
    "start_time": "2022-04-08T04:41:08.382Z"
   },
   {
    "duration": 49,
    "start_time": "2022-04-08T04:41:08.392Z"
   },
   {
    "duration": 15,
    "start_time": "2022-04-08T04:41:08.443Z"
   },
   {
    "duration": 1378,
    "start_time": "2022-04-09T06:38:36.422Z"
   },
   {
    "duration": 82,
    "start_time": "2022-04-09T06:38:37.803Z"
   },
   {
    "duration": 30,
    "start_time": "2022-04-09T06:38:37.887Z"
   },
   {
    "duration": 13,
    "start_time": "2022-04-09T06:38:37.920Z"
   },
   {
    "duration": 4,
    "start_time": "2022-04-09T06:38:37.935Z"
   },
   {
    "duration": 8,
    "start_time": "2022-04-09T06:38:37.940Z"
   },
   {
    "duration": 10,
    "start_time": "2022-04-09T06:38:37.949Z"
   },
   {
    "duration": 11,
    "start_time": "2022-04-09T06:38:37.961Z"
   },
   {
    "duration": 12,
    "start_time": "2022-04-09T06:38:37.974Z"
   },
   {
    "duration": 46,
    "start_time": "2022-04-09T06:38:37.989Z"
   },
   {
    "duration": 9,
    "start_time": "2022-04-09T06:38:38.037Z"
   },
   {
    "duration": 59,
    "start_time": "2022-04-09T06:38:38.048Z"
   },
   {
    "duration": 27,
    "start_time": "2022-04-09T06:38:38.109Z"
   },
   {
    "duration": 717,
    "start_time": "2022-04-09T06:38:38.138Z"
   },
   {
    "duration": 280,
    "start_time": "2022-04-09T06:38:38.857Z"
   },
   {
    "duration": 413,
    "start_time": "2022-04-09T06:38:39.139Z"
   },
   {
    "duration": 226,
    "start_time": "2022-04-09T06:38:39.554Z"
   },
   {
    "duration": 349,
    "start_time": "2022-04-09T06:38:39.782Z"
   },
   {
    "duration": 188,
    "start_time": "2022-04-09T06:38:40.134Z"
   },
   {
    "duration": 11,
    "start_time": "2022-04-09T06:38:40.324Z"
   },
   {
    "duration": 203,
    "start_time": "2022-04-09T06:38:40.337Z"
   },
   {
    "duration": 5,
    "start_time": "2022-04-09T06:38:40.541Z"
   },
   {
    "duration": 449,
    "start_time": "2022-04-09T06:38:40.548Z"
   },
   {
    "duration": 10,
    "start_time": "2022-04-09T06:38:40.999Z"
   },
   {
    "duration": 24,
    "start_time": "2022-04-09T06:38:41.011Z"
   },
   {
    "duration": 37,
    "start_time": "2022-04-09T06:38:41.037Z"
   },
   {
    "duration": 14,
    "start_time": "2022-04-09T06:38:41.076Z"
   },
   {
    "duration": 1355,
    "start_time": "2022-04-10T03:44:00.749Z"
   },
   {
    "duration": 59,
    "start_time": "2022-04-10T03:44:02.106Z"
   },
   {
    "duration": 27,
    "start_time": "2022-04-10T03:44:02.166Z"
   },
   {
    "duration": 7,
    "start_time": "2022-04-10T03:44:02.195Z"
   },
   {
    "duration": 5,
    "start_time": "2022-04-10T03:44:02.204Z"
   },
   {
    "duration": 5,
    "start_time": "2022-04-10T03:44:02.211Z"
   },
   {
    "duration": 8,
    "start_time": "2022-04-10T03:44:02.217Z"
   },
   {
    "duration": 11,
    "start_time": "2022-04-10T03:44:02.227Z"
   },
   {
    "duration": 12,
    "start_time": "2022-04-10T03:44:02.279Z"
   },
   {
    "duration": 9,
    "start_time": "2022-04-10T03:44:02.293Z"
   },
   {
    "duration": 8,
    "start_time": "2022-04-10T03:44:02.304Z"
   },
   {
    "duration": 84,
    "start_time": "2022-04-10T03:44:02.314Z"
   },
   {
    "duration": 9,
    "start_time": "2022-04-10T03:44:02.400Z"
   },
   {
    "duration": 752,
    "start_time": "2022-04-10T03:44:02.411Z"
   },
   {
    "duration": 236,
    "start_time": "2022-04-10T03:44:03.165Z"
   },
   {
    "duration": 370,
    "start_time": "2022-04-10T03:44:03.403Z"
   },
   {
    "duration": 210,
    "start_time": "2022-04-10T03:44:03.778Z"
   },
   {
    "duration": 319,
    "start_time": "2022-04-10T03:44:03.989Z"
   },
   {
    "duration": 160,
    "start_time": "2022-04-10T03:44:04.310Z"
   },
   {
    "duration": 6,
    "start_time": "2022-04-10T03:44:04.478Z"
   },
   {
    "duration": 171,
    "start_time": "2022-04-10T03:44:04.486Z"
   },
   {
    "duration": 6,
    "start_time": "2022-04-10T03:44:04.658Z"
   },
   {
    "duration": 440,
    "start_time": "2022-04-10T03:44:04.666Z"
   },
   {
    "duration": 10,
    "start_time": "2022-04-10T03:44:05.108Z"
   },
   {
    "duration": 9,
    "start_time": "2022-04-10T03:44:05.120Z"
   },
   {
    "duration": 51,
    "start_time": "2022-04-10T03:44:05.131Z"
   },
   {
    "duration": 13,
    "start_time": "2022-04-10T03:44:05.184Z"
   }
  ],
  "kernelspec": {
   "display_name": "Python 3 (ipykernel)",
   "language": "python",
   "name": "python3"
  },
  "language_info": {
   "codemirror_mode": {
    "name": "ipython",
    "version": 3
   },
   "file_extension": ".py",
   "mimetype": "text/x-python",
   "name": "python",
   "nbconvert_exporter": "python",
   "pygments_lexer": "ipython3",
   "version": "3.9.5"
  },
  "toc": {
   "base_numbering": 1,
   "nav_menu": {},
   "number_sections": true,
   "sideBar": true,
   "skip_h1_title": true,
   "title_cell": "Содержание",
   "title_sidebar": "Contents",
   "toc_cell": true,
   "toc_position": {
    "height": "calc(100% - 180px)",
    "left": "10px",
    "top": "150px",
    "width": "366.391px"
   },
   "toc_section_display": true,
   "toc_window_display": true
  }
 },
 "nbformat": 4,
 "nbformat_minor": 2
}

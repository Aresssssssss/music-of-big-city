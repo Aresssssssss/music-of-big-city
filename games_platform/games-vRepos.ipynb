{
 "cells": [
  {
   "cell_type": "markdown",
   "metadata": {
    "toc": true
   },
   "source": [
    "<h1>Содержание<span class=\"tocSkip\"></span></h1>\n",
    "<div class=\"toc\"><ul class=\"toc-item\"><li><span><a href=\"#Открытие-файла-с-данными-и-изучение-общей-информации\" data-toc-modified-id=\"Открытие-файла-с-данными-и-изучение-общей-информации-1\"><span class=\"toc-item-num\">1&nbsp;&nbsp;</span>Открытие файла с данными и изучение общей информации</a></span><ul class=\"toc-item\"><li><span><a href=\"#Открытие-файлов-с-данными\" data-toc-modified-id=\"Открытие-файлов-с-данными-1.1\"><span class=\"toc-item-num\">1.1&nbsp;&nbsp;</span>Открытие файлов с данными</a></span></li></ul></li><li><span><a href=\"#Подготовка-данных\" data-toc-modified-id=\"Подготовка-данных-2\"><span class=\"toc-item-num\">2&nbsp;&nbsp;</span>Подготовка данных</a></span><ul class=\"toc-item\"><li><span><a href=\"#Замена-названия-столбцов\" data-toc-modified-id=\"Замена-названия-столбцов-2.1\"><span class=\"toc-item-num\">2.1&nbsp;&nbsp;</span>Замена названия столбцов</a></span></li><li><span><a href=\"#Преобразование-типов-данных\" data-toc-modified-id=\"Преобразование-типов-данных-2.2\"><span class=\"toc-item-num\">2.2&nbsp;&nbsp;</span>Преобразование типов данных</a></span></li><li><span><a href=\"#Обработка-пропусков\" data-toc-modified-id=\"Обработка-пропусков-2.3\"><span class=\"toc-item-num\">2.3&nbsp;&nbsp;</span>Обработка пропусков</a></span></li><li><span><a href=\"#Обработка-дубликатов\" data-toc-modified-id=\"Обработка-дубликатов-2.4\"><span class=\"toc-item-num\">2.4&nbsp;&nbsp;</span>Обработка дубликатов</a></span></li><li><span><a href=\"#Подсчет-суммарных-продаж-во-всех-регионах\" data-toc-modified-id=\"Подсчет-суммарных-продаж-во-всех-регионах-2.5\"><span class=\"toc-item-num\">2.5&nbsp;&nbsp;</span>Подсчет суммарных продаж во всех регионах</a></span></li><li><span><a href=\"#Вывод-по-подготовке-данных\" data-toc-modified-id=\"Вывод-по-подготовке-данных-2.6\"><span class=\"toc-item-num\">2.6&nbsp;&nbsp;</span>Вывод по подготовке данных</a></span></li></ul></li><li><span><a href=\"#Исследовательский-анализ-данных\" data-toc-modified-id=\"Исследовательский-анализ-данных-3\"><span class=\"toc-item-num\">3&nbsp;&nbsp;</span>Исследовательский анализ данных</a></span><ul class=\"toc-item\"><li><span><a href=\"#Подсчет-выпущенных-игр-по-годам\" data-toc-modified-id=\"Подсчет-выпущенных-игр-по-годам-3.1\"><span class=\"toc-item-num\">3.1&nbsp;&nbsp;</span>Подсчет выпущенных игр по годам</a></span></li><li><span><a href=\"#Продажи-игр-по-платформам\" data-toc-modified-id=\"Продажи-игр-по-платформам-3.2\"><span class=\"toc-item-num\">3.2&nbsp;&nbsp;</span>Продажи игр по платформам</a></span></li><li><span><a href=\"#Определение-актуального-периода\" data-toc-modified-id=\"Определение-актуального-периода-3.3\"><span class=\"toc-item-num\">3.3&nbsp;&nbsp;</span>Определение актуального периода</a></span></li><li><span><a href=\"#Исследование-продаж-по-платформам-за-актуальный-период\" data-toc-modified-id=\"Исследование-продаж-по-платформам-за-актуальный-период-3.4\"><span class=\"toc-item-num\">3.4&nbsp;&nbsp;</span>Исследование продаж по платформам за актуальный период</a></span></li><li><span><a href=\"#Глобальные-продажи-игр-в-разбивке-по-платформам\" data-toc-modified-id=\"Глобальные-продажи-игр-в-разбивке-по-платформам-3.5\"><span class=\"toc-item-num\">3.5&nbsp;&nbsp;</span>Глобальные продажи игр в разбивке по платформам</a></span></li><li><span><a href=\"#Влияние-отзывов-на-продажи-внутри-одной-потенциально-прибыльной-платформы\" data-toc-modified-id=\"Влияние-отзывов-на-продажи-внутри-одной-потенциально-прибыльной-платформы-3.6\"><span class=\"toc-item-num\">3.6&nbsp;&nbsp;</span>Влияние отзывов на продажи внутри одной потенциально прибыльной платформы</a></span></li><li><span><a href=\"#Влияние-отзывов-на-продажи-внутри-остальных-поптенциально-прибыльных-платформ\" data-toc-modified-id=\"Влияние-отзывов-на-продажи-внутри-остальных-поптенциально-прибыльных-платформ-3.7\"><span class=\"toc-item-num\">3.7&nbsp;&nbsp;</span>Влияние отзывов на продажи внутри остальных поптенциально прибыльных платформ</a></span><ul class=\"toc-item\"><li><span><a href=\"#Платформа-3DS\" data-toc-modified-id=\"Платформа-3DS-3.7.1\"><span class=\"toc-item-num\">3.7.1&nbsp;&nbsp;</span>Платформа 3DS</a></span></li><li><span><a href=\"#Платформа-XOne\" data-toc-modified-id=\"Платформа-XOne-3.7.2\"><span class=\"toc-item-num\">3.7.2&nbsp;&nbsp;</span>Платформа XOne</a></span></li><li><span><a href=\"#Вывод-о-влиянии-оценок-критиков-и-пользователей-на-продажи\" data-toc-modified-id=\"Вывод-о-влиянии-оценок-критиков-и-пользователей-на-продажи-3.7.3\"><span class=\"toc-item-num\">3.7.3&nbsp;&nbsp;</span>Вывод о влиянии оценок критиков и пользователей на продажи</a></span></li></ul></li><li><span><a href=\"#Исследование-игровых-жанров\" data-toc-modified-id=\"Исследование-игровых-жанров-3.8\"><span class=\"toc-item-num\">3.8&nbsp;&nbsp;</span>Исследование игровых жанров</a></span></li><li><span><a href=\"#Вывод-по-исследовательскому-анализу-данных\" data-toc-modified-id=\"Вывод-по-исследовательскому-анализу-данных-3.9\"><span class=\"toc-item-num\">3.9&nbsp;&nbsp;</span>Вывод по исследовательскому анализу данных</a></span></li></ul></li><li><span><a href=\"#Портрет-пользователя-каждого-региона\" data-toc-modified-id=\"Портрет-пользователя-каждого-региона-4\"><span class=\"toc-item-num\">4&nbsp;&nbsp;</span>Портрет пользователя каждого региона</a></span><ul class=\"toc-item\"><li><span><a href=\"#Портрет-пользователя-региона-NA-(Северная-Америка)\" data-toc-modified-id=\"Портрет-пользователя-региона-NA-(Северная-Америка)-4.1\"><span class=\"toc-item-num\">4.1&nbsp;&nbsp;</span>Портрет пользователя региона NA (Северная Америка)</a></span></li><li><span><a href=\"#Портрет-пользователя-региона-EU-(Европа)\" data-toc-modified-id=\"Портрет-пользователя-региона-EU-(Европа)-4.2\"><span class=\"toc-item-num\">4.2&nbsp;&nbsp;</span>Портрет пользователя региона EU (Европа)</a></span></li><li><span><a href=\"#Портрет-пользователя-региона-JP-(Япония)\" data-toc-modified-id=\"Портрет-пользователя-региона-JP-(Япония)-4.3\"><span class=\"toc-item-num\">4.3&nbsp;&nbsp;</span>Портрет пользователя региона JP (Япония)</a></span></li><li><span><a href=\"#Вывод-по-портрету-пользователя-из-разных-регионов\" data-toc-modified-id=\"Вывод-по-портрету-пользователя-из-разных-регионов-4.4\"><span class=\"toc-item-num\">4.4&nbsp;&nbsp;</span>Вывод по портрету пользователя из разных регионов</a></span></li></ul></li><li><span><a href=\"#Формулировка-и-проверка-гипотез\" data-toc-modified-id=\"Формулировка-и-проверка-гипотез-5\"><span class=\"toc-item-num\">5&nbsp;&nbsp;</span>Формулировка и проверка гипотез</a></span><ul class=\"toc-item\"><li><span><a href=\"#Проверка-гипотезы-о-том,-что-средние-пользовательские-рейтинги-платформ-Xbox-One-и-PC-одинаковые\" data-toc-modified-id=\"Проверка-гипотезы-о-том,-что-средние-пользовательские-рейтинги-платформ-Xbox-One-и-PC-одинаковые-5.1\"><span class=\"toc-item-num\">5.1&nbsp;&nbsp;</span>Проверка гипотезы о том, что средние пользовательские рейтинги платформ Xbox One и PC одинаковые</a></span></li><li><span><a href=\"#Проверка-гипотезы-о-том,-что-средние-пользовательские-рейтинги-жанров-Action-и-Sports-разные\" data-toc-modified-id=\"Проверка-гипотезы-о-том,-что-средние-пользовательские-рейтинги-жанров-Action-и-Sports-разные-5.2\"><span class=\"toc-item-num\">5.2&nbsp;&nbsp;</span>Проверка гипотезы о том, что средние пользовательские рейтинги жанров Action и Sports разные</a></span></li></ul></li><li><span><a href=\"#Общий-вывод\" data-toc-modified-id=\"Общий-вывод-6\"><span class=\"toc-item-num\">6&nbsp;&nbsp;</span>Общий вывод</a></span></li></ul></div>"
   ]
  },
  {
   "cell_type": "markdown",
   "metadata": {},
   "source": [
    "# Выявление закономерностей, определяющих успешность компьютерной игры\n",
    "Анализ проводится по заказу магазина «Стримчик», который продаёт по всему миру компьютерные игры. Из открытых источников доступны исторические данные о продажах игр, оценки пользователей и экспертов, жанры и платформы (например, Xbox или PlayStation). Необходимо выявить определяющие успешность игры закономерности. Это позволит сделать ставку на потенциально популярный продукт и спланировать рекламные кампании на 2017 год.\n",
    "\n",
    "**Цель исследования**: выявить закономерности, определяющие успешность компьютерной игры.\n",
    "\n",
    "**Описание данных**\n",
    "\n",
    "В распоряжении данные до 2016 года, однако данные за 2016 год могут быть неполными. Таблица с данными расположена по адресу `/datasets/games.csv`:\n",
    "- Name — название игры\n",
    "- Platform — платформа\n",
    "- Year_of_Release — год выпуска\n",
    "- Genre — жанр игры\n",
    "- NA_sales — продажи в Северной Америке (миллионы проданных копий)\n",
    "- EU_sales — продажи в Европе (миллионы проданных копий)\n",
    "- JP_sales — продажи в Японии (миллионы проданных копий)\n",
    "- Other_sales — продажи в других странах (миллионы проданных копий)\n",
    "- Critic_Score — оценка критиков (максимум 100)\n",
    "- User_Score — оценка пользователей (максимум 10)\n",
    "- Rating — рейтинг от организации ESRB (англ. Entertainment Software Rating Board). Эта ассоциация определяет рейтинг компьютерных игр и присваивает им подходящую возрастную категорию.\n",
    "\n",
    "В наборе данных попадается аббревиатура ESRB (Entertainment Software Rating Board) — это ассоциация, определяющая возрастной рейтинг компьютерных игр. ESRB оценивает игровой контент и присваивает ему подходящую возрастную категорию, например, «Для взрослых», «Для детей младшего возраста» или «Для подростков»."
   ]
  },
  {
   "cell_type": "markdown",
   "metadata": {},
   "source": [
    "## Открытие файла с данными и изучение общей информации"
   ]
  },
  {
   "cell_type": "markdown",
   "metadata": {},
   "source": [
    "Перед началом работы с данными импортируем все необходимые библиотеки:"
   ]
  },
  {
   "cell_type": "code",
   "execution_count": 1,
   "metadata": {},
   "outputs": [],
   "source": [
    "import pandas as pd\n",
    "pd.set_option('display.float_format', '{:,.2f}'.format)\n",
    "import matplotlib.pyplot as plt\n",
    "import seaborn as sns\n",
    "import numpy as np\n",
    "from scipy import stats as st"
   ]
  },
  {
   "cell_type": "markdown",
   "metadata": {},
   "source": [
    "### Открытие файлов с данными\n",
    "С помощью библиотеки Pandas откроем файл и ознакомимся с данными:"
   ]
  },
  {
   "cell_type": "code",
   "execution_count": 2,
   "metadata": {},
   "outputs": [
    {
     "data": {
      "text/html": [
       "<div>\n",
       "<style scoped>\n",
       "    .dataframe tbody tr th:only-of-type {\n",
       "        vertical-align: middle;\n",
       "    }\n",
       "\n",
       "    .dataframe tbody tr th {\n",
       "        vertical-align: top;\n",
       "    }\n",
       "\n",
       "    .dataframe thead th {\n",
       "        text-align: right;\n",
       "    }\n",
       "</style>\n",
       "<table border=\"1\" class=\"dataframe\">\n",
       "  <thead>\n",
       "    <tr style=\"text-align: right;\">\n",
       "      <th></th>\n",
       "      <th>Name</th>\n",
       "      <th>Platform</th>\n",
       "      <th>Year_of_Release</th>\n",
       "      <th>Genre</th>\n",
       "      <th>NA_sales</th>\n",
       "      <th>EU_sales</th>\n",
       "      <th>JP_sales</th>\n",
       "      <th>Other_sales</th>\n",
       "      <th>Critic_Score</th>\n",
       "      <th>User_Score</th>\n",
       "      <th>Rating</th>\n",
       "    </tr>\n",
       "  </thead>\n",
       "  <tbody>\n",
       "    <tr>\n",
       "      <td>7978</td>\n",
       "      <td>Cabela's Survival: Shadows of Katmai</td>\n",
       "      <td>PS3</td>\n",
       "      <td>2,011.00</td>\n",
       "      <td>Sports</td>\n",
       "      <td>0.11</td>\n",
       "      <td>0.05</td>\n",
       "      <td>0.00</td>\n",
       "      <td>0.02</td>\n",
       "      <td>nan</td>\n",
       "      <td>7.4</td>\n",
       "      <td>T</td>\n",
       "    </tr>\n",
       "    <tr>\n",
       "      <td>6888</td>\n",
       "      <td>Star Trek: The Game</td>\n",
       "      <td>PS3</td>\n",
       "      <td>2,013.00</td>\n",
       "      <td>Action</td>\n",
       "      <td>0.10</td>\n",
       "      <td>0.10</td>\n",
       "      <td>0.00</td>\n",
       "      <td>0.04</td>\n",
       "      <td>nan</td>\n",
       "      <td>NaN</td>\n",
       "      <td>NaN</td>\n",
       "    </tr>\n",
       "    <tr>\n",
       "      <td>2359</td>\n",
       "      <td>Call of Juarez: Bound in Blood</td>\n",
       "      <td>PS3</td>\n",
       "      <td>2,009.00</td>\n",
       "      <td>Shooter</td>\n",
       "      <td>0.35</td>\n",
       "      <td>0.37</td>\n",
       "      <td>0.01</td>\n",
       "      <td>0.15</td>\n",
       "      <td>78.00</td>\n",
       "      <td>7.8</td>\n",
       "      <td>M</td>\n",
       "    </tr>\n",
       "    <tr>\n",
       "      <td>12634</td>\n",
       "      <td>Playmobil Knights</td>\n",
       "      <td>DS</td>\n",
       "      <td>2,009.00</td>\n",
       "      <td>Action</td>\n",
       "      <td>0.04</td>\n",
       "      <td>0.01</td>\n",
       "      <td>0.00</td>\n",
       "      <td>0.00</td>\n",
       "      <td>nan</td>\n",
       "      <td>tbd</td>\n",
       "      <td>E</td>\n",
       "    </tr>\n",
       "    <tr>\n",
       "      <td>9681</td>\n",
       "      <td>Fire ProWrestling S: 6Men Scramble</td>\n",
       "      <td>SAT</td>\n",
       "      <td>1,996.00</td>\n",
       "      <td>Fighting</td>\n",
       "      <td>0.00</td>\n",
       "      <td>0.00</td>\n",
       "      <td>0.12</td>\n",
       "      <td>0.00</td>\n",
       "      <td>nan</td>\n",
       "      <td>NaN</td>\n",
       "      <td>NaN</td>\n",
       "    </tr>\n",
       "    <tr>\n",
       "      <td>7308</td>\n",
       "      <td>Pro Yakyuu Greatest Nine '97</td>\n",
       "      <td>SAT</td>\n",
       "      <td>1,997.00</td>\n",
       "      <td>Sports</td>\n",
       "      <td>0.00</td>\n",
       "      <td>0.00</td>\n",
       "      <td>0.21</td>\n",
       "      <td>0.00</td>\n",
       "      <td>nan</td>\n",
       "      <td>NaN</td>\n",
       "      <td>NaN</td>\n",
       "    </tr>\n",
       "    <tr>\n",
       "      <td>12842</td>\n",
       "      <td>V-Rally 3</td>\n",
       "      <td>PS2</td>\n",
       "      <td>2,002.00</td>\n",
       "      <td>Racing</td>\n",
       "      <td>0.03</td>\n",
       "      <td>0.02</td>\n",
       "      <td>0.00</td>\n",
       "      <td>0.01</td>\n",
       "      <td>82.00</td>\n",
       "      <td>7.4</td>\n",
       "      <td>E</td>\n",
       "    </tr>\n",
       "    <tr>\n",
       "      <td>6454</td>\n",
       "      <td>Deadly Premonition</td>\n",
       "      <td>X360</td>\n",
       "      <td>2,010.00</td>\n",
       "      <td>Action</td>\n",
       "      <td>0.18</td>\n",
       "      <td>0.06</td>\n",
       "      <td>0.00</td>\n",
       "      <td>0.02</td>\n",
       "      <td>68.00</td>\n",
       "      <td>8.2</td>\n",
       "      <td>M</td>\n",
       "    </tr>\n",
       "    <tr>\n",
       "      <td>10493</td>\n",
       "      <td>Top Gun: Combat Zones</td>\n",
       "      <td>GBA</td>\n",
       "      <td>2,004.00</td>\n",
       "      <td>Simulation</td>\n",
       "      <td>0.07</td>\n",
       "      <td>0.03</td>\n",
       "      <td>0.00</td>\n",
       "      <td>0.00</td>\n",
       "      <td>nan</td>\n",
       "      <td>NaN</td>\n",
       "      <td>NaN</td>\n",
       "    </tr>\n",
       "    <tr>\n",
       "      <td>5685</td>\n",
       "      <td>Chicken Blaster</td>\n",
       "      <td>Wii</td>\n",
       "      <td>2,009.00</td>\n",
       "      <td>Shooter</td>\n",
       "      <td>0.29</td>\n",
       "      <td>0.00</td>\n",
       "      <td>0.00</td>\n",
       "      <td>0.02</td>\n",
       "      <td>nan</td>\n",
       "      <td>tbd</td>\n",
       "      <td>T</td>\n",
       "    </tr>\n",
       "  </tbody>\n",
       "</table>\n",
       "</div>"
      ],
      "text/plain": [
       "                                       Name Platform  Year_of_Release  \\\n",
       "7978   Cabela's Survival: Shadows of Katmai      PS3         2,011.00   \n",
       "6888                    Star Trek: The Game      PS3         2,013.00   \n",
       "2359         Call of Juarez: Bound in Blood      PS3         2,009.00   \n",
       "12634                     Playmobil Knights       DS         2,009.00   \n",
       "9681     Fire ProWrestling S: 6Men Scramble      SAT         1,996.00   \n",
       "7308           Pro Yakyuu Greatest Nine '97      SAT         1,997.00   \n",
       "12842                             V-Rally 3      PS2         2,002.00   \n",
       "6454                     Deadly Premonition     X360         2,010.00   \n",
       "10493                 Top Gun: Combat Zones      GBA         2,004.00   \n",
       "5685                        Chicken Blaster      Wii         2,009.00   \n",
       "\n",
       "            Genre  NA_sales  EU_sales  JP_sales  Other_sales  Critic_Score  \\\n",
       "7978       Sports      0.11      0.05      0.00         0.02           nan   \n",
       "6888       Action      0.10      0.10      0.00         0.04           nan   \n",
       "2359      Shooter      0.35      0.37      0.01         0.15         78.00   \n",
       "12634      Action      0.04      0.01      0.00         0.00           nan   \n",
       "9681     Fighting      0.00      0.00      0.12         0.00           nan   \n",
       "7308       Sports      0.00      0.00      0.21         0.00           nan   \n",
       "12842      Racing      0.03      0.02      0.00         0.01         82.00   \n",
       "6454       Action      0.18      0.06      0.00         0.02         68.00   \n",
       "10493  Simulation      0.07      0.03      0.00         0.00           nan   \n",
       "5685      Shooter      0.29      0.00      0.00         0.02           nan   \n",
       "\n",
       "      User_Score Rating  \n",
       "7978         7.4      T  \n",
       "6888         NaN    NaN  \n",
       "2359         7.8      M  \n",
       "12634        tbd      E  \n",
       "9681         NaN    NaN  \n",
       "7308         NaN    NaN  \n",
       "12842        7.4      E  \n",
       "6454         8.2      M  \n",
       "10493        NaN    NaN  \n",
       "5685         tbd      T  "
      ]
     },
     "execution_count": 2,
     "metadata": {},
     "output_type": "execute_result"
    }
   ],
   "source": [
    "df = pd.read_csv('/datasets/games.csv')\n",
    "df.sample(10)"
   ]
  },
  {
   "cell_type": "markdown",
   "metadata": {},
   "source": [
    "Изучим общую информацию о данных:"
   ]
  },
  {
   "cell_type": "code",
   "execution_count": 3,
   "metadata": {},
   "outputs": [
    {
     "name": "stdout",
     "output_type": "stream",
     "text": [
      "<class 'pandas.core.frame.DataFrame'>\n",
      "RangeIndex: 16715 entries, 0 to 16714\n",
      "Data columns (total 11 columns):\n",
      "Name               16713 non-null object\n",
      "Platform           16715 non-null object\n",
      "Year_of_Release    16446 non-null float64\n",
      "Genre              16713 non-null object\n",
      "NA_sales           16715 non-null float64\n",
      "EU_sales           16715 non-null float64\n",
      "JP_sales           16715 non-null float64\n",
      "Other_sales        16715 non-null float64\n",
      "Critic_Score       8137 non-null float64\n",
      "User_Score         10014 non-null object\n",
      "Rating             9949 non-null object\n",
      "dtypes: float64(6), object(5)\n",
      "memory usage: 1.4+ MB\n"
     ]
    }
   ],
   "source": [
    "df.info()"
   ]
  },
  {
   "cell_type": "markdown",
   "metadata": {},
   "source": [
    "Рассмотрим статистическую информацию о данных:"
   ]
  },
  {
   "cell_type": "code",
   "execution_count": 4,
   "metadata": {},
   "outputs": [
    {
     "data": {
      "text/html": [
       "<div>\n",
       "<style scoped>\n",
       "    .dataframe tbody tr th:only-of-type {\n",
       "        vertical-align: middle;\n",
       "    }\n",
       "\n",
       "    .dataframe tbody tr th {\n",
       "        vertical-align: top;\n",
       "    }\n",
       "\n",
       "    .dataframe thead th {\n",
       "        text-align: right;\n",
       "    }\n",
       "</style>\n",
       "<table border=\"1\" class=\"dataframe\">\n",
       "  <thead>\n",
       "    <tr style=\"text-align: right;\">\n",
       "      <th></th>\n",
       "      <th>count</th>\n",
       "      <th>mean</th>\n",
       "      <th>std</th>\n",
       "      <th>min</th>\n",
       "      <th>25%</th>\n",
       "      <th>50%</th>\n",
       "      <th>75%</th>\n",
       "      <th>max</th>\n",
       "    </tr>\n",
       "  </thead>\n",
       "  <tbody>\n",
       "    <tr>\n",
       "      <td>Year_of_Release</td>\n",
       "      <td>16,446.00</td>\n",
       "      <td>2,006.48</td>\n",
       "      <td>5.88</td>\n",
       "      <td>1,980.00</td>\n",
       "      <td>2,003.00</td>\n",
       "      <td>2,007.00</td>\n",
       "      <td>2,010.00</td>\n",
       "      <td>2,016.00</td>\n",
       "    </tr>\n",
       "    <tr>\n",
       "      <td>NA_sales</td>\n",
       "      <td>16,715.00</td>\n",
       "      <td>0.26</td>\n",
       "      <td>0.81</td>\n",
       "      <td>0.00</td>\n",
       "      <td>0.00</td>\n",
       "      <td>0.08</td>\n",
       "      <td>0.24</td>\n",
       "      <td>41.36</td>\n",
       "    </tr>\n",
       "    <tr>\n",
       "      <td>EU_sales</td>\n",
       "      <td>16,715.00</td>\n",
       "      <td>0.15</td>\n",
       "      <td>0.50</td>\n",
       "      <td>0.00</td>\n",
       "      <td>0.00</td>\n",
       "      <td>0.02</td>\n",
       "      <td>0.11</td>\n",
       "      <td>28.96</td>\n",
       "    </tr>\n",
       "    <tr>\n",
       "      <td>JP_sales</td>\n",
       "      <td>16,715.00</td>\n",
       "      <td>0.08</td>\n",
       "      <td>0.31</td>\n",
       "      <td>0.00</td>\n",
       "      <td>0.00</td>\n",
       "      <td>0.00</td>\n",
       "      <td>0.04</td>\n",
       "      <td>10.22</td>\n",
       "    </tr>\n",
       "    <tr>\n",
       "      <td>Other_sales</td>\n",
       "      <td>16,715.00</td>\n",
       "      <td>0.05</td>\n",
       "      <td>0.19</td>\n",
       "      <td>0.00</td>\n",
       "      <td>0.00</td>\n",
       "      <td>0.01</td>\n",
       "      <td>0.03</td>\n",
       "      <td>10.57</td>\n",
       "    </tr>\n",
       "    <tr>\n",
       "      <td>Critic_Score</td>\n",
       "      <td>8,137.00</td>\n",
       "      <td>68.97</td>\n",
       "      <td>13.94</td>\n",
       "      <td>13.00</td>\n",
       "      <td>60.00</td>\n",
       "      <td>71.00</td>\n",
       "      <td>79.00</td>\n",
       "      <td>98.00</td>\n",
       "    </tr>\n",
       "  </tbody>\n",
       "</table>\n",
       "</div>"
      ],
      "text/plain": [
       "                    count     mean   std      min      25%      50%      75%  \\\n",
       "Year_of_Release 16,446.00 2,006.48  5.88 1,980.00 2,003.00 2,007.00 2,010.00   \n",
       "NA_sales        16,715.00     0.26  0.81     0.00     0.00     0.08     0.24   \n",
       "EU_sales        16,715.00     0.15  0.50     0.00     0.00     0.02     0.11   \n",
       "JP_sales        16,715.00     0.08  0.31     0.00     0.00     0.00     0.04   \n",
       "Other_sales     16,715.00     0.05  0.19     0.00     0.00     0.01     0.03   \n",
       "Critic_Score     8,137.00    68.97 13.94    13.00    60.00    71.00    79.00   \n",
       "\n",
       "                     max  \n",
       "Year_of_Release 2,016.00  \n",
       "NA_sales           41.36  \n",
       "EU_sales           28.96  \n",
       "JP_sales           10.22  \n",
       "Other_sales        10.57  \n",
       "Critic_Score       98.00  "
      ]
     },
     "execution_count": 4,
     "metadata": {},
     "output_type": "execute_result"
    }
   ],
   "source": [
    "df.describe().T"
   ]
  },
  {
   "cell_type": "markdown",
   "metadata": {},
   "source": [
    "Изучив общую информацию о данных, можно сделать вывод о том, что таблица состоит из 16715 строк и 11 столбцов. Данные предоставлены за период с 1980 года по 2016 год. В данных имеются проблемы, такие как **несоответствующие типы столбцов, различный регистр в названиях столбцов, пропуски**."
   ]
  },
  {
   "cell_type": "markdown",
   "metadata": {},
   "source": [
    "## Подготовка данных"
   ]
  },
  {
   "cell_type": "markdown",
   "metadata": {},
   "source": [
    "### Замена названия столбцов"
   ]
  },
  {
   "cell_type": "markdown",
   "metadata": {},
   "source": [
    "Выведем на экран названия стобцов:"
   ]
  },
  {
   "cell_type": "code",
   "execution_count": 5,
   "metadata": {},
   "outputs": [
    {
     "data": {
      "text/plain": [
       "Index(['Name', 'Platform', 'Year_of_Release', 'Genre', 'NA_sales', 'EU_sales',\n",
       "       'JP_sales', 'Other_sales', 'Critic_Score', 'User_Score', 'Rating'],\n",
       "      dtype='object')"
      ]
     },
     "metadata": {},
     "output_type": "display_data"
    }
   ],
   "source": [
    "display(df.columns)"
   ]
  },
  {
   "cell_type": "markdown",
   "metadata": {},
   "source": [
    "Необходимо привести все названия к нижнему регистру в соответствии с хорошим тоном:"
   ]
  },
  {
   "cell_type": "code",
   "execution_count": 6,
   "metadata": {},
   "outputs": [],
   "source": [
    "df = df.rename(\n",
    "    columns={'Name':'name', 'Platform':'platform', 'Year_of_Release':'year_of_release', \n",
    "             'Genre':'genre', 'NA_sales':'na_sales', 'EU_sales':'eu_sales',\n",
    "            'JP_sales':'jp_sales', 'Other_sales':'other_sales', 'Critic_Score':'critic_score',\n",
    "            'User_Score':'user_score', 'Rating':'rating'})"
   ]
  },
  {
   "cell_type": "markdown",
   "metadata": {},
   "source": [
    "Проверим внесенные изменения, повторно вызвав названия стобцов:"
   ]
  },
  {
   "cell_type": "code",
   "execution_count": 7,
   "metadata": {},
   "outputs": [
    {
     "data": {
      "text/plain": [
       "Index(['name', 'platform', 'year_of_release', 'genre', 'na_sales', 'eu_sales',\n",
       "       'jp_sales', 'other_sales', 'critic_score', 'user_score', 'rating'],\n",
       "      dtype='object')"
      ]
     },
     "metadata": {},
     "output_type": "display_data"
    }
   ],
   "source": [
    "display(df.columns)"
   ]
  },
  {
   "cell_type": "markdown",
   "metadata": {},
   "source": [
    "Названия столбцов приведены к нижнему регистру, пробелы отсутствуют, соблюдается \"змеиный_регистр\"."
   ]
  },
  {
   "cell_type": "markdown",
   "metadata": {},
   "source": [
    "### Преобразование типов данных"
   ]
  },
  {
   "cell_type": "markdown",
   "metadata": {},
   "source": [
    "Преобразуем данные столбца _year_of_release_ к типу _Int16_:"
   ]
  },
  {
   "cell_type": "code",
   "execution_count": 8,
   "metadata": {},
   "outputs": [],
   "source": [
    "df['year_of_release'] = df['year_of_release'].astype('Int16')"
   ]
  },
  {
   "cell_type": "markdown",
   "metadata": {},
   "source": [
    "Перед преобразованием данных столбца _user_score_ необходимо обработать значения \"tbd\", так как данное значение является строковым и не даст нам изменить тип данных. \n",
    "\n",
    "TBD - аббревиатура от английского To Be Determined (будет определено) или To Be Decided (будет решено). Используется, если какая-то информация еще не определена или решение по вопросу не принято.\n",
    "\n",
    "Можно сделать вывод о том, что рейтинг игры на момент выгрузки данных был неопределен. Соответственно, значение \"tbd\" можно заменить на \"NaN\":"
   ]
  },
  {
   "cell_type": "code",
   "execution_count": 9,
   "metadata": {},
   "outputs": [],
   "source": [
    "df['user_score'] = df['user_score'].replace('tbd', np.nan)"
   ]
  },
  {
   "cell_type": "markdown",
   "metadata": {},
   "source": [
    "Преобразуем данные столбца _user_score_ к типу _float64_:"
   ]
  },
  {
   "cell_type": "code",
   "execution_count": 10,
   "metadata": {},
   "outputs": [],
   "source": [
    "df['user_score'] = df['user_score'].astype('float64')"
   ]
  },
  {
   "cell_type": "markdown",
   "metadata": {},
   "source": [
    "Остальные столбцы в преобразовании типов данных не нуждаются."
   ]
  },
  {
   "cell_type": "markdown",
   "metadata": {},
   "source": [
    "### Обработка пропусков"
   ]
  },
  {
   "cell_type": "markdown",
   "metadata": {},
   "source": [
    "Выведем сумму пропусков в каждом столбце методом _isna_:"
   ]
  },
  {
   "cell_type": "code",
   "execution_count": 11,
   "metadata": {},
   "outputs": [
    {
     "data": {
      "text/plain": [
       "name                  2\n",
       "platform              0\n",
       "year_of_release     269\n",
       "genre                 2\n",
       "na_sales              0\n",
       "eu_sales              0\n",
       "jp_sales              0\n",
       "other_sales           0\n",
       "critic_score       8578\n",
       "user_score         9125\n",
       "rating             6766\n",
       "dtype: int64"
      ]
     },
     "execution_count": 11,
     "metadata": {},
     "output_type": "execute_result"
    }
   ],
   "source": [
    "df.isna().sum()"
   ]
  },
  {
   "cell_type": "markdown",
   "metadata": {},
   "source": [
    "В ходе изучения таблицы с данными было замечено, что пропуски присутствуют в следующих столбцах:\n",
    "- `name`\n",
    "- `year_of_release`\n",
    "- `genre`\n",
    "- `critic_score`\n",
    "- `user_score`\n",
    "- `rating`\n",
    "\n",
    "Вероятнее всего пропуски в данных образовались в результате некорректного сбора данных, либо в результате некорректной выгрузки."
   ]
  },
  {
   "cell_type": "markdown",
   "metadata": {},
   "source": [
    "В столбцах **_name_** и **_genre_** имеется всего по 2 пропуска, что в целом составляет 0.02% всех данных. Таким образом, ввиду того, что доля этих данных ничтожно мала, строки с пропусками можно **удалить**:"
   ]
  },
  {
   "cell_type": "code",
   "execution_count": 12,
   "metadata": {},
   "outputs": [],
   "source": [
    "df = df.dropna(subset=['name', 'genre'])"
   ]
  },
  {
   "cell_type": "markdown",
   "metadata": {},
   "source": [
    "Пропуски в данных столбца **_year_of_release_** с информацией о годе релиза игры составляют 1.6% всех данных. Заполнять их чем-либо будет некорректно, так как год выпуска невозможно привязать к иным имеющимся данным. Доля пропусков в данном столбце мала относительно всех данных, поэтому строки с пропусками можно **удалить**:"
   ]
  },
  {
   "cell_type": "code",
   "execution_count": 13,
   "metadata": {},
   "outputs": [],
   "source": [
    "df = df.dropna(subset=['year_of_release'])"
   ]
  },
  {
   "cell_type": "markdown",
   "metadata": {},
   "source": [
    "Выведем на экран уникальные значения столбца _rating_:"
   ]
  },
  {
   "cell_type": "code",
   "execution_count": 14,
   "metadata": {},
   "outputs": [
    {
     "data": {
      "text/plain": [
       "array(['E', nan, 'M', 'T', 'E10+', 'K-A', 'AO', 'EC', 'RP'], dtype=object)"
      ]
     },
     "execution_count": 14,
     "metadata": {},
     "output_type": "execute_result"
    }
   ],
   "source": [
    "df['rating'].unique()"
   ]
  },
  {
   "cell_type": "markdown",
   "metadata": {},
   "source": [
    "Пропуски в столбце _rating_ заполним значеннием _no_rating_, так как количество игр без рейтинга достаточно большое, эти данные будут необходимы нам в дальнейшем анализе:"
   ]
  },
  {
   "cell_type": "code",
   "execution_count": 15,
   "metadata": {},
   "outputs": [],
   "source": [
    "df['rating'] = df['rating'].fillna('no_rating')"
   ]
  },
  {
   "cell_type": "markdown",
   "metadata": {},
   "source": [
    "Осталось множество пропусков в столбцах **_critic_score_** и **_user_score_**. В данных столбцах часть пропусков, вероятно, образовалась в результате того, что в определенные года оценки никак не применялись и не фиксировались, эти данные просто отсутствуют. Часть пропусков могла образоваться в результате ошибки при выгрузке данных, либо некорректного сбора данных. Заполнять пропуски в данных об оценке пользователей или критиков на основании оценок той же игры, но выпущенной на другой платформе, будет некорректно, так как оценки на разных платформах могут отличаться, к примеру, из-за оптимизации игры. \n",
    "\n",
    "Таким образом, пропуски в данных столбцах оставим **без изменений**."
   ]
  },
  {
   "cell_type": "markdown",
   "metadata": {},
   "source": [
    "Выведем на экран финальное кличество пропусков:"
   ]
  },
  {
   "cell_type": "code",
   "execution_count": 16,
   "metadata": {
    "scrolled": true
   },
   "outputs": [
    {
     "data": {
      "text/plain": [
       "name                  0\n",
       "platform              0\n",
       "year_of_release       0\n",
       "genre                 0\n",
       "na_sales              0\n",
       "eu_sales              0\n",
       "jp_sales              0\n",
       "other_sales           0\n",
       "critic_score       8461\n",
       "user_score         8981\n",
       "rating                0\n",
       "dtype: int64"
      ]
     },
     "execution_count": 16,
     "metadata": {},
     "output_type": "execute_result"
    }
   ],
   "source": [
    "df.isna().sum()"
   ]
  },
  {
   "cell_type": "markdown",
   "metadata": {},
   "source": [
    "### Обработка дубликатов"
   ]
  },
  {
   "cell_type": "markdown",
   "metadata": {},
   "source": [
    "Произведем поиск явных дубликатов таблицы и выведем их количество:"
   ]
  },
  {
   "cell_type": "code",
   "execution_count": 17,
   "metadata": {},
   "outputs": [
    {
     "data": {
      "text/plain": [
       "0"
      ]
     },
     "execution_count": 17,
     "metadata": {},
     "output_type": "execute_result"
    }
   ],
   "source": [
    "df.duplicated().sum()"
   ]
  },
  {
   "cell_type": "markdown",
   "metadata": {},
   "source": [
    "Явные дубликаты отсутствуют."
   ]
  },
  {
   "cell_type": "markdown",
   "metadata": {},
   "source": [
    "### Подсчет суммарных продаж во всех регионах"
   ]
  },
  {
   "cell_type": "markdown",
   "metadata": {},
   "source": [
    "Создадим новый столбец, в котором укажем суммарные продажи игры во всех регионах в млн копий:"
   ]
  },
  {
   "cell_type": "code",
   "execution_count": 18,
   "metadata": {},
   "outputs": [],
   "source": [
    "df['total_sales'] = (df['na_sales'] + \n",
    "                     df['eu_sales'] + \n",
    "                     df['jp_sales'] +\n",
    "                     df['other_sales'])"
   ]
  },
  {
   "cell_type": "markdown",
   "metadata": {},
   "source": [
    "### Вывод по подготовке данных\n",
    "В ходе подготовки данных была проделана следующая работа:\n",
    "- названия столбцов приведены к нижнему регистру\n",
    "- произведено преобразование типов данных\n",
    "- произведена обработка пропусков\n",
    "- произведена проверка на наличие явных дубликатов\n",
    "- произведен расчет суммарных продаж во всех регионах, после чего полученные данные долбавлены в таблицу"
   ]
  },
  {
   "cell_type": "markdown",
   "metadata": {},
   "source": [
    "Выведем на экран первые 10 строк финальной таблицы:"
   ]
  },
  {
   "cell_type": "code",
   "execution_count": 19,
   "metadata": {},
   "outputs": [
    {
     "data": {
      "text/html": [
       "<div>\n",
       "<style scoped>\n",
       "    .dataframe tbody tr th:only-of-type {\n",
       "        vertical-align: middle;\n",
       "    }\n",
       "\n",
       "    .dataframe tbody tr th {\n",
       "        vertical-align: top;\n",
       "    }\n",
       "\n",
       "    .dataframe thead th {\n",
       "        text-align: right;\n",
       "    }\n",
       "</style>\n",
       "<table border=\"1\" class=\"dataframe\">\n",
       "  <thead>\n",
       "    <tr style=\"text-align: right;\">\n",
       "      <th></th>\n",
       "      <th>name</th>\n",
       "      <th>platform</th>\n",
       "      <th>year_of_release</th>\n",
       "      <th>genre</th>\n",
       "      <th>na_sales</th>\n",
       "      <th>eu_sales</th>\n",
       "      <th>jp_sales</th>\n",
       "      <th>other_sales</th>\n",
       "      <th>critic_score</th>\n",
       "      <th>user_score</th>\n",
       "      <th>rating</th>\n",
       "      <th>total_sales</th>\n",
       "    </tr>\n",
       "  </thead>\n",
       "  <tbody>\n",
       "    <tr>\n",
       "      <td>0</td>\n",
       "      <td>Wii Sports</td>\n",
       "      <td>Wii</td>\n",
       "      <td>2006</td>\n",
       "      <td>Sports</td>\n",
       "      <td>41.36</td>\n",
       "      <td>28.96</td>\n",
       "      <td>3.77</td>\n",
       "      <td>8.45</td>\n",
       "      <td>76.00</td>\n",
       "      <td>8.00</td>\n",
       "      <td>E</td>\n",
       "      <td>82.54</td>\n",
       "    </tr>\n",
       "    <tr>\n",
       "      <td>1</td>\n",
       "      <td>Super Mario Bros.</td>\n",
       "      <td>NES</td>\n",
       "      <td>1985</td>\n",
       "      <td>Platform</td>\n",
       "      <td>29.08</td>\n",
       "      <td>3.58</td>\n",
       "      <td>6.81</td>\n",
       "      <td>0.77</td>\n",
       "      <td>nan</td>\n",
       "      <td>nan</td>\n",
       "      <td>no_rating</td>\n",
       "      <td>40.24</td>\n",
       "    </tr>\n",
       "    <tr>\n",
       "      <td>2</td>\n",
       "      <td>Mario Kart Wii</td>\n",
       "      <td>Wii</td>\n",
       "      <td>2008</td>\n",
       "      <td>Racing</td>\n",
       "      <td>15.68</td>\n",
       "      <td>12.76</td>\n",
       "      <td>3.79</td>\n",
       "      <td>3.29</td>\n",
       "      <td>82.00</td>\n",
       "      <td>8.30</td>\n",
       "      <td>E</td>\n",
       "      <td>35.52</td>\n",
       "    </tr>\n",
       "    <tr>\n",
       "      <td>3</td>\n",
       "      <td>Wii Sports Resort</td>\n",
       "      <td>Wii</td>\n",
       "      <td>2009</td>\n",
       "      <td>Sports</td>\n",
       "      <td>15.61</td>\n",
       "      <td>10.93</td>\n",
       "      <td>3.28</td>\n",
       "      <td>2.95</td>\n",
       "      <td>80.00</td>\n",
       "      <td>8.00</td>\n",
       "      <td>E</td>\n",
       "      <td>32.77</td>\n",
       "    </tr>\n",
       "    <tr>\n",
       "      <td>4</td>\n",
       "      <td>Pokemon Red/Pokemon Blue</td>\n",
       "      <td>GB</td>\n",
       "      <td>1996</td>\n",
       "      <td>Role-Playing</td>\n",
       "      <td>11.27</td>\n",
       "      <td>8.89</td>\n",
       "      <td>10.22</td>\n",
       "      <td>1.00</td>\n",
       "      <td>nan</td>\n",
       "      <td>nan</td>\n",
       "      <td>no_rating</td>\n",
       "      <td>31.38</td>\n",
       "    </tr>\n",
       "    <tr>\n",
       "      <td>5</td>\n",
       "      <td>Tetris</td>\n",
       "      <td>GB</td>\n",
       "      <td>1989</td>\n",
       "      <td>Puzzle</td>\n",
       "      <td>23.20</td>\n",
       "      <td>2.26</td>\n",
       "      <td>4.22</td>\n",
       "      <td>0.58</td>\n",
       "      <td>nan</td>\n",
       "      <td>nan</td>\n",
       "      <td>no_rating</td>\n",
       "      <td>30.26</td>\n",
       "    </tr>\n",
       "    <tr>\n",
       "      <td>6</td>\n",
       "      <td>New Super Mario Bros.</td>\n",
       "      <td>DS</td>\n",
       "      <td>2006</td>\n",
       "      <td>Platform</td>\n",
       "      <td>11.28</td>\n",
       "      <td>9.14</td>\n",
       "      <td>6.50</td>\n",
       "      <td>2.88</td>\n",
       "      <td>89.00</td>\n",
       "      <td>8.50</td>\n",
       "      <td>E</td>\n",
       "      <td>29.80</td>\n",
       "    </tr>\n",
       "    <tr>\n",
       "      <td>7</td>\n",
       "      <td>Wii Play</td>\n",
       "      <td>Wii</td>\n",
       "      <td>2006</td>\n",
       "      <td>Misc</td>\n",
       "      <td>13.96</td>\n",
       "      <td>9.18</td>\n",
       "      <td>2.93</td>\n",
       "      <td>2.84</td>\n",
       "      <td>58.00</td>\n",
       "      <td>6.60</td>\n",
       "      <td>E</td>\n",
       "      <td>28.91</td>\n",
       "    </tr>\n",
       "    <tr>\n",
       "      <td>8</td>\n",
       "      <td>New Super Mario Bros. Wii</td>\n",
       "      <td>Wii</td>\n",
       "      <td>2009</td>\n",
       "      <td>Platform</td>\n",
       "      <td>14.44</td>\n",
       "      <td>6.94</td>\n",
       "      <td>4.70</td>\n",
       "      <td>2.24</td>\n",
       "      <td>87.00</td>\n",
       "      <td>8.40</td>\n",
       "      <td>E</td>\n",
       "      <td>28.32</td>\n",
       "    </tr>\n",
       "    <tr>\n",
       "      <td>9</td>\n",
       "      <td>Duck Hunt</td>\n",
       "      <td>NES</td>\n",
       "      <td>1984</td>\n",
       "      <td>Shooter</td>\n",
       "      <td>26.93</td>\n",
       "      <td>0.63</td>\n",
       "      <td>0.28</td>\n",
       "      <td>0.47</td>\n",
       "      <td>nan</td>\n",
       "      <td>nan</td>\n",
       "      <td>no_rating</td>\n",
       "      <td>28.31</td>\n",
       "    </tr>\n",
       "  </tbody>\n",
       "</table>\n",
       "</div>"
      ],
      "text/plain": [
       "                        name platform  year_of_release         genre  \\\n",
       "0                 Wii Sports      Wii             2006        Sports   \n",
       "1          Super Mario Bros.      NES             1985      Platform   \n",
       "2             Mario Kart Wii      Wii             2008        Racing   \n",
       "3          Wii Sports Resort      Wii             2009        Sports   \n",
       "4   Pokemon Red/Pokemon Blue       GB             1996  Role-Playing   \n",
       "5                     Tetris       GB             1989        Puzzle   \n",
       "6      New Super Mario Bros.       DS             2006      Platform   \n",
       "7                   Wii Play      Wii             2006          Misc   \n",
       "8  New Super Mario Bros. Wii      Wii             2009      Platform   \n",
       "9                  Duck Hunt      NES             1984       Shooter   \n",
       "\n",
       "   na_sales  eu_sales  jp_sales  other_sales  critic_score  user_score  \\\n",
       "0     41.36     28.96      3.77         8.45         76.00        8.00   \n",
       "1     29.08      3.58      6.81         0.77           nan         nan   \n",
       "2     15.68     12.76      3.79         3.29         82.00        8.30   \n",
       "3     15.61     10.93      3.28         2.95         80.00        8.00   \n",
       "4     11.27      8.89     10.22         1.00           nan         nan   \n",
       "5     23.20      2.26      4.22         0.58           nan         nan   \n",
       "6     11.28      9.14      6.50         2.88         89.00        8.50   \n",
       "7     13.96      9.18      2.93         2.84         58.00        6.60   \n",
       "8     14.44      6.94      4.70         2.24         87.00        8.40   \n",
       "9     26.93      0.63      0.28         0.47           nan         nan   \n",
       "\n",
       "      rating  total_sales  \n",
       "0          E        82.54  \n",
       "1  no_rating        40.24  \n",
       "2          E        35.52  \n",
       "3          E        32.77  \n",
       "4  no_rating        31.38  \n",
       "5  no_rating        30.26  \n",
       "6          E        29.80  \n",
       "7          E        28.91  \n",
       "8          E        28.32  \n",
       "9  no_rating        28.31  "
      ]
     },
     "execution_count": 19,
     "metadata": {},
     "output_type": "execute_result"
    }
   ],
   "source": [
    "df.head(10)"
   ]
  },
  {
   "cell_type": "markdown",
   "metadata": {},
   "source": [
    "## Исследовательский анализ данных"
   ]
  },
  {
   "cell_type": "markdown",
   "metadata": {},
   "source": [
    "### Подсчет выпущенных игр по годам"
   ]
  },
  {
   "cell_type": "markdown",
   "metadata": {},
   "source": [
    "Выведем на экран сводную таблицу, в которой произведем подсчет выпущенных игр в разрезе по годам: "
   ]
  },
  {
   "cell_type": "code",
   "execution_count": 20,
   "metadata": {},
   "outputs": [
    {
     "data": {
      "text/html": [
       "<div>\n",
       "<style scoped>\n",
       "    .dataframe tbody tr th:only-of-type {\n",
       "        vertical-align: middle;\n",
       "    }\n",
       "\n",
       "    .dataframe tbody tr th {\n",
       "        vertical-align: top;\n",
       "    }\n",
       "\n",
       "    .dataframe thead th {\n",
       "        text-align: right;\n",
       "    }\n",
       "</style>\n",
       "<table border=\"1\" class=\"dataframe\">\n",
       "  <thead>\n",
       "    <tr style=\"text-align: right;\">\n",
       "      <th></th>\n",
       "      <th>количество выпущенных игр</th>\n",
       "    </tr>\n",
       "    <tr>\n",
       "      <th>year_of_release</th>\n",
       "      <th></th>\n",
       "    </tr>\n",
       "  </thead>\n",
       "  <tbody>\n",
       "    <tr>\n",
       "      <td>1980</td>\n",
       "      <td>9</td>\n",
       "    </tr>\n",
       "    <tr>\n",
       "      <td>1981</td>\n",
       "      <td>46</td>\n",
       "    </tr>\n",
       "    <tr>\n",
       "      <td>1982</td>\n",
       "      <td>36</td>\n",
       "    </tr>\n",
       "    <tr>\n",
       "      <td>1983</td>\n",
       "      <td>17</td>\n",
       "    </tr>\n",
       "    <tr>\n",
       "      <td>1984</td>\n",
       "      <td>14</td>\n",
       "    </tr>\n",
       "    <tr>\n",
       "      <td>1985</td>\n",
       "      <td>14</td>\n",
       "    </tr>\n",
       "    <tr>\n",
       "      <td>1986</td>\n",
       "      <td>21</td>\n",
       "    </tr>\n",
       "    <tr>\n",
       "      <td>1987</td>\n",
       "      <td>16</td>\n",
       "    </tr>\n",
       "    <tr>\n",
       "      <td>1988</td>\n",
       "      <td>15</td>\n",
       "    </tr>\n",
       "    <tr>\n",
       "      <td>1989</td>\n",
       "      <td>17</td>\n",
       "    </tr>\n",
       "  </tbody>\n",
       "</table>\n",
       "</div>"
      ],
      "text/plain": [
       "                 количество выпущенных игр\n",
       "year_of_release                           \n",
       "1980                                     9\n",
       "1981                                    46\n",
       "1982                                    36\n",
       "1983                                    17\n",
       "1984                                    14\n",
       "1985                                    14\n",
       "1986                                    21\n",
       "1987                                    16\n",
       "1988                                    15\n",
       "1989                                    17"
      ]
     },
     "execution_count": 20,
     "metadata": {},
     "output_type": "execute_result"
    }
   ],
   "source": [
    "df_year_of_release = df.pivot_table(index='year_of_release', values='name', aggfunc='count')\n",
    "df_year_of_release.columns = ['количество выпущенных игр']\n",
    "df_year_of_release.head(10)"
   ]
  },
  {
   "cell_type": "markdown",
   "metadata": {},
   "source": [
    "Визуализируем результат с помощью диаграммы:"
   ]
  },
  {
   "cell_type": "code",
   "execution_count": 21,
   "metadata": {},
   "outputs": [
    {
     "data": {
      "image/png": "[encoded data removed]",
      "text/plain": [
       "<Figure size 1152x360 with 1 Axes>"
      ]
     },
     "metadata": {
      "needs_background": "light"
     },
     "output_type": "display_data"
    }
   ],
   "source": [
    "(df\n",
    " .groupby('year_of_release')['name'].count()\n",
    " .plot(x='year_of_release', \n",
    "       y='name', \n",
    "       kind='bar', \n",
    "       figsize=(16, 5), \n",
    "       title='Количество игр, выпущенных в разные годы', \n",
    "       grid=True)\n",
    ")\n",
    "plt.xlabel('год выпуска')\n",
    "plt.ylabel('количество игр, шт')\n",
    "plt.show()"
   ]
  },
  {
   "cell_type": "markdown",
   "metadata": {},
   "source": [
    "По диаграмме заметно, что игровая индустрия стремительно меняется, есть подъемы и падения, следовательно **данные за весь период не важны**, необходимо определить **акутальный период**, с которым продолжится дальнейший анализ. "
   ]
  },
  {
   "cell_type": "markdown",
   "metadata": {},
   "source": [
    "### Продажи игр по платформам"
   ]
  },
  {
   "cell_type": "markdown",
   "metadata": {},
   "source": [
    "Выведем на экран сводную таблицу с указанием суммарных продаж по всем регионам в разрезе по платформам:"
   ]
  },
  {
   "cell_type": "code",
   "execution_count": 22,
   "metadata": {},
   "outputs": [
    {
     "data": {
      "text/html": [
       "<div>\n",
       "<style scoped>\n",
       "    .dataframe tbody tr th:only-of-type {\n",
       "        vertical-align: middle;\n",
       "    }\n",
       "\n",
       "    .dataframe tbody tr th {\n",
       "        vertical-align: top;\n",
       "    }\n",
       "\n",
       "    .dataframe thead th {\n",
       "        text-align: right;\n",
       "    }\n",
       "</style>\n",
       "<table border=\"1\" class=\"dataframe\">\n",
       "  <thead>\n",
       "    <tr style=\"text-align: right;\">\n",
       "      <th></th>\n",
       "      <th>суммарные продажи, млн</th>\n",
       "    </tr>\n",
       "    <tr>\n",
       "      <th>platform</th>\n",
       "      <th></th>\n",
       "    </tr>\n",
       "  </thead>\n",
       "  <tbody>\n",
       "    <tr>\n",
       "      <td>PS2</td>\n",
       "      <td>1,233.56</td>\n",
       "    </tr>\n",
       "    <tr>\n",
       "      <td>X360</td>\n",
       "      <td>961.24</td>\n",
       "    </tr>\n",
       "    <tr>\n",
       "      <td>PS3</td>\n",
       "      <td>931.34</td>\n",
       "    </tr>\n",
       "    <tr>\n",
       "      <td>Wii</td>\n",
       "      <td>891.18</td>\n",
       "    </tr>\n",
       "    <tr>\n",
       "      <td>DS</td>\n",
       "      <td>802.78</td>\n",
       "    </tr>\n",
       "    <tr>\n",
       "      <td>PS</td>\n",
       "      <td>727.58</td>\n",
       "    </tr>\n",
       "    <tr>\n",
       "      <td>PS4</td>\n",
       "      <td>314.14</td>\n",
       "    </tr>\n",
       "    <tr>\n",
       "      <td>GBA</td>\n",
       "      <td>312.88</td>\n",
       "    </tr>\n",
       "    <tr>\n",
       "      <td>PSP</td>\n",
       "      <td>289.53</td>\n",
       "    </tr>\n",
       "    <tr>\n",
       "      <td>3DS</td>\n",
       "      <td>257.81</td>\n",
       "    </tr>\n",
       "  </tbody>\n",
       "</table>\n",
       "</div>"
      ],
      "text/plain": [
       "          суммарные продажи, млн\n",
       "platform                        \n",
       "PS2                     1,233.56\n",
       "X360                      961.24\n",
       "PS3                       931.34\n",
       "Wii                       891.18\n",
       "DS                        802.78\n",
       "PS                        727.58\n",
       "PS4                       314.14\n",
       "GBA                       312.88\n",
       "PSP                       289.53\n",
       "3DS                       257.81"
      ]
     },
     "execution_count": 22,
     "metadata": {},
     "output_type": "execute_result"
    }
   ],
   "source": [
    "df_total_sales = (df\n",
    "                  .pivot_table(index='platform', values='total_sales', aggfunc='sum')\n",
    "                  .sort_values(by='total_sales', ascending=False)\n",
    "                 )\n",
    "df_total_sales.columns = ['суммарные продажи, млн']\n",
    "df_total_sales.head(10)"
   ]
  },
  {
   "cell_type": "markdown",
   "metadata": {},
   "source": [
    "Наиболее успешные по прадажам игр платформы:\n",
    "- `PS2`\n",
    "- `X360`\n",
    "- `PS3`\n",
    "- `Wii`\n",
    "- `DS`\n",
    "- `PS`"
   ]
  },
  {
   "cell_type": "markdown",
   "metadata": {},
   "source": [
    "Выделим срез данных по наиболее успешным платформам:"
   ]
  },
  {
   "cell_type": "code",
   "execution_count": 23,
   "metadata": {},
   "outputs": [],
   "source": [
    "df_high_sales = df.query('platform in (\"PS2\", \"X360\", \"PS3\", \"Wii\", \"DS\", \"PS\")')"
   ]
  },
  {
   "cell_type": "markdown",
   "metadata": {},
   "source": [
    "Построим график распределения продаж игр каждой платформы по годам:"
   ]
  },
  {
   "cell_type": "code",
   "execution_count": 24,
   "metadata": {
    "scrolled": true
   },
   "outputs": [
    {
     "data": {
      "image/png": "[encoded data removed]",
      "text/plain": [
       "<Figure size 1152x360 with 1 Axes>"
      ]
     },
     "metadata": {
      "needs_background": "light"
     },
     "output_type": "display_data"
    }
   ],
   "source": [
    "(\n",
    "    df_high_sales.groupby(['platform', 'year_of_release'])['total_sales'].sum()\n",
    "    .unstack('platform')\n",
    "    .plot(style='o-', \n",
    "          grid=True, \n",
    "          figsize=(16, 5), \n",
    "          title='Распределение продаж игр на платформы по годам')\n",
    ")\n",
    "plt.xlabel('год выпуска')\n",
    "plt.ylabel('количество продаж, млн копий')\n",
    "plt.show()"
   ]
  },
  {
   "cell_type": "markdown",
   "metadata": {},
   "source": [
    "Из графика видно, что в среднем срок актуальности каждой платформы составляет около **10 лет**."
   ]
  },
  {
   "cell_type": "markdown",
   "metadata": {},
   "source": [
    "### Определение актуального периода"
   ]
  },
  {
   "cell_type": "markdown",
   "metadata": {},
   "source": [
    "Из исследования предыдущих вопросов можно сделать следующие выводы:\n",
    "- до 2013 года наблюдался резкий спад выпуска игр, после чего ситуация нормализовалась;\n",
    "- средний срок актуальности платформы около 10 лет;\n",
    "- пик популярности платформы находится в середине срока ее \"жизни\", то есть через 5 лет\n",
    "\n",
    "Таким образом, чтобы построить прогноз на 2017 год, нам необходимо чтобы в выпуске игр не было перепадов, а также, чтобы платформа в 2017 году не потеряла свою актуальность. \n",
    "\n",
    "Для проведения дальнейшего исследования будет целесообразно взять период времени **с 2013 года**:"
   ]
  },
  {
   "cell_type": "code",
   "execution_count": 25,
   "metadata": {},
   "outputs": [],
   "source": [
    "df_relevant = df.query('year_of_release >= 2013')"
   ]
  },
  {
   "cell_type": "markdown",
   "metadata": {},
   "source": [
    "**Актуальный период** определен, дальнейшее исследование будет проводиться исключительно по срезу данных за период **с 2013 года**."
   ]
  },
  {
   "cell_type": "markdown",
   "metadata": {},
   "source": [
    "### Исследование продаж по платформам за актуальный период"
   ]
  },
  {
   "cell_type": "markdown",
   "metadata": {},
   "source": [
    "Выведем на экран сводную таблицу с указанием суммарных продаж по всем регионам в разрезе по платформам за **актуальный период**:"
   ]
  },
  {
   "cell_type": "code",
   "execution_count": 26,
   "metadata": {},
   "outputs": [
    {
     "data": {
      "text/html": [
       "<div>\n",
       "<style scoped>\n",
       "    .dataframe tbody tr th:only-of-type {\n",
       "        vertical-align: middle;\n",
       "    }\n",
       "\n",
       "    .dataframe tbody tr th {\n",
       "        vertical-align: top;\n",
       "    }\n",
       "\n",
       "    .dataframe thead th {\n",
       "        text-align: right;\n",
       "    }\n",
       "</style>\n",
       "<table border=\"1\" class=\"dataframe\">\n",
       "  <thead>\n",
       "    <tr style=\"text-align: right;\">\n",
       "      <th></th>\n",
       "      <th>суммарные продажи, млн</th>\n",
       "    </tr>\n",
       "    <tr>\n",
       "      <th>platform</th>\n",
       "      <th></th>\n",
       "    </tr>\n",
       "  </thead>\n",
       "  <tbody>\n",
       "    <tr>\n",
       "      <td>PS4</td>\n",
       "      <td>314.14</td>\n",
       "    </tr>\n",
       "    <tr>\n",
       "      <td>PS3</td>\n",
       "      <td>181.43</td>\n",
       "    </tr>\n",
       "    <tr>\n",
       "      <td>XOne</td>\n",
       "      <td>159.32</td>\n",
       "    </tr>\n",
       "    <tr>\n",
       "      <td>3DS</td>\n",
       "      <td>143.25</td>\n",
       "    </tr>\n",
       "    <tr>\n",
       "      <td>X360</td>\n",
       "      <td>136.80</td>\n",
       "    </tr>\n",
       "    <tr>\n",
       "      <td>WiiU</td>\n",
       "      <td>64.63</td>\n",
       "    </tr>\n",
       "    <tr>\n",
       "      <td>PC</td>\n",
       "      <td>39.43</td>\n",
       "    </tr>\n",
       "    <tr>\n",
       "      <td>PSV</td>\n",
       "      <td>32.99</td>\n",
       "    </tr>\n",
       "    <tr>\n",
       "      <td>Wii</td>\n",
       "      <td>13.66</td>\n",
       "    </tr>\n",
       "    <tr>\n",
       "      <td>PSP</td>\n",
       "      <td>3.50</td>\n",
       "    </tr>\n",
       "  </tbody>\n",
       "</table>\n",
       "</div>"
      ],
      "text/plain": [
       "          суммарные продажи, млн\n",
       "platform                        \n",
       "PS4                       314.14\n",
       "PS3                       181.43\n",
       "XOne                      159.32\n",
       "3DS                       143.25\n",
       "X360                      136.80\n",
       "WiiU                       64.63\n",
       "PC                         39.43\n",
       "PSV                        32.99\n",
       "Wii                        13.66\n",
       "PSP                         3.50"
      ]
     },
     "execution_count": 26,
     "metadata": {},
     "output_type": "execute_result"
    }
   ],
   "source": [
    "df_relevant_total_sales = (df_relevant\n",
    "                  .pivot_table(index='platform', values='total_sales', aggfunc='sum')\n",
    "                  .sort_values(by='total_sales', ascending=False)\n",
    "                 )\n",
    "df_relevant_total_sales.columns = ['суммарные продажи, млн']\n",
    "df_relevant_total_sales.head(10)"
   ]
  },
  {
   "cell_type": "markdown",
   "metadata": {},
   "source": [
    "Наиболее успешные по прадажам игр за **актуальный** период платформы:\n",
    "- `PS4`\n",
    "- `PS3`\n",
    "- `XOne`\n",
    "- `3DS`\n",
    "- `X360`"
   ]
  },
  {
   "cell_type": "markdown",
   "metadata": {},
   "source": [
    "Выделим срез данных по наиболее успешным платформам:"
   ]
  },
  {
   "cell_type": "code",
   "execution_count": 27,
   "metadata": {},
   "outputs": [],
   "source": [
    "df_relevant_high_sales = df_relevant.query('platform in (\"PS4\", \"PS3\", \"XOne\", \"3DS\", \"X360\")')"
   ]
  },
  {
   "cell_type": "markdown",
   "metadata": {},
   "source": [
    "Построим график распределения продаж игр каждой платформы по годам:"
   ]
  },
  {
   "cell_type": "code",
   "execution_count": 28,
   "metadata": {
    "scrolled": true
   },
   "outputs": [
    {
     "data": {
      "image/png": "[encoded data removed]",
      "text/plain": [
       "<Figure size 1152x360 with 1 Axes>"
      ]
     },
     "metadata": {
      "needs_background": "light"
     },
     "output_type": "display_data"
    }
   ],
   "source": [
    "(\n",
    "    df_relevant_high_sales.groupby(['platform', 'year_of_release'])['total_sales'].sum()\n",
    "    .unstack('platform')\n",
    "    .plot(style='o-', \n",
    "          grid=True, \n",
    "          figsize=(16, 5), \n",
    "          title='Распределение продаж игр на платформы по годам за актуальный период')\n",
    ")\n",
    "plt.xlabel('год выпуска')\n",
    "plt.ylabel('количество продаж, млн копий')\n",
    "plt.show()"
   ]
  },
  {
   "cell_type": "markdown",
   "metadata": {},
   "source": [
    "По графику видно, что жизненный цикл таких лидеров продаж, как PS3 и X360, подходит к завершению, продажи стремительно падают и близятся к нулевым. И данный рещультат не удивителен, ведь платформы были выпущены в 2005 и 2006 годах, то есть более 10 лет назад.\n",
    "\n",
    "К **потенциально прибыльным** платформам на **2017** год можно отнести:\n",
    "- `PS4`\n",
    "- `XOne`\n",
    "\n",
    "Рассматривая данные за **актуальный период** можно заметить, что **рост** продаж наблюдался только у **вышеперечисленных платформ**. "
   ]
  },
  {
   "cell_type": "markdown",
   "metadata": {},
   "source": [
    "### Глобальные продажи игр в разбивке по платформам"
   ]
  },
  {
   "cell_type": "markdown",
   "metadata": {},
   "source": [
    "Построим график \"ящик с усами\" по глобальным продажам игр в разбивке по платформам:"
   ]
  },
  {
   "cell_type": "code",
   "execution_count": 29,
   "metadata": {},
   "outputs": [
    {
     "data": {
      "image/png": "[encoded data removed]",
      "text/plain": [
       "<Figure size 1152x360 with 1 Axes>"
      ]
     },
     "metadata": {
      "needs_background": "light"
     },
     "output_type": "display_data"
    }
   ],
   "source": [
    "plt.figure(figsize=(16, 5))\n",
    "sns.boxplot(data=df_relevant_high_sales, x='platform', y='total_sales')\n",
    "plt.ylim(0, 2)\n",
    "plt.title('Ящик с усами по глобальным продажам')\n",
    "plt.xlabel('Платформа')\n",
    "plt.ylabel('Количество продаж, млн копий')\n",
    "plt.show()"
   ]
  },
  {
   "cell_type": "markdown",
   "metadata": {},
   "source": [
    "По полученным графикам видно, что данные по продажам игр платформ **PS4**, **XOne** и **X360** скошены вправо, также их медианные значения выше остальных платформ. Следовательно продажи игр за актуальный период на данных платформах превышали продажи игр на **PS3** и **3DS**.\n",
    "\n",
    "Также, у платформ **PS3** и **3DS** огромное количество выбросов, что говорит нам о том, что далеко не все проекты на данных платформах были успешны, популярностью пользовались в большинстве случаев отдельные игры.\n",
    "\n",
    "Самой популярной платформой на актуальный период является `PS4`, именно у нее больше всех продаж."
   ]
  },
  {
   "cell_type": "markdown",
   "metadata": {},
   "source": [
    "### Влияние отзывов на продажи внутри одной потенциально прибыльной платформы"
   ]
  },
  {
   "cell_type": "markdown",
   "metadata": {},
   "source": [
    "Получим срез данных внутри платформы **PS4**:"
   ]
  },
  {
   "cell_type": "code",
   "execution_count": 30,
   "metadata": {},
   "outputs": [],
   "source": [
    "df_relevant_ps4 = df_relevant.query('platform in \"PS4\"')"
   ]
  },
  {
   "cell_type": "markdown",
   "metadata": {},
   "source": [
    "Посчитаем корреляцию между оценками критиков и продажами внутри платформы **PS4**:"
   ]
  },
  {
   "cell_type": "code",
   "execution_count": 31,
   "metadata": {},
   "outputs": [
    {
     "name": "stdout",
     "output_type": "stream",
     "text": [
      "Корреляция между отзывами критиков и продажами на PS4: 0.40656790206178095\n"
     ]
    }
   ],
   "source": [
    "print('Корреляция между отзывами критиков и продажами на PS4:', df_relevant_ps4['critic_score'].corr(df_relevant_ps4['total_sales']))"
   ]
  },
  {
   "cell_type": "markdown",
   "metadata": {},
   "source": [
    "Построим и изучим диаграмму рассеяния:"
   ]
  },
  {
   "cell_type": "code",
   "execution_count": 32,
   "metadata": {
    "scrolled": true
   },
   "outputs": [
    {
     "data": {
      "image/png": "[encoded data removed]",
      "text/plain": [
       "<Figure size 720x360 with 1 Axes>"
      ]
     },
     "metadata": {
      "needs_background": "light"
     },
     "output_type": "display_data"
    }
   ],
   "source": [
    "(\n",
    "    df_relevant_ps4\n",
    "    .plot(x='critic_score', \n",
    "          y='total_sales', \n",
    "          kind='scatter', \n",
    "          figsize=(10, 5))\n",
    ")\n",
    "plt.title('Диаграмма рассеяния зависимости продаж игр PS4 от оценок критиков')\n",
    "plt.xlabel('Оценка критиков')\n",
    "plt.ylabel('Количество продаж, млн копий')\n",
    "plt.show()"
   ]
  },
  {
   "cell_type": "markdown",
   "metadata": {},
   "source": [
    "Посчитаем корреляцию между оценками пользователей и продажами внутри платформы **PS4**:"
   ]
  },
  {
   "cell_type": "code",
   "execution_count": 33,
   "metadata": {},
   "outputs": [
    {
     "name": "stdout",
     "output_type": "stream",
     "text": [
      "Корреляция между отзывами пользователей и продажами на PS4: -0.031957110204556376\n"
     ]
    }
   ],
   "source": [
    "print('Корреляция между отзывами пользователей и продажами на PS4:', df_relevant_ps4['user_score'].corr(df_relevant_ps4['total_sales']))"
   ]
  },
  {
   "cell_type": "markdown",
   "metadata": {},
   "source": [
    "Построим и изучим диаграмму рассеяния:"
   ]
  },
  {
   "cell_type": "code",
   "execution_count": 34,
   "metadata": {
    "scrolled": true
   },
   "outputs": [
    {
     "data": {
      "image/png": "[encoded data removed]",
      "text/plain": [
       "<Figure size 720x360 with 1 Axes>"
      ]
     },
     "metadata": {
      "needs_background": "light"
     },
     "output_type": "display_data"
    }
   ],
   "source": [
    "(\n",
    "    df_relevant_ps4\n",
    "    .plot(x='user_score', \n",
    "          y='total_sales', \n",
    "          kind='scatter', \n",
    "          figsize=(10, 5))\n",
    ")\n",
    "plt.title('Диаграмма рассеяния зависимости продаж игр PS4 от оценок пользователей')\n",
    "plt.xlabel('Оценка пользователей')\n",
    "plt.ylabel('Количество продаж, млн копий')\n",
    "plt.show()"
   ]
  },
  {
   "cell_type": "markdown",
   "metadata": {},
   "source": [
    "Исходя из полученных результатов можно сделать следующие выводы:\n",
    "- продажи игр на платформе PS4 имеют умеренную зависимость от отзывов критиков (чем выше оценка критиков, тем выше продажи игры)\n",
    "- продажи игр на платформе PS4 малозависимы от оценок пользователей, причем данная зависиомсть обратная (количество продаж у игры с высокой оценкой пользователей может быть ниже, чем продажит у игры с низкой оценкой)"
   ]
  },
  {
   "cell_type": "markdown",
   "metadata": {},
   "source": [
    "### Влияние отзывов на продажи внутри остальных поптенциально прибыльных платформ"
   ]
  },
  {
   "cell_type": "markdown",
   "metadata": {},
   "source": [
    "#### Платформа 3DS"
   ]
  },
  {
   "cell_type": "markdown",
   "metadata": {},
   "source": [
    "Получим срез данных внутри платформы **3DS**:"
   ]
  },
  {
   "cell_type": "code",
   "execution_count": 35,
   "metadata": {},
   "outputs": [],
   "source": [
    "df_relevant_3ds = df_relevant.query('platform in \"3DS\"')"
   ]
  },
  {
   "cell_type": "markdown",
   "metadata": {},
   "source": [
    "Посчитаем корреляцию между оценками и продажами внутри платформы **3DS**:"
   ]
  },
  {
   "cell_type": "code",
   "execution_count": 36,
   "metadata": {},
   "outputs": [
    {
     "name": "stdout",
     "output_type": "stream",
     "text": [
      "Корреляция между отзывами критиков и продажами на 3DS: 0.3570566142288103\n",
      "Корреляция между отзывами пользователей и продажами на 3DS: 0.24150411773563016\n"
     ]
    }
   ],
   "source": [
    "print('Корреляция между отзывами критиков и продажами на 3DS:', df_relevant_3ds['critic_score'].corr(df_relevant_3ds['total_sales']))\n",
    "print('Корреляция между отзывами пользователей и продажами на 3DS:', df_relevant_3ds['user_score'].corr(df_relevant_3ds['total_sales']))"
   ]
  },
  {
   "cell_type": "markdown",
   "metadata": {},
   "source": [
    "Построим и изучим диаграммы рассеяния:"
   ]
  },
  {
   "cell_type": "code",
   "execution_count": 37,
   "metadata": {
    "scrolled": true
   },
   "outputs": [
    {
     "data": {
      "image/png": "[encoded data removed]",
      "text/plain": [
       "<Figure size 720x360 with 1 Axes>"
      ]
     },
     "metadata": {
      "needs_background": "light"
     },
     "output_type": "display_data"
    }
   ],
   "source": [
    "(\n",
    "    df_relevant_3ds\n",
    "    .plot(x='critic_score', \n",
    "          y='total_sales', \n",
    "          kind='scatter', \n",
    "          figsize=(10, 5))\n",
    ")\n",
    "plt.title('Диаграмма рассеяния зависимости продаж игр 3DS от оценок критиков')\n",
    "plt.xlabel('Оценка критиков')\n",
    "plt.ylabel('Количество продаж, млн копий')\n",
    "plt.show()"
   ]
  },
  {
   "cell_type": "code",
   "execution_count": 38,
   "metadata": {
    "scrolled": true
   },
   "outputs": [
    {
     "data": {
      "image/png": "[encoded data removed]",
      "text/plain": [
       "<Figure size 720x360 with 1 Axes>"
      ]
     },
     "metadata": {
      "needs_background": "light"
     },
     "output_type": "display_data"
    }
   ],
   "source": [
    "(\n",
    "    df_relevant_3ds\n",
    "    .plot(x='user_score', \n",
    "          y='total_sales', \n",
    "          kind='scatter', \n",
    "          figsize=(10, 5))\n",
    ")\n",
    "plt.title('Диаграмма рассеяния зависимости продаж игр 3DS от оценок пользователей')\n",
    "plt.xlabel('Оценка пользователей')\n",
    "plt.ylabel('Количество продаж, млн копий')\n",
    "plt.show()"
   ]
  },
  {
   "cell_type": "markdown",
   "metadata": {},
   "source": [
    "#### Платформа XOne"
   ]
  },
  {
   "cell_type": "markdown",
   "metadata": {},
   "source": [
    "Получим срез данных внутри платформы **XOne**:"
   ]
  },
  {
   "cell_type": "code",
   "execution_count": 39,
   "metadata": {},
   "outputs": [],
   "source": [
    "df_relevant_xone = df_relevant.query('platform in \"XOne\"')"
   ]
  },
  {
   "cell_type": "markdown",
   "metadata": {},
   "source": [
    "Посчитаем корреляцию между оценками и продажами внутри платформы **XOne**:"
   ]
  },
  {
   "cell_type": "code",
   "execution_count": 40,
   "metadata": {},
   "outputs": [
    {
     "name": "stdout",
     "output_type": "stream",
     "text": [
      "Корреляция между отзывами критиков и продажами на XOne: 0.4169983280084017\n",
      "Корреляция между отзывами пользователей и продажами на XOne: -0.06892505328279414\n"
     ]
    }
   ],
   "source": [
    "print('Корреляция между отзывами критиков и продажами на XOne:', df_relevant_xone['critic_score'].corr(df_relevant_xone['total_sales']))\n",
    "print('Корреляция между отзывами пользователей и продажами на XOne:', df_relevant_xone['user_score'].corr(df_relevant_xone['total_sales']))"
   ]
  },
  {
   "cell_type": "markdown",
   "metadata": {},
   "source": [
    "Построим и изучим диаграммы рассеяния:"
   ]
  },
  {
   "cell_type": "code",
   "execution_count": 41,
   "metadata": {
    "scrolled": true
   },
   "outputs": [
    {
     "data": {
      "image/png": "[encoded data removed]",
      "text/plain": [
       "<Figure size 720x360 with 1 Axes>"
      ]
     },
     "metadata": {
      "needs_background": "light"
     },
     "output_type": "display_data"
    }
   ],
   "source": [
    "(\n",
    "    df_relevant_xone\n",
    "    .plot(x='critic_score', \n",
    "          y='total_sales', \n",
    "          kind='scatter', \n",
    "          figsize=(10, 5))\n",
    ")\n",
    "plt.title('Диаграмма рассеяния зависимости продаж игр XOne от оценок критиков')\n",
    "plt.xlabel('Оценка критиков')\n",
    "plt.ylabel('Количество продаж, млн копий')\n",
    "plt.show()"
   ]
  },
  {
   "cell_type": "code",
   "execution_count": 42,
   "metadata": {
    "scrolled": false
   },
   "outputs": [
    {
     "data": {
      "image/png": "[encoded data removed]",
      "text/plain": [
       "<Figure size 720x360 with 1 Axes>"
      ]
     },
     "metadata": {
      "needs_background": "light"
     },
     "output_type": "display_data"
    }
   ],
   "source": [
    "(\n",
    "    df_relevant_xone\n",
    "    .plot(x='user_score', \n",
    "          y='total_sales', \n",
    "          kind='scatter', \n",
    "          figsize=(10, 5))\n",
    ")\n",
    "plt.title('Диаграмма рассеяния зависимости продаж игр XOne от оценок пользователей')\n",
    "plt.xlabel('Оценка пользователей')\n",
    "plt.ylabel('Количество продаж, млн копий')\n",
    "plt.show()"
   ]
  },
  {
   "cell_type": "markdown",
   "metadata": {},
   "source": [
    "#### Вывод о влиянии оценок критиков и пользователей на продажи"
   ]
  },
  {
   "cell_type": "markdown",
   "metadata": {},
   "source": [
    "Изучив корреляцию и диаграммы рассеяния можно сделать следующие **выводы**:\n",
    "- Продажи игр на платформах \"PS4\" и \"XOne\" имеют прямую зависимость от оценок критиков, но практически независимы от оценок пользователей;\n",
    "- Продажи игр на платформе \"3DS\" имеют прямую зависимость как от оценок критиков, так и от оценок пользователей\n",
    "- Для покупателя мнение критиков, как правило, важнее мнения пользователей"
   ]
  },
  {
   "cell_type": "markdown",
   "metadata": {},
   "source": [
    "### Исследование игровых жанров"
   ]
  },
  {
   "cell_type": "markdown",
   "metadata": {},
   "source": [
    "Выведем на экран сводную таблицу с указанием суммарных продаж по всем жанрам за актуальный период:"
   ]
  },
  {
   "cell_type": "code",
   "execution_count": 43,
   "metadata": {
    "scrolled": false
   },
   "outputs": [
    {
     "data": {
      "text/html": [
       "<div>\n",
       "<style scoped>\n",
       "    .dataframe tbody tr th:only-of-type {\n",
       "        vertical-align: middle;\n",
       "    }\n",
       "\n",
       "    .dataframe tbody tr th {\n",
       "        vertical-align: top;\n",
       "    }\n",
       "\n",
       "    .dataframe thead th {\n",
       "        text-align: right;\n",
       "    }\n",
       "</style>\n",
       "<table border=\"1\" class=\"dataframe\">\n",
       "  <thead>\n",
       "    <tr style=\"text-align: right;\">\n",
       "      <th></th>\n",
       "      <th>Медианные продажи, млн</th>\n",
       "    </tr>\n",
       "    <tr>\n",
       "      <th>genre</th>\n",
       "      <th></th>\n",
       "    </tr>\n",
       "  </thead>\n",
       "  <tbody>\n",
       "    <tr>\n",
       "      <td>Shooter</td>\n",
       "      <td>0.45</td>\n",
       "    </tr>\n",
       "    <tr>\n",
       "      <td>Sports</td>\n",
       "      <td>0.24</td>\n",
       "    </tr>\n",
       "    <tr>\n",
       "      <td>Platform</td>\n",
       "      <td>0.22</td>\n",
       "    </tr>\n",
       "    <tr>\n",
       "      <td>Role-Playing</td>\n",
       "      <td>0.12</td>\n",
       "    </tr>\n",
       "    <tr>\n",
       "      <td>Fighting</td>\n",
       "      <td>0.12</td>\n",
       "    </tr>\n",
       "    <tr>\n",
       "      <td>Racing</td>\n",
       "      <td>0.12</td>\n",
       "    </tr>\n",
       "    <tr>\n",
       "      <td>Action</td>\n",
       "      <td>0.11</td>\n",
       "    </tr>\n",
       "    <tr>\n",
       "      <td>Simulation</td>\n",
       "      <td>0.10</td>\n",
       "    </tr>\n",
       "    <tr>\n",
       "      <td>Misc</td>\n",
       "      <td>0.10</td>\n",
       "    </tr>\n",
       "    <tr>\n",
       "      <td>Strategy</td>\n",
       "      <td>0.08</td>\n",
       "    </tr>\n",
       "  </tbody>\n",
       "</table>\n",
       "</div>"
      ],
      "text/plain": [
       "              Медианные продажи, млн\n",
       "genre                               \n",
       "Shooter                         0.45\n",
       "Sports                          0.24\n",
       "Platform                        0.22\n",
       "Role-Playing                    0.12\n",
       "Fighting                        0.12\n",
       "Racing                          0.12\n",
       "Action                          0.11\n",
       "Simulation                      0.10\n",
       "Misc                            0.10\n",
       "Strategy                        0.08"
      ]
     },
     "execution_count": 43,
     "metadata": {},
     "output_type": "execute_result"
    }
   ],
   "source": [
    "df_relevant_genre = (df_relevant\n",
    "                  .pivot_table(index='genre', values='total_sales', aggfunc='median')\n",
    "                  .sort_values(by='total_sales', ascending=False)\n",
    "                 )\n",
    "df_relevant_genre.columns = ['Медианные продажи, млн']\n",
    "df_relevant_genre.head(10)"
   ]
  },
  {
   "cell_type": "markdown",
   "metadata": {},
   "source": [
    "Визуализируем результат с помощью диаграммы:"
   ]
  },
  {
   "cell_type": "code",
   "execution_count": 44,
   "metadata": {
    "scrolled": true
   },
   "outputs": [
    {
     "data": {
      "image/png": "[encoded data removed]",
      "text/plain": [
       "<Figure size 1080x288 with 1 Axes>"
      ]
     },
     "metadata": {
      "needs_background": "light"
     },
     "output_type": "display_data"
    }
   ],
   "source": [
    "(df_relevant\n",
    " .groupby('genre')['total_sales'].median()\n",
    " .sort_values(ascending=False)\n",
    " .plot(x='genre', \n",
    "       y='total_sales', \n",
    "       kind='bar', \n",
    "       figsize=(15, 4), \n",
    "       title='Распределение продаж по жанрам', \n",
    "       grid=True)\n",
    ")\n",
    "plt.xlabel('Жанр')\n",
    "plt.ylabel('Количество продаж, млн копий')\n",
    "plt.show()"
   ]
  },
  {
   "cell_type": "markdown",
   "metadata": {},
   "source": [
    "По полученным результатам можно сделать вывод о том, что стабильно приносят высокий доход игры в жанре \"Shooter\", а вот игры жанров \"Adventure\" и \"Puzzle\" мало кого интересуют."
   ]
  },
  {
   "cell_type": "markdown",
   "metadata": {},
   "source": [
    "### Вывод по исследовательскому анализу данных"
   ]
  },
  {
   "cell_type": "markdown",
   "metadata": {},
   "source": [
    "Проведя исследовательский анализ данных можно сделать следующие выводы:\n",
    "- Выпуск игр на платформах рос до 2008 года, после чего произошел резкий спад, который продолжился до 2013 года. Вероятнее всего на спад повлияла активная разработка мобильных игр\n",
    "- Средний срок актуальности платформ равен 10 годам\n",
    "- Пик популярности платформа достигает примерно через 5 лет\n",
    "- Прогноз необходимо строить по данным за период с 2013 года\n",
    "- Самые успешные платформы за актуальный период: PS4, PS3, XOne, 3DS и X360\n",
    "- Потенциально прибыльные платформы: PS4, XOne и 3DS\n",
    "- Люди больше доверяют оценкам критиков, чем оценкам пользователей\n",
    "- Самый продаваемый жанр: \"Shooter\""
   ]
  },
  {
   "cell_type": "markdown",
   "metadata": {},
   "source": [
    "## Портрет пользователя каждого региона"
   ]
  },
  {
   "cell_type": "markdown",
   "metadata": {},
   "source": [
    "### Портрет пользователя региона NA (Северная Америка)"
   ]
  },
  {
   "cell_type": "markdown",
   "metadata": {},
   "source": [
    "Выведем на экран сводную таблицу с указанием топ-5 платформ по продажам игр в Северной Америке:"
   ]
  },
  {
   "cell_type": "code",
   "execution_count": 45,
   "metadata": {
    "scrolled": true
   },
   "outputs": [
    {
     "data": {
      "text/html": [
       "<div>\n",
       "<style scoped>\n",
       "    .dataframe tbody tr th:only-of-type {\n",
       "        vertical-align: middle;\n",
       "    }\n",
       "\n",
       "    .dataframe tbody tr th {\n",
       "        vertical-align: top;\n",
       "    }\n",
       "\n",
       "    .dataframe thead th {\n",
       "        text-align: right;\n",
       "    }\n",
       "</style>\n",
       "<table border=\"1\" class=\"dataframe\">\n",
       "  <thead>\n",
       "    <tr style=\"text-align: right;\">\n",
       "      <th></th>\n",
       "      <th>Cуммарные продажи в Северной Америке, млн</th>\n",
       "    </tr>\n",
       "    <tr>\n",
       "      <th>platform</th>\n",
       "      <th></th>\n",
       "    </tr>\n",
       "  </thead>\n",
       "  <tbody>\n",
       "    <tr>\n",
       "      <td>PS4</td>\n",
       "      <td>108.74</td>\n",
       "    </tr>\n",
       "    <tr>\n",
       "      <td>XOne</td>\n",
       "      <td>93.12</td>\n",
       "    </tr>\n",
       "    <tr>\n",
       "      <td>X360</td>\n",
       "      <td>81.66</td>\n",
       "    </tr>\n",
       "    <tr>\n",
       "      <td>PS3</td>\n",
       "      <td>63.50</td>\n",
       "    </tr>\n",
       "    <tr>\n",
       "      <td>3DS</td>\n",
       "      <td>38.20</td>\n",
       "    </tr>\n",
       "  </tbody>\n",
       "</table>\n",
       "</div>"
      ],
      "text/plain": [
       "          Cуммарные продажи в Северной Америке, млн\n",
       "platform                                           \n",
       "PS4                                          108.74\n",
       "XOne                                          93.12\n",
       "X360                                          81.66\n",
       "PS3                                           63.50\n",
       "3DS                                           38.20"
      ]
     },
     "execution_count": 45,
     "metadata": {},
     "output_type": "execute_result"
    }
   ],
   "source": [
    "df_relevant_platform_na = (df_relevant\n",
    "                  .pivot_table(index='platform', values='na_sales', aggfunc='sum')\n",
    "                  .sort_values(by='na_sales', ascending=False)\n",
    "                 )\n",
    "df_relevant_platform_na.columns = ['Cуммарные продажи в Северной Америке, млн']\n",
    "df_relevant_platform_na.head()"
   ]
  },
  {
   "cell_type": "code",
   "execution_count": 46,
   "metadata": {},
   "outputs": [
    {
     "data": {
      "image/png": "[encoded data removed]",
      "text/plain": [
       "<Figure size 1440x504 with 1 Axes>"
      ]
     },
     "metadata": {},
     "output_type": "display_data"
    }
   ],
   "source": [
    "plt.figure(figsize=(20, 7))\n",
    "plt.pie(x = df_relevant_platform_na['Cуммарные продажи в Северной Америке, млн'], \n",
    "        labels = df_relevant_platform_na.index, \n",
    "        autopct=\"%.2f\")\n",
    "plt.title('Топ платформ в Северной Америке')\n",
    "plt.show()"
   ]
  },
  {
   "cell_type": "markdown",
   "metadata": {},
   "source": [
    "Самые популярные платформы Северной Америки:\n",
    "- `PS4`\n",
    "- `XOne`\n",
    "- `X360`\n",
    "- `PS3`\n",
    "- `3DS`"
   ]
  },
  {
   "cell_type": "markdown",
   "metadata": {},
   "source": [
    "Выведем на экран сводную таблицу с указанием топ-5 жанров по продажам в Северной Америке:"
   ]
  },
  {
   "cell_type": "code",
   "execution_count": 47,
   "metadata": {
    "scrolled": true
   },
   "outputs": [
    {
     "data": {
      "text/html": [
       "<div>\n",
       "<style scoped>\n",
       "    .dataframe tbody tr th:only-of-type {\n",
       "        vertical-align: middle;\n",
       "    }\n",
       "\n",
       "    .dataframe tbody tr th {\n",
       "        vertical-align: top;\n",
       "    }\n",
       "\n",
       "    .dataframe thead th {\n",
       "        text-align: right;\n",
       "    }\n",
       "</style>\n",
       "<table border=\"1\" class=\"dataframe\">\n",
       "  <thead>\n",
       "    <tr style=\"text-align: right;\">\n",
       "      <th></th>\n",
       "      <th>Cуммарные продажи в Северной Америке, млн</th>\n",
       "    </tr>\n",
       "    <tr>\n",
       "      <th>genre</th>\n",
       "      <th></th>\n",
       "    </tr>\n",
       "  </thead>\n",
       "  <tbody>\n",
       "    <tr>\n",
       "      <td>Action</td>\n",
       "      <td>126.05</td>\n",
       "    </tr>\n",
       "    <tr>\n",
       "      <td>Shooter</td>\n",
       "      <td>109.74</td>\n",
       "    </tr>\n",
       "    <tr>\n",
       "      <td>Sports</td>\n",
       "      <td>65.27</td>\n",
       "    </tr>\n",
       "    <tr>\n",
       "      <td>Role-Playing</td>\n",
       "      <td>46.40</td>\n",
       "    </tr>\n",
       "    <tr>\n",
       "      <td>Misc</td>\n",
       "      <td>27.49</td>\n",
       "    </tr>\n",
       "  </tbody>\n",
       "</table>\n",
       "</div>"
      ],
      "text/plain": [
       "              Cуммарные продажи в Северной Америке, млн\n",
       "genre                                                  \n",
       "Action                                           126.05\n",
       "Shooter                                          109.74\n",
       "Sports                                            65.27\n",
       "Role-Playing                                      46.40\n",
       "Misc                                              27.49"
      ]
     },
     "execution_count": 47,
     "metadata": {},
     "output_type": "execute_result"
    }
   ],
   "source": [
    "df_relevant_genre_na = (df_relevant\n",
    "                  .pivot_table(index='genre', values='na_sales', aggfunc='sum')\n",
    "                  .sort_values(by='na_sales', ascending=False)\n",
    "                 )\n",
    "df_relevant_genre_na.columns = ['Cуммарные продажи в Северной Америке, млн']\n",
    "df_relevant_genre_na.head()"
   ]
  },
  {
   "cell_type": "code",
   "execution_count": 48,
   "metadata": {},
   "outputs": [
    {
     "data": {
      "image/png": "[encoded data removed]",
      "text/plain": [
       "<Figure size 1440x504 with 1 Axes>"
      ]
     },
     "metadata": {},
     "output_type": "display_data"
    }
   ],
   "source": [
    "plt.figure(figsize=(20, 7))\n",
    "plt.pie(x = df_relevant_genre_na['Cуммарные продажи в Северной Америке, млн'], \n",
    "        labels = df_relevant_genre_na.index, \n",
    "        autopct=\"%.2f\")\n",
    "plt.title('Топ жанров в Северной Америке')\n",
    "plt.show()"
   ]
  },
  {
   "cell_type": "markdown",
   "metadata": {},
   "source": [
    "Выведем на экран сводную таблицу с указанием суммарных продаж по рейтингу ESRB в Северной Америке:"
   ]
  },
  {
   "cell_type": "code",
   "execution_count": 49,
   "metadata": {
    "scrolled": false
   },
   "outputs": [
    {
     "data": {
      "text/html": [
       "<div>\n",
       "<style scoped>\n",
       "    .dataframe tbody tr th:only-of-type {\n",
       "        vertical-align: middle;\n",
       "    }\n",
       "\n",
       "    .dataframe tbody tr th {\n",
       "        vertical-align: top;\n",
       "    }\n",
       "\n",
       "    .dataframe thead th {\n",
       "        text-align: right;\n",
       "    }\n",
       "</style>\n",
       "<table border=\"1\" class=\"dataframe\">\n",
       "  <thead>\n",
       "    <tr style=\"text-align: right;\">\n",
       "      <th></th>\n",
       "      <th>Cуммарные продажи в Северной Америке, млн</th>\n",
       "    </tr>\n",
       "    <tr>\n",
       "      <th>rating</th>\n",
       "      <th></th>\n",
       "    </tr>\n",
       "  </thead>\n",
       "  <tbody>\n",
       "    <tr>\n",
       "      <td>M</td>\n",
       "      <td>165.21</td>\n",
       "    </tr>\n",
       "    <tr>\n",
       "      <td>no_rating</td>\n",
       "      <td>89.42</td>\n",
       "    </tr>\n",
       "    <tr>\n",
       "      <td>E</td>\n",
       "      <td>79.05</td>\n",
       "    </tr>\n",
       "    <tr>\n",
       "      <td>E10+</td>\n",
       "      <td>54.24</td>\n",
       "    </tr>\n",
       "    <tr>\n",
       "      <td>T</td>\n",
       "      <td>49.79</td>\n",
       "    </tr>\n",
       "  </tbody>\n",
       "</table>\n",
       "</div>"
      ],
      "text/plain": [
       "           Cуммарные продажи в Северной Америке, млн\n",
       "rating                                              \n",
       "M                                             165.21\n",
       "no_rating                                      89.42\n",
       "E                                              79.05\n",
       "E10+                                           54.24\n",
       "T                                              49.79"
      ]
     },
     "execution_count": 49,
     "metadata": {},
     "output_type": "execute_result"
    }
   ],
   "source": [
    "df_relevant_esrb_na = (df_relevant\n",
    "                  .pivot_table(index='rating', values='na_sales', aggfunc='sum')\n",
    "                  .sort_values(by='na_sales', ascending=False)\n",
    "                 )\n",
    "df_relevant_esrb_na.columns = ['Cуммарные продажи в Северной Америке, млн']\n",
    "df_relevant_esrb_na.head()"
   ]
  },
  {
   "cell_type": "code",
   "execution_count": 50,
   "metadata": {},
   "outputs": [
    {
     "data": {
      "image/png": "[encoded data removed]",
      "text/plain": [
       "<Figure size 1440x504 with 1 Axes>"
      ]
     },
     "metadata": {},
     "output_type": "display_data"
    }
   ],
   "source": [
    "plt.figure(figsize=(20, 7))\n",
    "plt.pie(x = df_relevant_esrb_na['Cуммарные продажи в Северной Америке, млн'], \n",
    "        labels = df_relevant_esrb_na.index, \n",
    "        autopct=\"%.2f\")\n",
    "plt.title('Топ рейтингов в Северной Америке')\n",
    "plt.show()"
   ]
  },
  {
   "cell_type": "markdown",
   "metadata": {},
   "source": [
    "Портрет пользователя из **Северной Америки**:\n",
    "- Предпочитает платформы PS4, XOne и X360\n",
    "- Предпочитает жанры: Action и Shooter\n",
    "- Основная доля продаж игр с рейтингом ESRB \"M - для взрослых 17+\""
   ]
  },
  {
   "cell_type": "markdown",
   "metadata": {},
   "source": [
    "### Портрет пользователя региона EU (Европа)"
   ]
  },
  {
   "cell_type": "markdown",
   "metadata": {},
   "source": [
    "Выведем на экран сводную таблицу с указанием топ-5 платформ по продажам игр в Европе:"
   ]
  },
  {
   "cell_type": "code",
   "execution_count": 51,
   "metadata": {
    "scrolled": true
   },
   "outputs": [
    {
     "data": {
      "text/html": [
       "<div>\n",
       "<style scoped>\n",
       "    .dataframe tbody tr th:only-of-type {\n",
       "        vertical-align: middle;\n",
       "    }\n",
       "\n",
       "    .dataframe tbody tr th {\n",
       "        vertical-align: top;\n",
       "    }\n",
       "\n",
       "    .dataframe thead th {\n",
       "        text-align: right;\n",
       "    }\n",
       "</style>\n",
       "<table border=\"1\" class=\"dataframe\">\n",
       "  <thead>\n",
       "    <tr style=\"text-align: right;\">\n",
       "      <th></th>\n",
       "      <th>Cуммарные продажи в Европе, млн</th>\n",
       "    </tr>\n",
       "    <tr>\n",
       "      <th>platform</th>\n",
       "      <th></th>\n",
       "    </tr>\n",
       "  </thead>\n",
       "  <tbody>\n",
       "    <tr>\n",
       "      <td>PS4</td>\n",
       "      <td>141.09</td>\n",
       "    </tr>\n",
       "    <tr>\n",
       "      <td>PS3</td>\n",
       "      <td>67.81</td>\n",
       "    </tr>\n",
       "    <tr>\n",
       "      <td>XOne</td>\n",
       "      <td>51.59</td>\n",
       "    </tr>\n",
       "    <tr>\n",
       "      <td>X360</td>\n",
       "      <td>42.52</td>\n",
       "    </tr>\n",
       "    <tr>\n",
       "      <td>3DS</td>\n",
       "      <td>30.96</td>\n",
       "    </tr>\n",
       "  </tbody>\n",
       "</table>\n",
       "</div>"
      ],
      "text/plain": [
       "          Cуммарные продажи в Европе, млн\n",
       "platform                                 \n",
       "PS4                                141.09\n",
       "PS3                                 67.81\n",
       "XOne                                51.59\n",
       "X360                                42.52\n",
       "3DS                                 30.96"
      ]
     },
     "execution_count": 51,
     "metadata": {},
     "output_type": "execute_result"
    }
   ],
   "source": [
    "df_relevant_platform_eu = (df_relevant\n",
    "                  .pivot_table(index='platform', values='eu_sales', aggfunc='sum')\n",
    "                  .sort_values(by='eu_sales', ascending=False)\n",
    "                 )\n",
    "df_relevant_platform_eu.columns = ['Cуммарные продажи в Европе, млн']\n",
    "df_relevant_platform_eu.head()"
   ]
  },
  {
   "cell_type": "code",
   "execution_count": 52,
   "metadata": {},
   "outputs": [
    {
     "data": {
      "image/png": "[encoded data removed]",
      "text/plain": [
       "<Figure size 1440x504 with 1 Axes>"
      ]
     },
     "metadata": {},
     "output_type": "display_data"
    }
   ],
   "source": [
    "plt.figure(figsize=(20, 7))\n",
    "plt.pie(x = df_relevant_platform_eu['Cуммарные продажи в Европе, млн'], \n",
    "        labels = df_relevant_platform_eu.index, \n",
    "        autopct=\"%.2f\")\n",
    "plt.title('Топ платформ в Европе')\n",
    "plt.show()"
   ]
  },
  {
   "cell_type": "markdown",
   "metadata": {},
   "source": [
    "Самые популярные платформы Европы:\n",
    "- `PS4`\n",
    "- `PS3`\n",
    "- `XOne`\n",
    "- `X360`\n",
    "- `3DS`"
   ]
  },
  {
   "cell_type": "markdown",
   "metadata": {},
   "source": [
    "Выведем на экран сводную таблицу с указанием топ-5 жанров по продажам в Европе:"
   ]
  },
  {
   "cell_type": "code",
   "execution_count": 53,
   "metadata": {
    "scrolled": true
   },
   "outputs": [
    {
     "data": {
      "text/html": [
       "<div>\n",
       "<style scoped>\n",
       "    .dataframe tbody tr th:only-of-type {\n",
       "        vertical-align: middle;\n",
       "    }\n",
       "\n",
       "    .dataframe tbody tr th {\n",
       "        vertical-align: top;\n",
       "    }\n",
       "\n",
       "    .dataframe thead th {\n",
       "        text-align: right;\n",
       "    }\n",
       "</style>\n",
       "<table border=\"1\" class=\"dataframe\">\n",
       "  <thead>\n",
       "    <tr style=\"text-align: right;\">\n",
       "      <th></th>\n",
       "      <th>Cуммарные продажи в Европе, млн</th>\n",
       "    </tr>\n",
       "    <tr>\n",
       "      <th>genre</th>\n",
       "      <th></th>\n",
       "    </tr>\n",
       "  </thead>\n",
       "  <tbody>\n",
       "    <tr>\n",
       "      <td>Action</td>\n",
       "      <td>118.13</td>\n",
       "    </tr>\n",
       "    <tr>\n",
       "      <td>Shooter</td>\n",
       "      <td>87.86</td>\n",
       "    </tr>\n",
       "    <tr>\n",
       "      <td>Sports</td>\n",
       "      <td>60.52</td>\n",
       "    </tr>\n",
       "    <tr>\n",
       "      <td>Role-Playing</td>\n",
       "      <td>36.97</td>\n",
       "    </tr>\n",
       "    <tr>\n",
       "      <td>Racing</td>\n",
       "      <td>20.19</td>\n",
       "    </tr>\n",
       "  </tbody>\n",
       "</table>\n",
       "</div>"
      ],
      "text/plain": [
       "              Cуммарные продажи в Европе, млн\n",
       "genre                                        \n",
       "Action                                 118.13\n",
       "Shooter                                 87.86\n",
       "Sports                                  60.52\n",
       "Role-Playing                            36.97\n",
       "Racing                                  20.19"
      ]
     },
     "execution_count": 53,
     "metadata": {},
     "output_type": "execute_result"
    }
   ],
   "source": [
    "df_relevant_genre_eu = (df_relevant\n",
    "                  .pivot_table(index='genre', values='eu_sales', aggfunc='sum')\n",
    "                  .sort_values(by='eu_sales', ascending=False)\n",
    "                 )\n",
    "df_relevant_genre_eu.columns = ['Cуммарные продажи в Европе, млн']\n",
    "df_relevant_genre_eu.head()"
   ]
  },
  {
   "cell_type": "code",
   "execution_count": 54,
   "metadata": {},
   "outputs": [
    {
     "data": {
      "image/png": "[encoded data removed]",
      "text/plain": [
       "<Figure size 1440x504 with 1 Axes>"
      ]
     },
     "metadata": {},
     "output_type": "display_data"
    }
   ],
   "source": [
    "plt.figure(figsize=(20, 7))\n",
    "plt.pie(x = df_relevant_genre_eu['Cуммарные продажи в Европе, млн'], \n",
    "        labels = df_relevant_genre_eu.index, \n",
    "        autopct=\"%.2f\")\n",
    "plt.title('Топ жанров в Европе')\n",
    "plt.show()"
   ]
  },
  {
   "cell_type": "markdown",
   "metadata": {},
   "source": [
    "Выведем на экран сводную таблицу с указанием суммарных продаж по рейтингу ESRB в Европе:"
   ]
  },
  {
   "cell_type": "code",
   "execution_count": 55,
   "metadata": {
    "scrolled": false
   },
   "outputs": [
    {
     "data": {
      "text/html": [
       "<div>\n",
       "<style scoped>\n",
       "    .dataframe tbody tr th:only-of-type {\n",
       "        vertical-align: middle;\n",
       "    }\n",
       "\n",
       "    .dataframe tbody tr th {\n",
       "        vertical-align: top;\n",
       "    }\n",
       "\n",
       "    .dataframe thead th {\n",
       "        text-align: right;\n",
       "    }\n",
       "</style>\n",
       "<table border=\"1\" class=\"dataframe\">\n",
       "  <thead>\n",
       "    <tr style=\"text-align: right;\">\n",
       "      <th></th>\n",
       "      <th>Cуммарные продажи в Европе, млн</th>\n",
       "    </tr>\n",
       "    <tr>\n",
       "      <th>rating</th>\n",
       "      <th></th>\n",
       "    </tr>\n",
       "  </thead>\n",
       "  <tbody>\n",
       "    <tr>\n",
       "      <td>M</td>\n",
       "      <td>145.32</td>\n",
       "    </tr>\n",
       "    <tr>\n",
       "      <td>E</td>\n",
       "      <td>83.36</td>\n",
       "    </tr>\n",
       "    <tr>\n",
       "      <td>no_rating</td>\n",
       "      <td>78.91</td>\n",
       "    </tr>\n",
       "    <tr>\n",
       "      <td>E10+</td>\n",
       "      <td>42.69</td>\n",
       "    </tr>\n",
       "    <tr>\n",
       "      <td>T</td>\n",
       "      <td>41.95</td>\n",
       "    </tr>\n",
       "  </tbody>\n",
       "</table>\n",
       "</div>"
      ],
      "text/plain": [
       "           Cуммарные продажи в Европе, млн\n",
       "rating                                    \n",
       "M                                   145.32\n",
       "E                                    83.36\n",
       "no_rating                            78.91\n",
       "E10+                                 42.69\n",
       "T                                    41.95"
      ]
     },
     "execution_count": 55,
     "metadata": {},
     "output_type": "execute_result"
    }
   ],
   "source": [
    "df_relevant_esrb_eu = (df_relevant\n",
    "                  .pivot_table(index='rating', values='eu_sales', aggfunc='sum')\n",
    "                  .sort_values(by='eu_sales', ascending=False)\n",
    "                 )\n",
    "df_relevant_esrb_eu.columns = ['Cуммарные продажи в Европе, млн']\n",
    "df_relevant_esrb_eu.head()"
   ]
  },
  {
   "cell_type": "code",
   "execution_count": 56,
   "metadata": {},
   "outputs": [
    {
     "data": {
      "image/png": "[encoded data removed]",
      "text/plain": [
       "<Figure size 1440x504 with 1 Axes>"
      ]
     },
     "metadata": {},
     "output_type": "display_data"
    }
   ],
   "source": [
    "plt.figure(figsize=(20, 7))\n",
    "plt.pie(x = df_relevant_esrb_eu['Cуммарные продажи в Европе, млн'], \n",
    "        labels = df_relevant_esrb_eu.index, \n",
    "        autopct=\"%.2f\")\n",
    "plt.title('Топ рейтингов в Европе')\n",
    "plt.show()"
   ]
  },
  {
   "cell_type": "markdown",
   "metadata": {},
   "source": [
    "Портрет пользователя из **Европы**:\n",
    "- Предпочитает платформу PS4\n",
    "- Предпочитает жанры: Action и Shooter\n",
    "- Основная доля продаж игр с рейтингом ESRB \"M - для взрослых 17+\""
   ]
  },
  {
   "cell_type": "markdown",
   "metadata": {},
   "source": [
    "### Портрет пользователя региона JP (Япония)"
   ]
  },
  {
   "cell_type": "markdown",
   "metadata": {},
   "source": [
    "Выведем на экран сводную таблицу с указанием топ-5 платформ по продажам игр в Японии:"
   ]
  },
  {
   "cell_type": "code",
   "execution_count": 57,
   "metadata": {
    "scrolled": true
   },
   "outputs": [
    {
     "data": {
      "text/html": [
       "<div>\n",
       "<style scoped>\n",
       "    .dataframe tbody tr th:only-of-type {\n",
       "        vertical-align: middle;\n",
       "    }\n",
       "\n",
       "    .dataframe tbody tr th {\n",
       "        vertical-align: top;\n",
       "    }\n",
       "\n",
       "    .dataframe thead th {\n",
       "        text-align: right;\n",
       "    }\n",
       "</style>\n",
       "<table border=\"1\" class=\"dataframe\">\n",
       "  <thead>\n",
       "    <tr style=\"text-align: right;\">\n",
       "      <th></th>\n",
       "      <th>Cуммарные продажи в Японии, млн</th>\n",
       "    </tr>\n",
       "    <tr>\n",
       "      <th>platform</th>\n",
       "      <th></th>\n",
       "    </tr>\n",
       "  </thead>\n",
       "  <tbody>\n",
       "    <tr>\n",
       "      <td>3DS</td>\n",
       "      <td>67.81</td>\n",
       "    </tr>\n",
       "    <tr>\n",
       "      <td>PS3</td>\n",
       "      <td>23.35</td>\n",
       "    </tr>\n",
       "    <tr>\n",
       "      <td>PSV</td>\n",
       "      <td>18.59</td>\n",
       "    </tr>\n",
       "    <tr>\n",
       "      <td>PS4</td>\n",
       "      <td>15.96</td>\n",
       "    </tr>\n",
       "    <tr>\n",
       "      <td>WiiU</td>\n",
       "      <td>10.88</td>\n",
       "    </tr>\n",
       "  </tbody>\n",
       "</table>\n",
       "</div>"
      ],
      "text/plain": [
       "          Cуммарные продажи в Японии, млн\n",
       "platform                                 \n",
       "3DS                                 67.81\n",
       "PS3                                 23.35\n",
       "PSV                                 18.59\n",
       "PS4                                 15.96\n",
       "WiiU                                10.88"
      ]
     },
     "execution_count": 57,
     "metadata": {},
     "output_type": "execute_result"
    }
   ],
   "source": [
    "df_relevant_platform_jp = (df_relevant\n",
    "                  .pivot_table(index='platform', values='jp_sales', aggfunc='sum')\n",
    "                  .sort_values(by='jp_sales', ascending=False)\n",
    "                 )\n",
    "df_relevant_platform_jp.columns = ['Cуммарные продажи в Японии, млн']\n",
    "df_relevant_platform_jp.head()"
   ]
  },
  {
   "cell_type": "code",
   "execution_count": 58,
   "metadata": {},
   "outputs": [
    {
     "data": {
      "image/png": "[encoded data removed]",
      "text/plain": [
       "<Figure size 1440x504 with 1 Axes>"
      ]
     },
     "metadata": {},
     "output_type": "display_data"
    }
   ],
   "source": [
    "plt.figure(figsize=(20, 7))\n",
    "plt.pie(x = df_relevant_platform_jp['Cуммарные продажи в Японии, млн'], \n",
    "        labels = df_relevant_platform_jp.index, \n",
    "        autopct=\"%.2f\")\n",
    "plt.title('Топ платформ в Японии')\n",
    "plt.show()"
   ]
  },
  {
   "cell_type": "markdown",
   "metadata": {},
   "source": [
    "Самые популярные платформы Японии:\n",
    "- `3DS`\n",
    "- `PS3`\n",
    "- `PSV`\n",
    "- `PS4`\n",
    "- `WiiU`"
   ]
  },
  {
   "cell_type": "markdown",
   "metadata": {},
   "source": [
    "Выведем на экран сводную таблицу с указанием топ-5 жанров по продажам в Японии:"
   ]
  },
  {
   "cell_type": "code",
   "execution_count": 59,
   "metadata": {
    "scrolled": true
   },
   "outputs": [
    {
     "data": {
      "text/html": [
       "<div>\n",
       "<style scoped>\n",
       "    .dataframe tbody tr th:only-of-type {\n",
       "        vertical-align: middle;\n",
       "    }\n",
       "\n",
       "    .dataframe tbody tr th {\n",
       "        vertical-align: top;\n",
       "    }\n",
       "\n",
       "    .dataframe thead th {\n",
       "        text-align: right;\n",
       "    }\n",
       "</style>\n",
       "<table border=\"1\" class=\"dataframe\">\n",
       "  <thead>\n",
       "    <tr style=\"text-align: right;\">\n",
       "      <th></th>\n",
       "      <th>Cуммарные продажи в Японии, млн</th>\n",
       "    </tr>\n",
       "    <tr>\n",
       "      <th>genre</th>\n",
       "      <th></th>\n",
       "    </tr>\n",
       "  </thead>\n",
       "  <tbody>\n",
       "    <tr>\n",
       "      <td>Role-Playing</td>\n",
       "      <td>51.04</td>\n",
       "    </tr>\n",
       "    <tr>\n",
       "      <td>Action</td>\n",
       "      <td>40.49</td>\n",
       "    </tr>\n",
       "    <tr>\n",
       "      <td>Misc</td>\n",
       "      <td>9.20</td>\n",
       "    </tr>\n",
       "    <tr>\n",
       "      <td>Fighting</td>\n",
       "      <td>7.65</td>\n",
       "    </tr>\n",
       "    <tr>\n",
       "      <td>Shooter</td>\n",
       "      <td>6.61</td>\n",
       "    </tr>\n",
       "  </tbody>\n",
       "</table>\n",
       "</div>"
      ],
      "text/plain": [
       "              Cуммарные продажи в Японии, млн\n",
       "genre                                        \n",
       "Role-Playing                            51.04\n",
       "Action                                  40.49\n",
       "Misc                                     9.20\n",
       "Fighting                                 7.65\n",
       "Shooter                                  6.61"
      ]
     },
     "execution_count": 59,
     "metadata": {},
     "output_type": "execute_result"
    }
   ],
   "source": [
    "df_relevant_genre_jp = (df_relevant\n",
    "                  .pivot_table(index='genre', values='jp_sales', aggfunc='sum')\n",
    "                  .sort_values(by='jp_sales', ascending=False)\n",
    "                 )\n",
    "df_relevant_genre_jp.columns = ['Cуммарные продажи в Японии, млн']\n",
    "df_relevant_genre_jp.head()"
   ]
  },
  {
   "cell_type": "code",
   "execution_count": 60,
   "metadata": {},
   "outputs": [
    {
     "data": {
      "image/png": "[encoded data removed]",
      "text/plain": [
       "<Figure size 1440x504 with 1 Axes>"
      ]
     },
     "metadata": {},
     "output_type": "display_data"
    }
   ],
   "source": [
    "plt.figure(figsize=(20, 7))\n",
    "plt.pie(x = df_relevant_genre_jp['Cуммарные продажи в Японии, млн'], \n",
    "        labels = df_relevant_genre_jp.index, \n",
    "        autopct=\"%.2f\")\n",
    "plt.title('Топ жанров в Японии')\n",
    "plt.show()"
   ]
  },
  {
   "cell_type": "markdown",
   "metadata": {},
   "source": [
    "Выведем на экран сводную таблицу с указанием суммарных продаж по рейтингу ESRB в Японии:"
   ]
  },
  {
   "cell_type": "code",
   "execution_count": 61,
   "metadata": {
    "scrolled": true
   },
   "outputs": [
    {
     "data": {
      "text/html": [
       "<div>\n",
       "<style scoped>\n",
       "    .dataframe tbody tr th:only-of-type {\n",
       "        vertical-align: middle;\n",
       "    }\n",
       "\n",
       "    .dataframe tbody tr th {\n",
       "        vertical-align: top;\n",
       "    }\n",
       "\n",
       "    .dataframe thead th {\n",
       "        text-align: right;\n",
       "    }\n",
       "</style>\n",
       "<table border=\"1\" class=\"dataframe\">\n",
       "  <thead>\n",
       "    <tr style=\"text-align: right;\">\n",
       "      <th></th>\n",
       "      <th>Cуммарные продажи в Японии, млн</th>\n",
       "    </tr>\n",
       "    <tr>\n",
       "      <th>rating</th>\n",
       "      <th></th>\n",
       "    </tr>\n",
       "  </thead>\n",
       "  <tbody>\n",
       "    <tr>\n",
       "      <td>no_rating</td>\n",
       "      <td>85.05</td>\n",
       "    </tr>\n",
       "    <tr>\n",
       "      <td>T</td>\n",
       "      <td>20.59</td>\n",
       "    </tr>\n",
       "    <tr>\n",
       "      <td>E</td>\n",
       "      <td>15.14</td>\n",
       "    </tr>\n",
       "    <tr>\n",
       "      <td>M</td>\n",
       "      <td>14.11</td>\n",
       "    </tr>\n",
       "    <tr>\n",
       "      <td>E10+</td>\n",
       "      <td>5.89</td>\n",
       "    </tr>\n",
       "  </tbody>\n",
       "</table>\n",
       "</div>"
      ],
      "text/plain": [
       "           Cуммарные продажи в Японии, млн\n",
       "rating                                    \n",
       "no_rating                            85.05\n",
       "T                                    20.59\n",
       "E                                    15.14\n",
       "M                                    14.11\n",
       "E10+                                  5.89"
      ]
     },
     "execution_count": 61,
     "metadata": {},
     "output_type": "execute_result"
    }
   ],
   "source": [
    "df_relevant_esrb_jp = (df_relevant\n",
    "                  .pivot_table(index='rating', values='jp_sales', aggfunc='sum')\n",
    "                  .sort_values(by='jp_sales', ascending=False)\n",
    "                 )\n",
    "df_relevant_esrb_jp.columns = ['Cуммарные продажи в Японии, млн']\n",
    "df_relevant_esrb_jp.head()"
   ]
  },
  {
   "cell_type": "code",
   "execution_count": 62,
   "metadata": {},
   "outputs": [
    {
     "data": {
      "image/png": "[encoded data removed]",
      "text/plain": [
       "<Figure size 1440x504 with 1 Axes>"
      ]
     },
     "metadata": {},
     "output_type": "display_data"
    }
   ],
   "source": [
    "plt.figure(figsize=(20, 7))\n",
    "plt.pie(x = df_relevant_esrb_jp['Cуммарные продажи в Японии, млн'], \n",
    "        labels = df_relevant_esrb_jp.index, \n",
    "        autopct=\"%.2f\")\n",
    "plt.title('Топ рейтингов в Японии')\n",
    "plt.show()"
   ]
  },
  {
   "cell_type": "markdown",
   "metadata": {},
   "source": [
    "Портрет пользователя из **Японии**:\n",
    "- Предпочитает платформу 3DS\n",
    "- Предпочитает жанры: Role-Playing и Action\n",
    "- Основная доля продаж игр без ретинга"
   ]
  },
  {
   "cell_type": "markdown",
   "metadata": {},
   "source": [
    "### Вывод по портрету пользователя из разных регионов"
   ]
  },
  {
   "cell_type": "markdown",
   "metadata": {},
   "source": [
    "По полученному портрету можно сделать следующие выводы:\n",
    "- Пользователи из Северной Америки и Европы предпочитают платформу PS4, жанры Action и Shooter, а также игры с рейтингом ESRB \"M - для взрослых 17+\";\n",
    "- Пользователи из Японии предпочитают платформу 3DS, жанры Role-Playing и Action, а также игры без ретинга\n",
    "- Поведение пользователей из разных регионов отличается\n",
    "- Рейтинг ESRB влияет на продажи в отдельном регионе"
   ]
  },
  {
   "cell_type": "markdown",
   "metadata": {},
   "source": [
    "## Формулировка и проверка гипотез"
   ]
  },
  {
   "cell_type": "markdown",
   "metadata": {},
   "source": [
    "### Проверка гипотезы о том, что средние пользовательские рейтинги платформ Xbox One и PC одинаковые"
   ]
  },
  {
   "cell_type": "markdown",
   "metadata": {},
   "source": [
    "Перед проверкой гипотезы расспотрим ключевые статистические данные пользовательских рейтингов платформ Xbox One и PC, а также построим гистограммы.\n",
    "\n",
    "Определим среднее количество, дисперсию и стандартное отклонение пользовательских рейтингов платформы Xbox One:"
   ]
  },
  {
   "cell_type": "code",
   "execution_count": 63,
   "metadata": {},
   "outputs": [
    {
     "name": "stdout",
     "output_type": "stream",
     "text": [
      "Средний пользовательский рейтинг платформы Xbox One: 6.521428571428572\n",
      "Дисперсия пользовательского рейтинга платформы Xbox One: 1.9069968429360695\n",
      "Стандартное отклонение пользовательского рейтинга платформы Xbox One: 1.380940564592144\n"
     ]
    }
   ],
   "source": [
    "print('Средний пользовательский рейтинг платформы Xbox One:', df_relevant.query('platform in \"XOne\"')['user_score'].mean())\n",
    "print('Дисперсия пользовательского рейтинга платформы Xbox One:', np.var(df_relevant.query('platform in \"XOne\"')['user_score'], ddof=1))\n",
    "print('Стандартное отклонение пользовательского рейтинга платформы Xbox One:', np.std(df_relevant.query('platform in \"XOne\"')['user_score'], ddof=1))"
   ]
  },
  {
   "cell_type": "markdown",
   "metadata": {},
   "source": [
    "Определим среднее количество, дисперсию и стандартное отклонение пользовательских рейтингов платформы PC:"
   ]
  },
  {
   "cell_type": "code",
   "execution_count": 64,
   "metadata": {},
   "outputs": [
    {
     "name": "stdout",
     "output_type": "stream",
     "text": [
      "Средний пользовательский рейтинг платформы PC: 6.269677419354839\n",
      "Дисперсия пользовательского рейтинга платформы PC: 3.035892752408881\n",
      "Стандартное отклонение пользовательского рейтинга платформы PC: 1.7423813452883616\n"
     ]
    }
   ],
   "source": [
    "print('Средний пользовательский рейтинг платформы PC:', df_relevant.query('platform in \"PC\"')['user_score'].mean())\n",
    "print('Дисперсия пользовательского рейтинга платформы PC:', np.var(df_relevant.query('platform in \"PC\"')['user_score'], ddof=1))\n",
    "print('Стандартное отклонение пользовательского рейтинга платформы PC:', np.std(df_relevant.query('platform in \"PC\"')['user_score'], ddof=1))"
   ]
  },
  {
   "cell_type": "markdown",
   "metadata": {},
   "source": [
    "Построим гистограммы пользовательских рейтингов платформ Xbox One и PC:"
   ]
  },
  {
   "cell_type": "code",
   "execution_count": 65,
   "metadata": {},
   "outputs": [
    {
     "data": {
      "image/png": "[encoded data removed]",
      "text/plain": [
       "<Figure size 1152x360 with 1 Axes>"
      ]
     },
     "metadata": {
      "needs_background": "light"
     },
     "output_type": "display_data"
    }
   ],
   "source": [
    "df_relevant.query('platform in \"XOne\"')['user_score'].plot(\n",
    "    kind='hist', \n",
    "    title='Гистрограмма пользовательских рейтингов платформ Xbox One и PC',\n",
    "    figsize=(16,5),\n",
    "    histtype='step',\n",
    "    label='Xbox One',\n",
    "    linewidth=3,\n",
    "    alpha=0.7,\n",
    "    bins=100, \n",
    "    grid=True,\n",
    "    legend=True\n",
    ")\n",
    "df_relevant.query('platform in \"PC\"')['user_score'].plot(\n",
    "    kind='hist', \n",
    "    title='Гистрограмма пользовательских рейтингов платформ Xbox One и PC',\n",
    "    figsize=(16,5),\n",
    "    histtype='step',\n",
    "    label='PC',\n",
    "    linewidth=3,\n",
    "    alpha=0.7,\n",
    "    bins=100, \n",
    "    grid=True,\n",
    "    legend=True\n",
    ")\n",
    "plt.xlabel('Пользовательский рейтинг')\n",
    "plt.ylabel('Частота')\n",
    "plt.show()"
   ]
  },
  {
   "cell_type": "markdown",
   "metadata": {},
   "source": [
    "Гистограммы имеют **нормальное распределение**, скошенное влево, следовательно, медианное значение пользовательских рейтингов больше среднего."
   ]
  },
  {
   "cell_type": "markdown",
   "metadata": {},
   "source": [
    "Сформулируем **нулевую** гипотезу:\n",
    "- средние пользовательские рейтинги платформ Xbox One и PC одинаковые\n",
    "\n",
    "Соответственно, **альтернативная** гипотеза будет звучать следующим образом:\n",
    "- средние пользовательские рейтинги платформы Xbox One отличаются от рейтингов платформы PC\n",
    "\n",
    "Для проверки двусторонней гипотезы проведем **t-тест**. Учитывая, что в тесте принимают участие две независимые друг от друга генеральные совокупности, равность которых нужно проверить, для проверки гипотезы необходимо использовать метод _scipy.stats.ttest_ind_:"
   ]
  },
  {
   "cell_type": "code",
   "execution_count": 66,
   "metadata": {},
   "outputs": [
    {
     "name": "stdout",
     "output_type": "stream",
     "text": [
      "p-значение: 0.14759594013430463\n",
      "Не получилось отвергнуть нулевую гипотезу\n"
     ]
    }
   ],
   "source": [
    "sample_1 = df_relevant.query('platform in \"XOne\"')['user_score']\n",
    "sample_2 = df_relevant.query('platform in \"PC\"')['user_score']\n",
    "\n",
    "# принимаем критический уровень статистической значимости\n",
    "# если p-value окажется меньше данного значения - отвергаем нулевую гипотезу\n",
    "alpha = .05\n",
    "\n",
    "# применим к выборкам метод dropna() для исключения пропусков при проведении теста,\n",
    "# зададим параметр equal_var = False, так как дисперсии выборок не равны между собой\n",
    "results = st.stats.ttest_ind(sample_1.dropna(), sample_2.dropna(), equal_var = False)\n",
    "\n",
    "print('p-значение:', results.pvalue)\n",
    "\n",
    "if results.pvalue < alpha:\n",
    "    print(\"Отвергаем нулевую гипотезу\")\n",
    "else:\n",
    "    print(\"Не получилось отвергнуть нулевую гипотезу\")"
   ]
  },
  {
   "cell_type": "markdown",
   "metadata": {},
   "source": [
    "В ходе t-теста нулевая гипотеза о равенстве средних пользовательских рейтингов платформ Xbox One и PC не была отвергнута.\n",
    "\n",
    "Полученный результат подтверждают фактические значения средних пользовательских рейтингов (6.5 у платформы Xbox One и 6.3 у платформы PC). Средние пользовательские рейтинги действительно **не зависят** от платформы."
   ]
  },
  {
   "cell_type": "markdown",
   "metadata": {},
   "source": [
    "### Проверка гипотезы о том, что средние пользовательские рейтинги жанров Action и Sports разные"
   ]
  },
  {
   "cell_type": "markdown",
   "metadata": {},
   "source": [
    "Перед проверкой гипотезы расспотрим ключевые статистические данные пользовательских рейтингов жанров Action и Sports, а также построим гистограммы.\n",
    "\n",
    "Определим среднее количество, дисперсию и стандартное отклонение пользовательских рейтингов жанра Action:"
   ]
  },
  {
   "cell_type": "code",
   "execution_count": 67,
   "metadata": {},
   "outputs": [
    {
     "name": "stdout",
     "output_type": "stream",
     "text": [
      "Средний пользовательский рейтинг жанра Action: 6.837532133676093\n",
      "Дисперсия пользовательского рейтинга жанра Action: 1.7693609042482705\n",
      "Стандартное отклонение пользовательского рейтинга жанра Action: 1.3301732609883083\n"
     ]
    }
   ],
   "source": [
    "print('Средний пользовательский рейтинг жанра Action:', df_relevant.query('genre in \"Action\"')['user_score'].mean())\n",
    "print('Дисперсия пользовательского рейтинга жанра Action:', np.var(df_relevant.query('genre in \"Action\"')['user_score'], ddof=1))\n",
    "print('Стандартное отклонение пользовательского рейтинга жанра Action:', np.std(df_relevant.query('genre in \"Action\"')['user_score'], ddof=1))"
   ]
  },
  {
   "cell_type": "markdown",
   "metadata": {},
   "source": [
    "Определим среднее количество, дисперсию и стандартное отклонение пользовательских рейтингов жанра Sports:"
   ]
  },
  {
   "cell_type": "code",
   "execution_count": 68,
   "metadata": {},
   "outputs": [
    {
     "name": "stdout",
     "output_type": "stream",
     "text": [
      "Средний пользовательский рейтинг жанра Sports: 5.238124999999999\n",
      "Дисперсия пользовательского рейтинга жанра Sports: 3.180612814465409\n",
      "Стандартное отклонение пользовательского рейтинга жанра Sports: 1.7834272663793747\n"
     ]
    }
   ],
   "source": [
    "print('Средний пользовательский рейтинг жанра Sports:', df_relevant.query('genre in \"Sports\"')['user_score'].mean())\n",
    "print('Дисперсия пользовательского рейтинга жанра Sports:', np.var(df_relevant.query('genre in \"Sports\"')['user_score'], ddof=1))\n",
    "print('Стандартное отклонение пользовательского рейтинга жанра Sports:', np.std(df_relevant.query('genre in \"Sports\"')['user_score'], ddof=1))"
   ]
  },
  {
   "cell_type": "markdown",
   "metadata": {},
   "source": [
    "Построим гистограммы пользовательских рейтингов жанров Action и Sports:"
   ]
  },
  {
   "cell_type": "code",
   "execution_count": 69,
   "metadata": {},
   "outputs": [
    {
     "data": {
      "image/png": "[encoded data removed]",
      "text/plain": [
       "<Figure size 1152x360 with 1 Axes>"
      ]
     },
     "metadata": {
      "needs_background": "light"
     },
     "output_type": "display_data"
    }
   ],
   "source": [
    "df_relevant.query('genre in \"Action\"')['user_score'].plot(\n",
    "    kind='hist', \n",
    "    title='Гистрограмма пользовательских рейтингов жанров Action и Sports',\n",
    "    figsize=(16,5),\n",
    "    histtype='step',\n",
    "    label='Action',\n",
    "    linewidth=3,\n",
    "    alpha=0.7,\n",
    "    bins=100, \n",
    "    grid=True,\n",
    "    legend=True\n",
    ")\n",
    "df_relevant.query('genre in \"Sports\"')['user_score'].plot(\n",
    "    kind='hist', \n",
    "    title='Гистрограмма пользовательских рейтингов жанров Action и Sports',\n",
    "    figsize=(16,5),\n",
    "    histtype='step',\n",
    "    label='Sports',\n",
    "    linewidth=3,\n",
    "    alpha=0.7,\n",
    "    bins=100, \n",
    "    grid=True,\n",
    "    legend=True\n",
    ")\n",
    "plt.xlabel('Пользовательский рейтинг')\n",
    "plt.ylabel('Частота')\n",
    "plt.show()"
   ]
  },
  {
   "cell_type": "markdown",
   "metadata": {},
   "source": [
    "Гистограммы имеют **нормальное распределение**.\n",
    "\n",
    "Однако, гистограмма жанра Action скошена влево, что говорит нам о том, что в этих данных среднее значение меньше медианного. Также, гистограмма является достаточно выпуклой, что говорит нам о малом значении стандартного отклонения.\n",
    "\n",
    "В свою очередь, ширина гистограммы жанра Sports указывает на высокое значение стандартного отклонения, что дает большую неопределенность в том, какое значение может принять случайная величина."
   ]
  },
  {
   "cell_type": "markdown",
   "metadata": {},
   "source": [
    "Сформулируем **нулевую** гипотезу:\n",
    "- средние пользовательские рейтинги жанров Action и Sports одинаковые\n",
    "\n",
    "Соответственно, **альтернативная** гипотеза будет звучать следующим образом:\n",
    "- средние пользовательские рейтинги жанра Action отличаются от рейтингов жанра Sports\n",
    "\n",
    "Для проверки двусторонней гипотезы проведем **t-тест**. Учитывая, что в тесте принимают участие две независимые друг от друга генеральные совокупности, равность которых нужно проверить, для проверки гипотезы необходимо использовать метод _scipy.stats.ttest_ind_:"
   ]
  },
  {
   "cell_type": "code",
   "execution_count": 70,
   "metadata": {},
   "outputs": [
    {
     "name": "stdout",
     "output_type": "stream",
     "text": [
      "p-значение: 1.4460039700704315e-20\n",
      "Отвергаем нулевую гипотезу\n"
     ]
    }
   ],
   "source": [
    "sample_1 = df_relevant.query('genre in \"Action\"')['user_score']\n",
    "sample_2 = df_relevant.query('genre in \"Sports\"')['user_score']\n",
    "\n",
    "# принимаем критический уровень статистической значимости\n",
    "# если p-value окажется меньше данного значения - отвергаем нулевую гипотезу\n",
    "alpha = .05\n",
    "\n",
    "# применим к выборкам метод dropna() для исключения пропусков при проведении теста,\n",
    "# зададим параметр equal_var = False, так как дисперсии выборок не равны между собой\n",
    "results = st.stats.ttest_ind(sample_1.dropna(), sample_2.dropna(), equal_var = False)\n",
    "\n",
    "print('p-значение:', results.pvalue)\n",
    "\n",
    "if results.pvalue < alpha:\n",
    "    print(\"Отвергаем нулевую гипотезу\")\n",
    "else:\n",
    "    print(\"Не получилось отвергнуть нулевую гипотезу\")"
   ]
  },
  {
   "cell_type": "markdown",
   "metadata": {},
   "source": [
    "В ходе t-теста нулевая гипотеза о равенстве средних пользовательских рейтингов жанров Action и Sports была отвергнута.\n",
    "\n",
    "Также, исходя из полученных средних значений двух выборок, можно сделать вывод о том, что средний пользовательский рейтинг жанра Action больше рейтинга жанра Sports (6.8 против 5.2).\n",
    "\n",
    "Следовательно, исходя из результата проверки гипотезы и продаж игр по жанрам, можно сделать вывод о том, что продажи игр по жанрам зависят от пользовательских рейтингов, в отличии от продаж по платформам."
   ]
  },
  {
   "cell_type": "markdown",
   "metadata": {},
   "source": [
    "## Общий вывод"
   ]
  },
  {
   "cell_type": "markdown",
   "metadata": {},
   "source": [
    "В ходе проведения анализа для построения прогноза продаж игр на 2017 год была проделана следующая работа:\n",
    "\n",
    "**1. Подготовка данных к анализу, в ходе которой:**\n",
    "- Названия столбцов приведены к нижнему регистру\n",
    "- Произведено преобразование типов данных\n",
    "- Произведена обработка пропусков\n",
    "- Произведена проверка на наличие явных дубликатов\n",
    "- Произведен расчет суммарных продаж во всех регионах, после чего полученные данные долбавлены в таблицу\n",
    "\n",
    "**2. Произведен исследовательский анализ данных, в ходе которого сделаны следующие выводы:**\n",
    "- Выпуск игр на платформах рос до 2008 года, после чего произошел резкий спад, который продолжился до 2013 года. Вероятнее всего на спад повлияла активная разработка мобильных игр\n",
    "- Средний срок актуальности платформ равен 10 годам\n",
    "- Пик популярности платформа достигает примерно через 5 лет\n",
    "- Прогноз необходимо строить по данным за период с 2013 года\n",
    "- Самые успешные платформы за актуальный период: PS4, PS3, XOne, 3DS и X360\n",
    "- Потенциально прибыльные платформы: PS4, XOne и 3DS\n",
    "- Люди больше доверяют оценкам критиков, чем оценкам пользователей\n",
    "- Самый продаваемые жанры: \"Action\" и \"Shooter\"\n",
    "\n",
    "**3. Составлен портрет пользователя каждого региона и сделаны следующие выводы**:\n",
    "- Пользователи из Северной Америки и Европы предпочитают платформу PS4, жанры Action и Shooter, а также игры с рейтингом ESRB \"M - для взрослых 17+\";\n",
    "- Пользователи из Японии предпочитают платформу 3DS, жанры Role-Playing и Action, а также игры без рейтинга\n",
    "- Поведение пользователей из разных регионов отличается\n",
    "- Рейтинг ESRB влияет на продажи в отдельном регионе\n",
    "\n",
    "**4. Проверены следующие гипотезы**:\n",
    "- о том, что средние пользовательские рейтинги платформ Xbox One и PC одинаковые\n",
    "- о том, что Средние пользовательские рейтинги жанров Action и Sports разные\n",
    "\n",
    "Гипотеза о равенстве средних пользовательских рейтингов платформ Xbox One и PC не была отвергнута. Полученный результат подтверждают фактические значения средних пользовательских рейтингов (6.5 у платформы Xbox One и 6.3 у платформы PC). Средние пользовательские рейтинги действительно **мало зависят** от платформы.\n",
    "\n",
    "Гипотеза о равенстве средних пользовательских рейтингов жанров Action и Sports была отвергнута. Также, исходя из полученных средних значений двух выборок, можно сделать вывод о том, что средний пользовательский рейтинг жанра Action больше рейтинга жанра Sports (6.8 против 5.2). Следовательно, исходя из результата проверки гипотезы можно сделать вывод о том, что пользователи отдают предпочтение опреденным жанрам игр.\n",
    "\n",
    "Что касается главного вопроса, поставленного в целях анализа, можно сделать вывод о том, что для успешных продаж игр компанией \"Стримчик\" в 2017 году необходимо сделать ставку на игровую **платформу PS4**, а в особенности на игры **жанров Action и Shooter**, которые предпочитают пользователи всех регионов, с **рейтингом ESRB \"M - для взрослых 17+\"**. Именно такой продукт по прогнозу будет самым продаваемым в 2017 году.\n",
    "\n",
    "Используя результаты данного анализа, коммерческий департамент компании \"Стримчик\" сможет скорректировать рекламный бюджет в сторону более прибыльного продукта."
   ]
  }
 ],
 "metadata": {
  "ExecuteTimeLog": [
   {
    "duration": 1081,
    "start_time": "2022-02-21T12:57:49.286Z"
   },
   {
    "duration": 44,
    "start_time": "2022-02-21T12:59:05.009Z"
   },
   {
    "duration": 43,
    "start_time": "2022-02-21T12:59:14.564Z"
   },
   {
    "duration": 11,
    "start_time": "2022-02-21T13:00:42.047Z"
   },
   {
    "duration": 33,
    "start_time": "2022-02-21T13:01:59.315Z"
   },
   {
    "duration": 4,
    "start_time": "2022-02-21T13:12:42.683Z"
   },
   {
    "duration": 6,
    "start_time": "2022-02-21T13:17:20.669Z"
   },
   {
    "duration": 4,
    "start_time": "2022-02-21T13:17:48.485Z"
   },
   {
    "duration": 4,
    "start_time": "2022-02-21T13:17:50.582Z"
   },
   {
    "duration": 7,
    "start_time": "2022-02-21T13:25:42.716Z"
   },
   {
    "duration": 317,
    "start_time": "2022-02-21T13:27:34.808Z"
   },
   {
    "duration": 5,
    "start_time": "2022-02-21T13:35:46.438Z"
   },
   {
    "duration": 5,
    "start_time": "2022-02-21T13:36:29.944Z"
   },
   {
    "duration": 11,
    "start_time": "2022-02-21T13:43:59.645Z"
   },
   {
    "duration": 11,
    "start_time": "2022-02-21T13:51:53.849Z"
   },
   {
    "duration": 11,
    "start_time": "2022-02-21T13:51:58.576Z"
   },
   {
    "duration": 8,
    "start_time": "2022-02-21T13:57:44.930Z"
   },
   {
    "duration": 8,
    "start_time": "2022-02-21T14:14:55.325Z"
   },
   {
    "duration": 9,
    "start_time": "2022-02-21T14:14:57.321Z"
   },
   {
    "duration": 18,
    "start_time": "2022-02-21T14:18:25.875Z"
   },
   {
    "duration": 8,
    "start_time": "2022-02-21T14:18:28.838Z"
   },
   {
    "duration": 6,
    "start_time": "2022-02-21T14:19:28.019Z"
   },
   {
    "duration": 5,
    "start_time": "2022-02-21T14:19:53.008Z"
   },
   {
    "duration": 8,
    "start_time": "2022-02-21T14:33:21.741Z"
   },
   {
    "duration": 8,
    "start_time": "2022-02-21T14:33:25.269Z"
   },
   {
    "duration": 5,
    "start_time": "2022-02-21T14:33:34.417Z"
   },
   {
    "duration": 8,
    "start_time": "2022-02-21T14:33:35.861Z"
   },
   {
    "duration": 9,
    "start_time": "2022-02-21T14:33:40.645Z"
   },
   {
    "duration": 229,
    "start_time": "2022-02-21T14:33:53.047Z"
   },
   {
    "duration": 10,
    "start_time": "2022-02-21T14:34:10.609Z"
   },
   {
    "duration": 6,
    "start_time": "2022-02-21T14:34:16.204Z"
   },
   {
    "duration": 8,
    "start_time": "2022-02-21T14:34:17.955Z"
   },
   {
    "duration": 6,
    "start_time": "2022-02-21T14:34:23.382Z"
   },
   {
    "duration": 15,
    "start_time": "2022-02-21T14:34:23.861Z"
   },
   {
    "duration": 6,
    "start_time": "2022-02-21T14:34:35.011Z"
   },
   {
    "duration": 8,
    "start_time": "2022-02-21T14:34:35.743Z"
   },
   {
    "duration": 6,
    "start_time": "2022-02-21T14:34:53.119Z"
   },
   {
    "duration": 9,
    "start_time": "2022-02-21T14:34:53.361Z"
   },
   {
    "duration": 6,
    "start_time": "2022-02-21T14:34:56.836Z"
   },
   {
    "duration": 6,
    "start_time": "2022-02-21T14:34:58.841Z"
   },
   {
    "duration": 5,
    "start_time": "2022-02-21T14:35:03.076Z"
   },
   {
    "duration": 9,
    "start_time": "2022-02-21T14:35:03.865Z"
   },
   {
    "duration": 7,
    "start_time": "2022-02-21T14:35:09.074Z"
   },
   {
    "duration": 13,
    "start_time": "2022-02-21T14:35:09.540Z"
   },
   {
    "duration": 8,
    "start_time": "2022-02-21T14:35:28.504Z"
   },
   {
    "duration": 13,
    "start_time": "2022-02-21T14:35:28.875Z"
   },
   {
    "duration": 8,
    "start_time": "2022-02-21T14:35:32.531Z"
   },
   {
    "duration": 9,
    "start_time": "2022-02-21T14:35:33.630Z"
   },
   {
    "duration": 9,
    "start_time": "2022-02-21T14:35:36.776Z"
   },
   {
    "duration": 12,
    "start_time": "2022-02-21T14:35:37.270Z"
   },
   {
    "duration": 24,
    "start_time": "2022-02-21T14:35:51.244Z"
   },
   {
    "duration": 8,
    "start_time": "2022-02-21T14:50:27.265Z"
   },
   {
    "duration": 8,
    "start_time": "2022-02-21T14:50:46.026Z"
   },
   {
    "duration": 1312,
    "start_time": "2022-02-21T14:50:54.056Z"
   },
   {
    "duration": 49,
    "start_time": "2022-02-21T14:50:55.370Z"
   },
   {
    "duration": 10,
    "start_time": "2022-02-21T14:50:55.422Z"
   },
   {
    "duration": 34,
    "start_time": "2022-02-21T14:50:55.434Z"
   },
   {
    "duration": 4,
    "start_time": "2022-02-21T14:50:55.470Z"
   },
   {
    "duration": 14,
    "start_time": "2022-02-21T14:50:55.476Z"
   },
   {
    "duration": 10,
    "start_time": "2022-02-21T14:50:55.491Z"
   },
   {
    "duration": 6,
    "start_time": "2022-02-21T14:50:55.520Z"
   },
   {
    "duration": 7,
    "start_time": "2022-02-21T14:50:55.527Z"
   },
   {
    "duration": 11,
    "start_time": "2022-02-21T14:50:55.536Z"
   },
   {
    "duration": 16,
    "start_time": "2022-02-21T14:50:55.549Z"
   },
   {
    "duration": 9,
    "start_time": "2022-02-21T14:50:55.567Z"
   },
   {
    "duration": 6,
    "start_time": "2022-02-21T14:50:55.578Z"
   },
   {
    "duration": 6,
    "start_time": "2022-02-21T14:50:55.586Z"
   },
   {
    "duration": 40,
    "start_time": "2022-02-21T14:50:55.594Z"
   },
   {
    "duration": 10,
    "start_time": "2022-02-21T14:50:55.636Z"
   },
   {
    "duration": 1080,
    "start_time": "2022-02-21T14:51:16.983Z"
   },
   {
    "duration": 46,
    "start_time": "2022-02-21T14:51:18.065Z"
   },
   {
    "duration": 11,
    "start_time": "2022-02-21T14:51:18.115Z"
   },
   {
    "duration": 32,
    "start_time": "2022-02-21T14:51:18.128Z"
   },
   {
    "duration": 3,
    "start_time": "2022-02-21T14:51:18.162Z"
   },
   {
    "duration": 7,
    "start_time": "2022-02-21T14:51:18.167Z"
   },
   {
    "duration": 5,
    "start_time": "2022-02-21T14:51:18.176Z"
   },
   {
    "duration": 36,
    "start_time": "2022-02-21T14:51:18.183Z"
   },
   {
    "duration": 6,
    "start_time": "2022-02-21T14:51:18.221Z"
   },
   {
    "duration": 8,
    "start_time": "2022-02-21T14:51:18.229Z"
   },
   {
    "duration": 10,
    "start_time": "2022-02-21T14:51:18.239Z"
   },
   {
    "duration": 8,
    "start_time": "2022-02-21T14:51:18.250Z"
   },
   {
    "duration": 6,
    "start_time": "2022-02-21T14:51:18.259Z"
   },
   {
    "duration": 5,
    "start_time": "2022-02-21T14:51:18.267Z"
   },
   {
    "duration": 9,
    "start_time": "2022-02-21T14:51:18.273Z"
   },
   {
    "duration": 6,
    "start_time": "2022-02-21T15:00:02.450Z"
   },
   {
    "duration": 282,
    "start_time": "2022-02-21T15:03:10.271Z"
   },
   {
    "duration": 15,
    "start_time": "2022-02-21T15:03:14.993Z"
   },
   {
    "duration": 26,
    "start_time": "2022-02-21T15:04:54.477Z"
   },
   {
    "duration": 17,
    "start_time": "2022-02-21T15:05:47.687Z"
   },
   {
    "duration": 4,
    "start_time": "2022-02-21T15:08:12.598Z"
   },
   {
    "duration": 6,
    "start_time": "2022-02-21T15:08:21.337Z"
   },
   {
    "duration": 8,
    "start_time": "2022-02-21T15:08:37.886Z"
   },
   {
    "duration": 20,
    "start_time": "2022-02-21T15:12:50.809Z"
   },
   {
    "duration": 15,
    "start_time": "2022-02-21T15:23:12.939Z"
   },
   {
    "duration": 17,
    "start_time": "2022-02-21T15:23:39.990Z"
   },
   {
    "duration": 17,
    "start_time": "2022-02-21T15:23:49.523Z"
   },
   {
    "duration": 16,
    "start_time": "2022-02-21T15:23:58.600Z"
   },
   {
    "duration": 17,
    "start_time": "2022-02-21T15:24:08.679Z"
   },
   {
    "duration": 16,
    "start_time": "2022-02-21T15:26:40.610Z"
   },
   {
    "duration": 4921,
    "start_time": "2022-02-21T15:28:00.568Z"
   },
   {
    "duration": 199,
    "start_time": "2022-02-21T15:29:44.536Z"
   },
   {
    "duration": 1144,
    "start_time": "2022-02-21T15:30:03.260Z"
   },
   {
    "duration": 55,
    "start_time": "2022-02-21T15:30:04.406Z"
   },
   {
    "duration": 10,
    "start_time": "2022-02-21T15:30:04.463Z"
   },
   {
    "duration": 45,
    "start_time": "2022-02-21T15:30:04.475Z"
   },
   {
    "duration": 4,
    "start_time": "2022-02-21T15:30:04.522Z"
   },
   {
    "duration": 8,
    "start_time": "2022-02-21T15:30:04.528Z"
   },
   {
    "duration": 4,
    "start_time": "2022-02-21T15:30:04.537Z"
   },
   {
    "duration": 5,
    "start_time": "2022-02-21T15:30:04.544Z"
   },
   {
    "duration": 7,
    "start_time": "2022-02-21T15:30:04.550Z"
   },
   {
    "duration": 6,
    "start_time": "2022-02-21T15:30:04.559Z"
   },
   {
    "duration": 9,
    "start_time": "2022-02-21T15:30:04.567Z"
   },
   {
    "duration": 50,
    "start_time": "2022-02-21T15:30:04.578Z"
   },
   {
    "duration": 9,
    "start_time": "2022-02-21T15:30:04.630Z"
   },
   {
    "duration": 6,
    "start_time": "2022-02-21T15:30:04.641Z"
   },
   {
    "duration": 15,
    "start_time": "2022-02-21T15:30:04.649Z"
   },
   {
    "duration": 18,
    "start_time": "2022-02-21T15:30:04.666Z"
   },
   {
    "duration": 37,
    "start_time": "2022-02-21T15:30:04.685Z"
   },
   {
    "duration": 15,
    "start_time": "2022-02-21T15:30:04.725Z"
   },
   {
    "duration": 20,
    "start_time": "2022-02-21T15:30:04.742Z"
   },
   {
    "duration": 274,
    "start_time": "2022-02-21T15:30:04.764Z"
   },
   {
    "duration": 339,
    "start_time": "2022-02-21T15:30:12.464Z"
   },
   {
    "duration": 401,
    "start_time": "2022-02-21T15:30:35.611Z"
   },
   {
    "duration": 366,
    "start_time": "2022-02-21T15:30:40.876Z"
   },
   {
    "duration": 378,
    "start_time": "2022-02-21T15:30:44.690Z"
   },
   {
    "duration": 17,
    "start_time": "2022-02-21T15:31:24.325Z"
   },
   {
    "duration": 434,
    "start_time": "2022-02-21T15:33:46.421Z"
   },
   {
    "duration": 383,
    "start_time": "2022-02-21T15:34:07.963Z"
   },
   {
    "duration": 434,
    "start_time": "2022-02-21T15:35:16.632Z"
   },
   {
    "duration": 413,
    "start_time": "2022-02-21T15:35:50.665Z"
   },
   {
    "duration": 435,
    "start_time": "2022-02-21T15:36:00.452Z"
   },
   {
    "duration": 15,
    "start_time": "2022-02-21T15:52:59.981Z"
   },
   {
    "duration": 13,
    "start_time": "2022-02-21T15:54:29.982Z"
   },
   {
    "duration": 256,
    "start_time": "2022-02-21T15:54:44.755Z"
   },
   {
    "duration": 14,
    "start_time": "2022-02-21T15:54:57.789Z"
   },
   {
    "duration": 14,
    "start_time": "2022-02-21T15:55:32.999Z"
   },
   {
    "duration": 8,
    "start_time": "2022-02-21T16:08:57.271Z"
   },
   {
    "duration": 23,
    "start_time": "2022-02-21T16:09:02.259Z"
   },
   {
    "duration": 11,
    "start_time": "2022-02-21T16:09:09.825Z"
   },
   {
    "duration": 321,
    "start_time": "2022-02-21T16:11:49.157Z"
   },
   {
    "duration": 507,
    "start_time": "2022-02-21T16:12:11.855Z"
   },
   {
    "duration": 396,
    "start_time": "2022-02-21T16:13:11.532Z"
   },
   {
    "duration": 422,
    "start_time": "2022-02-21T16:14:53.226Z"
   },
   {
    "duration": 361,
    "start_time": "2022-02-21T16:15:01.443Z"
   },
   {
    "duration": 364,
    "start_time": "2022-02-21T16:15:07.983Z"
   },
   {
    "duration": 1161,
    "start_time": "2022-02-21T16:35:47.924Z"
   },
   {
    "duration": 58,
    "start_time": "2022-02-21T16:35:49.087Z"
   },
   {
    "duration": 12,
    "start_time": "2022-02-21T16:35:49.150Z"
   },
   {
    "duration": 31,
    "start_time": "2022-02-21T16:35:49.163Z"
   },
   {
    "duration": 26,
    "start_time": "2022-02-21T16:35:49.196Z"
   },
   {
    "duration": 20,
    "start_time": "2022-02-21T16:35:49.225Z"
   },
   {
    "duration": 9,
    "start_time": "2022-02-21T16:35:49.248Z"
   },
   {
    "duration": 6,
    "start_time": "2022-02-21T16:35:49.259Z"
   },
   {
    "duration": 8,
    "start_time": "2022-02-21T16:35:49.267Z"
   },
   {
    "duration": 9,
    "start_time": "2022-02-21T16:35:49.276Z"
   },
   {
    "duration": 19,
    "start_time": "2022-02-21T16:35:49.287Z"
   },
   {
    "duration": 25,
    "start_time": "2022-02-21T16:35:49.308Z"
   },
   {
    "duration": 9,
    "start_time": "2022-02-21T16:35:49.336Z"
   },
   {
    "duration": 13,
    "start_time": "2022-02-21T16:35:49.346Z"
   },
   {
    "duration": 13,
    "start_time": "2022-02-21T16:35:49.360Z"
   },
   {
    "duration": 23,
    "start_time": "2022-02-21T16:35:49.375Z"
   },
   {
    "duration": 5,
    "start_time": "2022-02-21T16:35:49.400Z"
   },
   {
    "duration": 23,
    "start_time": "2022-02-21T16:35:49.419Z"
   },
   {
    "duration": 17,
    "start_time": "2022-02-21T16:35:49.444Z"
   },
   {
    "duration": 473,
    "start_time": "2022-02-21T16:35:49.462Z"
   },
   {
    "duration": 15,
    "start_time": "2022-02-21T16:35:49.937Z"
   },
   {
    "duration": 9,
    "start_time": "2022-02-21T16:35:49.955Z"
   },
   {
    "duration": 347,
    "start_time": "2022-02-21T16:35:49.966Z"
   },
   {
    "duration": 608,
    "start_time": "2022-02-22T13:25:53.865Z"
   },
   {
    "duration": 1618,
    "start_time": "2022-02-22T13:26:00.691Z"
   },
   {
    "duration": 72,
    "start_time": "2022-02-22T13:26:02.312Z"
   },
   {
    "duration": 29,
    "start_time": "2022-02-22T13:26:02.388Z"
   },
   {
    "duration": 52,
    "start_time": "2022-02-22T13:26:02.421Z"
   },
   {
    "duration": 6,
    "start_time": "2022-02-22T13:26:02.475Z"
   },
   {
    "duration": 35,
    "start_time": "2022-02-22T13:26:02.483Z"
   },
   {
    "duration": 6,
    "start_time": "2022-02-22T13:26:02.520Z"
   },
   {
    "duration": 8,
    "start_time": "2022-02-22T13:26:02.530Z"
   },
   {
    "duration": 7,
    "start_time": "2022-02-22T13:26:02.541Z"
   },
   {
    "duration": 10,
    "start_time": "2022-02-22T13:26:02.551Z"
   },
   {
    "duration": 56,
    "start_time": "2022-02-22T13:26:02.564Z"
   },
   {
    "duration": 14,
    "start_time": "2022-02-22T13:26:02.622Z"
   },
   {
    "duration": 10,
    "start_time": "2022-02-22T13:26:02.638Z"
   },
   {
    "duration": 9,
    "start_time": "2022-02-22T13:26:02.650Z"
   },
   {
    "duration": 50,
    "start_time": "2022-02-22T13:26:02.661Z"
   },
   {
    "duration": 38,
    "start_time": "2022-02-22T13:26:02.714Z"
   },
   {
    "duration": 16,
    "start_time": "2022-02-22T13:26:02.755Z"
   },
   {
    "duration": 58,
    "start_time": "2022-02-22T13:26:02.774Z"
   },
   {
    "duration": 36,
    "start_time": "2022-02-22T13:26:02.835Z"
   },
   {
    "duration": 693,
    "start_time": "2022-02-22T13:26:02.874Z"
   },
   {
    "duration": 24,
    "start_time": "2022-02-22T13:26:03.570Z"
   },
   {
    "duration": 11,
    "start_time": "2022-02-22T13:26:03.611Z"
   },
   {
    "duration": 522,
    "start_time": "2022-02-22T13:26:03.626Z"
   },
   {
    "duration": 9,
    "start_time": "2022-02-22T13:26:04.151Z"
   },
   {
    "duration": 24,
    "start_time": "2022-02-22T13:32:58.040Z"
   },
   {
    "duration": 9,
    "start_time": "2022-02-22T13:37:22.883Z"
   },
   {
    "duration": 480,
    "start_time": "2022-02-22T13:37:24.745Z"
   },
   {
    "duration": 6,
    "start_time": "2022-02-22T13:39:05.169Z"
   },
   {
    "duration": 580,
    "start_time": "2022-02-22T14:00:23.021Z"
   },
   {
    "duration": 402,
    "start_time": "2022-02-22T14:00:27.542Z"
   },
   {
    "duration": 766,
    "start_time": "2022-02-22T14:00:50.069Z"
   },
   {
    "duration": 346,
    "start_time": "2022-02-22T14:01:24.456Z"
   },
   {
    "duration": 560,
    "start_time": "2022-02-22T14:02:22.469Z"
   },
   {
    "duration": 710,
    "start_time": "2022-02-22T14:02:49.864Z"
   },
   {
    "duration": 1182,
    "start_time": "2022-02-22T14:06:46.163Z"
   },
   {
    "duration": 1070,
    "start_time": "2022-02-22T14:07:42.300Z"
   },
   {
    "duration": 317,
    "start_time": "2022-02-22T14:08:02.063Z"
   },
   {
    "duration": 330,
    "start_time": "2022-02-22T14:08:12.573Z"
   },
   {
    "duration": 449,
    "start_time": "2022-02-22T14:08:17.813Z"
   },
   {
    "duration": 561,
    "start_time": "2022-02-22T14:08:46.120Z"
   },
   {
    "duration": 706,
    "start_time": "2022-02-22T14:09:15.953Z"
   },
   {
    "duration": 1055,
    "start_time": "2022-02-22T14:09:49.561Z"
   },
   {
    "duration": 1586,
    "start_time": "2022-02-22T14:09:58.002Z"
   },
   {
    "duration": 72,
    "start_time": "2022-02-22T14:09:59.591Z"
   },
   {
    "duration": 17,
    "start_time": "2022-02-22T14:09:59.666Z"
   },
   {
    "duration": 69,
    "start_time": "2022-02-22T14:09:59.686Z"
   },
   {
    "duration": 5,
    "start_time": "2022-02-22T14:09:59.758Z"
   },
   {
    "duration": 10,
    "start_time": "2022-02-22T14:09:59.765Z"
   },
   {
    "duration": 36,
    "start_time": "2022-02-22T14:09:59.777Z"
   },
   {
    "duration": 10,
    "start_time": "2022-02-22T14:09:59.819Z"
   },
   {
    "duration": 11,
    "start_time": "2022-02-22T14:09:59.834Z"
   },
   {
    "duration": 10,
    "start_time": "2022-02-22T14:09:59.848Z"
   },
   {
    "duration": 55,
    "start_time": "2022-02-22T14:09:59.861Z"
   },
   {
    "duration": 13,
    "start_time": "2022-02-22T14:09:59.918Z"
   },
   {
    "duration": 11,
    "start_time": "2022-02-22T14:09:59.934Z"
   },
   {
    "duration": 8,
    "start_time": "2022-02-22T14:09:59.949Z"
   },
   {
    "duration": 53,
    "start_time": "2022-02-22T14:09:59.960Z"
   },
   {
    "duration": 27,
    "start_time": "2022-02-22T14:10:00.016Z"
   },
   {
    "duration": 12,
    "start_time": "2022-02-22T14:10:00.046Z"
   },
   {
    "duration": 49,
    "start_time": "2022-02-22T14:10:00.061Z"
   },
   {
    "duration": 36,
    "start_time": "2022-02-22T14:10:00.114Z"
   },
   {
    "duration": 1071,
    "start_time": "2022-02-22T14:10:00.154Z"
   },
   {
    "duration": 33,
    "start_time": "2022-02-22T14:10:01.229Z"
   },
   {
    "duration": 18,
    "start_time": "2022-02-22T14:10:01.266Z"
   },
   {
    "duration": 775,
    "start_time": "2022-02-22T14:10:01.312Z"
   },
   {
    "duration": 20,
    "start_time": "2022-02-22T14:10:02.090Z"
   },
   {
    "duration": 21,
    "start_time": "2022-02-22T14:10:02.113Z"
   },
   {
    "duration": 11,
    "start_time": "2022-02-22T14:10:02.136Z"
   },
   {
    "duration": 540,
    "start_time": "2022-02-22T14:10:02.149Z"
   },
   {
    "duration": 701,
    "start_time": "2022-02-22T14:10:02.692Z"
   },
   {
    "duration": 128,
    "start_time": "2022-02-22T14:10:12.745Z"
   },
   {
    "duration": 134,
    "start_time": "2022-02-22T14:10:19.180Z"
   },
   {
    "duration": 759,
    "start_time": "2022-02-22T14:10:23.364Z"
   },
   {
    "duration": 649,
    "start_time": "2022-02-22T14:10:33.204Z"
   },
   {
    "duration": 691,
    "start_time": "2022-02-22T14:10:42.730Z"
   },
   {
    "duration": 1708,
    "start_time": "2022-02-22T14:11:02.787Z"
   },
   {
    "duration": 73,
    "start_time": "2022-02-22T14:11:04.498Z"
   },
   {
    "duration": 36,
    "start_time": "2022-02-22T14:11:04.575Z"
   },
   {
    "duration": 69,
    "start_time": "2022-02-22T14:11:04.614Z"
   },
   {
    "duration": 26,
    "start_time": "2022-02-22T14:11:04.686Z"
   },
   {
    "duration": 14,
    "start_time": "2022-02-22T14:11:04.716Z"
   },
   {
    "duration": 7,
    "start_time": "2022-02-22T14:11:04.732Z"
   },
   {
    "duration": 7,
    "start_time": "2022-02-22T14:11:04.744Z"
   },
   {
    "duration": 6,
    "start_time": "2022-02-22T14:11:04.755Z"
   },
   {
    "duration": 47,
    "start_time": "2022-02-22T14:11:04.764Z"
   },
   {
    "duration": 14,
    "start_time": "2022-02-22T14:11:04.814Z"
   },
   {
    "duration": 16,
    "start_time": "2022-02-22T14:11:04.831Z"
   },
   {
    "duration": 13,
    "start_time": "2022-02-22T14:11:04.850Z"
   },
   {
    "duration": 48,
    "start_time": "2022-02-22T14:11:04.866Z"
   },
   {
    "duration": 12,
    "start_time": "2022-02-22T14:11:04.917Z"
   },
   {
    "duration": 25,
    "start_time": "2022-02-22T14:11:04.932Z"
   },
   {
    "duration": 13,
    "start_time": "2022-02-22T14:11:04.959Z"
   },
   {
    "duration": 58,
    "start_time": "2022-02-22T14:11:04.974Z"
   },
   {
    "duration": 25,
    "start_time": "2022-02-22T14:11:05.035Z"
   },
   {
    "duration": 1022,
    "start_time": "2022-02-22T14:11:05.063Z"
   },
   {
    "duration": 46,
    "start_time": "2022-02-22T14:11:06.088Z"
   },
   {
    "duration": 15,
    "start_time": "2022-02-22T14:11:06.137Z"
   },
   {
    "duration": 701,
    "start_time": "2022-02-22T14:11:06.159Z"
   },
   {
    "duration": 8,
    "start_time": "2022-02-22T14:11:06.863Z"
   },
   {
    "duration": 43,
    "start_time": "2022-02-22T14:11:06.873Z"
   },
   {
    "duration": 8,
    "start_time": "2022-02-22T14:11:06.920Z"
   },
   {
    "duration": 513,
    "start_time": "2022-02-22T14:11:06.930Z"
   },
   {
    "duration": 741,
    "start_time": "2022-02-22T14:11:07.447Z"
   },
   {
    "duration": 434,
    "start_time": "2022-02-22T14:11:47.233Z"
   },
   {
    "duration": 540,
    "start_time": "2022-02-22T14:11:53.395Z"
   },
   {
    "duration": 368,
    "start_time": "2022-02-22T14:12:00.238Z"
   },
   {
    "duration": 493,
    "start_time": "2022-02-22T14:15:44.661Z"
   },
   {
    "duration": 34,
    "start_time": "2022-02-22T14:29:51.109Z"
   },
   {
    "duration": 7,
    "start_time": "2022-02-22T14:29:56.835Z"
   },
   {
    "duration": 9,
    "start_time": "2022-02-22T14:32:13.972Z"
   },
   {
    "duration": 449,
    "start_time": "2022-02-22T14:36:23.707Z"
   },
   {
    "duration": 444,
    "start_time": "2022-02-22T14:37:06.460Z"
   },
   {
    "duration": 456,
    "start_time": "2022-02-22T14:39:40.447Z"
   },
   {
    "duration": 164,
    "start_time": "2022-02-22T14:42:01.502Z"
   },
   {
    "duration": 5,
    "start_time": "2022-02-22T14:42:33.495Z"
   },
   {
    "duration": -1464,
    "start_time": "2022-02-22T14:43:51.062Z"
   },
   {
    "duration": 6,
    "start_time": "2022-02-22T14:44:05.646Z"
   },
   {
    "duration": 502,
    "start_time": "2022-02-22T14:44:33.276Z"
   },
   {
    "duration": 7,
    "start_time": "2022-02-22T14:53:41.783Z"
   },
   {
    "duration": 7,
    "start_time": "2022-02-22T14:53:46.688Z"
   },
   {
    "duration": 8,
    "start_time": "2022-02-22T14:55:10.316Z"
   },
   {
    "duration": 434,
    "start_time": "2022-02-22T14:56:04.719Z"
   },
   {
    "duration": 453,
    "start_time": "2022-02-22T14:56:53.465Z"
   },
   {
    "duration": 7,
    "start_time": "2022-02-22T14:58:18.128Z"
   },
   {
    "duration": 7,
    "start_time": "2022-02-22T14:58:45.789Z"
   },
   {
    "duration": 511,
    "start_time": "2022-02-22T14:59:11.198Z"
   },
   {
    "duration": 535,
    "start_time": "2022-02-22T14:59:12.946Z"
   },
   {
    "duration": 8,
    "start_time": "2022-02-22T15:00:55.667Z"
   },
   {
    "duration": 7,
    "start_time": "2022-02-22T15:01:07.717Z"
   },
   {
    "duration": 6,
    "start_time": "2022-02-22T15:01:28.390Z"
   },
   {
    "duration": 540,
    "start_time": "2022-02-22T15:01:49.307Z"
   },
   {
    "duration": 483,
    "start_time": "2022-02-22T15:02:01.109Z"
   },
   {
    "duration": 7,
    "start_time": "2022-02-22T15:03:11.270Z"
   },
   {
    "duration": 10,
    "start_time": "2022-02-22T15:03:37.422Z"
   },
   {
    "duration": 467,
    "start_time": "2022-02-22T15:03:53.532Z"
   },
   {
    "duration": 509,
    "start_time": "2022-02-22T15:04:00.706Z"
   },
   {
    "duration": 494,
    "start_time": "2022-02-22T15:08:35.157Z"
   },
   {
    "duration": 498,
    "start_time": "2022-02-22T15:08:35.795Z"
   },
   {
    "duration": 23,
    "start_time": "2022-02-22T15:17:16.845Z"
   },
   {
    "duration": 438,
    "start_time": "2022-02-22T15:20:09.841Z"
   },
   {
    "duration": 504,
    "start_time": "2022-02-22T15:20:46.202Z"
   },
   {
    "duration": 436,
    "start_time": "2022-02-22T15:21:11.439Z"
   },
   {
    "duration": 22,
    "start_time": "2022-02-22T15:22:44.470Z"
   },
   {
    "duration": 486,
    "start_time": "2022-02-22T15:26:05.521Z"
   },
   {
    "duration": 369,
    "start_time": "2022-02-22T15:26:15.555Z"
   },
   {
    "duration": 375,
    "start_time": "2022-02-22T15:26:20.127Z"
   },
   {
    "duration": 479,
    "start_time": "2022-02-22T15:26:23.958Z"
   },
   {
    "duration": 1687,
    "start_time": "2022-02-22T15:30:56.599Z"
   },
   {
    "duration": 221,
    "start_time": "2022-02-22T15:30:58.311Z"
   },
   {
    "duration": 66,
    "start_time": "2022-02-22T15:30:58.572Z"
   },
   {
    "duration": 197,
    "start_time": "2022-02-22T15:30:58.655Z"
   },
   {
    "duration": 51,
    "start_time": "2022-02-22T15:30:58.854Z"
   },
   {
    "duration": 110,
    "start_time": "2022-02-22T15:30:58.910Z"
   },
   {
    "duration": 7,
    "start_time": "2022-02-22T15:30:59.024Z"
   },
   {
    "duration": 10,
    "start_time": "2022-02-22T15:30:59.035Z"
   },
   {
    "duration": 9,
    "start_time": "2022-02-22T15:30:59.048Z"
   },
   {
    "duration": 14,
    "start_time": "2022-02-22T15:30:59.060Z"
   },
   {
    "duration": 41,
    "start_time": "2022-02-22T15:30:59.077Z"
   },
   {
    "duration": 14,
    "start_time": "2022-02-22T15:30:59.121Z"
   },
   {
    "duration": 10,
    "start_time": "2022-02-22T15:30:59.138Z"
   },
   {
    "duration": 11,
    "start_time": "2022-02-22T15:30:59.150Z"
   },
   {
    "duration": 52,
    "start_time": "2022-02-22T15:30:59.163Z"
   },
   {
    "duration": 29,
    "start_time": "2022-02-22T15:30:59.217Z"
   },
   {
    "duration": 15,
    "start_time": "2022-02-22T15:30:59.249Z"
   },
   {
    "duration": 66,
    "start_time": "2022-02-22T15:30:59.267Z"
   },
   {
    "duration": 25,
    "start_time": "2022-02-22T15:30:59.336Z"
   },
   {
    "duration": 718,
    "start_time": "2022-02-22T15:30:59.364Z"
   },
   {
    "duration": 38,
    "start_time": "2022-02-22T15:31:00.085Z"
   },
   {
    "duration": 11,
    "start_time": "2022-02-22T15:31:00.128Z"
   },
   {
    "duration": 531,
    "start_time": "2022-02-22T15:31:00.142Z"
   },
   {
    "duration": 9,
    "start_time": "2022-02-22T15:31:00.675Z"
   },
   {
    "duration": 41,
    "start_time": "2022-02-22T15:31:00.687Z"
   },
   {
    "duration": 15,
    "start_time": "2022-02-22T15:31:00.730Z"
   },
   {
    "duration": 524,
    "start_time": "2022-02-22T15:31:00.748Z"
   },
   {
    "duration": 485,
    "start_time": "2022-02-22T15:31:01.274Z"
   },
   {
    "duration": 8,
    "start_time": "2022-02-22T15:31:01.761Z"
   },
   {
    "duration": 10,
    "start_time": "2022-02-22T15:31:01.771Z"
   },
   {
    "duration": 530,
    "start_time": "2022-02-22T15:31:01.783Z"
   },
   {
    "duration": 6,
    "start_time": "2022-02-22T15:31:02.316Z"
   },
   {
    "duration": 493,
    "start_time": "2022-02-22T15:31:02.324Z"
   },
   {
    "duration": 8,
    "start_time": "2022-02-22T15:31:02.821Z"
   },
   {
    "duration": 19,
    "start_time": "2022-02-22T15:31:02.833Z"
   },
   {
    "duration": 636,
    "start_time": "2022-02-22T15:31:02.855Z"
   },
   {
    "duration": 474,
    "start_time": "2022-02-22T15:31:03.493Z"
   },
   {
    "duration": 7,
    "start_time": "2022-02-22T15:31:03.970Z"
   },
   {
    "duration": 30,
    "start_time": "2022-02-22T15:31:03.981Z"
   },
   {
    "duration": 499,
    "start_time": "2022-02-22T15:31:04.014Z"
   },
   {
    "duration": 494,
    "start_time": "2022-02-22T15:31:04.516Z"
   },
   {
    "duration": 25,
    "start_time": "2022-02-22T15:31:05.013Z"
   },
   {
    "duration": 463,
    "start_time": "2022-02-22T15:31:05.042Z"
   },
   {
    "duration": 24,
    "start_time": "2022-02-22T15:54:30.532Z"
   },
   {
    "duration": 23,
    "start_time": "2022-02-22T15:54:36.358Z"
   },
   {
    "duration": 22,
    "start_time": "2022-02-22T15:55:14.654Z"
   },
   {
    "duration": 23,
    "start_time": "2022-02-22T15:55:30.967Z"
   },
   {
    "duration": 22,
    "start_time": "2022-02-22T15:59:20.374Z"
   },
   {
    "duration": 21,
    "start_time": "2022-02-22T15:59:28.138Z"
   },
   {
    "duration": 22,
    "start_time": "2022-02-22T16:01:06.312Z"
   },
   {
    "duration": 22,
    "start_time": "2022-02-22T16:03:22.559Z"
   },
   {
    "duration": 21,
    "start_time": "2022-02-22T16:03:32.541Z"
   },
   {
    "duration": 21,
    "start_time": "2022-02-22T16:09:53.492Z"
   },
   {
    "duration": 22,
    "start_time": "2022-02-22T16:11:20.062Z"
   },
   {
    "duration": 22,
    "start_time": "2022-02-22T16:12:08.015Z"
   },
   {
    "duration": 22,
    "start_time": "2022-02-22T16:14:02.678Z"
   },
   {
    "duration": 23,
    "start_time": "2022-02-22T16:16:11.477Z"
   },
   {
    "duration": 22,
    "start_time": "2022-02-22T16:16:57.878Z"
   },
   {
    "duration": 1671,
    "start_time": "2022-02-22T16:36:27.236Z"
   },
   {
    "duration": 1156,
    "start_time": "2022-02-22T16:36:48.863Z"
   },
   {
    "duration": 39,
    "start_time": "2022-02-22T16:42:21.752Z"
   },
   {
    "duration": 36,
    "start_time": "2022-02-22T16:42:48.924Z"
   },
   {
    "duration": 1444,
    "start_time": "2022-02-22T16:43:35.741Z"
   },
   {
    "duration": 72,
    "start_time": "2022-02-22T16:43:37.188Z"
   },
   {
    "duration": 15,
    "start_time": "2022-02-22T16:43:37.263Z"
   },
   {
    "duration": 62,
    "start_time": "2022-02-22T16:43:37.281Z"
   },
   {
    "duration": 7,
    "start_time": "2022-02-22T16:43:37.346Z"
   },
   {
    "duration": 11,
    "start_time": "2022-02-22T16:43:37.356Z"
   },
   {
    "duration": 5,
    "start_time": "2022-02-22T16:43:37.370Z"
   },
   {
    "duration": 35,
    "start_time": "2022-02-22T16:43:37.379Z"
   },
   {
    "duration": 7,
    "start_time": "2022-02-22T16:43:37.417Z"
   },
   {
    "duration": 7,
    "start_time": "2022-02-22T16:43:37.427Z"
   },
   {
    "duration": 14,
    "start_time": "2022-02-22T16:43:37.436Z"
   },
   {
    "duration": 58,
    "start_time": "2022-02-22T16:43:37.453Z"
   },
   {
    "duration": 10,
    "start_time": "2022-02-22T16:43:37.514Z"
   },
   {
    "duration": 7,
    "start_time": "2022-02-22T16:43:37.527Z"
   },
   {
    "duration": 14,
    "start_time": "2022-02-22T16:43:37.537Z"
   },
   {
    "duration": 62,
    "start_time": "2022-02-22T16:43:37.553Z"
   },
   {
    "duration": 7,
    "start_time": "2022-02-22T16:43:37.617Z"
   },
   {
    "duration": 26,
    "start_time": "2022-02-22T16:43:37.627Z"
   },
   {
    "duration": 60,
    "start_time": "2022-02-22T16:43:37.655Z"
   },
   {
    "duration": 822,
    "start_time": "2022-02-22T16:43:37.718Z"
   },
   {
    "duration": 23,
    "start_time": "2022-02-22T16:43:38.543Z"
   },
   {
    "duration": 11,
    "start_time": "2022-02-22T16:43:38.569Z"
   },
   {
    "duration": 519,
    "start_time": "2022-02-22T16:43:38.611Z"
   },
   {
    "duration": 8,
    "start_time": "2022-02-22T16:43:39.133Z"
   },
   {
    "duration": 21,
    "start_time": "2022-02-22T16:43:39.144Z"
   },
   {
    "duration": 9,
    "start_time": "2022-02-22T16:43:39.167Z"
   },
   {
    "duration": 540,
    "start_time": "2022-02-22T16:43:39.178Z"
   },
   {
    "duration": 480,
    "start_time": "2022-02-22T16:43:39.720Z"
   },
   {
    "duration": 12,
    "start_time": "2022-02-22T16:43:40.203Z"
   },
   {
    "duration": 9,
    "start_time": "2022-02-22T16:43:40.217Z"
   },
   {
    "duration": 478,
    "start_time": "2022-02-22T16:43:40.229Z"
   },
   {
    "duration": 5,
    "start_time": "2022-02-22T16:43:40.712Z"
   },
   {
    "duration": 584,
    "start_time": "2022-02-22T16:43:40.720Z"
   },
   {
    "duration": 7,
    "start_time": "2022-02-22T16:43:41.306Z"
   },
   {
    "duration": 9,
    "start_time": "2022-02-22T16:43:41.315Z"
   },
   {
    "duration": 552,
    "start_time": "2022-02-22T16:43:41.326Z"
   },
   {
    "duration": 503,
    "start_time": "2022-02-22T16:43:41.881Z"
   },
   {
    "duration": 7,
    "start_time": "2022-02-22T16:43:42.387Z"
   },
   {
    "duration": 15,
    "start_time": "2022-02-22T16:43:42.396Z"
   },
   {
    "duration": 468,
    "start_time": "2022-02-22T16:43:42.414Z"
   },
   {
    "duration": 516,
    "start_time": "2022-02-22T16:43:42.885Z"
   },
   {
    "duration": 22,
    "start_time": "2022-02-22T16:43:43.411Z"
   },
   {
    "duration": 421,
    "start_time": "2022-02-22T16:43:43.436Z"
   },
   {
    "duration": 22,
    "start_time": "2022-02-22T16:43:43.859Z"
   },
   {
    "duration": 42,
    "start_time": "2022-02-22T16:43:43.883Z"
   },
   {
    "duration": 21,
    "start_time": "2022-02-22T16:43:43.927Z"
   },
   {
    "duration": 22,
    "start_time": "2022-02-22T16:43:43.950Z"
   },
   {
    "duration": 55,
    "start_time": "2022-02-22T16:43:43.975Z"
   },
   {
    "duration": 21,
    "start_time": "2022-02-22T16:43:44.032Z"
   },
   {
    "duration": 20,
    "start_time": "2022-02-22T16:43:44.056Z"
   },
   {
    "duration": 50,
    "start_time": "2022-02-22T16:43:44.078Z"
   },
   {
    "duration": 20,
    "start_time": "2022-02-22T16:43:44.130Z"
   },
   {
    "duration": 284,
    "start_time": "2022-02-23T05:27:59.198Z"
   },
   {
    "duration": 1351,
    "start_time": "2022-02-23T05:28:06.580Z"
   },
   {
    "duration": 49,
    "start_time": "2022-02-23T05:28:07.934Z"
   },
   {
    "duration": 22,
    "start_time": "2022-02-23T05:28:07.985Z"
   },
   {
    "duration": 35,
    "start_time": "2022-02-23T05:28:08.010Z"
   },
   {
    "duration": 4,
    "start_time": "2022-02-23T05:28:08.047Z"
   },
   {
    "duration": 9,
    "start_time": "2022-02-23T05:28:08.053Z"
   },
   {
    "duration": 4,
    "start_time": "2022-02-23T05:28:08.065Z"
   },
   {
    "duration": 37,
    "start_time": "2022-02-23T05:28:08.072Z"
   },
   {
    "duration": 5,
    "start_time": "2022-02-23T05:28:08.112Z"
   },
   {
    "duration": 7,
    "start_time": "2022-02-23T05:28:08.120Z"
   },
   {
    "duration": 15,
    "start_time": "2022-02-23T05:28:08.129Z"
   },
   {
    "duration": 12,
    "start_time": "2022-02-23T05:28:08.146Z"
   },
   {
    "duration": 12,
    "start_time": "2022-02-23T05:28:08.160Z"
   },
   {
    "duration": 35,
    "start_time": "2022-02-23T05:28:08.174Z"
   },
   {
    "duration": 14,
    "start_time": "2022-02-23T05:28:08.211Z"
   },
   {
    "duration": 19,
    "start_time": "2022-02-23T05:28:08.227Z"
   },
   {
    "duration": 5,
    "start_time": "2022-02-23T05:28:08.249Z"
   },
   {
    "duration": 19,
    "start_time": "2022-02-23T05:28:08.256Z"
   },
   {
    "duration": 20,
    "start_time": "2022-02-23T05:28:08.307Z"
   },
   {
    "duration": 476,
    "start_time": "2022-02-23T05:28:08.329Z"
   },
   {
    "duration": 16,
    "start_time": "2022-02-23T05:28:08.807Z"
   },
   {
    "duration": 8,
    "start_time": "2022-02-23T05:28:08.825Z"
   },
   {
    "duration": 359,
    "start_time": "2022-02-23T05:28:08.837Z"
   },
   {
    "duration": 14,
    "start_time": "2022-02-23T05:28:09.198Z"
   },
   {
    "duration": 24,
    "start_time": "2022-02-23T05:28:09.214Z"
   },
   {
    "duration": 118,
    "start_time": "2022-02-23T05:28:09.240Z"
   },
   {
    "duration": 522,
    "start_time": "2022-02-23T05:28:09.375Z"
   },
   {
    "duration": 323,
    "start_time": "2022-02-23T05:28:09.899Z"
   },
   {
    "duration": 6,
    "start_time": "2022-02-23T05:28:10.225Z"
   },
   {
    "duration": 8,
    "start_time": "2022-02-23T05:28:10.233Z"
   },
   {
    "duration": 350,
    "start_time": "2022-02-23T05:28:10.243Z"
   },
   {
    "duration": 5,
    "start_time": "2022-02-23T05:28:10.596Z"
   },
   {
    "duration": 377,
    "start_time": "2022-02-23T05:28:10.608Z"
   },
   {
    "duration": 6,
    "start_time": "2022-02-23T05:28:10.987Z"
   },
   {
    "duration": 7,
    "start_time": "2022-02-23T05:28:11.008Z"
   },
   {
    "duration": 446,
    "start_time": "2022-02-23T05:28:11.017Z"
   },
   {
    "duration": 346,
    "start_time": "2022-02-23T05:28:11.466Z"
   },
   {
    "duration": 6,
    "start_time": "2022-02-23T05:28:11.815Z"
   },
   {
    "duration": 10,
    "start_time": "2022-02-23T05:28:11.823Z"
   },
   {
    "duration": 348,
    "start_time": "2022-02-23T05:28:11.835Z"
   },
   {
    "duration": 365,
    "start_time": "2022-02-23T05:28:12.185Z"
   },
   {
    "duration": 18,
    "start_time": "2022-02-23T05:28:12.552Z"
   },
   {
    "duration": 294,
    "start_time": "2022-02-23T05:28:12.573Z"
   },
   {
    "duration": 16,
    "start_time": "2022-02-23T05:28:12.869Z"
   },
   {
    "duration": 32,
    "start_time": "2022-02-23T05:28:12.887Z"
   },
   {
    "duration": 17,
    "start_time": "2022-02-23T05:28:12.921Z"
   },
   {
    "duration": 18,
    "start_time": "2022-02-23T05:28:12.940Z"
   },
   {
    "duration": 49,
    "start_time": "2022-02-23T05:28:12.960Z"
   },
   {
    "duration": 17,
    "start_time": "2022-02-23T05:28:13.011Z"
   },
   {
    "duration": 21,
    "start_time": "2022-02-23T05:28:13.030Z"
   },
   {
    "duration": 17,
    "start_time": "2022-02-23T05:28:13.053Z"
   },
   {
    "duration": 47,
    "start_time": "2022-02-23T05:28:13.072Z"
   },
   {
    "duration": 15,
    "start_time": "2022-02-23T05:28:13.121Z"
   },
   {
    "duration": 15,
    "start_time": "2022-02-23T05:30:51.424Z"
   },
   {
    "duration": 323,
    "start_time": "2022-02-23T05:34:00.751Z"
   },
   {
    "duration": 311,
    "start_time": "2022-02-23T05:34:20.264Z"
   },
   {
    "duration": 310,
    "start_time": "2022-02-23T05:34:28.042Z"
   },
   {
    "duration": 12,
    "start_time": "2022-02-23T05:40:29.983Z"
   },
   {
    "duration": 12,
    "start_time": "2022-02-23T05:42:43.123Z"
   },
   {
    "duration": 12,
    "start_time": "2022-02-23T05:42:47.065Z"
   },
   {
    "duration": 11,
    "start_time": "2022-02-23T05:43:17.259Z"
   },
   {
    "duration": 14,
    "start_time": "2022-02-23T05:54:14.784Z"
   },
   {
    "duration": 14,
    "start_time": "2022-02-23T05:55:00.499Z"
   },
   {
    "duration": 285,
    "start_time": "2022-02-23T05:56:25.098Z"
   },
   {
    "duration": 12,
    "start_time": "2022-02-23T06:00:55.466Z"
   },
   {
    "duration": 14,
    "start_time": "2022-02-23T06:04:35.188Z"
   },
   {
    "duration": 14,
    "start_time": "2022-02-23T06:05:55.858Z"
   },
   {
    "duration": 4,
    "start_time": "2022-02-23T06:31:24.695Z"
   },
   {
    "duration": 1295,
    "start_time": "2022-02-23T06:31:32.821Z"
   },
   {
    "duration": 60,
    "start_time": "2022-02-23T06:31:34.118Z"
   },
   {
    "duration": 30,
    "start_time": "2022-02-23T06:31:34.181Z"
   },
   {
    "duration": 47,
    "start_time": "2022-02-23T06:31:34.213Z"
   },
   {
    "duration": 5,
    "start_time": "2022-02-23T06:31:34.263Z"
   },
   {
    "duration": 23,
    "start_time": "2022-02-23T06:31:34.271Z"
   },
   {
    "duration": 21,
    "start_time": "2022-02-23T06:31:34.297Z"
   },
   {
    "duration": 7,
    "start_time": "2022-02-23T06:31:34.322Z"
   },
   {
    "duration": 15,
    "start_time": "2022-02-23T06:31:34.336Z"
   },
   {
    "duration": 12,
    "start_time": "2022-02-23T06:31:34.353Z"
   },
   {
    "duration": 18,
    "start_time": "2022-02-23T06:31:34.367Z"
   },
   {
    "duration": 12,
    "start_time": "2022-02-23T06:31:34.387Z"
   },
   {
    "duration": 8,
    "start_time": "2022-02-23T06:31:34.408Z"
   },
   {
    "duration": 14,
    "start_time": "2022-02-23T06:31:34.418Z"
   },
   {
    "duration": 21,
    "start_time": "2022-02-23T06:31:34.433Z"
   },
   {
    "duration": 35,
    "start_time": "2022-02-23T06:31:34.457Z"
   },
   {
    "duration": 19,
    "start_time": "2022-02-23T06:31:34.493Z"
   },
   {
    "duration": 39,
    "start_time": "2022-02-23T06:31:34.514Z"
   },
   {
    "duration": 22,
    "start_time": "2022-02-23T06:31:34.555Z"
   },
   {
    "duration": 499,
    "start_time": "2022-02-23T06:31:34.579Z"
   },
   {
    "duration": 31,
    "start_time": "2022-02-23T06:31:35.080Z"
   },
   {
    "duration": 12,
    "start_time": "2022-02-23T06:31:35.114Z"
   },
   {
    "duration": 420,
    "start_time": "2022-02-23T06:31:35.133Z"
   },
   {
    "duration": 10,
    "start_time": "2022-02-23T06:31:35.556Z"
   },
   {
    "duration": 25,
    "start_time": "2022-02-23T06:31:35.568Z"
   },
   {
    "duration": 60,
    "start_time": "2022-02-23T06:31:35.607Z"
   },
   {
    "duration": 381,
    "start_time": "2022-02-23T06:31:35.670Z"
   },
   {
    "duration": 390,
    "start_time": "2022-02-23T06:31:36.053Z"
   },
   {
    "duration": 7,
    "start_time": "2022-02-23T06:31:36.446Z"
   },
   {
    "duration": 30,
    "start_time": "2022-02-23T06:31:36.455Z"
   },
   {
    "duration": 397,
    "start_time": "2022-02-23T06:31:36.488Z"
   },
   {
    "duration": 4,
    "start_time": "2022-02-23T06:31:36.887Z"
   },
   {
    "duration": 398,
    "start_time": "2022-02-23T06:31:36.893Z"
   },
   {
    "duration": 5,
    "start_time": "2022-02-23T06:31:37.293Z"
   },
   {
    "duration": 15,
    "start_time": "2022-02-23T06:31:37.300Z"
   },
   {
    "duration": 470,
    "start_time": "2022-02-23T06:31:37.318Z"
   },
   {
    "duration": 468,
    "start_time": "2022-02-23T06:31:37.791Z"
   },
   {
    "duration": 7,
    "start_time": "2022-02-23T06:31:38.262Z"
   },
   {
    "duration": 16,
    "start_time": "2022-02-23T06:31:38.271Z"
   },
   {
    "duration": 600,
    "start_time": "2022-02-23T06:31:38.289Z"
   },
   {
    "duration": 491,
    "start_time": "2022-02-23T06:31:38.892Z"
   },
   {
    "duration": 31,
    "start_time": "2022-02-23T06:31:39.386Z"
   },
   {
    "duration": 421,
    "start_time": "2022-02-23T06:31:39.419Z"
   },
   {
    "duration": 22,
    "start_time": "2022-02-23T06:31:39.842Z"
   },
   {
    "duration": 18,
    "start_time": "2022-02-23T06:31:39.866Z"
   },
   {
    "duration": 35,
    "start_time": "2022-02-23T06:31:39.886Z"
   },
   {
    "duration": 23,
    "start_time": "2022-02-23T06:31:39.923Z"
   },
   {
    "duration": 21,
    "start_time": "2022-02-23T06:31:39.949Z"
   },
   {
    "duration": 44,
    "start_time": "2022-02-23T06:31:39.973Z"
   },
   {
    "duration": 17,
    "start_time": "2022-02-23T06:31:40.019Z"
   },
   {
    "duration": 16,
    "start_time": "2022-02-23T06:31:40.038Z"
   },
   {
    "duration": 17,
    "start_time": "2022-02-23T06:31:40.056Z"
   },
   {
    "duration": 56,
    "start_time": "2022-02-23T06:31:40.076Z"
   },
   {
    "duration": 18,
    "start_time": "2022-02-23T06:31:40.134Z"
   },
   {
    "duration": 492,
    "start_time": "2022-02-23T06:31:40.155Z"
   },
   {
    "duration": 17,
    "start_time": "2022-02-23T06:31:40.650Z"
   },
   {
    "duration": 19,
    "start_time": "2022-02-23T06:31:40.669Z"
   },
   {
    "duration": 30,
    "start_time": "2022-02-23T06:31:40.690Z"
   },
   {
    "duration": 343,
    "start_time": "2022-02-23T06:31:40.723Z"
   },
   {
    "duration": 17,
    "start_time": "2022-02-23T06:31:41.069Z"
   },
   {
    "duration": 1050,
    "start_time": "2022-03-05T12:44:35.673Z"
   },
   {
    "duration": 57,
    "start_time": "2022-03-05T12:44:36.725Z"
   },
   {
    "duration": 10,
    "start_time": "2022-03-05T12:44:36.784Z"
   },
   {
    "duration": 23,
    "start_time": "2022-03-05T12:44:36.796Z"
   },
   {
    "duration": 3,
    "start_time": "2022-03-05T12:44:36.820Z"
   },
   {
    "duration": 14,
    "start_time": "2022-03-05T12:44:36.825Z"
   },
   {
    "duration": 5,
    "start_time": "2022-03-05T12:44:36.840Z"
   },
   {
    "duration": 6,
    "start_time": "2022-03-05T12:44:36.847Z"
   },
   {
    "duration": 5,
    "start_time": "2022-03-05T12:44:36.854Z"
   },
   {
    "duration": 6,
    "start_time": "2022-03-05T12:44:36.860Z"
   },
   {
    "duration": 9,
    "start_time": "2022-03-05T12:44:36.867Z"
   },
   {
    "duration": 8,
    "start_time": "2022-03-05T12:44:36.877Z"
   },
   {
    "duration": 22,
    "start_time": "2022-03-05T12:44:36.886Z"
   },
   {
    "duration": 5,
    "start_time": "2022-03-05T12:44:36.910Z"
   },
   {
    "duration": 8,
    "start_time": "2022-03-05T12:44:36.917Z"
   },
   {
    "duration": 14,
    "start_time": "2022-03-05T12:44:36.927Z"
   },
   {
    "duration": 6,
    "start_time": "2022-03-05T12:44:36.942Z"
   },
   {
    "duration": 10,
    "start_time": "2022-03-05T12:44:36.949Z"
   },
   {
    "duration": 14,
    "start_time": "2022-03-05T12:44:36.961Z"
   },
   {
    "duration": 335,
    "start_time": "2022-03-05T12:44:37.005Z"
   },
   {
    "duration": 11,
    "start_time": "2022-03-05T12:44:37.342Z"
   },
   {
    "duration": 6,
    "start_time": "2022-03-05T12:44:37.355Z"
   },
   {
    "duration": 270,
    "start_time": "2022-03-05T12:44:37.364Z"
   },
   {
    "duration": 6,
    "start_time": "2022-03-05T12:44:37.635Z"
   },
   {
    "duration": 14,
    "start_time": "2022-03-05T12:44:37.642Z"
   },
   {
    "duration": 5,
    "start_time": "2022-03-05T12:44:37.657Z"
   },
   {
    "duration": 277,
    "start_time": "2022-03-05T12:44:37.663Z"
   },
   {
    "duration": 239,
    "start_time": "2022-03-05T12:44:37.941Z"
   },
   {
    "duration": 5,
    "start_time": "2022-03-05T12:44:38.181Z"
   },
   {
    "duration": 6,
    "start_time": "2022-03-05T12:44:38.187Z"
   },
   {
    "duration": 337,
    "start_time": "2022-03-05T12:44:38.194Z"
   },
   {
    "duration": 4,
    "start_time": "2022-03-05T12:44:38.532Z"
   },
   {
    "duration": 290,
    "start_time": "2022-03-05T12:44:38.538Z"
   },
   {
    "duration": 5,
    "start_time": "2022-03-05T12:44:38.829Z"
   },
   {
    "duration": 8,
    "start_time": "2022-03-05T12:44:38.835Z"
   },
   {
    "duration": 353,
    "start_time": "2022-03-05T12:44:38.844Z"
   },
   {
    "duration": 298,
    "start_time": "2022-03-05T12:44:39.199Z"
   },
   {
    "duration": 9,
    "start_time": "2022-03-05T12:44:39.498Z"
   },
   {
    "duration": 6,
    "start_time": "2022-03-05T12:44:39.509Z"
   },
   {
    "duration": 306,
    "start_time": "2022-03-05T12:44:39.516Z"
   },
   {
    "duration": 287,
    "start_time": "2022-03-05T12:44:39.824Z"
   },
   {
    "duration": 13,
    "start_time": "2022-03-05T12:44:40.112Z"
   },
   {
    "duration": 218,
    "start_time": "2022-03-05T12:44:40.127Z"
   },
   {
    "duration": 12,
    "start_time": "2022-03-05T12:44:40.347Z"
   },
   {
    "duration": 14,
    "start_time": "2022-03-05T12:44:40.360Z"
   },
   {
    "duration": 10,
    "start_time": "2022-03-05T12:44:40.376Z"
   },
   {
    "duration": 28,
    "start_time": "2022-03-05T12:44:40.387Z"
   },
   {
    "duration": 11,
    "start_time": "2022-03-05T12:44:40.416Z"
   },
   {
    "duration": 13,
    "start_time": "2022-03-05T12:44:40.429Z"
   },
   {
    "duration": 11,
    "start_time": "2022-03-05T12:44:40.444Z"
   },
   {
    "duration": 13,
    "start_time": "2022-03-05T12:44:40.456Z"
   },
   {
    "duration": 39,
    "start_time": "2022-03-05T12:44:40.470Z"
   },
   {
    "duration": 10,
    "start_time": "2022-03-05T12:44:40.511Z"
   },
   {
    "duration": 9,
    "start_time": "2022-03-05T12:44:40.522Z"
   },
   {
    "duration": 264,
    "start_time": "2022-03-05T12:44:40.533Z"
   },
   {
    "duration": 14,
    "start_time": "2022-03-05T12:44:40.798Z"
   },
   {
    "duration": 13,
    "start_time": "2022-03-05T12:44:40.814Z"
   },
   {
    "duration": 10,
    "start_time": "2022-03-05T12:44:40.829Z"
   },
   {
    "duration": 247,
    "start_time": "2022-03-05T12:44:40.840Z"
   },
   {
    "duration": 18,
    "start_time": "2022-03-05T12:44:41.089Z"
   },
   {
    "duration": 1108,
    "start_time": "2022-03-06T09:40:57.207Z"
   },
   {
    "duration": 48,
    "start_time": "2022-03-06T09:40:58.317Z"
   },
   {
    "duration": 10,
    "start_time": "2022-03-06T09:40:58.367Z"
   },
   {
    "duration": 29,
    "start_time": "2022-03-06T09:40:58.378Z"
   },
   {
    "duration": 4,
    "start_time": "2022-03-06T09:40:58.408Z"
   },
   {
    "duration": 7,
    "start_time": "2022-03-06T09:40:58.413Z"
   },
   {
    "duration": 3,
    "start_time": "2022-03-06T09:40:58.422Z"
   },
   {
    "duration": 33,
    "start_time": "2022-03-06T09:40:58.427Z"
   },
   {
    "duration": 5,
    "start_time": "2022-03-06T09:40:58.462Z"
   },
   {
    "duration": 6,
    "start_time": "2022-03-06T09:40:58.469Z"
   },
   {
    "duration": 10,
    "start_time": "2022-03-06T09:40:58.477Z"
   },
   {
    "duration": 9,
    "start_time": "2022-03-06T09:40:58.488Z"
   },
   {
    "duration": 6,
    "start_time": "2022-03-06T09:40:58.498Z"
   },
   {
    "duration": 6,
    "start_time": "2022-03-06T09:40:58.505Z"
   },
   {
    "duration": 10,
    "start_time": "2022-03-06T09:40:58.512Z"
   },
   {
    "duration": 16,
    "start_time": "2022-03-06T09:40:58.560Z"
   },
   {
    "duration": 5,
    "start_time": "2022-03-06T09:40:58.578Z"
   },
   {
    "duration": 11,
    "start_time": "2022-03-06T09:40:58.584Z"
   },
   {
    "duration": 16,
    "start_time": "2022-03-06T09:40:58.597Z"
   },
   {
    "duration": 450,
    "start_time": "2022-03-06T09:40:58.615Z"
   },
   {
    "duration": 13,
    "start_time": "2022-03-06T09:40:59.067Z"
   },
   {
    "duration": 8,
    "start_time": "2022-03-06T09:40:59.082Z"
   },
   {
    "duration": 334,
    "start_time": "2022-03-06T09:40:59.094Z"
   },
   {
    "duration": 6,
    "start_time": "2022-03-06T09:40:59.430Z"
   },
   {
    "duration": 29,
    "start_time": "2022-03-06T09:40:59.438Z"
   },
   {
    "duration": 6,
    "start_time": "2022-03-06T09:40:59.468Z"
   },
   {
    "duration": 320,
    "start_time": "2022-03-06T09:40:59.475Z"
   },
   {
    "duration": 295,
    "start_time": "2022-03-06T09:40:59.797Z"
   },
   {
    "duration": 5,
    "start_time": "2022-03-06T09:41:00.094Z"
   },
   {
    "duration": 25,
    "start_time": "2022-03-06T09:41:00.101Z"
   },
   {
    "duration": 366,
    "start_time": "2022-03-06T09:41:00.128Z"
   },
   {
    "duration": 3,
    "start_time": "2022-03-06T09:41:00.496Z"
   },
   {
    "duration": 358,
    "start_time": "2022-03-06T09:41:00.501Z"
   },
   {
    "duration": 4,
    "start_time": "2022-03-06T09:41:00.861Z"
   },
   {
    "duration": 35,
    "start_time": "2022-03-06T09:41:00.867Z"
   },
   {
    "duration": 405,
    "start_time": "2022-03-06T09:41:00.904Z"
   },
   {
    "duration": 326,
    "start_time": "2022-03-06T09:41:01.311Z"
   },
   {
    "duration": 5,
    "start_time": "2022-03-06T09:41:01.639Z"
   },
   {
    "duration": 16,
    "start_time": "2022-03-06T09:41:01.646Z"
   },
   {
    "duration": 349,
    "start_time": "2022-03-06T09:41:01.664Z"
   },
   {
    "duration": 331,
    "start_time": "2022-03-06T09:41:02.015Z"
   },
   {
    "duration": 15,
    "start_time": "2022-03-06T09:41:02.348Z"
   },
   {
    "duration": 265,
    "start_time": "2022-03-06T09:41:02.365Z"
   },
   {
    "duration": 13,
    "start_time": "2022-03-06T09:41:02.632Z"
   },
   {
    "duration": 14,
    "start_time": "2022-03-06T09:41:02.659Z"
   },
   {
    "duration": 26,
    "start_time": "2022-03-06T09:41:02.675Z"
   },
   {
    "duration": 19,
    "start_time": "2022-03-06T09:41:02.703Z"
   },
   {
    "duration": 11,
    "start_time": "2022-03-06T09:41:02.724Z"
   },
   {
    "duration": 23,
    "start_time": "2022-03-06T09:41:02.737Z"
   },
   {
    "duration": 12,
    "start_time": "2022-03-06T09:41:02.762Z"
   },
   {
    "duration": 14,
    "start_time": "2022-03-06T09:41:02.775Z"
   },
   {
    "duration": 12,
    "start_time": "2022-03-06T09:41:02.791Z"
   },
   {
    "duration": 10,
    "start_time": "2022-03-06T09:41:02.805Z"
   },
   {
    "duration": 44,
    "start_time": "2022-03-06T09:41:02.817Z"
   },
   {
    "duration": 310,
    "start_time": "2022-03-06T09:41:02.863Z"
   },
   {
    "duration": 10,
    "start_time": "2022-03-06T09:41:03.175Z"
   },
   {
    "duration": 13,
    "start_time": "2022-03-06T09:41:03.187Z"
   },
   {
    "duration": 11,
    "start_time": "2022-03-06T09:41:03.201Z"
   },
   {
    "duration": 316,
    "start_time": "2022-03-06T09:41:03.214Z"
   },
   {
    "duration": 12,
    "start_time": "2022-03-06T09:41:03.531Z"
   },
   {
    "duration": 4820,
    "start_time": "2022-03-06T09:49:41.341Z"
   },
   {
    "duration": 185,
    "start_time": "2022-03-06T09:49:52.370Z"
   },
   {
    "duration": 14,
    "start_time": "2022-03-06T09:49:57.654Z"
   },
   {
    "duration": 205,
    "start_time": "2022-03-06T09:49:57.909Z"
   },
   {
    "duration": 375,
    "start_time": "2022-03-06T09:50:13.792Z"
   },
   {
    "duration": 365,
    "start_time": "2022-03-06T09:51:22.626Z"
   },
   {
    "duration": 368,
    "start_time": "2022-03-06T09:51:53.878Z"
   },
   {
    "duration": 467,
    "start_time": "2022-03-06T09:52:09.834Z"
   },
   {
    "duration": 185,
    "start_time": "2022-03-06T09:52:31.568Z"
   },
   {
    "duration": 356,
    "start_time": "2022-03-06T09:52:42.661Z"
   },
   {
    "duration": 181,
    "start_time": "2022-03-06T09:52:46.899Z"
   },
   {
    "duration": 183,
    "start_time": "2022-03-06T09:52:58.587Z"
   },
   {
    "duration": 407,
    "start_time": "2022-03-06T09:54:23.231Z"
   },
   {
    "duration": 412,
    "start_time": "2022-03-06T09:54:35.753Z"
   },
   {
    "duration": 5760,
    "start_time": "2022-03-06T09:54:57.414Z"
   },
   {
    "duration": 4683,
    "start_time": "2022-03-06T09:55:45.379Z"
   },
   {
    "duration": 12766,
    "start_time": "2022-03-06T09:55:52.330Z"
   },
   {
    "duration": 181,
    "start_time": "2022-03-06T09:56:25.688Z"
   },
   {
    "duration": 4695,
    "start_time": "2022-03-06T09:57:38.728Z"
   },
   {
    "duration": 4741,
    "start_time": "2022-03-06T09:57:53.128Z"
   },
   {
    "duration": 4669,
    "start_time": "2022-03-06T09:59:28.823Z"
   },
   {
    "duration": 190,
    "start_time": "2022-03-06T09:59:41.523Z"
   },
   {
    "duration": 1137,
    "start_time": "2022-03-06T09:59:48.766Z"
   },
   {
    "duration": 51,
    "start_time": "2022-03-06T09:59:49.905Z"
   },
   {
    "duration": 12,
    "start_time": "2022-03-06T09:59:49.958Z"
   },
   {
    "duration": 28,
    "start_time": "2022-03-06T09:59:49.972Z"
   },
   {
    "duration": 4,
    "start_time": "2022-03-06T09:59:50.003Z"
   },
   {
    "duration": 12,
    "start_time": "2022-03-06T09:59:50.009Z"
   },
   {
    "duration": 11,
    "start_time": "2022-03-06T09:59:50.022Z"
   },
   {
    "duration": 28,
    "start_time": "2022-03-06T09:59:50.035Z"
   },
   {
    "duration": 8,
    "start_time": "2022-03-06T09:59:50.065Z"
   },
   {
    "duration": 10,
    "start_time": "2022-03-06T09:59:50.075Z"
   },
   {
    "duration": 13,
    "start_time": "2022-03-06T09:59:50.087Z"
   },
   {
    "duration": 10,
    "start_time": "2022-03-06T09:59:50.102Z"
   },
   {
    "duration": 8,
    "start_time": "2022-03-06T09:59:50.114Z"
   },
   {
    "duration": 4,
    "start_time": "2022-03-06T09:59:50.124Z"
   },
   {
    "duration": 10,
    "start_time": "2022-03-06T09:59:50.160Z"
   },
   {
    "duration": 17,
    "start_time": "2022-03-06T09:59:50.172Z"
   },
   {
    "duration": 5,
    "start_time": "2022-03-06T09:59:50.190Z"
   },
   {
    "duration": 12,
    "start_time": "2022-03-06T09:59:50.197Z"
   },
   {
    "duration": 57,
    "start_time": "2022-03-06T09:59:50.212Z"
   },
   {
    "duration": 439,
    "start_time": "2022-03-06T09:59:50.270Z"
   },
   {
    "duration": 15,
    "start_time": "2022-03-06T09:59:50.711Z"
   },
   {
    "duration": 8,
    "start_time": "2022-03-06T09:59:50.728Z"
   },
   {
    "duration": 346,
    "start_time": "2022-03-06T09:59:50.741Z"
   },
   {
    "duration": 7,
    "start_time": "2022-03-06T09:59:51.090Z"
   },
   {
    "duration": 15,
    "start_time": "2022-03-06T09:59:51.099Z"
   },
   {
    "duration": 7,
    "start_time": "2022-03-06T09:59:51.116Z"
   },
   {
    "duration": 361,
    "start_time": "2022-03-06T09:59:51.124Z"
   },
   {
    "duration": 305,
    "start_time": "2022-03-06T09:59:51.487Z"
   },
   {
    "duration": 5,
    "start_time": "2022-03-06T09:59:51.794Z"
   },
   {
    "duration": 6,
    "start_time": "2022-03-06T09:59:51.801Z"
   },
   {
    "duration": 350,
    "start_time": "2022-03-06T09:59:51.809Z"
   },
   {
    "duration": 4,
    "start_time": "2022-03-06T09:59:52.160Z"
   },
   {
    "duration": 379,
    "start_time": "2022-03-06T09:59:52.166Z"
   },
   {
    "duration": 12,
    "start_time": "2022-03-06T09:59:52.547Z"
   },
   {
    "duration": 8,
    "start_time": "2022-03-06T09:59:52.561Z"
   },
   {
    "duration": 417,
    "start_time": "2022-03-06T09:59:52.571Z"
   },
   {
    "duration": 313,
    "start_time": "2022-03-06T09:59:52.990Z"
   },
   {
    "duration": 5,
    "start_time": "2022-03-06T09:59:53.305Z"
   },
   {
    "duration": 7,
    "start_time": "2022-03-06T09:59:53.311Z"
   },
   {
    "duration": 386,
    "start_time": "2022-03-06T09:59:53.320Z"
   },
   {
    "duration": 335,
    "start_time": "2022-03-06T09:59:53.708Z"
   },
   {
    "duration": 19,
    "start_time": "2022-03-06T09:59:54.045Z"
   },
   {
    "duration": 255,
    "start_time": "2022-03-06T09:59:54.065Z"
   },
   {
    "duration": 13,
    "start_time": "2022-03-06T09:59:54.321Z"
   },
   {
    "duration": 280,
    "start_time": "2022-03-06T09:59:54.336Z"
   },
   {
    "duration": -567,
    "start_time": "2022-03-06T09:59:55.186Z"
   },
   {
    "duration": -570,
    "start_time": "2022-03-06T09:59:55.190Z"
   },
   {
    "duration": -571,
    "start_time": "2022-03-06T09:59:55.193Z"
   },
   {
    "duration": -573,
    "start_time": "2022-03-06T09:59:55.196Z"
   },
   {
    "duration": -578,
    "start_time": "2022-03-06T09:59:55.203Z"
   },
   {
    "duration": -580,
    "start_time": "2022-03-06T09:59:55.206Z"
   },
   {
    "duration": -581,
    "start_time": "2022-03-06T09:59:55.209Z"
   },
   {
    "duration": -583,
    "start_time": "2022-03-06T09:59:55.212Z"
   },
   {
    "duration": -584,
    "start_time": "2022-03-06T09:59:55.215Z"
   },
   {
    "duration": -587,
    "start_time": "2022-03-06T09:59:55.219Z"
   },
   {
    "duration": -588,
    "start_time": "2022-03-06T09:59:55.222Z"
   },
   {
    "duration": -590,
    "start_time": "2022-03-06T09:59:55.225Z"
   },
   {
    "duration": -591,
    "start_time": "2022-03-06T09:59:55.228Z"
   },
   {
    "duration": -593,
    "start_time": "2022-03-06T09:59:55.231Z"
   },
   {
    "duration": -594,
    "start_time": "2022-03-06T09:59:55.234Z"
   },
   {
    "duration": -596,
    "start_time": "2022-03-06T09:59:55.237Z"
   },
   {
    "duration": 4834,
    "start_time": "2022-03-06T10:00:08.660Z"
   },
   {
    "duration": 208,
    "start_time": "2022-03-06T10:00:43.497Z"
   },
   {
    "duration": 175,
    "start_time": "2022-03-06T10:01:10.823Z"
   },
   {
    "duration": 74,
    "start_time": "2022-03-06T10:02:37.254Z"
   },
   {
    "duration": 443,
    "start_time": "2022-03-06T10:02:41.026Z"
   },
   {
    "duration": 171,
    "start_time": "2022-03-06T10:02:46.085Z"
   },
   {
    "duration": 196,
    "start_time": "2022-03-06T10:04:10.535Z"
   },
   {
    "duration": 203,
    "start_time": "2022-03-06T10:05:57.691Z"
   },
   {
    "duration": 190,
    "start_time": "2022-03-06T10:06:06.169Z"
   },
   {
    "duration": 264,
    "start_time": "2022-03-06T10:06:22.373Z"
   },
   {
    "duration": 133,
    "start_time": "2022-03-06T10:07:35.722Z"
   },
   {
    "duration": 247,
    "start_time": "2022-03-06T10:07:53.146Z"
   },
   {
    "duration": 182,
    "start_time": "2022-03-06T10:08:41.112Z"
   },
   {
    "duration": 111,
    "start_time": "2022-03-06T10:08:42.923Z"
   },
   {
    "duration": 500,
    "start_time": "2022-03-06T10:09:19.690Z"
   },
   {
    "duration": 116,
    "start_time": "2022-03-06T10:09:27.676Z"
   },
   {
    "duration": 109,
    "start_time": "2022-03-06T10:09:34.741Z"
   },
   {
    "duration": 110,
    "start_time": "2022-03-06T10:09:43.986Z"
   },
   {
    "duration": 294,
    "start_time": "2022-03-06T10:09:50.127Z"
   },
   {
    "duration": 111,
    "start_time": "2022-03-06T10:09:54.120Z"
   },
   {
    "duration": 59,
    "start_time": "2022-03-06T10:10:48.220Z"
   },
   {
    "duration": 171,
    "start_time": "2022-03-06T10:10:50.675Z"
   },
   {
    "duration": 169,
    "start_time": "2022-03-06T10:10:58.982Z"
   },
   {
    "duration": 294,
    "start_time": "2022-03-06T10:11:02.743Z"
   },
   {
    "duration": 215,
    "start_time": "2022-03-06T10:11:51.042Z"
   },
   {
    "duration": 200,
    "start_time": "2022-03-06T10:12:02.359Z"
   },
   {
    "duration": 198,
    "start_time": "2022-03-06T10:12:24.892Z"
   },
   {
    "duration": 197,
    "start_time": "2022-03-06T10:12:36.988Z"
   },
   {
    "duration": 1153,
    "start_time": "2022-03-06T10:13:02.272Z"
   },
   {
    "duration": 44,
    "start_time": "2022-03-06T10:13:03.427Z"
   },
   {
    "duration": 9,
    "start_time": "2022-03-06T10:13:03.473Z"
   },
   {
    "duration": 29,
    "start_time": "2022-03-06T10:13:03.484Z"
   },
   {
    "duration": 4,
    "start_time": "2022-03-06T10:13:03.514Z"
   },
   {
    "duration": 10,
    "start_time": "2022-03-06T10:13:03.519Z"
   },
   {
    "duration": 31,
    "start_time": "2022-03-06T10:13:03.530Z"
   },
   {
    "duration": 24,
    "start_time": "2022-03-06T10:13:03.564Z"
   },
   {
    "duration": 12,
    "start_time": "2022-03-06T10:13:03.590Z"
   },
   {
    "duration": 10,
    "start_time": "2022-03-06T10:13:03.603Z"
   },
   {
    "duration": 21,
    "start_time": "2022-03-06T10:13:03.615Z"
   },
   {
    "duration": 9,
    "start_time": "2022-03-06T10:13:03.638Z"
   },
   {
    "duration": 8,
    "start_time": "2022-03-06T10:13:03.649Z"
   },
   {
    "duration": 4,
    "start_time": "2022-03-06T10:13:03.659Z"
   },
   {
    "duration": 11,
    "start_time": "2022-03-06T10:13:03.665Z"
   },
   {
    "duration": 19,
    "start_time": "2022-03-06T10:13:03.678Z"
   },
   {
    "duration": 5,
    "start_time": "2022-03-06T10:13:03.698Z"
   },
   {
    "duration": 13,
    "start_time": "2022-03-06T10:13:03.705Z"
   },
   {
    "duration": 47,
    "start_time": "2022-03-06T10:13:03.719Z"
   },
   {
    "duration": 438,
    "start_time": "2022-03-06T10:13:03.768Z"
   },
   {
    "duration": 14,
    "start_time": "2022-03-06T10:13:04.208Z"
   },
   {
    "duration": 7,
    "start_time": "2022-03-06T10:13:04.224Z"
   },
   {
    "duration": 338,
    "start_time": "2022-03-06T10:13:04.235Z"
   },
   {
    "duration": 6,
    "start_time": "2022-03-06T10:13:04.575Z"
   },
   {
    "duration": 15,
    "start_time": "2022-03-06T10:13:04.582Z"
   },
   {
    "duration": 8,
    "start_time": "2022-03-06T10:13:04.599Z"
   },
   {
    "duration": 346,
    "start_time": "2022-03-06T10:13:04.609Z"
   },
   {
    "duration": 294,
    "start_time": "2022-03-06T10:13:04.957Z"
   },
   {
    "duration": 7,
    "start_time": "2022-03-06T10:13:05.253Z"
   },
   {
    "duration": 8,
    "start_time": "2022-03-06T10:13:05.262Z"
   },
   {
    "duration": 354,
    "start_time": "2022-03-06T10:13:05.271Z"
   },
   {
    "duration": 4,
    "start_time": "2022-03-06T10:13:05.627Z"
   },
   {
    "duration": 377,
    "start_time": "2022-03-06T10:13:05.633Z"
   },
   {
    "duration": 5,
    "start_time": "2022-03-06T10:13:06.011Z"
   },
   {
    "duration": 8,
    "start_time": "2022-03-06T10:13:06.018Z"
   },
   {
    "duration": 389,
    "start_time": "2022-03-06T10:13:06.027Z"
   },
   {
    "duration": 324,
    "start_time": "2022-03-06T10:13:06.417Z"
   },
   {
    "duration": 5,
    "start_time": "2022-03-06T10:13:06.742Z"
   },
   {
    "duration": 13,
    "start_time": "2022-03-06T10:13:06.749Z"
   },
   {
    "duration": 352,
    "start_time": "2022-03-06T10:13:06.764Z"
   },
   {
    "duration": 334,
    "start_time": "2022-03-06T10:13:07.118Z"
   },
   {
    "duration": 16,
    "start_time": "2022-03-06T10:13:07.453Z"
   },
   {
    "duration": 274,
    "start_time": "2022-03-06T10:13:07.471Z"
   },
   {
    "duration": 18,
    "start_time": "2022-03-06T10:13:07.747Z"
   },
   {
    "duration": 201,
    "start_time": "2022-03-06T10:13:07.766Z"
   },
   {
    "duration": 13,
    "start_time": "2022-03-06T10:13:07.968Z"
   },
   {
    "duration": 12,
    "start_time": "2022-03-06T10:13:07.983Z"
   },
   {
    "duration": 13,
    "start_time": "2022-03-06T10:13:07.996Z"
   },
   {
    "duration": 14,
    "start_time": "2022-03-06T10:13:08.010Z"
   },
   {
    "duration": 43,
    "start_time": "2022-03-06T10:13:08.026Z"
   },
   {
    "duration": 14,
    "start_time": "2022-03-06T10:13:08.070Z"
   },
   {
    "duration": 12,
    "start_time": "2022-03-06T10:13:08.085Z"
   },
   {
    "duration": 15,
    "start_time": "2022-03-06T10:13:08.099Z"
   },
   {
    "duration": 12,
    "start_time": "2022-03-06T10:13:08.115Z"
   },
   {
    "duration": 14,
    "start_time": "2022-03-06T10:13:08.159Z"
   },
   {
    "duration": 324,
    "start_time": "2022-03-06T10:13:08.174Z"
   },
   {
    "duration": 12,
    "start_time": "2022-03-06T10:13:08.499Z"
   },
   {
    "duration": 14,
    "start_time": "2022-03-06T10:13:08.513Z"
   },
   {
    "duration": 31,
    "start_time": "2022-03-06T10:13:08.529Z"
   },
   {
    "duration": 287,
    "start_time": "2022-03-06T10:13:08.561Z"
   },
   {
    "duration": 13,
    "start_time": "2022-03-06T10:13:08.850Z"
   },
   {
    "duration": 202,
    "start_time": "2022-03-06T10:13:52.235Z"
   },
   {
    "duration": 14,
    "start_time": "2022-03-06T10:14:20.456Z"
   },
   {
    "duration": 205,
    "start_time": "2022-03-06T10:14:24.664Z"
   },
   {
    "duration": 14,
    "start_time": "2022-03-06T10:14:43.415Z"
   },
   {
    "duration": 211,
    "start_time": "2022-03-06T10:14:43.978Z"
   },
   {
    "duration": 231,
    "start_time": "2022-03-06T10:15:18.032Z"
   },
   {
    "duration": 190,
    "start_time": "2022-03-06T10:16:13.801Z"
   },
   {
    "duration": 197,
    "start_time": "2022-03-06T10:16:46.977Z"
   },
   {
    "duration": 155,
    "start_time": "2022-03-06T10:17:09.425Z"
   },
   {
    "duration": 181,
    "start_time": "2022-03-06T10:18:32.246Z"
   },
   {
    "duration": 206,
    "start_time": "2022-03-06T10:19:17.580Z"
   },
   {
    "duration": 187,
    "start_time": "2022-03-06T10:19:24.709Z"
   },
   {
    "duration": 153,
    "start_time": "2022-03-06T10:19:57.710Z"
   },
   {
    "duration": 5,
    "start_time": "2022-03-06T10:23:21.980Z"
   },
   {
    "duration": 5,
    "start_time": "2022-03-06T10:23:25.334Z"
   },
   {
    "duration": 1125,
    "start_time": "2022-03-06T10:23:30.300Z"
   },
   {
    "duration": 46,
    "start_time": "2022-03-06T10:23:31.427Z"
   },
   {
    "duration": 11,
    "start_time": "2022-03-06T10:23:31.475Z"
   },
   {
    "duration": 28,
    "start_time": "2022-03-06T10:23:31.488Z"
   },
   {
    "duration": 3,
    "start_time": "2022-03-06T10:23:31.518Z"
   },
   {
    "duration": 6,
    "start_time": "2022-03-06T10:23:31.523Z"
   },
   {
    "duration": 4,
    "start_time": "2022-03-06T10:23:31.559Z"
   },
   {
    "duration": 4,
    "start_time": "2022-03-06T10:23:31.566Z"
   },
   {
    "duration": 6,
    "start_time": "2022-03-06T10:23:31.572Z"
   },
   {
    "duration": 7,
    "start_time": "2022-03-06T10:23:31.579Z"
   },
   {
    "duration": 11,
    "start_time": "2022-03-06T10:23:31.587Z"
   },
   {
    "duration": 10,
    "start_time": "2022-03-06T10:23:31.600Z"
   },
   {
    "duration": 7,
    "start_time": "2022-03-06T10:23:31.611Z"
   },
   {
    "duration": 42,
    "start_time": "2022-03-06T10:23:31.619Z"
   },
   {
    "duration": 5,
    "start_time": "2022-03-06T10:23:31.662Z"
   },
   {
    "duration": 11,
    "start_time": "2022-03-06T10:23:31.668Z"
   },
   {
    "duration": 20,
    "start_time": "2022-03-06T10:23:31.681Z"
   },
   {
    "duration": 5,
    "start_time": "2022-03-06T10:23:31.703Z"
   },
   {
    "duration": 12,
    "start_time": "2022-03-06T10:23:31.710Z"
   },
   {
    "duration": 47,
    "start_time": "2022-03-06T10:23:31.724Z"
   },
   {
    "duration": 432,
    "start_time": "2022-03-06T10:23:31.773Z"
   },
   {
    "duration": 14,
    "start_time": "2022-03-06T10:23:32.207Z"
   },
   {
    "duration": 6,
    "start_time": "2022-03-06T10:23:32.225Z"
   },
   {
    "duration": 337,
    "start_time": "2022-03-06T10:23:32.234Z"
   },
   {
    "duration": 6,
    "start_time": "2022-03-06T10:23:32.573Z"
   },
   {
    "duration": 13,
    "start_time": "2022-03-06T10:23:32.581Z"
   },
   {
    "duration": 7,
    "start_time": "2022-03-06T10:23:32.595Z"
   },
   {
    "duration": 350,
    "start_time": "2022-03-06T10:23:32.603Z"
   },
   {
    "duration": 295,
    "start_time": "2022-03-06T10:23:32.955Z"
   },
   {
    "duration": 9,
    "start_time": "2022-03-06T10:23:33.252Z"
   },
   {
    "duration": 6,
    "start_time": "2022-03-06T10:23:33.263Z"
   },
   {
    "duration": 351,
    "start_time": "2022-03-06T10:23:33.270Z"
   },
   {
    "duration": 4,
    "start_time": "2022-03-06T10:23:33.623Z"
   },
   {
    "duration": 374,
    "start_time": "2022-03-06T10:23:33.629Z"
   },
   {
    "duration": 6,
    "start_time": "2022-03-06T10:23:34.005Z"
   },
   {
    "duration": 6,
    "start_time": "2022-03-06T10:23:34.013Z"
   },
   {
    "duration": 386,
    "start_time": "2022-03-06T10:23:34.021Z"
   },
   {
    "duration": 318,
    "start_time": "2022-03-06T10:23:34.409Z"
   },
   {
    "duration": 5,
    "start_time": "2022-03-06T10:23:34.729Z"
   },
   {
    "duration": 9,
    "start_time": "2022-03-06T10:23:34.736Z"
   },
   {
    "duration": 353,
    "start_time": "2022-03-06T10:23:34.759Z"
   },
   {
    "duration": 330,
    "start_time": "2022-03-06T10:23:35.114Z"
   },
   {
    "duration": 19,
    "start_time": "2022-03-06T10:23:35.446Z"
   },
   {
    "duration": 266,
    "start_time": "2022-03-06T10:23:35.467Z"
   },
   {
    "duration": 14,
    "start_time": "2022-03-06T10:23:35.734Z"
   },
   {
    "duration": 213,
    "start_time": "2022-03-06T10:23:35.750Z"
   },
   {
    "duration": 12,
    "start_time": "2022-03-06T10:23:35.965Z"
   },
   {
    "duration": 217,
    "start_time": "2022-03-06T10:23:35.979Z"
   },
   {
    "duration": 17,
    "start_time": "2022-03-06T10:23:36.198Z"
   },
   {
    "duration": 180,
    "start_time": "2022-03-06T10:23:36.217Z"
   },
   {
    "duration": 14,
    "start_time": "2022-03-06T10:23:36.399Z"
   },
   {
    "duration": 210,
    "start_time": "2022-03-06T10:23:36.415Z"
   },
   {
    "duration": 14,
    "start_time": "2022-03-06T10:23:36.626Z"
   },
   {
    "duration": 224,
    "start_time": "2022-03-06T10:23:36.642Z"
   },
   {
    "duration": 15,
    "start_time": "2022-03-06T10:23:36.867Z"
   },
   {
    "duration": 183,
    "start_time": "2022-03-06T10:23:36.883Z"
   },
   {
    "duration": 13,
    "start_time": "2022-03-06T10:23:37.068Z"
   },
   {
    "duration": 277,
    "start_time": "2022-03-06T10:23:37.083Z"
   },
   {
    "duration": 13,
    "start_time": "2022-03-06T10:23:37.362Z"
   },
   {
    "duration": 224,
    "start_time": "2022-03-06T10:23:37.377Z"
   },
   {
    "duration": 13,
    "start_time": "2022-03-06T10:23:37.602Z"
   },
   {
    "duration": 181,
    "start_time": "2022-03-06T10:23:37.617Z"
   },
   {
    "duration": 11,
    "start_time": "2022-03-06T10:23:37.800Z"
   },
   {
    "duration": 16,
    "start_time": "2022-03-06T10:23:37.813Z"
   },
   {
    "duration": 317,
    "start_time": "2022-03-06T10:23:37.831Z"
   },
   {
    "duration": 16,
    "start_time": "2022-03-06T10:23:38.150Z"
   },
   {
    "duration": 14,
    "start_time": "2022-03-06T10:23:38.168Z"
   },
   {
    "duration": 11,
    "start_time": "2022-03-06T10:23:38.187Z"
   },
   {
    "duration": 299,
    "start_time": "2022-03-06T10:23:38.200Z"
   },
   {
    "duration": 11,
    "start_time": "2022-03-06T10:23:38.501Z"
   },
   {
    "duration": 1762,
    "start_time": "2022-03-06T19:54:02.376Z"
   },
   {
    "duration": 61,
    "start_time": "2022-03-06T19:54:04.140Z"
   },
   {
    "duration": 13,
    "start_time": "2022-03-06T19:54:04.204Z"
   },
   {
    "duration": 44,
    "start_time": "2022-03-06T19:54:04.220Z"
   },
   {
    "duration": 5,
    "start_time": "2022-03-06T19:54:04.287Z"
   },
   {
    "duration": 10,
    "start_time": "2022-03-06T19:54:04.295Z"
   },
   {
    "duration": 10,
    "start_time": "2022-03-06T19:54:04.307Z"
   },
   {
    "duration": 10,
    "start_time": "2022-03-06T19:54:04.321Z"
   },
   {
    "duration": 13,
    "start_time": "2022-03-06T19:54:04.334Z"
   },
   {
    "duration": 37,
    "start_time": "2022-03-06T19:54:04.350Z"
   },
   {
    "duration": 14,
    "start_time": "2022-03-06T19:54:04.390Z"
   },
   {
    "duration": 21,
    "start_time": "2022-03-06T19:54:04.407Z"
   },
   {
    "duration": 9,
    "start_time": "2022-03-06T19:54:04.431Z"
   },
   {
    "duration": 6,
    "start_time": "2022-03-06T19:54:04.442Z"
   },
   {
    "duration": 9,
    "start_time": "2022-03-06T19:54:04.450Z"
   },
   {
    "duration": 38,
    "start_time": "2022-03-06T19:54:04.461Z"
   },
   {
    "duration": 32,
    "start_time": "2022-03-06T19:54:04.502Z"
   },
   {
    "duration": 10,
    "start_time": "2022-03-06T19:54:04.538Z"
   },
   {
    "duration": 50,
    "start_time": "2022-03-06T19:54:04.551Z"
   },
   {
    "duration": 23,
    "start_time": "2022-03-06T19:54:04.604Z"
   },
   {
    "duration": 752,
    "start_time": "2022-03-06T19:54:04.629Z"
   },
   {
    "duration": 20,
    "start_time": "2022-03-06T19:54:05.386Z"
   },
   {
    "duration": 10,
    "start_time": "2022-03-06T19:54:05.412Z"
   },
   {
    "duration": 506,
    "start_time": "2022-03-06T19:54:05.425Z"
   },
   {
    "duration": 9,
    "start_time": "2022-03-06T19:54:05.935Z"
   },
   {
    "duration": 42,
    "start_time": "2022-03-06T19:54:05.947Z"
   },
   {
    "duration": 12,
    "start_time": "2022-03-06T19:54:05.992Z"
   },
   {
    "duration": 492,
    "start_time": "2022-03-06T19:54:06.007Z"
   },
   {
    "duration": 441,
    "start_time": "2022-03-06T19:54:06.501Z"
   },
   {
    "duration": 8,
    "start_time": "2022-03-06T19:54:06.945Z"
   },
   {
    "duration": 9,
    "start_time": "2022-03-06T19:54:06.955Z"
   },
   {
    "duration": 492,
    "start_time": "2022-03-06T19:54:06.967Z"
   },
   {
    "duration": 5,
    "start_time": "2022-03-06T19:54:07.462Z"
   },
   {
    "duration": 467,
    "start_time": "2022-03-06T19:54:07.469Z"
   },
   {
    "duration": 6,
    "start_time": "2022-03-06T19:54:07.938Z"
   },
   {
    "duration": 15,
    "start_time": "2022-03-06T19:54:07.946Z"
   },
   {
    "duration": 543,
    "start_time": "2022-03-06T19:54:07.964Z"
   },
   {
    "duration": 421,
    "start_time": "2022-03-06T19:54:08.509Z"
   },
   {
    "duration": 6,
    "start_time": "2022-03-06T19:54:08.933Z"
   },
   {
    "duration": 13,
    "start_time": "2022-03-06T19:54:08.941Z"
   },
   {
    "duration": 481,
    "start_time": "2022-03-06T19:54:08.956Z"
   },
   {
    "duration": 448,
    "start_time": "2022-03-06T19:54:09.439Z"
   },
   {
    "duration": 20,
    "start_time": "2022-03-06T19:54:09.889Z"
   },
   {
    "duration": 394,
    "start_time": "2022-03-06T19:54:09.911Z"
   },
   {
    "duration": 25,
    "start_time": "2022-03-06T19:54:10.307Z"
   },
   {
    "duration": 317,
    "start_time": "2022-03-06T19:54:10.334Z"
   },
   {
    "duration": 20,
    "start_time": "2022-03-06T19:54:10.654Z"
   },
   {
    "duration": 321,
    "start_time": "2022-03-06T19:54:10.687Z"
   },
   {
    "duration": 21,
    "start_time": "2022-03-06T19:54:11.010Z"
   },
   {
    "duration": 279,
    "start_time": "2022-03-06T19:54:11.034Z"
   },
   {
    "duration": 21,
    "start_time": "2022-03-06T19:54:11.316Z"
   },
   {
    "duration": 313,
    "start_time": "2022-03-06T19:54:11.339Z"
   },
   {
    "duration": 32,
    "start_time": "2022-03-06T19:54:11.655Z"
   },
   {
    "duration": 320,
    "start_time": "2022-03-06T19:54:11.689Z"
   },
   {
    "duration": 22,
    "start_time": "2022-03-06T19:54:12.012Z"
   },
   {
    "duration": 280,
    "start_time": "2022-03-06T19:54:12.037Z"
   },
   {
    "duration": 22,
    "start_time": "2022-03-06T19:54:12.320Z"
   },
   {
    "duration": 386,
    "start_time": "2022-03-06T19:54:12.344Z"
   },
   {
    "duration": 21,
    "start_time": "2022-03-06T19:54:12.733Z"
   },
   {
    "duration": 334,
    "start_time": "2022-03-06T19:54:12.756Z"
   },
   {
    "duration": 20,
    "start_time": "2022-03-06T19:54:13.092Z"
   },
   {
    "duration": 272,
    "start_time": "2022-03-06T19:54:13.115Z"
   },
   {
    "duration": 17,
    "start_time": "2022-03-06T19:54:13.389Z"
   },
   {
    "duration": 18,
    "start_time": "2022-03-06T19:54:13.409Z"
   },
   {
    "duration": 468,
    "start_time": "2022-03-06T19:54:13.429Z"
   },
   {
    "duration": 17,
    "start_time": "2022-03-06T19:54:13.899Z"
   },
   {
    "duration": 27,
    "start_time": "2022-03-06T19:54:13.918Z"
   },
   {
    "duration": 16,
    "start_time": "2022-03-06T19:54:13.951Z"
   },
   {
    "duration": 431,
    "start_time": "2022-03-06T19:54:13.987Z"
   },
   {
    "duration": 15,
    "start_time": "2022-03-06T19:54:14.421Z"
   },
   {
    "duration": 1119,
    "start_time": "2022-03-07T10:20:23.673Z"
   },
   {
    "duration": 49,
    "start_time": "2022-03-07T10:20:24.793Z"
   },
   {
    "duration": 10,
    "start_time": "2022-03-07T10:20:24.844Z"
   },
   {
    "duration": 27,
    "start_time": "2022-03-07T10:20:24.856Z"
   },
   {
    "duration": 4,
    "start_time": "2022-03-07T10:20:24.885Z"
   },
   {
    "duration": 11,
    "start_time": "2022-03-07T10:20:24.890Z"
   },
   {
    "duration": 3,
    "start_time": "2022-03-07T10:20:24.903Z"
   },
   {
    "duration": 31,
    "start_time": "2022-03-07T10:20:24.909Z"
   },
   {
    "duration": 8,
    "start_time": "2022-03-07T10:20:24.942Z"
   },
   {
    "duration": 7,
    "start_time": "2022-03-07T10:20:24.952Z"
   },
   {
    "duration": 12,
    "start_time": "2022-03-07T10:20:24.961Z"
   },
   {
    "duration": 11,
    "start_time": "2022-03-07T10:20:24.975Z"
   },
   {
    "duration": 8,
    "start_time": "2022-03-07T10:20:24.988Z"
   },
   {
    "duration": 12,
    "start_time": "2022-03-07T10:20:24.998Z"
   },
   {
    "duration": 27,
    "start_time": "2022-03-07T10:20:25.012Z"
   },
   {
    "duration": 14,
    "start_time": "2022-03-07T10:20:25.040Z"
   },
   {
    "duration": 17,
    "start_time": "2022-03-07T10:20:25.056Z"
   },
   {
    "duration": 5,
    "start_time": "2022-03-07T10:20:25.074Z"
   },
   {
    "duration": 16,
    "start_time": "2022-03-07T10:20:25.080Z"
   },
   {
    "duration": 16,
    "start_time": "2022-03-07T10:20:25.098Z"
   },
   {
    "duration": 434,
    "start_time": "2022-03-07T10:20:25.116Z"
   },
   {
    "duration": 15,
    "start_time": "2022-03-07T10:20:25.552Z"
   },
   {
    "duration": 7,
    "start_time": "2022-03-07T10:20:25.571Z"
   },
   {
    "duration": 336,
    "start_time": "2022-03-07T10:20:25.581Z"
   },
   {
    "duration": 6,
    "start_time": "2022-03-07T10:20:25.919Z"
   },
   {
    "duration": 24,
    "start_time": "2022-03-07T10:20:25.926Z"
   },
   {
    "duration": 13,
    "start_time": "2022-03-07T10:20:25.951Z"
   },
   {
    "duration": 341,
    "start_time": "2022-03-07T10:20:25.966Z"
   },
   {
    "duration": 295,
    "start_time": "2022-03-07T10:20:26.309Z"
   },
   {
    "duration": 5,
    "start_time": "2022-03-07T10:20:26.606Z"
   },
   {
    "duration": 11,
    "start_time": "2022-03-07T10:20:26.613Z"
   },
   {
    "duration": 363,
    "start_time": "2022-03-07T10:20:26.626Z"
   },
   {
    "duration": 4,
    "start_time": "2022-03-07T10:20:26.991Z"
   },
   {
    "duration": 333,
    "start_time": "2022-03-07T10:20:26.997Z"
   },
   {
    "duration": 10,
    "start_time": "2022-03-07T10:20:27.332Z"
   },
   {
    "duration": 9,
    "start_time": "2022-03-07T10:20:27.344Z"
   },
   {
    "duration": 415,
    "start_time": "2022-03-07T10:20:27.354Z"
   },
   {
    "duration": 317,
    "start_time": "2022-03-07T10:20:27.771Z"
   },
   {
    "duration": 5,
    "start_time": "2022-03-07T10:20:28.090Z"
   },
   {
    "duration": 7,
    "start_time": "2022-03-07T10:20:28.097Z"
   },
   {
    "duration": 364,
    "start_time": "2022-03-07T10:20:28.106Z"
   },
   {
    "duration": 321,
    "start_time": "2022-03-07T10:20:28.471Z"
   },
   {
    "duration": 14,
    "start_time": "2022-03-07T10:20:28.794Z"
   },
   {
    "duration": 252,
    "start_time": "2022-03-07T10:20:28.809Z"
   },
   {
    "duration": 13,
    "start_time": "2022-03-07T10:20:29.063Z"
   },
   {
    "duration": 200,
    "start_time": "2022-03-07T10:20:29.078Z"
   },
   {
    "duration": 13,
    "start_time": "2022-03-07T10:20:29.279Z"
   },
   {
    "duration": 216,
    "start_time": "2022-03-07T10:20:29.294Z"
   },
   {
    "duration": 13,
    "start_time": "2022-03-07T10:20:29.512Z"
   },
   {
    "duration": 162,
    "start_time": "2022-03-07T10:20:29.538Z"
   },
   {
    "duration": 13,
    "start_time": "2022-03-07T10:20:29.702Z"
   },
   {
    "duration": 200,
    "start_time": "2022-03-07T10:20:29.717Z"
   },
   {
    "duration": 22,
    "start_time": "2022-03-07T10:20:29.919Z"
   },
   {
    "duration": 233,
    "start_time": "2022-03-07T10:20:29.943Z"
   },
   {
    "duration": 16,
    "start_time": "2022-03-07T10:20:30.178Z"
   },
   {
    "duration": 175,
    "start_time": "2022-03-07T10:20:30.196Z"
   },
   {
    "duration": 16,
    "start_time": "2022-03-07T10:20:30.373Z"
   },
   {
    "duration": 293,
    "start_time": "2022-03-07T10:20:30.391Z"
   },
   {
    "duration": 14,
    "start_time": "2022-03-07T10:20:30.687Z"
   },
   {
    "duration": 221,
    "start_time": "2022-03-07T10:20:30.703Z"
   },
   {
    "duration": 21,
    "start_time": "2022-03-07T10:20:30.925Z"
   },
   {
    "duration": 176,
    "start_time": "2022-03-07T10:20:30.948Z"
   },
   {
    "duration": 21,
    "start_time": "2022-03-07T10:20:31.126Z"
   },
   {
    "duration": 12,
    "start_time": "2022-03-07T10:20:31.149Z"
   },
   {
    "duration": 331,
    "start_time": "2022-03-07T10:20:31.163Z"
   },
   {
    "duration": 13,
    "start_time": "2022-03-07T10:20:31.496Z"
   },
   {
    "duration": 29,
    "start_time": "2022-03-07T10:20:31.511Z"
   },
   {
    "duration": 12,
    "start_time": "2022-03-07T10:20:31.545Z"
   },
   {
    "duration": 294,
    "start_time": "2022-03-07T10:20:31.559Z"
   },
   {
    "duration": 12,
    "start_time": "2022-03-07T10:20:31.855Z"
   }
  ],
  "kernelspec": {
   "display_name": "Python 3 (ipykernel)",
   "language": "python",
   "name": "python3"
  },
  "language_info": {
   "codemirror_mode": {
    "name": "ipython",
    "version": 3
   },
   "file_extension": ".py",
   "mimetype": "text/x-python",
   "name": "python",
   "nbconvert_exporter": "python",
   "pygments_lexer": "ipython3",
   "version": "3.9.5"
  },
  "toc": {
   "base_numbering": 1,
   "nav_menu": {},
   "number_sections": true,
   "sideBar": true,
   "skip_h1_title": true,
   "title_cell": "Содержание",
   "title_sidebar": "Contents",
   "toc_cell": true,
   "toc_position": {
    "height": "calc(100% - 180px)",
    "left": "10px",
    "top": "150px",
    "width": "366.391px"
   },
   "toc_section_display": true,
   "toc_window_display": true
  }
 },
 "nbformat": 4,
 "nbformat_minor": 2
}

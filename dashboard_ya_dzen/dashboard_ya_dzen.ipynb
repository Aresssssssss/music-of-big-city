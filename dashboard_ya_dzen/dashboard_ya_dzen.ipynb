{
 "cells": [
  {
   "cell_type": "markdown",
   "id": "7f454c00",
   "metadata": {
    "toc": true
   },
   "source": [
    "<h1>Table of Contents<span class=\"tocSkip\"></span></h1>\n",
    "<div class=\"toc\"><ul class=\"toc-item\"><li><span><a href=\"#Описание-данных\" data-toc-modified-id=\"Описание-данных-1\"><span class=\"toc-item-num\">1&nbsp;&nbsp;</span>Описание данных</a></span></li><li><span><a href=\"#Задание\" data-toc-modified-id=\"Задание-2\"><span class=\"toc-item-num\">2&nbsp;&nbsp;</span>Задание</a></span></li><li><span><a href=\"#Чтение-данных\" data-toc-modified-id=\"Чтение-данных-3\"><span class=\"toc-item-num\">3&nbsp;&nbsp;</span>Чтение данных</a></span></li><li><span><a href=\"#Предобработка\" data-toc-modified-id=\"Предобработка-4\"><span class=\"toc-item-num\">4&nbsp;&nbsp;</span>Предобработка</a></span><ul class=\"toc-item\"><li><span><a href=\"#Первые-строки\" data-toc-modified-id=\"Первые-строки-4.1\"><span class=\"toc-item-num\">4.1&nbsp;&nbsp;</span>Первые строки</a></span></li><li><span><a href=\"#Информация-о-данных\" data-toc-modified-id=\"Информация-о-данных-4.2\"><span class=\"toc-item-num\">4.2&nbsp;&nbsp;</span>Информация о данных</a></span></li><li><span><a href=\"#Сводка-по-численым-данных\" data-toc-modified-id=\"Сводка-по-численым-данных-4.3\"><span class=\"toc-item-num\">4.3&nbsp;&nbsp;</span>Сводка по численым данных</a></span></li><li><span><a href=\"#Переименование-названий-колонок\" data-toc-modified-id=\"Переименование-названий-колонок-4.4\"><span class=\"toc-item-num\">4.4&nbsp;&nbsp;</span>Переименование названий колонок</a></span></li><li><span><a href=\"#Первые-строки-с-новыми-названиями-колонок\" data-toc-modified-id=\"Первые-строки-с-новыми-названиями-колонок-4.5\"><span class=\"toc-item-num\">4.5&nbsp;&nbsp;</span>Первые строки с новыми названиями колонок</a></span></li><li><span><a href=\"#Проверка-на-дубликаты\" data-toc-modified-id=\"Проверка-на-дубликаты-4.6\"><span class=\"toc-item-num\">4.6&nbsp;&nbsp;</span>Проверка на дубликаты</a></span></li><li><span><a href=\"#Проверка-периода-данных\" data-toc-modified-id=\"Проверка-периода-данных-4.7\"><span class=\"toc-item-num\">4.7&nbsp;&nbsp;</span>Проверка периода данных</a></span></li><li><span><a href=\"#Список-сотрудников\" data-toc-modified-id=\"Список-сотрудников-4.8\"><span class=\"toc-item-num\">4.8&nbsp;&nbsp;</span>Список сотрудников</a></span></li><li><span><a href=\"#Количество-сотрудников\" data-toc-modified-id=\"Количество-сотрудников-4.9\"><span class=\"toc-item-num\">4.9&nbsp;&nbsp;</span>Количество сотрудников</a></span></li><li><span><a href=\"#Список-профессий\" data-toc-modified-id=\"Список-профессий-4.10\"><span class=\"toc-item-num\">4.10&nbsp;&nbsp;</span>Список профессий</a></span></li><li><span><a href=\"#Разряды-и-профессии\" data-toc-modified-id=\"Разряды-и-профессии-4.11\"><span class=\"toc-item-num\">4.11&nbsp;&nbsp;</span>Разряды и профессии</a></span></li><li><span><a href=\"#Какое-оборудование-есть\" data-toc-modified-id=\"Какое-оборудование-есть-4.12\"><span class=\"toc-item-num\">4.12&nbsp;&nbsp;</span>Какое оборудование есть</a></span><ul class=\"toc-item\"><li><span><a href=\"#Сочетание-профессии,-разряда-и-оборудования\" data-toc-modified-id=\"Сочетание-профессии,-разряда-и-оборудования-4.12.1\"><span class=\"toc-item-num\">4.12.1&nbsp;&nbsp;</span>Сочетание профессии, разряда и оборудования</a></span></li></ul></li><li><span><a href=\"#Вредность\" data-toc-modified-id=\"Вредность-4.13\"><span class=\"toc-item-num\">4.13&nbsp;&nbsp;</span>Вредность</a></span></li></ul></li></ul></div>"
   ]
  },
  {
   "cell_type": "markdown",
   "id": "5942003b",
   "metadata": {},
   "source": [
    "# ЭКОПСИ Консалтинг\n",
    "тестовое задание v.5.0"
   ]
  },
  {
   "cell_type": "markdown",
   "id": "a5966887",
   "metadata": {},
   "source": [
    "## Описание данных  \n",
    "Вам представлены данные о доходах сотрудников участка горячего проката за год, в том числе данные, описывающие специфику рабочих мест.  \n",
    "Доход состоит из оклада, премии, доплат и индивидуальных надбавок. Данных об их размерах не приводится, так как именно их Вам предстоит восстановить."
   ]
  },
  {
   "cell_type": "markdown",
   "id": "0062111d",
   "metadata": {},
   "source": [
    "## Задание \n",
    "* Выявите формулу дохода в целом и его составных частей\n",
    "* Проверьте, что данная формула объясняет доход с точностью до рубля\n",
    "* Выявите зависимости между составными частями дохода\n",
    "  \n",
    "  \n",
    "Итоговую формулу напишите, пожалуйста, в теле письма или в Word. Все расчеты и объяснения приложите отдельным файлом.\n"
   ]
  },
  {
   "cell_type": "code",
   "execution_count": 1,
   "id": "563186be",
   "metadata": {},
   "outputs": [
    {
     "name": "stdout",
     "output_type": "stream",
     "text": [
      "Requirement already satisfied: pandas in c:\\users\\eddyd\\anaconda3\\lib\\site-packages (1.4.1)\n",
      "Requirement already satisfied: pytz>=2020.1 in c:\\users\\eddyd\\anaconda3\\lib\\site-packages (from pandas) (2021.3)\n",
      "Requirement already satisfied: python-dateutil>=2.8.1 in c:\\users\\eddyd\\anaconda3\\lib\\site-packages (from pandas) (2.8.2)\n",
      "Requirement already satisfied: numpy>=1.18.5 in c:\\users\\eddyd\\anaconda3\\lib\\site-packages (from pandas) (1.22.2)\n",
      "Requirement already satisfied: six>=1.5 in c:\\users\\eddyd\\anaconda3\\lib\\site-packages (from python-dateutil>=2.8.1->pandas) (1.16.0)\n",
      "Requirement already satisfied: seaborn in c:\\users\\eddyd\\anaconda3\\lib\\site-packages (0.11.2)\n",
      "Requirement already satisfied: scipy>=1.0 in c:\\users\\eddyd\\anaconda3\\lib\\site-packages (from seaborn) (1.8.0)\n",
      "Requirement already satisfied: numpy>=1.15 in c:\\users\\eddyd\\anaconda3\\lib\\site-packages (from seaborn) (1.22.2)\n",
      "Requirement already satisfied: matplotlib>=2.2 in c:\\users\\eddyd\\anaconda3\\lib\\site-packages (from seaborn) (3.5.1)\n",
      "Requirement already satisfied: pandas>=0.23 in c:\\users\\eddyd\\anaconda3\\lib\\site-packages (from seaborn) (1.4.1)\n",
      "Requirement already satisfied: cycler>=0.10 in c:\\users\\eddyd\\anaconda3\\lib\\site-packages (from matplotlib>=2.2->seaborn) (0.10.0)\n",
      "Requirement already satisfied: pyparsing>=2.2.1 in c:\\users\\eddyd\\anaconda3\\lib\\site-packages (from matplotlib>=2.2->seaborn) (3.0.4)\n",
      "Requirement already satisfied: fonttools>=4.22.0 in c:\\users\\eddyd\\anaconda3\\lib\\site-packages (from matplotlib>=2.2->seaborn) (4.25.0)\n",
      "Requirement already satisfied: python-dateutil>=2.7 in c:\\users\\eddyd\\anaconda3\\lib\\site-packages (from matplotlib>=2.2->seaborn) (2.8.2)\n",
      "Requirement already satisfied: packaging>=20.0 in c:\\users\\eddyd\\anaconda3\\lib\\site-packages (from matplotlib>=2.2->seaborn) (21.0)\n",
      "Requirement already satisfied: pillow>=6.2.0 in c:\\users\\eddyd\\anaconda3\\lib\\site-packages (from matplotlib>=2.2->seaborn) (8.4.0)\n",
      "Requirement already satisfied: kiwisolver>=1.0.1 in c:\\users\\eddyd\\anaconda3\\lib\\site-packages (from matplotlib>=2.2->seaborn) (1.3.1)\n",
      "Requirement already satisfied: six in c:\\users\\eddyd\\anaconda3\\lib\\site-packages (from cycler>=0.10->matplotlib>=2.2->seaborn) (1.16.0)\n",
      "Requirement already satisfied: pytz>=2020.1 in c:\\users\\eddyd\\anaconda3\\lib\\site-packages (from pandas>=0.23->seaborn) (2021.3)\n",
      "Requirement already satisfied: matplotlib in c:\\users\\eddyd\\anaconda3\\lib\\site-packages (3.5.1)\n",
      "Requirement already satisfied: cycler>=0.10 in c:\\users\\eddyd\\anaconda3\\lib\\site-packages (from matplotlib) (0.10.0)\n",
      "Requirement already satisfied: python-dateutil>=2.7 in c:\\users\\eddyd\\anaconda3\\lib\\site-packages (from matplotlib) (2.8.2)\n",
      "Requirement already satisfied: fonttools>=4.22.0 in c:\\users\\eddyd\\anaconda3\\lib\\site-packages (from matplotlib) (4.25.0)\n",
      "Requirement already satisfied: numpy>=1.17 in c:\\users\\eddyd\\anaconda3\\lib\\site-packages (from matplotlib) (1.22.2)\n",
      "Requirement already satisfied: pyparsing>=2.2.1 in c:\\users\\eddyd\\anaconda3\\lib\\site-packages (from matplotlib) (3.0.4)\n",
      "Requirement already satisfied: packaging>=20.0 in c:\\users\\eddyd\\anaconda3\\lib\\site-packages (from matplotlib) (21.0)\n",
      "Requirement already satisfied: kiwisolver>=1.0.1 in c:\\users\\eddyd\\anaconda3\\lib\\site-packages (from matplotlib) (1.3.1)\n",
      "Requirement already satisfied: pillow>=6.2.0 in c:\\users\\eddyd\\anaconda3\\lib\\site-packages (from matplotlib) (8.4.0)\n",
      "Requirement already satisfied: six in c:\\users\\eddyd\\anaconda3\\lib\\site-packages (from cycler>=0.10->matplotlib) (1.16.0)\n",
      "Requirement already satisfied: numpy in c:\\users\\eddyd\\anaconda3\\lib\\site-packages (1.22.2)\n",
      "Collecting numpy\n",
      "  Downloading numpy-1.22.3-cp39-cp39-win_amd64.whl (14.7 MB)\n",
      "Installing collected packages: numpy\n",
      "  Attempting uninstall: numpy\n",
      "    Found existing installation: numpy 1.22.2\n",
      "    Uninstalling numpy-1.22.2:\n",
      "      Successfully uninstalled numpy-1.22.2\n",
      "Successfully installed numpy-1.22.3\n"
     ]
    },
    {
     "name": "stderr",
     "output_type": "stream",
     "text": [
      "ERROR: pip's dependency resolver does not currently take into account all the packages that are installed. This behaviour is the source of the following dependency conflicts.\n",
      "daal4py 2021.3.0 requires daal==2021.2.3, which is not installed.\n",
      "numba 0.54.1 requires numpy<1.21,>=1.17, but you have numpy 1.22.3 which is incompatible.\n"
     ]
    },
    {
     "name": "stdout",
     "output_type": "stream",
     "text": [
      "Requirement already satisfied: scipy in c:\\users\\eddyd\\anaconda3\\lib\\site-packages (1.8.0)\n",
      "Requirement already satisfied: numpy<1.25.0,>=1.17.3 in c:\\users\\eddyd\\anaconda3\\lib\\site-packages (from scipy) (1.22.3)\n"
     ]
    }
   ],
   "source": [
    "# upgrade all needs libs\n",
    "!pip install pandas -U\n",
    "!pip install seaborn -U\n",
    "!pip install matplotlib -U\n",
    "!pip install numpy -U\n",
    "!pip install scipy -U"
   ]
  },
  {
   "cell_type": "code",
   "execution_count": 2,
   "id": "df583ad1",
   "metadata": {},
   "outputs": [],
   "source": [
    "import pandas as pd\n",
    "import seaborn as sns\n",
    "import matplotlib.pyplot as plt\n",
    "# importing a library for operating with a data type \"NaN\"\n",
    "import numpy as np\n",
    "from scipy import stats as st\n",
    "\n",
    "# отключаем некритичные уведомления\n",
    "import warnings\n",
    "warnings.filterwarnings('ignore')\n",
    "# показывать до 40ка колонок\n",
    "pd.set_option('display.max.columns', 40)\n",
    "# установка формата вывода на дисплей численных значений\n",
    "pd.options.display.float_format = '{:,.2f}'.format\n",
    "# Библиотека для отображения картинок\n",
    "from IPython.display import Image \n",
    "# бибилиотека для укоругления в бОльшую сторону\n",
    "import math"
   ]
  },
  {
   "cell_type": "markdown",
   "id": "cb6793be",
   "metadata": {},
   "source": [
    "## Чтение данных"
   ]
  },
  {
   "cell_type": "code",
   "execution_count": 14,
   "id": "e878d685",
   "metadata": {},
   "outputs": [],
   "source": [
    "try:\n",
    "    # Local path\n",
    "    df = pd.read_excel(r\"C:\\Users\\eddyd\\Downloads\\Praktikum\\ecopsy_ru\\Задание 5.0 2 версия.xlsx\")\n",
    "except:\n",
    "    # web patch\n",
    "    df =  pd.read_excel('https://eddydewrussia.ru/download/тест-5-0/?wpdmdl=5153&refresh=624231e5b8b631648505317')"
   ]
  },
  {
   "cell_type": "markdown",
   "id": "f36e820c",
   "metadata": {},
   "source": [
    "## Предобработка"
   ]
  },
  {
   "cell_type": "markdown",
   "id": "77ac914c",
   "metadata": {},
   "source": [
    "### Первые строки"
   ]
  },
  {
   "cell_type": "code",
   "execution_count": 15,
   "id": "83d7cdcf",
   "metadata": {},
   "outputs": [
    {
     "data": {
      "text/html": [
       "<div>\n",
       "<style scoped>\n",
       "    .dataframe tbody tr th:only-of-type {\n",
       "        vertical-align: middle;\n",
       "    }\n",
       "\n",
       "    .dataframe tbody tr th {\n",
       "        vertical-align: top;\n",
       "    }\n",
       "\n",
       "    .dataframe thead th {\n",
       "        text-align: right;\n",
       "    }\n",
       "</style>\n",
       "<table border=\"1\" class=\"dataframe\">\n",
       "  <thead>\n",
       "    <tr style=\"text-align: right;\">\n",
       "      <th></th>\n",
       "      <th>FIO</th>\n",
       "      <th>Месяц</th>\n",
       "      <th>Профессия</th>\n",
       "      <th>Разряд</th>\n",
       "      <th>Оборудование</th>\n",
       "      <th>Вредность (балл.)</th>\n",
       "      <th>Объем производства</th>\n",
       "      <th>Доход</th>\n",
       "    </tr>\n",
       "  </thead>\n",
       "  <tbody>\n",
       "    <tr>\n",
       "      <th>0</th>\n",
       "      <td>Абрамов Е. Д.</td>\n",
       "      <td>2009-01-01</td>\n",
       "      <td>Уборщик</td>\n",
       "      <td>3</td>\n",
       "      <td>Пилигримовые станы</td>\n",
       "      <td>18</td>\n",
       "      <td>580</td>\n",
       "      <td>16,638.00</td>\n",
       "    </tr>\n",
       "    <tr>\n",
       "      <th>1</th>\n",
       "      <td>Абрамов Е. Д.</td>\n",
       "      <td>2009-02-01</td>\n",
       "      <td>Уборщик</td>\n",
       "      <td>3</td>\n",
       "      <td>Пилигримовые станы</td>\n",
       "      <td>18</td>\n",
       "      <td>790</td>\n",
       "      <td>16,638.00</td>\n",
       "    </tr>\n",
       "    <tr>\n",
       "      <th>2</th>\n",
       "      <td>Абрамов Е. Д.</td>\n",
       "      <td>2009-03-01</td>\n",
       "      <td>Уборщик</td>\n",
       "      <td>3</td>\n",
       "      <td>Пилигримовые станы</td>\n",
       "      <td>18</td>\n",
       "      <td>820</td>\n",
       "      <td>16,638.00</td>\n",
       "    </tr>\n",
       "    <tr>\n",
       "      <th>3</th>\n",
       "      <td>Абрамов Е. Д.</td>\n",
       "      <td>2009-04-01</td>\n",
       "      <td>Уборщик</td>\n",
       "      <td>3</td>\n",
       "      <td>Пилигримовые станы</td>\n",
       "      <td>18</td>\n",
       "      <td>1200</td>\n",
       "      <td>19,396.41</td>\n",
       "    </tr>\n",
       "    <tr>\n",
       "      <th>4</th>\n",
       "      <td>Абрамов Е. Д.</td>\n",
       "      <td>2009-05-01</td>\n",
       "      <td>Уборщик</td>\n",
       "      <td>3</td>\n",
       "      <td>Пилигримовые станы</td>\n",
       "      <td>18</td>\n",
       "      <td>1250</td>\n",
       "      <td>19,790.47</td>\n",
       "    </tr>\n",
       "  </tbody>\n",
       "</table>\n",
       "</div>"
      ],
      "text/plain": [
       "             FIO      Месяц Профессия  Разряд        Оборудование  \\\n",
       "0  Абрамов Е. Д. 2009-01-01   Уборщик       3  Пилигримовые станы   \n",
       "1  Абрамов Е. Д. 2009-02-01   Уборщик       3  Пилигримовые станы   \n",
       "2  Абрамов Е. Д. 2009-03-01   Уборщик       3  Пилигримовые станы   \n",
       "3  Абрамов Е. Д. 2009-04-01   Уборщик       3  Пилигримовые станы   \n",
       "4  Абрамов Е. Д. 2009-05-01   Уборщик       3  Пилигримовые станы   \n",
       "\n",
       "   Вредность (балл.)  Объем производства     Доход  \n",
       "0                 18                 580 16,638.00  \n",
       "1                 18                 790 16,638.00  \n",
       "2                 18                 820 16,638.00  \n",
       "3                 18                1200 19,396.41  \n",
       "4                 18                1250 19,790.47  "
      ]
     },
     "execution_count": 15,
     "metadata": {},
     "output_type": "execute_result"
    }
   ],
   "source": [
    "df.head()"
   ]
  },
  {
   "cell_type": "markdown",
   "id": "cd39cba4",
   "metadata": {},
   "source": [
    "### Информация о данных"
   ]
  },
  {
   "cell_type": "code",
   "execution_count": 16,
   "id": "0b3036e8",
   "metadata": {},
   "outputs": [
    {
     "name": "stdout",
     "output_type": "stream",
     "text": [
      "<class 'pandas.core.frame.DataFrame'>\n",
      "RangeIndex: 2400 entries, 0 to 2399\n",
      "Data columns (total 8 columns):\n",
      " #   Column              Non-Null Count  Dtype         \n",
      "---  ------              --------------  -----         \n",
      " 0   FIO                 2400 non-null   object        \n",
      " 1   Месяц               2400 non-null   datetime64[ns]\n",
      " 2   Профессия           2400 non-null   object        \n",
      " 3   Разряд              2400 non-null   int64         \n",
      " 4   Оборудование        2400 non-null   object        \n",
      " 5   Вредность (балл.)   2400 non-null   int64         \n",
      " 6   Объем производства  2400 non-null   int64         \n",
      " 7   Доход               2400 non-null   float64       \n",
      "dtypes: datetime64[ns](1), float64(1), int64(3), object(3)\n",
      "memory usage: 150.1+ KB\n"
     ]
    }
   ],
   "source": [
    "df.info()"
   ]
  },
  {
   "cell_type": "markdown",
   "id": "bf316b27",
   "metadata": {},
   "source": [
    "### Сводка по численым данных"
   ]
  },
  {
   "cell_type": "code",
   "execution_count": 17,
   "id": "c3e8f296",
   "metadata": {
    "scrolled": true
   },
   "outputs": [
    {
     "data": {
      "text/html": [
       "<div>\n",
       "<style scoped>\n",
       "    .dataframe tbody tr th:only-of-type {\n",
       "        vertical-align: middle;\n",
       "    }\n",
       "\n",
       "    .dataframe tbody tr th {\n",
       "        vertical-align: top;\n",
       "    }\n",
       "\n",
       "    .dataframe thead th {\n",
       "        text-align: right;\n",
       "    }\n",
       "</style>\n",
       "<table border=\"1\" class=\"dataframe\">\n",
       "  <thead>\n",
       "    <tr style=\"text-align: right;\">\n",
       "      <th></th>\n",
       "      <th>Разряд</th>\n",
       "      <th>Вредность (балл.)</th>\n",
       "      <th>Объем производства</th>\n",
       "      <th>Доход</th>\n",
       "    </tr>\n",
       "  </thead>\n",
       "  <tbody>\n",
       "    <tr>\n",
       "      <th>count</th>\n",
       "      <td>2,400.00</td>\n",
       "      <td>2,400.00</td>\n",
       "      <td>2,400.00</td>\n",
       "      <td>2,400.00</td>\n",
       "    </tr>\n",
       "    <tr>\n",
       "      <th>mean</th>\n",
       "      <td>4.90</td>\n",
       "      <td>15.79</td>\n",
       "      <td>988.33</td>\n",
       "      <td>21,665.57</td>\n",
       "    </tr>\n",
       "    <tr>\n",
       "      <th>std</th>\n",
       "      <td>1.37</td>\n",
       "      <td>6.57</td>\n",
       "      <td>230.98</td>\n",
       "      <td>4,686.89</td>\n",
       "    </tr>\n",
       "    <tr>\n",
       "      <th>min</th>\n",
       "      <td>3.00</td>\n",
       "      <td>0.00</td>\n",
       "      <td>580.00</td>\n",
       "      <td>12,180.00</td>\n",
       "    </tr>\n",
       "    <tr>\n",
       "      <th>25%</th>\n",
       "      <td>4.00</td>\n",
       "      <td>14.75</td>\n",
       "      <td>805.00</td>\n",
       "      <td>18,076.50</td>\n",
       "    </tr>\n",
       "    <tr>\n",
       "      <th>50%</th>\n",
       "      <td>5.00</td>\n",
       "      <td>18.00</td>\n",
       "      <td>985.00</td>\n",
       "      <td>21,057.30</td>\n",
       "    </tr>\n",
       "    <tr>\n",
       "      <th>75%</th>\n",
       "      <td>6.00</td>\n",
       "      <td>19.00</td>\n",
       "      <td>1,185.00</td>\n",
       "      <td>25,105.76</td>\n",
       "    </tr>\n",
       "    <tr>\n",
       "      <th>max</th>\n",
       "      <td>7.00</td>\n",
       "      <td>22.00</td>\n",
       "      <td>1,400.00</td>\n",
       "      <td>36,076.76</td>\n",
       "    </tr>\n",
       "  </tbody>\n",
       "</table>\n",
       "</div>"
      ],
      "text/plain": [
       "        Разряд  Вредность (балл.)  Объем производства     Доход\n",
       "count 2,400.00           2,400.00            2,400.00  2,400.00\n",
       "mean      4.90              15.79              988.33 21,665.57\n",
       "std       1.37               6.57              230.98  4,686.89\n",
       "min       3.00               0.00              580.00 12,180.00\n",
       "25%       4.00              14.75              805.00 18,076.50\n",
       "50%       5.00              18.00              985.00 21,057.30\n",
       "75%       6.00              19.00            1,185.00 25,105.76\n",
       "max       7.00              22.00            1,400.00 36,076.76"
      ]
     },
     "execution_count": 17,
     "metadata": {},
     "output_type": "execute_result"
    }
   ],
   "source": [
    "df.describe()"
   ]
  },
  {
   "cell_type": "markdown",
   "id": "6fa0d67e",
   "metadata": {},
   "source": [
    "### Переименование названий колонок"
   ]
  },
  {
   "cell_type": "code",
   "execution_count": 18,
   "id": "0ceba3bc",
   "metadata": {},
   "outputs": [
    {
     "name": "stdout",
     "output_type": "stream",
     "text": [
      "Index(['FIO', 'Месяц', 'Профессия', 'Разряд', 'Оборудование',\n",
      "       'Вредность (балл.)', 'Объем производства', 'Доход'],\n",
      "      dtype='object')\n",
      "Переименованные колонки\n",
      "Index(['fio', 'month', 'profession', 'class', 'hardware', 'harmfulness_score',\n",
      "       'production_volume', 'income'],\n",
      "      dtype='object')\n"
     ]
    }
   ],
   "source": [
    "# замена наименований колонок в змеиный формат\n",
    "print(df.columns)\n",
    "df = df.rename(columns={'Разряд':'class', 'FIO':'fio', 'Месяц':'month',\n",
    "                        'Профессия':'profession', 'Оборудование':'hardware', 'Вредность (балл.)':'harmfulness_score',\n",
    "                       'Объем производства':'production_volume', 'Доход':'income'})\n",
    "print(\"Переименованные колонки\")\n",
    "print(df.columns)"
   ]
  },
  {
   "cell_type": "markdown",
   "id": "101aba79",
   "metadata": {},
   "source": [
    "### Первые строки с новыми названиями колонок"
   ]
  },
  {
   "cell_type": "code",
   "execution_count": 25,
   "id": "dccdd50a",
   "metadata": {
    "scrolled": true
   },
   "outputs": [
    {
     "data": {
      "text/html": [
       "<div>\n",
       "<style scoped>\n",
       "    .dataframe tbody tr th:only-of-type {\n",
       "        vertical-align: middle;\n",
       "    }\n",
       "\n",
       "    .dataframe tbody tr th {\n",
       "        vertical-align: top;\n",
       "    }\n",
       "\n",
       "    .dataframe thead th {\n",
       "        text-align: right;\n",
       "    }\n",
       "</style>\n",
       "<table border=\"1\" class=\"dataframe\">\n",
       "  <thead>\n",
       "    <tr style=\"text-align: right;\">\n",
       "      <th></th>\n",
       "      <th>fio</th>\n",
       "      <th>month</th>\n",
       "      <th>profession</th>\n",
       "      <th>class</th>\n",
       "      <th>hardware</th>\n",
       "      <th>harmfulness_score</th>\n",
       "      <th>production_volume</th>\n",
       "      <th>income</th>\n",
       "    </tr>\n",
       "  </thead>\n",
       "  <tbody>\n",
       "    <tr>\n",
       "      <th>0</th>\n",
       "      <td>Абрамов Е. Д.</td>\n",
       "      <td>2009-01-01</td>\n",
       "      <td>Уборщик</td>\n",
       "      <td>3</td>\n",
       "      <td>Пилигримовые станы</td>\n",
       "      <td>18</td>\n",
       "      <td>580</td>\n",
       "      <td>16,638.00</td>\n",
       "    </tr>\n",
       "    <tr>\n",
       "      <th>1</th>\n",
       "      <td>Абрамов Е. Д.</td>\n",
       "      <td>2009-02-01</td>\n",
       "      <td>Уборщик</td>\n",
       "      <td>3</td>\n",
       "      <td>Пилигримовые станы</td>\n",
       "      <td>18</td>\n",
       "      <td>790</td>\n",
       "      <td>16,638.00</td>\n",
       "    </tr>\n",
       "    <tr>\n",
       "      <th>2</th>\n",
       "      <td>Абрамов Е. Д.</td>\n",
       "      <td>2009-03-01</td>\n",
       "      <td>Уборщик</td>\n",
       "      <td>3</td>\n",
       "      <td>Пилигримовые станы</td>\n",
       "      <td>18</td>\n",
       "      <td>820</td>\n",
       "      <td>16,638.00</td>\n",
       "    </tr>\n",
       "    <tr>\n",
       "      <th>3</th>\n",
       "      <td>Абрамов Е. Д.</td>\n",
       "      <td>2009-04-01</td>\n",
       "      <td>Уборщик</td>\n",
       "      <td>3</td>\n",
       "      <td>Пилигримовые станы</td>\n",
       "      <td>18</td>\n",
       "      <td>1200</td>\n",
       "      <td>19,396.41</td>\n",
       "    </tr>\n",
       "    <tr>\n",
       "      <th>4</th>\n",
       "      <td>Абрамов Е. Д.</td>\n",
       "      <td>2009-05-01</td>\n",
       "      <td>Уборщик</td>\n",
       "      <td>3</td>\n",
       "      <td>Пилигримовые станы</td>\n",
       "      <td>18</td>\n",
       "      <td>1250</td>\n",
       "      <td>19,790.47</td>\n",
       "    </tr>\n",
       "  </tbody>\n",
       "</table>\n",
       "</div>"
      ],
      "text/plain": [
       "             fio      month profession  class            hardware  \\\n",
       "0  Абрамов Е. Д. 2009-01-01    Уборщик      3  Пилигримовые станы   \n",
       "1  Абрамов Е. Д. 2009-02-01    Уборщик      3  Пилигримовые станы   \n",
       "2  Абрамов Е. Д. 2009-03-01    Уборщик      3  Пилигримовые станы   \n",
       "3  Абрамов Е. Д. 2009-04-01    Уборщик      3  Пилигримовые станы   \n",
       "4  Абрамов Е. Д. 2009-05-01    Уборщик      3  Пилигримовые станы   \n",
       "\n",
       "   harmfulness_score  production_volume    income  \n",
       "0                 18                580 16,638.00  \n",
       "1                 18                790 16,638.00  \n",
       "2                 18                820 16,638.00  \n",
       "3                 18               1200 19,396.41  \n",
       "4                 18               1250 19,790.47  "
      ]
     },
     "execution_count": 25,
     "metadata": {},
     "output_type": "execute_result"
    }
   ],
   "source": [
    "df.head()"
   ]
  },
  {
   "cell_type": "markdown",
   "id": "2716035c",
   "metadata": {},
   "source": [
    "### Проверка на дубликаты"
   ]
  },
  {
   "cell_type": "code",
   "execution_count": 19,
   "id": "1c239e62",
   "metadata": {},
   "outputs": [
    {
     "name": "stdout",
     "output_type": "stream",
     "text": [
      "Empty DataFrame\n",
      "Columns: [fio, month, profession, class, hardware, harmfulness_score, production_volume, income]\n",
      "Index: []\n"
     ]
    }
   ],
   "source": [
    "# дубликаты есть ли\n",
    "print(df[df.duplicated()].head())"
   ]
  },
  {
   "cell_type": "markdown",
   "id": "1f95878b",
   "metadata": {},
   "source": [
    "Дубликатов **НЕТ**"
   ]
  },
  {
   "cell_type": "markdown",
   "id": "becef641",
   "metadata": {},
   "source": [
    "### Проверка периода данных"
   ]
  },
  {
   "cell_type": "code",
   "execution_count": 23,
   "id": "09f56535",
   "metadata": {},
   "outputs": [
    {
     "name": "stdout",
     "output_type": "stream",
     "text": [
      "2009-01-01 00:00:00 минимальная дата\n",
      "2009-12-01 00:00:00 максимальная дата\n"
     ]
    }
   ],
   "source": [
    "# месяц - интервал\n",
    "print(min(df['month']) , \"минимальная дата\")\n",
    "print(max(df['month']) , \"максимальная дата\")"
   ]
  },
  {
   "cell_type": "markdown",
   "id": "402dd390",
   "metadata": {},
   "source": [
    "**Данные за полный 2009 год**"
   ]
  },
  {
   "cell_type": "markdown",
   "id": "0edaf2e1",
   "metadata": {},
   "source": [
    "### Список сотрудников"
   ]
  },
  {
   "cell_type": "code",
   "execution_count": 27,
   "id": "f6433b32",
   "metadata": {},
   "outputs": [
    {
     "data": {
      "text/plain": [
       "array(['Абрамов Е. Д.', 'Абрамов Ф. М.', 'Агафонов С. И.',\n",
       "       'Аксенов Е. Н.', 'Александров А. М.', 'Алексеев Н. Н.',\n",
       "       'Андреев Е. А.', 'Андреев Ф. Д.', 'Антонов В. Т.', 'Баженов Д. И.',\n",
       "       'Белкин В. И.', 'Белкин Г. В.', 'Белов А. М.', 'Белов Г. М.',\n",
       "       'Белоусов М. Д.', 'Беляков К. М.', 'Богданов А. Т.',\n",
       "       'Бородин Г. И.', 'Быков Л. Н.', 'Васильев Г. М.', 'Васильев С. В.',\n",
       "       'Вдовин И. К.', 'Верещагин Я. А.', 'Виноградов П. Д.',\n",
       "       'Винокуров М. Т.', 'Власов В. Д.', 'Власов С. Д.', 'Волков А. А.',\n",
       "       'Волков Д. М.', 'Волошин Л. И.', 'Воробьев А. О.',\n",
       "       'Воробьев Н. П.', 'Воронов Р. И.', 'Высоцкий М. А.',\n",
       "       'Гаврилов Д. Е.', 'Герасимов К. Я.', 'Голиков Г. И.',\n",
       "       'Голованов М. М.', 'Горюнов Д. Т.', 'Григорьев А. Т.',\n",
       "       'Гришин А. А.', 'Громов Л. Я.', 'Гусев Р. И.', 'Демидов М. Д.',\n",
       "       'Дьяконов М. Т.', 'Егоров Г. И.', 'Емельянов Е. Н.',\n",
       "       'Ермаков Г. И.', 'Ермолаев Р. А.', 'Ефимов В. Н.', 'Жаров С. Д.',\n",
       "       'Журавлев Б. И.', 'Зайцев Э. А.', 'Захаров К. Д.', 'Зверев М. М.',\n",
       "       'Иванов Н. Д.', 'Иванов П. А.', 'Игнатьев В. Г.', 'Ильин К. Д.',\n",
       "       'Ильин Э. П.', 'Ильинский Н. Д.', 'Калинин Г. Н.',\n",
       "       'Калмыков А. Ф.', 'Карпов А. М.', 'Карташов Д. С.',\n",
       "       'Касаткин Д. С.', 'Клюев Д. М.', 'Козлов А. А.', 'Козлов А. Н.',\n",
       "       'Козлов Г. И.', 'Колосов В. М.', 'Колпаков И. А.', 'Комаров А. И.',\n",
       "       'Комаров Д. А.', 'Комаров Д. К.', 'Комаров Л. Ф.',\n",
       "       'Кондратьев Д. Д.', 'Константинов П. Г.', 'Копылов А. А.',\n",
       "       'Коротков М. А.', 'Корчагин М. Г.', 'Косарев А. М.',\n",
       "       'Краснов И. М.', 'Крылов С. Е.', 'Кузнецов А. С.',\n",
       "       'Кузнецов Д. М.', 'Кузнецов О. А.', 'Кукушкин Л. Л.',\n",
       "       'Куликов А. Л.', 'Куликов Д. Ю.', 'Куликов М. В.',\n",
       "       'Курочкин В. М.', 'Лазарев А. Д.', 'Лазарев А. Н.',\n",
       "       'Лазарев Д. А.', 'Лазарев И. А.', 'Лебедев Л. Е.', 'Лебедев М. Д.',\n",
       "       'Левин В. Д.', 'Лосев Н. С.', 'Лукьянов А. А.', 'Львов А. С.',\n",
       "       'Макаров М. Д.', 'Максимов И. В.', 'Максимов Р. М.',\n",
       "       'Марков И. П.', 'Митрофанов М. В.', 'Михайлов М. М.',\n",
       "       'Михайлов Р. С.', 'Михайлов С. М.', 'Морозов Г. А.',\n",
       "       'Морозов Д. З.', 'Муравьев В. Б.', 'Наумов Д. Г.', 'Наумов О. В.',\n",
       "       'Некрасов И. А.', 'Никитин Л. Г.', 'Николаев Т. С.',\n",
       "       'Никулин Е. А.', 'Новиков А. В.', 'Новиков А. Ф.', 'Новиков Г. А.',\n",
       "       'Новиков С. М.', 'Носков К. К.', 'Носов М. Д.', 'Овчинников Д. В.',\n",
       "       'Окулов Л. Н.', 'Орлов В. В.', 'Орлов Т. Д.', 'Осипов М. А.',\n",
       "       'Осипов М. В.', 'Осипов П. В.', 'Павлов И. И.', 'Павловский Д. А.',\n",
       "       'Панов Я. Ф.', 'Пахомов Д. С.', 'Петров А. Е.', 'Поляков Д. А.',\n",
       "       'Попов Е. Ю.', 'Потапов В. М.', 'Потапов М. И.', 'Прохоров М. Р.',\n",
       "       'Романов Р. К.', 'Румянцев И. Д.', 'Румянцев М. А.',\n",
       "       'Русанов Т. И.', 'Самсонов К. Д.', 'Свиридов А. К.',\n",
       "       'Семенов Г. В.', 'Семенов Д. А.', 'Семенов И. П.', 'Сергеев Д. Б.',\n",
       "       'Сергеев Р. Е.', 'Серебряков А. А.', 'Синицын А. Е.',\n",
       "       'Ситников Н. М.', 'Смирнов Л. К.', 'Смирнов С. М.',\n",
       "       'Соколов И. А.', 'Соколов С. Д.', 'Соколов С. С.', 'Соколов Ф. М.',\n",
       "       'Соловьев В. М.', 'Соловьев И. М.', 'Сорокин К. Т.',\n",
       "       'Сорокин М. А.', 'Сорокин М. Д.', 'Степанов А. М.',\n",
       "       'Степанов Т. Т.', 'Суворов И. Р.', 'Терентьев М. Д.',\n",
       "       'Терехов И. К.', 'Титов Т. П.', 'Ткачев И. Я.', 'Третьяков В. А.',\n",
       "       'Ульянов Э. Д.', 'Усов О. А.', 'Федоров А. А.', 'Федотов М. К.',\n",
       "       'Федотов М. М.', 'Филатов К. Т.', 'Филиппов И. П.', 'Фомин А. К.',\n",
       "       'Фролов Д. А.', 'Фролов Д. М.', 'Фролов С. Ф.', 'Хомяков Э. К.',\n",
       "       'Чеботарев Д. И.', 'Чернов И. А.', 'Чернов М. К.', 'Чернов С. Е.',\n",
       "       'Чернышев Д. В.', 'Чернышев М. В.', 'Чистяков Я. Я.',\n",
       "       'Шаповалов А. Р.', 'Шестаков Е. А.', 'Щербаков А. Е.',\n",
       "       'Щербаков А. М.', 'Щукин К. С.', 'Яковлев Д. И.'], dtype=object)"
      ]
     },
     "execution_count": 27,
     "metadata": {},
     "output_type": "execute_result"
    }
   ],
   "source": [
    "df['fio'].unique()"
   ]
  },
  {
   "cell_type": "markdown",
   "id": "7dcc0afb",
   "metadata": {},
   "source": [
    "### Количество сотрудников"
   ]
  },
  {
   "cell_type": "code",
   "execution_count": 28,
   "id": "03af40d1",
   "metadata": {},
   "outputs": [
    {
     "name": "stdout",
     "output_type": "stream",
     "text": [
      "200 сотрудников в компании\n"
     ]
    }
   ],
   "source": [
    "print(len(df['fio'].unique()), \"сотрудников в компании\")"
   ]
  },
  {
   "cell_type": "markdown",
   "id": "2be50886",
   "metadata": {},
   "source": [
    "### Список профессий"
   ]
  },
  {
   "cell_type": "code",
   "execution_count": 29,
   "id": "8a675137",
   "metadata": {},
   "outputs": [
    {
     "data": {
      "text/plain": [
       "array(['Уборщик', 'Вальцовщик', 'Нагревальщик металла',\n",
       "       'Оператор поста управления',\n",
       "       'Контролер качества готовой продукции', 'Подручный вальцовщика',\n",
       "       'Резчик горячего металла', 'Посадчик металла', 'Огнеупорщик'],\n",
       "      dtype=object)"
      ]
     },
     "execution_count": 29,
     "metadata": {},
     "output_type": "execute_result"
    }
   ],
   "source": [
    "df['profession'].unique() "
   ]
  },
  {
   "cell_type": "markdown",
   "id": "e745f691",
   "metadata": {},
   "source": [
    "### Разряды и профессии\n",
    "Разряды в компании от \"3\" до \"7\".  \n",
    "Посмотрим, какие сочетания **профессия** - **разряд** встречаются"
   ]
  },
  {
   "cell_type": "code",
   "execution_count": 33,
   "id": "622ed2f7",
   "metadata": {
    "scrolled": false
   },
   "outputs": [
    {
     "data": {
      "text/html": [
       "<div>\n",
       "<style scoped>\n",
       "    .dataframe tbody tr th:only-of-type {\n",
       "        vertical-align: middle;\n",
       "    }\n",
       "\n",
       "    .dataframe tbody tr th {\n",
       "        vertical-align: top;\n",
       "    }\n",
       "\n",
       "    .dataframe thead th {\n",
       "        text-align: right;\n",
       "    }\n",
       "</style>\n",
       "<table border=\"1\" class=\"dataframe\">\n",
       "  <thead>\n",
       "    <tr style=\"text-align: right;\">\n",
       "      <th></th>\n",
       "      <th></th>\n",
       "    </tr>\n",
       "    <tr>\n",
       "      <th>profession</th>\n",
       "      <th>class</th>\n",
       "    </tr>\n",
       "  </thead>\n",
       "  <tbody>\n",
       "    <tr>\n",
       "      <th rowspan=\"3\" valign=\"top\">Вальцовщик</th>\n",
       "      <th>5</th>\n",
       "    </tr>\n",
       "    <tr>\n",
       "      <th>6</th>\n",
       "    </tr>\n",
       "    <tr>\n",
       "      <th>7</th>\n",
       "    </tr>\n",
       "    <tr>\n",
       "      <th>Контролер качества готовой продукции</th>\n",
       "      <th>7</th>\n",
       "    </tr>\n",
       "    <tr>\n",
       "      <th rowspan=\"4\" valign=\"top\">Нагревальщик металла</th>\n",
       "      <th>4</th>\n",
       "    </tr>\n",
       "    <tr>\n",
       "      <th>5</th>\n",
       "    </tr>\n",
       "    <tr>\n",
       "      <th>6</th>\n",
       "    </tr>\n",
       "    <tr>\n",
       "      <th>7</th>\n",
       "    </tr>\n",
       "    <tr>\n",
       "      <th>Огнеупорщик</th>\n",
       "      <th>4</th>\n",
       "    </tr>\n",
       "    <tr>\n",
       "      <th rowspan=\"2\" valign=\"top\">Оператор поста управления</th>\n",
       "      <th>4</th>\n",
       "    </tr>\n",
       "    <tr>\n",
       "      <th>5</th>\n",
       "    </tr>\n",
       "    <tr>\n",
       "      <th rowspan=\"2\" valign=\"top\">Подручный вальцовщика</th>\n",
       "      <th>3</th>\n",
       "    </tr>\n",
       "    <tr>\n",
       "      <th>4</th>\n",
       "    </tr>\n",
       "    <tr>\n",
       "      <th>Посадчик металла</th>\n",
       "      <th>4</th>\n",
       "    </tr>\n",
       "    <tr>\n",
       "      <th>Резчик горячего металла</th>\n",
       "      <th>4</th>\n",
       "    </tr>\n",
       "    <tr>\n",
       "      <th>Уборщик</th>\n",
       "      <th>3</th>\n",
       "    </tr>\n",
       "  </tbody>\n",
       "</table>\n",
       "</div>"
      ],
      "text/plain": [
       "Empty DataFrame\n",
       "Columns: []\n",
       "Index: [(Вальцовщик, 5), (Вальцовщик, 6), (Вальцовщик, 7), (Контролер качества готовой продукции, 7), (Нагревальщик металла, 4), (Нагревальщик металла, 5), (Нагревальщик металла, 6), (Нагревальщик металла, 7), (Огнеупорщик, 4), (Оператор поста управления, 4), (Оператор поста управления, 5), (Подручный вальцовщика, 3), (Подручный вальцовщика, 4), (Посадчик металла, 4), (Резчик горячего металла, 4), (Уборщик, 3)]"
      ]
     },
     "execution_count": 33,
     "metadata": {},
     "output_type": "execute_result"
    }
   ],
   "source": [
    "df[['profession', 'class']].groupby(by=['profession', 'class']).count()"
   ]
  },
  {
   "cell_type": "markdown",
   "id": "e24f6ef3",
   "metadata": {},
   "source": [
    "### Какое оборудование есть"
   ]
  },
  {
   "cell_type": "code",
   "execution_count": 34,
   "id": "b469a1b5",
   "metadata": {},
   "outputs": [
    {
     "data": {
      "text/plain": [
       "array(['Пилигримовые станы', 'Нагревательные печи',\n",
       "       'Нагревательные печи, кантовка', 'Калибровочный стан',\n",
       "       'Контрольно-измерительная аппаратура', 'Калибровочный стан, ГРП',\n",
       "       'Прошивной стан', 'Нагревательные печи, нагрев',\n",
       "       'Вспомогательные помещения'], dtype=object)"
      ]
     },
     "execution_count": 34,
     "metadata": {},
     "output_type": "execute_result"
    }
   ],
   "source": [
    "df['hardware'].unique()  "
   ]
  },
  {
   "cell_type": "markdown",
   "id": "61a3daac",
   "metadata": {},
   "source": [
    "#### Сочетание профессии, разряда и оборудования"
   ]
  },
  {
   "cell_type": "code",
   "execution_count": 36,
   "id": "ba09fb6d",
   "metadata": {},
   "outputs": [
    {
     "data": {
      "text/html": [
       "<div>\n",
       "<style scoped>\n",
       "    .dataframe tbody tr th:only-of-type {\n",
       "        vertical-align: middle;\n",
       "    }\n",
       "\n",
       "    .dataframe tbody tr th {\n",
       "        vertical-align: top;\n",
       "    }\n",
       "\n",
       "    .dataframe thead th {\n",
       "        text-align: right;\n",
       "    }\n",
       "</style>\n",
       "<table border=\"1\" class=\"dataframe\">\n",
       "  <thead>\n",
       "    <tr style=\"text-align: right;\">\n",
       "      <th></th>\n",
       "      <th></th>\n",
       "      <th></th>\n",
       "    </tr>\n",
       "    <tr>\n",
       "      <th>profession</th>\n",
       "      <th>class</th>\n",
       "      <th>hardware</th>\n",
       "    </tr>\n",
       "  </thead>\n",
       "  <tbody>\n",
       "    <tr>\n",
       "      <th rowspan=\"5\" valign=\"top\">Вальцовщик</th>\n",
       "      <th>5</th>\n",
       "      <th>Калибровочный стан</th>\n",
       "    </tr>\n",
       "    <tr>\n",
       "      <th rowspan=\"2\" valign=\"top\">6</th>\n",
       "      <th>Пилигримовые станы</th>\n",
       "    </tr>\n",
       "    <tr>\n",
       "      <th>Прошивной стан</th>\n",
       "    </tr>\n",
       "    <tr>\n",
       "      <th rowspan=\"2\" valign=\"top\">7</th>\n",
       "      <th>Пилигримовые станы</th>\n",
       "    </tr>\n",
       "    <tr>\n",
       "      <th>Прошивной стан</th>\n",
       "    </tr>\n",
       "    <tr>\n",
       "      <th>Контролер качества готовой продукции</th>\n",
       "      <th>7</th>\n",
       "      <th>Контрольно-измерительная аппаратура</th>\n",
       "    </tr>\n",
       "    <tr>\n",
       "      <th rowspan=\"5\" valign=\"top\">Нагревальщик металла</th>\n",
       "      <th>4</th>\n",
       "      <th>Нагревательные печи</th>\n",
       "    </tr>\n",
       "    <tr>\n",
       "      <th rowspan=\"2\" valign=\"top\">5</th>\n",
       "      <th>Нагревательные печи, кантовка</th>\n",
       "    </tr>\n",
       "    <tr>\n",
       "      <th>Нагревательные печи, нагрев</th>\n",
       "    </tr>\n",
       "    <tr>\n",
       "      <th>6</th>\n",
       "      <th>Нагревательные печи</th>\n",
       "    </tr>\n",
       "    <tr>\n",
       "      <th>7</th>\n",
       "      <th>Нагревательные печи</th>\n",
       "    </tr>\n",
       "    <tr>\n",
       "      <th>Огнеупорщик</th>\n",
       "      <th>4</th>\n",
       "      <th>Нагревательные печи</th>\n",
       "    </tr>\n",
       "    <tr>\n",
       "      <th rowspan=\"3\" valign=\"top\">Оператор поста управления</th>\n",
       "      <th>4</th>\n",
       "      <th>Калибровочный стан</th>\n",
       "    </tr>\n",
       "    <tr>\n",
       "      <th rowspan=\"2\" valign=\"top\">5</th>\n",
       "      <th>Калибровочный стан</th>\n",
       "    </tr>\n",
       "    <tr>\n",
       "      <th>Калибровочный стан, ГРП</th>\n",
       "    </tr>\n",
       "    <tr>\n",
       "      <th rowspan=\"3\" valign=\"top\">Подручный вальцовщика</th>\n",
       "      <th>3</th>\n",
       "      <th>Пилигримовые станы</th>\n",
       "    </tr>\n",
       "    <tr>\n",
       "      <th rowspan=\"2\" valign=\"top\">4</th>\n",
       "      <th>Пилигримовые станы</th>\n",
       "    </tr>\n",
       "    <tr>\n",
       "      <th>Прошивной стан</th>\n",
       "    </tr>\n",
       "    <tr>\n",
       "      <th>Посадчик металла</th>\n",
       "      <th>4</th>\n",
       "      <th>Нагревательные печи</th>\n",
       "    </tr>\n",
       "    <tr>\n",
       "      <th>Резчик горячего металла</th>\n",
       "      <th>4</th>\n",
       "      <th>Пилигримовые станы</th>\n",
       "    </tr>\n",
       "    <tr>\n",
       "      <th rowspan=\"2\" valign=\"top\">Уборщик</th>\n",
       "      <th rowspan=\"2\" valign=\"top\">3</th>\n",
       "      <th>Вспомогательные помещения</th>\n",
       "    </tr>\n",
       "    <tr>\n",
       "      <th>Пилигримовые станы</th>\n",
       "    </tr>\n",
       "  </tbody>\n",
       "</table>\n",
       "</div>"
      ],
      "text/plain": [
       "Empty DataFrame\n",
       "Columns: []\n",
       "Index: [(Вальцовщик, 5, Калибровочный стан), (Вальцовщик, 6, Пилигримовые станы), (Вальцовщик, 6, Прошивной стан), (Вальцовщик, 7, Пилигримовые станы), (Вальцовщик, 7, Прошивной стан), (Контролер качества готовой продукции, 7, Контрольно-измерительная аппаратура), (Нагревальщик металла, 4, Нагревательные печи), (Нагревальщик металла, 5, Нагревательные печи, кантовка), (Нагревальщик металла, 5, Нагревательные печи, нагрев), (Нагревальщик металла, 6, Нагревательные печи), (Нагревальщик металла, 7, Нагревательные печи), (Огнеупорщик, 4, Нагревательные печи), (Оператор поста управления, 4, Калибровочный стан), (Оператор поста управления, 5, Калибровочный стан), (Оператор поста управления, 5, Калибровочный стан, ГРП), (Подручный вальцовщика, 3, Пилигримовые станы), (Подручный вальцовщика, 4, Пилигримовые станы), (Подручный вальцовщика, 4, Прошивной стан), (Посадчик металла, 4, Нагревательные печи), (Резчик горячего металла, 4, Пилигримовые станы), (Уборщик, 3, Вспомогательные помещения), (Уборщик, 3, Пилигримовые станы)]"
      ]
     },
     "execution_count": 36,
     "metadata": {},
     "output_type": "execute_result"
    }
   ],
   "source": [
    "df[['profession', 'class','hardware']].groupby(by=['profession', 'class','hardware']).count()"
   ]
  },
  {
   "cell_type": "markdown",
   "id": "145d9e7c",
   "metadata": {},
   "source": [
    "### Вредность\n",
    "От \"0\" до \"22\"  \n",
    "Посмотрим на распределение значений"
   ]
  },
  {
   "cell_type": "code",
   "execution_count": 45,
   "id": "1fb325ac",
   "metadata": {},
   "outputs": [
    {
     "data": {
      "text/plain": [
       "<AxesSubplot:>"
      ]
     },
     "execution_count": 45,
     "metadata": {},
     "output_type": "execute_result"
    },
    {
     "data": {
      "image/png": "[encoded data removed]",
      "text/plain": [
       "<Figure size 432x288 with 1 Axes>"
      ]
     },
     "metadata": {
      "needs_background": "light"
     },
     "output_type": "display_data"
    }
   ],
   "source": [
    "df['harmfulness_score'].hist(bins=5)  "
   ]
  },
  {
   "cell_type": "markdown",
   "id": "9633dfc7",
   "metadata": {},
   "source": [
    "Преобладание участков с повышенной вредностью условий труда"
   ]
  },
  {
   "cell_type": "code",
   "execution_count": null,
   "id": "d06d7b48",
   "metadata": {},
   "outputs": [],
   "source": []
  }
 ],
 "metadata": {
  "kernelspec": {
   "display_name": "Python 3 (ipykernel)",
   "language": "python",
   "name": "python3"
  },
  "language_info": {
   "codemirror_mode": {
    "name": "ipython",
    "version": 3
   },
   "file_extension": ".py",
   "mimetype": "text/x-python",
   "name": "python",
   "nbconvert_exporter": "python",
   "pygments_lexer": "ipython3",
   "version": "3.9.7"
  },
  "toc": {
   "base_numbering": 1,
   "nav_menu": {},
   "number_sections": true,
   "sideBar": true,
   "skip_h1_title": true,
   "title_cell": "Table of Contents",
   "title_sidebar": "Contents",
   "toc_cell": true,
   "toc_position": {},
   "toc_section_display": true,
   "toc_window_display": true
  }
 },
 "nbformat": 4,
 "nbformat_minor": 5
}

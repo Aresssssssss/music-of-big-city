{
 "cells": [
  {
   "cell_type": "markdown",
   "metadata": {
    "id": "E0vqbgi9ay0H"
   },
   "source": [
    "# Яндекс.Музыка"
   ]
  },
  {
   "cell_type": "markdown",
   "metadata": {
    "id": "VUC88oWjTJw2"
   },
   "source": [
    "Сравнение Москвы и Петербурга окружено мифами. Например:\n",
    " * Москва — мегаполис, подчинённый жёсткому ритму рабочей недели;\n",
    " * Петербург — культурная столица, со своими вкусами.\n",
    "\n",
    "На данных Яндекс.Музыки вы сравните поведение пользователей двух столиц.\n",
    "\n",
    "**Цель исследования** — проверьте три гипотезы:\n",
    "1. Активность пользователей зависит от дня недели. Причём в Москве и Петербурге это проявляется по-разному.\n",
    "2. В понедельник утром в Москве преобладают одни жанры, а в Петербурге — другие. Так же и вечером пятницы преобладают разные жанры — в зависимости от города. \n",
    "3. Москва и Петербург предпочитают разные жанры музыки. В Москве чаще слушают поп-музыку, в Петербурге — русский рэп.\n",
    "\n",
    "**Ход исследования**\n",
    "\n",
    "Данные о поведении пользователей вы получите из файла `yandex_music_project.csv`. О качестве данных ничего не известно. Поэтому перед проверкой гипотез понадобится обзор данных. \n",
    "\n",
    "Вы проверите данные на ошибки и оцените их влияние на исследование. Затем, на этапе предобработки вы поищете возможность исправить самые критичные ошибки данных.\n",
    " \n",
    "Таким образом, исследование пройдёт в три этапа:\n",
    " 1. Обзор данных.\n",
    " 2. Предобработка данных.\n",
    " 3. Проверка гипотез.\n",
    "\n"
   ]
  },
  {
   "cell_type": "markdown",
   "metadata": {
    "id": "Ml1hmfXC_Zcs"
   },
   "source": [
    "## Обзор данных\n",
    "\n",
    "Составьте первое представление о данных Яндекс.Музыки.\n",
    "\n",
    "\n"
   ]
  },
  {
   "cell_type": "markdown",
   "metadata": {
    "id": "57eAOGIz_Zcs"
   },
   "source": [
    "Основной инструмент аналитика — `pandas`. Импортируйте эту библиотеку."
   ]
  },
  {
   "cell_type": "code",
   "execution_count": 1,
   "metadata": {
    "id": "AXN7PHPN_Zcs"
   },
   "outputs": [],
   "source": [
    "# импорт библиотеки pandas\n",
    "\n",
    "import pandas as pd"
   ]
  },
  {
   "cell_type": "markdown",
   "metadata": {
    "id": "SG23P8tt_Zcs"
   },
   "source": [
    "Прочитайте файл `yandex_music_project.csv` из папки `/datasets` и сохраните его в переменной `df`:"
   ]
  },
  {
   "cell_type": "code",
   "execution_count": 2,
   "metadata": {
    "id": "fFVu7vqh_Zct"
   },
   "outputs": [],
   "source": [
    "# чтение файла с данными и сохранение в df\n",
    "\n",
    "df = pd.read_csv('/datasets/yandex_music_project.csv')"
   ]
  },
  {
   "cell_type": "markdown",
   "metadata": {
    "id": "rDoOMd3uTqnZ"
   },
   "source": [
    "Выведите на экран первые десять строк таблицы:"
   ]
  },
  {
   "cell_type": "code",
   "execution_count": 3,
   "metadata": {
    "id": "oWTVX3gW_Zct"
   },
   "outputs": [
    {
     "data": {
      "text/html": [
       "<div>\n",
       "<style scoped>\n",
       "    .dataframe tbody tr th:only-of-type {\n",
       "        vertical-align: middle;\n",
       "    }\n",
       "\n",
       "    .dataframe tbody tr th {\n",
       "        vertical-align: top;\n",
       "    }\n",
       "\n",
       "    .dataframe thead th {\n",
       "        text-align: right;\n",
       "    }\n",
       "</style>\n",
       "<table border=\"1\" class=\"dataframe\">\n",
       "  <thead>\n",
       "    <tr style=\"text-align: right;\">\n",
       "      <th></th>\n",
       "      <th>userID</th>\n",
       "      <th>Track</th>\n",
       "      <th>artist</th>\n",
       "      <th>genre</th>\n",
       "      <th>City</th>\n",
       "      <th>time</th>\n",
       "      <th>Day</th>\n",
       "    </tr>\n",
       "  </thead>\n",
       "  <tbody>\n",
       "    <tr>\n",
       "      <td>0</td>\n",
       "      <td>FFB692EC</td>\n",
       "      <td>Kamigata To Boots</td>\n",
       "      <td>The Mass Missile</td>\n",
       "      <td>rock</td>\n",
       "      <td>Saint-Petersburg</td>\n",
       "      <td>20:28:33</td>\n",
       "      <td>Wednesday</td>\n",
       "    </tr>\n",
       "    <tr>\n",
       "      <td>1</td>\n",
       "      <td>55204538</td>\n",
       "      <td>Delayed Because of Accident</td>\n",
       "      <td>Andreas Rönnberg</td>\n",
       "      <td>rock</td>\n",
       "      <td>Moscow</td>\n",
       "      <td>14:07:09</td>\n",
       "      <td>Friday</td>\n",
       "    </tr>\n",
       "    <tr>\n",
       "      <td>2</td>\n",
       "      <td>20EC38</td>\n",
       "      <td>Funiculì funiculà</td>\n",
       "      <td>Mario Lanza</td>\n",
       "      <td>pop</td>\n",
       "      <td>Saint-Petersburg</td>\n",
       "      <td>20:58:07</td>\n",
       "      <td>Wednesday</td>\n",
       "    </tr>\n",
       "    <tr>\n",
       "      <td>3</td>\n",
       "      <td>A3DD03C9</td>\n",
       "      <td>Dragons in the Sunset</td>\n",
       "      <td>Fire + Ice</td>\n",
       "      <td>folk</td>\n",
       "      <td>Saint-Petersburg</td>\n",
       "      <td>08:37:09</td>\n",
       "      <td>Monday</td>\n",
       "    </tr>\n",
       "    <tr>\n",
       "      <td>4</td>\n",
       "      <td>E2DC1FAE</td>\n",
       "      <td>Soul People</td>\n",
       "      <td>Space Echo</td>\n",
       "      <td>dance</td>\n",
       "      <td>Moscow</td>\n",
       "      <td>08:34:34</td>\n",
       "      <td>Monday</td>\n",
       "    </tr>\n",
       "    <tr>\n",
       "      <td>5</td>\n",
       "      <td>842029A1</td>\n",
       "      <td>Преданная</td>\n",
       "      <td>IMPERVTOR</td>\n",
       "      <td>rusrap</td>\n",
       "      <td>Saint-Petersburg</td>\n",
       "      <td>13:09:41</td>\n",
       "      <td>Friday</td>\n",
       "    </tr>\n",
       "    <tr>\n",
       "      <td>6</td>\n",
       "      <td>4CB90AA5</td>\n",
       "      <td>True</td>\n",
       "      <td>Roman Messer</td>\n",
       "      <td>dance</td>\n",
       "      <td>Moscow</td>\n",
       "      <td>13:00:07</td>\n",
       "      <td>Wednesday</td>\n",
       "    </tr>\n",
       "    <tr>\n",
       "      <td>7</td>\n",
       "      <td>F03E1C1F</td>\n",
       "      <td>Feeling This Way</td>\n",
       "      <td>Polina Griffith</td>\n",
       "      <td>dance</td>\n",
       "      <td>Moscow</td>\n",
       "      <td>20:47:49</td>\n",
       "      <td>Wednesday</td>\n",
       "    </tr>\n",
       "    <tr>\n",
       "      <td>8</td>\n",
       "      <td>8FA1D3BE</td>\n",
       "      <td>И вновь продолжается бой</td>\n",
       "      <td>NaN</td>\n",
       "      <td>ruspop</td>\n",
       "      <td>Moscow</td>\n",
       "      <td>09:17:40</td>\n",
       "      <td>Friday</td>\n",
       "    </tr>\n",
       "    <tr>\n",
       "      <td>9</td>\n",
       "      <td>E772D5C0</td>\n",
       "      <td>Pessimist</td>\n",
       "      <td>NaN</td>\n",
       "      <td>dance</td>\n",
       "      <td>Saint-Petersburg</td>\n",
       "      <td>21:20:49</td>\n",
       "      <td>Wednesday</td>\n",
       "    </tr>\n",
       "  </tbody>\n",
       "</table>\n",
       "</div>"
      ],
      "text/plain": [
       "     userID                        Track            artist   genre  \\\n",
       "0  FFB692EC            Kamigata To Boots  The Mass Missile    rock   \n",
       "1  55204538  Delayed Because of Accident  Andreas Rönnberg    rock   \n",
       "2    20EC38            Funiculì funiculà       Mario Lanza     pop   \n",
       "3  A3DD03C9        Dragons in the Sunset        Fire + Ice    folk   \n",
       "4  E2DC1FAE                  Soul People        Space Echo   dance   \n",
       "5  842029A1                    Преданная         IMPERVTOR  rusrap   \n",
       "6  4CB90AA5                         True      Roman Messer   dance   \n",
       "7  F03E1C1F             Feeling This Way   Polina Griffith   dance   \n",
       "8  8FA1D3BE     И вновь продолжается бой               NaN  ruspop   \n",
       "9  E772D5C0                    Pessimist               NaN   dance   \n",
       "\n",
       "             City        time        Day  \n",
       "0  Saint-Petersburg  20:28:33  Wednesday  \n",
       "1            Moscow  14:07:09     Friday  \n",
       "2  Saint-Petersburg  20:58:07  Wednesday  \n",
       "3  Saint-Petersburg  08:37:09     Monday  \n",
       "4            Moscow  08:34:34     Monday  \n",
       "5  Saint-Petersburg  13:09:41     Friday  \n",
       "6            Moscow  13:00:07  Wednesday  \n",
       "7            Moscow  20:47:49  Wednesday  \n",
       "8            Moscow  09:17:40     Friday  \n",
       "9  Saint-Petersburg  21:20:49  Wednesday  "
      ]
     },
     "execution_count": 3,
     "metadata": {},
     "output_type": "execute_result"
    }
   ],
   "source": [
    "# получение первых 10 строк таблицы df\n",
    "\n",
    "df.head(10)"
   ]
  },
  {
   "cell_type": "markdown",
   "metadata": {
    "id": "EO73Kwic_Zct"
   },
   "source": [
    "Одной командой получить общую информацию о таблице:"
   ]
  },
  {
   "cell_type": "code",
   "execution_count": 4,
   "metadata": {
    "id": "DSf2kIb-_Zct"
   },
   "outputs": [
    {
     "name": "stdout",
     "output_type": "stream",
     "text": [
      "<class 'pandas.core.frame.DataFrame'>\n",
      "RangeIndex: 65079 entries, 0 to 65078\n",
      "Data columns (total 7 columns):\n",
      "  userID    65079 non-null object\n",
      "Track       63848 non-null object\n",
      "artist      57876 non-null object\n",
      "genre       63881 non-null object\n",
      "  City      65079 non-null object\n",
      "time        65079 non-null object\n",
      "Day         65079 non-null object\n",
      "dtypes: object(7)\n",
      "memory usage: 3.5+ MB\n"
     ]
    }
   ],
   "source": [
    "# получение общей информации о данных в таблице df\n",
    "\n",
    "df.info()"
   ]
  },
  {
   "cell_type": "markdown",
   "metadata": {
    "id": "TaQ2Iwbr_Zct"
   },
   "source": [
    "Итак, в таблице семь столбцов. Тип данных во всех столбцах — `object`.\n",
    "\n",
    "Согласно документации к данным:\n",
    "* `userID` — идентификатор пользователя;\n",
    "* `Track` — название трека;  \n",
    "* `artist` — имя исполнителя;\n",
    "* `genre` — название жанра;\n",
    "* `City` — город пользователя;\n",
    "* `time` — время начала прослушивания;\n",
    "* `Day` — день недели.\n",
    "\n",
    "В названиях колонок видны три нарушения стиля:\n",
    "1. Строчные буквы сочетаются с прописными.\n",
    "2. Встречаются пробелы.\n",
    "3. Несколько слов в одном названии записаны без разделения\n",
    "\n",
    "\n",
    "\n",
    "Количество значений в столбцах различается. Значит, в данных есть пропущенные значения.\n"
   ]
  },
  {
   "cell_type": "markdown",
   "metadata": {
    "id": "MCB6-dXG_Zct"
   },
   "source": [
    "**Выводы**\n",
    "\n",
    "В каждой строке таблицы — данные о прослушанном треке. Часть колонок описывает саму композицию: название, исполнителя и жанр. Остальные данные рассказывают о пользователе: из какого он города, когда он слушал музыку. \n",
    "\n",
    "Предварительно можно утверждать, что, данных достаточно для проверки гипотез. Но встречаются пропуски в данных, а в названиях колонок — расхождения с хорошим стилем.\n",
    "\n",
    "Чтобы двигаться дальше, нужно устранить проблемы в данных."
   ]
  },
  {
   "cell_type": "markdown",
   "metadata": {
    "id": "SjYF6Ub9_Zct"
   },
   "source": [
    "## Предобработка данных\n",
    "Исправьте стиль в заголовках столбцов, исключите пропуски. Затем проверьте данные на дубликаты."
   ]
  },
  {
   "cell_type": "markdown",
   "metadata": {
    "id": "dIaKXr29_Zct"
   },
   "source": [
    "### Стиль заголовков\n",
    "Выведите на экран названия столбцов:"
   ]
  },
  {
   "cell_type": "code",
   "execution_count": 5,
   "metadata": {
    "id": "oKOTdF_Q_Zct"
   },
   "outputs": [
    {
     "data": {
      "text/plain": [
       "Index(['  userID', 'Track', 'artist', 'genre', '  City  ', 'time', 'Day'], dtype='object')"
      ]
     },
     "metadata": {},
     "output_type": "display_data"
    }
   ],
   "source": [
    "# перечень названий столбцов таблицы df\n",
    "\n",
    "display(df.columns)"
   ]
  },
  {
   "cell_type": "markdown",
   "metadata": {
    "id": "zj5534cv_Zct"
   },
   "source": [
    "Приведите названия в соответствие с хорошим стилем:\n",
    "* несколько слов в названии запишите в «змеином_регистре»,\n",
    "* все символы сделайте строчными,\n",
    "* устраните пробелы.\n",
    "\n",
    "Для этого переименуйте колонки так:\n",
    "* `'  userID'` → `'user_id'`;\n",
    "* `'Track'` → `'track'`;\n",
    "* `'  City  '` → `'city'`;\n",
    "* `'Day'` → `'day'`."
   ]
  },
  {
   "cell_type": "code",
   "execution_count": 6,
   "metadata": {
    "id": "ISlFqs5y_Zct"
   },
   "outputs": [],
   "source": [
    "# переименование столбцов\n",
    "\n",
    "df = df.rename(columns={'  userID':'user_id', 'Track':'track', '  City  ':'city', 'Day':'day'})"
   ]
  },
  {
   "cell_type": "markdown",
   "metadata": {
    "id": "1dqbh00J_Zct"
   },
   "source": [
    "Проверьте результат. Для этого ещё раз выведите на экран названия столбцов:"
   ]
  },
  {
   "cell_type": "code",
   "execution_count": 7,
   "metadata": {
    "id": "d4NOAmTW_Zct"
   },
   "outputs": [
    {
     "data": {
      "text/plain": [
       "Index(['user_id', 'track', 'artist', 'genre', 'city', 'time', 'day'], dtype='object')"
      ]
     },
     "metadata": {},
     "output_type": "display_data"
    }
   ],
   "source": [
    "# проверка результатов - перечень названий столбцов\n",
    "\n",
    "display(df.columns)"
   ]
  },
  {
   "cell_type": "markdown",
   "metadata": {
    "id": "5ISfbcfY_Zct"
   },
   "source": [
    "### Пропуски значений\n",
    "Сначала посчитайте, сколько в таблице пропущенных значений. Для этого достаточно двух методов `pandas`:"
   ]
  },
  {
   "cell_type": "code",
   "execution_count": 8,
   "metadata": {
    "id": "RskX29qr_Zct"
   },
   "outputs": [
    {
     "data": {
      "text/plain": [
       "user_id       0\n",
       "track      1231\n",
       "artist     7203\n",
       "genre      1198\n",
       "city          0\n",
       "time          0\n",
       "day           0\n",
       "dtype: int64"
      ]
     },
     "metadata": {},
     "output_type": "display_data"
    }
   ],
   "source": [
    "# подсчёт пропусков\n",
    "\n",
    "display(df.isna().sum())"
   ]
  },
  {
   "cell_type": "markdown",
   "metadata": {
    "id": "qubhgnlO_Zct"
   },
   "source": [
    "Не все пропущенные значения влияют на исследование. Так в `track` и `artist` пропуски не важны для вашей работы. Достаточно заменить их явными обозначениями.\n",
    "\n",
    "Но пропуски в `genre` могут помешать сравнению музыкальных вкусов в Москве и Санкт-Петербурге. На практике было бы правильно установить причину пропусков и восстановить данные. Такой возможности нет в учебном проекте. Придётся:\n",
    "* заполнить и эти пропуски явными обозначениями,\n",
    "* оценить, насколько они повредят расчётам. "
   ]
  },
  {
   "cell_type": "markdown",
   "metadata": {
    "id": "fSv2laPA_Zct"
   },
   "source": [
    "Замените пропущенные значения в столбцах `track`, `artist` и `genre` на строку `'unknown'`. Для этого создайте список `columns_to_replace`, переберите его элементы циклом `for` и для каждого столбца выполните замену пропущенных значений:"
   ]
  },
  {
   "cell_type": "code",
   "execution_count": 9,
   "metadata": {
    "id": "KplB5qWs_Zct"
   },
   "outputs": [],
   "source": [
    "# перебор названий столбцов в цикле и замена пропущенных значений на 'unknown'\n",
    "\n",
    "columns_to_replace = ['track', 'artist', 'genre']\n",
    "\n",
    "for column in columns_to_replace:\n",
    "    df[column] = df[column].fillna('unknown')"
   ]
  },
  {
   "cell_type": "markdown",
   "metadata": {
    "id": "Ilsm-MZo_Zct"
   },
   "source": [
    "Убедитесь, что в таблице не осталось пропусков. Для этого ещё раз посчитайте пропущенные значения."
   ]
  },
  {
   "cell_type": "code",
   "execution_count": 10,
   "metadata": {
    "id": "Tq4nYRX4_Zct"
   },
   "outputs": [
    {
     "data": {
      "text/plain": [
       "user_id    0\n",
       "track      0\n",
       "artist     0\n",
       "genre      0\n",
       "city       0\n",
       "time       0\n",
       "day        0\n",
       "dtype: int64"
      ]
     },
     "metadata": {},
     "output_type": "display_data"
    }
   ],
   "source": [
    "# подсчёт пропусков\n",
    "\n",
    "display(df.isna().sum())"
   ]
  },
  {
   "cell_type": "markdown",
   "metadata": {
    "id": "BWKRtBJ3_Zct"
   },
   "source": [
    "### Дубликаты\n",
    "Посчитайте явные дубликаты в таблице одной командой:"
   ]
  },
  {
   "cell_type": "code",
   "execution_count": 11,
   "metadata": {
    "id": "36eES_S0_Zct"
   },
   "outputs": [
    {
     "data": {
      "text/plain": [
       "3826"
      ]
     },
     "metadata": {},
     "output_type": "display_data"
    }
   ],
   "source": [
    "# подсчёт явных дубликатов\n",
    "\n",
    "display(df.duplicated().sum())"
   ]
  },
  {
   "cell_type": "markdown",
   "metadata": {
    "id": "Ot25h6XR_Zct"
   },
   "source": [
    "Вызовите специальный метод `pandas`, чтобы удалить явные дубликаты:"
   ]
  },
  {
   "cell_type": "code",
   "execution_count": 12,
   "metadata": {
    "id": "exFHq6tt_Zct"
   },
   "outputs": [],
   "source": [
    "# удаление явных дубликатов (с удалением старых индексов и формированием новых)\n",
    "\n",
    "df = df.drop_duplicates().reset_index(drop=True)"
   ]
  },
  {
   "cell_type": "markdown",
   "metadata": {
    "id": "Im2YwBEG_Zct"
   },
   "source": [
    "Ещё раз посчитайте явные дубликаты в таблице — убедитесь, что полностью от них избавились:"
   ]
  },
  {
   "cell_type": "code",
   "execution_count": 13,
   "metadata": {
    "id": "-8PuNWQ0_Zct"
   },
   "outputs": [
    {
     "data": {
      "text/plain": [
       "0"
      ]
     },
     "metadata": {},
     "output_type": "display_data"
    }
   ],
   "source": [
    "# проверка на отсутствие дубликатов\n",
    "\n",
    "display(df.duplicated().sum())"
   ]
  },
  {
   "cell_type": "markdown",
   "metadata": {
    "id": "QlFBsxAr_Zct"
   },
   "source": [
    "Теперь избавьтесь от неявных дубликатов в колонке `genre`. Например, название одного и того же жанра может быть записано немного по-разному. Такие ошибки тоже повлияют на результат исследования."
   ]
  },
  {
   "cell_type": "markdown",
   "metadata": {
    "id": "eSjWwsOh_Zct"
   },
   "source": [
    "Выведите на экран список уникальных названий жанров, отсортированный в алфавитном порядке. Для этого:\n",
    "* извлеките нужный столбец датафрейма, \n",
    "* примените к нему метод сортировки,\n",
    "* для отсортированного столбца вызовите метод, который вернёт уникальные значения из столбца."
   ]
  },
  {
   "cell_type": "code",
   "execution_count": 14,
   "metadata": {
    "id": "JIUcqzZN_Zct"
   },
   "outputs": [
    {
     "data": {
      "text/plain": [
       "array(['acid', 'acoustic', 'action', 'adult', 'africa', 'afrikaans',\n",
       "       'alternative', 'alternativepunk', 'ambient', 'americana',\n",
       "       'animated', 'anime', 'arabesk', 'arabic', 'arena',\n",
       "       'argentinetango', 'art', 'audiobook', 'author', 'avantgarde',\n",
       "       'axé', 'baile', 'balkan', 'beats', 'bigroom', 'black', 'bluegrass',\n",
       "       'blues', 'bollywood', 'bossa', 'brazilian', 'breakbeat', 'breaks',\n",
       "       'broadway', 'cantautori', 'cantopop', 'canzone', 'caribbean',\n",
       "       'caucasian', 'celtic', 'chamber', 'chanson', 'children', 'chill',\n",
       "       'chinese', 'choral', 'christian', 'christmas', 'classical',\n",
       "       'classicmetal', 'club', 'colombian', 'comedy', 'conjazz',\n",
       "       'contemporary', 'country', 'cuban', 'dance', 'dancehall',\n",
       "       'dancepop', 'dark', 'death', 'deep', 'deutschrock', 'deutschspr',\n",
       "       'dirty', 'disco', 'dnb', 'documentary', 'downbeat', 'downtempo',\n",
       "       'drum', 'dub', 'dubstep', 'eastern', 'easy', 'electronic',\n",
       "       'electropop', 'emo', 'entehno', 'epicmetal', 'estrada', 'ethnic',\n",
       "       'eurofolk', 'european', 'experimental', 'extrememetal', 'fado',\n",
       "       'fairytail', 'film', 'fitness', 'flamenco', 'folk', 'folklore',\n",
       "       'folkmetal', 'folkrock', 'folktronica', 'forró', 'frankreich',\n",
       "       'französisch', 'french', 'funk', 'future', 'gangsta', 'garage',\n",
       "       'german', 'ghazal', 'gitarre', 'glitch', 'gospel', 'gothic',\n",
       "       'grime', 'grunge', 'gypsy', 'handsup', \"hard'n'heavy\", 'hardcore',\n",
       "       'hardstyle', 'hardtechno', 'hip', 'hip-hop', 'hiphop',\n",
       "       'historisch', 'holiday', 'hop', 'horror', 'house', 'hymn', 'idm',\n",
       "       'independent', 'indian', 'indie', 'indipop', 'industrial',\n",
       "       'inspirational', 'instrumental', 'international', 'irish', 'jam',\n",
       "       'japanese', 'jazz', 'jewish', 'jpop', 'jungle', 'k-pop',\n",
       "       'karadeniz', 'karaoke', 'kayokyoku', 'korean', 'laiko', 'latin',\n",
       "       'latino', 'leftfield', 'local', 'lounge', 'loungeelectronic',\n",
       "       'lovers', 'malaysian', 'mandopop', 'marschmusik', 'meditative',\n",
       "       'mediterranean', 'melodic', 'metal', 'metalcore', 'mexican',\n",
       "       'middle', 'minimal', 'miscellaneous', 'modern', 'mood', 'mpb',\n",
       "       'muslim', 'native', 'neoklassik', 'neue', 'new', 'newage',\n",
       "       'newwave', 'nu', 'nujazz', 'numetal', 'oceania', 'old', 'opera',\n",
       "       'orchestral', 'other', 'piano', 'podcasts', 'pop', 'popdance',\n",
       "       'popelectronic', 'popeurodance', 'poprussian', 'post',\n",
       "       'posthardcore', 'postrock', 'power', 'progmetal', 'progressive',\n",
       "       'psychedelic', 'punjabi', 'punk', 'quebecois', 'ragga', 'ram',\n",
       "       'rancheras', 'rap', 'rave', 'reggae', 'reggaeton', 'regional',\n",
       "       'relax', 'religious', 'retro', 'rhythm', 'rnb', 'rnr', 'rock',\n",
       "       'rockabilly', 'rockalternative', 'rockindie', 'rockother',\n",
       "       'romance', 'roots', 'ruspop', 'rusrap', 'rusrock', 'russian',\n",
       "       'salsa', 'samba', 'scenic', 'schlager', 'self', 'sertanejo',\n",
       "       'shanson', 'shoegazing', 'showtunes', 'singer', 'ska', 'skarock',\n",
       "       'slow', 'smooth', 'soft', 'soul', 'soulful', 'sound', 'soundtrack',\n",
       "       'southern', 'specialty', 'speech', 'spiritual', 'sport',\n",
       "       'stonerrock', 'surf', 'swing', 'synthpop', 'synthrock',\n",
       "       'sängerportrait', 'tango', 'tanzorchester', 'taraftar', 'tatar',\n",
       "       'tech', 'techno', 'teen', 'thrash', 'top', 'traditional',\n",
       "       'tradjazz', 'trance', 'tribal', 'trip', 'triphop', 'tropical',\n",
       "       'türk', 'türkçe', 'ukrrock', 'unknown', 'urban', 'uzbek',\n",
       "       'variété', 'vi', 'videogame', 'vocal', 'western', 'world',\n",
       "       'worldbeat', 'ïîï', 'электроника'], dtype=object)"
      ]
     },
     "metadata": {},
     "output_type": "display_data"
    }
   ],
   "source": [
    "# Просмотр уникальных названий жанров\n",
    "\n",
    "display(df.loc[:,'genre'].sort_values().unique())"
   ]
  },
  {
   "cell_type": "markdown",
   "metadata": {
    "id": "qej-Qmuo_Zct"
   },
   "source": [
    "Просмотрите список и найдите неявные дубликаты названия `hiphop`. Это могут быть названия с ошибками или альтернативные названия того же жанра.\n",
    "\n",
    "Вы увидите следующие неявные дубликаты:\n",
    "* *hip*,\n",
    "* *hop*,\n",
    "* *hip-hop*.\n",
    "\n",
    "Чтобы очистить от них таблицу, напишите функцию `replace_wrong_genres()` с двумя параметрами: \n",
    "* `wrong_genres` — список дубликатов,\n",
    "* `correct_genre` — строка с правильным значением.\n",
    "\n",
    "Функция должна исправить колонку `genre` в таблице `df`: заменить каждое значение из списка `wrong_genres` на значение из `correct_genre`."
   ]
  },
  {
   "cell_type": "code",
   "execution_count": 15,
   "metadata": {
    "id": "ErNDkmns_Zct"
   },
   "outputs": [],
   "source": [
    "# Функция для замены неявных дубликатов\n",
    "\n",
    "def replace_wrong_genres(wrong_genres, correct_genre):\n",
    "    for wrong_genre in wrong_genres:\n",
    "        df['genre'] = df['genre'].replace(wrong_genre, correct_genre)"
   ]
  },
  {
   "cell_type": "markdown",
   "metadata": {
    "id": "aDoBJxbA_Zct"
   },
   "source": [
    "Вызовите `replace_wrong_genres()` и передайте ей такие аргументы, чтобы она устранила неявные дубликаты: вместо `hip`, `hop` и `hip-hop` в таблице должно быть значение `hiphop`:"
   ]
  },
  {
   "cell_type": "code",
   "execution_count": 16,
   "metadata": {
    "id": "YN5i2hpmSo09"
   },
   "outputs": [],
   "source": [
    "# Устранение неявных дубликатов\n",
    "\n",
    "wrong_genres = ['hip', 'hop', 'hip-hop']\n",
    "correct_genre = 'hiphop'\n",
    "replace_wrong_genres(wrong_genres, correct_genre)"
   ]
  },
  {
   "cell_type": "markdown",
   "metadata": {
    "id": "zQKF16_RG15m"
   },
   "source": [
    "Проверьте, что заменили неправильные названия:\n",
    "\n",
    "*   hip\n",
    "*   hop\n",
    "*   hip-hop\n",
    "\n",
    "Выведите отсортированный список уникальных значений столбца `genre`:"
   ]
  },
  {
   "cell_type": "code",
   "execution_count": 17,
   "metadata": {
    "id": "wvixALnFG15m"
   },
   "outputs": [
    {
     "data": {
      "text/plain": [
       "array(['acid', 'acoustic', 'action', 'adult', 'africa', 'afrikaans',\n",
       "       'alternative', 'alternativepunk', 'ambient', 'americana',\n",
       "       'animated', 'anime', 'arabesk', 'arabic', 'arena',\n",
       "       'argentinetango', 'art', 'audiobook', 'author', 'avantgarde',\n",
       "       'axé', 'baile', 'balkan', 'beats', 'bigroom', 'black', 'bluegrass',\n",
       "       'blues', 'bollywood', 'bossa', 'brazilian', 'breakbeat', 'breaks',\n",
       "       'broadway', 'cantautori', 'cantopop', 'canzone', 'caribbean',\n",
       "       'caucasian', 'celtic', 'chamber', 'chanson', 'children', 'chill',\n",
       "       'chinese', 'choral', 'christian', 'christmas', 'classical',\n",
       "       'classicmetal', 'club', 'colombian', 'comedy', 'conjazz',\n",
       "       'contemporary', 'country', 'cuban', 'dance', 'dancehall',\n",
       "       'dancepop', 'dark', 'death', 'deep', 'deutschrock', 'deutschspr',\n",
       "       'dirty', 'disco', 'dnb', 'documentary', 'downbeat', 'downtempo',\n",
       "       'drum', 'dub', 'dubstep', 'eastern', 'easy', 'electronic',\n",
       "       'electropop', 'emo', 'entehno', 'epicmetal', 'estrada', 'ethnic',\n",
       "       'eurofolk', 'european', 'experimental', 'extrememetal', 'fado',\n",
       "       'fairytail', 'film', 'fitness', 'flamenco', 'folk', 'folklore',\n",
       "       'folkmetal', 'folkrock', 'folktronica', 'forró', 'frankreich',\n",
       "       'französisch', 'french', 'funk', 'future', 'gangsta', 'garage',\n",
       "       'german', 'ghazal', 'gitarre', 'glitch', 'gospel', 'gothic',\n",
       "       'grime', 'grunge', 'gypsy', 'handsup', \"hard'n'heavy\", 'hardcore',\n",
       "       'hardstyle', 'hardtechno', 'hiphop', 'historisch', 'holiday',\n",
       "       'horror', 'house', 'hymn', 'idm', 'independent', 'indian', 'indie',\n",
       "       'indipop', 'industrial', 'inspirational', 'instrumental',\n",
       "       'international', 'irish', 'jam', 'japanese', 'jazz', 'jewish',\n",
       "       'jpop', 'jungle', 'k-pop', 'karadeniz', 'karaoke', 'kayokyoku',\n",
       "       'korean', 'laiko', 'latin', 'latino', 'leftfield', 'local',\n",
       "       'lounge', 'loungeelectronic', 'lovers', 'malaysian', 'mandopop',\n",
       "       'marschmusik', 'meditative', 'mediterranean', 'melodic', 'metal',\n",
       "       'metalcore', 'mexican', 'middle', 'minimal', 'miscellaneous',\n",
       "       'modern', 'mood', 'mpb', 'muslim', 'native', 'neoklassik', 'neue',\n",
       "       'new', 'newage', 'newwave', 'nu', 'nujazz', 'numetal', 'oceania',\n",
       "       'old', 'opera', 'orchestral', 'other', 'piano', 'podcasts', 'pop',\n",
       "       'popdance', 'popelectronic', 'popeurodance', 'poprussian', 'post',\n",
       "       'posthardcore', 'postrock', 'power', 'progmetal', 'progressive',\n",
       "       'psychedelic', 'punjabi', 'punk', 'quebecois', 'ragga', 'ram',\n",
       "       'rancheras', 'rap', 'rave', 'reggae', 'reggaeton', 'regional',\n",
       "       'relax', 'religious', 'retro', 'rhythm', 'rnb', 'rnr', 'rock',\n",
       "       'rockabilly', 'rockalternative', 'rockindie', 'rockother',\n",
       "       'romance', 'roots', 'ruspop', 'rusrap', 'rusrock', 'russian',\n",
       "       'salsa', 'samba', 'scenic', 'schlager', 'self', 'sertanejo',\n",
       "       'shanson', 'shoegazing', 'showtunes', 'singer', 'ska', 'skarock',\n",
       "       'slow', 'smooth', 'soft', 'soul', 'soulful', 'sound', 'soundtrack',\n",
       "       'southern', 'specialty', 'speech', 'spiritual', 'sport',\n",
       "       'stonerrock', 'surf', 'swing', 'synthpop', 'synthrock',\n",
       "       'sängerportrait', 'tango', 'tanzorchester', 'taraftar', 'tatar',\n",
       "       'tech', 'techno', 'teen', 'thrash', 'top', 'traditional',\n",
       "       'tradjazz', 'trance', 'tribal', 'trip', 'triphop', 'tropical',\n",
       "       'türk', 'türkçe', 'ukrrock', 'unknown', 'urban', 'uzbek',\n",
       "       'variété', 'vi', 'videogame', 'vocal', 'western', 'world',\n",
       "       'worldbeat', 'ïîï', 'электроника'], dtype=object)"
      ]
     },
     "metadata": {},
     "output_type": "display_data"
    }
   ],
   "source": [
    "# Проверка на неявные дубликаты\n",
    "\n",
    "display(df.loc[:,'genre'].sort_values().unique())"
   ]
  },
  {
   "cell_type": "markdown",
   "metadata": {
    "id": "jz6a9-7HQUDd"
   },
   "source": [
    "**Выводы**\n",
    "\n",
    "Предобработка обнаружила три проблемы в данных:\n",
    "\n",
    "- нарушения в стиле заголовков,\n",
    "- пропущенные значения,\n",
    "- дубликаты — явные и неявные.\n",
    "\n",
    "Вы исправили заголовки, чтобы упростить работу с таблицей. Без дубликатов исследование станет более точным.\n",
    "\n",
    "Пропущенные значения вы заменили на `'unknown'`. Ещё предстоит увидеть, не повредят ли исследованию пропуски в колонке `genre`.\n",
    "\n",
    "Теперь можно перейти к проверке гипотез. "
   ]
  },
  {
   "cell_type": "markdown",
   "metadata": {
    "id": "WttZHXH0SqKk"
   },
   "source": [
    "## Проверка гипотез"
   ]
  },
  {
   "cell_type": "markdown",
   "metadata": {
    "id": "Im936VVi_Zcu"
   },
   "source": [
    "### Сравнение поведения пользователей двух столиц"
   ]
  },
  {
   "cell_type": "markdown",
   "metadata": {
    "id": "nwt_MuaL_Zcu"
   },
   "source": [
    "Первая гипотеза утверждает, что пользователи по-разному слушают музыку в Москве и Санкт-Петербурге. Проверьте это предположение по данным о трёх днях недели — понедельнике, среде и пятнице. Для этого:\n",
    "\n",
    "* Разделите пользователей Москвы и Санкт-Петербурга\n",
    "* Сравните, сколько треков послушала каждая группа пользователей в понедельник, среду и пятницу.\n"
   ]
  },
  {
   "cell_type": "markdown",
   "metadata": {
    "id": "8Dw_YMmT_Zcu"
   },
   "source": [
    "Для тренировки сначала выполните каждый из расчётов по отдельности. \n",
    "\n",
    "Оцените активность пользователей в каждом городе. Сгруппируйте данные по городу и посчитайте прослушивания в каждой группе.\n",
    "\n"
   ]
  },
  {
   "cell_type": "code",
   "execution_count": 18,
   "metadata": {
    "id": "0_Qs96oh_Zcu"
   },
   "outputs": [
    {
     "data": {
      "text/plain": [
       "city\n",
       "Moscow              42741\n",
       "Saint-Petersburg    18512\n",
       "Name: track, dtype: int64"
      ]
     },
     "metadata": {},
     "output_type": "display_data"
    }
   ],
   "source": [
    "# Подсчёт прослушиваний в каждом городе\n",
    "\n",
    "display(df.groupby('city')['track'].count())"
   ]
  },
  {
   "cell_type": "markdown",
   "metadata": {
    "id": "dzli3w8o_Zcu"
   },
   "source": [
    "В Москве прослушиваний больше, чем в Петербурге. Из этого не следует, что московские пользователи чаще слушают музыку. Просто самих пользователей в Москве больше.\n",
    "\n",
    "Теперь сгруппируйте данные по дню недели и подсчитайте прослушивания в понедельник, среду и пятницу. Учтите, что в данных есть информация только о прослушиваниях только за эти дни.\n"
   ]
  },
  {
   "cell_type": "code",
   "execution_count": 19,
   "metadata": {
    "id": "uZMKjiJz_Zcu"
   },
   "outputs": [
    {
     "data": {
      "text/plain": [
       "day\n",
       "Friday       21840\n",
       "Monday       21354\n",
       "Wednesday    18059\n",
       "Name: track, dtype: int64"
      ]
     },
     "metadata": {},
     "output_type": "display_data"
    }
   ],
   "source": [
    "# Подсчёт прослушиваний в каждый из трёх дней\n",
    "\n",
    "display(df.groupby('day')['track'].count())"
   ]
  },
  {
   "cell_type": "markdown",
   "metadata": {
    "id": "cC2tNrlL_Zcu"
   },
   "source": [
    "В среднем пользователи из двух городов менее активны по средам. Но картина может измениться, если рассмотреть каждый город в отдельности."
   ]
  },
  {
   "cell_type": "markdown",
   "metadata": {
    "id": "POzs8bGa_Zcu"
   },
   "source": [
    "Вы видели, как работает группировка по городу и по дням недели. Теперь напишите функцию, которая объединит два эти расчёта.\n",
    "\n",
    "Создайте функцию `number_tracks()`, которая посчитает прослушивания для заданного дня и города. Ей понадобятся два параметра:\n",
    "* день недели,\n",
    "* название города.\n",
    "\n",
    "В функции сохраните в переменную строки исходной таблицы, у которых значение:\n",
    "  * в колонке `day` равно параметру `day`,\n",
    "  * в колонке `city` равно параметру `city`.\n",
    "\n",
    "Для этого примените последовательную фильтрацию с логической индексацией.\n",
    "\n",
    "Затем посчитайте значения в столбце `user_id` получившейся таблицы. Результат сохраните в новую переменную. Верните эту переменную из функции."
   ]
  },
  {
   "cell_type": "code",
   "execution_count": 20,
   "metadata": {
    "id": "Nz3GdQB1_Zcu"
   },
   "outputs": [],
   "source": [
    "# <создание функции number_tracks()>\n",
    "# Объявляется функция с двумя параметрами: day, city.\n",
    "def number_tracks(day, city):\n",
    "# В переменной track_list сохраняются те строки таблицы df, для которых\n",
    "# значение в столбце 'day' равно параметру day и одновременно значение\n",
    "# в столбце 'city' равно параметру city (используйте последовательную фильтрацию\n",
    "# с помощью логической индексации).\n",
    "    track_list = df[df['day'] == day]  \n",
    "    track_list = track_list[track_list['city'] == city]\n",
    "# В переменной track_list_count сохраняется число значений столбца 'user_id',\n",
    "# рассчитанное методом count() для таблицы track_list.\n",
    "# Функция возвращает число - значение track_list_count.\n",
    "    track_list_count = track_list.groupby('city')['user_id'].count() \n",
    "# Функция для подсчёта прослушиваний для конкретного города и дня.\n",
    "    return track_list_count\n",
    "\n",
    "# С помощью последовательной фильтрации с логической индексацией она \n",
    "# сначала получит из исходной таблицы строки с нужным днём,\n",
    "# затем из результата отфильтрует строки с нужным городом,\n",
    "# методом count() посчитает количество значений в колонке user_id. \n",
    "# Это количество функция вернёт в качестве результата"
   ]
  },
  {
   "cell_type": "markdown",
   "metadata": {
    "id": "ytf7xFrFJQ2r"
   },
   "source": [
    "Вызовите `number_tracks()` шесть раз, меняя значение параметров — так, чтобы получить данные для каждого города в каждый из трёх дней."
   ]
  },
  {
   "cell_type": "code",
   "execution_count": 21,
   "metadata": {
    "id": "rJcRATNQ_Zcu"
   },
   "outputs": [
    {
     "data": {
      "text/plain": [
       "city\n",
       "Moscow    15740\n",
       "Name: user_id, dtype: int64"
      ]
     },
     "execution_count": 21,
     "metadata": {},
     "output_type": "execute_result"
    }
   ],
   "source": [
    "# количество прослушиваний в Москве по понедельникам\n",
    "\n",
    "number_tracks('Monday', 'Moscow')"
   ]
  },
  {
   "cell_type": "code",
   "execution_count": 22,
   "metadata": {
    "id": "hq_ncZ5T_Zcu"
   },
   "outputs": [
    {
     "data": {
      "text/plain": [
       "city\n",
       "Saint-Petersburg    5614\n",
       "Name: user_id, dtype: int64"
      ]
     },
     "execution_count": 22,
     "metadata": {},
     "output_type": "execute_result"
    }
   ],
   "source": [
    "# количество прослушиваний в Санкт-Петербурге по понедельникам\n",
    "\n",
    "number_tracks('Monday', 'Saint-Petersburg')"
   ]
  },
  {
   "cell_type": "code",
   "execution_count": 23,
   "metadata": {
    "id": "_NTy2VPU_Zcu"
   },
   "outputs": [
    {
     "data": {
      "text/plain": [
       "city\n",
       "Moscow    11056\n",
       "Name: user_id, dtype: int64"
      ]
     },
     "execution_count": 23,
     "metadata": {},
     "output_type": "execute_result"
    }
   ],
   "source": [
    "# количество прослушиваний в Москве по средам\n",
    "\n",
    "number_tracks('Wednesday', 'Moscow')"
   ]
  },
  {
   "cell_type": "code",
   "execution_count": 24,
   "metadata": {
    "id": "j2y3TAwo_Zcu"
   },
   "outputs": [
    {
     "data": {
      "text/plain": [
       "city\n",
       "Saint-Petersburg    7003\n",
       "Name: user_id, dtype: int64"
      ]
     },
     "execution_count": 24,
     "metadata": {},
     "output_type": "execute_result"
    }
   ],
   "source": [
    "# количество прослушиваний в Санкт-Петербурге по средам\n",
    "\n",
    "number_tracks('Wednesday', 'Saint-Petersburg')"
   ]
  },
  {
   "cell_type": "code",
   "execution_count": 25,
   "metadata": {
    "id": "vYDw5u_K_Zcu"
   },
   "outputs": [
    {
     "data": {
      "text/plain": [
       "city\n",
       "Moscow    15945\n",
       "Name: user_id, dtype: int64"
      ]
     },
     "execution_count": 25,
     "metadata": {},
     "output_type": "execute_result"
    }
   ],
   "source": [
    "# количество прослушиваний в Москве по пятницам\n",
    "\n",
    "number_tracks('Friday', 'Moscow')"
   ]
  },
  {
   "cell_type": "code",
   "execution_count": 26,
   "metadata": {
    "id": "8_yzFtW3_Zcu"
   },
   "outputs": [
    {
     "data": {
      "text/plain": [
       "city\n",
       "Saint-Petersburg    5895\n",
       "Name: user_id, dtype: int64"
      ]
     },
     "execution_count": 26,
     "metadata": {},
     "output_type": "execute_result"
    }
   ],
   "source": [
    "# количество прослушиваний в Санкт-Петербурге по пятницам\n",
    "\n",
    "number_tracks('Friday', 'Saint-Petersburg')"
   ]
  },
  {
   "cell_type": "markdown",
   "metadata": {
    "id": "7QXffbO-_Zcu"
   },
   "source": [
    "Создайте c помощью конструктора `pd.DataFrame` таблицу, где\n",
    "* названия колонок — `['city', 'monday', 'wednesday', 'friday']`;\n",
    "* данные — результаты, которые вы получили с помощью `number_tracks`."
   ]
  },
  {
   "cell_type": "code",
   "execution_count": 27,
   "metadata": {
    "id": "APAcLpOr_Zcu"
   },
   "outputs": [
    {
     "data": {
      "text/html": [
       "<div>\n",
       "<style scoped>\n",
       "    .dataframe tbody tr th:only-of-type {\n",
       "        vertical-align: middle;\n",
       "    }\n",
       "\n",
       "    .dataframe tbody tr th {\n",
       "        vertical-align: top;\n",
       "    }\n",
       "\n",
       "    .dataframe thead th {\n",
       "        text-align: right;\n",
       "    }\n",
       "</style>\n",
       "<table border=\"1\" class=\"dataframe\">\n",
       "  <thead>\n",
       "    <tr style=\"text-align: right;\">\n",
       "      <th></th>\n",
       "      <th>city</th>\n",
       "      <th>monday</th>\n",
       "      <th>wednesday</th>\n",
       "      <th>friday</th>\n",
       "    </tr>\n",
       "  </thead>\n",
       "  <tbody>\n",
       "    <tr>\n",
       "      <td>0</td>\n",
       "      <td>Moscow</td>\n",
       "      <td>15740</td>\n",
       "      <td>11056</td>\n",
       "      <td>15945</td>\n",
       "    </tr>\n",
       "    <tr>\n",
       "      <td>1</td>\n",
       "      <td>Saint-Petersburg</td>\n",
       "      <td>5614</td>\n",
       "      <td>7003</td>\n",
       "      <td>5895</td>\n",
       "    </tr>\n",
       "  </tbody>\n",
       "</table>\n",
       "</div>"
      ],
      "text/plain": [
       "               city  monday  wednesday  friday\n",
       "0            Moscow   15740      11056   15945\n",
       "1  Saint-Petersburg    5614       7003    5895"
      ]
     },
     "metadata": {},
     "output_type": "display_data"
    }
   ],
   "source": [
    "# Таблица с результатами\n",
    "\n",
    "columns_name = ['city', 'monday', 'wednesday', 'friday']\n",
    "data_number_tracks = [\n",
    "    ['Moscow', 15740, 11056, 15945],\n",
    "    ['Saint-Petersburg', 5614, 7003, 5895]\n",
    "]\n",
    "df_music = pd.DataFrame(data=data_number_tracks, columns=columns_name)\n",
    "\n",
    "display(df_music)"
   ]
  },
  {
   "cell_type": "markdown",
   "metadata": {
    "id": "-EgPIHYu_Zcu"
   },
   "source": [
    "**Выводы**\n",
    "\n",
    "Данные показывают разницу поведения пользователей:\n",
    "\n",
    "- В Москве пик прослушиваний приходится на понедельник и пятницу, а в среду заметен спад.\n",
    "- В Петербурге, наоборот, больше слушают музыку по средам. Активность в понедельник и пятницу здесь почти в равной мере уступает среде.\n",
    "\n",
    "Значит, данные говорят в пользу первой гипотезы."
   ]
  },
  {
   "cell_type": "markdown",
   "metadata": {
    "id": "atZAxtq4_Zcu"
   },
   "source": [
    "### Музыка в начале и в конце недели"
   ]
  },
  {
   "cell_type": "markdown",
   "metadata": {
    "id": "eXrQqXFH_Zcu"
   },
   "source": [
    "Согласно второй гипотезе, утром в понедельник в Москве преобладают одни жанры, а в Петербурге — другие. Так же и вечером пятницы преобладают разные жанры — в зависимости от города."
   ]
  },
  {
   "cell_type": "markdown",
   "metadata": {
    "id": "S8UcW6Hw_Zcu"
   },
   "source": [
    "Сохраните таблицы с данными в две переменные:\n",
    "* по Москве — в `moscow_general`;\n",
    "* по Санкт-Петербургу — в `spb_general`."
   ]
  },
  {
   "cell_type": "code",
   "execution_count": 28,
   "metadata": {
    "id": "qeaFfM_P_Zcu"
   },
   "outputs": [],
   "source": [
    "# получение таблицы moscow_general из тех строк таблицы df, \n",
    "# для которых значение в столбце 'city' равно 'Moscow'\n",
    "\n",
    "moscow_general = df[df['city'] == 'Moscow']"
   ]
  },
  {
   "cell_type": "code",
   "execution_count": 29,
   "metadata": {
    "id": "ORaVRKto_Zcu"
   },
   "outputs": [],
   "source": [
    "# получение таблицы spb_general из тех строк таблицы df,\n",
    "# для которых значение в столбце 'city' равно 'Saint-Petersburg'\n",
    "\n",
    "spb_general = df[df['city'] == 'Saint-Petersburg']"
   ]
  },
  {
   "cell_type": "markdown",
   "metadata": {
    "id": "MEJV-CX2_Zcu"
   },
   "source": [
    "Создайте функцию `genre_weekday()` с четырьмя параметрами:\n",
    "* таблица (датафрейм) с данными,\n",
    "* день недели,\n",
    "* начальная временная метка в формате 'hh:mm', \n",
    "* последняя временная метка в формате 'hh:mm'.\n",
    "\n",
    "Функция должна вернуть информацию о топ-10 жанров тех треков, которые прослушивали в указанный день, в промежутке между двумя отметками времени."
   ]
  },
  {
   "cell_type": "code",
   "execution_count": 30,
   "metadata": {
    "id": "laJT9BYl_Zcu"
   },
   "outputs": [],
   "source": [
    "# Объявление функции genre_weekday() с параметрами table, day, time1, time2,\n",
    "# которая возвращает информацию о самых популярных жанрах в указанный день в\n",
    "# заданное время:\n",
    "def genre_weekday(table, day, time1, time2):\n",
    "# 1) в переменную genre_df сохраняются те строки переданного датафрейма table, для\n",
    "#    которых одновременно:\n",
    "#    - значение в столбце day равно значению аргумента day\n",
    "    genre_df = table[table['day'] == day]\n",
    "#    - значение в столбце time больше значения аргумента time1\n",
    "    genre_df = genre_df[genre_df['time'] > time1]\n",
    "#    - значение в столбце time меньше значения аргумента time2\n",
    "    genre_df = genre_df[genre_df['time'] < time2]\n",
    "#    Используйте последовательную фильтрацию с помощью логической индексации.\n",
    "# 2) сгруппировать датафрейм genre_df по столбцу genre, взять один из его\n",
    "#    столбцов и посчитать методом count() количество записей для каждого из\n",
    "#    присутствующих жанров, получившийся Series записать в переменную\n",
    "#    genre_df_count\n",
    "    genre_df_count = genre_df.groupby('genre')['user_id'].count()\n",
    "# 3) отсортировать genre_df_count по убыванию встречаемости и сохранить\n",
    "#    в переменную genre_df_sorted\n",
    "    genre_df_sorted = genre_df_count.sort_values(ascending=False)\n",
    "# 4) вернуть Series из 10 первых значений genre_df_sorted, это будут топ-10\n",
    "#    популярных жанров (в указанный день, в заданное время)\n",
    "    return genre_df_sorted.head(10)"
   ]
  },
  {
   "cell_type": "markdown",
   "metadata": {
    "id": "la2s2_PF_Zcu"
   },
   "source": [
    "Cравните результаты функции `genre_weekday()` для Москвы и Санкт-Петербурга в понедельник утром (с 7:00 до 11:00) и в пятницу вечером (с 17:00 до 23:00):"
   ]
  },
  {
   "cell_type": "code",
   "execution_count": 31,
   "metadata": {
    "id": "yz7itPUQ_Zcu"
   },
   "outputs": [
    {
     "data": {
      "text/plain": [
       "genre\n",
       "pop            781\n",
       "dance          549\n",
       "electronic     480\n",
       "rock           474\n",
       "hiphop         286\n",
       "ruspop         186\n",
       "world          181\n",
       "rusrap         175\n",
       "alternative    164\n",
       "unknown        161\n",
       "Name: user_id, dtype: int64"
      ]
     },
     "execution_count": 31,
     "metadata": {},
     "output_type": "execute_result"
    }
   ],
   "source": [
    "# вызов функции для утра понедельника в Москве (вместо df — таблица moscow_general)\n",
    "# объекты, хранящие время, являются строками и сравниваются как строки\n",
    "# пример вызова: genre_weekday(moscow_general, 'Monday', '07:00', '11:00')\n",
    "\n",
    "genre_weekday(moscow_general, 'Monday', '07:00', '11:00')"
   ]
  },
  {
   "cell_type": "code",
   "execution_count": 32,
   "metadata": {
    "id": "kwUcHPdy_Zcu"
   },
   "outputs": [
    {
     "data": {
      "text/plain": [
       "genre\n",
       "pop            218\n",
       "dance          182\n",
       "rock           162\n",
       "electronic     147\n",
       "hiphop          80\n",
       "ruspop          64\n",
       "alternative     58\n",
       "rusrap          55\n",
       "jazz            44\n",
       "classical       40\n",
       "Name: user_id, dtype: int64"
      ]
     },
     "execution_count": 32,
     "metadata": {},
     "output_type": "execute_result"
    }
   ],
   "source": [
    "# вызов функции для утра понедельника в Петербурге (вместо df — таблица spb_general)\n",
    "\n",
    "genre_weekday(spb_general, 'Monday', '07:00', '11:00')"
   ]
  },
  {
   "cell_type": "code",
   "execution_count": 33,
   "metadata": {
    "id": "EzXVRE1o_Zcu"
   },
   "outputs": [
    {
     "data": {
      "text/plain": [
       "genre\n",
       "pop            713\n",
       "rock           517\n",
       "dance          495\n",
       "electronic     482\n",
       "hiphop         273\n",
       "world          208\n",
       "ruspop         170\n",
       "alternative    163\n",
       "classical      163\n",
       "rusrap         142\n",
       "Name: user_id, dtype: int64"
      ]
     },
     "execution_count": 33,
     "metadata": {},
     "output_type": "execute_result"
    }
   ],
   "source": [
    "# вызов функции для вечера пятницы в Москве\n",
    "\n",
    "genre_weekday(moscow_general, 'Friday', '17:00', '23:00')"
   ]
  },
  {
   "cell_type": "code",
   "execution_count": 34,
   "metadata": {
    "id": "JZaEKu5v_Zcu"
   },
   "outputs": [
    {
     "data": {
      "text/plain": [
       "genre\n",
       "pop            256\n",
       "rock           216\n",
       "electronic     216\n",
       "dance          210\n",
       "hiphop          97\n",
       "alternative     63\n",
       "jazz            61\n",
       "classical       60\n",
       "rusrap          59\n",
       "world           54\n",
       "Name: user_id, dtype: int64"
      ]
     },
     "execution_count": 34,
     "metadata": {},
     "output_type": "execute_result"
    }
   ],
   "source": [
    "# вызов функции для вечера пятницы в Петербурге\n",
    "\n",
    "genre_weekday(spb_general, 'Friday', '17:00', '23:00')"
   ]
  },
  {
   "cell_type": "markdown",
   "metadata": {
    "id": "wrCe4MNX_Zcu"
   },
   "source": [
    "**Выводы**\n",
    "\n",
    "Если сравнить топ-10 жанров в понедельник утром, можно сделать такие выводы:\n",
    "\n",
    "1. В Москве и Петербурге слушают похожую музыку. Единственное отличие — в московский рейтинг вошёл жанр “world”, а в петербургский — джаз и классика.\n",
    "\n",
    "2. В Москве пропущенных значений оказалось так много, что значение `'unknown'` заняло десятое место среди самых популярных жанров. Значит, пропущенные значения занимают существенную долю в данных и угрожают достоверности исследования.\n",
    "\n",
    "Вечер пятницы не меняет эту картину. Некоторые жанры поднимаются немного выше, другие спускаются, но в целом топ-10 остаётся тем же самым.\n",
    "\n",
    "Таким образом, вторая гипотеза подтвердилась лишь частично:\n",
    "* Пользователи слушают похожую музыку в начале недели и в конце.\n",
    "* Разница между Москвой и Петербургом не слишком выражена. В Москве чаще слушают русскую популярную музыку, в Петербурге — джаз.\n",
    "\n",
    "Однако пропуски в данных ставят под сомнение этот результат. В Москве их так много, что рейтинг топ-10 мог бы выглядеть иначе, если бы не утерянные  данные о жанрах."
   ]
  },
  {
   "cell_type": "markdown",
   "metadata": {
    "id": "JolODAqr_Zcu"
   },
   "source": [
    "### Жанровые предпочтения в Москве и Петербурге\n",
    "\n",
    "Гипотеза: Петербург — столица рэпа, музыку этого жанра там слушают чаще, чем в Москве.  А Москва — город контрастов, в котором, тем не менее, преобладает поп-музыка."
   ]
  },
  {
   "cell_type": "markdown",
   "metadata": {
    "id": "DlegSvaT_Zcu"
   },
   "source": [
    "Сгруппируйте таблицу `moscow_general` по жанру и посчитайте прослушивания треков каждого жанра методом `count()`. Затем отсортируйте результат в порядке убывания и сохраните его в таблице `moscow_genres`."
   ]
  },
  {
   "cell_type": "code",
   "execution_count": 35,
   "metadata": {
    "id": "r19lIPke_Zcu"
   },
   "outputs": [],
   "source": [
    "# одной строкой: группировка таблицы moscow_general по столбцу 'genre', \n",
    "# подсчёт числа значений 'genre' в этой группировке методом count(), \n",
    "# сортировка получившегося Series в порядке убывания и сохранение в moscow_genres\n",
    "\n",
    "moscow_genres = moscow_general.groupby('genre')['user_id'].count().sort_values(ascending=False)"
   ]
  },
  {
   "cell_type": "markdown",
   "metadata": {
    "id": "6kMuomxTiIr8"
   },
   "source": [
    "Выведите на экран первые десять строк `moscow_genres`:"
   ]
  },
  {
   "cell_type": "code",
   "execution_count": 36,
   "metadata": {
    "id": "WhCSooF8_Zcv"
   },
   "outputs": [
    {
     "data": {
      "text/plain": [
       "genre\n",
       "pop            5892\n",
       "dance          4435\n",
       "rock           3965\n",
       "electronic     3786\n",
       "hiphop         2096\n",
       "classical      1616\n",
       "world          1432\n",
       "alternative    1379\n",
       "ruspop         1372\n",
       "rusrap         1161\n",
       "Name: user_id, dtype: int64"
      ]
     },
     "metadata": {},
     "output_type": "display_data"
    }
   ],
   "source": [
    "# просмотр первых 10 строк moscow_genres\n",
    "\n",
    "display(moscow_genres.head(10))"
   ]
  },
  {
   "cell_type": "markdown",
   "metadata": {
    "id": "cnPG2vnN_Zcv"
   },
   "source": [
    "Теперь повторите то же и для Петербурга.\n",
    "\n",
    "Сгруппируйте таблицу `spb_general` по жанру. Посчитайте прослушивания треков каждого жанра. Результат отсортируйте в порядке убывания и сохраните в таблице `spb_genres`:\n"
   ]
  },
  {
   "cell_type": "code",
   "execution_count": 37,
   "metadata": {
    "id": "gluLIpE7_Zcv"
   },
   "outputs": [],
   "source": [
    "# одной строкой: группировка таблицы spb_general по столбцу 'genre', \n",
    "# подсчёт числа значений 'genre' в этой группировке методом count(), \n",
    "# сортировка получившегося Series в порядке убывания и сохранение в spb_genres\n",
    "\n",
    "spb_genres = spb_general.groupby('genre')['user_id'].count().sort_values(ascending=False)"
   ]
  },
  {
   "cell_type": "markdown",
   "metadata": {
    "id": "5Doha_ODgyQ8"
   },
   "source": [
    "Выведите на экран первые десять строк `spb_genres`:"
   ]
  },
  {
   "cell_type": "code",
   "execution_count": 38,
   "metadata": {
    "id": "uaGJHjVU_Zcv"
   },
   "outputs": [
    {
     "data": {
      "text/plain": [
       "genre\n",
       "pop            2431\n",
       "dance          1932\n",
       "rock           1879\n",
       "electronic     1736\n",
       "hiphop          960\n",
       "alternative     649\n",
       "classical       646\n",
       "rusrap          564\n",
       "ruspop          538\n",
       "world           515\n",
       "Name: user_id, dtype: int64"
      ]
     },
     "metadata": {},
     "output_type": "display_data"
    }
   ],
   "source": [
    "# просмотр первых 10 строк spb_genres\n",
    "\n",
    "display(spb_genres.head(10))"
   ]
  },
  {
   "cell_type": "markdown",
   "metadata": {
    "id": "RY51YJYu_Zcv"
   },
   "source": [
    "**Выводы**"
   ]
  },
  {
   "cell_type": "markdown",
   "metadata": {
    "id": "nVhnJEm__Zcv"
   },
   "source": [
    "Гипотеза частично подтвердилась:\n",
    "* Поп-музыка — самый популярный жанр в Москве, как и предполагала гипотеза. Более того, в топ-10 жанров встречается близкий жанр — русская популярная музыка.\n",
    "* Вопреки ожиданиям, рэп одинаково популярен в Москве и Петербурге. \n"
   ]
  },
  {
   "cell_type": "markdown",
   "metadata": {
    "id": "ykKQ0N65_Zcv"
   },
   "source": [
    "## Итоги исследования"
   ]
  },
  {
   "cell_type": "markdown",
   "metadata": {
    "id": "tjUwbHb3_Zcv"
   },
   "source": [
    "Вы проверили три гипотезы и установили:\n",
    "\n",
    "1. День недели по-разному влияет на активность пользователей в Москве и Петербурге. \n",
    "\n",
    "Первая гипотеза полностью подтвердилась.\n",
    "\n",
    "2. Музыкальные предпочтения не сильно меняются в течение недели — будь то Москва или Петербург. Небольшие различия заметны в начале недели, по понедельникам:\n",
    "* в Москве слушают музыку жанра “world”,\n",
    "* в Петербурге — джаз и классику.\n",
    "\n",
    "Таким образом, вторая гипотеза подтвердилась лишь отчасти. Этот результат мог оказаться иным, если бы не пропуски в данных.\n",
    "\n",
    "3. Во вкусах пользователей Москвы и Петербурга больше общего чем различий. Вопреки ожиданиям, предпочтения жанров в Петербурге напоминают московские.\n",
    "\n",
    "Третья гипотеза не подтвердилась. Если различия в предпочтениях и существуют, на основной массе пользователей они незаметны."
   ]
  }
 ],
 "metadata": {
  "ExecuteTimeLog": [
   {
    "duration": 530,
    "start_time": "2021-12-20T13:50:57.726Z"
   },
   {
    "duration": 2,
    "start_time": "2021-12-20T13:51:04.780Z"
   },
   {
    "duration": 134,
    "start_time": "2021-12-20T13:51:45.480Z"
   },
   {
    "duration": 14,
    "start_time": "2021-12-20T13:52:09.212Z"
   },
   {
    "duration": 9,
    "start_time": "2021-12-20T13:52:17.224Z"
   },
   {
    "duration": 10,
    "start_time": "2021-12-20T13:52:20.777Z"
   },
   {
    "duration": 24,
    "start_time": "2021-12-20T13:52:42.463Z"
   },
   {
    "duration": 3,
    "start_time": "2021-12-20T13:56:35.152Z"
   },
   {
    "duration": 21,
    "start_time": "2021-12-20T14:00:47.418Z"
   },
   {
    "duration": 5,
    "start_time": "2021-12-20T14:01:05.659Z"
   },
   {
    "duration": 3,
    "start_time": "2021-12-20T14:01:16.597Z"
   },
   {
    "duration": 3,
    "start_time": "2021-12-20T14:02:10.573Z"
   },
   {
    "duration": 22,
    "start_time": "2021-12-20T14:04:23.312Z"
   },
   {
    "duration": 55,
    "start_time": "2021-12-20T14:15:21.551Z"
   },
   {
    "duration": 56,
    "start_time": "2021-12-20T14:15:28.474Z"
   },
   {
    "duration": 16,
    "start_time": "2021-12-20T14:15:32.787Z"
   },
   {
    "duration": 22,
    "start_time": "2021-12-20T14:16:07.124Z"
   },
   {
    "duration": 56,
    "start_time": "2021-12-20T14:16:29.536Z"
   },
   {
    "duration": 52,
    "start_time": "2021-12-20T14:17:39.636Z"
   },
   {
    "duration": 53,
    "start_time": "2021-12-20T14:18:39.258Z"
   },
   {
    "duration": 68,
    "start_time": "2021-12-20T14:19:15.347Z"
   },
   {
    "duration": 52,
    "start_time": "2021-12-20T14:19:17.064Z"
   },
   {
    "duration": 55,
    "start_time": "2021-12-20T14:27:28.714Z"
   },
   {
    "duration": 6,
    "start_time": "2021-12-20T14:27:45.688Z"
   },
   {
    "duration": 41,
    "start_time": "2021-12-20T14:28:36.241Z"
   },
   {
    "duration": 38,
    "start_time": "2021-12-20T14:31:36.440Z"
   },
   {
    "duration": 4,
    "start_time": "2021-12-20T14:42:23.296Z"
   },
   {
    "duration": 4,
    "start_time": "2021-12-20T14:44:41.872Z"
   },
   {
    "duration": 5,
    "start_time": "2021-12-20T14:45:57.314Z"
   },
   {
    "duration": 5,
    "start_time": "2021-12-20T14:48:07.222Z"
   },
   {
    "duration": 3,
    "start_time": "2021-12-20T14:48:38.565Z"
   },
   {
    "duration": 14,
    "start_time": "2021-12-20T14:48:42.175Z"
   },
   {
    "duration": 4,
    "start_time": "2021-12-20T14:49:17.569Z"
   },
   {
    "duration": 4,
    "start_time": "2021-12-20T14:49:38.330Z"
   },
   {
    "duration": 48,
    "start_time": "2021-12-20T14:52:36.685Z"
   },
   {
    "duration": 1298,
    "start_time": "2021-12-20T14:53:21.201Z"
   },
   {
    "duration": 1272,
    "start_time": "2021-12-20T14:53:24.208Z"
   },
   {
    "duration": 40,
    "start_time": "2021-12-20T14:53:33.036Z"
   },
   {
    "duration": 4,
    "start_time": "2021-12-20T14:54:34.364Z"
   },
   {
    "duration": 41,
    "start_time": "2021-12-20T14:55:23.168Z"
   },
   {
    "duration": 3,
    "start_time": "2021-12-20T14:56:55.233Z"
   },
   {
    "duration": 4303,
    "start_time": "2021-12-20T14:56:56.952Z"
   },
   {
    "duration": -2615,
    "start_time": "2021-12-20T14:57:03.874Z"
   },
   {
    "duration": 3654,
    "start_time": "2021-12-20T14:58:44.324Z"
   },
   {
    "duration": 39,
    "start_time": "2021-12-20T14:58:48.426Z"
   },
   {
    "duration": 3,
    "start_time": "2021-12-20T14:59:19.167Z"
   },
   {
    "duration": 9,
    "start_time": "2021-12-20T14:59:20.286Z"
   },
   {
    "duration": 53,
    "start_time": "2021-12-20T14:59:25.274Z"
   },
   {
    "duration": 1354,
    "start_time": "2021-12-20T15:00:25.264Z"
   },
   {
    "duration": 1546,
    "start_time": "2021-12-20T15:00:26.917Z"
   },
   {
    "duration": 46,
    "start_time": "2021-12-20T15:00:33.352Z"
   },
   {
    "duration": 4,
    "start_time": "2021-12-20T15:00:43.510Z"
   },
   {
    "duration": 38,
    "start_time": "2021-12-20T15:00:54.589Z"
   },
   {
    "duration": 3,
    "start_time": "2021-12-20T15:00:59.763Z"
   },
   {
    "duration": 3842,
    "start_time": "2021-12-20T15:01:07.240Z"
   },
   {
    "duration": -2620,
    "start_time": "2021-12-20T15:01:13.704Z"
   },
   {
    "duration": 3,
    "start_time": "2021-12-20T15:01:15.548Z"
   },
   {
    "duration": 28,
    "start_time": "2021-12-20T15:01:18.720Z"
   },
   {
    "duration": 10,
    "start_time": "2021-12-20T15:01:21.818Z"
   },
   {
    "duration": 43,
    "start_time": "2021-12-20T15:01:24.476Z"
   },
   {
    "duration": 3,
    "start_time": "2021-12-20T15:01:30.592Z"
   },
   {
    "duration": 9,
    "start_time": "2021-12-20T15:01:31.665Z"
   },
   {
    "duration": 41,
    "start_time": "2021-12-20T15:01:32.969Z"
   },
   {
    "duration": 5,
    "start_time": "2021-12-20T15:04:00.967Z"
   },
   {
    "duration": 4,
    "start_time": "2021-12-20T15:04:22.460Z"
   },
   {
    "duration": 33,
    "start_time": "2021-12-20T15:04:50.576Z"
   },
   {
    "duration": 13,
    "start_time": "2021-12-20T15:06:55.742Z"
   },
   {
    "duration": 18,
    "start_time": "2021-12-20T15:08:58.817Z"
   },
   {
    "duration": 13,
    "start_time": "2021-12-20T15:10:35.038Z"
   },
   {
    "duration": 12,
    "start_time": "2021-12-20T15:11:32.278Z"
   },
   {
    "duration": 17,
    "start_time": "2021-12-20T15:11:41.700Z"
   },
   {
    "duration": 32,
    "start_time": "2021-12-20T15:11:59.326Z"
   },
   {
    "duration": 13,
    "start_time": "2021-12-20T15:12:10.670Z"
   },
   {
    "duration": 212,
    "start_time": "2021-12-20T15:22:57.185Z"
   },
   {
    "duration": 221,
    "start_time": "2021-12-20T15:24:51.405Z"
   },
   {
    "duration": 178,
    "start_time": "2021-12-20T15:27:53.609Z"
   },
   {
    "duration": 17,
    "start_time": "2021-12-20T15:29:39.426Z"
   },
   {
    "duration": 18,
    "start_time": "2021-12-20T15:29:43.176Z"
   },
   {
    "duration": 21,
    "start_time": "2021-12-20T15:30:32.735Z"
   },
   {
    "duration": 42,
    "start_time": "2021-12-20T15:31:07.729Z"
   },
   {
    "duration": 19,
    "start_time": "2021-12-20T15:32:39.516Z"
   },
   {
    "duration": 3,
    "start_time": "2021-12-20T15:33:20.213Z"
   },
   {
    "duration": 3,
    "start_time": "2021-12-20T15:33:22.461Z"
   },
   {
    "duration": 182,
    "start_time": "2021-12-20T15:34:19.496Z"
   },
   {
    "duration": 19,
    "start_time": "2021-12-20T15:34:26.514Z"
   },
   {
    "duration": 22,
    "start_time": "2021-12-20T15:35:54.201Z"
   },
   {
    "duration": 16,
    "start_time": "2021-12-20T15:35:54.927Z"
   },
   {
    "duration": 16,
    "start_time": "2021-12-20T15:35:55.536Z"
   },
   {
    "duration": 17,
    "start_time": "2021-12-20T15:35:56.191Z"
   },
   {
    "duration": 18,
    "start_time": "2021-12-20T15:35:57.403Z"
   },
   {
    "duration": 17,
    "start_time": "2021-12-20T15:35:58.061Z"
   },
   {
    "duration": 193,
    "start_time": "2021-12-20T15:39:14.976Z"
   },
   {
    "duration": 4,
    "start_time": "2021-12-20T15:43:48.714Z"
   },
   {
    "duration": 9,
    "start_time": "2021-12-20T15:44:10.507Z"
   },
   {
    "duration": 10,
    "start_time": "2021-12-20T15:46:21.466Z"
   },
   {
    "duration": 14,
    "start_time": "2021-12-20T15:46:46.229Z"
   },
   {
    "duration": 10,
    "start_time": "2021-12-20T15:46:46.536Z"
   },
   {
    "duration": 19,
    "start_time": "2021-12-20T15:46:58.139Z"
   },
   {
    "duration": 10,
    "start_time": "2021-12-20T15:47:16.073Z"
   },
   {
    "duration": 4,
    "start_time": "2021-12-20T15:58:14.404Z"
   },
   {
    "duration": 12,
    "start_time": "2021-12-20T15:58:38.813Z"
   },
   {
    "duration": 10,
    "start_time": "2021-12-20T15:58:39.472Z"
   },
   {
    "duration": 378,
    "start_time": "2021-12-20T15:59:25.025Z"
   },
   {
    "duration": 4,
    "start_time": "2021-12-20T16:00:05.385Z"
   },
   {
    "duration": 430,
    "start_time": "2021-12-20T16:00:06.815Z"
   },
   {
    "duration": 4,
    "start_time": "2021-12-20T16:01:20.484Z"
   },
   {
    "duration": 21,
    "start_time": "2021-12-20T16:01:22.339Z"
   },
   {
    "duration": 14,
    "start_time": "2021-12-20T16:02:48.066Z"
   },
   {
    "duration": 18,
    "start_time": "2021-12-20T16:03:38.873Z"
   },
   {
    "duration": 14,
    "start_time": "2021-12-20T16:04:30.610Z"
   },
   {
    "duration": 199,
    "start_time": "2021-12-20T16:07:37.182Z"
   },
   {
    "duration": 23,
    "start_time": "2021-12-20T16:08:43.441Z"
   },
   {
    "duration": 8,
    "start_time": "2021-12-20T16:09:10.496Z"
   },
   {
    "duration": 23,
    "start_time": "2021-12-20T16:11:29.465Z"
   },
   {
    "duration": 9,
    "start_time": "2021-12-20T16:11:30.744Z"
   },
   {
    "duration": 15,
    "start_time": "2021-12-20T16:12:27.775Z"
   },
   {
    "duration": 8,
    "start_time": "2021-12-20T16:12:28.712Z"
   },
   {
    "duration": 21,
    "start_time": "2021-12-20T16:13:12.969Z"
   },
   {
    "duration": 3,
    "start_time": "2021-12-20T16:14:25.716Z"
   },
   {
    "duration": 3,
    "start_time": "2021-12-20T16:14:44.869Z"
   },
   {
    "duration": 131,
    "start_time": "2021-12-20T16:14:45.608Z"
   },
   {
    "duration": 10,
    "start_time": "2021-12-20T16:14:52.849Z"
   },
   {
    "duration": 24,
    "start_time": "2021-12-20T16:15:02.973Z"
   },
   {
    "duration": 3,
    "start_time": "2021-12-20T16:15:19.462Z"
   },
   {
    "duration": 20,
    "start_time": "2021-12-20T16:15:28.766Z"
   },
   {
    "duration": 4,
    "start_time": "2021-12-20T16:15:36.591Z"
   },
   {
    "duration": 23,
    "start_time": "2021-12-20T16:15:51.151Z"
   },
   {
    "duration": 16,
    "start_time": "2021-12-20T16:16:03.937Z"
   },
   {
    "duration": 17,
    "start_time": "2021-12-20T16:16:07.957Z"
   },
   {
    "duration": 22,
    "start_time": "2021-12-20T16:16:15.215Z"
   },
   {
    "duration": 54,
    "start_time": "2021-12-20T16:16:31.688Z"
   },
   {
    "duration": 55,
    "start_time": "2021-12-20T16:16:39.769Z"
   },
   {
    "duration": 47,
    "start_time": "2021-12-20T16:16:48.740Z"
   },
   {
    "duration": 55,
    "start_time": "2021-12-20T16:17:03.692Z"
   },
   {
    "duration": 3,
    "start_time": "2021-12-20T16:17:18.448Z"
   },
   {
    "duration": 11,
    "start_time": "2021-12-20T16:17:28.258Z"
   },
   {
    "duration": 37,
    "start_time": "2021-12-20T16:17:37.628Z"
   },
   {
    "duration": 12,
    "start_time": "2021-12-20T16:17:50.126Z"
   },
   {
    "duration": 12,
    "start_time": "2021-12-20T16:17:58.782Z"
   },
   {
    "duration": 3,
    "start_time": "2021-12-20T16:19:37.249Z"
   },
   {
    "duration": 19,
    "start_time": "2021-12-20T16:19:49.737Z"
   },
   {
    "duration": 16,
    "start_time": "2021-12-20T16:19:58.275Z"
   },
   {
    "duration": 15,
    "start_time": "2021-12-20T16:20:08.198Z"
   },
   {
    "duration": 15,
    "start_time": "2021-12-20T16:20:15.576Z"
   },
   {
    "duration": 18,
    "start_time": "2021-12-20T16:20:23.384Z"
   },
   {
    "duration": 17,
    "start_time": "2021-12-20T16:20:29.603Z"
   },
   {
    "duration": 8,
    "start_time": "2021-12-20T16:20:47.017Z"
   },
   {
    "duration": 10,
    "start_time": "2021-12-20T16:21:07.084Z"
   },
   {
    "duration": 10,
    "start_time": "2021-12-20T16:21:15.059Z"
   },
   {
    "duration": 18,
    "start_time": "2021-12-20T16:21:30.742Z"
   },
   {
    "duration": 12,
    "start_time": "2021-12-20T16:21:40.480Z"
   },
   {
    "duration": 17,
    "start_time": "2021-12-20T16:21:47.451Z"
   },
   {
    "duration": 16,
    "start_time": "2021-12-20T16:21:54.186Z"
   },
   {
    "duration": 8,
    "start_time": "2021-12-20T16:22:00.626Z"
   },
   {
    "duration": 14,
    "start_time": "2021-12-20T16:22:03.308Z"
   },
   {
    "duration": 8,
    "start_time": "2021-12-20T16:22:04.822Z"
   },
   {
    "duration": 522,
    "start_time": "2021-12-20T16:37:33.555Z"
   },
   {
    "duration": 125,
    "start_time": "2021-12-20T16:37:34.079Z"
   },
   {
    "duration": 16,
    "start_time": "2021-12-20T16:37:34.206Z"
   },
   {
    "duration": 21,
    "start_time": "2021-12-20T16:37:34.224Z"
   },
   {
    "duration": 4,
    "start_time": "2021-12-20T16:37:34.247Z"
   },
   {
    "duration": 40,
    "start_time": "2021-12-20T16:37:34.252Z"
   },
   {
    "duration": 4,
    "start_time": "2021-12-20T16:37:34.293Z"
   },
   {
    "duration": 24,
    "start_time": "2021-12-20T16:37:34.298Z"
   },
   {
    "duration": 16,
    "start_time": "2021-12-20T16:37:34.324Z"
   },
   {
    "duration": 25,
    "start_time": "2021-12-20T16:37:34.342Z"
   },
   {
    "duration": 76,
    "start_time": "2021-12-20T16:37:34.368Z"
   },
   {
    "duration": 69,
    "start_time": "2021-12-20T16:37:34.446Z"
   },
   {
    "duration": 48,
    "start_time": "2021-12-20T16:37:34.516Z"
   },
   {
    "duration": 51,
    "start_time": "2021-12-20T16:37:34.565Z"
   },
   {
    "duration": 3,
    "start_time": "2021-12-20T16:37:34.617Z"
   },
   {
    "duration": 11,
    "start_time": "2021-12-20T16:37:34.622Z"
   },
   {
    "duration": 38,
    "start_time": "2021-12-20T16:37:34.635Z"
   },
   {
    "duration": 11,
    "start_time": "2021-12-20T16:37:34.692Z"
   },
   {
    "duration": 11,
    "start_time": "2021-12-20T16:37:34.704Z"
   },
   {
    "duration": 4,
    "start_time": "2021-12-20T16:37:34.716Z"
   },
   {
    "duration": 21,
    "start_time": "2021-12-20T16:37:34.722Z"
   },
   {
    "duration": 13,
    "start_time": "2021-12-20T16:37:34.745Z"
   },
   {
    "duration": 43,
    "start_time": "2021-12-20T16:37:34.759Z"
   },
   {
    "duration": 13,
    "start_time": "2021-12-20T16:37:34.803Z"
   },
   {
    "duration": 16,
    "start_time": "2021-12-20T16:37:34.817Z"
   },
   {
    "duration": 14,
    "start_time": "2021-12-20T16:37:34.834Z"
   },
   {
    "duration": 7,
    "start_time": "2021-12-20T16:37:34.851Z"
   },
   {
    "duration": 40,
    "start_time": "2021-12-20T16:37:34.860Z"
   },
   {
    "duration": 8,
    "start_time": "2021-12-20T16:37:34.901Z"
   },
   {
    "duration": 4,
    "start_time": "2021-12-20T16:37:34.911Z"
   },
   {
    "duration": 23,
    "start_time": "2021-12-20T16:37:34.916Z"
   },
   {
    "duration": 11,
    "start_time": "2021-12-20T16:37:34.941Z"
   },
   {
    "duration": 38,
    "start_time": "2021-12-20T16:37:34.954Z"
   },
   {
    "duration": 12,
    "start_time": "2021-12-20T16:37:34.994Z"
   },
   {
    "duration": 21,
    "start_time": "2021-12-20T16:37:35.008Z"
   },
   {
    "duration": 7,
    "start_time": "2021-12-20T16:37:35.030Z"
   },
   {
    "duration": 14,
    "start_time": "2021-12-20T16:37:35.039Z"
   },
   {
    "duration": 38,
    "start_time": "2021-12-20T16:37:35.055Z"
   },
   {
    "duration": 719,
    "start_time": "2021-12-21T12:17:03.409Z"
   },
   {
    "duration": 157,
    "start_time": "2021-12-21T12:17:04.130Z"
   },
   {
    "duration": 20,
    "start_time": "2021-12-21T12:17:04.290Z"
   },
   {
    "duration": 62,
    "start_time": "2021-12-21T12:17:04.312Z"
   },
   {
    "duration": 4,
    "start_time": "2021-12-21T12:17:04.375Z"
   },
   {
    "duration": 26,
    "start_time": "2021-12-21T12:17:04.381Z"
   },
   {
    "duration": 9,
    "start_time": "2021-12-21T12:17:04.409Z"
   },
   {
    "duration": 43,
    "start_time": "2021-12-21T12:17:04.421Z"
   },
   {
    "duration": 20,
    "start_time": "2021-12-21T12:17:04.467Z"
   },
   {
    "duration": 26,
    "start_time": "2021-12-21T12:17:04.490Z"
   },
   {
    "duration": 104,
    "start_time": "2021-12-21T12:17:04.518Z"
   },
   {
    "duration": 85,
    "start_time": "2021-12-21T12:17:04.624Z"
   },
   {
    "duration": 82,
    "start_time": "2021-12-21T12:17:04.711Z"
   },
   {
    "duration": 50,
    "start_time": "2021-12-21T12:17:04.795Z"
   },
   {
    "duration": 4,
    "start_time": "2021-12-21T12:17:04.860Z"
   },
   {
    "duration": 13,
    "start_time": "2021-12-21T12:17:04.866Z"
   },
   {
    "duration": 66,
    "start_time": "2021-12-21T12:17:04.881Z"
   },
   {
    "duration": 27,
    "start_time": "2021-12-21T12:17:04.949Z"
   },
   {
    "duration": 12,
    "start_time": "2021-12-21T12:17:04.979Z"
   },
   {
    "duration": 4,
    "start_time": "2021-12-21T12:17:04.993Z"
   },
   {
    "duration": 34,
    "start_time": "2021-12-21T12:17:04.999Z"
   },
   {
    "duration": 35,
    "start_time": "2021-12-21T12:17:05.035Z"
   },
   {
    "duration": 22,
    "start_time": "2021-12-21T12:17:05.075Z"
   },
   {
    "duration": 18,
    "start_time": "2021-12-21T12:17:05.099Z"
   },
   {
    "duration": 54,
    "start_time": "2021-12-21T12:17:05.119Z"
   },
   {
    "duration": 26,
    "start_time": "2021-12-21T12:17:05.175Z"
   },
   {
    "duration": 12,
    "start_time": "2021-12-21T12:17:05.204Z"
   },
   {
    "duration": 21,
    "start_time": "2021-12-21T12:17:05.218Z"
   },
   {
    "duration": 14,
    "start_time": "2021-12-21T12:17:05.261Z"
   },
   {
    "duration": 6,
    "start_time": "2021-12-21T12:17:05.277Z"
   },
   {
    "duration": 34,
    "start_time": "2021-12-21T12:17:05.285Z"
   },
   {
    "duration": 26,
    "start_time": "2021-12-21T12:17:05.321Z"
   },
   {
    "duration": 30,
    "start_time": "2021-12-21T12:17:05.349Z"
   },
   {
    "duration": 18,
    "start_time": "2021-12-21T12:17:05.381Z"
   },
   {
    "duration": 37,
    "start_time": "2021-12-21T12:17:05.401Z"
   },
   {
    "duration": 8,
    "start_time": "2021-12-21T12:17:05.461Z"
   },
   {
    "duration": 18,
    "start_time": "2021-12-21T12:17:05.471Z"
   },
   {
    "duration": 8,
    "start_time": "2021-12-21T12:17:05.491Z"
   },
   {
    "duration": 320,
    "start_time": "2021-12-21T12:17:27.196Z"
   },
   {
    "duration": 12,
    "start_time": "2021-12-21T12:17:44.225Z"
   },
   {
    "duration": 317,
    "start_time": "2021-12-21T12:17:51.041Z"
   },
   {
    "duration": 261,
    "start_time": "2021-12-21T12:17:57.148Z"
   },
   {
    "duration": 16,
    "start_time": "2021-12-21T12:18:01.867Z"
   },
   {
    "duration": 601,
    "start_time": "2021-12-21T12:19:35.813Z"
   },
   {
    "duration": 155,
    "start_time": "2021-12-21T12:19:36.415Z"
   },
   {
    "duration": 17,
    "start_time": "2021-12-21T12:19:36.572Z"
   },
   {
    "duration": 36,
    "start_time": "2021-12-21T12:19:36.591Z"
   },
   {
    "duration": 5,
    "start_time": "2021-12-21T12:19:36.629Z"
   },
   {
    "duration": 37,
    "start_time": "2021-12-21T12:19:36.636Z"
   },
   {
    "duration": 7,
    "start_time": "2021-12-21T12:19:36.675Z"
   },
   {
    "duration": 36,
    "start_time": "2021-12-21T12:19:36.683Z"
   },
   {
    "duration": 40,
    "start_time": "2021-12-21T12:19:36.723Z"
   },
   {
    "duration": 29,
    "start_time": "2021-12-21T12:19:36.766Z"
   },
   {
    "duration": 89,
    "start_time": "2021-12-21T12:19:36.797Z"
   },
   {
    "duration": 105,
    "start_time": "2021-12-21T12:19:36.888Z"
   },
   {
    "duration": 66,
    "start_time": "2021-12-21T12:19:36.996Z"
   },
   {
    "duration": 44,
    "start_time": "2021-12-21T12:19:37.064Z"
   },
   {
    "duration": 3,
    "start_time": "2021-12-21T12:19:37.110Z"
   },
   {
    "duration": 15,
    "start_time": "2021-12-21T12:19:37.115Z"
   },
   {
    "duration": 64,
    "start_time": "2021-12-21T12:19:37.132Z"
   },
   {
    "duration": 15,
    "start_time": "2021-12-21T12:19:37.198Z"
   },
   {
    "duration": 11,
    "start_time": "2021-12-21T12:19:37.215Z"
   },
   {
    "duration": 4,
    "start_time": "2021-12-21T12:19:37.228Z"
   },
   {
    "duration": 48,
    "start_time": "2021-12-21T12:19:37.234Z"
   },
   {
    "duration": 17,
    "start_time": "2021-12-21T12:19:37.284Z"
   },
   {
    "duration": 17,
    "start_time": "2021-12-21T12:19:37.302Z"
   },
   {
    "duration": 48,
    "start_time": "2021-12-21T12:19:37.321Z"
   },
   {
    "duration": 18,
    "start_time": "2021-12-21T12:19:37.371Z"
   },
   {
    "duration": 20,
    "start_time": "2021-12-21T12:19:37.391Z"
   },
   {
    "duration": 8,
    "start_time": "2021-12-21T12:19:37.414Z"
   },
   {
    "duration": 43,
    "start_time": "2021-12-21T12:19:37.425Z"
   },
   {
    "duration": 12,
    "start_time": "2021-12-21T12:19:37.470Z"
   },
   {
    "duration": 5,
    "start_time": "2021-12-21T12:19:37.484Z"
   },
   {
    "duration": 27,
    "start_time": "2021-12-21T12:19:37.491Z"
   },
   {
    "duration": 13,
    "start_time": "2021-12-21T12:19:37.519Z"
   },
   {
    "duration": 40,
    "start_time": "2021-12-21T12:19:37.534Z"
   },
   {
    "duration": 13,
    "start_time": "2021-12-21T12:19:37.575Z"
   },
   {
    "duration": 27,
    "start_time": "2021-12-21T12:19:37.590Z"
   },
   {
    "duration": 9,
    "start_time": "2021-12-21T12:19:37.619Z"
   },
   {
    "duration": 16,
    "start_time": "2021-12-21T12:19:37.661Z"
   },
   {
    "duration": 10,
    "start_time": "2021-12-21T12:19:37.679Z"
   },
   {
    "duration": 610,
    "start_time": "2021-12-21T13:32:10.338Z"
   },
   {
    "duration": 388,
    "start_time": "2021-12-21T13:32:39.807Z"
   },
   {
    "duration": 378,
    "start_time": "2021-12-21T13:33:06.313Z"
   },
   {
    "duration": 923,
    "start_time": "2021-12-21T13:34:09.572Z"
   },
   {
    "duration": -2326,
    "start_time": "2021-12-21T13:34:12.824Z"
   },
   {
    "duration": 381,
    "start_time": "2021-12-21T13:34:13.387Z"
   },
   {
    "duration": 1157,
    "start_time": "2021-12-21T13:34:24.255Z"
   },
   {
    "duration": 217,
    "start_time": "2021-12-21T13:34:25.416Z"
   },
   {
    "duration": 36,
    "start_time": "2021-12-21T13:34:25.636Z"
   },
   {
    "duration": 53,
    "start_time": "2021-12-21T13:34:25.675Z"
   },
   {
    "duration": 31,
    "start_time": "2021-12-21T13:34:25.732Z"
   },
   {
    "duration": 32,
    "start_time": "2021-12-21T13:34:25.767Z"
   },
   {
    "duration": 9,
    "start_time": "2021-12-21T13:34:25.802Z"
   },
   {
    "duration": 87,
    "start_time": "2021-12-21T13:34:25.816Z"
   },
   {
    "duration": 200,
    "start_time": "2021-12-21T13:34:25.907Z"
   },
   {
    "duration": 48,
    "start_time": "2021-12-21T13:34:26.110Z"
   },
   {
    "duration": 134,
    "start_time": "2021-12-21T13:34:26.161Z"
   },
   {
    "duration": 119,
    "start_time": "2021-12-21T13:34:26.299Z"
   },
   {
    "duration": 97,
    "start_time": "2021-12-21T13:34:26.421Z"
   },
   {
    "duration": 69,
    "start_time": "2021-12-21T13:34:26.521Z"
   },
   {
    "duration": 4,
    "start_time": "2021-12-21T13:34:26.593Z"
   },
   {
    "duration": 19,
    "start_time": "2021-12-21T13:34:26.600Z"
   },
   {
    "duration": 86,
    "start_time": "2021-12-21T13:34:26.622Z"
   },
   {
    "duration": 22,
    "start_time": "2021-12-21T13:34:26.711Z"
   },
   {
    "duration": 17,
    "start_time": "2021-12-21T13:34:26.759Z"
   },
   {
    "duration": 7,
    "start_time": "2021-12-21T13:34:26.779Z"
   },
   {
    "duration": 76,
    "start_time": "2021-12-21T13:34:26.789Z"
   },
   {
    "duration": 39,
    "start_time": "2021-12-21T13:34:26.868Z"
   },
   {
    "duration": 59,
    "start_time": "2021-12-21T13:34:26.913Z"
   },
   {
    "duration": 24,
    "start_time": "2021-12-21T13:34:26.975Z"
   },
   {
    "duration": 66,
    "start_time": "2021-12-21T13:34:27.003Z"
   },
   {
    "duration": 36,
    "start_time": "2021-12-21T13:34:27.072Z"
   },
   {
    "duration": 19,
    "start_time": "2021-12-21T13:34:27.112Z"
   },
   {
    "duration": 44,
    "start_time": "2021-12-21T13:34:27.134Z"
   },
   {
    "duration": 17,
    "start_time": "2021-12-21T13:34:27.181Z"
   },
   {
    "duration": 5,
    "start_time": "2021-12-21T13:34:27.200Z"
   },
   {
    "duration": 68,
    "start_time": "2021-12-21T13:34:27.208Z"
   },
   {
    "duration": 61,
    "start_time": "2021-12-21T13:34:27.279Z"
   },
   {
    "duration": 40,
    "start_time": "2021-12-21T13:34:27.343Z"
   },
   {
    "duration": 24,
    "start_time": "2021-12-21T13:34:27.397Z"
   },
   {
    "duration": 35,
    "start_time": "2021-12-21T13:34:27.426Z"
   },
   {
    "duration": 11,
    "start_time": "2021-12-21T13:34:27.464Z"
   },
   {
    "duration": 20,
    "start_time": "2021-12-21T13:34:27.477Z"
   },
   {
    "duration": 9,
    "start_time": "2021-12-21T13:34:27.500Z"
   },
   {
    "duration": 13,
    "start_time": "2021-12-21T13:34:33.870Z"
   },
   {
    "duration": 7,
    "start_time": "2021-12-21T13:34:35.817Z"
   },
   {
    "duration": 991,
    "start_time": "2021-12-21T14:00:05.888Z"
   },
   {
    "duration": 190,
    "start_time": "2021-12-21T14:00:06.882Z"
   },
   {
    "duration": 28,
    "start_time": "2021-12-21T14:00:07.076Z"
   },
   {
    "duration": 55,
    "start_time": "2021-12-21T14:00:07.107Z"
   },
   {
    "duration": 7,
    "start_time": "2021-12-21T14:00:07.165Z"
   },
   {
    "duration": 28,
    "start_time": "2021-12-21T14:00:07.175Z"
   },
   {
    "duration": 6,
    "start_time": "2021-12-21T14:00:07.206Z"
   },
   {
    "duration": 64,
    "start_time": "2021-12-21T14:00:07.218Z"
   },
   {
    "duration": 24,
    "start_time": "2021-12-21T14:00:07.285Z"
   },
   {
    "duration": 54,
    "start_time": "2021-12-21T14:00:07.312Z"
   },
   {
    "duration": 103,
    "start_time": "2021-12-21T14:00:07.368Z"
   },
   {
    "duration": 110,
    "start_time": "2021-12-21T14:00:07.473Z"
   },
   {
    "duration": 91,
    "start_time": "2021-12-21T14:00:07.585Z"
   },
   {
    "duration": 57,
    "start_time": "2021-12-21T14:00:07.679Z"
   },
   {
    "duration": 21,
    "start_time": "2021-12-21T14:00:07.739Z"
   },
   {
    "duration": 24,
    "start_time": "2021-12-21T14:00:07.762Z"
   },
   {
    "duration": 58,
    "start_time": "2021-12-21T14:00:07.788Z"
   },
   {
    "duration": 15,
    "start_time": "2021-12-21T14:00:07.860Z"
   },
   {
    "duration": 14,
    "start_time": "2021-12-21T14:00:07.877Z"
   },
   {
    "duration": 6,
    "start_time": "2021-12-21T14:00:07.893Z"
   },
   {
    "duration": 65,
    "start_time": "2021-12-21T14:00:07.901Z"
   },
   {
    "duration": 26,
    "start_time": "2021-12-21T14:00:07.968Z"
   },
   {
    "duration": 23,
    "start_time": "2021-12-21T14:00:07.999Z"
   },
   {
    "duration": 30,
    "start_time": "2021-12-21T14:00:08.058Z"
   },
   {
    "duration": 24,
    "start_time": "2021-12-21T14:00:08.091Z"
   },
   {
    "duration": 55,
    "start_time": "2021-12-21T14:00:08.117Z"
   },
   {
    "duration": 16,
    "start_time": "2021-12-21T14:00:08.175Z"
   },
   {
    "duration": 22,
    "start_time": "2021-12-21T14:00:08.194Z"
   },
   {
    "duration": 43,
    "start_time": "2021-12-21T14:00:08.219Z"
   },
   {
    "duration": 7,
    "start_time": "2021-12-21T14:00:08.265Z"
   },
   {
    "duration": 29,
    "start_time": "2021-12-21T14:00:08.275Z"
   },
   {
    "duration": 19,
    "start_time": "2021-12-21T14:00:08.306Z"
   },
   {
    "duration": 25,
    "start_time": "2021-12-21T14:00:08.360Z"
   },
   {
    "duration": 59,
    "start_time": "2021-12-21T14:00:08.388Z"
   },
   {
    "duration": 12,
    "start_time": "2021-12-21T14:00:08.450Z"
   },
   {
    "duration": 7,
    "start_time": "2021-12-21T14:00:08.464Z"
   },
   {
    "duration": 11,
    "start_time": "2021-12-21T14:00:08.474Z"
   },
   {
    "duration": 7,
    "start_time": "2021-12-21T14:00:08.488Z"
   },
   {
    "duration": 799,
    "start_time": "2021-12-21T14:05:11.856Z"
   },
   {
    "duration": 200,
    "start_time": "2021-12-21T14:05:12.658Z"
   },
   {
    "duration": 30,
    "start_time": "2021-12-21T14:05:12.861Z"
   },
   {
    "duration": 72,
    "start_time": "2021-12-21T14:05:12.895Z"
   },
   {
    "duration": 6,
    "start_time": "2021-12-21T14:05:12.970Z"
   },
   {
    "duration": 34,
    "start_time": "2021-12-21T14:05:12.979Z"
   },
   {
    "duration": 6,
    "start_time": "2021-12-21T14:05:13.017Z"
   },
   {
    "duration": 35,
    "start_time": "2021-12-21T14:05:13.060Z"
   },
   {
    "duration": 27,
    "start_time": "2021-12-21T14:05:13.098Z"
   },
   {
    "duration": 50,
    "start_time": "2021-12-21T14:05:13.128Z"
   },
   {
    "duration": 101,
    "start_time": "2021-12-21T14:05:13.181Z"
   },
   {
    "duration": 114,
    "start_time": "2021-12-21T14:05:13.285Z"
   },
   {
    "duration": 82,
    "start_time": "2021-12-21T14:05:13.401Z"
   },
   {
    "duration": 75,
    "start_time": "2021-12-21T14:05:13.485Z"
   },
   {
    "duration": 4,
    "start_time": "2021-12-21T14:05:13.563Z"
   },
   {
    "duration": 21,
    "start_time": "2021-12-21T14:05:13.570Z"
   },
   {
    "duration": 77,
    "start_time": "2021-12-21T14:05:13.593Z"
   },
   {
    "duration": 16,
    "start_time": "2021-12-21T14:05:13.672Z"
   },
   {
    "duration": 14,
    "start_time": "2021-12-21T14:05:13.690Z"
   },
   {
    "duration": 5,
    "start_time": "2021-12-21T14:05:13.707Z"
   },
   {
    "duration": 62,
    "start_time": "2021-12-21T14:05:13.714Z"
   },
   {
    "duration": 30,
    "start_time": "2021-12-21T14:05:13.779Z"
   },
   {
    "duration": 51,
    "start_time": "2021-12-21T14:05:13.816Z"
   },
   {
    "duration": 38,
    "start_time": "2021-12-21T14:05:13.870Z"
   },
   {
    "duration": 51,
    "start_time": "2021-12-21T14:05:13.912Z"
   },
   {
    "duration": 25,
    "start_time": "2021-12-21T14:05:13.966Z"
   },
   {
    "duration": 11,
    "start_time": "2021-12-21T14:05:13.993Z"
   },
   {
    "duration": 22,
    "start_time": "2021-12-21T14:05:14.007Z"
   },
   {
    "duration": 38,
    "start_time": "2021-12-21T14:05:14.031Z"
   },
   {
    "duration": 5,
    "start_time": "2021-12-21T14:05:14.072Z"
   },
   {
    "duration": 43,
    "start_time": "2021-12-21T14:05:14.080Z"
   },
   {
    "duration": 18,
    "start_time": "2021-12-21T14:05:14.160Z"
   },
   {
    "duration": 23,
    "start_time": "2021-12-21T14:05:14.180Z"
   },
   {
    "duration": 17,
    "start_time": "2021-12-21T14:05:14.206Z"
   },
   {
    "duration": 42,
    "start_time": "2021-12-21T14:05:14.225Z"
   },
   {
    "duration": 7,
    "start_time": "2021-12-21T14:05:14.269Z"
   },
   {
    "duration": 9,
    "start_time": "2021-12-21T14:05:14.278Z"
   },
   {
    "duration": 5,
    "start_time": "2021-12-21T14:05:14.290Z"
   },
   {
    "duration": 683,
    "start_time": "2021-12-21T14:43:58.786Z"
   },
   {
    "duration": 170,
    "start_time": "2021-12-21T14:43:59.472Z"
   },
   {
    "duration": 23,
    "start_time": "2021-12-21T14:43:59.644Z"
   },
   {
    "duration": 27,
    "start_time": "2021-12-21T14:43:59.669Z"
   },
   {
    "duration": 5,
    "start_time": "2021-12-21T14:43:59.698Z"
   },
   {
    "duration": 24,
    "start_time": "2021-12-21T14:43:59.705Z"
   },
   {
    "duration": 31,
    "start_time": "2021-12-21T14:43:59.732Z"
   },
   {
    "duration": 32,
    "start_time": "2021-12-21T14:43:59.765Z"
   },
   {
    "duration": 17,
    "start_time": "2021-12-21T14:43:59.800Z"
   },
   {
    "duration": 53,
    "start_time": "2021-12-21T14:43:59.820Z"
   },
   {
    "duration": 63,
    "start_time": "2021-12-21T14:43:59.875Z"
   },
   {
    "duration": 96,
    "start_time": "2021-12-21T14:43:59.940Z"
   },
   {
    "duration": 81,
    "start_time": "2021-12-21T14:44:00.038Z"
   },
   {
    "duration": 50,
    "start_time": "2021-12-21T14:44:00.121Z"
   },
   {
    "duration": 4,
    "start_time": "2021-12-21T14:44:00.173Z"
   },
   {
    "duration": 21,
    "start_time": "2021-12-21T14:44:00.178Z"
   },
   {
    "duration": 48,
    "start_time": "2021-12-21T14:44:00.201Z"
   },
   {
    "duration": 16,
    "start_time": "2021-12-21T14:44:00.251Z"
   },
   {
    "duration": 15,
    "start_time": "2021-12-21T14:44:00.269Z"
   },
   {
    "duration": 3,
    "start_time": "2021-12-21T14:44:00.287Z"
   },
   {
    "duration": 33,
    "start_time": "2021-12-21T14:44:00.292Z"
   },
   {
    "duration": 48,
    "start_time": "2021-12-21T14:44:00.327Z"
   },
   {
    "duration": 18,
    "start_time": "2021-12-21T14:44:00.377Z"
   },
   {
    "duration": 17,
    "start_time": "2021-12-21T14:44:00.397Z"
   },
   {
    "duration": 50,
    "start_time": "2021-12-21T14:44:00.416Z"
   },
   {
    "duration": 17,
    "start_time": "2021-12-21T14:44:00.468Z"
   },
   {
    "duration": 12,
    "start_time": "2021-12-21T14:44:00.490Z"
   },
   {
    "duration": 12,
    "start_time": "2021-12-21T14:44:00.505Z"
   },
   {
    "duration": 44,
    "start_time": "2021-12-21T14:44:00.519Z"
   },
   {
    "duration": 5,
    "start_time": "2021-12-21T14:44:00.565Z"
   },
   {
    "duration": 27,
    "start_time": "2021-12-21T14:44:00.572Z"
   },
   {
    "duration": 14,
    "start_time": "2021-12-21T14:44:00.600Z"
   },
   {
    "duration": 44,
    "start_time": "2021-12-21T14:44:00.616Z"
   },
   {
    "duration": 17,
    "start_time": "2021-12-21T14:44:00.662Z"
   },
   {
    "duration": 12,
    "start_time": "2021-12-21T14:44:00.682Z"
   },
   {
    "duration": 5,
    "start_time": "2021-12-21T14:44:00.696Z"
   },
   {
    "duration": 12,
    "start_time": "2021-12-21T14:44:00.703Z"
   },
   {
    "duration": 9,
    "start_time": "2021-12-21T14:44:00.717Z"
   },
   {
    "duration": 815,
    "start_time": "2021-12-21T15:17:47.306Z"
   },
   {
    "duration": 200,
    "start_time": "2021-12-21T15:17:48.124Z"
   },
   {
    "duration": 40,
    "start_time": "2021-12-21T15:17:48.327Z"
   },
   {
    "duration": 36,
    "start_time": "2021-12-21T15:17:48.370Z"
   },
   {
    "duration": 10,
    "start_time": "2021-12-21T15:17:48.408Z"
   },
   {
    "duration": 49,
    "start_time": "2021-12-21T15:17:48.420Z"
   },
   {
    "duration": 15,
    "start_time": "2021-12-21T15:17:48.471Z"
   },
   {
    "duration": 43,
    "start_time": "2021-12-21T15:17:48.490Z"
   },
   {
    "duration": 28,
    "start_time": "2021-12-21T15:17:48.536Z"
   },
   {
    "duration": 36,
    "start_time": "2021-12-21T15:17:48.568Z"
   },
   {
    "duration": 112,
    "start_time": "2021-12-21T15:17:48.607Z"
   },
   {
    "duration": 117,
    "start_time": "2021-12-21T15:17:48.721Z"
   },
   {
    "duration": 81,
    "start_time": "2021-12-21T15:17:48.841Z"
   },
   {
    "duration": 65,
    "start_time": "2021-12-21T15:17:48.924Z"
   },
   {
    "duration": 5,
    "start_time": "2021-12-21T15:17:48.992Z"
   },
   {
    "duration": 21,
    "start_time": "2021-12-21T15:17:48.999Z"
   },
   {
    "duration": 86,
    "start_time": "2021-12-21T15:17:49.022Z"
   },
   {
    "duration": 16,
    "start_time": "2021-12-21T15:17:49.111Z"
   },
   {
    "duration": 37,
    "start_time": "2021-12-21T15:17:49.129Z"
   },
   {
    "duration": 5,
    "start_time": "2021-12-21T15:17:49.168Z"
   },
   {
    "duration": 36,
    "start_time": "2021-12-21T15:17:49.176Z"
   },
   {
    "duration": 44,
    "start_time": "2021-12-21T15:17:49.216Z"
   },
   {
    "duration": 24,
    "start_time": "2021-12-21T15:17:49.267Z"
   },
   {
    "duration": 22,
    "start_time": "2021-12-21T15:17:49.294Z"
   },
   {
    "duration": 62,
    "start_time": "2021-12-21T15:17:49.319Z"
   },
   {
    "duration": 21,
    "start_time": "2021-12-21T15:17:49.384Z"
   },
   {
    "duration": 12,
    "start_time": "2021-12-21T15:17:49.407Z"
   },
   {
    "duration": 45,
    "start_time": "2021-12-21T15:17:49.421Z"
   },
   {
    "duration": 17,
    "start_time": "2021-12-21T15:17:49.469Z"
   },
   {
    "duration": 5,
    "start_time": "2021-12-21T15:17:49.489Z"
   },
   {
    "duration": 62,
    "start_time": "2021-12-21T15:17:49.496Z"
   },
   {
    "duration": 28,
    "start_time": "2021-12-21T15:17:49.560Z"
   },
   {
    "duration": 29,
    "start_time": "2021-12-21T15:17:49.590Z"
   },
   {
    "duration": 18,
    "start_time": "2021-12-21T15:17:49.622Z"
   },
   {
    "duration": 23,
    "start_time": "2021-12-21T15:17:49.642Z"
   },
   {
    "duration": 7,
    "start_time": "2021-12-21T15:17:49.667Z"
   },
   {
    "duration": 18,
    "start_time": "2021-12-21T15:17:49.676Z"
   },
   {
    "duration": 7,
    "start_time": "2021-12-21T15:17:49.696Z"
   },
   {
    "duration": 807,
    "start_time": "2021-12-22T11:36:29.506Z"
   },
   {
    "duration": 191,
    "start_time": "2021-12-22T11:36:30.316Z"
   },
   {
    "duration": 30,
    "start_time": "2021-12-22T11:36:30.510Z"
   },
   {
    "duration": 55,
    "start_time": "2021-12-22T11:36:30.543Z"
   },
   {
    "duration": 13,
    "start_time": "2021-12-22T11:36:30.600Z"
   },
   {
    "duration": 31,
    "start_time": "2021-12-22T11:36:30.616Z"
   },
   {
    "duration": 19,
    "start_time": "2021-12-22T11:36:30.650Z"
   },
   {
    "duration": 42,
    "start_time": "2021-12-22T11:36:30.672Z"
   },
   {
    "duration": 29,
    "start_time": "2021-12-22T11:36:30.718Z"
   },
   {
    "duration": 47,
    "start_time": "2021-12-22T11:36:30.749Z"
   },
   {
    "duration": 101,
    "start_time": "2021-12-22T11:36:30.798Z"
   },
   {
    "duration": 113,
    "start_time": "2021-12-22T11:36:30.901Z"
   },
   {
    "duration": 92,
    "start_time": "2021-12-22T11:36:31.016Z"
   },
   {
    "duration": 64,
    "start_time": "2021-12-22T11:36:31.111Z"
   },
   {
    "duration": 10,
    "start_time": "2021-12-22T11:36:31.178Z"
   },
   {
    "duration": 19,
    "start_time": "2021-12-22T11:36:31.191Z"
   },
   {
    "duration": 82,
    "start_time": "2021-12-22T11:36:31.212Z"
   },
   {
    "duration": 21,
    "start_time": "2021-12-22T11:36:31.297Z"
   },
   {
    "duration": 16,
    "start_time": "2021-12-22T11:36:31.320Z"
   },
   {
    "duration": 28,
    "start_time": "2021-12-22T11:36:31.339Z"
   },
   {
    "duration": 24,
    "start_time": "2021-12-22T11:36:31.370Z"
   },
   {
    "duration": 22,
    "start_time": "2021-12-22T11:36:31.397Z"
   },
   {
    "duration": 56,
    "start_time": "2021-12-22T11:36:31.423Z"
   },
   {
    "duration": 36,
    "start_time": "2021-12-22T11:36:31.482Z"
   },
   {
    "duration": 37,
    "start_time": "2021-12-22T11:36:31.521Z"
   },
   {
    "duration": 30,
    "start_time": "2021-12-22T11:36:31.561Z"
   },
   {
    "duration": 13,
    "start_time": "2021-12-22T11:36:31.593Z"
   },
   {
    "duration": 28,
    "start_time": "2021-12-22T11:36:31.609Z"
   },
   {
    "duration": 34,
    "start_time": "2021-12-22T11:36:31.639Z"
   },
   {
    "duration": 6,
    "start_time": "2021-12-22T11:36:31.675Z"
   },
   {
    "duration": 34,
    "start_time": "2021-12-22T11:36:31.684Z"
   },
   {
    "duration": 18,
    "start_time": "2021-12-22T11:36:31.720Z"
   },
   {
    "duration": 22,
    "start_time": "2021-12-22T11:36:31.768Z"
   },
   {
    "duration": 16,
    "start_time": "2021-12-22T11:36:31.793Z"
   },
   {
    "duration": 12,
    "start_time": "2021-12-22T11:36:31.812Z"
   },
   {
    "duration": 42,
    "start_time": "2021-12-22T11:36:31.827Z"
   },
   {
    "duration": 10,
    "start_time": "2021-12-22T11:36:31.871Z"
   },
   {
    "duration": 9,
    "start_time": "2021-12-22T11:36:31.883Z"
   }
  ],
  "colab": {
   "collapsed_sections": [
    "E0vqbgi9ay0H",
    "VUC88oWjTJw2"
   ],
   "name": "yandex_music_project_2021.2.ipynb",
   "provenance": []
  },
  "kernelspec": {
   "display_name": "Python 3 (ipykernel)",
   "language": "python",
   "name": "python3"
  },
  "language_info": {
   "codemirror_mode": {
    "name": "ipython",
    "version": 3
   },
   "file_extension": ".py",
   "mimetype": "text/x-python",
   "name": "python",
   "nbconvert_exporter": "python",
   "pygments_lexer": "ipython3",
   "version": "3.9.5"
  },
  "toc": {
   "base_numbering": 1,
   "nav_menu": {},
   "number_sections": true,
   "sideBar": true,
   "skip_h1_title": true,
   "title_cell": "Table of Contents",
   "title_sidebar": "Contents",
   "toc_cell": false,
   "toc_position": {
    "height": "calc(100% - 180px)",
    "left": "10px",
    "top": "150px",
    "width": "366.391px"
   },
   "toc_section_display": true,
   "toc_window_display": true
  }
 },
 "nbformat": 4,
 "nbformat_minor": 1
}
